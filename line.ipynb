{
 "cells": [
  {
   "cell_type": "code",
   "execution_count": 2,
   "metadata": {},
   "outputs": [
    {
     "name": "stderr",
     "output_type": "stream",
     "text": [
      "Exception in Tkinter callback\n",
      "Traceback (most recent call last):\n",
      "  File \"e:\\Python\\Lib\\tkinter\\__init__.py\", line 1948, in __call__\n",
      "    return self.func(*args)\n",
      "           ^^^^^^^^^^^^^^^^\n",
      "  File \"e:\\Python\\Lib\\tkinter\\__init__.py\", line 861, in callit\n",
      "    func(*args)\n",
      "  File \"C:\\Users\\34691\\AppData\\Local\\Temp\\ipykernel_15552\\3978630193.py\", line 41, in check_key\n",
      "    check_esc()\n",
      "  File \"C:\\Users\\34691\\AppData\\Local\\Temp\\ipykernel_15552\\3978630193.py\", line 37, in check_esc\n",
      "    root.destroy()  # 销毁窗口\n",
      "    ^^^^^^^^^^^^^^\n",
      "  File \"e:\\Python\\Lib\\tkinter\\__init__.py\", line 2368, in destroy\n",
      "    self.tk.call('destroy', self._w)\n",
      "_tkinter.TclError: can't invoke \"destroy\" command: application has been destroyed\n"
     ]
    }
   ],
   "source": [
    "import tkinter as tk\n",
    "import keyboard  # 需要安装这个库\n",
    "\n",
    "def draw_line():\n",
    "    # 创建主窗口\n",
    "    root = tk.Tk()\n",
    "    root.attributes(\"-topmost\", True)  # 确保窗口置于最前端\n",
    "    root.overrideredirect(1)  # 移除窗口装饰\n",
    "\n",
    "    screen_width = root.winfo_screenwidth()\n",
    "    screen_height = root.winfo_screenheight()\n",
    "\n",
    "    # 获取默认的背景颜色\n",
    "    default_bg = root.cget('bg')\n",
    "\n",
    "    # 设置透明颜色\n",
    "    root.attributes('-transparentcolor', default_bg)\n",
    "\n",
    "    # 设置直线的位置\n",
    "    first_line_height = 210  # 第一条直线距离屏幕顶部200像素\n",
    "    second_line_height = 245  # 第二条直线距离屏幕顶部400像素\n",
    "\n",
    "    # 创建画布\n",
    "    canvas = tk.Canvas(root, height=screen_height, width=screen_width, highlightthickness=0, bg=default_bg)\n",
    "    canvas.pack()\n",
    "\n",
    "    # 绘制第一条直线\n",
    "    canvas.create_line(0, first_line_height, screen_width, first_line_height, fill=\"red\")  # 直线的坐标和颜色\n",
    "\n",
    "    # 绘制第二条直线\n",
    "    canvas.create_line(0, second_line_height, screen_width, second_line_height, fill=\"red\")  # 直线的坐标和颜色\n",
    "\n",
    "    # 检测'ESC'按键\n",
    "    def check_esc():\n",
    "        if keyboard.is_pressed('esc'):  # 如果按下'ESC'键\n",
    "            root.quit()  # 退出tkinter主循环\n",
    "            root.destroy()  # 销毁窗口\n",
    "\n",
    "    # 每100ms检查一次是否按下'ESC'键\n",
    "    def check_key():\n",
    "        check_esc()\n",
    "        root.after(100, check_key)\n",
    "\n",
    "    root.after(100, check_key)\n",
    "    root.mainloop()\n",
    "\n",
    "if __name__ == \"__main__\":\n",
    "    draw_line()\n"
   ]
  }
 ],
 "metadata": {
  "kernelspec": {
   "display_name": "Python 3",
   "language": "python",
   "name": "python3"
  },
  "language_info": {
   "codemirror_mode": {
    "name": "ipython",
    "version": 3
   },
   "file_extension": ".py",
   "mimetype": "text/x-python",
   "name": "python",
   "nbconvert_exporter": "python",
   "pygments_lexer": "ipython3",
   "version": "3.11.5"
  }
 },
 "nbformat": 4,
 "nbformat_minor": 2
}
