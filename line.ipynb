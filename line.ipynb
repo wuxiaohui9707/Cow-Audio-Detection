{
 "cells": [
  {
   "cell_type": "code",
   "execution_count": 1,
   "metadata": {},
   "outputs": [
    {
     "ename": "TclError",
     "evalue": "bad attribute \"-transparentcolor\": must be -alpha, -topmost, -zoomed, -fullscreen, or -type",
     "output_type": "error",
     "traceback": [
      "\u001b[0;31m---------------------------------------------------------------------------\u001b[0m",
      "\u001b[0;31mTclError\u001b[0m                                  Traceback (most recent call last)",
      "\u001b[1;32m/mnt/e/Files/Github/Cow-Audio-Detection/line.ipynb 单元格 1\u001b[0m line \u001b[0;36m5\n\u001b[1;32m     <a href='vscode-notebook-cell://wsl%2Bubuntu-20.04/mnt/e/Files/Github/Cow-Audio-Detection/line.ipynb#W0sdnNjb2RlLXJlbW90ZQ%3D%3D?line=51'>52</a>\u001b[0m     root\u001b[39m.\u001b[39mmainloop()\n\u001b[1;32m     <a href='vscode-notebook-cell://wsl%2Bubuntu-20.04/mnt/e/Files/Github/Cow-Audio-Detection/line.ipynb#W0sdnNjb2RlLXJlbW90ZQ%3D%3D?line=53'>54</a>\u001b[0m \u001b[39mif\u001b[39;00m \u001b[39m__name__\u001b[39m \u001b[39m==\u001b[39m \u001b[39m\"\u001b[39m\u001b[39m__main__\u001b[39m\u001b[39m\"\u001b[39m:\n\u001b[0;32m---> <a href='vscode-notebook-cell://wsl%2Bubuntu-20.04/mnt/e/Files/Github/Cow-Audio-Detection/line.ipynb#W0sdnNjb2RlLXJlbW90ZQ%3D%3D?line=54'>55</a>\u001b[0m     draw_line()\n",
      "\u001b[1;32m/mnt/e/Files/Github/Cow-Audio-Detection/line.ipynb 单元格 1\u001b[0m line \u001b[0;36m1\n\u001b[1;32m     <a href='vscode-notebook-cell://wsl%2Bubuntu-20.04/mnt/e/Files/Github/Cow-Audio-Detection/line.ipynb#W0sdnNjb2RlLXJlbW90ZQ%3D%3D?line=13'>14</a>\u001b[0m default_bg \u001b[39m=\u001b[39m root\u001b[39m.\u001b[39mcget(\u001b[39m'\u001b[39m\u001b[39mbg\u001b[39m\u001b[39m'\u001b[39m)\n\u001b[1;32m     <a href='vscode-notebook-cell://wsl%2Bubuntu-20.04/mnt/e/Files/Github/Cow-Audio-Detection/line.ipynb#W0sdnNjb2RlLXJlbW90ZQ%3D%3D?line=15'>16</a>\u001b[0m \u001b[39m# 设置透明颜色\u001b[39;00m\n\u001b[0;32m---> <a href='vscode-notebook-cell://wsl%2Bubuntu-20.04/mnt/e/Files/Github/Cow-Audio-Detection/line.ipynb#W0sdnNjb2RlLXJlbW90ZQ%3D%3D?line=16'>17</a>\u001b[0m root\u001b[39m.\u001b[39;49mattributes(\u001b[39m'\u001b[39;49m\u001b[39m-transparentcolor\u001b[39;49m\u001b[39m'\u001b[39;49m, default_bg)\n\u001b[1;32m     <a href='vscode-notebook-cell://wsl%2Bubuntu-20.04/mnt/e/Files/Github/Cow-Audio-Detection/line.ipynb#W0sdnNjb2RlLXJlbW90ZQ%3D%3D?line=18'>19</a>\u001b[0m \u001b[39m# 设置直线的位置\u001b[39;00m\n\u001b[1;32m     <a href='vscode-notebook-cell://wsl%2Bubuntu-20.04/mnt/e/Files/Github/Cow-Audio-Detection/line.ipynb#W0sdnNjb2RlLXJlbW90ZQ%3D%3D?line=19'>20</a>\u001b[0m first_line_height \u001b[39m=\u001b[39m \u001b[39m340\u001b[39m  \n",
      "File \u001b[0;32m~/miniconda3/envs/myenv/lib/python3.8/tkinter/__init__.py:1976\u001b[0m, in \u001b[0;36mWm.wm_attributes\u001b[0;34m(self, *args)\u001b[0m\n\u001b[1;32m   1958\u001b[0m \u001b[39m\u001b[39m\u001b[39m\"\"\"This subcommand returns or sets platform specific attributes\u001b[39;00m\n\u001b[1;32m   1959\u001b[0m \n\u001b[1;32m   1960\u001b[0m \u001b[39mThe first form returns a list of the platform specific flags and\u001b[39;00m\n\u001b[0;32m   (...)\u001b[0m\n\u001b[1;32m   1973\u001b[0m \u001b[39mOn Unix, there are currently no special attribute values.\u001b[39;00m\n\u001b[1;32m   1974\u001b[0m \u001b[39m\"\"\"\u001b[39;00m\n\u001b[1;32m   1975\u001b[0m args \u001b[39m=\u001b[39m (\u001b[39m'\u001b[39m\u001b[39mwm\u001b[39m\u001b[39m'\u001b[39m, \u001b[39m'\u001b[39m\u001b[39mattributes\u001b[39m\u001b[39m'\u001b[39m, \u001b[39mself\u001b[39m\u001b[39m.\u001b[39m_w) \u001b[39m+\u001b[39m args\n\u001b[0;32m-> 1976\u001b[0m \u001b[39mreturn\u001b[39;00m \u001b[39mself\u001b[39;49m\u001b[39m.\u001b[39;49mtk\u001b[39m.\u001b[39;49mcall(args)\n",
      "\u001b[0;31mTclError\u001b[0m: bad attribute \"-transparentcolor\": must be -alpha, -topmost, -zoomed, -fullscreen, or -type"
     ]
    }
   ],
   "source": [
    "import tkinter as tk\n",
    "import keyboard  # 需要安装这个库\n",
    "\n",
    "def draw_line():\n",
    "    # 创建主窗口\n",
    "    root = tk.Tk()\n",
    "    root.attributes(\"-topmost\", True)  # 确保窗口置于最前端\n",
    "    root.overrideredirect(1)  # 移除窗口装饰\n",
    "\n",
    "    screen_width = root.winfo_screenwidth()\n",
    "    screen_height = root.winfo_screenheight()\n",
    "\n",
    "    # 获取默认的背景颜色\n",
    "    default_bg = root.cget('bg')\n",
    "\n",
    "    # 设置透明颜色\n",
    "    root.attributes('-transparentcolor', default_bg)\n",
    "\n",
    "    # 设置直线的位置\n",
    "    first_line_height = 340  \n",
    "    second_line_height = 440  \n",
    "    #thrid_line_height = 370\n",
    "    #forth_line_height = 410\n",
    "\n",
    "    # 创建画布\n",
    "    canvas = tk.Canvas(root, height=screen_height, width=screen_width, highlightthickness=0, bg=default_bg)\n",
    "    canvas.pack()\n",
    "\n",
    "    # 绘制第一条直线\n",
    "    canvas.create_line(0, first_line_height, screen_width, first_line_height, fill=\"red\")  # 直线的坐标和颜色\n",
    "\n",
    "    # 绘制第二条直线\n",
    "    canvas.create_line(0, second_line_height, screen_width, second_line_height, fill=\"red\")  # 直线的坐标和颜色\n",
    "\n",
    "    #canvas.create_line(0, thrid_line_height, screen_width, thrid_line_height, fill=\"red\") \n",
    "    \n",
    "    #canvas.create_line(0, forth_line_height, screen_width, forth_line_height, fill=\"red\") \n",
    "    \n",
    "\n",
    "    # 检测'ESC'按键\n",
    "    def check_esc():\n",
    "        if keyboard.is_pressed('esc'):  # 如果按下'ESC'键\n",
    "            root.quit()  # 退出tkinter主循环\n",
    "            root.destroy()  # 销毁窗口\n",
    "\n",
    "    # 每100ms检查一次是否按下'ESC'键\n",
    "    def check_key():\n",
    "        check_esc()\n",
    "        root.after(100, check_key)\n",
    "\n",
    "    root.after(100, check_key)\n",
    "    root.mainloop()\n",
    "\n",
    "if __name__ == \"__main__\":\n",
    "    draw_line()\n"
   ]
  }
 ],
 "metadata": {
  "kernelspec": {
   "display_name": "Python 3",
   "language": "python",
   "name": "python3"
  },
  "language_info": {
   "codemirror_mode": {
    "name": "ipython",
    "version": 3
   },
   "file_extension": ".py",
   "mimetype": "text/x-python",
   "name": "python",
   "nbconvert_exporter": "python",
   "pygments_lexer": "ipython3",
   "version": "3.8.18"
  }
 },
 "nbformat": 4,
 "nbformat_minor": 2
}
