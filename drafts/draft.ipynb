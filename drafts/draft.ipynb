{
 "cells": [
  {
   "cell_type": "code",
   "execution_count": 4,
   "metadata": {},
   "outputs": [
    {
     "ename": "SyntaxError",
     "evalue": "positional argument follows keyword argument (1172051915.py, line 16)",
     "output_type": "error",
     "traceback": [
      "\u001b[1;36m  Cell \u001b[1;32mIn[4], line 16\u001b[1;36m\u001b[0m\n\u001b[1;33m    TMC.audio_analysis_train_and_classify(training_dirs, mt_win =1, mt_step=1,s_win=0.1,s_step=0.05,model_name, classifier_type, test_audio_file, segments_file)\u001b[0m\n\u001b[1;37m                                                                                                                                                               ^\u001b[0m\n\u001b[1;31mSyntaxError\u001b[0m\u001b[1;31m:\u001b[0m positional argument follows keyword argument\n"
     ]
    }
   ],
   "source": [
    "from utils import Train_Model_and_Classify as TMC\n",
    "import os\n",
    "\n",
    "\n",
    "# 示例用法\n",
    "training_dirs = [\n",
    "    os.path.join('E:/Files', 'Acoustic Data', 'Ruminating'), \n",
    "    os.path.join('E:/Files', 'Acoustic Data', 'Gulp'),\n",
    "    os.path.join('E:/Files', 'Acoustic Data', 'Breath')\n",
    "] \n",
    "model_name = \"svm_Ruminating_Gulp_Breath\"\n",
    "classifier_type = \"svm_rbf\"\n",
    "test_audio_file = os.path.join('E:/Files', 'Acoustic Data', 'Test', '2min_new.wav')\n",
    "segments_file = os.path.join('E:/Files', 'Acoustic Data', 'Test', '2min_new.segments')\n",
    "\n",
    "TMC.audio_analysis_train_and_classify(training_dirs, mt_win =1, mt_step=1,s_win=0.1,s_step=0.05, model_name, classifier_type, test_audio_file, segments_file)\n"
   ]
  },
  {
   "cell_type": "code",
   "execution_count": 2,
   "metadata": {},
   "outputs": [
    {
     "name": "stdout",
     "output_type": "stream",
     "text": [
      "Help on function mid_term_file_classification in module pyAudioAnalysis.audioSegmentation:\n",
      "\n",
      "mid_term_file_classification(input_file, model_name, model_type, plot_results=False, gt_file='')\n",
      "    This function performs mid-term classification of an audio stream.\n",
      "    Towards this end, supervised knowledge is used,\n",
      "    i.e. a pre-trained classifier.\n",
      "    ARGUMENTS:\n",
      "        - input_file:        path of the input WAV file\n",
      "        - model_name:        name of the classification model\n",
      "        - model_type:        svm or knn depending on the classifier type\n",
      "        - plot_results:      True if results are to be plotted using\n",
      "                             matplotlib along with a set of statistics\n",
      "    \n",
      "    RETURNS:\n",
      "          - segs:           a sequence of segment's endpoints: segs[i] is the\n",
      "                            endpoint of the i-th segment (in seconds)\n",
      "          - classes:        a sequence of class flags: class[i] is the\n",
      "                            class ID of the i-th segment\n",
      "\n"
     ]
    },
    {
     "name": "stderr",
     "output_type": "stream",
     "text": [
      "E:\\Python\\Lib\\site-packages\\pyAudioAnalysis\\..\\pydub\\utils.py:170: RuntimeWarning: Couldn't find ffmpeg or avconv - defaulting to ffmpeg, but may not work\n",
      "  warn(\"Couldn't find ffmpeg or avconv - defaulting to ffmpeg, but may not work\", RuntimeWarning)\n"
     ]
    }
   ],
   "source": [
    "from pyAudioAnalysis.audioSegmentation import mid_term_file_classification\n",
    "help(mid_term_file_classification)"
   ]
  }
 ],
 "metadata": {
  "kernelspec": {
   "display_name": "Python 3",
   "language": "python",
   "name": "python3"
  },
  "language_info": {
   "codemirror_mode": {
    "name": "ipython",
    "version": 3
   },
   "file_extension": ".py",
   "mimetype": "text/x-python",
   "name": "python",
   "nbconvert_exporter": "python",
   "pygments_lexer": "ipython3",
   "version": "3.11.5"
  }
 },
 "nbformat": 4,
 "nbformat_minor": 2
}
