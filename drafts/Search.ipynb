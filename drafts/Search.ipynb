{
 "cells": [
  {
   "cell_type": "code",
   "execution_count": 9,
   "metadata": {},
   "outputs": [
    {
     "name": "stdout",
     "output_type": "stream",
     "text": [
      "The segment matches with E:/Files\\Acoustic Data\\1min_parts\\output_segment_231.wav\n"
     ]
    }
   ],
   "source": [
    "import librosa\n",
    "import numpy as np\n",
    "import os\n",
    "\n",
    "def extract_mfccs(audio_file):\n",
    "    y, sr = librosa.load(audio_file)\n",
    "    mfccs = librosa.feature.mfcc(y=y, sr=sr, n_mfcc=13)\n",
    "    return np.mean(mfccs, axis=1)  # 使用平均值作为简化\n",
    "\n",
    "def euclidean_distance(vec1, vec2):\n",
    "    return np.linalg.norm(vec1 - vec2)\n",
    "\n",
    "segment_audio_file = os.path.join('E:/Files','Acoustic Data', 'Test','1min.wav')\n",
    "segment_mfccs = extract_mfccs(segment_audio_file)\n",
    "original_audios_path = os.path.join('E:/Files','Acoustic Data', '1min_parts')\n",
    "original_audios = [os.path.join(original_audios_path, f) for f in os.listdir(original_audios_path) if f.endswith('.wav')]\n",
    "distances = {}\n",
    "for audio in original_audios:\n",
    "    audio_mfccs = extract_mfccs(audio)\n",
    "    distance = euclidean_distance(segment_mfccs, audio_mfccs)\n",
    "    distances[audio] = distance\n",
    "\n",
    "matched_audio = min(distances, key=distances.get)\n",
    "print(f\"The segment matches with {matched_audio}\")\n",
    "\n"
   ]
  }
 ],
 "metadata": {
  "kernelspec": {
   "display_name": "Python 3",
   "language": "python",
   "name": "python3"
  },
  "language_info": {
   "codemirror_mode": {
    "name": "ipython",
    "version": 3
   },
   "file_extension": ".py",
   "mimetype": "text/x-python",
   "name": "python",
   "nbconvert_exporter": "python",
   "pygments_lexer": "ipython3",
   "version": "3.11.5"
  }
 },
 "nbformat": 4,
 "nbformat_minor": 2
}
