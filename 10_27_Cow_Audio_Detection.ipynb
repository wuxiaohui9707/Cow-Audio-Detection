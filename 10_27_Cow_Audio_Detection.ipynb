{
 "cells": [
  {
   "cell_type": "code",
   "execution_count": 1,
   "metadata": {},
   "outputs": [
    {
     "name": "stderr",
     "output_type": "stream",
     "text": [
      "/home/wuxiaohui9707/miniconda3/envs/myenv/lib/python3.8/site-packages/pyannote/audio/core/io.py:43: UserWarning: torchaudio._backend.set_audio_backend has been deprecated. With dispatcher enabled, this function is no-op. You can remove the function call.\n",
      "  torchaudio.set_audio_backend(\"soundfile\")\n",
      "/home/wuxiaohui9707/miniconda3/envs/myenv/lib/python3.8/site-packages/torch_audiomentations/utils/io.py:27: UserWarning: torchaudio._backend.set_audio_backend has been deprecated. With dispatcher enabled, this function is no-op. You can remove the function call.\n",
      "  torchaudio.set_audio_backend(\"soundfile\")\n",
      "torchvision is not available - cannot save figures\n"
     ]
    }
   ],
   "source": [
    "from pyannote.core import Annotation\n",
    "from pyannote.pipeline import Optimizer\n",
    "from pyannote.metrics.detection import DetectionErrorRate\n",
    "from pyannote.database import registry, get_protocol, FileFinder\n",
    "from pyannote.audio.tasks import VoiceActivityDetection\n",
    "from pyannote.audio.models.segmentation import PyanNet\n",
    "from pyannote.audio import Inference\n",
    "from pyannote.audio.pipelines import VoiceActivityDetection as VoiceActivityDetectionPipeline\n",
    "from utils import Get_RTTM\n",
    "import pytorch_lightning as pl\n",
    "import os"
   ]
  },
  {
   "cell_type": "code",
   "execution_count": 2,
   "metadata": {},
   "outputs": [
    {
     "name": "stdout",
     "output_type": "stream",
     "text": [
      "'My_datasets.SpeakerDiarization.Detection' found in /mnt/e/Files/Acoustic_Data/Datasets/yaml/My_Databases.yml does not define the 'scope' of speaker labels (file, database, or global). Setting it to 'file'.\n"
     ]
    }
   ],
   "source": [
    "# Load database and set environment variable\n",
    "registry.load_database(\n",
    "    os.path.join('/mnt/', 'e', 'Files', 'Acoustic_Data', 'Datasets', 'yaml','My_Databases.yml')\n",
    ")\n",
    "os.environ[\"PYANNOTE_DATABASE_CONFIG\"] = os.path.join('/mnt/', 'e', 'Files', 'Acoustic_Data', 'Datasets','yaml', 'My_Databases.yml')"
   ]
  },
  {
   "cell_type": "code",
   "execution_count": 3,
   "metadata": {},
   "outputs": [],
   "source": [
    "# Get protocol and initial training file\n",
    "preprocessors = {\"audio\": FileFinder()}\n",
    "cow_audio = get_protocol('My_datasets.SpeakerDiarization.Detection', preprocessors=preprocessors)\n",
    "first_training_file = next(cow_audio.train())"
   ]
  },
  {
   "cell_type": "code",
   "execution_count": 4,
   "metadata": {},
   "outputs": [
    {
     "name": "stdout",
     "output_type": "stream",
     "text": [
      "Protocol My_datasets.SpeakerDiarization.Detection does not precompute the output of torchaudio.info(): adding a 'torchaudio.info' preprocessor for you to speed up dataloaders. See pyannote.database documentation on how to do that yourself.\n"
     ]
    },
    {
     "name": "stderr",
     "output_type": "stream",
     "text": [
      "GPU available: True (cuda), used: True\n",
      "TPU available: False, using: 0 TPU cores\n",
      "IPU available: False, using: 0 IPUs\n",
      "HPU available: False, using: 0 HPUs\n",
      "You are using a CUDA device ('NVIDIA GeForce RTX 4060') that has Tensor Cores. To properly utilize them, you should set `torch.set_float32_matmul_precision('medium' | 'high')` which will trade-off precision for performance. For more details, read https://pytorch.org/docs/stable/generated/torch.set_float32_matmul_precision.html#torch.set_float32_matmul_precision\n",
      "LOCAL_RANK: 0 - CUDA_VISIBLE_DEVICES: [0]\n",
      "\n",
      "  | Name              | Type             | Params | In sizes      | Out sizes                                 \n",
      "--------------------------------------------------------------------------------------------------------------------\n",
      "0 | sincnet           | SincNet          | 42.6 K | [1, 1, 24000] | [1, 60, 86]                               \n",
      "1 | lstm              | LSTM             | 589 K  | [1, 86, 60]   | [[1, 86, 256], [[4, 1, 128], [4, 1, 128]]]\n",
      "2 | linear            | ModuleList       | 49.4 K | ?             | ?                                         \n",
      "3 | classifier        | Linear           | 129    | [1, 86, 128]  | [1, 86, 1]                                \n",
      "4 | activation        | Sigmoid          | 0      | [1, 86, 1]    | [1, 86, 1]                                \n",
      "5 | validation_metric | MetricCollection | 0      | ?             | ?                                         \n",
      "--------------------------------------------------------------------------------------------------------------------\n",
      "681 K     Trainable params\n",
      "0         Non-trainable params\n",
      "681 K     Total params\n",
      "2.728     Total estimated model params size (MB)\n"
     ]
    },
    {
     "data": {
      "application/vnd.jupyter.widget-view+json": {
       "model_id": "07575b87526b431fb378da7f9d126317",
       "version_major": 2,
       "version_minor": 0
      },
      "text/plain": [
       "Sanity Checking: |          | 0/? [00:00<?, ?it/s]"
      ]
     },
     "metadata": {},
     "output_type": "display_data"
    },
    {
     "data": {
      "application/vnd.jupyter.widget-view+json": {
       "model_id": "b742ee3cc5294ad7adb58916d8d28043",
       "version_major": 2,
       "version_minor": 0
      },
      "text/plain": [
       "Training: |          | 0/? [00:00<?, ?it/s]"
      ]
     },
     "metadata": {},
     "output_type": "display_data"
    },
    {
     "data": {
      "application/vnd.jupyter.widget-view+json": {
       "model_id": "af0a60a4341d4a3e9a293bff5a9b885b",
       "version_major": 2,
       "version_minor": 0
      },
      "text/plain": [
       "Validation: |          | 0/? [00:00<?, ?it/s]"
      ]
     },
     "metadata": {},
     "output_type": "display_data"
    },
    {
     "data": {
      "application/vnd.jupyter.widget-view+json": {
       "model_id": "20263e64d97345e582bd6e733f38691e",
       "version_major": 2,
       "version_minor": 0
      },
      "text/plain": [
       "Validation: |          | 0/? [00:00<?, ?it/s]"
      ]
     },
     "metadata": {},
     "output_type": "display_data"
    },
    {
     "data": {
      "application/vnd.jupyter.widget-view+json": {
       "model_id": "22fc324a7c7545a4a7b984f6eba278be",
       "version_major": 2,
       "version_minor": 0
      },
      "text/plain": [
       "Validation: |          | 0/? [00:00<?, ?it/s]"
      ]
     },
     "metadata": {},
     "output_type": "display_data"
    },
    {
     "data": {
      "application/vnd.jupyter.widget-view+json": {
       "model_id": "c1165c25435c477b82bfdbcfb66ca27f",
       "version_major": 2,
       "version_minor": 0
      },
      "text/plain": [
       "Validation: |          | 0/? [00:00<?, ?it/s]"
      ]
     },
     "metadata": {},
     "output_type": "display_data"
    },
    {
     "data": {
      "application/vnd.jupyter.widget-view+json": {
       "model_id": "ddaba2eff47f44f4bd81afce556291a7",
       "version_major": 2,
       "version_minor": 0
      },
      "text/plain": [
       "Validation: |          | 0/? [00:00<?, ?it/s]"
      ]
     },
     "metadata": {},
     "output_type": "display_data"
    },
    {
     "data": {
      "application/vnd.jupyter.widget-view+json": {
       "model_id": "05f64c31b770407eadf33a88965e7ae7",
       "version_major": 2,
       "version_minor": 0
      },
      "text/plain": [
       "Validation: |          | 0/? [00:00<?, ?it/s]"
      ]
     },
     "metadata": {},
     "output_type": "display_data"
    },
    {
     "data": {
      "application/vnd.jupyter.widget-view+json": {
       "model_id": "d61fc73c470f48c1883156266b13fb68",
       "version_major": 2,
       "version_minor": 0
      },
      "text/plain": [
       "Validation: |          | 0/? [00:00<?, ?it/s]"
      ]
     },
     "metadata": {},
     "output_type": "display_data"
    },
    {
     "data": {
      "application/vnd.jupyter.widget-view+json": {
       "model_id": "6ab4eb611f8b4a04a0d82feebc42d60b",
       "version_major": 2,
       "version_minor": 0
      },
      "text/plain": [
       "Validation: |          | 0/? [00:00<?, ?it/s]"
      ]
     },
     "metadata": {},
     "output_type": "display_data"
    },
    {
     "data": {
      "application/vnd.jupyter.widget-view+json": {
       "model_id": "d06a194e84024489b299eba124abca4c",
       "version_major": 2,
       "version_minor": 0
      },
      "text/plain": [
       "Validation: |          | 0/? [00:00<?, ?it/s]"
      ]
     },
     "metadata": {},
     "output_type": "display_data"
    },
    {
     "data": {
      "application/vnd.jupyter.widget-view+json": {
       "model_id": "8a2404da366744ed9356bd6a996f4562",
       "version_major": 2,
       "version_minor": 0
      },
      "text/plain": [
       "Validation: |          | 0/? [00:00<?, ?it/s]"
      ]
     },
     "metadata": {},
     "output_type": "display_data"
    },
    {
     "name": "stderr",
     "output_type": "stream",
     "text": [
      "`Trainer.fit` stopped: `max_epochs=10` reached.\n"
     ]
    }
   ],
   "source": [
    "# Train the VAD model\n",
    "vad = VoiceActivityDetection(cow_audio, duration=1.5, batch_size=16)\n",
    "model = PyanNet(sincnet={'stride': 10}, task=vad)\n",
    "model.to(\"cuda\")\n",
    "output_directory = os.path.join('/mnt/', 'e', 'Files', 'Acoustic_Data', 'Datasets')\n",
    "trainer = pl.Trainer(devices=1, accelerator=\"gpu\", max_epochs=10, default_root_dir=output_directory)\n",
    "trainer.fit(model)"
   ]
  },
  {
   "cell_type": "code",
   "execution_count": 5,
   "metadata": {},
   "outputs": [
    {
     "data": {
      "image/png": "[encoded data removed]",
      "text/plain": [
       "<Timeline(uri=Test_1, segments=[<Segment(0, 2.4)>, <Segment(2.51, 3.06)>, <Segment(3.12, 3.59)>, <Segment(3.65, 4.33)>, <Segment(4.47, 4.86)>, <Segment(4.94, 5.49)>, <Segment(5.74, 7.21)>, <Segment(7.46, 8.04)>, <Segment(8.13, 8.6)>, <Segment(8.65, 9.25)>, <Segment(9.29, 9.39)>, <Segment(9.55, 10.17)>, <Segment(10.21, 10.69)>, <Segment(10.74, 11.13)>, <Segment(11.17, 11.84)>, <Segment(11.86, 12.17)>, <Segment(12.47, 12.84)>, <Segment(12.85, 12.96)>, <Segment(12.99, 13.32)>, <Segment(13.38, 13.64)>, <Segment(14.09, 14.87)>, <Segment(15, 15.6)>, <Segment(15.75, 16.24)>, <Segment(16.37, 16.95)>, <Segment(16.98, 17.25)>, <Segment(17.76, 18.08)>, <Segment(18.16, 18.65)>, <Segment(18.69, 18.78)>, <Segment(18.83, 19.3)>, <Segment(19.35, 19.48)>, <Segment(19.53, 20.18)>, <Segment(20.26, 20.73)>, <Segment(20.96, 21.64)>, <Segment(22.17, 22.79)>, <Segment(22.9, 23.33)>, <Segment(23.52, 25.53)>, <Segment(25.55, 25.66)>, <Segment(25.97, 26.28)>, <Segment(26.62, 27.29)>, <Segment(27.39, 27.57)>, <Segment(27.61, 27.77)>, <Segment(28.58, 28.91)>, <Segment(29.05, 29.76)>, <Segment(29.82, 30.1)>, <Segment(30.38, 30.79)>, <Segment(30.87, 31.02)>, <Segment(31.46, 32.05)>, <Segment(32.07, 32.69)>, <Segment(32.76, 33.3)>, <Segment(33.4, 33.61)>, <Segment(33.69, 33.95)>, <Segment(34, 34.4)>, <Segment(34.66, 35.11)>, <Segment(35.28, 36.05)>, <Segment(36.27, 36.65)>, <Segment(36.67, 36.86)>, <Segment(36.88, 37.6)>, <Segment(37.88, 38.36)>, <Segment(38.4, 38.99)>, <Segment(39.02, 39.29)>, <Segment(39.35, 39.67)>, <Segment(39.89, 41.2)>, <Segment(41.42, 41.8)>, <Segment(42.02, 42.51)>, <Segment(42.71, 43.13)>, <Segment(43.21, 43.72)>, <Segment(43.77, 44.03)>, <Segment(44.41, 44.77)>, <Segment(44.79, 45.38)>, <Segment(45.42, 46.2)>, <Segment(46.46, 46.7)>, <Segment(46.75, 47.48)>, <Segment(47.68, 48.16)>, <Segment(48.21, 48.59)>, <Segment(48.7, 48.95)>, <Segment(49.09, 49.32)>, <Segment(49.55, 49.7)>, <Segment(49.78, 49.95)>, <Segment(50.53, 50.86)>, <Segment(51.28, 51.51)>, <Segment(51.62, 52.44)>, <Segment(53.33, 54.05)>, <Segment(54.69, 55.18)>, <Segment(55.24, 55.73)>, <Segment(55.75, 56.37)>, <Segment(56.52, 56.95)>, <Segment(57.09, 57.65)>, <Segment(57.76, 58.84)>, <Segment(58.99, 59.44)>, <Segment(59.53, 60)>])>"
      ]
     },
     "execution_count": 5,
     "metadata": {},
     "output_type": "execute_result"
    }
   ],
   "source": [
    "# Use the trained model for inference\n",
    "test_files = list(cow_audio.test())\n",
    "test_file = test_files[0] \n",
    "inference = Inference(model)\n",
    "vad_probability = inference(test_file)\n",
    "#vad_probability\n",
    "expected_output = test_file[\"annotation\"].get_timeline().support()\n",
    "expected_output"
   ]
  },
  {
   "cell_type": "code",
   "execution_count": 10,
   "metadata": {},
   "outputs": [
    {
     "data": {
      "image/png": "[encoded data removed]",
      "text/plain": [
       "<Timeline(uri=Test_1, segments=[<Segment(0.00872093, 0.723837)>, <Segment(0.950581, 1.05523)>, <Segment(1.36919, 2.32849)>, <Segment(2.55523, 2.99128)>, <Segment(3.14826, 3.60174)>, <Segment(3.7936, 4.38663)>, <Segment(4.47384, 4.80523)>, <Segment(5.04942, 5.50291)>, <Segment(6.00872, 6.32267)>, <Segment(6.60174, 6.95058)>, <Segment(7.4564, 7.99709)>, <Segment(8.34593, 9.44477)>, <Segment(9.54942, 9.93314)>, <Segment(10.0029, 10.1599)>, <Segment(10.4041, 10.6308)>, <Segment(10.8576, 11.0145)>, <Segment(11.2413, 12.2529)>, <Segment(12.6192, 13.5959)>, <Segment(14.0843, 14.8692)>, <Segment(15.7587, 16.282)>, <Segment(16.5262, 17.311)>, <Segment(18.1657, 18.6017)>, <Segment(18.7238, 18.7936)>, <Segment(18.8634, 19.3169)>, <Segment(19.5436, 20.0843)>, <Segment(20.939, 21.6715)>, <Segment(22.1773, 22.7006)>, <Segment(22.875, 23.3808)>, <Segment(23.625, 24.1657)>, <Segment(24.4273, 24.9331)>, <Segment(25.1076, 25.7006)>, <Segment(25.9797, 26.311)>, <Segment(26.625, 27.3052)>, <Segment(27.375, 27.8285)>, <Segment(28.5959, 28.9099)>, <Segment(29.1541, 30.1308)>, <Segment(30.4448, 30.7936)>, <Segment(30.8459, 31.0203)>, <Segment(31.2994, 31.3343)>, <Segment(31.3866, 31.9622)>, <Segment(32.1715, 32.7297)>, <Segment(32.8866, 33.2355)>, <Segment(33.4099, 33.6017)>, <Segment(33.8983, 34.439)>, <Segment(34.8227, 35.1366)>, <Segment(35.2936, 35.9564)>, <Segment(36.2878, 36.4448)>, <Segment(36.6541, 37.4041)>, <Segment(37.8576, 39.2529)>, <Segment(39.4099, 39.6192)>, <Segment(39.9157, 41.032)>, <Segment(41.4855, 41.8169)>, <Segment(42.1483, 42.4622)>, <Segment(42.689, 44.0494)>, <Segment(44.8169, 45.4448)>, <Segment(45.7413, 46.2122)>, <Segment(46.7529, 47.3808)>, <Segment(47.7645, 48.6017)>, <Segment(49.125, 49.3692)>, <Segment(49.5262, 49.7006)>, <Segment(49.7703, 49.9448)>, <Segment(50.4855, 50.939)>, <Segment(51.2878, 51.4797)>, <Segment(51.6192, 52.4215)>, <Segment(53.3459, 54.0959)>, <Segment(54.7064, 55.1424)>, <Segment(55.2645, 55.7703)>, <Segment(56.7994, 56.939)>, <Segment(57.2006, 57.6366)>, <Segment(59.0669, 59.4331)>, <Segment(59.5901, 60.0087)>])>"
      ]
     },
     "execution_count": 10,
     "metadata": {},
     "output_type": "execute_result"
    }
   ],
   "source": [
    "# Convert output to timeline and then to RTTM format\n",
    "pipeline = VoiceActivityDetectionPipeline(segmentation=model)\n",
    "initial_params = {\"onset\": 0.6, \"offset\": 0.5, \"min_duration_on\": 0.0, \"min_duration_off\": 0.0}\n",
    "pipeline.instantiate(initial_params)\n",
    "timeline = pipeline(test_file).get_timeline()\n",
    "pipeline(test_file).get_timeline()"
   ]
  },
  {
   "cell_type": "code",
   "execution_count": 11,
   "metadata": {},
   "outputs": [
    {
     "name": "stdout",
     "output_type": "stream",
     "text": [
      "Detection error rate = 27.8%\n"
     ]
    }
   ],
   "source": [
    "metric = DetectionErrorRate()\n",
    "\n",
    "for file in cow_audio.test():\n",
    "    \n",
    "    # apply the voice activity detection pipeline\n",
    "    speech = pipeline(file)\n",
    "\n",
    "    # evaluate its output\n",
    "    _ = metric(\n",
    "        file['annotation'],     # this is the reference annotation\n",
    "        speech,                 # this is the hypothesized annotation\n",
    "        uem=file['annotated'])  # this is the part of the file that should be evaluated\n",
    "    \n",
    "# aggregate the performance over the whole test set\n",
    "detection_error_rate = abs(metric)\n",
    "print(f'Detection error rate = {detection_error_rate * 100:.1f}%')"
   ]
  },
  {
   "cell_type": "code",
   "execution_count": 12,
   "metadata": {},
   "outputs": [],
   "source": [
    "# Save the RTTM before parameter optimization\n",
    "Get_RTTM.save_rttm(test_file, pipeline, os.path.join('/mnt/', 'e', 'Files', 'Acoustic_Data', 'Datasets', 'output_rttms','before_optimization.rttm'))"
   ]
  },
  {
   "cell_type": "code",
   "execution_count": 13,
   "metadata": {},
   "outputs": [
    {
     "name": "stdout",
     "output_type": "stream",
     "text": [
      "{'onset': 0.14159536967923808, 'offset': 0.5545112977098863, 'min_duration_on': 0.05743045415333149, 'min_duration_off': 0.02751572438219059}\n"
     ]
    },
    {
     "data": {
      "image/png": "[encoded data removed]",
      "text/plain": [
       "<Timeline(uri=Test_1, segments=[<Segment(0.00872093, 2.4157)>, <Segment(2.52035, 3.68895)>, <Segment(3.74128, 5.59012)>, <Segment(5.69477, 6.35756)>, <Segment(6.46221, 7.22965)>, <Segment(7.42151, 8.04942)>, <Segment(8.22384, 10.718)>, <Segment(10.8227, 11.1366)>, <Segment(11.189, 12.3227)>, <Segment(12.5843, 13.6483)>, <Segment(14.032, 14.9215)>, <Segment(15.3401, 15.6366)>, <Segment(15.7238, 16.3517)>, <Segment(16.4564, 17.4855)>, <Segment(17.5378, 20.7994)>, <Segment(20.9041, 21.811)>, <Segment(22.125, 22.7355)>, <Segment(22.8227, 23.4331)>, <Segment(23.4855, 24.968)>, <Segment(25.0552, 26.3634)>, <Segment(26.5727, 27.9157)>, <Segment(28.1424, 28.439)>, <Segment(28.5087, 30.1657)>, <Segment(30.3401, 31.0552)>, <Segment(31.1599, 33.6715)>, <Segment(33.811, 34.4738)>, <Segment(34.7878, 36.0262)>, <Segment(36.218, 36.5494)>, <Segment(36.5843, 37.5087)>, <Segment(37.7529, 39.689)>, <Segment(39.8634, 41.0669)>, <Segment(41.4331, 41.8343)>, <Segment(42.0087, 42.4971)>, <Segment(42.6541, 44.1017)>, <Segment(44.6076, 46.282)>, <Segment(46.3866, 47.4855)>, <Segment(47.6948, 48.6715)>, <Segment(48.7936, 48.9506)>, <Segment(49.0029, 49.9797)>, <Segment(50.0843, 50.2413)>, <Segment(50.3808, 50.9738)>, <Segment(51.1657, 52.4738)>, <Segment(53.0494, 54.1308)>, <Segment(54.3924, 54.5145)>, <Segment(54.6366, 55.8401)>, <Segment(55.9099, 56.4157)>, <Segment(56.4855, 57.0087)>, <Segment(57.0785, 58.2297)>, <Segment(58.4564, 58.7878)>, <Segment(58.9797, 60.0262)>])>"
      ]
     },
     "execution_count": 13,
     "metadata": {},
     "output_type": "execute_result"
    }
   ],
   "source": [
    "# Optimize parameters\n",
    "optimizer = Optimizer(pipeline)\n",
    "optimizer.tune(list(cow_audio.development()), \n",
    "               warm_start=initial_params, \n",
    "               n_iterations=20, \n",
    "               show_progress=False)\n",
    "optimized_params = optimizer.best_params\n",
    "print(optimized_params)\n",
    "\n",
    "pipeline.instantiate(optimized_params)\n",
    "optimized_pipeline = pipeline.instantiate(optimized_params)\n",
    "pipeline(test_file).get_timeline()"
   ]
  },
  {
   "cell_type": "code",
   "execution_count": 14,
   "metadata": {},
   "outputs": [
    {
     "name": "stdout",
     "output_type": "stream",
     "text": [
      "Detection error rate = 32.5%\n"
     ]
    }
   ],
   "source": [
    "metric = DetectionErrorRate()\n",
    "\n",
    "for file in cow_audio.test():\n",
    "    speech = optimized_pipeline(file)\n",
    "    _ = metric(file['annotation'], speech, uem=file['annotated'])\n",
    "    \n",
    "detection_error_rate = abs(metric)\n",
    "print(f'Detection error rate = {detection_error_rate * 100:.1f}%')"
   ]
  },
  {
   "cell_type": "code",
   "execution_count": 15,
   "metadata": {},
   "outputs": [],
   "source": [
    "# Save the RTTM after parameter optimization\n",
    "Get_RTTM.save_rttm(test_file, pipeline, os.path.join('/mnt/', 'e', 'Files', 'Acoustic_Data', 'Datasets', 'output_rttms','after_optimization.rttm'))"
   ]
  },
  {
   "cell_type": "code",
   "execution_count": 16,
   "metadata": {},
   "outputs": [],
   "source": [
    "from utils import TXT_RTTM_Transform\n",
    "input_file_before = os.path.join('/mnt/', 'e', 'Files', 'Acoustic_Data', 'Datasets', 'output_rttms','before_optimization.rttm')\n",
    "output_file_before = os.path.join('/mnt/', 'e', 'Files', 'Acoustic_Data', 'Datasets', 'output_rttms','before_optimization.txt')\n",
    "input_file_after = os.path.join('/mnt/', 'e', 'Files', 'Acoustic_Data', 'Datasets', 'output_rttms','after_optimization.rttm')\n",
    "output_file_after = os.path.join('/mnt/', 'e', 'Files', 'Acoustic_Data', 'Datasets', 'output_rttms','after_optimization.txt')\n",
    "TXT_RTTM_Transform.rttm_to_txt(input_file_before, output_file_before)\n",
    "TXT_RTTM_Transform.rttm_to_txt(input_file_after, output_file_after)"
   ]
  }
 ],
 "metadata": {
  "kernelspec": {
   "display_name": "myenv",
   "language": "python",
   "name": "python3"
  },
  "language_info": {
   "codemirror_mode": {
    "name": "ipython",
    "version": 3
   },
   "file_extension": ".py",
   "mimetype": "text/x-python",
   "name": "python",
   "nbconvert_exporter": "python",
   "pygments_lexer": "ipython3",
   "version": "3.8.18"
  }
 },
 "nbformat": 4,
 "nbformat_minor": 2
}
