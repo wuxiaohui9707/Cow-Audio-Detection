{
 "cells": [
  {
   "cell_type": "code",
   "execution_count": null,
   "metadata": {},
   "outputs": [],
   "source": [
    "import os \n",
    "from utils import Plot_Audio_Features as PAF\n",
    "\n",
    "audio_files = [os.path.join('E:/Files','Acoustic Data', 'Ruminating'), \n",
    "               os.path.join('E:/Files','Acoustic Data', 'Gulp'),\n",
    "               os.path.join('E:/Files','Acoustic Data', 'Breath')]\n",
    "feature_names = ['spectral_centroid_mean','energy_entropy_mean']\n",
    "\n",
    "PAF.plot_audio_features(audio_files,feature_names)"
   ]
  }
 ],
 "metadata": {
  "language_info": {
   "name": "python"
  }
 },
 "nbformat": 4,
 "nbformat_minor": 2
}
