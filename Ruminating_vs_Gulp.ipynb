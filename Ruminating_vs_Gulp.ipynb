{
 "cells": [
  {
   "cell_type": "code",
   "execution_count": 3,
   "metadata": {},
   "outputs": [
    {
     "name": "stdout",
     "output_type": "stream",
     "text": [
      "Analyzing file 1 of 8: E:/Files\\Acoustic Data\\Eructation\\Eructation_1.wav\n",
      "Analyzing file 2 of 8: E:/Files\\Acoustic Data\\Eructation\\Eructation_2.wav\n",
      "Analyzing file 3 of 8: E:/Files\\Acoustic Data\\Eructation\\Eructation_3.wav\n",
      "Analyzing file 4 of 8: E:/Files\\Acoustic Data\\Eructation\\Eructation_4.wav\n",
      "Analyzing file 5 of 8: E:/Files\\Acoustic Data\\Eructation\\Eructation_5.wav\n",
      "Analyzing file 6 of 8: E:/Files\\Acoustic Data\\Eructation\\Eructation_6.wav\n",
      "Analyzing file 7 of 8: E:/Files\\Acoustic Data\\Eructation\\Eructation_7.wav\n",
      "Analyzing file 8 of 8: E:/Files\\Acoustic Data\\Eructation\\Eructation_8.wav\n",
      "Feature extraction complexity ratio: 59.2 x realtime\n",
      "Analyzing file 1 of 18: E:/Files\\Acoustic Data\\Gulp\\Gulp_1.wav\n"
     ]
    },
    {
     "name": "stderr",
     "output_type": "stream",
     "text": [
      "e:\\Files\\Github\\Cow-Audio-Detection\\pyAudioAnalysis\\audioBasicIO.py:99: WavFileWarning: Chunk (non-data) not understood, skipping it.\n",
      "  sampling_rate, signal = wavfile.read(input_file) # from scipy.io\n"
     ]
    },
    {
     "name": "stdout",
     "output_type": "stream",
     "text": [
      "Analyzing file 2 of 18: E:/Files\\Acoustic Data\\Gulp\\Gulp_10.wav\n",
      "Analyzing file 3 of 18: E:/Files\\Acoustic Data\\Gulp\\Gulp_11.wav\n",
      "Analyzing file 4 of 18: E:/Files\\Acoustic Data\\Gulp\\Gulp_12.wav\n",
      "Analyzing file 5 of 18: E:/Files\\Acoustic Data\\Gulp\\Gulp_13.wav\n",
      "Analyzing file 6 of 18: E:/Files\\Acoustic Data\\Gulp\\Gulp_14.wav\n",
      "Analyzing file 7 of 18: E:/Files\\Acoustic Data\\Gulp\\Gulp_15.wav\n",
      "Analyzing file 8 of 18: E:/Files\\Acoustic Data\\Gulp\\Gulp_16.wav\n",
      "Analyzing file 9 of 18: E:/Files\\Acoustic Data\\Gulp\\Gulp_17.wav\n",
      "Analyzing file 10 of 18: E:/Files\\Acoustic Data\\Gulp\\Gulp_18.wav\n",
      "Analyzing file 11 of 18: E:/Files\\Acoustic Data\\Gulp\\Gulp_2.wav\n",
      "Analyzing file 12 of 18: E:/Files\\Acoustic Data\\Gulp\\Gulp_3.wav\n",
      "Analyzing file 13 of 18: E:/Files\\Acoustic Data\\Gulp\\Gulp_4.wav\n",
      "Analyzing file 14 of 18: E:/Files\\Acoustic Data\\Gulp\\Gulp_5.wav\n",
      "Analyzing file 15 of 18: E:/Files\\Acoustic Data\\Gulp\\Gulp_6.wav\n",
      "Analyzing file 16 of 18: E:/Files\\Acoustic Data\\Gulp\\Gulp_7.wav\n",
      "Analyzing file 17 of 18: E:/Files\\Acoustic Data\\Gulp\\Gulp_8.wav\n",
      "Analyzing file 18 of 18: E:/Files\\Acoustic Data\\Gulp\\Gulp_9.wav\n",
      "Feature extraction complexity ratio: 52.2 x realtime\n",
      "(8, 138) (18, 138)\n",
      "['zcr_mean', 'energy_mean', 'energy_entropy_mean', 'spectral_centroid_mean', 'spectral_spread_mean', 'spectral_entropy_mean', 'spectral_flux_mean', 'spectral_rolloff_mean', 'mfcc_1_mean', 'mfcc_2_mean', 'mfcc_3_mean', 'mfcc_4_mean', 'mfcc_5_mean', 'mfcc_6_mean', 'mfcc_7_mean', 'mfcc_8_mean', 'mfcc_9_mean', 'mfcc_10_mean', 'mfcc_11_mean', 'mfcc_12_mean', 'mfcc_13_mean', 'chroma_1_mean', 'chroma_2_mean', 'chroma_3_mean', 'chroma_4_mean', 'chroma_5_mean', 'chroma_6_mean', 'chroma_7_mean', 'chroma_8_mean', 'chroma_9_mean', 'chroma_10_mean', 'chroma_11_mean', 'chroma_12_mean', 'chroma_std_mean', 'delta zcr_mean', 'delta energy_mean', 'delta energy_entropy_mean', 'delta spectral_centroid_mean', 'delta spectral_spread_mean', 'delta spectral_entropy_mean', 'delta spectral_flux_mean', 'delta spectral_rolloff_mean', 'delta mfcc_1_mean', 'delta mfcc_2_mean', 'delta mfcc_3_mean', 'delta mfcc_4_mean', 'delta mfcc_5_mean', 'delta mfcc_6_mean', 'delta mfcc_7_mean', 'delta mfcc_8_mean', 'delta mfcc_9_mean', 'delta mfcc_10_mean', 'delta mfcc_11_mean', 'delta mfcc_12_mean', 'delta mfcc_13_mean', 'delta chroma_1_mean', 'delta chroma_2_mean', 'delta chroma_3_mean', 'delta chroma_4_mean', 'delta chroma_5_mean', 'delta chroma_6_mean', 'delta chroma_7_mean', 'delta chroma_8_mean', 'delta chroma_9_mean', 'delta chroma_10_mean', 'delta chroma_11_mean', 'delta chroma_12_mean', 'delta chroma_std_mean', 'zcr_std', 'energy_std', 'energy_entropy_std', 'spectral_centroid_std', 'spectral_spread_std', 'spectral_entropy_std', 'spectral_flux_std', 'spectral_rolloff_std', 'mfcc_1_std', 'mfcc_2_std', 'mfcc_3_std', 'mfcc_4_std', 'mfcc_5_std', 'mfcc_6_std', 'mfcc_7_std', 'mfcc_8_std', 'mfcc_9_std', 'mfcc_10_std', 'mfcc_11_std', 'mfcc_12_std', 'mfcc_13_std', 'chroma_1_std', 'chroma_2_std', 'chroma_3_std', 'chroma_4_std', 'chroma_5_std', 'chroma_6_std', 'chroma_7_std', 'chroma_8_std', 'chroma_9_std', 'chroma_10_std', 'chroma_11_std', 'chroma_12_std', 'chroma_std_std', 'delta zcr_std', 'delta energy_std', 'delta energy_entropy_std', 'delta spectral_centroid_std', 'delta spectral_spread_std', 'delta spectral_entropy_std', 'delta spectral_flux_std', 'delta spectral_rolloff_std', 'delta mfcc_1_std', 'delta mfcc_2_std', 'delta mfcc_3_std', 'delta mfcc_4_std', 'delta mfcc_5_std', 'delta mfcc_6_std', 'delta mfcc_7_std', 'delta mfcc_8_std', 'delta mfcc_9_std', 'delta mfcc_10_std', 'delta mfcc_11_std', 'delta mfcc_12_std', 'delta mfcc_13_std', 'delta chroma_1_std', 'delta chroma_2_std', 'delta chroma_3_std', 'delta chroma_4_std', 'delta chroma_5_std', 'delta chroma_6_std', 'delta chroma_7_std', 'delta chroma_8_std', 'delta chroma_9_std', 'delta chroma_10_std', 'delta chroma_11_std', 'delta chroma_12_std', 'delta chroma_std_std', 'bpm', 'ratio']\n"
     ]
    },
    {
     "data": {
      "application/vnd.plotly.v1+json": {
       "config": {
        "linkText": "Export to plot.ly",
        "plotlyServerURL": "https://plot.ly",
        "showLink": false
       },
       "data": [
        {
         "mode": "markers",
         "name": "Eructation",
         "type": "scatter",
         "x": [
          0.08121994598511297,
          0.08196649320422457,
          0.0673429506180972,
          0.031969786794897134,
          0.06009705113848449,
          0.08490876753837033,
          0.10260632808554553,
          0.09090310256241352
         ],
         "y": [
          2.856884647253466,
          2.7220161311487137,
          2.712815106002886,
          2.7256705675521,
          2.7568299725757135,
          2.738692713220041,
          3.004631665436257,
          2.8686928699247005
         ]
        },
        {
         "mode": "markers",
         "name": "Gulp",
         "type": "scatter",
         "x": [
          0.12774813546172484,
          0.13668401291087542,
          0.14495092549897898,
          0.14298574973102343,
          0.11878334760555957,
          0.12621039457216254,
          0.1293941988889621,
          0.11618177692876328,
          0.1374744746722877,
          0.13499086333550467,
          0.14267834793491863,
          0.14105350986979337,
          0.1417232066398788,
          0.1603539512109435,
          0.13834056703432898,
          0.1465208703862284,
          0.14054849263333555,
          0.143666425136684
         ],
         "y": [
          2.8525859440314876,
          2.9277354933296156,
          2.93372627249222,
          2.8504443502866565,
          2.99145787059822,
          2.912365068987565,
          2.902595571489083,
          2.9565431100186155,
          2.760954854050774,
          2.8547919106283373,
          2.818916247218388,
          2.9160097153704485,
          2.895104531591617,
          2.6468131057932234,
          2.755018110983279,
          2.891270929067268,
          2.99697986235946,
          2.9506887547320795
         ]
        }
       ],
       "layout": {
        "template": {
         "data": {
          "bar": [
           {
            "error_x": {
             "color": "#2a3f5f"
            },
            "error_y": {
             "color": "#2a3f5f"
            },
            "marker": {
             "line": {
              "color": "#E5ECF6",
              "width": 0.5
             },
             "pattern": {
              "fillmode": "overlay",
              "size": 10,
              "solidity": 0.2
             }
            },
            "type": "bar"
           }
          ],
          "barpolar": [
           {
            "marker": {
             "line": {
              "color": "#E5ECF6",
              "width": 0.5
             },
             "pattern": {
              "fillmode": "overlay",
              "size": 10,
              "solidity": 0.2
             }
            },
            "type": "barpolar"
           }
          ],
          "carpet": [
           {
            "aaxis": {
             "endlinecolor": "#2a3f5f",
             "gridcolor": "white",
             "linecolor": "white",
             "minorgridcolor": "white",
             "startlinecolor": "#2a3f5f"
            },
            "baxis": {
             "endlinecolor": "#2a3f5f",
             "gridcolor": "white",
             "linecolor": "white",
             "minorgridcolor": "white",
             "startlinecolor": "#2a3f5f"
            },
            "type": "carpet"
           }
          ],
          "choropleth": [
           {
            "colorbar": {
             "outlinewidth": 0,
             "ticks": ""
            },
            "type": "choropleth"
           }
          ],
          "contour": [
           {
            "colorbar": {
             "outlinewidth": 0,
             "ticks": ""
            },
            "colorscale": [
             [
              0,
              "#0d0887"
             ],
             [
              0.1111111111111111,
              "#46039f"
             ],
             [
              0.2222222222222222,
              "#7201a8"
             ],
             [
              0.3333333333333333,
              "#9c179e"
             ],
             [
              0.4444444444444444,
              "#bd3786"
             ],
             [
              0.5555555555555556,
              "#d8576b"
             ],
             [
              0.6666666666666666,
              "#ed7953"
             ],
             [
              0.7777777777777778,
              "#fb9f3a"
             ],
             [
              0.8888888888888888,
              "#fdca26"
             ],
             [
              1,
              "#f0f921"
             ]
            ],
            "type": "contour"
           }
          ],
          "contourcarpet": [
           {
            "colorbar": {
             "outlinewidth": 0,
             "ticks": ""
            },
            "type": "contourcarpet"
           }
          ],
          "heatmap": [
           {
            "colorbar": {
             "outlinewidth": 0,
             "ticks": ""
            },
            "colorscale": [
             [
              0,
              "#0d0887"
             ],
             [
              0.1111111111111111,
              "#46039f"
             ],
             [
              0.2222222222222222,
              "#7201a8"
             ],
             [
              0.3333333333333333,
              "#9c179e"
             ],
             [
              0.4444444444444444,
              "#bd3786"
             ],
             [
              0.5555555555555556,
              "#d8576b"
             ],
             [
              0.6666666666666666,
              "#ed7953"
             ],
             [
              0.7777777777777778,
              "#fb9f3a"
             ],
             [
              0.8888888888888888,
              "#fdca26"
             ],
             [
              1,
              "#f0f921"
             ]
            ],
            "type": "heatmap"
           }
          ],
          "heatmapgl": [
           {
            "colorbar": {
             "outlinewidth": 0,
             "ticks": ""
            },
            "colorscale": [
             [
              0,
              "#0d0887"
             ],
             [
              0.1111111111111111,
              "#46039f"
             ],
             [
              0.2222222222222222,
              "#7201a8"
             ],
             [
              0.3333333333333333,
              "#9c179e"
             ],
             [
              0.4444444444444444,
              "#bd3786"
             ],
             [
              0.5555555555555556,
              "#d8576b"
             ],
             [
              0.6666666666666666,
              "#ed7953"
             ],
             [
              0.7777777777777778,
              "#fb9f3a"
             ],
             [
              0.8888888888888888,
              "#fdca26"
             ],
             [
              1,
              "#f0f921"
             ]
            ],
            "type": "heatmapgl"
           }
          ],
          "histogram": [
           {
            "marker": {
             "pattern": {
              "fillmode": "overlay",
              "size": 10,
              "solidity": 0.2
             }
            },
            "type": "histogram"
           }
          ],
          "histogram2d": [
           {
            "colorbar": {
             "outlinewidth": 0,
             "ticks": ""
            },
            "colorscale": [
             [
              0,
              "#0d0887"
             ],
             [
              0.1111111111111111,
              "#46039f"
             ],
             [
              0.2222222222222222,
              "#7201a8"
             ],
             [
              0.3333333333333333,
              "#9c179e"
             ],
             [
              0.4444444444444444,
              "#bd3786"
             ],
             [
              0.5555555555555556,
              "#d8576b"
             ],
             [
              0.6666666666666666,
              "#ed7953"
             ],
             [
              0.7777777777777778,
              "#fb9f3a"
             ],
             [
              0.8888888888888888,
              "#fdca26"
             ],
             [
              1,
              "#f0f921"
             ]
            ],
            "type": "histogram2d"
           }
          ],
          "histogram2dcontour": [
           {
            "colorbar": {
             "outlinewidth": 0,
             "ticks": ""
            },
            "colorscale": [
             [
              0,
              "#0d0887"
             ],
             [
              0.1111111111111111,
              "#46039f"
             ],
             [
              0.2222222222222222,
              "#7201a8"
             ],
             [
              0.3333333333333333,
              "#9c179e"
             ],
             [
              0.4444444444444444,
              "#bd3786"
             ],
             [
              0.5555555555555556,
              "#d8576b"
             ],
             [
              0.6666666666666666,
              "#ed7953"
             ],
             [
              0.7777777777777778,
              "#fb9f3a"
             ],
             [
              0.8888888888888888,
              "#fdca26"
             ],
             [
              1,
              "#f0f921"
             ]
            ],
            "type": "histogram2dcontour"
           }
          ],
          "mesh3d": [
           {
            "colorbar": {
             "outlinewidth": 0,
             "ticks": ""
            },
            "type": "mesh3d"
           }
          ],
          "parcoords": [
           {
            "line": {
             "colorbar": {
              "outlinewidth": 0,
              "ticks": ""
             }
            },
            "type": "parcoords"
           }
          ],
          "pie": [
           {
            "automargin": true,
            "type": "pie"
           }
          ],
          "scatter": [
           {
            "fillpattern": {
             "fillmode": "overlay",
             "size": 10,
             "solidity": 0.2
            },
            "type": "scatter"
           }
          ],
          "scatter3d": [
           {
            "line": {
             "colorbar": {
              "outlinewidth": 0,
              "ticks": ""
             }
            },
            "marker": {
             "colorbar": {
              "outlinewidth": 0,
              "ticks": ""
             }
            },
            "type": "scatter3d"
           }
          ],
          "scattercarpet": [
           {
            "marker": {
             "colorbar": {
              "outlinewidth": 0,
              "ticks": ""
             }
            },
            "type": "scattercarpet"
           }
          ],
          "scattergeo": [
           {
            "marker": {
             "colorbar": {
              "outlinewidth": 0,
              "ticks": ""
             }
            },
            "type": "scattergeo"
           }
          ],
          "scattergl": [
           {
            "marker": {
             "colorbar": {
              "outlinewidth": 0,
              "ticks": ""
             }
            },
            "type": "scattergl"
           }
          ],
          "scattermapbox": [
           {
            "marker": {
             "colorbar": {
              "outlinewidth": 0,
              "ticks": ""
             }
            },
            "type": "scattermapbox"
           }
          ],
          "scatterpolar": [
           {
            "marker": {
             "colorbar": {
              "outlinewidth": 0,
              "ticks": ""
             }
            },
            "type": "scatterpolar"
           }
          ],
          "scatterpolargl": [
           {
            "marker": {
             "colorbar": {
              "outlinewidth": 0,
              "ticks": ""
             }
            },
            "type": "scatterpolargl"
           }
          ],
          "scatterternary": [
           {
            "marker": {
             "colorbar": {
              "outlinewidth": 0,
              "ticks": ""
             }
            },
            "type": "scatterternary"
           }
          ],
          "surface": [
           {
            "colorbar": {
             "outlinewidth": 0,
             "ticks": ""
            },
            "colorscale": [
             [
              0,
              "#0d0887"
             ],
             [
              0.1111111111111111,
              "#46039f"
             ],
             [
              0.2222222222222222,
              "#7201a8"
             ],
             [
              0.3333333333333333,
              "#9c179e"
             ],
             [
              0.4444444444444444,
              "#bd3786"
             ],
             [
              0.5555555555555556,
              "#d8576b"
             ],
             [
              0.6666666666666666,
              "#ed7953"
             ],
             [
              0.7777777777777778,
              "#fb9f3a"
             ],
             [
              0.8888888888888888,
              "#fdca26"
             ],
             [
              1,
              "#f0f921"
             ]
            ],
            "type": "surface"
           }
          ],
          "table": [
           {
            "cells": {
             "fill": {
              "color": "#EBF0F8"
             },
             "line": {
              "color": "white"
             }
            },
            "header": {
             "fill": {
              "color": "#C8D4E3"
             },
             "line": {
              "color": "white"
             }
            },
            "type": "table"
           }
          ]
         },
         "layout": {
          "annotationdefaults": {
           "arrowcolor": "#2a3f5f",
           "arrowhead": 0,
           "arrowwidth": 1
          },
          "autotypenumbers": "strict",
          "coloraxis": {
           "colorbar": {
            "outlinewidth": 0,
            "ticks": ""
           }
          },
          "colorscale": {
           "diverging": [
            [
             0,
             "#8e0152"
            ],
            [
             0.1,
             "#c51b7d"
            ],
            [
             0.2,
             "#de77ae"
            ],
            [
             0.3,
             "#f1b6da"
            ],
            [
             0.4,
             "#fde0ef"
            ],
            [
             0.5,
             "#f7f7f7"
            ],
            [
             0.6,
             "#e6f5d0"
            ],
            [
             0.7,
             "#b8e186"
            ],
            [
             0.8,
             "#7fbc41"
            ],
            [
             0.9,
             "#4d9221"
            ],
            [
             1,
             "#276419"
            ]
           ],
           "sequential": [
            [
             0,
             "#0d0887"
            ],
            [
             0.1111111111111111,
             "#46039f"
            ],
            [
             0.2222222222222222,
             "#7201a8"
            ],
            [
             0.3333333333333333,
             "#9c179e"
            ],
            [
             0.4444444444444444,
             "#bd3786"
            ],
            [
             0.5555555555555556,
             "#d8576b"
            ],
            [
             0.6666666666666666,
             "#ed7953"
            ],
            [
             0.7777777777777778,
             "#fb9f3a"
            ],
            [
             0.8888888888888888,
             "#fdca26"
            ],
            [
             1,
             "#f0f921"
            ]
           ],
           "sequentialminus": [
            [
             0,
             "#0d0887"
            ],
            [
             0.1111111111111111,
             "#46039f"
            ],
            [
             0.2222222222222222,
             "#7201a8"
            ],
            [
             0.3333333333333333,
             "#9c179e"
            ],
            [
             0.4444444444444444,
             "#bd3786"
            ],
            [
             0.5555555555555556,
             "#d8576b"
            ],
            [
             0.6666666666666666,
             "#ed7953"
            ],
            [
             0.7777777777777778,
             "#fb9f3a"
            ],
            [
             0.8888888888888888,
             "#fdca26"
            ],
            [
             1,
             "#f0f921"
            ]
           ]
          },
          "colorway": [
           "#636efa",
           "#EF553B",
           "#00cc96",
           "#ab63fa",
           "#FFA15A",
           "#19d3f3",
           "#FF6692",
           "#B6E880",
           "#FF97FF",
           "#FECB52"
          ],
          "font": {
           "color": "#2a3f5f"
          },
          "geo": {
           "bgcolor": "white",
           "lakecolor": "white",
           "landcolor": "#E5ECF6",
           "showlakes": true,
           "showland": true,
           "subunitcolor": "white"
          },
          "hoverlabel": {
           "align": "left"
          },
          "hovermode": "closest",
          "mapbox": {
           "style": "light"
          },
          "paper_bgcolor": "white",
          "plot_bgcolor": "#E5ECF6",
          "polar": {
           "angularaxis": {
            "gridcolor": "white",
            "linecolor": "white",
            "ticks": ""
           },
           "bgcolor": "#E5ECF6",
           "radialaxis": {
            "gridcolor": "white",
            "linecolor": "white",
            "ticks": ""
           }
          },
          "scene": {
           "xaxis": {
            "backgroundcolor": "#E5ECF6",
            "gridcolor": "white",
            "gridwidth": 2,
            "linecolor": "white",
            "showbackground": true,
            "ticks": "",
            "zerolinecolor": "white"
           },
           "yaxis": {
            "backgroundcolor": "#E5ECF6",
            "gridcolor": "white",
            "gridwidth": 2,
            "linecolor": "white",
            "showbackground": true,
            "ticks": "",
            "zerolinecolor": "white"
           },
           "zaxis": {
            "backgroundcolor": "#E5ECF6",
            "gridcolor": "white",
            "gridwidth": 2,
            "linecolor": "white",
            "showbackground": true,
            "ticks": "",
            "zerolinecolor": "white"
           }
          },
          "shapedefaults": {
           "line": {
            "color": "#2a3f5f"
           }
          },
          "ternary": {
           "aaxis": {
            "gridcolor": "white",
            "linecolor": "white",
            "ticks": ""
           },
           "baxis": {
            "gridcolor": "white",
            "linecolor": "white",
            "ticks": ""
           },
           "bgcolor": "#E5ECF6",
           "caxis": {
            "gridcolor": "white",
            "linecolor": "white",
            "ticks": ""
           }
          },
          "title": {
           "x": 0.05
          },
          "xaxis": {
           "automargin": true,
           "gridcolor": "white",
           "linecolor": "white",
           "ticks": "",
           "title": {
            "standoff": 15
           },
           "zerolinecolor": "white",
           "zerolinewidth": 2
          },
          "yaxis": {
           "automargin": true,
           "gridcolor": "white",
           "linecolor": "white",
           "ticks": "",
           "title": {
            "standoff": 15
           },
           "zerolinecolor": "white",
           "zerolinewidth": 2
          }
         }
        },
        "xaxis": {
         "title": {
          "text": "zcr_mean"
         }
        },
        "yaxis": {
         "title": {
          "text": "energy_entropy_mean"
         }
        }
       }
      }
     },
     "metadata": {},
     "output_type": "display_data"
    }
   ],
   "source": [
    "from pyAudioAnalysis import MidTermFeatures as aF\n",
    "import os\n",
    "import numpy as np\n",
    "import plotly.graph_objs as go \n",
    "import plotly\n",
    "audio_dirs = [os.path.join('E:/Files','Acoustic Data', 'Eructation'), os.path.join('E:/Files','Acoustic Data', 'Gulp')] \n",
    "class_names = [os.path.basename(d) for d in audio_dirs] \n",
    "#print(class_names)\n",
    "m_win, m_step, s_win, s_step = 1, 1, 0.1, 0.05 \n",
    "\n",
    "# segment-level feature extraction:\n",
    "features = [] \n",
    "\n",
    "for d in audio_dirs: # get feature matrix for each directory (class) \n",
    "    f, files, fn = aF.directory_feature_extraction(d, m_win, m_step, \n",
    "                                                   s_win, s_step) \n",
    "    \n",
    "    features.append(f)\n",
    "\n",
    "#print(len(features))\n",
    "print(features[0].shape, features[1].shape)\n",
    "print(fn)\n",
    "\n",
    "# select 2 features and create feature matrices for the two classes:\n",
    "f1 = np.array([features[0][:, fn.index('zcr_mean')],\n",
    "               features[0][:, fn.index('energy_entropy_mean')]])\n",
    "f2 = np.array([features[1][:, fn.index('zcr_mean')],\n",
    "               features[1][:, fn.index('energy_entropy_mean')]])\n",
    "\n",
    "plots = [go.Scatter(x=f1[0, :],  y=f1[1, :], \n",
    "                    name=class_names[0], mode='markers'),\n",
    "         go.Scatter(x=f2[0, :], y=f2[1, :], \n",
    "                    name=class_names[1], mode='markers')]\n",
    "mylayout = go.Layout(xaxis=dict(title=\"zcr_mean\"),\n",
    "                     yaxis=dict(title=\"energy_entropy_mean\"))\n",
    "plotly.offline.iplot(go.Figure(data=plots, layout=mylayout))\n"
   ]
  },
  {
   "cell_type": "code",
   "execution_count": 4,
   "metadata": {},
   "outputs": [
    {
     "name": "stdout",
     "output_type": "stream",
     "text": [
      "Analyzing file 1 of 30: E:/Files\\Acoustic Data\\Ruminating\\Ruminating_1.wav\n",
      "Analyzing file 2 of 30: E:/Files\\Acoustic Data\\Ruminating\\Ruminating_10.wav\n",
      "Analyzing file 3 of 30: E:/Files\\Acoustic Data\\Ruminating\\Ruminating_11.wav\n",
      "Analyzing file 4 of 30: E:/Files\\Acoustic Data\\Ruminating\\Ruminating_12.wav\n",
      "Analyzing file 5 of 30: E:/Files\\Acoustic Data\\Ruminating\\Ruminating_13.wav\n"
     ]
    },
    {
     "name": "stderr",
     "output_type": "stream",
     "text": [
      "e:\\Files\\Github\\Cow-Audio-Detection\\pyAudioAnalysis\\audioBasicIO.py:99: WavFileWarning:\n",
      "\n",
      "Chunk (non-data) not understood, skipping it.\n",
      "\n"
     ]
    },
    {
     "name": "stdout",
     "output_type": "stream",
     "text": [
      "Analyzing file 6 of 30: E:/Files\\Acoustic Data\\Ruminating\\Ruminating_14.wav\n",
      "Analyzing file 7 of 30: E:/Files\\Acoustic Data\\Ruminating\\Ruminating_15.wav\n",
      "Analyzing file 8 of 30: E:/Files\\Acoustic Data\\Ruminating\\Ruminating_16.wav\n",
      "Analyzing file 9 of 30: E:/Files\\Acoustic Data\\Ruminating\\Ruminating_17.wav\n",
      "Analyzing file 10 of 30: E:/Files\\Acoustic Data\\Ruminating\\Ruminating_18.wav\n",
      "Analyzing file 11 of 30: E:/Files\\Acoustic Data\\Ruminating\\Ruminating_19.wav\n",
      "Analyzing file 12 of 30: E:/Files\\Acoustic Data\\Ruminating\\Ruminating_2.wav\n",
      "Analyzing file 13 of 30: E:/Files\\Acoustic Data\\Ruminating\\Ruminating_20.wav\n",
      "Analyzing file 14 of 30: E:/Files\\Acoustic Data\\Ruminating\\Ruminating_21.wav\n",
      "Analyzing file 15 of 30: E:/Files\\Acoustic Data\\Ruminating\\Ruminating_22.wav\n",
      "Analyzing file 16 of 30: E:/Files\\Acoustic Data\\Ruminating\\Ruminating_23.wav\n",
      "Analyzing file 17 of 30: E:/Files\\Acoustic Data\\Ruminating\\Ruminating_24.wav\n",
      "Analyzing file 18 of 30: E:/Files\\Acoustic Data\\Ruminating\\Ruminating_25.wav\n",
      "Analyzing file 19 of 30: E:/Files\\Acoustic Data\\Ruminating\\Ruminating_26.wav\n",
      "Analyzing file 20 of 30: E:/Files\\Acoustic Data\\Ruminating\\Ruminating_27.wav\n",
      "Analyzing file 21 of 30: E:/Files\\Acoustic Data\\Ruminating\\Ruminating_28.wav\n",
      "Analyzing file 22 of 30: E:/Files\\Acoustic Data\\Ruminating\\Ruminating_29.wav\n",
      "Analyzing file 23 of 30: E:/Files\\Acoustic Data\\Ruminating\\Ruminating_3.wav\n",
      "Analyzing file 24 of 30: E:/Files\\Acoustic Data\\Ruminating\\Ruminating_30.wav\n",
      "Analyzing file 25 of 30: E:/Files\\Acoustic Data\\Ruminating\\Ruminating_4.wav\n",
      "Analyzing file 26 of 30: E:/Files\\Acoustic Data\\Ruminating\\Ruminating_5.wav\n",
      "Analyzing file 27 of 30: E:/Files\\Acoustic Data\\Ruminating\\Ruminating_6.wav\n",
      "Analyzing file 28 of 30: E:/Files\\Acoustic Data\\Ruminating\\Ruminating_7.wav\n",
      "Analyzing file 29 of 30: E:/Files\\Acoustic Data\\Ruminating\\Ruminating_8.wav\n",
      "Analyzing file 30 of 30: E:/Files\\Acoustic Data\\Ruminating\\Ruminating_9.wav\n",
      "Feature extraction complexity ratio: 56.0 x realtime\n",
      "Analyzing file 1 of 18: E:/Files\\Acoustic Data\\Gulp\\Gulp_1.wav\n",
      "Analyzing file 2 of 18: E:/Files\\Acoustic Data\\Gulp\\Gulp_10.wav\n",
      "Analyzing file 3 of 18: E:/Files\\Acoustic Data\\Gulp\\Gulp_11.wav\n",
      "Analyzing file 4 of 18: E:/Files\\Acoustic Data\\Gulp\\Gulp_12.wav\n",
      "Analyzing file 5 of 18: E:/Files\\Acoustic Data\\Gulp\\Gulp_13.wav\n",
      "Analyzing file 6 of 18: E:/Files\\Acoustic Data\\Gulp\\Gulp_14.wav\n",
      "Analyzing file 7 of 18: E:/Files\\Acoustic Data\\Gulp\\Gulp_15.wav\n",
      "Analyzing file 8 of 18: E:/Files\\Acoustic Data\\Gulp\\Gulp_16.wav\n",
      "Analyzing file 9 of 18: E:/Files\\Acoustic Data\\Gulp\\Gulp_17.wav\n",
      "Analyzing file 10 of 18: E:/Files\\Acoustic Data\\Gulp\\Gulp_18.wav\n",
      "Analyzing file 11 of 18: E:/Files\\Acoustic Data\\Gulp\\Gulp_2.wav\n",
      "Analyzing file 12 of 18: E:/Files\\Acoustic Data\\Gulp\\Gulp_3.wav\n",
      "Analyzing file 13 of 18: E:/Files\\Acoustic Data\\Gulp\\Gulp_4.wav\n",
      "Analyzing file 14 of 18: E:/Files\\Acoustic Data\\Gulp\\Gulp_5.wav\n",
      "Analyzing file 15 of 18: E:/Files\\Acoustic Data\\Gulp\\Gulp_6.wav\n",
      "Analyzing file 16 of 18: E:/Files\\Acoustic Data\\Gulp\\Gulp_7.wav\n",
      "Analyzing file 17 of 18: E:/Files\\Acoustic Data\\Gulp\\Gulp_8.wav\n",
      "Analyzing file 18 of 18: E:/Files\\Acoustic Data\\Gulp\\Gulp_9.wav\n",
      "Feature extraction complexity ratio: 57.4 x realtime\n",
      "Analyzing file 1 of 30: E:/Files\\Acoustic Data\\Breath\\Breath_1.wav\n",
      "Analyzing file 2 of 30: E:/Files\\Acoustic Data\\Breath\\Breath_10.wav\n",
      "Analyzing file 3 of 30: E:/Files\\Acoustic Data\\Breath\\Breath_11.wav\n",
      "Analyzing file 4 of 30: E:/Files\\Acoustic Data\\Breath\\Breath_12.wav\n",
      "Analyzing file 5 of 30: E:/Files\\Acoustic Data\\Breath\\Breath_13.wav\n",
      "Analyzing file 6 of 30: E:/Files\\Acoustic Data\\Breath\\Breath_14.wav\n",
      "Analyzing file 7 of 30: E:/Files\\Acoustic Data\\Breath\\Breath_15.wav\n",
      "Analyzing file 8 of 30: E:/Files\\Acoustic Data\\Breath\\Breath_16.wav\n",
      "Analyzing file 9 of 30: E:/Files\\Acoustic Data\\Breath\\Breath_17.wav\n",
      "Analyzing file 10 of 30: E:/Files\\Acoustic Data\\Breath\\Breath_18.wav\n",
      "Analyzing file 11 of 30: E:/Files\\Acoustic Data\\Breath\\Breath_19.wav\n",
      "Analyzing file 12 of 30: E:/Files\\Acoustic Data\\Breath\\Breath_2.wav\n",
      "Analyzing file 13 of 30: E:/Files\\Acoustic Data\\Breath\\Breath_20.wav\n",
      "Analyzing file 14 of 30: E:/Files\\Acoustic Data\\Breath\\Breath_21.wav\n",
      "Analyzing file 15 of 30: E:/Files\\Acoustic Data\\Breath\\Breath_22.wav\n",
      "Analyzing file 16 of 30: E:/Files\\Acoustic Data\\Breath\\Breath_23.wav\n",
      "Analyzing file 17 of 30: E:/Files\\Acoustic Data\\Breath\\Breath_24.wav\n",
      "Analyzing file 18 of 30: E:/Files\\Acoustic Data\\Breath\\Breath_25.wav\n",
      "Analyzing file 19 of 30: E:/Files\\Acoustic Data\\Breath\\Breath_26.wav\n",
      "Analyzing file 20 of 30: E:/Files\\Acoustic Data\\Breath\\Breath_27.wav\n",
      "Analyzing file 21 of 30: E:/Files\\Acoustic Data\\Breath\\Breath_28.wav\n",
      "Analyzing file 22 of 30: E:/Files\\Acoustic Data\\Breath\\Breath_29.wav\n",
      "Analyzing file 23 of 30: E:/Files\\Acoustic Data\\Breath\\Breath_3.wav\n",
      "Analyzing file 24 of 30: E:/Files\\Acoustic Data\\Breath\\Breath_30.wav\n",
      "Analyzing file 25 of 30: E:/Files\\Acoustic Data\\Breath\\Breath_4.wav\n",
      "Analyzing file 26 of 30: E:/Files\\Acoustic Data\\Breath\\Breath_5.wav\n",
      "Analyzing file 27 of 30: E:/Files\\Acoustic Data\\Breath\\Breath_6.wav\n",
      "Analyzing file 28 of 30: E:/Files\\Acoustic Data\\Breath\\Breath_7.wav\n",
      "Analyzing file 29 of 30: E:/Files\\Acoustic Data\\Breath\\Breath_8.wav\n",
      "Analyzing file 30 of 30: E:/Files\\Acoustic Data\\Breath\\Breath_9.wav\n",
      "Feature extraction complexity ratio: 48.0 x realtime\n",
      "(30, 138) (18, 138)\n",
      "['zcr_mean', 'energy_mean', 'energy_entropy_mean', 'spectral_centroid_mean', 'spectral_spread_mean', 'spectral_entropy_mean', 'spectral_flux_mean', 'spectral_rolloff_mean', 'mfcc_1_mean', 'mfcc_2_mean', 'mfcc_3_mean', 'mfcc_4_mean', 'mfcc_5_mean', 'mfcc_6_mean', 'mfcc_7_mean', 'mfcc_8_mean', 'mfcc_9_mean', 'mfcc_10_mean', 'mfcc_11_mean', 'mfcc_12_mean', 'mfcc_13_mean', 'chroma_1_mean', 'chroma_2_mean', 'chroma_3_mean', 'chroma_4_mean', 'chroma_5_mean', 'chroma_6_mean', 'chroma_7_mean', 'chroma_8_mean', 'chroma_9_mean', 'chroma_10_mean', 'chroma_11_mean', 'chroma_12_mean', 'chroma_std_mean', 'delta zcr_mean', 'delta energy_mean', 'delta energy_entropy_mean', 'delta spectral_centroid_mean', 'delta spectral_spread_mean', 'delta spectral_entropy_mean', 'delta spectral_flux_mean', 'delta spectral_rolloff_mean', 'delta mfcc_1_mean', 'delta mfcc_2_mean', 'delta mfcc_3_mean', 'delta mfcc_4_mean', 'delta mfcc_5_mean', 'delta mfcc_6_mean', 'delta mfcc_7_mean', 'delta mfcc_8_mean', 'delta mfcc_9_mean', 'delta mfcc_10_mean', 'delta mfcc_11_mean', 'delta mfcc_12_mean', 'delta mfcc_13_mean', 'delta chroma_1_mean', 'delta chroma_2_mean', 'delta chroma_3_mean', 'delta chroma_4_mean', 'delta chroma_5_mean', 'delta chroma_6_mean', 'delta chroma_7_mean', 'delta chroma_8_mean', 'delta chroma_9_mean', 'delta chroma_10_mean', 'delta chroma_11_mean', 'delta chroma_12_mean', 'delta chroma_std_mean', 'zcr_std', 'energy_std', 'energy_entropy_std', 'spectral_centroid_std', 'spectral_spread_std', 'spectral_entropy_std', 'spectral_flux_std', 'spectral_rolloff_std', 'mfcc_1_std', 'mfcc_2_std', 'mfcc_3_std', 'mfcc_4_std', 'mfcc_5_std', 'mfcc_6_std', 'mfcc_7_std', 'mfcc_8_std', 'mfcc_9_std', 'mfcc_10_std', 'mfcc_11_std', 'mfcc_12_std', 'mfcc_13_std', 'chroma_1_std', 'chroma_2_std', 'chroma_3_std', 'chroma_4_std', 'chroma_5_std', 'chroma_6_std', 'chroma_7_std', 'chroma_8_std', 'chroma_9_std', 'chroma_10_std', 'chroma_11_std', 'chroma_12_std', 'chroma_std_std', 'delta zcr_std', 'delta energy_std', 'delta energy_entropy_std', 'delta spectral_centroid_std', 'delta spectral_spread_std', 'delta spectral_entropy_std', 'delta spectral_flux_std', 'delta spectral_rolloff_std', 'delta mfcc_1_std', 'delta mfcc_2_std', 'delta mfcc_3_std', 'delta mfcc_4_std', 'delta mfcc_5_std', 'delta mfcc_6_std', 'delta mfcc_7_std', 'delta mfcc_8_std', 'delta mfcc_9_std', 'delta mfcc_10_std', 'delta mfcc_11_std', 'delta mfcc_12_std', 'delta mfcc_13_std', 'delta chroma_1_std', 'delta chroma_2_std', 'delta chroma_3_std', 'delta chroma_4_std', 'delta chroma_5_std', 'delta chroma_6_std', 'delta chroma_7_std', 'delta chroma_8_std', 'delta chroma_9_std', 'delta chroma_10_std', 'delta chroma_11_std', 'delta chroma_12_std', 'delta chroma_std_std', 'bpm', 'ratio']\n"
     ]
    },
    {
     "data": {
      "application/vnd.plotly.v1+json": {
       "config": {
        "linkText": "Export to plot.ly",
        "plotlyServerURL": "https://plot.ly",
        "showLink": false
       },
       "data": [
        {
         "mode": "markers",
         "name": "Ruminating",
         "type": "scatter",
         "x": [
          0.22918727898630942,
          0.20718731048417668,
          0.21153236240440002,
          0.21816973517146654,
          0.20523761328804815,
          0.1996981719476021,
          0.21594644869400806,
          0.21066204226367888,
          0.24609768727451323,
          0.23382392994150492,
          0.23505572502382377,
          0.23757845911109474,
          0.2338626844716818,
          0.23728723652752215,
          0.22509369198048124,
          0.23382392994150492,
          0.23505572502382377,
          0.2338626844716818,
          0.23728723652752215,
          0.20543853498754616,
          0.19903773286222012,
          0.19030519437325286,
          0.23558355799090336,
          0.1974383230849427,
          0.23960809311666634,
          0.2578078950420295,
          0.25740476930984846,
          0.23545042453636203,
          0.2349812693103285,
          0.20847371554048047
         ],
         "y": [
          3.0771243011540403,
          3.050501318330131,
          3.068879038351545,
          3.086790987335762,
          3.0296924482071224,
          3.0902930133758133,
          3.071036726254894,
          2.998616419838756,
          3.0071667228330416,
          2.980677283143442,
          2.9957409675590556,
          2.977107075805989,
          2.9046463980871353,
          3.042930644928372,
          2.9838993920306436,
          2.980677283143442,
          2.9957409675590556,
          2.9046463980871353,
          3.042930644928372,
          2.754935940215484,
          2.932722389125133,
          2.6559651258417034,
          3.165876046707833,
          2.853469744910899,
          3.0859460495353326,
          2.944107367902569,
          3.1067766194306317,
          2.8398556833739304,
          2.9960796839177584,
          3.1006289244758296
         ]
        },
        {
         "mode": "markers",
         "name": "Gulp",
         "type": "scatter",
         "x": [
          0.26659149582734454,
          0.25280593526936795,
          0.2370633853847522,
          0.2582960835894899,
          0.26204626113992247,
          0.25104850498868037,
          0.2437194281522015,
          0.2648841825991267,
          0.25383357906949744,
          0.2603307396746723,
          0.25946416004305006,
          0.2576779059754465,
          0.2464345469398927,
          0.2688592738719318,
          0.256367050423995,
          0.2594260625982285,
          0.26582601273133855,
          0.24609402500510194
         ],
         "y": [
          2.8525859440314876,
          2.9277354933296156,
          2.93372627249222,
          2.8504443502866565,
          2.99145787059822,
          2.912365068987565,
          2.902595571489083,
          2.9565431100186155,
          2.760954854050774,
          2.8547919106283373,
          2.818916247218388,
          2.9160097153704485,
          2.895104531591617,
          2.6468131057932234,
          2.755018110983279,
          2.891270929067268,
          2.99697986235946,
          2.9506887547320795
         ]
        },
        {
         "mode": "markers",
         "name": "Breath",
         "type": "scatter",
         "x": [
          0.17462529441211114,
          0.15204934690197852,
          0.15146882657091504,
          0.1506478069638243,
          0.1960216064511856,
          0.1612106964098138,
          0.16192666999096791,
          0.1625816970481959,
          0.1871136978796769,
          0.15653013625194256,
          0.15509832057072917,
          0.20602466168646763,
          0.19939409108973727,
          0.14060835667786212,
          0.19575500521310102,
          0.20483699508528908,
          0.23891502235765594,
          0.1945726247281598,
          0.14695757340036786,
          0.18293619362294672,
          0.1682423315272417,
          0.19245523657172717,
          0.23132051307099658,
          0.17846412084553853,
          0.15269895328252492,
          0.15303216250103915,
          0.15643838759861664,
          0.15145668024548298,
          0.14920136539661413,
          0.1649719131994131
         ],
         "y": [
          3.0987844792598356,
          3.1329240134345455,
          2.9767980974427117,
          3.0743050274737564,
          3.0382150303874,
          3.0267568022028137,
          2.980719068125554,
          3.072995535570111,
          3.0683651488106625,
          3.029118365655312,
          3.074370907389399,
          3.0927875203060284,
          2.93109668521889,
          3.0848765503517472,
          2.939777723914813,
          3.0314479957084877,
          2.591834570156547,
          2.9724159252811275,
          3.1575987044326195,
          2.7928846415824116,
          3.1123810287887856,
          3.0938545152363552,
          3.1373666377925535,
          3.079143118987665,
          3.12670046352953,
          3.049904534634624,
          3.1305627084494696,
          3.086270762888557,
          3.093337055137607,
          3.138543515290705
         ]
        }
       ],
       "layout": {
        "template": {
         "data": {
          "bar": [
           {
            "error_x": {
             "color": "#2a3f5f"
            },
            "error_y": {
             "color": "#2a3f5f"
            },
            "marker": {
             "line": {
              "color": "#E5ECF6",
              "width": 0.5
             },
             "pattern": {
              "fillmode": "overlay",
              "size": 10,
              "solidity": 0.2
             }
            },
            "type": "bar"
           }
          ],
          "barpolar": [
           {
            "marker": {
             "line": {
              "color": "#E5ECF6",
              "width": 0.5
             },
             "pattern": {
              "fillmode": "overlay",
              "size": 10,
              "solidity": 0.2
             }
            },
            "type": "barpolar"
           }
          ],
          "carpet": [
           {
            "aaxis": {
             "endlinecolor": "#2a3f5f",
             "gridcolor": "white",
             "linecolor": "white",
             "minorgridcolor": "white",
             "startlinecolor": "#2a3f5f"
            },
            "baxis": {
             "endlinecolor": "#2a3f5f",
             "gridcolor": "white",
             "linecolor": "white",
             "minorgridcolor": "white",
             "startlinecolor": "#2a3f5f"
            },
            "type": "carpet"
           }
          ],
          "choropleth": [
           {
            "colorbar": {
             "outlinewidth": 0,
             "ticks": ""
            },
            "type": "choropleth"
           }
          ],
          "contour": [
           {
            "colorbar": {
             "outlinewidth": 0,
             "ticks": ""
            },
            "colorscale": [
             [
              0,
              "#0d0887"
             ],
             [
              0.1111111111111111,
              "#46039f"
             ],
             [
              0.2222222222222222,
              "#7201a8"
             ],
             [
              0.3333333333333333,
              "#9c179e"
             ],
             [
              0.4444444444444444,
              "#bd3786"
             ],
             [
              0.5555555555555556,
              "#d8576b"
             ],
             [
              0.6666666666666666,
              "#ed7953"
             ],
             [
              0.7777777777777778,
              "#fb9f3a"
             ],
             [
              0.8888888888888888,
              "#fdca26"
             ],
             [
              1,
              "#f0f921"
             ]
            ],
            "type": "contour"
           }
          ],
          "contourcarpet": [
           {
            "colorbar": {
             "outlinewidth": 0,
             "ticks": ""
            },
            "type": "contourcarpet"
           }
          ],
          "heatmap": [
           {
            "colorbar": {
             "outlinewidth": 0,
             "ticks": ""
            },
            "colorscale": [
             [
              0,
              "#0d0887"
             ],
             [
              0.1111111111111111,
              "#46039f"
             ],
             [
              0.2222222222222222,
              "#7201a8"
             ],
             [
              0.3333333333333333,
              "#9c179e"
             ],
             [
              0.4444444444444444,
              "#bd3786"
             ],
             [
              0.5555555555555556,
              "#d8576b"
             ],
             [
              0.6666666666666666,
              "#ed7953"
             ],
             [
              0.7777777777777778,
              "#fb9f3a"
             ],
             [
              0.8888888888888888,
              "#fdca26"
             ],
             [
              1,
              "#f0f921"
             ]
            ],
            "type": "heatmap"
           }
          ],
          "heatmapgl": [
           {
            "colorbar": {
             "outlinewidth": 0,
             "ticks": ""
            },
            "colorscale": [
             [
              0,
              "#0d0887"
             ],
             [
              0.1111111111111111,
              "#46039f"
             ],
             [
              0.2222222222222222,
              "#7201a8"
             ],
             [
              0.3333333333333333,
              "#9c179e"
             ],
             [
              0.4444444444444444,
              "#bd3786"
             ],
             [
              0.5555555555555556,
              "#d8576b"
             ],
             [
              0.6666666666666666,
              "#ed7953"
             ],
             [
              0.7777777777777778,
              "#fb9f3a"
             ],
             [
              0.8888888888888888,
              "#fdca26"
             ],
             [
              1,
              "#f0f921"
             ]
            ],
            "type": "heatmapgl"
           }
          ],
          "histogram": [
           {
            "marker": {
             "pattern": {
              "fillmode": "overlay",
              "size": 10,
              "solidity": 0.2
             }
            },
            "type": "histogram"
           }
          ],
          "histogram2d": [
           {
            "colorbar": {
             "outlinewidth": 0,
             "ticks": ""
            },
            "colorscale": [
             [
              0,
              "#0d0887"
             ],
             [
              0.1111111111111111,
              "#46039f"
             ],
             [
              0.2222222222222222,
              "#7201a8"
             ],
             [
              0.3333333333333333,
              "#9c179e"
             ],
             [
              0.4444444444444444,
              "#bd3786"
             ],
             [
              0.5555555555555556,
              "#d8576b"
             ],
             [
              0.6666666666666666,
              "#ed7953"
             ],
             [
              0.7777777777777778,
              "#fb9f3a"
             ],
             [
              0.8888888888888888,
              "#fdca26"
             ],
             [
              1,
              "#f0f921"
             ]
            ],
            "type": "histogram2d"
           }
          ],
          "histogram2dcontour": [
           {
            "colorbar": {
             "outlinewidth": 0,
             "ticks": ""
            },
            "colorscale": [
             [
              0,
              "#0d0887"
             ],
             [
              0.1111111111111111,
              "#46039f"
             ],
             [
              0.2222222222222222,
              "#7201a8"
             ],
             [
              0.3333333333333333,
              "#9c179e"
             ],
             [
              0.4444444444444444,
              "#bd3786"
             ],
             [
              0.5555555555555556,
              "#d8576b"
             ],
             [
              0.6666666666666666,
              "#ed7953"
             ],
             [
              0.7777777777777778,
              "#fb9f3a"
             ],
             [
              0.8888888888888888,
              "#fdca26"
             ],
             [
              1,
              "#f0f921"
             ]
            ],
            "type": "histogram2dcontour"
           }
          ],
          "mesh3d": [
           {
            "colorbar": {
             "outlinewidth": 0,
             "ticks": ""
            },
            "type": "mesh3d"
           }
          ],
          "parcoords": [
           {
            "line": {
             "colorbar": {
              "outlinewidth": 0,
              "ticks": ""
             }
            },
            "type": "parcoords"
           }
          ],
          "pie": [
           {
            "automargin": true,
            "type": "pie"
           }
          ],
          "scatter": [
           {
            "fillpattern": {
             "fillmode": "overlay",
             "size": 10,
             "solidity": 0.2
            },
            "type": "scatter"
           }
          ],
          "scatter3d": [
           {
            "line": {
             "colorbar": {
              "outlinewidth": 0,
              "ticks": ""
             }
            },
            "marker": {
             "colorbar": {
              "outlinewidth": 0,
              "ticks": ""
             }
            },
            "type": "scatter3d"
           }
          ],
          "scattercarpet": [
           {
            "marker": {
             "colorbar": {
              "outlinewidth": 0,
              "ticks": ""
             }
            },
            "type": "scattercarpet"
           }
          ],
          "scattergeo": [
           {
            "marker": {
             "colorbar": {
              "outlinewidth": 0,
              "ticks": ""
             }
            },
            "type": "scattergeo"
           }
          ],
          "scattergl": [
           {
            "marker": {
             "colorbar": {
              "outlinewidth": 0,
              "ticks": ""
             }
            },
            "type": "scattergl"
           }
          ],
          "scattermapbox": [
           {
            "marker": {
             "colorbar": {
              "outlinewidth": 0,
              "ticks": ""
             }
            },
            "type": "scattermapbox"
           }
          ],
          "scatterpolar": [
           {
            "marker": {
             "colorbar": {
              "outlinewidth": 0,
              "ticks": ""
             }
            },
            "type": "scatterpolar"
           }
          ],
          "scatterpolargl": [
           {
            "marker": {
             "colorbar": {
              "outlinewidth": 0,
              "ticks": ""
             }
            },
            "type": "scatterpolargl"
           }
          ],
          "scatterternary": [
           {
            "marker": {
             "colorbar": {
              "outlinewidth": 0,
              "ticks": ""
             }
            },
            "type": "scatterternary"
           }
          ],
          "surface": [
           {
            "colorbar": {
             "outlinewidth": 0,
             "ticks": ""
            },
            "colorscale": [
             [
              0,
              "#0d0887"
             ],
             [
              0.1111111111111111,
              "#46039f"
             ],
             [
              0.2222222222222222,
              "#7201a8"
             ],
             [
              0.3333333333333333,
              "#9c179e"
             ],
             [
              0.4444444444444444,
              "#bd3786"
             ],
             [
              0.5555555555555556,
              "#d8576b"
             ],
             [
              0.6666666666666666,
              "#ed7953"
             ],
             [
              0.7777777777777778,
              "#fb9f3a"
             ],
             [
              0.8888888888888888,
              "#fdca26"
             ],
             [
              1,
              "#f0f921"
             ]
            ],
            "type": "surface"
           }
          ],
          "table": [
           {
            "cells": {
             "fill": {
              "color": "#EBF0F8"
             },
             "line": {
              "color": "white"
             }
            },
            "header": {
             "fill": {
              "color": "#C8D4E3"
             },
             "line": {
              "color": "white"
             }
            },
            "type": "table"
           }
          ]
         },
         "layout": {
          "annotationdefaults": {
           "arrowcolor": "#2a3f5f",
           "arrowhead": 0,
           "arrowwidth": 1
          },
          "autotypenumbers": "strict",
          "coloraxis": {
           "colorbar": {
            "outlinewidth": 0,
            "ticks": ""
           }
          },
          "colorscale": {
           "diverging": [
            [
             0,
             "#8e0152"
            ],
            [
             0.1,
             "#c51b7d"
            ],
            [
             0.2,
             "#de77ae"
            ],
            [
             0.3,
             "#f1b6da"
            ],
            [
             0.4,
             "#fde0ef"
            ],
            [
             0.5,
             "#f7f7f7"
            ],
            [
             0.6,
             "#e6f5d0"
            ],
            [
             0.7,
             "#b8e186"
            ],
            [
             0.8,
             "#7fbc41"
            ],
            [
             0.9,
             "#4d9221"
            ],
            [
             1,
             "#276419"
            ]
           ],
           "sequential": [
            [
             0,
             "#0d0887"
            ],
            [
             0.1111111111111111,
             "#46039f"
            ],
            [
             0.2222222222222222,
             "#7201a8"
            ],
            [
             0.3333333333333333,
             "#9c179e"
            ],
            [
             0.4444444444444444,
             "#bd3786"
            ],
            [
             0.5555555555555556,
             "#d8576b"
            ],
            [
             0.6666666666666666,
             "#ed7953"
            ],
            [
             0.7777777777777778,
             "#fb9f3a"
            ],
            [
             0.8888888888888888,
             "#fdca26"
            ],
            [
             1,
             "#f0f921"
            ]
           ],
           "sequentialminus": [
            [
             0,
             "#0d0887"
            ],
            [
             0.1111111111111111,
             "#46039f"
            ],
            [
             0.2222222222222222,
             "#7201a8"
            ],
            [
             0.3333333333333333,
             "#9c179e"
            ],
            [
             0.4444444444444444,
             "#bd3786"
            ],
            [
             0.5555555555555556,
             "#d8576b"
            ],
            [
             0.6666666666666666,
             "#ed7953"
            ],
            [
             0.7777777777777778,
             "#fb9f3a"
            ],
            [
             0.8888888888888888,
             "#fdca26"
            ],
            [
             1,
             "#f0f921"
            ]
           ]
          },
          "colorway": [
           "#636efa",
           "#EF553B",
           "#00cc96",
           "#ab63fa",
           "#FFA15A",
           "#19d3f3",
           "#FF6692",
           "#B6E880",
           "#FF97FF",
           "#FECB52"
          ],
          "font": {
           "color": "#2a3f5f"
          },
          "geo": {
           "bgcolor": "white",
           "lakecolor": "white",
           "landcolor": "#E5ECF6",
           "showlakes": true,
           "showland": true,
           "subunitcolor": "white"
          },
          "hoverlabel": {
           "align": "left"
          },
          "hovermode": "closest",
          "mapbox": {
           "style": "light"
          },
          "paper_bgcolor": "white",
          "plot_bgcolor": "#E5ECF6",
          "polar": {
           "angularaxis": {
            "gridcolor": "white",
            "linecolor": "white",
            "ticks": ""
           },
           "bgcolor": "#E5ECF6",
           "radialaxis": {
            "gridcolor": "white",
            "linecolor": "white",
            "ticks": ""
           }
          },
          "scene": {
           "xaxis": {
            "backgroundcolor": "#E5ECF6",
            "gridcolor": "white",
            "gridwidth": 2,
            "linecolor": "white",
            "showbackground": true,
            "ticks": "",
            "zerolinecolor": "white"
           },
           "yaxis": {
            "backgroundcolor": "#E5ECF6",
            "gridcolor": "white",
            "gridwidth": 2,
            "linecolor": "white",
            "showbackground": true,
            "ticks": "",
            "zerolinecolor": "white"
           },
           "zaxis": {
            "backgroundcolor": "#E5ECF6",
            "gridcolor": "white",
            "gridwidth": 2,
            "linecolor": "white",
            "showbackground": true,
            "ticks": "",
            "zerolinecolor": "white"
           }
          },
          "shapedefaults": {
           "line": {
            "color": "#2a3f5f"
           }
          },
          "ternary": {
           "aaxis": {
            "gridcolor": "white",
            "linecolor": "white",
            "ticks": ""
           },
           "baxis": {
            "gridcolor": "white",
            "linecolor": "white",
            "ticks": ""
           },
           "bgcolor": "#E5ECF6",
           "caxis": {
            "gridcolor": "white",
            "linecolor": "white",
            "ticks": ""
           }
          },
          "title": {
           "x": 0.05
          },
          "xaxis": {
           "automargin": true,
           "gridcolor": "white",
           "linecolor": "white",
           "ticks": "",
           "title": {
            "standoff": 15
           },
           "zerolinecolor": "white",
           "zerolinewidth": 2
          },
          "yaxis": {
           "automargin": true,
           "gridcolor": "white",
           "linecolor": "white",
           "ticks": "",
           "title": {
            "standoff": 15
           },
           "zerolinecolor": "white",
           "zerolinewidth": 2
          }
         }
        },
        "xaxis": {
         "title": {
          "text": "spectral_centroid_mean"
         }
        },
        "yaxis": {
         "title": {
          "text": "energy_entropy_mean"
         }
        }
       }
      }
     },
     "metadata": {},
     "output_type": "display_data"
    }
   ],
   "source": [
    "from pyAudioAnalysis import MidTermFeatures as aF\n",
    "import os\n",
    "import numpy as np\n",
    "import plotly.graph_objs as go \n",
    "import plotly\n",
    "audio_dirs = [os.path.join('E:/Files','Acoustic Data', 'Ruminating'), os.path.join('E:/Files','Acoustic Data', 'Gulp'),os.path.join('E:/Files','Acoustic Data', 'Breath')] \n",
    "class_names = [os.path.basename(d) for d in audio_dirs] \n",
    "#print(class_names)\n",
    "m_win, m_step, s_win, s_step = 1, 1, 0.1, 0.05 \n",
    "\n",
    "# segment-level feature extraction:\n",
    "features = [] \n",
    "\n",
    "for d in audio_dirs: # get feature matrix for each directory (class) \n",
    "    f, files, fn = aF.directory_feature_extraction(d, m_win, m_step, \n",
    "                                                   s_win, s_step) \n",
    "    \n",
    "    features.append(f)\n",
    "\n",
    "#print(len(features))\n",
    "print(features[0].shape, features[1].shape)\n",
    "print(fn)\n",
    "\n",
    "# select 2 features and create feature matrices for the two classes:\n",
    "f1 = np.array([features[0][:, fn.index('spectral_centroid_mean')],#spectral_centroid_mean表示频谱中心的均值\n",
    "               features[0][:, fn.index('energy_entropy_mean')]])#energy_entropy_mean表示能量熵的均值\n",
    "f2 = np.array([features[1][:, fn.index('spectral_centroid_mean')],\n",
    "               features[1][:, fn.index('energy_entropy_mean')]])\n",
    "f3 = np.array([features[2][:, fn.index('spectral_centroid_mean')],\n",
    "               features[2][:, fn.index('energy_entropy_mean')]])\n",
    "\n",
    "plots = [go.Scatter(x=f1[0, :], y=f1[1, :], \n",
    "                    name=class_names[0], mode='markers'),\n",
    "         go.Scatter(x=f2[0, :], y=f2[1, :], \n",
    "                    name=class_names[1], mode='markers'),\n",
    "         go.Scatter(x=f3[0, :], y=f3[1, :], \n",
    "                    name=class_names[2], mode='markers'),]\n",
    "mylayout = go.Layout(xaxis=dict(title=\"spectral_centroid_mean\"),\n",
    "                     yaxis=dict(title=\"energy_entropy_mean\"))\n",
    "plotly.offline.iplot(go.Figure(data=plots, layout=mylayout))\n"
   ]
  },
  {
   "cell_type": "code",
   "execution_count": 1,
   "metadata": {},
   "outputs": [
    {
     "name": "stderr",
     "output_type": "stream",
     "text": [
      "e:\\Python\\Lib\\site-packages\\pydub\\utils.py:170: RuntimeWarning: Couldn't find ffmpeg or avconv - defaulting to ffmpeg, but may not work\n",
      "  warn(\"Couldn't find ffmpeg or avconv - defaulting to ffmpeg, but may not work\", RuntimeWarning)\n"
     ]
    },
    {
     "name": "stdout",
     "output_type": "stream",
     "text": [
      "22050\n"
     ]
    }
   ],
   "source": [
    "from pyAudioAnalysis import MidTermFeatures as aF\n",
    "import os\n",
    "import librosa\n",
    "\n",
    "\n",
    "file = os.path.join('E:/Files','Acoustic Data', 'Test','2min_new.wav')\n",
    "y, sr = librosa.load(file, duration=5, offset=35)\n",
    "print(sr)"
   ]
  },
  {
   "cell_type": "code",
   "execution_count": 11,
   "metadata": {},
   "outputs": [],
   "source": [
    "import TXT_to_Segments\n",
    "import os\n",
    "\n",
    "txt_file = os.path.join('E:/Files','Acoustic Data', 'Test', '2min_new.txt')\n",
    "segments_file = os.path.join('E:/Files','Acoustic Data', 'Test', '2min_new.segments')\n",
    "\n",
    "TXT_to_Segments.txt_to_segments(txt_file, segments_file)\n"
   ]
  },
  {
   "cell_type": "code",
   "execution_count": 1,
   "metadata": {},
   "outputs": [
    {
     "name": "stderr",
     "output_type": "stream",
     "text": [
      "e:\\Python\\Lib\\site-packages\\pydub\\utils.py:170: RuntimeWarning: Couldn't find ffmpeg or avconv - defaulting to ffmpeg, but may not work\n",
      "  warn(\"Couldn't find ffmpeg or avconv - defaulting to ffmpeg, but may not work\", RuntimeWarning)\n"
     ]
    }
   ],
   "source": [
    "import Split_Audio\n",
    "import os\n",
    "\n",
    "audio_file_path = os.path.join('E:/Files','Acoustic Data', 'Test', '1min.wav')\n",
    "segments_file_path = os.path.join('E:/Files','Acoustic Data', 'Test', '1min.segments')\n",
    "output_folder_path = os.path.join('E:/Files','Acoustic Data', 'Test', '1min_parts')\n",
    "\n",
    "Split_Audio.split_audio_using_segments(audio_file_path, segments_file_path, output_folder_path)"
   ]
  },
  {
   "cell_type": "code",
   "execution_count": 4,
   "metadata": {},
   "outputs": [
    {
     "name": "stdout",
     "output_type": "stream",
     "text": [
      "Analyzing file 1 of 30: E:/Files\\Acoustic Data\\Ruminating\\Ruminating_1.wav\n",
      "Analyzing file 2 of 30: E:/Files\\Acoustic Data\\Ruminating\\Ruminating_10.wav\n",
      "Analyzing file 3 of 30: E:/Files\\Acoustic Data\\Ruminating\\Ruminating_11.wav\n",
      "Analyzing file 4 of 30: E:/Files\\Acoustic Data\\Ruminating\\Ruminating_12.wav\n",
      "Analyzing file 5 of 30: E:/Files\\Acoustic Data\\Ruminating\\Ruminating_13.wav\n",
      "Analyzing file 6 of 30: E:/Files\\Acoustic Data\\Ruminating\\Ruminating_14.wav\n",
      "Analyzing file 7 of 30: E:/Files\\Acoustic Data\\Ruminating\\Ruminating_15.wav\n",
      "Analyzing file 8 of 30: E:/Files\\Acoustic Data\\Ruminating\\Ruminating_16.wav\n",
      "Analyzing file 9 of 30: E:/Files\\Acoustic Data\\Ruminating\\Ruminating_17.wav\n",
      "Analyzing file 10 of 30: E:/Files\\Acoustic Data\\Ruminating\\Ruminating_18.wav\n",
      "Analyzing file 11 of 30: E:/Files\\Acoustic Data\\Ruminating\\Ruminating_19.wav\n",
      "Analyzing file 12 of 30: E:/Files\\Acoustic Data\\Ruminating\\Ruminating_2.wav\n",
      "Analyzing file 13 of 30: E:/Files\\Acoustic Data\\Ruminating\\Ruminating_20.wav\n",
      "Analyzing file 14 of 30: E:/Files\\Acoustic Data\\Ruminating\\Ruminating_21.wav\n",
      "Analyzing file 15 of 30: E:/Files\\Acoustic Data\\Ruminating\\Ruminating_22.wav\n",
      "Analyzing file 16 of 30: E:/Files\\Acoustic Data\\Ruminating\\Ruminating_23.wav\n",
      "Analyzing file 17 of 30: E:/Files\\Acoustic Data\\Ruminating\\Ruminating_24.wav\n",
      "Analyzing file 18 of 30: E:/Files\\Acoustic Data\\Ruminating\\Ruminating_25.wav\n",
      "Analyzing file 19 of 30: E:/Files\\Acoustic Data\\Ruminating\\Ruminating_26.wav\n",
      "Analyzing file 20 of 30: E:/Files\\Acoustic Data\\Ruminating\\Ruminating_27.wav\n",
      "Analyzing file 21 of 30: E:/Files\\Acoustic Data\\Ruminating\\Ruminating_28.wav\n",
      "Analyzing file 22 of 30: E:/Files\\Acoustic Data\\Ruminating\\Ruminating_29.wav\n",
      "Analyzing file 23 of 30: E:/Files\\Acoustic Data\\Ruminating\\Ruminating_3.wav\n",
      "Analyzing file 24 of 30: E:/Files\\Acoustic Data\\Ruminating\\Ruminating_30.wav\n",
      "Analyzing file 25 of 30: E:/Files\\Acoustic Data\\Ruminating\\Ruminating_4.wav\n"
     ]
    },
    {
     "name": "stderr",
     "output_type": "stream",
     "text": [
      "e:\\Files\\Github\\Cow-Audio-Detection\\pyAudioAnalysis\\audioBasicIO.py:99: WavFileWarning: Chunk (non-data) not understood, skipping it.\n",
      "  sampling_rate, signal = wavfile.read(input_file) # from scipy.io\n"
     ]
    },
    {
     "name": "stdout",
     "output_type": "stream",
     "text": [
      "Analyzing file 26 of 30: E:/Files\\Acoustic Data\\Ruminating\\Ruminating_5.wav\n",
      "Analyzing file 27 of 30: E:/Files\\Acoustic Data\\Ruminating\\Ruminating_6.wav\n",
      "Analyzing file 28 of 30: E:/Files\\Acoustic Data\\Ruminating\\Ruminating_7.wav\n",
      "Analyzing file 29 of 30: E:/Files\\Acoustic Data\\Ruminating\\Ruminating_8.wav\n",
      "Analyzing file 30 of 30: E:/Files\\Acoustic Data\\Ruminating\\Ruminating_9.wav\n",
      "Feature extraction complexity ratio: 121.6 x realtime\n",
      "Analyzing file 1 of 18: E:/Files\\Acoustic Data\\Gulp\\Gulp_1.wav\n",
      "Analyzing file 2 of 18: E:/Files\\Acoustic Data\\Gulp\\Gulp_10.wav\n",
      "Analyzing file 3 of 18: E:/Files\\Acoustic Data\\Gulp\\Gulp_11.wav\n",
      "Analyzing file 4 of 18: E:/Files\\Acoustic Data\\Gulp\\Gulp_12.wav\n",
      "Analyzing file 5 of 18: E:/Files\\Acoustic Data\\Gulp\\Gulp_13.wav\n",
      "Analyzing file 6 of 18: E:/Files\\Acoustic Data\\Gulp\\Gulp_14.wav\n",
      "Analyzing file 7 of 18: E:/Files\\Acoustic Data\\Gulp\\Gulp_15.wav\n",
      "Analyzing file 8 of 18: E:/Files\\Acoustic Data\\Gulp\\Gulp_16.wav\n",
      "Analyzing file 9 of 18: E:/Files\\Acoustic Data\\Gulp\\Gulp_17.wav\n",
      "Analyzing file 10 of 18: E:/Files\\Acoustic Data\\Gulp\\Gulp_18.wav\n",
      "Analyzing file 11 of 18: E:/Files\\Acoustic Data\\Gulp\\Gulp_2.wav\n",
      "Analyzing file 12 of 18: E:/Files\\Acoustic Data\\Gulp\\Gulp_3.wav\n",
      "Analyzing file 13 of 18: E:/Files\\Acoustic Data\\Gulp\\Gulp_4.wav\n",
      "Analyzing file 14 of 18: E:/Files\\Acoustic Data\\Gulp\\Gulp_5.wav\n",
      "Analyzing file 15 of 18: E:/Files\\Acoustic Data\\Gulp\\Gulp_6.wav\n",
      "Analyzing file 16 of 18: E:/Files\\Acoustic Data\\Gulp\\Gulp_7.wav\n",
      "Analyzing file 17 of 18: E:/Files\\Acoustic Data\\Gulp\\Gulp_8.wav\n",
      "Analyzing file 18 of 18: E:/Files\\Acoustic Data\\Gulp\\Gulp_9.wav\n",
      "Feature extraction complexity ratio: 130.6 x realtime\n",
      "Analyzing file 1 of 30: E:/Files\\Acoustic Data\\Breath\\Breath_1.wav\n",
      "Analyzing file 2 of 30: E:/Files\\Acoustic Data\\Breath\\Breath_10.wav\n",
      "Analyzing file 3 of 30: E:/Files\\Acoustic Data\\Breath\\Breath_11.wav\n",
      "Analyzing file 4 of 30: E:/Files\\Acoustic Data\\Breath\\Breath_12.wav\n",
      "Analyzing file 5 of 30: E:/Files\\Acoustic Data\\Breath\\Breath_13.wav\n",
      "Analyzing file 6 of 30: E:/Files\\Acoustic Data\\Breath\\Breath_14.wav\n",
      "Analyzing file 7 of 30: E:/Files\\Acoustic Data\\Breath\\Breath_15.wav\n",
      "Analyzing file 8 of 30: E:/Files\\Acoustic Data\\Breath\\Breath_16.wav\n",
      "Analyzing file 9 of 30: E:/Files\\Acoustic Data\\Breath\\Breath_17.wav\n",
      "Analyzing file 10 of 30: E:/Files\\Acoustic Data\\Breath\\Breath_18.wav\n",
      "Analyzing file 11 of 30: E:/Files\\Acoustic Data\\Breath\\Breath_19.wav\n",
      "Analyzing file 12 of 30: E:/Files\\Acoustic Data\\Breath\\Breath_2.wav\n",
      "Analyzing file 13 of 30: E:/Files\\Acoustic Data\\Breath\\Breath_20.wav\n",
      "Analyzing file 14 of 30: E:/Files\\Acoustic Data\\Breath\\Breath_21.wav\n",
      "Analyzing file 15 of 30: E:/Files\\Acoustic Data\\Breath\\Breath_22.wav\n",
      "Analyzing file 16 of 30: E:/Files\\Acoustic Data\\Breath\\Breath_23.wav\n",
      "Analyzing file 17 of 30: E:/Files\\Acoustic Data\\Breath\\Breath_24.wav\n",
      "Analyzing file 18 of 30: E:/Files\\Acoustic Data\\Breath\\Breath_25.wav\n",
      "Analyzing file 19 of 30: E:/Files\\Acoustic Data\\Breath\\Breath_26.wav\n",
      "Analyzing file 20 of 30: E:/Files\\Acoustic Data\\Breath\\Breath_27.wav\n",
      "Analyzing file 21 of 30: E:/Files\\Acoustic Data\\Breath\\Breath_28.wav\n",
      "Analyzing file 22 of 30: E:/Files\\Acoustic Data\\Breath\\Breath_29.wav\n",
      "Analyzing file 23 of 30: E:/Files\\Acoustic Data\\Breath\\Breath_3.wav\n",
      "Analyzing file 24 of 30: E:/Files\\Acoustic Data\\Breath\\Breath_30.wav\n",
      "Analyzing file 25 of 30: E:/Files\\Acoustic Data\\Breath\\Breath_4.wav\n",
      "Analyzing file 26 of 30: E:/Files\\Acoustic Data\\Breath\\Breath_5.wav\n",
      "Analyzing file 27 of 30: E:/Files\\Acoustic Data\\Breath\\Breath_6.wav\n",
      "Analyzing file 28 of 30: E:/Files\\Acoustic Data\\Breath\\Breath_7.wav\n",
      "Analyzing file 29 of 30: E:/Files\\Acoustic Data\\Breath\\Breath_8.wav\n",
      "Analyzing file 30 of 30: E:/Files\\Acoustic Data\\Breath\\Breath_9.wav\n",
      "Feature extraction complexity ratio: 119.2 x realtime\n",
      "Param = 0.00100 - classifier Evaluation Experiment 1 of 642\n",
      "Param = 0.00100 - classifier Evaluation Experiment 2 of 642\n",
      "Param = 0.00100 - classifier Evaluation Experiment 3 of 642\n",
      "Param = 0.00100 - classifier Evaluation Experiment 4 of 642\n",
      "Param = 0.00100 - classifier Evaluation Experiment 5 of 642\n",
      "Param = 0.00100 - classifier Evaluation Experiment 6 of 642\n",
      "Param = 0.00100 - classifier Evaluation Experiment 7 of 642\n",
      "Param = 0.00100 - classifier Evaluation Experiment 8 of 642\n",
      "Param = 0.00100 - classifier Evaluation Experiment 9 of 642\n",
      "Param = 0.00100 - classifier Evaluation Experiment 10 of 642\n",
      "Param = 0.00100 - classifier Evaluation Experiment 11 of 642\n",
      "Param = 0.00100 - classifier Evaluation Experiment 12 of 642\n",
      "Param = 0.00100 - classifier Evaluation Experiment 13 of 642\n",
      "Param = 0.00100 - classifier Evaluation Experiment 14 of 642\n",
      "Param = 0.00100 - classifier Evaluation Experiment 15 of 642\n",
      "Param = 0.00100 - classifier Evaluation Experiment 16 of 642\n",
      "Param = 0.00100 - classifier Evaluation Experiment 17 of 642\n",
      "Param = 0.00100 - classifier Evaluation Experiment 18 of 642\n",
      "Param = 0.00100 - classifier Evaluation Experiment 19 of 642\n",
      "Param = 0.00100 - classifier Evaluation Experiment 20 of 642\n",
      "Param = 0.00100 - classifier Evaluation Experiment 21 of 642\n",
      "Param = 0.00100 - classifier Evaluation Experiment 22 of 642\n",
      "Param = 0.00100 - classifier Evaluation Experiment 23 of 642\n",
      "Param = 0.00100 - classifier Evaluation Experiment 24 of 642\n",
      "Param = 0.00100 - classifier Evaluation Experiment 25 of 642\n",
      "Param = 0.00100 - classifier Evaluation Experiment 26 of 642\n",
      "Param = 0.00100 - classifier Evaluation Experiment 27 of 642\n",
      "Param = 0.00100 - classifier Evaluation Experiment 28 of 642\n",
      "Param = 0.00100 - classifier Evaluation Experiment 29 of 642\n",
      "Param = 0.00100 - classifier Evaluation Experiment 30 of 642\n",
      "Param = 0.00100 - classifier Evaluation Experiment 31 of 642\n",
      "Param = 0.00100 - classifier Evaluation Experiment 32 of 642\n",
      "Param = 0.00100 - classifier Evaluation Experiment 33 of 642\n",
      "Param = 0.00100 - classifier Evaluation Experiment 34 of 642\n",
      "Param = 0.00100 - classifier Evaluation Experiment 35 of 642\n",
      "Param = 0.00100 - classifier Evaluation Experiment 36 of 642\n",
      "Param = 0.00100 - classifier Evaluation Experiment 37 of 642\n",
      "Param = 0.00100 - classifier Evaluation Experiment 38 of 642\n",
      "Param = 0.00100 - classifier Evaluation Experiment 39 of 642\n",
      "Param = 0.00100 - classifier Evaluation Experiment 40 of 642\n",
      "Param = 0.00100 - classifier Evaluation Experiment 41 of 642\n",
      "Param = 0.00100 - classifier Evaluation Experiment 42 of 642\n",
      "Param = 0.00100 - classifier Evaluation Experiment 43 of 642\n",
      "Param = 0.00100 - classifier Evaluation Experiment 44 of 642\n",
      "Param = 0.00100 - classifier Evaluation Experiment 45 of 642\n",
      "Param = 0.00100 - classifier Evaluation Experiment 46 of 642\n",
      "Param = 0.00100 - classifier Evaluation Experiment 47 of 642\n",
      "Param = 0.00100 - classifier Evaluation Experiment 48 of 642\n",
      "Param = 0.00100 - classifier Evaluation Experiment 49 of 642\n",
      "Param = 0.00100 - classifier Evaluation Experiment 50 of 642\n",
      "Param = 0.00100 - classifier Evaluation Experiment 51 of 642\n",
      "Param = 0.00100 - classifier Evaluation Experiment 52 of 642\n",
      "Param = 0.00100 - classifier Evaluation Experiment 53 of 642\n",
      "Param = 0.00100 - classifier Evaluation Experiment 54 of 642\n",
      "Param = 0.00100 - classifier Evaluation Experiment 55 of 642\n",
      "Param = 0.00100 - classifier Evaluation Experiment 56 of 642\n",
      "Param = 0.00100 - classifier Evaluation Experiment 57 of 642\n",
      "Param = 0.00100 - classifier Evaluation Experiment 58 of 642\n",
      "Param = 0.00100 - classifier Evaluation Experiment 59 of 642\n",
      "Param = 0.00100 - classifier Evaluation Experiment 60 of 642\n",
      "Param = 0.00100 - classifier Evaluation Experiment 61 of 642\n",
      "Param = 0.00100 - classifier Evaluation Experiment 62 of 642\n",
      "Param = 0.00100 - classifier Evaluation Experiment 63 of 642\n",
      "Param = 0.00100 - classifier Evaluation Experiment 64 of 642\n",
      "Param = 0.00100 - classifier Evaluation Experiment 65 of 642\n",
      "Param = 0.00100 - classifier Evaluation Experiment 66 of 642\n",
      "Param = 0.00100 - classifier Evaluation Experiment 67 of 642\n",
      "Param = 0.00100 - classifier Evaluation Experiment 68 of 642\n",
      "Param = 0.00100 - classifier Evaluation Experiment 69 of 642\n",
      "Param = 0.00100 - classifier Evaluation Experiment 70 of 642\n",
      "Param = 0.00100 - classifier Evaluation Experiment 71 of 642\n",
      "Param = 0.00100 - classifier Evaluation Experiment 72 of 642\n",
      "Param = 0.00100 - classifier Evaluation Experiment 73 of 642\n",
      "Param = 0.00100 - classifier Evaluation Experiment 74 of 642\n",
      "Param = 0.00100 - classifier Evaluation Experiment 75 of 642\n",
      "Param = 0.00100 - classifier Evaluation Experiment 76 of 642\n",
      "Param = 0.00100 - classifier Evaluation Experiment 77 of 642\n",
      "Param = 0.00100 - classifier Evaluation Experiment 78 of 642\n",
      "Param = 0.00100 - classifier Evaluation Experiment 79 of 642\n",
      "Param = 0.00100 - classifier Evaluation Experiment 80 of 642\n",
      "Param = 0.00100 - classifier Evaluation Experiment 81 of 642\n",
      "Param = 0.00100 - classifier Evaluation Experiment 82 of 642\n",
      "Param = 0.00100 - classifier Evaluation Experiment 83 of 642\n",
      "Param = 0.00100 - classifier Evaluation Experiment 84 of 642\n",
      "Param = 0.00100 - classifier Evaluation Experiment 85 of 642\n",
      "Param = 0.00100 - classifier Evaluation Experiment 86 of 642\n",
      "Param = 0.00100 - classifier Evaluation Experiment 87 of 642\n",
      "Param = 0.00100 - classifier Evaluation Experiment 88 of 642\n",
      "Param = 0.00100 - classifier Evaluation Experiment 89 of 642\n",
      "Param = 0.00100 - classifier Evaluation Experiment 90 of 642\n",
      "Param = 0.00100 - classifier Evaluation Experiment 91 of 642\n",
      "Param = 0.00100 - classifier Evaluation Experiment 92 of 642\n",
      "Param = 0.00100 - classifier Evaluation Experiment 93 of 642\n",
      "Param = 0.00100 - classifier Evaluation Experiment 94 of 642\n",
      "Param = 0.00100 - classifier Evaluation Experiment 95 of 642\n",
      "Param = 0.00100 - classifier Evaluation Experiment 96 of 642\n",
      "Param = 0.00100 - classifier Evaluation Experiment 97 of 642\n",
      "Param = 0.00100 - classifier Evaluation Experiment 98 of 642\n",
      "Param = 0.00100 - classifier Evaluation Experiment 99 of 642\n",
      "Param = 0.00100 - classifier Evaluation Experiment 100 of 642\n",
      "Param = 0.00100 - classifier Evaluation Experiment 101 of 642\n",
      "Param = 0.00100 - classifier Evaluation Experiment 102 of 642\n",
      "Param = 0.00100 - classifier Evaluation Experiment 103 of 642\n",
      "Param = 0.00100 - classifier Evaluation Experiment 104 of 642\n",
      "Param = 0.00100 - classifier Evaluation Experiment 105 of 642\n",
      "Param = 0.00100 - classifier Evaluation Experiment 106 of 642\n",
      "Param = 0.00100 - classifier Evaluation Experiment 107 of 642\n",
      "Param = 0.00100 - classifier Evaluation Experiment 108 of 642\n",
      "Param = 0.00100 - classifier Evaluation Experiment 109 of 642\n",
      "Param = 0.00100 - classifier Evaluation Experiment 110 of 642\n",
      "Param = 0.00100 - classifier Evaluation Experiment 111 of 642\n",
      "Param = 0.00100 - classifier Evaluation Experiment 112 of 642\n",
      "Param = 0.00100 - classifier Evaluation Experiment 113 of 642\n",
      "Param = 0.00100 - classifier Evaluation Experiment 114 of 642\n",
      "Param = 0.00100 - classifier Evaluation Experiment 115 of 642\n",
      "Param = 0.00100 - classifier Evaluation Experiment 116 of 642\n",
      "Param = 0.00100 - classifier Evaluation Experiment 117 of 642\n",
      "Param = 0.00100 - classifier Evaluation Experiment 118 of 642\n",
      "Param = 0.00100 - classifier Evaluation Experiment 119 of 642\n",
      "Param = 0.00100 - classifier Evaluation Experiment 120 of 642\n",
      "Param = 0.00100 - classifier Evaluation Experiment 121 of 642\n",
      "Param = 0.00100 - classifier Evaluation Experiment 122 of 642\n",
      "Param = 0.00100 - classifier Evaluation Experiment 123 of 642\n",
      "Param = 0.00100 - classifier Evaluation Experiment 124 of 642\n",
      "Param = 0.00100 - classifier Evaluation Experiment 125 of 642\n",
      "Param = 0.00100 - classifier Evaluation Experiment 126 of 642\n",
      "Param = 0.00100 - classifier Evaluation Experiment 127 of 642\n",
      "Param = 0.00100 - classifier Evaluation Experiment 128 of 642\n",
      "Param = 0.00100 - classifier Evaluation Experiment 129 of 642\n",
      "Param = 0.00100 - classifier Evaluation Experiment 130 of 642\n",
      "Param = 0.00100 - classifier Evaluation Experiment 131 of 642\n",
      "Param = 0.00100 - classifier Evaluation Experiment 132 of 642\n",
      "Param = 0.00100 - classifier Evaluation Experiment 133 of 642\n",
      "Param = 0.00100 - classifier Evaluation Experiment 134 of 642\n",
      "Param = 0.00100 - classifier Evaluation Experiment 135 of 642\n",
      "Param = 0.00100 - classifier Evaluation Experiment 136 of 642\n",
      "Param = 0.00100 - classifier Evaluation Experiment 137 of 642\n",
      "Param = 0.00100 - classifier Evaluation Experiment 138 of 642\n",
      "Param = 0.00100 - classifier Evaluation Experiment 139 of 642\n",
      "Param = 0.00100 - classifier Evaluation Experiment 140 of 642\n",
      "Param = 0.00100 - classifier Evaluation Experiment 141 of 642\n",
      "Param = 0.00100 - classifier Evaluation Experiment 142 of 642\n",
      "Param = 0.00100 - classifier Evaluation Experiment 143 of 642\n",
      "Param = 0.00100 - classifier Evaluation Experiment 144 of 642\n",
      "Param = 0.00100 - classifier Evaluation Experiment 145 of 642\n",
      "Param = 0.00100 - classifier Evaluation Experiment 146 of 642\n",
      "Param = 0.00100 - classifier Evaluation Experiment 147 of 642\n",
      "Param = 0.00100 - classifier Evaluation Experiment 148 of 642\n",
      "Param = 0.00100 - classifier Evaluation Experiment 149 of 642\n",
      "Param = 0.00100 - classifier Evaluation Experiment 150 of 642\n",
      "Param = 0.00100 - classifier Evaluation Experiment 151 of 642\n",
      "Param = 0.00100 - classifier Evaluation Experiment 152 of 642\n",
      "Param = 0.00100 - classifier Evaluation Experiment 153 of 642\n",
      "Param = 0.00100 - classifier Evaluation Experiment 154 of 642\n",
      "Param = 0.00100 - classifier Evaluation Experiment 155 of 642\n",
      "Param = 0.00100 - classifier Evaluation Experiment 156 of 642\n",
      "Param = 0.00100 - classifier Evaluation Experiment 157 of 642\n",
      "Param = 0.00100 - classifier Evaluation Experiment 158 of 642\n",
      "Param = 0.00100 - classifier Evaluation Experiment 159 of 642\n",
      "Param = 0.00100 - classifier Evaluation Experiment 160 of 642\n",
      "Param = 0.00100 - classifier Evaluation Experiment 161 of 642\n",
      "Param = 0.00100 - classifier Evaluation Experiment 162 of 642\n",
      "Param = 0.00100 - classifier Evaluation Experiment 163 of 642\n",
      "Param = 0.00100 - classifier Evaluation Experiment 164 of 642\n",
      "Param = 0.00100 - classifier Evaluation Experiment 165 of 642\n",
      "Param = 0.00100 - classifier Evaluation Experiment 166 of 642\n",
      "Param = 0.00100 - classifier Evaluation Experiment 167 of 642\n",
      "Param = 0.00100 - classifier Evaluation Experiment 168 of 642\n",
      "Param = 0.00100 - classifier Evaluation Experiment 169 of 642\n",
      "Param = 0.00100 - classifier Evaluation Experiment 170 of 642\n",
      "Param = 0.00100 - classifier Evaluation Experiment 171 of 642\n",
      "Param = 0.00100 - classifier Evaluation Experiment 172 of 642\n",
      "Param = 0.00100 - classifier Evaluation Experiment 173 of 642\n",
      "Param = 0.00100 - classifier Evaluation Experiment 174 of 642\n",
      "Param = 0.00100 - classifier Evaluation Experiment 175 of 642\n",
      "Param = 0.00100 - classifier Evaluation Experiment 176 of 642\n",
      "Param = 0.00100 - classifier Evaluation Experiment 177 of 642\n",
      "Param = 0.00100 - classifier Evaluation Experiment 178 of 642\n",
      "Param = 0.00100 - classifier Evaluation Experiment 179 of 642\n",
      "Param = 0.00100 - classifier Evaluation Experiment 180 of 642\n",
      "Param = 0.00100 - classifier Evaluation Experiment 181 of 642\n",
      "Param = 0.00100 - classifier Evaluation Experiment 182 of 642\n",
      "Param = 0.00100 - classifier Evaluation Experiment 183 of 642\n",
      "Param = 0.00100 - classifier Evaluation Experiment 184 of 642\n",
      "Param = 0.00100 - classifier Evaluation Experiment 185 of 642\n",
      "Param = 0.00100 - classifier Evaluation Experiment 186 of 642\n",
      "Param = 0.00100 - classifier Evaluation Experiment 187 of 642\n",
      "Param = 0.00100 - classifier Evaluation Experiment 188 of 642\n",
      "Param = 0.00100 - classifier Evaluation Experiment 189 of 642\n",
      "Param = 0.00100 - classifier Evaluation Experiment 190 of 642\n",
      "Param = 0.00100 - classifier Evaluation Experiment 191 of 642\n",
      "Param = 0.00100 - classifier Evaluation Experiment 192 of 642\n",
      "Param = 0.00100 - classifier Evaluation Experiment 193 of 642\n",
      "Param = 0.00100 - classifier Evaluation Experiment 194 of 642\n",
      "Param = 0.00100 - classifier Evaluation Experiment 195 of 642\n",
      "Param = 0.00100 - classifier Evaluation Experiment 196 of 642\n",
      "Param = 0.00100 - classifier Evaluation Experiment 197 of 642\n",
      "Param = 0.00100 - classifier Evaluation Experiment 198 of 642\n",
      "Param = 0.00100 - classifier Evaluation Experiment 199 of 642\n",
      "Param = 0.00100 - classifier Evaluation Experiment 200 of 642\n",
      "Param = 0.00100 - classifier Evaluation Experiment 201 of 642\n",
      "Param = 0.00100 - classifier Evaluation Experiment 202 of 642\n",
      "Param = 0.00100 - classifier Evaluation Experiment 203 of 642\n",
      "Param = 0.00100 - classifier Evaluation Experiment 204 of 642\n",
      "Param = 0.00100 - classifier Evaluation Experiment 205 of 642\n",
      "Param = 0.00100 - classifier Evaluation Experiment 206 of 642\n",
      "Param = 0.00100 - classifier Evaluation Experiment 207 of 642\n",
      "Param = 0.00100 - classifier Evaluation Experiment 208 of 642\n",
      "Param = 0.00100 - classifier Evaluation Experiment 209 of 642\n",
      "Param = 0.00100 - classifier Evaluation Experiment 210 of 642\n",
      "Param = 0.00100 - classifier Evaluation Experiment 211 of 642\n",
      "Param = 0.00100 - classifier Evaluation Experiment 212 of 642\n",
      "Param = 0.00100 - classifier Evaluation Experiment 213 of 642\n",
      "Param = 0.00100 - classifier Evaluation Experiment 214 of 642\n",
      "Param = 0.00100 - classifier Evaluation Experiment 215 of 642\n",
      "Param = 0.00100 - classifier Evaluation Experiment 216 of 642\n",
      "Param = 0.00100 - classifier Evaluation Experiment 217 of 642\n",
      "Param = 0.00100 - classifier Evaluation Experiment 218 of 642\n",
      "Param = 0.00100 - classifier Evaluation Experiment 219 of 642\n",
      "Param = 0.00100 - classifier Evaluation Experiment 220 of 642\n",
      "Param = 0.00100 - classifier Evaluation Experiment 221 of 642\n",
      "Param = 0.00100 - classifier Evaluation Experiment 222 of 642\n",
      "Param = 0.00100 - classifier Evaluation Experiment 223 of 642\n",
      "Param = 0.00100 - classifier Evaluation Experiment 224 of 642\n",
      "Param = 0.00100 - classifier Evaluation Experiment 225 of 642\n",
      "Param = 0.00100 - classifier Evaluation Experiment 226 of 642\n",
      "Param = 0.00100 - classifier Evaluation Experiment 227 of 642\n",
      "Param = 0.00100 - classifier Evaluation Experiment 228 of 642\n",
      "Param = 0.00100 - classifier Evaluation Experiment 229 of 642\n",
      "Param = 0.00100 - classifier Evaluation Experiment 230 of 642\n",
      "Param = 0.00100 - classifier Evaluation Experiment 231 of 642\n",
      "Param = 0.00100 - classifier Evaluation Experiment 232 of 642\n",
      "Param = 0.00100 - classifier Evaluation Experiment 233 of 642\n",
      "Param = 0.00100 - classifier Evaluation Experiment 234 of 642\n",
      "Param = 0.00100 - classifier Evaluation Experiment 235 of 642\n",
      "Param = 0.00100 - classifier Evaluation Experiment 236 of 642\n",
      "Param = 0.00100 - classifier Evaluation Experiment 237 of 642\n",
      "Param = 0.00100 - classifier Evaluation Experiment 238 of 642\n",
      "Param = 0.00100 - classifier Evaluation Experiment 239 of 642\n",
      "Param = 0.00100 - classifier Evaluation Experiment 240 of 642\n",
      "Param = 0.00100 - classifier Evaluation Experiment 241 of 642\n",
      "Param = 0.00100 - classifier Evaluation Experiment 242 of 642\n",
      "Param = 0.00100 - classifier Evaluation Experiment 243 of 642\n",
      "Param = 0.00100 - classifier Evaluation Experiment 244 of 642\n",
      "Param = 0.00100 - classifier Evaluation Experiment 245 of 642\n",
      "Param = 0.00100 - classifier Evaluation Experiment 246 of 642\n",
      "Param = 0.00100 - classifier Evaluation Experiment 247 of 642\n",
      "Param = 0.00100 - classifier Evaluation Experiment 248 of 642\n",
      "Param = 0.00100 - classifier Evaluation Experiment 249 of 642\n",
      "Param = 0.00100 - classifier Evaluation Experiment 250 of 642\n",
      "Param = 0.00100 - classifier Evaluation Experiment 251 of 642\n",
      "Param = 0.00100 - classifier Evaluation Experiment 252 of 642\n",
      "Param = 0.00100 - classifier Evaluation Experiment 253 of 642\n",
      "Param = 0.00100 - classifier Evaluation Experiment 254 of 642\n",
      "Param = 0.00100 - classifier Evaluation Experiment 255 of 642\n",
      "Param = 0.00100 - classifier Evaluation Experiment 256 of 642\n",
      "Param = 0.00100 - classifier Evaluation Experiment 257 of 642\n",
      "Param = 0.00100 - classifier Evaluation Experiment 258 of 642\n",
      "Param = 0.00100 - classifier Evaluation Experiment 259 of 642\n",
      "Param = 0.00100 - classifier Evaluation Experiment 260 of 642\n",
      "Param = 0.00100 - classifier Evaluation Experiment 261 of 642\n",
      "Param = 0.00100 - classifier Evaluation Experiment 262 of 642\n",
      "Param = 0.00100 - classifier Evaluation Experiment 263 of 642\n",
      "Param = 0.00100 - classifier Evaluation Experiment 264 of 642\n",
      "Param = 0.00100 - classifier Evaluation Experiment 265 of 642\n",
      "Param = 0.00100 - classifier Evaluation Experiment 266 of 642\n",
      "Param = 0.00100 - classifier Evaluation Experiment 267 of 642\n",
      "Param = 0.00100 - classifier Evaluation Experiment 268 of 642\n",
      "Param = 0.00100 - classifier Evaluation Experiment 269 of 642\n",
      "Param = 0.00100 - classifier Evaluation Experiment 270 of 642\n",
      "Param = 0.00100 - classifier Evaluation Experiment 271 of 642\n",
      "Param = 0.00100 - classifier Evaluation Experiment 272 of 642\n",
      "Param = 0.00100 - classifier Evaluation Experiment 273 of 642\n",
      "Param = 0.00100 - classifier Evaluation Experiment 274 of 642\n",
      "Param = 0.00100 - classifier Evaluation Experiment 275 of 642\n",
      "Param = 0.00100 - classifier Evaluation Experiment 276 of 642\n",
      "Param = 0.00100 - classifier Evaluation Experiment 277 of 642\n",
      "Param = 0.00100 - classifier Evaluation Experiment 278 of 642\n",
      "Param = 0.00100 - classifier Evaluation Experiment 279 of 642\n",
      "Param = 0.00100 - classifier Evaluation Experiment 280 of 642\n",
      "Param = 0.00100 - classifier Evaluation Experiment 281 of 642\n",
      "Param = 0.00100 - classifier Evaluation Experiment 282 of 642\n",
      "Param = 0.00100 - classifier Evaluation Experiment 283 of 642\n",
      "Param = 0.00100 - classifier Evaluation Experiment 284 of 642\n",
      "Param = 0.00100 - classifier Evaluation Experiment 285 of 642\n",
      "Param = 0.00100 - classifier Evaluation Experiment 286 of 642\n",
      "Param = 0.00100 - classifier Evaluation Experiment 287 of 642\n",
      "Param = 0.00100 - classifier Evaluation Experiment 288 of 642\n",
      "Param = 0.00100 - classifier Evaluation Experiment 289 of 642\n",
      "Param = 0.00100 - classifier Evaluation Experiment 290 of 642\n",
      "Param = 0.00100 - classifier Evaluation Experiment 291 of 642\n",
      "Param = 0.00100 - classifier Evaluation Experiment 292 of 642\n",
      "Param = 0.00100 - classifier Evaluation Experiment 293 of 642\n",
      "Param = 0.00100 - classifier Evaluation Experiment 294 of 642\n",
      "Param = 0.00100 - classifier Evaluation Experiment 295 of 642\n",
      "Param = 0.00100 - classifier Evaluation Experiment 296 of 642\n",
      "Param = 0.00100 - classifier Evaluation Experiment 297 of 642\n",
      "Param = 0.00100 - classifier Evaluation Experiment 298 of 642\n",
      "Param = 0.00100 - classifier Evaluation Experiment 299 of 642\n",
      "Param = 0.00100 - classifier Evaluation Experiment 300 of 642\n",
      "Param = 0.00100 - classifier Evaluation Experiment 301 of 642\n",
      "Param = 0.00100 - classifier Evaluation Experiment 302 of 642\n",
      "Param = 0.00100 - classifier Evaluation Experiment 303 of 642\n",
      "Param = 0.00100 - classifier Evaluation Experiment 304 of 642\n",
      "Param = 0.00100 - classifier Evaluation Experiment 305 of 642\n",
      "Param = 0.00100 - classifier Evaluation Experiment 306 of 642\n",
      "Param = 0.00100 - classifier Evaluation Experiment 307 of 642\n",
      "Param = 0.00100 - classifier Evaluation Experiment 308 of 642\n",
      "Param = 0.00100 - classifier Evaluation Experiment 309 of 642\n",
      "Param = 0.00100 - classifier Evaluation Experiment 310 of 642\n",
      "Param = 0.00100 - classifier Evaluation Experiment 311 of 642\n",
      "Param = 0.00100 - classifier Evaluation Experiment 312 of 642\n",
      "Param = 0.00100 - classifier Evaluation Experiment 313 of 642\n",
      "Param = 0.00100 - classifier Evaluation Experiment 314 of 642\n",
      "Param = 0.00100 - classifier Evaluation Experiment 315 of 642\n",
      "Param = 0.00100 - classifier Evaluation Experiment 316 of 642\n",
      "Param = 0.00100 - classifier Evaluation Experiment 317 of 642\n",
      "Param = 0.00100 - classifier Evaluation Experiment 318 of 642\n",
      "Param = 0.00100 - classifier Evaluation Experiment 319 of 642\n",
      "Param = 0.00100 - classifier Evaluation Experiment 320 of 642\n",
      "Param = 0.00100 - classifier Evaluation Experiment 321 of 642\n",
      "Param = 0.00100 - classifier Evaluation Experiment 322 of 642\n",
      "Param = 0.00100 - classifier Evaluation Experiment 323 of 642\n",
      "Param = 0.00100 - classifier Evaluation Experiment 324 of 642\n",
      "Param = 0.00100 - classifier Evaluation Experiment 325 of 642\n",
      "Param = 0.00100 - classifier Evaluation Experiment 326 of 642\n",
      "Param = 0.00100 - classifier Evaluation Experiment 327 of 642\n",
      "Param = 0.00100 - classifier Evaluation Experiment 328 of 642\n",
      "Param = 0.00100 - classifier Evaluation Experiment 329 of 642\n",
      "Param = 0.00100 - classifier Evaluation Experiment 330 of 642\n",
      "Param = 0.00100 - classifier Evaluation Experiment 331 of 642\n",
      "Param = 0.00100 - classifier Evaluation Experiment 332 of 642\n",
      "Param = 0.00100 - classifier Evaluation Experiment 333 of 642\n",
      "Param = 0.00100 - classifier Evaluation Experiment 334 of 642\n",
      "Param = 0.00100 - classifier Evaluation Experiment 335 of 642\n",
      "Param = 0.00100 - classifier Evaluation Experiment 336 of 642\n",
      "Param = 0.00100 - classifier Evaluation Experiment 337 of 642\n",
      "Param = 0.00100 - classifier Evaluation Experiment 338 of 642\n",
      "Param = 0.00100 - classifier Evaluation Experiment 339 of 642\n",
      "Param = 0.00100 - classifier Evaluation Experiment 340 of 642\n",
      "Param = 0.00100 - classifier Evaluation Experiment 341 of 642\n",
      "Param = 0.00100 - classifier Evaluation Experiment 342 of 642\n",
      "Param = 0.00100 - classifier Evaluation Experiment 343 of 642\n",
      "Param = 0.00100 - classifier Evaluation Experiment 344 of 642\n",
      "Param = 0.00100 - classifier Evaluation Experiment 345 of 642\n",
      "Param = 0.00100 - classifier Evaluation Experiment 346 of 642\n",
      "Param = 0.00100 - classifier Evaluation Experiment 347 of 642\n",
      "Param = 0.00100 - classifier Evaluation Experiment 348 of 642\n",
      "Param = 0.00100 - classifier Evaluation Experiment 349 of 642\n",
      "Param = 0.00100 - classifier Evaluation Experiment 350 of 642\n",
      "Param = 0.00100 - classifier Evaluation Experiment 351 of 642\n",
      "Param = 0.00100 - classifier Evaluation Experiment 352 of 642\n",
      "Param = 0.00100 - classifier Evaluation Experiment 353 of 642\n",
      "Param = 0.00100 - classifier Evaluation Experiment 354 of 642\n",
      "Param = 0.00100 - classifier Evaluation Experiment 355 of 642\n",
      "Param = 0.00100 - classifier Evaluation Experiment 356 of 642\n",
      "Param = 0.00100 - classifier Evaluation Experiment 357 of 642\n",
      "Param = 0.00100 - classifier Evaluation Experiment 358 of 642\n",
      "Param = 0.00100 - classifier Evaluation Experiment 359 of 642\n",
      "Param = 0.00100 - classifier Evaluation Experiment 360 of 642\n",
      "Param = 0.00100 - classifier Evaluation Experiment 361 of 642\n",
      "Param = 0.00100 - classifier Evaluation Experiment 362 of 642\n",
      "Param = 0.00100 - classifier Evaluation Experiment 363 of 642\n",
      "Param = 0.00100 - classifier Evaluation Experiment 364 of 642\n",
      "Param = 0.00100 - classifier Evaluation Experiment 365 of 642\n",
      "Param = 0.00100 - classifier Evaluation Experiment 366 of 642\n",
      "Param = 0.00100 - classifier Evaluation Experiment 367 of 642\n",
      "Param = 0.00100 - classifier Evaluation Experiment 368 of 642\n",
      "Param = 0.00100 - classifier Evaluation Experiment 369 of 642\n",
      "Param = 0.00100 - classifier Evaluation Experiment 370 of 642\n",
      "Param = 0.00100 - classifier Evaluation Experiment 371 of 642\n",
      "Param = 0.00100 - classifier Evaluation Experiment 372 of 642\n",
      "Param = 0.00100 - classifier Evaluation Experiment 373 of 642\n",
      "Param = 0.00100 - classifier Evaluation Experiment 374 of 642\n",
      "Param = 0.00100 - classifier Evaluation Experiment 375 of 642\n",
      "Param = 0.00100 - classifier Evaluation Experiment 376 of 642\n",
      "Param = 0.00100 - classifier Evaluation Experiment 377 of 642\n",
      "Param = 0.00100 - classifier Evaluation Experiment 378 of 642\n",
      "Param = 0.00100 - classifier Evaluation Experiment 379 of 642\n",
      "Param = 0.00100 - classifier Evaluation Experiment 380 of 642\n",
      "Param = 0.00100 - classifier Evaluation Experiment 381 of 642\n",
      "Param = 0.00100 - classifier Evaluation Experiment 382 of 642\n",
      "Param = 0.00100 - classifier Evaluation Experiment 383 of 642\n",
      "Param = 0.00100 - classifier Evaluation Experiment 384 of 642\n",
      "Param = 0.00100 - classifier Evaluation Experiment 385 of 642\n",
      "Param = 0.00100 - classifier Evaluation Experiment 386 of 642\n",
      "Param = 0.00100 - classifier Evaluation Experiment 387 of 642\n",
      "Param = 0.00100 - classifier Evaluation Experiment 388 of 642\n",
      "Param = 0.00100 - classifier Evaluation Experiment 389 of 642\n",
      "Param = 0.00100 - classifier Evaluation Experiment 390 of 642\n",
      "Param = 0.00100 - classifier Evaluation Experiment 391 of 642\n",
      "Param = 0.00100 - classifier Evaluation Experiment 392 of 642\n",
      "Param = 0.00100 - classifier Evaluation Experiment 393 of 642\n",
      "Param = 0.00100 - classifier Evaluation Experiment 394 of 642\n",
      "Param = 0.00100 - classifier Evaluation Experiment 395 of 642\n",
      "Param = 0.00100 - classifier Evaluation Experiment 396 of 642\n",
      "Param = 0.00100 - classifier Evaluation Experiment 397 of 642\n",
      "Param = 0.00100 - classifier Evaluation Experiment 398 of 642\n",
      "Param = 0.00100 - classifier Evaluation Experiment 399 of 642\n",
      "Param = 0.00100 - classifier Evaluation Experiment 400 of 642\n",
      "Param = 0.00100 - classifier Evaluation Experiment 401 of 642\n",
      "Param = 0.00100 - classifier Evaluation Experiment 402 of 642\n",
      "Param = 0.00100 - classifier Evaluation Experiment 403 of 642\n",
      "Param = 0.00100 - classifier Evaluation Experiment 404 of 642\n",
      "Param = 0.00100 - classifier Evaluation Experiment 405 of 642\n",
      "Param = 0.00100 - classifier Evaluation Experiment 406 of 642\n",
      "Param = 0.00100 - classifier Evaluation Experiment 407 of 642\n",
      "Param = 0.00100 - classifier Evaluation Experiment 408 of 642\n",
      "Param = 0.00100 - classifier Evaluation Experiment 409 of 642\n",
      "Param = 0.00100 - classifier Evaluation Experiment 410 of 642\n",
      "Param = 0.00100 - classifier Evaluation Experiment 411 of 642\n",
      "Param = 0.00100 - classifier Evaluation Experiment 412 of 642\n",
      "Param = 0.00100 - classifier Evaluation Experiment 413 of 642\n",
      "Param = 0.00100 - classifier Evaluation Experiment 414 of 642\n",
      "Param = 0.00100 - classifier Evaluation Experiment 415 of 642\n",
      "Param = 0.00100 - classifier Evaluation Experiment 416 of 642\n",
      "Param = 0.00100 - classifier Evaluation Experiment 417 of 642\n",
      "Param = 0.00100 - classifier Evaluation Experiment 418 of 642\n",
      "Param = 0.00100 - classifier Evaluation Experiment 419 of 642\n",
      "Param = 0.00100 - classifier Evaluation Experiment 420 of 642\n",
      "Param = 0.00100 - classifier Evaluation Experiment 421 of 642\n",
      "Param = 0.00100 - classifier Evaluation Experiment 422 of 642\n",
      "Param = 0.00100 - classifier Evaluation Experiment 423 of 642\n",
      "Param = 0.00100 - classifier Evaluation Experiment 424 of 642\n",
      "Param = 0.00100 - classifier Evaluation Experiment 425 of 642\n",
      "Param = 0.00100 - classifier Evaluation Experiment 426 of 642\n",
      "Param = 0.00100 - classifier Evaluation Experiment 427 of 642\n",
      "Param = 0.00100 - classifier Evaluation Experiment 428 of 642\n",
      "Param = 0.00100 - classifier Evaluation Experiment 429 of 642\n",
      "Param = 0.00100 - classifier Evaluation Experiment 430 of 642\n",
      "Param = 0.00100 - classifier Evaluation Experiment 431 of 642\n",
      "Param = 0.00100 - classifier Evaluation Experiment 432 of 642\n",
      "Param = 0.00100 - classifier Evaluation Experiment 433 of 642\n",
      "Param = 0.00100 - classifier Evaluation Experiment 434 of 642\n",
      "Param = 0.00100 - classifier Evaluation Experiment 435 of 642\n",
      "Param = 0.00100 - classifier Evaluation Experiment 436 of 642\n",
      "Param = 0.00100 - classifier Evaluation Experiment 437 of 642\n",
      "Param = 0.00100 - classifier Evaluation Experiment 438 of 642\n",
      "Param = 0.00100 - classifier Evaluation Experiment 439 of 642\n",
      "Param = 0.00100 - classifier Evaluation Experiment 440 of 642\n",
      "Param = 0.00100 - classifier Evaluation Experiment 441 of 642\n",
      "Param = 0.00100 - classifier Evaluation Experiment 442 of 642\n",
      "Param = 0.00100 - classifier Evaluation Experiment 443 of 642\n",
      "Param = 0.00100 - classifier Evaluation Experiment 444 of 642\n",
      "Param = 0.00100 - classifier Evaluation Experiment 445 of 642\n",
      "Param = 0.00100 - classifier Evaluation Experiment 446 of 642\n",
      "Param = 0.00100 - classifier Evaluation Experiment 447 of 642\n",
      "Param = 0.00100 - classifier Evaluation Experiment 448 of 642\n",
      "Param = 0.00100 - classifier Evaluation Experiment 449 of 642\n",
      "Param = 0.00100 - classifier Evaluation Experiment 450 of 642\n",
      "Param = 0.00100 - classifier Evaluation Experiment 451 of 642\n",
      "Param = 0.00100 - classifier Evaluation Experiment 452 of 642\n",
      "Param = 0.00100 - classifier Evaluation Experiment 453 of 642\n",
      "Param = 0.00100 - classifier Evaluation Experiment 454 of 642\n",
      "Param = 0.00100 - classifier Evaluation Experiment 455 of 642\n",
      "Param = 0.00100 - classifier Evaluation Experiment 456 of 642\n",
      "Param = 0.00100 - classifier Evaluation Experiment 457 of 642\n",
      "Param = 0.00100 - classifier Evaluation Experiment 458 of 642\n",
      "Param = 0.00100 - classifier Evaluation Experiment 459 of 642\n",
      "Param = 0.00100 - classifier Evaluation Experiment 460 of 642\n",
      "Param = 0.00100 - classifier Evaluation Experiment 461 of 642\n",
      "Param = 0.00100 - classifier Evaluation Experiment 462 of 642\n",
      "Param = 0.00100 - classifier Evaluation Experiment 463 of 642\n",
      "Param = 0.00100 - classifier Evaluation Experiment 464 of 642\n",
      "Param = 0.00100 - classifier Evaluation Experiment 465 of 642\n",
      "Param = 0.00100 - classifier Evaluation Experiment 466 of 642\n",
      "Param = 0.00100 - classifier Evaluation Experiment 467 of 642\n",
      "Param = 0.00100 - classifier Evaluation Experiment 468 of 642\n",
      "Param = 0.00100 - classifier Evaluation Experiment 469 of 642\n",
      "Param = 0.00100 - classifier Evaluation Experiment 470 of 642\n",
      "Param = 0.00100 - classifier Evaluation Experiment 471 of 642\n",
      "Param = 0.00100 - classifier Evaluation Experiment 472 of 642\n",
      "Param = 0.00100 - classifier Evaluation Experiment 473 of 642\n",
      "Param = 0.00100 - classifier Evaluation Experiment 474 of 642\n",
      "Param = 0.00100 - classifier Evaluation Experiment 475 of 642\n",
      "Param = 0.00100 - classifier Evaluation Experiment 476 of 642\n",
      "Param = 0.00100 - classifier Evaluation Experiment 477 of 642\n",
      "Param = 0.00100 - classifier Evaluation Experiment 478 of 642\n",
      "Param = 0.00100 - classifier Evaluation Experiment 479 of 642\n",
      "Param = 0.00100 - classifier Evaluation Experiment 480 of 642\n",
      "Param = 0.00100 - classifier Evaluation Experiment 481 of 642\n",
      "Param = 0.00100 - classifier Evaluation Experiment 482 of 642\n",
      "Param = 0.00100 - classifier Evaluation Experiment 483 of 642\n",
      "Param = 0.00100 - classifier Evaluation Experiment 484 of 642\n",
      "Param = 0.00100 - classifier Evaluation Experiment 485 of 642\n",
      "Param = 0.00100 - classifier Evaluation Experiment 486 of 642\n",
      "Param = 0.00100 - classifier Evaluation Experiment 487 of 642\n",
      "Param = 0.00100 - classifier Evaluation Experiment 488 of 642\n",
      "Param = 0.00100 - classifier Evaluation Experiment 489 of 642\n",
      "Param = 0.00100 - classifier Evaluation Experiment 490 of 642\n",
      "Param = 0.00100 - classifier Evaluation Experiment 491 of 642\n",
      "Param = 0.00100 - classifier Evaluation Experiment 492 of 642\n",
      "Param = 0.00100 - classifier Evaluation Experiment 493 of 642\n",
      "Param = 0.00100 - classifier Evaluation Experiment 494 of 642\n",
      "Param = 0.00100 - classifier Evaluation Experiment 495 of 642\n",
      "Param = 0.00100 - classifier Evaluation Experiment 496 of 642\n",
      "Param = 0.00100 - classifier Evaluation Experiment 497 of 642\n",
      "Param = 0.00100 - classifier Evaluation Experiment 498 of 642\n",
      "Param = 0.00100 - classifier Evaluation Experiment 499 of 642\n",
      "Param = 0.00100 - classifier Evaluation Experiment 500 of 642\n",
      "Param = 0.00100 - classifier Evaluation Experiment 501 of 642\n",
      "Param = 0.00100 - classifier Evaluation Experiment 502 of 642\n",
      "Param = 0.00100 - classifier Evaluation Experiment 503 of 642\n",
      "Param = 0.00100 - classifier Evaluation Experiment 504 of 642\n",
      "Param = 0.00100 - classifier Evaluation Experiment 505 of 642\n",
      "Param = 0.00100 - classifier Evaluation Experiment 506 of 642\n",
      "Param = 0.00100 - classifier Evaluation Experiment 507 of 642\n",
      "Param = 0.00100 - classifier Evaluation Experiment 508 of 642\n",
      "Param = 0.00100 - classifier Evaluation Experiment 509 of 642\n",
      "Param = 0.00100 - classifier Evaluation Experiment 510 of 642\n",
      "Param = 0.00100 - classifier Evaluation Experiment 511 of 642\n",
      "Param = 0.00100 - classifier Evaluation Experiment 512 of 642\n",
      "Param = 0.00100 - classifier Evaluation Experiment 513 of 642\n",
      "Param = 0.00100 - classifier Evaluation Experiment 514 of 642\n",
      "Param = 0.00100 - classifier Evaluation Experiment 515 of 642\n",
      "Param = 0.00100 - classifier Evaluation Experiment 516 of 642\n",
      "Param = 0.00100 - classifier Evaluation Experiment 517 of 642\n",
      "Param = 0.00100 - classifier Evaluation Experiment 518 of 642\n",
      "Param = 0.00100 - classifier Evaluation Experiment 519 of 642\n",
      "Param = 0.00100 - classifier Evaluation Experiment 520 of 642\n",
      "Param = 0.00100 - classifier Evaluation Experiment 521 of 642\n",
      "Param = 0.00100 - classifier Evaluation Experiment 522 of 642\n",
      "Param = 0.00100 - classifier Evaluation Experiment 523 of 642\n",
      "Param = 0.00100 - classifier Evaluation Experiment 524 of 642\n",
      "Param = 0.00100 - classifier Evaluation Experiment 525 of 642\n",
      "Param = 0.00100 - classifier Evaluation Experiment 526 of 642\n",
      "Param = 0.00100 - classifier Evaluation Experiment 527 of 642\n",
      "Param = 0.00100 - classifier Evaluation Experiment 528 of 642\n",
      "Param = 0.00100 - classifier Evaluation Experiment 529 of 642\n",
      "Param = 0.00100 - classifier Evaluation Experiment 530 of 642\n",
      "Param = 0.00100 - classifier Evaluation Experiment 531 of 642\n",
      "Param = 0.00100 - classifier Evaluation Experiment 532 of 642\n",
      "Param = 0.00100 - classifier Evaluation Experiment 533 of 642\n",
      "Param = 0.00100 - classifier Evaluation Experiment 534 of 642\n",
      "Param = 0.00100 - classifier Evaluation Experiment 535 of 642\n",
      "Param = 0.00100 - classifier Evaluation Experiment 536 of 642\n",
      "Param = 0.00100 - classifier Evaluation Experiment 537 of 642\n",
      "Param = 0.00100 - classifier Evaluation Experiment 538 of 642\n",
      "Param = 0.00100 - classifier Evaluation Experiment 539 of 642\n",
      "Param = 0.00100 - classifier Evaluation Experiment 540 of 642\n",
      "Param = 0.00100 - classifier Evaluation Experiment 541 of 642\n",
      "Param = 0.00100 - classifier Evaluation Experiment 542 of 642\n",
      "Param = 0.00100 - classifier Evaluation Experiment 543 of 642\n",
      "Param = 0.00100 - classifier Evaluation Experiment 544 of 642\n",
      "Param = 0.00100 - classifier Evaluation Experiment 545 of 642\n",
      "Param = 0.00100 - classifier Evaluation Experiment 546 of 642\n",
      "Param = 0.00100 - classifier Evaluation Experiment 547 of 642\n",
      "Param = 0.00100 - classifier Evaluation Experiment 548 of 642\n",
      "Param = 0.00100 - classifier Evaluation Experiment 549 of 642\n",
      "Param = 0.00100 - classifier Evaluation Experiment 550 of 642\n",
      "Param = 0.00100 - classifier Evaluation Experiment 551 of 642\n",
      "Param = 0.00100 - classifier Evaluation Experiment 552 of 642\n",
      "Param = 0.00100 - classifier Evaluation Experiment 553 of 642\n",
      "Param = 0.00100 - classifier Evaluation Experiment 554 of 642\n",
      "Param = 0.00100 - classifier Evaluation Experiment 555 of 642\n",
      "Param = 0.00100 - classifier Evaluation Experiment 556 of 642\n",
      "Param = 0.00100 - classifier Evaluation Experiment 557 of 642\n",
      "Param = 0.00100 - classifier Evaluation Experiment 558 of 642\n",
      "Param = 0.00100 - classifier Evaluation Experiment 559 of 642\n",
      "Param = 0.00100 - classifier Evaluation Experiment 560 of 642\n",
      "Param = 0.00100 - classifier Evaluation Experiment 561 of 642\n",
      "Param = 0.00100 - classifier Evaluation Experiment 562 of 642\n",
      "Param = 0.00100 - classifier Evaluation Experiment 563 of 642\n",
      "Param = 0.00100 - classifier Evaluation Experiment 564 of 642\n",
      "Param = 0.00100 - classifier Evaluation Experiment 565 of 642\n",
      "Param = 0.00100 - classifier Evaluation Experiment 566 of 642\n",
      "Param = 0.00100 - classifier Evaluation Experiment 567 of 642\n",
      "Param = 0.00100 - classifier Evaluation Experiment 568 of 642\n",
      "Param = 0.00100 - classifier Evaluation Experiment 569 of 642\n",
      "Param = 0.00100 - classifier Evaluation Experiment 570 of 642\n",
      "Param = 0.00100 - classifier Evaluation Experiment 571 of 642\n",
      "Param = 0.00100 - classifier Evaluation Experiment 572 of 642\n",
      "Param = 0.00100 - classifier Evaluation Experiment 573 of 642\n",
      "Param = 0.00100 - classifier Evaluation Experiment 574 of 642\n",
      "Param = 0.00100 - classifier Evaluation Experiment 575 of 642\n",
      "Param = 0.00100 - classifier Evaluation Experiment 576 of 642\n",
      "Param = 0.00100 - classifier Evaluation Experiment 577 of 642\n",
      "Param = 0.00100 - classifier Evaluation Experiment 578 of 642\n",
      "Param = 0.00100 - classifier Evaluation Experiment 579 of 642\n",
      "Param = 0.00100 - classifier Evaluation Experiment 580 of 642\n",
      "Param = 0.00100 - classifier Evaluation Experiment 581 of 642\n",
      "Param = 0.00100 - classifier Evaluation Experiment 582 of 642\n",
      "Param = 0.00100 - classifier Evaluation Experiment 583 of 642\n",
      "Param = 0.00100 - classifier Evaluation Experiment 584 of 642\n",
      "Param = 0.00100 - classifier Evaluation Experiment 585 of 642\n",
      "Param = 0.00100 - classifier Evaluation Experiment 586 of 642\n",
      "Param = 0.00100 - classifier Evaluation Experiment 587 of 642\n",
      "Param = 0.00100 - classifier Evaluation Experiment 588 of 642\n",
      "Param = 0.00100 - classifier Evaluation Experiment 589 of 642\n",
      "Param = 0.00100 - classifier Evaluation Experiment 590 of 642\n",
      "Param = 0.00100 - classifier Evaluation Experiment 591 of 642\n",
      "Param = 0.00100 - classifier Evaluation Experiment 592 of 642\n",
      "Param = 0.00100 - classifier Evaluation Experiment 593 of 642\n",
      "Param = 0.00100 - classifier Evaluation Experiment 594 of 642\n",
      "Param = 0.00100 - classifier Evaluation Experiment 595 of 642\n",
      "Param = 0.00100 - classifier Evaluation Experiment 596 of 642\n",
      "Param = 0.00100 - classifier Evaluation Experiment 597 of 642\n",
      "Param = 0.00100 - classifier Evaluation Experiment 598 of 642\n",
      "Param = 0.00100 - classifier Evaluation Experiment 599 of 642\n",
      "Param = 0.00100 - classifier Evaluation Experiment 600 of 642\n",
      "Param = 0.00100 - classifier Evaluation Experiment 601 of 642\n",
      "Param = 0.00100 - classifier Evaluation Experiment 602 of 642\n",
      "Param = 0.00100 - classifier Evaluation Experiment 603 of 642\n",
      "Param = 0.00100 - classifier Evaluation Experiment 604 of 642\n",
      "Param = 0.00100 - classifier Evaluation Experiment 605 of 642\n",
      "Param = 0.00100 - classifier Evaluation Experiment 606 of 642\n",
      "Param = 0.00100 - classifier Evaluation Experiment 607 of 642\n",
      "Param = 0.00100 - classifier Evaluation Experiment 608 of 642\n",
      "Param = 0.00100 - classifier Evaluation Experiment 609 of 642\n",
      "Param = 0.00100 - classifier Evaluation Experiment 610 of 642\n",
      "Param = 0.00100 - classifier Evaluation Experiment 611 of 642\n",
      "Param = 0.00100 - classifier Evaluation Experiment 612 of 642\n",
      "Param = 0.00100 - classifier Evaluation Experiment 613 of 642\n",
      "Param = 0.00100 - classifier Evaluation Experiment 614 of 642\n",
      "Param = 0.00100 - classifier Evaluation Experiment 615 of 642\n",
      "Param = 0.00100 - classifier Evaluation Experiment 616 of 642\n",
      "Param = 0.00100 - classifier Evaluation Experiment 617 of 642\n",
      "Param = 0.00100 - classifier Evaluation Experiment 618 of 642\n",
      "Param = 0.00100 - classifier Evaluation Experiment 619 of 642\n",
      "Param = 0.00100 - classifier Evaluation Experiment 620 of 642\n",
      "Param = 0.00100 - classifier Evaluation Experiment 621 of 642\n",
      "Param = 0.00100 - classifier Evaluation Experiment 622 of 642\n",
      "Param = 0.00100 - classifier Evaluation Experiment 623 of 642\n",
      "Param = 0.00100 - classifier Evaluation Experiment 624 of 642\n",
      "Param = 0.00100 - classifier Evaluation Experiment 625 of 642\n",
      "Param = 0.00100 - classifier Evaluation Experiment 626 of 642\n",
      "Param = 0.00100 - classifier Evaluation Experiment 627 of 642\n",
      "Param = 0.00100 - classifier Evaluation Experiment 628 of 642\n",
      "Param = 0.00100 - classifier Evaluation Experiment 629 of 642\n",
      "Param = 0.00100 - classifier Evaluation Experiment 630 of 642\n",
      "Param = 0.00100 - classifier Evaluation Experiment 631 of 642\n",
      "Param = 0.00100 - classifier Evaluation Experiment 632 of 642\n",
      "Param = 0.00100 - classifier Evaluation Experiment 633 of 642\n",
      "Param = 0.00100 - classifier Evaluation Experiment 634 of 642\n",
      "Param = 0.00100 - classifier Evaluation Experiment 635 of 642\n",
      "Param = 0.00100 - classifier Evaluation Experiment 636 of 642\n",
      "Param = 0.00100 - classifier Evaluation Experiment 637 of 642\n",
      "Param = 0.00100 - classifier Evaluation Experiment 638 of 642\n",
      "Param = 0.00100 - classifier Evaluation Experiment 639 of 642\n",
      "Param = 0.00100 - classifier Evaluation Experiment 640 of 642\n",
      "Param = 0.00100 - classifier Evaluation Experiment 641 of 642\n",
      "Param = 0.00100 - classifier Evaluation Experiment 642 of 642\n",
      "Param = 0.01000 - classifier Evaluation Experiment 1 of 642\n",
      "Param = 0.01000 - classifier Evaluation Experiment 2 of 642\n",
      "Param = 0.01000 - classifier Evaluation Experiment 3 of 642\n",
      "Param = 0.01000 - classifier Evaluation Experiment 4 of 642\n",
      "Param = 0.01000 - classifier Evaluation Experiment 5 of 642\n",
      "Param = 0.01000 - classifier Evaluation Experiment 6 of 642\n",
      "Param = 0.01000 - classifier Evaluation Experiment 7 of 642\n",
      "Param = 0.01000 - classifier Evaluation Experiment 8 of 642\n",
      "Param = 0.01000 - classifier Evaluation Experiment 9 of 642\n",
      "Param = 0.01000 - classifier Evaluation Experiment 10 of 642\n",
      "Param = 0.01000 - classifier Evaluation Experiment 11 of 642\n",
      "Param = 0.01000 - classifier Evaluation Experiment 12 of 642\n",
      "Param = 0.01000 - classifier Evaluation Experiment 13 of 642\n",
      "Param = 0.01000 - classifier Evaluation Experiment 14 of 642\n",
      "Param = 0.01000 - classifier Evaluation Experiment 15 of 642\n",
      "Param = 0.01000 - classifier Evaluation Experiment 16 of 642\n",
      "Param = 0.01000 - classifier Evaluation Experiment 17 of 642\n",
      "Param = 0.01000 - classifier Evaluation Experiment 18 of 642\n",
      "Param = 0.01000 - classifier Evaluation Experiment 19 of 642\n",
      "Param = 0.01000 - classifier Evaluation Experiment 20 of 642\n",
      "Param = 0.01000 - classifier Evaluation Experiment 21 of 642\n",
      "Param = 0.01000 - classifier Evaluation Experiment 22 of 642\n",
      "Param = 0.01000 - classifier Evaluation Experiment 23 of 642\n",
      "Param = 0.01000 - classifier Evaluation Experiment 24 of 642\n",
      "Param = 0.01000 - classifier Evaluation Experiment 25 of 642\n",
      "Param = 0.01000 - classifier Evaluation Experiment 26 of 642\n",
      "Param = 0.01000 - classifier Evaluation Experiment 27 of 642\n",
      "Param = 0.01000 - classifier Evaluation Experiment 28 of 642\n",
      "Param = 0.01000 - classifier Evaluation Experiment 29 of 642\n",
      "Param = 0.01000 - classifier Evaluation Experiment 30 of 642\n",
      "Param = 0.01000 - classifier Evaluation Experiment 31 of 642\n",
      "Param = 0.01000 - classifier Evaluation Experiment 32 of 642\n",
      "Param = 0.01000 - classifier Evaluation Experiment 33 of 642\n",
      "Param = 0.01000 - classifier Evaluation Experiment 34 of 642\n",
      "Param = 0.01000 - classifier Evaluation Experiment 35 of 642\n",
      "Param = 0.01000 - classifier Evaluation Experiment 36 of 642\n",
      "Param = 0.01000 - classifier Evaluation Experiment 37 of 642\n",
      "Param = 0.01000 - classifier Evaluation Experiment 38 of 642\n",
      "Param = 0.01000 - classifier Evaluation Experiment 39 of 642\n",
      "Param = 0.01000 - classifier Evaluation Experiment 40 of 642\n",
      "Param = 0.01000 - classifier Evaluation Experiment 41 of 642\n",
      "Param = 0.01000 - classifier Evaluation Experiment 42 of 642\n",
      "Param = 0.01000 - classifier Evaluation Experiment 43 of 642\n",
      "Param = 0.01000 - classifier Evaluation Experiment 44 of 642\n",
      "Param = 0.01000 - classifier Evaluation Experiment 45 of 642\n",
      "Param = 0.01000 - classifier Evaluation Experiment 46 of 642\n",
      "Param = 0.01000 - classifier Evaluation Experiment 47 of 642\n",
      "Param = 0.01000 - classifier Evaluation Experiment 48 of 642\n",
      "Param = 0.01000 - classifier Evaluation Experiment 49 of 642\n",
      "Param = 0.01000 - classifier Evaluation Experiment 50 of 642\n",
      "Param = 0.01000 - classifier Evaluation Experiment 51 of 642\n",
      "Param = 0.01000 - classifier Evaluation Experiment 52 of 642\n",
      "Param = 0.01000 - classifier Evaluation Experiment 53 of 642\n",
      "Param = 0.01000 - classifier Evaluation Experiment 54 of 642\n",
      "Param = 0.01000 - classifier Evaluation Experiment 55 of 642\n",
      "Param = 0.01000 - classifier Evaluation Experiment 56 of 642\n",
      "Param = 0.01000 - classifier Evaluation Experiment 57 of 642\n",
      "Param = 0.01000 - classifier Evaluation Experiment 58 of 642\n",
      "Param = 0.01000 - classifier Evaluation Experiment 59 of 642\n",
      "Param = 0.01000 - classifier Evaluation Experiment 60 of 642\n",
      "Param = 0.01000 - classifier Evaluation Experiment 61 of 642\n",
      "Param = 0.01000 - classifier Evaluation Experiment 62 of 642\n",
      "Param = 0.01000 - classifier Evaluation Experiment 63 of 642\n",
      "Param = 0.01000 - classifier Evaluation Experiment 64 of 642\n",
      "Param = 0.01000 - classifier Evaluation Experiment 65 of 642\n",
      "Param = 0.01000 - classifier Evaluation Experiment 66 of 642\n",
      "Param = 0.01000 - classifier Evaluation Experiment 67 of 642\n",
      "Param = 0.01000 - classifier Evaluation Experiment 68 of 642\n",
      "Param = 0.01000 - classifier Evaluation Experiment 69 of 642\n",
      "Param = 0.01000 - classifier Evaluation Experiment 70 of 642\n",
      "Param = 0.01000 - classifier Evaluation Experiment 71 of 642\n",
      "Param = 0.01000 - classifier Evaluation Experiment 72 of 642\n",
      "Param = 0.01000 - classifier Evaluation Experiment 73 of 642\n",
      "Param = 0.01000 - classifier Evaluation Experiment 74 of 642\n",
      "Param = 0.01000 - classifier Evaluation Experiment 75 of 642\n",
      "Param = 0.01000 - classifier Evaluation Experiment 76 of 642\n",
      "Param = 0.01000 - classifier Evaluation Experiment 77 of 642\n",
      "Param = 0.01000 - classifier Evaluation Experiment 78 of 642\n",
      "Param = 0.01000 - classifier Evaluation Experiment 79 of 642\n",
      "Param = 0.01000 - classifier Evaluation Experiment 80 of 642\n",
      "Param = 0.01000 - classifier Evaluation Experiment 81 of 642\n",
      "Param = 0.01000 - classifier Evaluation Experiment 82 of 642\n",
      "Param = 0.01000 - classifier Evaluation Experiment 83 of 642\n",
      "Param = 0.01000 - classifier Evaluation Experiment 84 of 642\n",
      "Param = 0.01000 - classifier Evaluation Experiment 85 of 642\n",
      "Param = 0.01000 - classifier Evaluation Experiment 86 of 642\n",
      "Param = 0.01000 - classifier Evaluation Experiment 87 of 642\n",
      "Param = 0.01000 - classifier Evaluation Experiment 88 of 642\n",
      "Param = 0.01000 - classifier Evaluation Experiment 89 of 642\n",
      "Param = 0.01000 - classifier Evaluation Experiment 90 of 642\n",
      "Param = 0.01000 - classifier Evaluation Experiment 91 of 642\n",
      "Param = 0.01000 - classifier Evaluation Experiment 92 of 642\n",
      "Param = 0.01000 - classifier Evaluation Experiment 93 of 642\n",
      "Param = 0.01000 - classifier Evaluation Experiment 94 of 642\n",
      "Param = 0.01000 - classifier Evaluation Experiment 95 of 642\n",
      "Param = 0.01000 - classifier Evaluation Experiment 96 of 642\n",
      "Param = 0.01000 - classifier Evaluation Experiment 97 of 642\n",
      "Param = 0.01000 - classifier Evaluation Experiment 98 of 642\n",
      "Param = 0.01000 - classifier Evaluation Experiment 99 of 642\n",
      "Param = 0.01000 - classifier Evaluation Experiment 100 of 642\n",
      "Param = 0.01000 - classifier Evaluation Experiment 101 of 642\n",
      "Param = 0.01000 - classifier Evaluation Experiment 102 of 642\n",
      "Param = 0.01000 - classifier Evaluation Experiment 103 of 642\n",
      "Param = 0.01000 - classifier Evaluation Experiment 104 of 642\n",
      "Param = 0.01000 - classifier Evaluation Experiment 105 of 642\n",
      "Param = 0.01000 - classifier Evaluation Experiment 106 of 642\n",
      "Param = 0.01000 - classifier Evaluation Experiment 107 of 642\n",
      "Param = 0.01000 - classifier Evaluation Experiment 108 of 642\n",
      "Param = 0.01000 - classifier Evaluation Experiment 109 of 642\n",
      "Param = 0.01000 - classifier Evaluation Experiment 110 of 642\n",
      "Param = 0.01000 - classifier Evaluation Experiment 111 of 642\n",
      "Param = 0.01000 - classifier Evaluation Experiment 112 of 642\n",
      "Param = 0.01000 - classifier Evaluation Experiment 113 of 642\n",
      "Param = 0.01000 - classifier Evaluation Experiment 114 of 642\n",
      "Param = 0.01000 - classifier Evaluation Experiment 115 of 642\n",
      "Param = 0.01000 - classifier Evaluation Experiment 116 of 642\n",
      "Param = 0.01000 - classifier Evaluation Experiment 117 of 642\n",
      "Param = 0.01000 - classifier Evaluation Experiment 118 of 642\n",
      "Param = 0.01000 - classifier Evaluation Experiment 119 of 642\n",
      "Param = 0.01000 - classifier Evaluation Experiment 120 of 642\n",
      "Param = 0.01000 - classifier Evaluation Experiment 121 of 642\n",
      "Param = 0.01000 - classifier Evaluation Experiment 122 of 642\n",
      "Param = 0.01000 - classifier Evaluation Experiment 123 of 642\n",
      "Param = 0.01000 - classifier Evaluation Experiment 124 of 642\n",
      "Param = 0.01000 - classifier Evaluation Experiment 125 of 642\n",
      "Param = 0.01000 - classifier Evaluation Experiment 126 of 642\n",
      "Param = 0.01000 - classifier Evaluation Experiment 127 of 642\n",
      "Param = 0.01000 - classifier Evaluation Experiment 128 of 642\n",
      "Param = 0.01000 - classifier Evaluation Experiment 129 of 642\n",
      "Param = 0.01000 - classifier Evaluation Experiment 130 of 642\n",
      "Param = 0.01000 - classifier Evaluation Experiment 131 of 642\n",
      "Param = 0.01000 - classifier Evaluation Experiment 132 of 642\n",
      "Param = 0.01000 - classifier Evaluation Experiment 133 of 642\n",
      "Param = 0.01000 - classifier Evaluation Experiment 134 of 642\n",
      "Param = 0.01000 - classifier Evaluation Experiment 135 of 642\n",
      "Param = 0.01000 - classifier Evaluation Experiment 136 of 642\n",
      "Param = 0.01000 - classifier Evaluation Experiment 137 of 642\n",
      "Param = 0.01000 - classifier Evaluation Experiment 138 of 642\n",
      "Param = 0.01000 - classifier Evaluation Experiment 139 of 642\n",
      "Param = 0.01000 - classifier Evaluation Experiment 140 of 642\n",
      "Param = 0.01000 - classifier Evaluation Experiment 141 of 642\n",
      "Param = 0.01000 - classifier Evaluation Experiment 142 of 642\n",
      "Param = 0.01000 - classifier Evaluation Experiment 143 of 642\n",
      "Param = 0.01000 - classifier Evaluation Experiment 144 of 642\n",
      "Param = 0.01000 - classifier Evaluation Experiment 145 of 642\n",
      "Param = 0.01000 - classifier Evaluation Experiment 146 of 642\n",
      "Param = 0.01000 - classifier Evaluation Experiment 147 of 642\n",
      "Param = 0.01000 - classifier Evaluation Experiment 148 of 642\n",
      "Param = 0.01000 - classifier Evaluation Experiment 149 of 642\n",
      "Param = 0.01000 - classifier Evaluation Experiment 150 of 642\n",
      "Param = 0.01000 - classifier Evaluation Experiment 151 of 642\n",
      "Param = 0.01000 - classifier Evaluation Experiment 152 of 642\n",
      "Param = 0.01000 - classifier Evaluation Experiment 153 of 642\n",
      "Param = 0.01000 - classifier Evaluation Experiment 154 of 642\n",
      "Param = 0.01000 - classifier Evaluation Experiment 155 of 642\n",
      "Param = 0.01000 - classifier Evaluation Experiment 156 of 642\n",
      "Param = 0.01000 - classifier Evaluation Experiment 157 of 642\n",
      "Param = 0.01000 - classifier Evaluation Experiment 158 of 642\n",
      "Param = 0.01000 - classifier Evaluation Experiment 159 of 642\n",
      "Param = 0.01000 - classifier Evaluation Experiment 160 of 642\n",
      "Param = 0.01000 - classifier Evaluation Experiment 161 of 642\n",
      "Param = 0.01000 - classifier Evaluation Experiment 162 of 642\n",
      "Param = 0.01000 - classifier Evaluation Experiment 163 of 642\n",
      "Param = 0.01000 - classifier Evaluation Experiment 164 of 642\n",
      "Param = 0.01000 - classifier Evaluation Experiment 165 of 642\n",
      "Param = 0.01000 - classifier Evaluation Experiment 166 of 642\n",
      "Param = 0.01000 - classifier Evaluation Experiment 167 of 642\n",
      "Param = 0.01000 - classifier Evaluation Experiment 168 of 642\n",
      "Param = 0.01000 - classifier Evaluation Experiment 169 of 642\n",
      "Param = 0.01000 - classifier Evaluation Experiment 170 of 642\n",
      "Param = 0.01000 - classifier Evaluation Experiment 171 of 642\n",
      "Param = 0.01000 - classifier Evaluation Experiment 172 of 642\n",
      "Param = 0.01000 - classifier Evaluation Experiment 173 of 642\n",
      "Param = 0.01000 - classifier Evaluation Experiment 174 of 642\n",
      "Param = 0.01000 - classifier Evaluation Experiment 175 of 642\n",
      "Param = 0.01000 - classifier Evaluation Experiment 176 of 642\n",
      "Param = 0.01000 - classifier Evaluation Experiment 177 of 642\n",
      "Param = 0.01000 - classifier Evaluation Experiment 178 of 642\n",
      "Param = 0.01000 - classifier Evaluation Experiment 179 of 642\n",
      "Param = 0.01000 - classifier Evaluation Experiment 180 of 642\n",
      "Param = 0.01000 - classifier Evaluation Experiment 181 of 642\n",
      "Param = 0.01000 - classifier Evaluation Experiment 182 of 642\n",
      "Param = 0.01000 - classifier Evaluation Experiment 183 of 642\n",
      "Param = 0.01000 - classifier Evaluation Experiment 184 of 642\n",
      "Param = 0.01000 - classifier Evaluation Experiment 185 of 642\n",
      "Param = 0.01000 - classifier Evaluation Experiment 186 of 642\n",
      "Param = 0.01000 - classifier Evaluation Experiment 187 of 642\n",
      "Param = 0.01000 - classifier Evaluation Experiment 188 of 642\n",
      "Param = 0.01000 - classifier Evaluation Experiment 189 of 642\n",
      "Param = 0.01000 - classifier Evaluation Experiment 190 of 642\n",
      "Param = 0.01000 - classifier Evaluation Experiment 191 of 642\n",
      "Param = 0.01000 - classifier Evaluation Experiment 192 of 642\n",
      "Param = 0.01000 - classifier Evaluation Experiment 193 of 642\n",
      "Param = 0.01000 - classifier Evaluation Experiment 194 of 642\n",
      "Param = 0.01000 - classifier Evaluation Experiment 195 of 642\n",
      "Param = 0.01000 - classifier Evaluation Experiment 196 of 642\n",
      "Param = 0.01000 - classifier Evaluation Experiment 197 of 642\n",
      "Param = 0.01000 - classifier Evaluation Experiment 198 of 642\n",
      "Param = 0.01000 - classifier Evaluation Experiment 199 of 642\n",
      "Param = 0.01000 - classifier Evaluation Experiment 200 of 642\n",
      "Param = 0.01000 - classifier Evaluation Experiment 201 of 642\n",
      "Param = 0.01000 - classifier Evaluation Experiment 202 of 642\n",
      "Param = 0.01000 - classifier Evaluation Experiment 203 of 642\n",
      "Param = 0.01000 - classifier Evaluation Experiment 204 of 642\n",
      "Param = 0.01000 - classifier Evaluation Experiment 205 of 642\n",
      "Param = 0.01000 - classifier Evaluation Experiment 206 of 642\n",
      "Param = 0.01000 - classifier Evaluation Experiment 207 of 642\n",
      "Param = 0.01000 - classifier Evaluation Experiment 208 of 642\n",
      "Param = 0.01000 - classifier Evaluation Experiment 209 of 642\n",
      "Param = 0.01000 - classifier Evaluation Experiment 210 of 642\n",
      "Param = 0.01000 - classifier Evaluation Experiment 211 of 642\n",
      "Param = 0.01000 - classifier Evaluation Experiment 212 of 642\n",
      "Param = 0.01000 - classifier Evaluation Experiment 213 of 642\n",
      "Param = 0.01000 - classifier Evaluation Experiment 214 of 642\n",
      "Param = 0.01000 - classifier Evaluation Experiment 215 of 642\n",
      "Param = 0.01000 - classifier Evaluation Experiment 216 of 642\n",
      "Param = 0.01000 - classifier Evaluation Experiment 217 of 642\n",
      "Param = 0.01000 - classifier Evaluation Experiment 218 of 642\n",
      "Param = 0.01000 - classifier Evaluation Experiment 219 of 642\n",
      "Param = 0.01000 - classifier Evaluation Experiment 220 of 642\n",
      "Param = 0.01000 - classifier Evaluation Experiment 221 of 642\n",
      "Param = 0.01000 - classifier Evaluation Experiment 222 of 642\n",
      "Param = 0.01000 - classifier Evaluation Experiment 223 of 642\n",
      "Param = 0.01000 - classifier Evaluation Experiment 224 of 642\n",
      "Param = 0.01000 - classifier Evaluation Experiment 225 of 642\n",
      "Param = 0.01000 - classifier Evaluation Experiment 226 of 642\n",
      "Param = 0.01000 - classifier Evaluation Experiment 227 of 642\n",
      "Param = 0.01000 - classifier Evaluation Experiment 228 of 642\n",
      "Param = 0.01000 - classifier Evaluation Experiment 229 of 642\n",
      "Param = 0.01000 - classifier Evaluation Experiment 230 of 642\n",
      "Param = 0.01000 - classifier Evaluation Experiment 231 of 642\n",
      "Param = 0.01000 - classifier Evaluation Experiment 232 of 642\n",
      "Param = 0.01000 - classifier Evaluation Experiment 233 of 642\n",
      "Param = 0.01000 - classifier Evaluation Experiment 234 of 642\n",
      "Param = 0.01000 - classifier Evaluation Experiment 235 of 642\n",
      "Param = 0.01000 - classifier Evaluation Experiment 236 of 642\n",
      "Param = 0.01000 - classifier Evaluation Experiment 237 of 642\n",
      "Param = 0.01000 - classifier Evaluation Experiment 238 of 642\n",
      "Param = 0.01000 - classifier Evaluation Experiment 239 of 642\n",
      "Param = 0.01000 - classifier Evaluation Experiment 240 of 642\n",
      "Param = 0.01000 - classifier Evaluation Experiment 241 of 642\n",
      "Param = 0.01000 - classifier Evaluation Experiment 242 of 642\n",
      "Param = 0.01000 - classifier Evaluation Experiment 243 of 642\n",
      "Param = 0.01000 - classifier Evaluation Experiment 244 of 642\n",
      "Param = 0.01000 - classifier Evaluation Experiment 245 of 642\n",
      "Param = 0.01000 - classifier Evaluation Experiment 246 of 642\n",
      "Param = 0.01000 - classifier Evaluation Experiment 247 of 642\n",
      "Param = 0.01000 - classifier Evaluation Experiment 248 of 642\n",
      "Param = 0.01000 - classifier Evaluation Experiment 249 of 642\n",
      "Param = 0.01000 - classifier Evaluation Experiment 250 of 642\n",
      "Param = 0.01000 - classifier Evaluation Experiment 251 of 642\n",
      "Param = 0.01000 - classifier Evaluation Experiment 252 of 642\n",
      "Param = 0.01000 - classifier Evaluation Experiment 253 of 642\n",
      "Param = 0.01000 - classifier Evaluation Experiment 254 of 642\n",
      "Param = 0.01000 - classifier Evaluation Experiment 255 of 642\n",
      "Param = 0.01000 - classifier Evaluation Experiment 256 of 642\n",
      "Param = 0.01000 - classifier Evaluation Experiment 257 of 642\n",
      "Param = 0.01000 - classifier Evaluation Experiment 258 of 642\n",
      "Param = 0.01000 - classifier Evaluation Experiment 259 of 642\n",
      "Param = 0.01000 - classifier Evaluation Experiment 260 of 642\n",
      "Param = 0.01000 - classifier Evaluation Experiment 261 of 642\n",
      "Param = 0.01000 - classifier Evaluation Experiment 262 of 642\n",
      "Param = 0.01000 - classifier Evaluation Experiment 263 of 642\n",
      "Param = 0.01000 - classifier Evaluation Experiment 264 of 642\n",
      "Param = 0.01000 - classifier Evaluation Experiment 265 of 642\n",
      "Param = 0.01000 - classifier Evaluation Experiment 266 of 642\n",
      "Param = 0.01000 - classifier Evaluation Experiment 267 of 642\n",
      "Param = 0.01000 - classifier Evaluation Experiment 268 of 642\n",
      "Param = 0.01000 - classifier Evaluation Experiment 269 of 642\n",
      "Param = 0.01000 - classifier Evaluation Experiment 270 of 642\n",
      "Param = 0.01000 - classifier Evaluation Experiment 271 of 642\n",
      "Param = 0.01000 - classifier Evaluation Experiment 272 of 642\n",
      "Param = 0.01000 - classifier Evaluation Experiment 273 of 642\n",
      "Param = 0.01000 - classifier Evaluation Experiment 274 of 642\n",
      "Param = 0.01000 - classifier Evaluation Experiment 275 of 642\n",
      "Param = 0.01000 - classifier Evaluation Experiment 276 of 642\n",
      "Param = 0.01000 - classifier Evaluation Experiment 277 of 642\n",
      "Param = 0.01000 - classifier Evaluation Experiment 278 of 642\n",
      "Param = 0.01000 - classifier Evaluation Experiment 279 of 642\n",
      "Param = 0.01000 - classifier Evaluation Experiment 280 of 642\n",
      "Param = 0.01000 - classifier Evaluation Experiment 281 of 642\n",
      "Param = 0.01000 - classifier Evaluation Experiment 282 of 642\n",
      "Param = 0.01000 - classifier Evaluation Experiment 283 of 642\n",
      "Param = 0.01000 - classifier Evaluation Experiment 284 of 642\n",
      "Param = 0.01000 - classifier Evaluation Experiment 285 of 642\n",
      "Param = 0.01000 - classifier Evaluation Experiment 286 of 642\n",
      "Param = 0.01000 - classifier Evaluation Experiment 287 of 642\n",
      "Param = 0.01000 - classifier Evaluation Experiment 288 of 642\n",
      "Param = 0.01000 - classifier Evaluation Experiment 289 of 642\n",
      "Param = 0.01000 - classifier Evaluation Experiment 290 of 642\n",
      "Param = 0.01000 - classifier Evaluation Experiment 291 of 642\n",
      "Param = 0.01000 - classifier Evaluation Experiment 292 of 642\n",
      "Param = 0.01000 - classifier Evaluation Experiment 293 of 642\n",
      "Param = 0.01000 - classifier Evaluation Experiment 294 of 642\n",
      "Param = 0.01000 - classifier Evaluation Experiment 295 of 642\n",
      "Param = 0.01000 - classifier Evaluation Experiment 296 of 642\n",
      "Param = 0.01000 - classifier Evaluation Experiment 297 of 642\n",
      "Param = 0.01000 - classifier Evaluation Experiment 298 of 642\n",
      "Param = 0.01000 - classifier Evaluation Experiment 299 of 642\n",
      "Param = 0.01000 - classifier Evaluation Experiment 300 of 642\n",
      "Param = 0.01000 - classifier Evaluation Experiment 301 of 642\n",
      "Param = 0.01000 - classifier Evaluation Experiment 302 of 642\n",
      "Param = 0.01000 - classifier Evaluation Experiment 303 of 642\n",
      "Param = 0.01000 - classifier Evaluation Experiment 304 of 642\n",
      "Param = 0.01000 - classifier Evaluation Experiment 305 of 642\n",
      "Param = 0.01000 - classifier Evaluation Experiment 306 of 642\n",
      "Param = 0.01000 - classifier Evaluation Experiment 307 of 642\n",
      "Param = 0.01000 - classifier Evaluation Experiment 308 of 642\n",
      "Param = 0.01000 - classifier Evaluation Experiment 309 of 642\n",
      "Param = 0.01000 - classifier Evaluation Experiment 310 of 642\n",
      "Param = 0.01000 - classifier Evaluation Experiment 311 of 642\n",
      "Param = 0.01000 - classifier Evaluation Experiment 312 of 642\n",
      "Param = 0.01000 - classifier Evaluation Experiment 313 of 642\n",
      "Param = 0.01000 - classifier Evaluation Experiment 314 of 642\n",
      "Param = 0.01000 - classifier Evaluation Experiment 315 of 642\n",
      "Param = 0.01000 - classifier Evaluation Experiment 316 of 642\n",
      "Param = 0.01000 - classifier Evaluation Experiment 317 of 642\n",
      "Param = 0.01000 - classifier Evaluation Experiment 318 of 642\n",
      "Param = 0.01000 - classifier Evaluation Experiment 319 of 642\n",
      "Param = 0.01000 - classifier Evaluation Experiment 320 of 642\n",
      "Param = 0.01000 - classifier Evaluation Experiment 321 of 642\n",
      "Param = 0.01000 - classifier Evaluation Experiment 322 of 642\n",
      "Param = 0.01000 - classifier Evaluation Experiment 323 of 642\n",
      "Param = 0.01000 - classifier Evaluation Experiment 324 of 642\n",
      "Param = 0.01000 - classifier Evaluation Experiment 325 of 642\n",
      "Param = 0.01000 - classifier Evaluation Experiment 326 of 642\n",
      "Param = 0.01000 - classifier Evaluation Experiment 327 of 642\n",
      "Param = 0.01000 - classifier Evaluation Experiment 328 of 642\n",
      "Param = 0.01000 - classifier Evaluation Experiment 329 of 642\n",
      "Param = 0.01000 - classifier Evaluation Experiment 330 of 642\n",
      "Param = 0.01000 - classifier Evaluation Experiment 331 of 642\n",
      "Param = 0.01000 - classifier Evaluation Experiment 332 of 642\n",
      "Param = 0.01000 - classifier Evaluation Experiment 333 of 642\n",
      "Param = 0.01000 - classifier Evaluation Experiment 334 of 642\n",
      "Param = 0.01000 - classifier Evaluation Experiment 335 of 642\n",
      "Param = 0.01000 - classifier Evaluation Experiment 336 of 642\n",
      "Param = 0.01000 - classifier Evaluation Experiment 337 of 642\n",
      "Param = 0.01000 - classifier Evaluation Experiment 338 of 642\n",
      "Param = 0.01000 - classifier Evaluation Experiment 339 of 642\n",
      "Param = 0.01000 - classifier Evaluation Experiment 340 of 642\n",
      "Param = 0.01000 - classifier Evaluation Experiment 341 of 642\n",
      "Param = 0.01000 - classifier Evaluation Experiment 342 of 642\n",
      "Param = 0.01000 - classifier Evaluation Experiment 343 of 642\n",
      "Param = 0.01000 - classifier Evaluation Experiment 344 of 642\n",
      "Param = 0.01000 - classifier Evaluation Experiment 345 of 642\n",
      "Param = 0.01000 - classifier Evaluation Experiment 346 of 642\n",
      "Param = 0.01000 - classifier Evaluation Experiment 347 of 642\n",
      "Param = 0.01000 - classifier Evaluation Experiment 348 of 642\n",
      "Param = 0.01000 - classifier Evaluation Experiment 349 of 642\n",
      "Param = 0.01000 - classifier Evaluation Experiment 350 of 642\n",
      "Param = 0.01000 - classifier Evaluation Experiment 351 of 642\n",
      "Param = 0.01000 - classifier Evaluation Experiment 352 of 642\n",
      "Param = 0.01000 - classifier Evaluation Experiment 353 of 642\n",
      "Param = 0.01000 - classifier Evaluation Experiment 354 of 642\n",
      "Param = 0.01000 - classifier Evaluation Experiment 355 of 642\n",
      "Param = 0.01000 - classifier Evaluation Experiment 356 of 642\n",
      "Param = 0.01000 - classifier Evaluation Experiment 357 of 642\n",
      "Param = 0.01000 - classifier Evaluation Experiment 358 of 642\n",
      "Param = 0.01000 - classifier Evaluation Experiment 359 of 642\n",
      "Param = 0.01000 - classifier Evaluation Experiment 360 of 642\n",
      "Param = 0.01000 - classifier Evaluation Experiment 361 of 642\n",
      "Param = 0.01000 - classifier Evaluation Experiment 362 of 642\n",
      "Param = 0.01000 - classifier Evaluation Experiment 363 of 642\n",
      "Param = 0.01000 - classifier Evaluation Experiment 364 of 642\n",
      "Param = 0.01000 - classifier Evaluation Experiment 365 of 642\n",
      "Param = 0.01000 - classifier Evaluation Experiment 366 of 642\n",
      "Param = 0.01000 - classifier Evaluation Experiment 367 of 642\n",
      "Param = 0.01000 - classifier Evaluation Experiment 368 of 642\n",
      "Param = 0.01000 - classifier Evaluation Experiment 369 of 642\n",
      "Param = 0.01000 - classifier Evaluation Experiment 370 of 642\n",
      "Param = 0.01000 - classifier Evaluation Experiment 371 of 642\n",
      "Param = 0.01000 - classifier Evaluation Experiment 372 of 642\n",
      "Param = 0.01000 - classifier Evaluation Experiment 373 of 642\n",
      "Param = 0.01000 - classifier Evaluation Experiment 374 of 642\n",
      "Param = 0.01000 - classifier Evaluation Experiment 375 of 642\n",
      "Param = 0.01000 - classifier Evaluation Experiment 376 of 642\n",
      "Param = 0.01000 - classifier Evaluation Experiment 377 of 642\n",
      "Param = 0.01000 - classifier Evaluation Experiment 378 of 642\n",
      "Param = 0.01000 - classifier Evaluation Experiment 379 of 642\n",
      "Param = 0.01000 - classifier Evaluation Experiment 380 of 642\n",
      "Param = 0.01000 - classifier Evaluation Experiment 381 of 642\n",
      "Param = 0.01000 - classifier Evaluation Experiment 382 of 642\n",
      "Param = 0.01000 - classifier Evaluation Experiment 383 of 642\n",
      "Param = 0.01000 - classifier Evaluation Experiment 384 of 642\n",
      "Param = 0.01000 - classifier Evaluation Experiment 385 of 642\n",
      "Param = 0.01000 - classifier Evaluation Experiment 386 of 642\n",
      "Param = 0.01000 - classifier Evaluation Experiment 387 of 642\n",
      "Param = 0.01000 - classifier Evaluation Experiment 388 of 642\n",
      "Param = 0.01000 - classifier Evaluation Experiment 389 of 642\n",
      "Param = 0.01000 - classifier Evaluation Experiment 390 of 642\n",
      "Param = 0.01000 - classifier Evaluation Experiment 391 of 642\n",
      "Param = 0.01000 - classifier Evaluation Experiment 392 of 642\n",
      "Param = 0.01000 - classifier Evaluation Experiment 393 of 642\n",
      "Param = 0.01000 - classifier Evaluation Experiment 394 of 642\n",
      "Param = 0.01000 - classifier Evaluation Experiment 395 of 642\n",
      "Param = 0.01000 - classifier Evaluation Experiment 396 of 642\n",
      "Param = 0.01000 - classifier Evaluation Experiment 397 of 642\n",
      "Param = 0.01000 - classifier Evaluation Experiment 398 of 642\n",
      "Param = 0.01000 - classifier Evaluation Experiment 399 of 642\n",
      "Param = 0.01000 - classifier Evaluation Experiment 400 of 642\n",
      "Param = 0.01000 - classifier Evaluation Experiment 401 of 642\n",
      "Param = 0.01000 - classifier Evaluation Experiment 402 of 642\n",
      "Param = 0.01000 - classifier Evaluation Experiment 403 of 642\n",
      "Param = 0.01000 - classifier Evaluation Experiment 404 of 642\n",
      "Param = 0.01000 - classifier Evaluation Experiment 405 of 642\n",
      "Param = 0.01000 - classifier Evaluation Experiment 406 of 642\n",
      "Param = 0.01000 - classifier Evaluation Experiment 407 of 642\n",
      "Param = 0.01000 - classifier Evaluation Experiment 408 of 642\n",
      "Param = 0.01000 - classifier Evaluation Experiment 409 of 642\n",
      "Param = 0.01000 - classifier Evaluation Experiment 410 of 642\n",
      "Param = 0.01000 - classifier Evaluation Experiment 411 of 642\n",
      "Param = 0.01000 - classifier Evaluation Experiment 412 of 642\n",
      "Param = 0.01000 - classifier Evaluation Experiment 413 of 642\n",
      "Param = 0.01000 - classifier Evaluation Experiment 414 of 642\n",
      "Param = 0.01000 - classifier Evaluation Experiment 415 of 642\n",
      "Param = 0.01000 - classifier Evaluation Experiment 416 of 642\n",
      "Param = 0.01000 - classifier Evaluation Experiment 417 of 642\n",
      "Param = 0.01000 - classifier Evaluation Experiment 418 of 642\n",
      "Param = 0.01000 - classifier Evaluation Experiment 419 of 642\n",
      "Param = 0.01000 - classifier Evaluation Experiment 420 of 642\n",
      "Param = 0.01000 - classifier Evaluation Experiment 421 of 642\n",
      "Param = 0.01000 - classifier Evaluation Experiment 422 of 642\n",
      "Param = 0.01000 - classifier Evaluation Experiment 423 of 642\n",
      "Param = 0.01000 - classifier Evaluation Experiment 424 of 642\n",
      "Param = 0.01000 - classifier Evaluation Experiment 425 of 642\n",
      "Param = 0.01000 - classifier Evaluation Experiment 426 of 642\n",
      "Param = 0.01000 - classifier Evaluation Experiment 427 of 642\n",
      "Param = 0.01000 - classifier Evaluation Experiment 428 of 642\n",
      "Param = 0.01000 - classifier Evaluation Experiment 429 of 642\n",
      "Param = 0.01000 - classifier Evaluation Experiment 430 of 642\n",
      "Param = 0.01000 - classifier Evaluation Experiment 431 of 642\n",
      "Param = 0.01000 - classifier Evaluation Experiment 432 of 642\n",
      "Param = 0.01000 - classifier Evaluation Experiment 433 of 642\n",
      "Param = 0.01000 - classifier Evaluation Experiment 434 of 642\n",
      "Param = 0.01000 - classifier Evaluation Experiment 435 of 642\n",
      "Param = 0.01000 - classifier Evaluation Experiment 436 of 642\n",
      "Param = 0.01000 - classifier Evaluation Experiment 437 of 642\n",
      "Param = 0.01000 - classifier Evaluation Experiment 438 of 642\n",
      "Param = 0.01000 - classifier Evaluation Experiment 439 of 642\n",
      "Param = 0.01000 - classifier Evaluation Experiment 440 of 642\n",
      "Param = 0.01000 - classifier Evaluation Experiment 441 of 642\n",
      "Param = 0.01000 - classifier Evaluation Experiment 442 of 642\n",
      "Param = 0.01000 - classifier Evaluation Experiment 443 of 642\n",
      "Param = 0.01000 - classifier Evaluation Experiment 444 of 642\n",
      "Param = 0.01000 - classifier Evaluation Experiment 445 of 642\n",
      "Param = 0.01000 - classifier Evaluation Experiment 446 of 642\n",
      "Param = 0.01000 - classifier Evaluation Experiment 447 of 642\n",
      "Param = 0.01000 - classifier Evaluation Experiment 448 of 642\n",
      "Param = 0.01000 - classifier Evaluation Experiment 449 of 642\n",
      "Param = 0.01000 - classifier Evaluation Experiment 450 of 642\n",
      "Param = 0.01000 - classifier Evaluation Experiment 451 of 642\n",
      "Param = 0.01000 - classifier Evaluation Experiment 452 of 642\n",
      "Param = 0.01000 - classifier Evaluation Experiment 453 of 642\n",
      "Param = 0.01000 - classifier Evaluation Experiment 454 of 642\n",
      "Param = 0.01000 - classifier Evaluation Experiment 455 of 642\n",
      "Param = 0.01000 - classifier Evaluation Experiment 456 of 642\n",
      "Param = 0.01000 - classifier Evaluation Experiment 457 of 642\n",
      "Param = 0.01000 - classifier Evaluation Experiment 458 of 642\n",
      "Param = 0.01000 - classifier Evaluation Experiment 459 of 642\n",
      "Param = 0.01000 - classifier Evaluation Experiment 460 of 642\n",
      "Param = 0.01000 - classifier Evaluation Experiment 461 of 642\n",
      "Param = 0.01000 - classifier Evaluation Experiment 462 of 642\n",
      "Param = 0.01000 - classifier Evaluation Experiment 463 of 642\n",
      "Param = 0.01000 - classifier Evaluation Experiment 464 of 642\n",
      "Param = 0.01000 - classifier Evaluation Experiment 465 of 642\n",
      "Param = 0.01000 - classifier Evaluation Experiment 466 of 642\n",
      "Param = 0.01000 - classifier Evaluation Experiment 467 of 642\n",
      "Param = 0.01000 - classifier Evaluation Experiment 468 of 642\n",
      "Param = 0.01000 - classifier Evaluation Experiment 469 of 642\n",
      "Param = 0.01000 - classifier Evaluation Experiment 470 of 642\n",
      "Param = 0.01000 - classifier Evaluation Experiment 471 of 642\n",
      "Param = 0.01000 - classifier Evaluation Experiment 472 of 642\n",
      "Param = 0.01000 - classifier Evaluation Experiment 473 of 642\n",
      "Param = 0.01000 - classifier Evaluation Experiment 474 of 642\n",
      "Param = 0.01000 - classifier Evaluation Experiment 475 of 642\n",
      "Param = 0.01000 - classifier Evaluation Experiment 476 of 642\n",
      "Param = 0.01000 - classifier Evaluation Experiment 477 of 642\n",
      "Param = 0.01000 - classifier Evaluation Experiment 478 of 642\n",
      "Param = 0.01000 - classifier Evaluation Experiment 479 of 642\n",
      "Param = 0.01000 - classifier Evaluation Experiment 480 of 642\n",
      "Param = 0.01000 - classifier Evaluation Experiment 481 of 642\n",
      "Param = 0.01000 - classifier Evaluation Experiment 482 of 642\n",
      "Param = 0.01000 - classifier Evaluation Experiment 483 of 642\n",
      "Param = 0.01000 - classifier Evaluation Experiment 484 of 642\n",
      "Param = 0.01000 - classifier Evaluation Experiment 485 of 642\n",
      "Param = 0.01000 - classifier Evaluation Experiment 486 of 642\n",
      "Param = 0.01000 - classifier Evaluation Experiment 487 of 642\n",
      "Param = 0.01000 - classifier Evaluation Experiment 488 of 642\n",
      "Param = 0.01000 - classifier Evaluation Experiment 489 of 642\n",
      "Param = 0.01000 - classifier Evaluation Experiment 490 of 642\n",
      "Param = 0.01000 - classifier Evaluation Experiment 491 of 642\n",
      "Param = 0.01000 - classifier Evaluation Experiment 492 of 642\n",
      "Param = 0.01000 - classifier Evaluation Experiment 493 of 642\n",
      "Param = 0.01000 - classifier Evaluation Experiment 494 of 642\n",
      "Param = 0.01000 - classifier Evaluation Experiment 495 of 642\n",
      "Param = 0.01000 - classifier Evaluation Experiment 496 of 642\n",
      "Param = 0.01000 - classifier Evaluation Experiment 497 of 642\n",
      "Param = 0.01000 - classifier Evaluation Experiment 498 of 642\n",
      "Param = 0.01000 - classifier Evaluation Experiment 499 of 642\n",
      "Param = 0.01000 - classifier Evaluation Experiment 500 of 642\n",
      "Param = 0.01000 - classifier Evaluation Experiment 501 of 642\n",
      "Param = 0.01000 - classifier Evaluation Experiment 502 of 642\n",
      "Param = 0.01000 - classifier Evaluation Experiment 503 of 642\n",
      "Param = 0.01000 - classifier Evaluation Experiment 504 of 642\n",
      "Param = 0.01000 - classifier Evaluation Experiment 505 of 642\n",
      "Param = 0.01000 - classifier Evaluation Experiment 506 of 642\n",
      "Param = 0.01000 - classifier Evaluation Experiment 507 of 642\n",
      "Param = 0.01000 - classifier Evaluation Experiment 508 of 642\n",
      "Param = 0.01000 - classifier Evaluation Experiment 509 of 642\n",
      "Param = 0.01000 - classifier Evaluation Experiment 510 of 642\n",
      "Param = 0.01000 - classifier Evaluation Experiment 511 of 642\n",
      "Param = 0.01000 - classifier Evaluation Experiment 512 of 642\n",
      "Param = 0.01000 - classifier Evaluation Experiment 513 of 642\n",
      "Param = 0.01000 - classifier Evaluation Experiment 514 of 642\n",
      "Param = 0.01000 - classifier Evaluation Experiment 515 of 642\n",
      "Param = 0.01000 - classifier Evaluation Experiment 516 of 642\n",
      "Param = 0.01000 - classifier Evaluation Experiment 517 of 642\n",
      "Param = 0.01000 - classifier Evaluation Experiment 518 of 642\n",
      "Param = 0.01000 - classifier Evaluation Experiment 519 of 642\n",
      "Param = 0.01000 - classifier Evaluation Experiment 520 of 642\n",
      "Param = 0.01000 - classifier Evaluation Experiment 521 of 642\n",
      "Param = 0.01000 - classifier Evaluation Experiment 522 of 642\n",
      "Param = 0.01000 - classifier Evaluation Experiment 523 of 642\n",
      "Param = 0.01000 - classifier Evaluation Experiment 524 of 642\n",
      "Param = 0.01000 - classifier Evaluation Experiment 525 of 642\n",
      "Param = 0.01000 - classifier Evaluation Experiment 526 of 642\n",
      "Param = 0.01000 - classifier Evaluation Experiment 527 of 642\n",
      "Param = 0.01000 - classifier Evaluation Experiment 528 of 642\n",
      "Param = 0.01000 - classifier Evaluation Experiment 529 of 642\n",
      "Param = 0.01000 - classifier Evaluation Experiment 530 of 642\n",
      "Param = 0.01000 - classifier Evaluation Experiment 531 of 642\n",
      "Param = 0.01000 - classifier Evaluation Experiment 532 of 642\n",
      "Param = 0.01000 - classifier Evaluation Experiment 533 of 642\n",
      "Param = 0.01000 - classifier Evaluation Experiment 534 of 642\n",
      "Param = 0.01000 - classifier Evaluation Experiment 535 of 642\n",
      "Param = 0.01000 - classifier Evaluation Experiment 536 of 642\n",
      "Param = 0.01000 - classifier Evaluation Experiment 537 of 642\n",
      "Param = 0.01000 - classifier Evaluation Experiment 538 of 642\n",
      "Param = 0.01000 - classifier Evaluation Experiment 539 of 642\n",
      "Param = 0.01000 - classifier Evaluation Experiment 540 of 642\n",
      "Param = 0.01000 - classifier Evaluation Experiment 541 of 642\n",
      "Param = 0.01000 - classifier Evaluation Experiment 542 of 642\n",
      "Param = 0.01000 - classifier Evaluation Experiment 543 of 642\n",
      "Param = 0.01000 - classifier Evaluation Experiment 544 of 642\n",
      "Param = 0.01000 - classifier Evaluation Experiment 545 of 642\n",
      "Param = 0.01000 - classifier Evaluation Experiment 546 of 642\n",
      "Param = 0.01000 - classifier Evaluation Experiment 547 of 642\n",
      "Param = 0.01000 - classifier Evaluation Experiment 548 of 642\n",
      "Param = 0.01000 - classifier Evaluation Experiment 549 of 642\n",
      "Param = 0.01000 - classifier Evaluation Experiment 550 of 642\n",
      "Param = 0.01000 - classifier Evaluation Experiment 551 of 642\n",
      "Param = 0.01000 - classifier Evaluation Experiment 552 of 642\n",
      "Param = 0.01000 - classifier Evaluation Experiment 553 of 642\n",
      "Param = 0.01000 - classifier Evaluation Experiment 554 of 642\n",
      "Param = 0.01000 - classifier Evaluation Experiment 555 of 642\n",
      "Param = 0.01000 - classifier Evaluation Experiment 556 of 642\n",
      "Param = 0.01000 - classifier Evaluation Experiment 557 of 642\n",
      "Param = 0.01000 - classifier Evaluation Experiment 558 of 642\n",
      "Param = 0.01000 - classifier Evaluation Experiment 559 of 642\n",
      "Param = 0.01000 - classifier Evaluation Experiment 560 of 642\n",
      "Param = 0.01000 - classifier Evaluation Experiment 561 of 642\n",
      "Param = 0.01000 - classifier Evaluation Experiment 562 of 642\n",
      "Param = 0.01000 - classifier Evaluation Experiment 563 of 642\n",
      "Param = 0.01000 - classifier Evaluation Experiment 564 of 642\n",
      "Param = 0.01000 - classifier Evaluation Experiment 565 of 642\n",
      "Param = 0.01000 - classifier Evaluation Experiment 566 of 642\n",
      "Param = 0.01000 - classifier Evaluation Experiment 567 of 642\n",
      "Param = 0.01000 - classifier Evaluation Experiment 568 of 642\n",
      "Param = 0.01000 - classifier Evaluation Experiment 569 of 642\n",
      "Param = 0.01000 - classifier Evaluation Experiment 570 of 642\n",
      "Param = 0.01000 - classifier Evaluation Experiment 571 of 642\n",
      "Param = 0.01000 - classifier Evaluation Experiment 572 of 642\n",
      "Param = 0.01000 - classifier Evaluation Experiment 573 of 642\n",
      "Param = 0.01000 - classifier Evaluation Experiment 574 of 642\n",
      "Param = 0.01000 - classifier Evaluation Experiment 575 of 642\n",
      "Param = 0.01000 - classifier Evaluation Experiment 576 of 642\n",
      "Param = 0.01000 - classifier Evaluation Experiment 577 of 642\n",
      "Param = 0.01000 - classifier Evaluation Experiment 578 of 642\n",
      "Param = 0.01000 - classifier Evaluation Experiment 579 of 642\n",
      "Param = 0.01000 - classifier Evaluation Experiment 580 of 642\n",
      "Param = 0.01000 - classifier Evaluation Experiment 581 of 642\n",
      "Param = 0.01000 - classifier Evaluation Experiment 582 of 642\n",
      "Param = 0.01000 - classifier Evaluation Experiment 583 of 642\n",
      "Param = 0.01000 - classifier Evaluation Experiment 584 of 642\n",
      "Param = 0.01000 - classifier Evaluation Experiment 585 of 642\n",
      "Param = 0.01000 - classifier Evaluation Experiment 586 of 642\n",
      "Param = 0.01000 - classifier Evaluation Experiment 587 of 642\n",
      "Param = 0.01000 - classifier Evaluation Experiment 588 of 642\n",
      "Param = 0.01000 - classifier Evaluation Experiment 589 of 642\n",
      "Param = 0.01000 - classifier Evaluation Experiment 590 of 642\n",
      "Param = 0.01000 - classifier Evaluation Experiment 591 of 642\n",
      "Param = 0.01000 - classifier Evaluation Experiment 592 of 642\n",
      "Param = 0.01000 - classifier Evaluation Experiment 593 of 642\n",
      "Param = 0.01000 - classifier Evaluation Experiment 594 of 642\n",
      "Param = 0.01000 - classifier Evaluation Experiment 595 of 642\n",
      "Param = 0.01000 - classifier Evaluation Experiment 596 of 642\n",
      "Param = 0.01000 - classifier Evaluation Experiment 597 of 642\n",
      "Param = 0.01000 - classifier Evaluation Experiment 598 of 642\n",
      "Param = 0.01000 - classifier Evaluation Experiment 599 of 642\n",
      "Param = 0.01000 - classifier Evaluation Experiment 600 of 642\n",
      "Param = 0.01000 - classifier Evaluation Experiment 601 of 642\n",
      "Param = 0.01000 - classifier Evaluation Experiment 602 of 642\n",
      "Param = 0.01000 - classifier Evaluation Experiment 603 of 642\n",
      "Param = 0.01000 - classifier Evaluation Experiment 604 of 642\n",
      "Param = 0.01000 - classifier Evaluation Experiment 605 of 642\n",
      "Param = 0.01000 - classifier Evaluation Experiment 606 of 642\n",
      "Param = 0.01000 - classifier Evaluation Experiment 607 of 642\n",
      "Param = 0.01000 - classifier Evaluation Experiment 608 of 642\n",
      "Param = 0.01000 - classifier Evaluation Experiment 609 of 642\n",
      "Param = 0.01000 - classifier Evaluation Experiment 610 of 642\n",
      "Param = 0.01000 - classifier Evaluation Experiment 611 of 642\n",
      "Param = 0.01000 - classifier Evaluation Experiment 612 of 642\n",
      "Param = 0.01000 - classifier Evaluation Experiment 613 of 642\n",
      "Param = 0.01000 - classifier Evaluation Experiment 614 of 642\n",
      "Param = 0.01000 - classifier Evaluation Experiment 615 of 642\n",
      "Param = 0.01000 - classifier Evaluation Experiment 616 of 642\n",
      "Param = 0.01000 - classifier Evaluation Experiment 617 of 642\n",
      "Param = 0.01000 - classifier Evaluation Experiment 618 of 642\n",
      "Param = 0.01000 - classifier Evaluation Experiment 619 of 642\n",
      "Param = 0.01000 - classifier Evaluation Experiment 620 of 642\n",
      "Param = 0.01000 - classifier Evaluation Experiment 621 of 642\n",
      "Param = 0.01000 - classifier Evaluation Experiment 622 of 642\n",
      "Param = 0.01000 - classifier Evaluation Experiment 623 of 642\n",
      "Param = 0.01000 - classifier Evaluation Experiment 624 of 642\n",
      "Param = 0.01000 - classifier Evaluation Experiment 625 of 642\n",
      "Param = 0.01000 - classifier Evaluation Experiment 626 of 642\n",
      "Param = 0.01000 - classifier Evaluation Experiment 627 of 642\n",
      "Param = 0.01000 - classifier Evaluation Experiment 628 of 642\n",
      "Param = 0.01000 - classifier Evaluation Experiment 629 of 642\n",
      "Param = 0.01000 - classifier Evaluation Experiment 630 of 642\n",
      "Param = 0.01000 - classifier Evaluation Experiment 631 of 642\n",
      "Param = 0.01000 - classifier Evaluation Experiment 632 of 642\n",
      "Param = 0.01000 - classifier Evaluation Experiment 633 of 642\n",
      "Param = 0.01000 - classifier Evaluation Experiment 634 of 642\n",
      "Param = 0.01000 - classifier Evaluation Experiment 635 of 642\n",
      "Param = 0.01000 - classifier Evaluation Experiment 636 of 642\n",
      "Param = 0.01000 - classifier Evaluation Experiment 637 of 642\n",
      "Param = 0.01000 - classifier Evaluation Experiment 638 of 642\n",
      "Param = 0.01000 - classifier Evaluation Experiment 639 of 642\n",
      "Param = 0.01000 - classifier Evaluation Experiment 640 of 642\n",
      "Param = 0.01000 - classifier Evaluation Experiment 641 of 642\n",
      "Param = 0.01000 - classifier Evaluation Experiment 642 of 642\n",
      "Param = 0.50000 - classifier Evaluation Experiment 1 of 642\n",
      "Param = 0.50000 - classifier Evaluation Experiment 2 of 642\n",
      "Param = 0.50000 - classifier Evaluation Experiment 3 of 642\n",
      "Param = 0.50000 - classifier Evaluation Experiment 4 of 642\n",
      "Param = 0.50000 - classifier Evaluation Experiment 5 of 642\n",
      "Param = 0.50000 - classifier Evaluation Experiment 6 of 642\n",
      "Param = 0.50000 - classifier Evaluation Experiment 7 of 642\n",
      "Param = 0.50000 - classifier Evaluation Experiment 8 of 642\n",
      "Param = 0.50000 - classifier Evaluation Experiment 9 of 642\n",
      "Param = 0.50000 - classifier Evaluation Experiment 10 of 642\n",
      "Param = 0.50000 - classifier Evaluation Experiment 11 of 642\n",
      "Param = 0.50000 - classifier Evaluation Experiment 12 of 642\n",
      "Param = 0.50000 - classifier Evaluation Experiment 13 of 642\n",
      "Param = 0.50000 - classifier Evaluation Experiment 14 of 642\n",
      "Param = 0.50000 - classifier Evaluation Experiment 15 of 642\n",
      "Param = 0.50000 - classifier Evaluation Experiment 16 of 642\n",
      "Param = 0.50000 - classifier Evaluation Experiment 17 of 642\n",
      "Param = 0.50000 - classifier Evaluation Experiment 18 of 642\n",
      "Param = 0.50000 - classifier Evaluation Experiment 19 of 642\n",
      "Param = 0.50000 - classifier Evaluation Experiment 20 of 642\n",
      "Param = 0.50000 - classifier Evaluation Experiment 21 of 642\n",
      "Param = 0.50000 - classifier Evaluation Experiment 22 of 642\n",
      "Param = 0.50000 - classifier Evaluation Experiment 23 of 642\n",
      "Param = 0.50000 - classifier Evaluation Experiment 24 of 642\n",
      "Param = 0.50000 - classifier Evaluation Experiment 25 of 642\n",
      "Param = 0.50000 - classifier Evaluation Experiment 26 of 642\n",
      "Param = 0.50000 - classifier Evaluation Experiment 27 of 642\n",
      "Param = 0.50000 - classifier Evaluation Experiment 28 of 642\n",
      "Param = 0.50000 - classifier Evaluation Experiment 29 of 642\n",
      "Param = 0.50000 - classifier Evaluation Experiment 30 of 642\n",
      "Param = 0.50000 - classifier Evaluation Experiment 31 of 642\n",
      "Param = 0.50000 - classifier Evaluation Experiment 32 of 642\n",
      "Param = 0.50000 - classifier Evaluation Experiment 33 of 642\n",
      "Param = 0.50000 - classifier Evaluation Experiment 34 of 642\n",
      "Param = 0.50000 - classifier Evaluation Experiment 35 of 642\n",
      "Param = 0.50000 - classifier Evaluation Experiment 36 of 642\n",
      "Param = 0.50000 - classifier Evaluation Experiment 37 of 642\n",
      "Param = 0.50000 - classifier Evaluation Experiment 38 of 642\n",
      "Param = 0.50000 - classifier Evaluation Experiment 39 of 642\n",
      "Param = 0.50000 - classifier Evaluation Experiment 40 of 642\n",
      "Param = 0.50000 - classifier Evaluation Experiment 41 of 642\n",
      "Param = 0.50000 - classifier Evaluation Experiment 42 of 642\n",
      "Param = 0.50000 - classifier Evaluation Experiment 43 of 642\n",
      "Param = 0.50000 - classifier Evaluation Experiment 44 of 642\n",
      "Param = 0.50000 - classifier Evaluation Experiment 45 of 642\n",
      "Param = 0.50000 - classifier Evaluation Experiment 46 of 642\n",
      "Param = 0.50000 - classifier Evaluation Experiment 47 of 642\n",
      "Param = 0.50000 - classifier Evaluation Experiment 48 of 642\n",
      "Param = 0.50000 - classifier Evaluation Experiment 49 of 642\n",
      "Param = 0.50000 - classifier Evaluation Experiment 50 of 642\n",
      "Param = 0.50000 - classifier Evaluation Experiment 51 of 642\n",
      "Param = 0.50000 - classifier Evaluation Experiment 52 of 642\n",
      "Param = 0.50000 - classifier Evaluation Experiment 53 of 642\n",
      "Param = 0.50000 - classifier Evaluation Experiment 54 of 642\n",
      "Param = 0.50000 - classifier Evaluation Experiment 55 of 642\n",
      "Param = 0.50000 - classifier Evaluation Experiment 56 of 642\n",
      "Param = 0.50000 - classifier Evaluation Experiment 57 of 642\n",
      "Param = 0.50000 - classifier Evaluation Experiment 58 of 642\n",
      "Param = 0.50000 - classifier Evaluation Experiment 59 of 642\n",
      "Param = 0.50000 - classifier Evaluation Experiment 60 of 642\n",
      "Param = 0.50000 - classifier Evaluation Experiment 61 of 642\n",
      "Param = 0.50000 - classifier Evaluation Experiment 62 of 642\n",
      "Param = 0.50000 - classifier Evaluation Experiment 63 of 642\n",
      "Param = 0.50000 - classifier Evaluation Experiment 64 of 642\n",
      "Param = 0.50000 - classifier Evaluation Experiment 65 of 642\n",
      "Param = 0.50000 - classifier Evaluation Experiment 66 of 642\n",
      "Param = 0.50000 - classifier Evaluation Experiment 67 of 642\n",
      "Param = 0.50000 - classifier Evaluation Experiment 68 of 642\n",
      "Param = 0.50000 - classifier Evaluation Experiment 69 of 642\n",
      "Param = 0.50000 - classifier Evaluation Experiment 70 of 642\n",
      "Param = 0.50000 - classifier Evaluation Experiment 71 of 642\n",
      "Param = 0.50000 - classifier Evaluation Experiment 72 of 642\n",
      "Param = 0.50000 - classifier Evaluation Experiment 73 of 642\n",
      "Param = 0.50000 - classifier Evaluation Experiment 74 of 642\n",
      "Param = 0.50000 - classifier Evaluation Experiment 75 of 642\n",
      "Param = 0.50000 - classifier Evaluation Experiment 76 of 642\n",
      "Param = 0.50000 - classifier Evaluation Experiment 77 of 642\n",
      "Param = 0.50000 - classifier Evaluation Experiment 78 of 642\n",
      "Param = 0.50000 - classifier Evaluation Experiment 79 of 642\n",
      "Param = 0.50000 - classifier Evaluation Experiment 80 of 642\n",
      "Param = 0.50000 - classifier Evaluation Experiment 81 of 642\n",
      "Param = 0.50000 - classifier Evaluation Experiment 82 of 642\n",
      "Param = 0.50000 - classifier Evaluation Experiment 83 of 642\n",
      "Param = 0.50000 - classifier Evaluation Experiment 84 of 642\n",
      "Param = 0.50000 - classifier Evaluation Experiment 85 of 642\n",
      "Param = 0.50000 - classifier Evaluation Experiment 86 of 642\n",
      "Param = 0.50000 - classifier Evaluation Experiment 87 of 642\n",
      "Param = 0.50000 - classifier Evaluation Experiment 88 of 642\n",
      "Param = 0.50000 - classifier Evaluation Experiment 89 of 642\n",
      "Param = 0.50000 - classifier Evaluation Experiment 90 of 642\n",
      "Param = 0.50000 - classifier Evaluation Experiment 91 of 642\n",
      "Param = 0.50000 - classifier Evaluation Experiment 92 of 642\n",
      "Param = 0.50000 - classifier Evaluation Experiment 93 of 642\n",
      "Param = 0.50000 - classifier Evaluation Experiment 94 of 642\n",
      "Param = 0.50000 - classifier Evaluation Experiment 95 of 642\n",
      "Param = 0.50000 - classifier Evaluation Experiment 96 of 642\n",
      "Param = 0.50000 - classifier Evaluation Experiment 97 of 642\n",
      "Param = 0.50000 - classifier Evaluation Experiment 98 of 642\n",
      "Param = 0.50000 - classifier Evaluation Experiment 99 of 642\n",
      "Param = 0.50000 - classifier Evaluation Experiment 100 of 642\n",
      "Param = 0.50000 - classifier Evaluation Experiment 101 of 642\n",
      "Param = 0.50000 - classifier Evaluation Experiment 102 of 642\n",
      "Param = 0.50000 - classifier Evaluation Experiment 103 of 642\n",
      "Param = 0.50000 - classifier Evaluation Experiment 104 of 642\n",
      "Param = 0.50000 - classifier Evaluation Experiment 105 of 642\n",
      "Param = 0.50000 - classifier Evaluation Experiment 106 of 642\n",
      "Param = 0.50000 - classifier Evaluation Experiment 107 of 642\n",
      "Param = 0.50000 - classifier Evaluation Experiment 108 of 642\n",
      "Param = 0.50000 - classifier Evaluation Experiment 109 of 642\n",
      "Param = 0.50000 - classifier Evaluation Experiment 110 of 642\n",
      "Param = 0.50000 - classifier Evaluation Experiment 111 of 642\n",
      "Param = 0.50000 - classifier Evaluation Experiment 112 of 642\n",
      "Param = 0.50000 - classifier Evaluation Experiment 113 of 642\n",
      "Param = 0.50000 - classifier Evaluation Experiment 114 of 642\n",
      "Param = 0.50000 - classifier Evaluation Experiment 115 of 642\n",
      "Param = 0.50000 - classifier Evaluation Experiment 116 of 642\n",
      "Param = 0.50000 - classifier Evaluation Experiment 117 of 642\n",
      "Param = 0.50000 - classifier Evaluation Experiment 118 of 642\n",
      "Param = 0.50000 - classifier Evaluation Experiment 119 of 642\n",
      "Param = 0.50000 - classifier Evaluation Experiment 120 of 642\n",
      "Param = 0.50000 - classifier Evaluation Experiment 121 of 642\n",
      "Param = 0.50000 - classifier Evaluation Experiment 122 of 642\n",
      "Param = 0.50000 - classifier Evaluation Experiment 123 of 642\n",
      "Param = 0.50000 - classifier Evaluation Experiment 124 of 642\n",
      "Param = 0.50000 - classifier Evaluation Experiment 125 of 642\n",
      "Param = 0.50000 - classifier Evaluation Experiment 126 of 642\n",
      "Param = 0.50000 - classifier Evaluation Experiment 127 of 642\n",
      "Param = 0.50000 - classifier Evaluation Experiment 128 of 642\n",
      "Param = 0.50000 - classifier Evaluation Experiment 129 of 642\n",
      "Param = 0.50000 - classifier Evaluation Experiment 130 of 642\n",
      "Param = 0.50000 - classifier Evaluation Experiment 131 of 642\n",
      "Param = 0.50000 - classifier Evaluation Experiment 132 of 642\n",
      "Param = 0.50000 - classifier Evaluation Experiment 133 of 642\n",
      "Param = 0.50000 - classifier Evaluation Experiment 134 of 642\n",
      "Param = 0.50000 - classifier Evaluation Experiment 135 of 642\n",
      "Param = 0.50000 - classifier Evaluation Experiment 136 of 642\n",
      "Param = 0.50000 - classifier Evaluation Experiment 137 of 642\n",
      "Param = 0.50000 - classifier Evaluation Experiment 138 of 642\n",
      "Param = 0.50000 - classifier Evaluation Experiment 139 of 642\n",
      "Param = 0.50000 - classifier Evaluation Experiment 140 of 642\n",
      "Param = 0.50000 - classifier Evaluation Experiment 141 of 642\n",
      "Param = 0.50000 - classifier Evaluation Experiment 142 of 642\n",
      "Param = 0.50000 - classifier Evaluation Experiment 143 of 642\n",
      "Param = 0.50000 - classifier Evaluation Experiment 144 of 642\n",
      "Param = 0.50000 - classifier Evaluation Experiment 145 of 642\n",
      "Param = 0.50000 - classifier Evaluation Experiment 146 of 642\n",
      "Param = 0.50000 - classifier Evaluation Experiment 147 of 642\n",
      "Param = 0.50000 - classifier Evaluation Experiment 148 of 642\n",
      "Param = 0.50000 - classifier Evaluation Experiment 149 of 642\n",
      "Param = 0.50000 - classifier Evaluation Experiment 150 of 642\n",
      "Param = 0.50000 - classifier Evaluation Experiment 151 of 642\n",
      "Param = 0.50000 - classifier Evaluation Experiment 152 of 642\n",
      "Param = 0.50000 - classifier Evaluation Experiment 153 of 642\n",
      "Param = 0.50000 - classifier Evaluation Experiment 154 of 642\n",
      "Param = 0.50000 - classifier Evaluation Experiment 155 of 642\n",
      "Param = 0.50000 - classifier Evaluation Experiment 156 of 642\n",
      "Param = 0.50000 - classifier Evaluation Experiment 157 of 642\n",
      "Param = 0.50000 - classifier Evaluation Experiment 158 of 642\n",
      "Param = 0.50000 - classifier Evaluation Experiment 159 of 642\n",
      "Param = 0.50000 - classifier Evaluation Experiment 160 of 642\n",
      "Param = 0.50000 - classifier Evaluation Experiment 161 of 642\n",
      "Param = 0.50000 - classifier Evaluation Experiment 162 of 642\n",
      "Param = 0.50000 - classifier Evaluation Experiment 163 of 642\n",
      "Param = 0.50000 - classifier Evaluation Experiment 164 of 642\n",
      "Param = 0.50000 - classifier Evaluation Experiment 165 of 642\n",
      "Param = 0.50000 - classifier Evaluation Experiment 166 of 642\n",
      "Param = 0.50000 - classifier Evaluation Experiment 167 of 642\n",
      "Param = 0.50000 - classifier Evaluation Experiment 168 of 642\n",
      "Param = 0.50000 - classifier Evaluation Experiment 169 of 642\n",
      "Param = 0.50000 - classifier Evaluation Experiment 170 of 642\n",
      "Param = 0.50000 - classifier Evaluation Experiment 171 of 642\n",
      "Param = 0.50000 - classifier Evaluation Experiment 172 of 642\n",
      "Param = 0.50000 - classifier Evaluation Experiment 173 of 642\n",
      "Param = 0.50000 - classifier Evaluation Experiment 174 of 642\n",
      "Param = 0.50000 - classifier Evaluation Experiment 175 of 642\n",
      "Param = 0.50000 - classifier Evaluation Experiment 176 of 642\n",
      "Param = 0.50000 - classifier Evaluation Experiment 177 of 642\n",
      "Param = 0.50000 - classifier Evaluation Experiment 178 of 642\n",
      "Param = 0.50000 - classifier Evaluation Experiment 179 of 642\n",
      "Param = 0.50000 - classifier Evaluation Experiment 180 of 642\n",
      "Param = 0.50000 - classifier Evaluation Experiment 181 of 642\n",
      "Param = 0.50000 - classifier Evaluation Experiment 182 of 642\n",
      "Param = 0.50000 - classifier Evaluation Experiment 183 of 642\n",
      "Param = 0.50000 - classifier Evaluation Experiment 184 of 642\n",
      "Param = 0.50000 - classifier Evaluation Experiment 185 of 642\n",
      "Param = 0.50000 - classifier Evaluation Experiment 186 of 642\n",
      "Param = 0.50000 - classifier Evaluation Experiment 187 of 642\n",
      "Param = 0.50000 - classifier Evaluation Experiment 188 of 642\n",
      "Param = 0.50000 - classifier Evaluation Experiment 189 of 642\n",
      "Param = 0.50000 - classifier Evaluation Experiment 190 of 642\n",
      "Param = 0.50000 - classifier Evaluation Experiment 191 of 642\n",
      "Param = 0.50000 - classifier Evaluation Experiment 192 of 642\n",
      "Param = 0.50000 - classifier Evaluation Experiment 193 of 642\n",
      "Param = 0.50000 - classifier Evaluation Experiment 194 of 642\n",
      "Param = 0.50000 - classifier Evaluation Experiment 195 of 642\n",
      "Param = 0.50000 - classifier Evaluation Experiment 196 of 642\n",
      "Param = 0.50000 - classifier Evaluation Experiment 197 of 642\n",
      "Param = 0.50000 - classifier Evaluation Experiment 198 of 642\n",
      "Param = 0.50000 - classifier Evaluation Experiment 199 of 642\n",
      "Param = 0.50000 - classifier Evaluation Experiment 200 of 642\n",
      "Param = 0.50000 - classifier Evaluation Experiment 201 of 642\n",
      "Param = 0.50000 - classifier Evaluation Experiment 202 of 642\n",
      "Param = 0.50000 - classifier Evaluation Experiment 203 of 642\n",
      "Param = 0.50000 - classifier Evaluation Experiment 204 of 642\n",
      "Param = 0.50000 - classifier Evaluation Experiment 205 of 642\n",
      "Param = 0.50000 - classifier Evaluation Experiment 206 of 642\n",
      "Param = 0.50000 - classifier Evaluation Experiment 207 of 642\n",
      "Param = 0.50000 - classifier Evaluation Experiment 208 of 642\n",
      "Param = 0.50000 - classifier Evaluation Experiment 209 of 642\n",
      "Param = 0.50000 - classifier Evaluation Experiment 210 of 642\n",
      "Param = 0.50000 - classifier Evaluation Experiment 211 of 642\n",
      "Param = 0.50000 - classifier Evaluation Experiment 212 of 642\n",
      "Param = 0.50000 - classifier Evaluation Experiment 213 of 642\n",
      "Param = 0.50000 - classifier Evaluation Experiment 214 of 642\n",
      "Param = 0.50000 - classifier Evaluation Experiment 215 of 642\n",
      "Param = 0.50000 - classifier Evaluation Experiment 216 of 642\n",
      "Param = 0.50000 - classifier Evaluation Experiment 217 of 642\n",
      "Param = 0.50000 - classifier Evaluation Experiment 218 of 642\n",
      "Param = 0.50000 - classifier Evaluation Experiment 219 of 642\n",
      "Param = 0.50000 - classifier Evaluation Experiment 220 of 642\n",
      "Param = 0.50000 - classifier Evaluation Experiment 221 of 642\n",
      "Param = 0.50000 - classifier Evaluation Experiment 222 of 642\n",
      "Param = 0.50000 - classifier Evaluation Experiment 223 of 642\n",
      "Param = 0.50000 - classifier Evaluation Experiment 224 of 642\n",
      "Param = 0.50000 - classifier Evaluation Experiment 225 of 642\n",
      "Param = 0.50000 - classifier Evaluation Experiment 226 of 642\n",
      "Param = 0.50000 - classifier Evaluation Experiment 227 of 642\n",
      "Param = 0.50000 - classifier Evaluation Experiment 228 of 642\n",
      "Param = 0.50000 - classifier Evaluation Experiment 229 of 642\n",
      "Param = 0.50000 - classifier Evaluation Experiment 230 of 642\n",
      "Param = 0.50000 - classifier Evaluation Experiment 231 of 642\n",
      "Param = 0.50000 - classifier Evaluation Experiment 232 of 642\n",
      "Param = 0.50000 - classifier Evaluation Experiment 233 of 642\n",
      "Param = 0.50000 - classifier Evaluation Experiment 234 of 642\n",
      "Param = 0.50000 - classifier Evaluation Experiment 235 of 642\n",
      "Param = 0.50000 - classifier Evaluation Experiment 236 of 642\n",
      "Param = 0.50000 - classifier Evaluation Experiment 237 of 642\n",
      "Param = 0.50000 - classifier Evaluation Experiment 238 of 642\n",
      "Param = 0.50000 - classifier Evaluation Experiment 239 of 642\n",
      "Param = 0.50000 - classifier Evaluation Experiment 240 of 642\n",
      "Param = 0.50000 - classifier Evaluation Experiment 241 of 642\n",
      "Param = 0.50000 - classifier Evaluation Experiment 242 of 642\n",
      "Param = 0.50000 - classifier Evaluation Experiment 243 of 642\n",
      "Param = 0.50000 - classifier Evaluation Experiment 244 of 642\n",
      "Param = 0.50000 - classifier Evaluation Experiment 245 of 642\n",
      "Param = 0.50000 - classifier Evaluation Experiment 246 of 642\n",
      "Param = 0.50000 - classifier Evaluation Experiment 247 of 642\n",
      "Param = 0.50000 - classifier Evaluation Experiment 248 of 642\n",
      "Param = 0.50000 - classifier Evaluation Experiment 249 of 642\n",
      "Param = 0.50000 - classifier Evaluation Experiment 250 of 642\n",
      "Param = 0.50000 - classifier Evaluation Experiment 251 of 642\n",
      "Param = 0.50000 - classifier Evaluation Experiment 252 of 642\n",
      "Param = 0.50000 - classifier Evaluation Experiment 253 of 642\n",
      "Param = 0.50000 - classifier Evaluation Experiment 254 of 642\n",
      "Param = 0.50000 - classifier Evaluation Experiment 255 of 642\n",
      "Param = 0.50000 - classifier Evaluation Experiment 256 of 642\n",
      "Param = 0.50000 - classifier Evaluation Experiment 257 of 642\n",
      "Param = 0.50000 - classifier Evaluation Experiment 258 of 642\n",
      "Param = 0.50000 - classifier Evaluation Experiment 259 of 642\n",
      "Param = 0.50000 - classifier Evaluation Experiment 260 of 642\n",
      "Param = 0.50000 - classifier Evaluation Experiment 261 of 642\n",
      "Param = 0.50000 - classifier Evaluation Experiment 262 of 642\n",
      "Param = 0.50000 - classifier Evaluation Experiment 263 of 642\n",
      "Param = 0.50000 - classifier Evaluation Experiment 264 of 642\n",
      "Param = 0.50000 - classifier Evaluation Experiment 265 of 642\n",
      "Param = 0.50000 - classifier Evaluation Experiment 266 of 642\n",
      "Param = 0.50000 - classifier Evaluation Experiment 267 of 642\n",
      "Param = 0.50000 - classifier Evaluation Experiment 268 of 642\n",
      "Param = 0.50000 - classifier Evaluation Experiment 269 of 642\n",
      "Param = 0.50000 - classifier Evaluation Experiment 270 of 642\n",
      "Param = 0.50000 - classifier Evaluation Experiment 271 of 642\n",
      "Param = 0.50000 - classifier Evaluation Experiment 272 of 642\n",
      "Param = 0.50000 - classifier Evaluation Experiment 273 of 642\n",
      "Param = 0.50000 - classifier Evaluation Experiment 274 of 642\n",
      "Param = 0.50000 - classifier Evaluation Experiment 275 of 642\n",
      "Param = 0.50000 - classifier Evaluation Experiment 276 of 642\n",
      "Param = 0.50000 - classifier Evaluation Experiment 277 of 642\n",
      "Param = 0.50000 - classifier Evaluation Experiment 278 of 642\n",
      "Param = 0.50000 - classifier Evaluation Experiment 279 of 642\n",
      "Param = 0.50000 - classifier Evaluation Experiment 280 of 642\n",
      "Param = 0.50000 - classifier Evaluation Experiment 281 of 642\n",
      "Param = 0.50000 - classifier Evaluation Experiment 282 of 642\n",
      "Param = 0.50000 - classifier Evaluation Experiment 283 of 642\n",
      "Param = 0.50000 - classifier Evaluation Experiment 284 of 642\n",
      "Param = 0.50000 - classifier Evaluation Experiment 285 of 642\n",
      "Param = 0.50000 - classifier Evaluation Experiment 286 of 642\n",
      "Param = 0.50000 - classifier Evaluation Experiment 287 of 642\n",
      "Param = 0.50000 - classifier Evaluation Experiment 288 of 642\n",
      "Param = 0.50000 - classifier Evaluation Experiment 289 of 642\n",
      "Param = 0.50000 - classifier Evaluation Experiment 290 of 642\n",
      "Param = 0.50000 - classifier Evaluation Experiment 291 of 642\n",
      "Param = 0.50000 - classifier Evaluation Experiment 292 of 642\n",
      "Param = 0.50000 - classifier Evaluation Experiment 293 of 642\n",
      "Param = 0.50000 - classifier Evaluation Experiment 294 of 642\n",
      "Param = 0.50000 - classifier Evaluation Experiment 295 of 642\n",
      "Param = 0.50000 - classifier Evaluation Experiment 296 of 642\n",
      "Param = 0.50000 - classifier Evaluation Experiment 297 of 642\n",
      "Param = 0.50000 - classifier Evaluation Experiment 298 of 642\n",
      "Param = 0.50000 - classifier Evaluation Experiment 299 of 642\n",
      "Param = 0.50000 - classifier Evaluation Experiment 300 of 642\n",
      "Param = 0.50000 - classifier Evaluation Experiment 301 of 642\n",
      "Param = 0.50000 - classifier Evaluation Experiment 302 of 642\n",
      "Param = 0.50000 - classifier Evaluation Experiment 303 of 642\n",
      "Param = 0.50000 - classifier Evaluation Experiment 304 of 642\n",
      "Param = 0.50000 - classifier Evaluation Experiment 305 of 642\n",
      "Param = 0.50000 - classifier Evaluation Experiment 306 of 642\n",
      "Param = 0.50000 - classifier Evaluation Experiment 307 of 642\n",
      "Param = 0.50000 - classifier Evaluation Experiment 308 of 642\n",
      "Param = 0.50000 - classifier Evaluation Experiment 309 of 642\n",
      "Param = 0.50000 - classifier Evaluation Experiment 310 of 642\n",
      "Param = 0.50000 - classifier Evaluation Experiment 311 of 642\n",
      "Param = 0.50000 - classifier Evaluation Experiment 312 of 642\n",
      "Param = 0.50000 - classifier Evaluation Experiment 313 of 642\n",
      "Param = 0.50000 - classifier Evaluation Experiment 314 of 642\n",
      "Param = 0.50000 - classifier Evaluation Experiment 315 of 642\n",
      "Param = 0.50000 - classifier Evaluation Experiment 316 of 642\n",
      "Param = 0.50000 - classifier Evaluation Experiment 317 of 642\n",
      "Param = 0.50000 - classifier Evaluation Experiment 318 of 642\n",
      "Param = 0.50000 - classifier Evaluation Experiment 319 of 642\n",
      "Param = 0.50000 - classifier Evaluation Experiment 320 of 642\n",
      "Param = 0.50000 - classifier Evaluation Experiment 321 of 642\n",
      "Param = 0.50000 - classifier Evaluation Experiment 322 of 642\n",
      "Param = 0.50000 - classifier Evaluation Experiment 323 of 642\n",
      "Param = 0.50000 - classifier Evaluation Experiment 324 of 642\n",
      "Param = 0.50000 - classifier Evaluation Experiment 325 of 642\n",
      "Param = 0.50000 - classifier Evaluation Experiment 326 of 642\n",
      "Param = 0.50000 - classifier Evaluation Experiment 327 of 642\n",
      "Param = 0.50000 - classifier Evaluation Experiment 328 of 642\n",
      "Param = 0.50000 - classifier Evaluation Experiment 329 of 642\n",
      "Param = 0.50000 - classifier Evaluation Experiment 330 of 642\n",
      "Param = 0.50000 - classifier Evaluation Experiment 331 of 642\n",
      "Param = 0.50000 - classifier Evaluation Experiment 332 of 642\n",
      "Param = 0.50000 - classifier Evaluation Experiment 333 of 642\n",
      "Param = 0.50000 - classifier Evaluation Experiment 334 of 642\n",
      "Param = 0.50000 - classifier Evaluation Experiment 335 of 642\n",
      "Param = 0.50000 - classifier Evaluation Experiment 336 of 642\n",
      "Param = 0.50000 - classifier Evaluation Experiment 337 of 642\n",
      "Param = 0.50000 - classifier Evaluation Experiment 338 of 642\n",
      "Param = 0.50000 - classifier Evaluation Experiment 339 of 642\n",
      "Param = 0.50000 - classifier Evaluation Experiment 340 of 642\n",
      "Param = 0.50000 - classifier Evaluation Experiment 341 of 642\n",
      "Param = 0.50000 - classifier Evaluation Experiment 342 of 642\n",
      "Param = 0.50000 - classifier Evaluation Experiment 343 of 642\n",
      "Param = 0.50000 - classifier Evaluation Experiment 344 of 642\n",
      "Param = 0.50000 - classifier Evaluation Experiment 345 of 642\n",
      "Param = 0.50000 - classifier Evaluation Experiment 346 of 642\n",
      "Param = 0.50000 - classifier Evaluation Experiment 347 of 642\n",
      "Param = 0.50000 - classifier Evaluation Experiment 348 of 642\n",
      "Param = 0.50000 - classifier Evaluation Experiment 349 of 642\n",
      "Param = 0.50000 - classifier Evaluation Experiment 350 of 642\n",
      "Param = 0.50000 - classifier Evaluation Experiment 351 of 642\n",
      "Param = 0.50000 - classifier Evaluation Experiment 352 of 642\n",
      "Param = 0.50000 - classifier Evaluation Experiment 353 of 642\n",
      "Param = 0.50000 - classifier Evaluation Experiment 354 of 642\n",
      "Param = 0.50000 - classifier Evaluation Experiment 355 of 642\n",
      "Param = 0.50000 - classifier Evaluation Experiment 356 of 642\n",
      "Param = 0.50000 - classifier Evaluation Experiment 357 of 642\n",
      "Param = 0.50000 - classifier Evaluation Experiment 358 of 642\n",
      "Param = 0.50000 - classifier Evaluation Experiment 359 of 642\n",
      "Param = 0.50000 - classifier Evaluation Experiment 360 of 642\n",
      "Param = 0.50000 - classifier Evaluation Experiment 361 of 642\n",
      "Param = 0.50000 - classifier Evaluation Experiment 362 of 642\n",
      "Param = 0.50000 - classifier Evaluation Experiment 363 of 642\n",
      "Param = 0.50000 - classifier Evaluation Experiment 364 of 642\n",
      "Param = 0.50000 - classifier Evaluation Experiment 365 of 642\n",
      "Param = 0.50000 - classifier Evaluation Experiment 366 of 642\n",
      "Param = 0.50000 - classifier Evaluation Experiment 367 of 642\n",
      "Param = 0.50000 - classifier Evaluation Experiment 368 of 642\n",
      "Param = 0.50000 - classifier Evaluation Experiment 369 of 642\n",
      "Param = 0.50000 - classifier Evaluation Experiment 370 of 642\n",
      "Param = 0.50000 - classifier Evaluation Experiment 371 of 642\n",
      "Param = 0.50000 - classifier Evaluation Experiment 372 of 642\n",
      "Param = 0.50000 - classifier Evaluation Experiment 373 of 642\n",
      "Param = 0.50000 - classifier Evaluation Experiment 374 of 642\n",
      "Param = 0.50000 - classifier Evaluation Experiment 375 of 642\n",
      "Param = 0.50000 - classifier Evaluation Experiment 376 of 642\n",
      "Param = 0.50000 - classifier Evaluation Experiment 377 of 642\n",
      "Param = 0.50000 - classifier Evaluation Experiment 378 of 642\n",
      "Param = 0.50000 - classifier Evaluation Experiment 379 of 642\n",
      "Param = 0.50000 - classifier Evaluation Experiment 380 of 642\n",
      "Param = 0.50000 - classifier Evaluation Experiment 381 of 642\n",
      "Param = 0.50000 - classifier Evaluation Experiment 382 of 642\n",
      "Param = 0.50000 - classifier Evaluation Experiment 383 of 642\n",
      "Param = 0.50000 - classifier Evaluation Experiment 384 of 642\n",
      "Param = 0.50000 - classifier Evaluation Experiment 385 of 642\n",
      "Param = 0.50000 - classifier Evaluation Experiment 386 of 642\n",
      "Param = 0.50000 - classifier Evaluation Experiment 387 of 642\n",
      "Param = 0.50000 - classifier Evaluation Experiment 388 of 642\n",
      "Param = 0.50000 - classifier Evaluation Experiment 389 of 642\n",
      "Param = 0.50000 - classifier Evaluation Experiment 390 of 642\n",
      "Param = 0.50000 - classifier Evaluation Experiment 391 of 642\n",
      "Param = 0.50000 - classifier Evaluation Experiment 392 of 642\n",
      "Param = 0.50000 - classifier Evaluation Experiment 393 of 642\n",
      "Param = 0.50000 - classifier Evaluation Experiment 394 of 642\n",
      "Param = 0.50000 - classifier Evaluation Experiment 395 of 642\n",
      "Param = 0.50000 - classifier Evaluation Experiment 396 of 642\n",
      "Param = 0.50000 - classifier Evaluation Experiment 397 of 642\n",
      "Param = 0.50000 - classifier Evaluation Experiment 398 of 642\n",
      "Param = 0.50000 - classifier Evaluation Experiment 399 of 642\n",
      "Param = 0.50000 - classifier Evaluation Experiment 400 of 642\n",
      "Param = 0.50000 - classifier Evaluation Experiment 401 of 642\n",
      "Param = 0.50000 - classifier Evaluation Experiment 402 of 642\n",
      "Param = 0.50000 - classifier Evaluation Experiment 403 of 642\n",
      "Param = 0.50000 - classifier Evaluation Experiment 404 of 642\n",
      "Param = 0.50000 - classifier Evaluation Experiment 405 of 642\n",
      "Param = 0.50000 - classifier Evaluation Experiment 406 of 642\n",
      "Param = 0.50000 - classifier Evaluation Experiment 407 of 642\n",
      "Param = 0.50000 - classifier Evaluation Experiment 408 of 642\n",
      "Param = 0.50000 - classifier Evaluation Experiment 409 of 642\n",
      "Param = 0.50000 - classifier Evaluation Experiment 410 of 642\n",
      "Param = 0.50000 - classifier Evaluation Experiment 411 of 642\n",
      "Param = 0.50000 - classifier Evaluation Experiment 412 of 642\n",
      "Param = 0.50000 - classifier Evaluation Experiment 413 of 642\n",
      "Param = 0.50000 - classifier Evaluation Experiment 414 of 642\n",
      "Param = 0.50000 - classifier Evaluation Experiment 415 of 642\n",
      "Param = 0.50000 - classifier Evaluation Experiment 416 of 642\n",
      "Param = 0.50000 - classifier Evaluation Experiment 417 of 642\n",
      "Param = 0.50000 - classifier Evaluation Experiment 418 of 642\n",
      "Param = 0.50000 - classifier Evaluation Experiment 419 of 642\n",
      "Param = 0.50000 - classifier Evaluation Experiment 420 of 642\n",
      "Param = 0.50000 - classifier Evaluation Experiment 421 of 642\n",
      "Param = 0.50000 - classifier Evaluation Experiment 422 of 642\n",
      "Param = 0.50000 - classifier Evaluation Experiment 423 of 642\n",
      "Param = 0.50000 - classifier Evaluation Experiment 424 of 642\n",
      "Param = 0.50000 - classifier Evaluation Experiment 425 of 642\n",
      "Param = 0.50000 - classifier Evaluation Experiment 426 of 642\n",
      "Param = 0.50000 - classifier Evaluation Experiment 427 of 642\n",
      "Param = 0.50000 - classifier Evaluation Experiment 428 of 642\n",
      "Param = 0.50000 - classifier Evaluation Experiment 429 of 642\n",
      "Param = 0.50000 - classifier Evaluation Experiment 430 of 642\n",
      "Param = 0.50000 - classifier Evaluation Experiment 431 of 642\n",
      "Param = 0.50000 - classifier Evaluation Experiment 432 of 642\n",
      "Param = 0.50000 - classifier Evaluation Experiment 433 of 642\n",
      "Param = 0.50000 - classifier Evaluation Experiment 434 of 642\n",
      "Param = 0.50000 - classifier Evaluation Experiment 435 of 642\n",
      "Param = 0.50000 - classifier Evaluation Experiment 436 of 642\n",
      "Param = 0.50000 - classifier Evaluation Experiment 437 of 642\n",
      "Param = 0.50000 - classifier Evaluation Experiment 438 of 642\n",
      "Param = 0.50000 - classifier Evaluation Experiment 439 of 642\n",
      "Param = 0.50000 - classifier Evaluation Experiment 440 of 642\n",
      "Param = 0.50000 - classifier Evaluation Experiment 441 of 642\n",
      "Param = 0.50000 - classifier Evaluation Experiment 442 of 642\n",
      "Param = 0.50000 - classifier Evaluation Experiment 443 of 642\n",
      "Param = 0.50000 - classifier Evaluation Experiment 444 of 642\n",
      "Param = 0.50000 - classifier Evaluation Experiment 445 of 642\n",
      "Param = 0.50000 - classifier Evaluation Experiment 446 of 642\n",
      "Param = 0.50000 - classifier Evaluation Experiment 447 of 642\n",
      "Param = 0.50000 - classifier Evaluation Experiment 448 of 642\n",
      "Param = 0.50000 - classifier Evaluation Experiment 449 of 642\n",
      "Param = 0.50000 - classifier Evaluation Experiment 450 of 642\n",
      "Param = 0.50000 - classifier Evaluation Experiment 451 of 642\n",
      "Param = 0.50000 - classifier Evaluation Experiment 452 of 642\n",
      "Param = 0.50000 - classifier Evaluation Experiment 453 of 642\n",
      "Param = 0.50000 - classifier Evaluation Experiment 454 of 642\n",
      "Param = 0.50000 - classifier Evaluation Experiment 455 of 642\n",
      "Param = 0.50000 - classifier Evaluation Experiment 456 of 642\n",
      "Param = 0.50000 - classifier Evaluation Experiment 457 of 642\n",
      "Param = 0.50000 - classifier Evaluation Experiment 458 of 642\n",
      "Param = 0.50000 - classifier Evaluation Experiment 459 of 642\n",
      "Param = 0.50000 - classifier Evaluation Experiment 460 of 642\n",
      "Param = 0.50000 - classifier Evaluation Experiment 461 of 642\n",
      "Param = 0.50000 - classifier Evaluation Experiment 462 of 642\n",
      "Param = 0.50000 - classifier Evaluation Experiment 463 of 642\n",
      "Param = 0.50000 - classifier Evaluation Experiment 464 of 642\n",
      "Param = 0.50000 - classifier Evaluation Experiment 465 of 642\n",
      "Param = 0.50000 - classifier Evaluation Experiment 466 of 642\n",
      "Param = 0.50000 - classifier Evaluation Experiment 467 of 642\n",
      "Param = 0.50000 - classifier Evaluation Experiment 468 of 642\n",
      "Param = 0.50000 - classifier Evaluation Experiment 469 of 642\n",
      "Param = 0.50000 - classifier Evaluation Experiment 470 of 642\n",
      "Param = 0.50000 - classifier Evaluation Experiment 471 of 642\n",
      "Param = 0.50000 - classifier Evaluation Experiment 472 of 642\n",
      "Param = 0.50000 - classifier Evaluation Experiment 473 of 642\n",
      "Param = 0.50000 - classifier Evaluation Experiment 474 of 642\n",
      "Param = 0.50000 - classifier Evaluation Experiment 475 of 642\n",
      "Param = 0.50000 - classifier Evaluation Experiment 476 of 642\n",
      "Param = 0.50000 - classifier Evaluation Experiment 477 of 642\n",
      "Param = 0.50000 - classifier Evaluation Experiment 478 of 642\n",
      "Param = 0.50000 - classifier Evaluation Experiment 479 of 642\n",
      "Param = 0.50000 - classifier Evaluation Experiment 480 of 642\n",
      "Param = 0.50000 - classifier Evaluation Experiment 481 of 642\n",
      "Param = 0.50000 - classifier Evaluation Experiment 482 of 642\n",
      "Param = 0.50000 - classifier Evaluation Experiment 483 of 642\n",
      "Param = 0.50000 - classifier Evaluation Experiment 484 of 642\n",
      "Param = 0.50000 - classifier Evaluation Experiment 485 of 642\n",
      "Param = 0.50000 - classifier Evaluation Experiment 486 of 642\n",
      "Param = 0.50000 - classifier Evaluation Experiment 487 of 642\n",
      "Param = 0.50000 - classifier Evaluation Experiment 488 of 642\n",
      "Param = 0.50000 - classifier Evaluation Experiment 489 of 642\n",
      "Param = 0.50000 - classifier Evaluation Experiment 490 of 642\n",
      "Param = 0.50000 - classifier Evaluation Experiment 491 of 642\n",
      "Param = 0.50000 - classifier Evaluation Experiment 492 of 642\n",
      "Param = 0.50000 - classifier Evaluation Experiment 493 of 642\n",
      "Param = 0.50000 - classifier Evaluation Experiment 494 of 642\n",
      "Param = 0.50000 - classifier Evaluation Experiment 495 of 642\n",
      "Param = 0.50000 - classifier Evaluation Experiment 496 of 642\n",
      "Param = 0.50000 - classifier Evaluation Experiment 497 of 642\n",
      "Param = 0.50000 - classifier Evaluation Experiment 498 of 642\n",
      "Param = 0.50000 - classifier Evaluation Experiment 499 of 642\n",
      "Param = 0.50000 - classifier Evaluation Experiment 500 of 642\n",
      "Param = 0.50000 - classifier Evaluation Experiment 501 of 642\n",
      "Param = 0.50000 - classifier Evaluation Experiment 502 of 642\n",
      "Param = 0.50000 - classifier Evaluation Experiment 503 of 642\n",
      "Param = 0.50000 - classifier Evaluation Experiment 504 of 642\n",
      "Param = 0.50000 - classifier Evaluation Experiment 505 of 642\n",
      "Param = 0.50000 - classifier Evaluation Experiment 506 of 642\n",
      "Param = 0.50000 - classifier Evaluation Experiment 507 of 642\n",
      "Param = 0.50000 - classifier Evaluation Experiment 508 of 642\n",
      "Param = 0.50000 - classifier Evaluation Experiment 509 of 642\n",
      "Param = 0.50000 - classifier Evaluation Experiment 510 of 642\n",
      "Param = 0.50000 - classifier Evaluation Experiment 511 of 642\n",
      "Param = 0.50000 - classifier Evaluation Experiment 512 of 642\n",
      "Param = 0.50000 - classifier Evaluation Experiment 513 of 642\n",
      "Param = 0.50000 - classifier Evaluation Experiment 514 of 642\n",
      "Param = 0.50000 - classifier Evaluation Experiment 515 of 642\n",
      "Param = 0.50000 - classifier Evaluation Experiment 516 of 642\n",
      "Param = 0.50000 - classifier Evaluation Experiment 517 of 642\n",
      "Param = 0.50000 - classifier Evaluation Experiment 518 of 642\n",
      "Param = 0.50000 - classifier Evaluation Experiment 519 of 642\n",
      "Param = 0.50000 - classifier Evaluation Experiment 520 of 642\n",
      "Param = 0.50000 - classifier Evaluation Experiment 521 of 642\n",
      "Param = 0.50000 - classifier Evaluation Experiment 522 of 642\n",
      "Param = 0.50000 - classifier Evaluation Experiment 523 of 642\n",
      "Param = 0.50000 - classifier Evaluation Experiment 524 of 642\n",
      "Param = 0.50000 - classifier Evaluation Experiment 525 of 642\n",
      "Param = 0.50000 - classifier Evaluation Experiment 526 of 642\n",
      "Param = 0.50000 - classifier Evaluation Experiment 527 of 642\n",
      "Param = 0.50000 - classifier Evaluation Experiment 528 of 642\n",
      "Param = 0.50000 - classifier Evaluation Experiment 529 of 642\n",
      "Param = 0.50000 - classifier Evaluation Experiment 530 of 642\n",
      "Param = 0.50000 - classifier Evaluation Experiment 531 of 642\n",
      "Param = 0.50000 - classifier Evaluation Experiment 532 of 642\n",
      "Param = 0.50000 - classifier Evaluation Experiment 533 of 642\n",
      "Param = 0.50000 - classifier Evaluation Experiment 534 of 642\n",
      "Param = 0.50000 - classifier Evaluation Experiment 535 of 642\n",
      "Param = 0.50000 - classifier Evaluation Experiment 536 of 642\n",
      "Param = 0.50000 - classifier Evaluation Experiment 537 of 642\n",
      "Param = 0.50000 - classifier Evaluation Experiment 538 of 642\n",
      "Param = 0.50000 - classifier Evaluation Experiment 539 of 642\n",
      "Param = 0.50000 - classifier Evaluation Experiment 540 of 642\n",
      "Param = 0.50000 - classifier Evaluation Experiment 541 of 642\n",
      "Param = 0.50000 - classifier Evaluation Experiment 542 of 642\n",
      "Param = 0.50000 - classifier Evaluation Experiment 543 of 642\n",
      "Param = 0.50000 - classifier Evaluation Experiment 544 of 642\n",
      "Param = 0.50000 - classifier Evaluation Experiment 545 of 642\n",
      "Param = 0.50000 - classifier Evaluation Experiment 546 of 642\n",
      "Param = 0.50000 - classifier Evaluation Experiment 547 of 642\n",
      "Param = 0.50000 - classifier Evaluation Experiment 548 of 642\n",
      "Param = 0.50000 - classifier Evaluation Experiment 549 of 642\n",
      "Param = 0.50000 - classifier Evaluation Experiment 550 of 642\n",
      "Param = 0.50000 - classifier Evaluation Experiment 551 of 642\n",
      "Param = 0.50000 - classifier Evaluation Experiment 552 of 642\n",
      "Param = 0.50000 - classifier Evaluation Experiment 553 of 642\n",
      "Param = 0.50000 - classifier Evaluation Experiment 554 of 642\n",
      "Param = 0.50000 - classifier Evaluation Experiment 555 of 642\n",
      "Param = 0.50000 - classifier Evaluation Experiment 556 of 642\n",
      "Param = 0.50000 - classifier Evaluation Experiment 557 of 642\n",
      "Param = 0.50000 - classifier Evaluation Experiment 558 of 642\n",
      "Param = 0.50000 - classifier Evaluation Experiment 559 of 642\n",
      "Param = 0.50000 - classifier Evaluation Experiment 560 of 642\n",
      "Param = 0.50000 - classifier Evaluation Experiment 561 of 642\n",
      "Param = 0.50000 - classifier Evaluation Experiment 562 of 642\n",
      "Param = 0.50000 - classifier Evaluation Experiment 563 of 642\n",
      "Param = 0.50000 - classifier Evaluation Experiment 564 of 642\n",
      "Param = 0.50000 - classifier Evaluation Experiment 565 of 642\n",
      "Param = 0.50000 - classifier Evaluation Experiment 566 of 642\n",
      "Param = 0.50000 - classifier Evaluation Experiment 567 of 642\n",
      "Param = 0.50000 - classifier Evaluation Experiment 568 of 642\n",
      "Param = 0.50000 - classifier Evaluation Experiment 569 of 642\n",
      "Param = 0.50000 - classifier Evaluation Experiment 570 of 642\n",
      "Param = 0.50000 - classifier Evaluation Experiment 571 of 642\n",
      "Param = 0.50000 - classifier Evaluation Experiment 572 of 642\n",
      "Param = 0.50000 - classifier Evaluation Experiment 573 of 642\n",
      "Param = 0.50000 - classifier Evaluation Experiment 574 of 642\n",
      "Param = 0.50000 - classifier Evaluation Experiment 575 of 642\n",
      "Param = 0.50000 - classifier Evaluation Experiment 576 of 642\n",
      "Param = 0.50000 - classifier Evaluation Experiment 577 of 642\n",
      "Param = 0.50000 - classifier Evaluation Experiment 578 of 642\n",
      "Param = 0.50000 - classifier Evaluation Experiment 579 of 642\n",
      "Param = 0.50000 - classifier Evaluation Experiment 580 of 642\n",
      "Param = 0.50000 - classifier Evaluation Experiment 581 of 642\n",
      "Param = 0.50000 - classifier Evaluation Experiment 582 of 642\n",
      "Param = 0.50000 - classifier Evaluation Experiment 583 of 642\n",
      "Param = 0.50000 - classifier Evaluation Experiment 584 of 642\n",
      "Param = 0.50000 - classifier Evaluation Experiment 585 of 642\n",
      "Param = 0.50000 - classifier Evaluation Experiment 586 of 642\n",
      "Param = 0.50000 - classifier Evaluation Experiment 587 of 642\n",
      "Param = 0.50000 - classifier Evaluation Experiment 588 of 642\n",
      "Param = 0.50000 - classifier Evaluation Experiment 589 of 642\n",
      "Param = 0.50000 - classifier Evaluation Experiment 590 of 642\n",
      "Param = 0.50000 - classifier Evaluation Experiment 591 of 642\n",
      "Param = 0.50000 - classifier Evaluation Experiment 592 of 642\n",
      "Param = 0.50000 - classifier Evaluation Experiment 593 of 642\n",
      "Param = 0.50000 - classifier Evaluation Experiment 594 of 642\n",
      "Param = 0.50000 - classifier Evaluation Experiment 595 of 642\n",
      "Param = 0.50000 - classifier Evaluation Experiment 596 of 642\n",
      "Param = 0.50000 - classifier Evaluation Experiment 597 of 642\n",
      "Param = 0.50000 - classifier Evaluation Experiment 598 of 642\n",
      "Param = 0.50000 - classifier Evaluation Experiment 599 of 642\n",
      "Param = 0.50000 - classifier Evaluation Experiment 600 of 642\n",
      "Param = 0.50000 - classifier Evaluation Experiment 601 of 642\n",
      "Param = 0.50000 - classifier Evaluation Experiment 602 of 642\n",
      "Param = 0.50000 - classifier Evaluation Experiment 603 of 642\n",
      "Param = 0.50000 - classifier Evaluation Experiment 604 of 642\n",
      "Param = 0.50000 - classifier Evaluation Experiment 605 of 642\n",
      "Param = 0.50000 - classifier Evaluation Experiment 606 of 642\n",
      "Param = 0.50000 - classifier Evaluation Experiment 607 of 642\n",
      "Param = 0.50000 - classifier Evaluation Experiment 608 of 642\n",
      "Param = 0.50000 - classifier Evaluation Experiment 609 of 642\n",
      "Param = 0.50000 - classifier Evaluation Experiment 610 of 642\n",
      "Param = 0.50000 - classifier Evaluation Experiment 611 of 642\n",
      "Param = 0.50000 - classifier Evaluation Experiment 612 of 642\n",
      "Param = 0.50000 - classifier Evaluation Experiment 613 of 642\n",
      "Param = 0.50000 - classifier Evaluation Experiment 614 of 642\n",
      "Param = 0.50000 - classifier Evaluation Experiment 615 of 642\n",
      "Param = 0.50000 - classifier Evaluation Experiment 616 of 642\n",
      "Param = 0.50000 - classifier Evaluation Experiment 617 of 642\n",
      "Param = 0.50000 - classifier Evaluation Experiment 618 of 642\n",
      "Param = 0.50000 - classifier Evaluation Experiment 619 of 642\n",
      "Param = 0.50000 - classifier Evaluation Experiment 620 of 642\n",
      "Param = 0.50000 - classifier Evaluation Experiment 621 of 642\n",
      "Param = 0.50000 - classifier Evaluation Experiment 622 of 642\n",
      "Param = 0.50000 - classifier Evaluation Experiment 623 of 642\n",
      "Param = 0.50000 - classifier Evaluation Experiment 624 of 642\n",
      "Param = 0.50000 - classifier Evaluation Experiment 625 of 642\n",
      "Param = 0.50000 - classifier Evaluation Experiment 626 of 642\n",
      "Param = 0.50000 - classifier Evaluation Experiment 627 of 642\n",
      "Param = 0.50000 - classifier Evaluation Experiment 628 of 642\n",
      "Param = 0.50000 - classifier Evaluation Experiment 629 of 642\n",
      "Param = 0.50000 - classifier Evaluation Experiment 630 of 642\n",
      "Param = 0.50000 - classifier Evaluation Experiment 631 of 642\n",
      "Param = 0.50000 - classifier Evaluation Experiment 632 of 642\n",
      "Param = 0.50000 - classifier Evaluation Experiment 633 of 642\n",
      "Param = 0.50000 - classifier Evaluation Experiment 634 of 642\n",
      "Param = 0.50000 - classifier Evaluation Experiment 635 of 642\n",
      "Param = 0.50000 - classifier Evaluation Experiment 636 of 642\n",
      "Param = 0.50000 - classifier Evaluation Experiment 637 of 642\n",
      "Param = 0.50000 - classifier Evaluation Experiment 638 of 642\n",
      "Param = 0.50000 - classifier Evaluation Experiment 639 of 642\n",
      "Param = 0.50000 - classifier Evaluation Experiment 640 of 642\n",
      "Param = 0.50000 - classifier Evaluation Experiment 641 of 642\n",
      "Param = 0.50000 - classifier Evaluation Experiment 642 of 642\n",
      "Param = 1.00000 - classifier Evaluation Experiment 1 of 642\n",
      "Param = 1.00000 - classifier Evaluation Experiment 2 of 642\n",
      "Param = 1.00000 - classifier Evaluation Experiment 3 of 642\n",
      "Param = 1.00000 - classifier Evaluation Experiment 4 of 642\n",
      "Param = 1.00000 - classifier Evaluation Experiment 5 of 642\n",
      "Param = 1.00000 - classifier Evaluation Experiment 6 of 642\n",
      "Param = 1.00000 - classifier Evaluation Experiment 7 of 642\n",
      "Param = 1.00000 - classifier Evaluation Experiment 8 of 642\n",
      "Param = 1.00000 - classifier Evaluation Experiment 9 of 642\n",
      "Param = 1.00000 - classifier Evaluation Experiment 10 of 642\n",
      "Param = 1.00000 - classifier Evaluation Experiment 11 of 642\n",
      "Param = 1.00000 - classifier Evaluation Experiment 12 of 642\n",
      "Param = 1.00000 - classifier Evaluation Experiment 13 of 642\n",
      "Param = 1.00000 - classifier Evaluation Experiment 14 of 642\n",
      "Param = 1.00000 - classifier Evaluation Experiment 15 of 642\n",
      "Param = 1.00000 - classifier Evaluation Experiment 16 of 642\n",
      "Param = 1.00000 - classifier Evaluation Experiment 17 of 642\n",
      "Param = 1.00000 - classifier Evaluation Experiment 18 of 642\n",
      "Param = 1.00000 - classifier Evaluation Experiment 19 of 642\n",
      "Param = 1.00000 - classifier Evaluation Experiment 20 of 642\n",
      "Param = 1.00000 - classifier Evaluation Experiment 21 of 642\n",
      "Param = 1.00000 - classifier Evaluation Experiment 22 of 642\n",
      "Param = 1.00000 - classifier Evaluation Experiment 23 of 642\n",
      "Param = 1.00000 - classifier Evaluation Experiment 24 of 642\n",
      "Param = 1.00000 - classifier Evaluation Experiment 25 of 642\n",
      "Param = 1.00000 - classifier Evaluation Experiment 26 of 642\n",
      "Param = 1.00000 - classifier Evaluation Experiment 27 of 642\n",
      "Param = 1.00000 - classifier Evaluation Experiment 28 of 642\n",
      "Param = 1.00000 - classifier Evaluation Experiment 29 of 642\n",
      "Param = 1.00000 - classifier Evaluation Experiment 30 of 642\n",
      "Param = 1.00000 - classifier Evaluation Experiment 31 of 642\n",
      "Param = 1.00000 - classifier Evaluation Experiment 32 of 642\n",
      "Param = 1.00000 - classifier Evaluation Experiment 33 of 642\n",
      "Param = 1.00000 - classifier Evaluation Experiment 34 of 642\n",
      "Param = 1.00000 - classifier Evaluation Experiment 35 of 642\n",
      "Param = 1.00000 - classifier Evaluation Experiment 36 of 642\n",
      "Param = 1.00000 - classifier Evaluation Experiment 37 of 642\n",
      "Param = 1.00000 - classifier Evaluation Experiment 38 of 642\n",
      "Param = 1.00000 - classifier Evaluation Experiment 39 of 642\n",
      "Param = 1.00000 - classifier Evaluation Experiment 40 of 642\n",
      "Param = 1.00000 - classifier Evaluation Experiment 41 of 642\n",
      "Param = 1.00000 - classifier Evaluation Experiment 42 of 642\n",
      "Param = 1.00000 - classifier Evaluation Experiment 43 of 642\n",
      "Param = 1.00000 - classifier Evaluation Experiment 44 of 642\n",
      "Param = 1.00000 - classifier Evaluation Experiment 45 of 642\n",
      "Param = 1.00000 - classifier Evaluation Experiment 46 of 642\n",
      "Param = 1.00000 - classifier Evaluation Experiment 47 of 642\n",
      "Param = 1.00000 - classifier Evaluation Experiment 48 of 642\n",
      "Param = 1.00000 - classifier Evaluation Experiment 49 of 642\n",
      "Param = 1.00000 - classifier Evaluation Experiment 50 of 642\n",
      "Param = 1.00000 - classifier Evaluation Experiment 51 of 642\n",
      "Param = 1.00000 - classifier Evaluation Experiment 52 of 642\n",
      "Param = 1.00000 - classifier Evaluation Experiment 53 of 642\n",
      "Param = 1.00000 - classifier Evaluation Experiment 54 of 642\n",
      "Param = 1.00000 - classifier Evaluation Experiment 55 of 642\n",
      "Param = 1.00000 - classifier Evaluation Experiment 56 of 642\n",
      "Param = 1.00000 - classifier Evaluation Experiment 57 of 642\n",
      "Param = 1.00000 - classifier Evaluation Experiment 58 of 642\n",
      "Param = 1.00000 - classifier Evaluation Experiment 59 of 642\n",
      "Param = 1.00000 - classifier Evaluation Experiment 60 of 642\n",
      "Param = 1.00000 - classifier Evaluation Experiment 61 of 642\n",
      "Param = 1.00000 - classifier Evaluation Experiment 62 of 642\n",
      "Param = 1.00000 - classifier Evaluation Experiment 63 of 642\n",
      "Param = 1.00000 - classifier Evaluation Experiment 64 of 642\n",
      "Param = 1.00000 - classifier Evaluation Experiment 65 of 642\n",
      "Param = 1.00000 - classifier Evaluation Experiment 66 of 642\n",
      "Param = 1.00000 - classifier Evaluation Experiment 67 of 642\n",
      "Param = 1.00000 - classifier Evaluation Experiment 68 of 642\n",
      "Param = 1.00000 - classifier Evaluation Experiment 69 of 642\n",
      "Param = 1.00000 - classifier Evaluation Experiment 70 of 642\n",
      "Param = 1.00000 - classifier Evaluation Experiment 71 of 642\n",
      "Param = 1.00000 - classifier Evaluation Experiment 72 of 642\n",
      "Param = 1.00000 - classifier Evaluation Experiment 73 of 642\n",
      "Param = 1.00000 - classifier Evaluation Experiment 74 of 642\n",
      "Param = 1.00000 - classifier Evaluation Experiment 75 of 642\n",
      "Param = 1.00000 - classifier Evaluation Experiment 76 of 642\n",
      "Param = 1.00000 - classifier Evaluation Experiment 77 of 642\n",
      "Param = 1.00000 - classifier Evaluation Experiment 78 of 642\n",
      "Param = 1.00000 - classifier Evaluation Experiment 79 of 642\n",
      "Param = 1.00000 - classifier Evaluation Experiment 80 of 642\n",
      "Param = 1.00000 - classifier Evaluation Experiment 81 of 642\n",
      "Param = 1.00000 - classifier Evaluation Experiment 82 of 642\n",
      "Param = 1.00000 - classifier Evaluation Experiment 83 of 642\n",
      "Param = 1.00000 - classifier Evaluation Experiment 84 of 642\n",
      "Param = 1.00000 - classifier Evaluation Experiment 85 of 642\n",
      "Param = 1.00000 - classifier Evaluation Experiment 86 of 642\n",
      "Param = 1.00000 - classifier Evaluation Experiment 87 of 642\n",
      "Param = 1.00000 - classifier Evaluation Experiment 88 of 642\n",
      "Param = 1.00000 - classifier Evaluation Experiment 89 of 642\n",
      "Param = 1.00000 - classifier Evaluation Experiment 90 of 642\n",
      "Param = 1.00000 - classifier Evaluation Experiment 91 of 642\n",
      "Param = 1.00000 - classifier Evaluation Experiment 92 of 642\n",
      "Param = 1.00000 - classifier Evaluation Experiment 93 of 642\n",
      "Param = 1.00000 - classifier Evaluation Experiment 94 of 642\n",
      "Param = 1.00000 - classifier Evaluation Experiment 95 of 642\n",
      "Param = 1.00000 - classifier Evaluation Experiment 96 of 642\n",
      "Param = 1.00000 - classifier Evaluation Experiment 97 of 642\n",
      "Param = 1.00000 - classifier Evaluation Experiment 98 of 642\n",
      "Param = 1.00000 - classifier Evaluation Experiment 99 of 642\n",
      "Param = 1.00000 - classifier Evaluation Experiment 100 of 642\n",
      "Param = 1.00000 - classifier Evaluation Experiment 101 of 642\n",
      "Param = 1.00000 - classifier Evaluation Experiment 102 of 642\n",
      "Param = 1.00000 - classifier Evaluation Experiment 103 of 642\n",
      "Param = 1.00000 - classifier Evaluation Experiment 104 of 642\n",
      "Param = 1.00000 - classifier Evaluation Experiment 105 of 642\n",
      "Param = 1.00000 - classifier Evaluation Experiment 106 of 642\n",
      "Param = 1.00000 - classifier Evaluation Experiment 107 of 642\n",
      "Param = 1.00000 - classifier Evaluation Experiment 108 of 642\n",
      "Param = 1.00000 - classifier Evaluation Experiment 109 of 642\n",
      "Param = 1.00000 - classifier Evaluation Experiment 110 of 642\n",
      "Param = 1.00000 - classifier Evaluation Experiment 111 of 642\n",
      "Param = 1.00000 - classifier Evaluation Experiment 112 of 642\n",
      "Param = 1.00000 - classifier Evaluation Experiment 113 of 642\n",
      "Param = 1.00000 - classifier Evaluation Experiment 114 of 642\n",
      "Param = 1.00000 - classifier Evaluation Experiment 115 of 642\n",
      "Param = 1.00000 - classifier Evaluation Experiment 116 of 642\n",
      "Param = 1.00000 - classifier Evaluation Experiment 117 of 642\n",
      "Param = 1.00000 - classifier Evaluation Experiment 118 of 642\n",
      "Param = 1.00000 - classifier Evaluation Experiment 119 of 642\n",
      "Param = 1.00000 - classifier Evaluation Experiment 120 of 642\n",
      "Param = 1.00000 - classifier Evaluation Experiment 121 of 642\n",
      "Param = 1.00000 - classifier Evaluation Experiment 122 of 642\n",
      "Param = 1.00000 - classifier Evaluation Experiment 123 of 642\n",
      "Param = 1.00000 - classifier Evaluation Experiment 124 of 642\n",
      "Param = 1.00000 - classifier Evaluation Experiment 125 of 642\n",
      "Param = 1.00000 - classifier Evaluation Experiment 126 of 642\n",
      "Param = 1.00000 - classifier Evaluation Experiment 127 of 642\n",
      "Param = 1.00000 - classifier Evaluation Experiment 128 of 642\n",
      "Param = 1.00000 - classifier Evaluation Experiment 129 of 642\n",
      "Param = 1.00000 - classifier Evaluation Experiment 130 of 642\n",
      "Param = 1.00000 - classifier Evaluation Experiment 131 of 642\n",
      "Param = 1.00000 - classifier Evaluation Experiment 132 of 642\n",
      "Param = 1.00000 - classifier Evaluation Experiment 133 of 642\n",
      "Param = 1.00000 - classifier Evaluation Experiment 134 of 642\n",
      "Param = 1.00000 - classifier Evaluation Experiment 135 of 642\n",
      "Param = 1.00000 - classifier Evaluation Experiment 136 of 642\n",
      "Param = 1.00000 - classifier Evaluation Experiment 137 of 642\n",
      "Param = 1.00000 - classifier Evaluation Experiment 138 of 642\n",
      "Param = 1.00000 - classifier Evaluation Experiment 139 of 642\n",
      "Param = 1.00000 - classifier Evaluation Experiment 140 of 642\n",
      "Param = 1.00000 - classifier Evaluation Experiment 141 of 642\n",
      "Param = 1.00000 - classifier Evaluation Experiment 142 of 642\n",
      "Param = 1.00000 - classifier Evaluation Experiment 143 of 642\n",
      "Param = 1.00000 - classifier Evaluation Experiment 144 of 642\n",
      "Param = 1.00000 - classifier Evaluation Experiment 145 of 642\n",
      "Param = 1.00000 - classifier Evaluation Experiment 146 of 642\n",
      "Param = 1.00000 - classifier Evaluation Experiment 147 of 642\n",
      "Param = 1.00000 - classifier Evaluation Experiment 148 of 642\n",
      "Param = 1.00000 - classifier Evaluation Experiment 149 of 642\n",
      "Param = 1.00000 - classifier Evaluation Experiment 150 of 642\n",
      "Param = 1.00000 - classifier Evaluation Experiment 151 of 642\n",
      "Param = 1.00000 - classifier Evaluation Experiment 152 of 642\n",
      "Param = 1.00000 - classifier Evaluation Experiment 153 of 642\n",
      "Param = 1.00000 - classifier Evaluation Experiment 154 of 642\n",
      "Param = 1.00000 - classifier Evaluation Experiment 155 of 642\n",
      "Param = 1.00000 - classifier Evaluation Experiment 156 of 642\n",
      "Param = 1.00000 - classifier Evaluation Experiment 157 of 642\n",
      "Param = 1.00000 - classifier Evaluation Experiment 158 of 642\n",
      "Param = 1.00000 - classifier Evaluation Experiment 159 of 642\n",
      "Param = 1.00000 - classifier Evaluation Experiment 160 of 642\n",
      "Param = 1.00000 - classifier Evaluation Experiment 161 of 642\n",
      "Param = 1.00000 - classifier Evaluation Experiment 162 of 642\n",
      "Param = 1.00000 - classifier Evaluation Experiment 163 of 642\n",
      "Param = 1.00000 - classifier Evaluation Experiment 164 of 642\n",
      "Param = 1.00000 - classifier Evaluation Experiment 165 of 642\n",
      "Param = 1.00000 - classifier Evaluation Experiment 166 of 642\n",
      "Param = 1.00000 - classifier Evaluation Experiment 167 of 642\n",
      "Param = 1.00000 - classifier Evaluation Experiment 168 of 642\n",
      "Param = 1.00000 - classifier Evaluation Experiment 169 of 642\n",
      "Param = 1.00000 - classifier Evaluation Experiment 170 of 642\n",
      "Param = 1.00000 - classifier Evaluation Experiment 171 of 642\n",
      "Param = 1.00000 - classifier Evaluation Experiment 172 of 642\n",
      "Param = 1.00000 - classifier Evaluation Experiment 173 of 642\n",
      "Param = 1.00000 - classifier Evaluation Experiment 174 of 642\n",
      "Param = 1.00000 - classifier Evaluation Experiment 175 of 642\n",
      "Param = 1.00000 - classifier Evaluation Experiment 176 of 642\n",
      "Param = 1.00000 - classifier Evaluation Experiment 177 of 642\n",
      "Param = 1.00000 - classifier Evaluation Experiment 178 of 642\n",
      "Param = 1.00000 - classifier Evaluation Experiment 179 of 642\n",
      "Param = 1.00000 - classifier Evaluation Experiment 180 of 642\n",
      "Param = 1.00000 - classifier Evaluation Experiment 181 of 642\n",
      "Param = 1.00000 - classifier Evaluation Experiment 182 of 642\n",
      "Param = 1.00000 - classifier Evaluation Experiment 183 of 642\n",
      "Param = 1.00000 - classifier Evaluation Experiment 184 of 642\n",
      "Param = 1.00000 - classifier Evaluation Experiment 185 of 642\n",
      "Param = 1.00000 - classifier Evaluation Experiment 186 of 642\n",
      "Param = 1.00000 - classifier Evaluation Experiment 187 of 642\n",
      "Param = 1.00000 - classifier Evaluation Experiment 188 of 642\n",
      "Param = 1.00000 - classifier Evaluation Experiment 189 of 642\n",
      "Param = 1.00000 - classifier Evaluation Experiment 190 of 642\n",
      "Param = 1.00000 - classifier Evaluation Experiment 191 of 642\n",
      "Param = 1.00000 - classifier Evaluation Experiment 192 of 642\n",
      "Param = 1.00000 - classifier Evaluation Experiment 193 of 642\n",
      "Param = 1.00000 - classifier Evaluation Experiment 194 of 642\n",
      "Param = 1.00000 - classifier Evaluation Experiment 195 of 642\n",
      "Param = 1.00000 - classifier Evaluation Experiment 196 of 642\n",
      "Param = 1.00000 - classifier Evaluation Experiment 197 of 642\n",
      "Param = 1.00000 - classifier Evaluation Experiment 198 of 642\n",
      "Param = 1.00000 - classifier Evaluation Experiment 199 of 642\n",
      "Param = 1.00000 - classifier Evaluation Experiment 200 of 642\n",
      "Param = 1.00000 - classifier Evaluation Experiment 201 of 642\n",
      "Param = 1.00000 - classifier Evaluation Experiment 202 of 642\n",
      "Param = 1.00000 - classifier Evaluation Experiment 203 of 642\n",
      "Param = 1.00000 - classifier Evaluation Experiment 204 of 642\n",
      "Param = 1.00000 - classifier Evaluation Experiment 205 of 642\n",
      "Param = 1.00000 - classifier Evaluation Experiment 206 of 642\n",
      "Param = 1.00000 - classifier Evaluation Experiment 207 of 642\n",
      "Param = 1.00000 - classifier Evaluation Experiment 208 of 642\n",
      "Param = 1.00000 - classifier Evaluation Experiment 209 of 642\n",
      "Param = 1.00000 - classifier Evaluation Experiment 210 of 642\n",
      "Param = 1.00000 - classifier Evaluation Experiment 211 of 642\n",
      "Param = 1.00000 - classifier Evaluation Experiment 212 of 642\n",
      "Param = 1.00000 - classifier Evaluation Experiment 213 of 642\n",
      "Param = 1.00000 - classifier Evaluation Experiment 214 of 642\n",
      "Param = 1.00000 - classifier Evaluation Experiment 215 of 642\n",
      "Param = 1.00000 - classifier Evaluation Experiment 216 of 642\n",
      "Param = 1.00000 - classifier Evaluation Experiment 217 of 642\n",
      "Param = 1.00000 - classifier Evaluation Experiment 218 of 642\n",
      "Param = 1.00000 - classifier Evaluation Experiment 219 of 642\n",
      "Param = 1.00000 - classifier Evaluation Experiment 220 of 642\n",
      "Param = 1.00000 - classifier Evaluation Experiment 221 of 642\n",
      "Param = 1.00000 - classifier Evaluation Experiment 222 of 642\n",
      "Param = 1.00000 - classifier Evaluation Experiment 223 of 642\n",
      "Param = 1.00000 - classifier Evaluation Experiment 224 of 642\n",
      "Param = 1.00000 - classifier Evaluation Experiment 225 of 642\n",
      "Param = 1.00000 - classifier Evaluation Experiment 226 of 642\n",
      "Param = 1.00000 - classifier Evaluation Experiment 227 of 642\n",
      "Param = 1.00000 - classifier Evaluation Experiment 228 of 642\n",
      "Param = 1.00000 - classifier Evaluation Experiment 229 of 642\n",
      "Param = 1.00000 - classifier Evaluation Experiment 230 of 642\n",
      "Param = 1.00000 - classifier Evaluation Experiment 231 of 642\n",
      "Param = 1.00000 - classifier Evaluation Experiment 232 of 642\n",
      "Param = 1.00000 - classifier Evaluation Experiment 233 of 642\n",
      "Param = 1.00000 - classifier Evaluation Experiment 234 of 642\n",
      "Param = 1.00000 - classifier Evaluation Experiment 235 of 642\n",
      "Param = 1.00000 - classifier Evaluation Experiment 236 of 642\n",
      "Param = 1.00000 - classifier Evaluation Experiment 237 of 642\n",
      "Param = 1.00000 - classifier Evaluation Experiment 238 of 642\n",
      "Param = 1.00000 - classifier Evaluation Experiment 239 of 642\n",
      "Param = 1.00000 - classifier Evaluation Experiment 240 of 642\n",
      "Param = 1.00000 - classifier Evaluation Experiment 241 of 642\n",
      "Param = 1.00000 - classifier Evaluation Experiment 242 of 642\n",
      "Param = 1.00000 - classifier Evaluation Experiment 243 of 642\n",
      "Param = 1.00000 - classifier Evaluation Experiment 244 of 642\n",
      "Param = 1.00000 - classifier Evaluation Experiment 245 of 642\n",
      "Param = 1.00000 - classifier Evaluation Experiment 246 of 642\n",
      "Param = 1.00000 - classifier Evaluation Experiment 247 of 642\n",
      "Param = 1.00000 - classifier Evaluation Experiment 248 of 642\n",
      "Param = 1.00000 - classifier Evaluation Experiment 249 of 642\n",
      "Param = 1.00000 - classifier Evaluation Experiment 250 of 642\n",
      "Param = 1.00000 - classifier Evaluation Experiment 251 of 642\n",
      "Param = 1.00000 - classifier Evaluation Experiment 252 of 642\n",
      "Param = 1.00000 - classifier Evaluation Experiment 253 of 642\n",
      "Param = 1.00000 - classifier Evaluation Experiment 254 of 642\n",
      "Param = 1.00000 - classifier Evaluation Experiment 255 of 642\n",
      "Param = 1.00000 - classifier Evaluation Experiment 256 of 642\n",
      "Param = 1.00000 - classifier Evaluation Experiment 257 of 642\n",
      "Param = 1.00000 - classifier Evaluation Experiment 258 of 642\n",
      "Param = 1.00000 - classifier Evaluation Experiment 259 of 642\n",
      "Param = 1.00000 - classifier Evaluation Experiment 260 of 642\n",
      "Param = 1.00000 - classifier Evaluation Experiment 261 of 642\n",
      "Param = 1.00000 - classifier Evaluation Experiment 262 of 642\n",
      "Param = 1.00000 - classifier Evaluation Experiment 263 of 642\n",
      "Param = 1.00000 - classifier Evaluation Experiment 264 of 642\n",
      "Param = 1.00000 - classifier Evaluation Experiment 265 of 642\n",
      "Param = 1.00000 - classifier Evaluation Experiment 266 of 642\n",
      "Param = 1.00000 - classifier Evaluation Experiment 267 of 642\n",
      "Param = 1.00000 - classifier Evaluation Experiment 268 of 642\n",
      "Param = 1.00000 - classifier Evaluation Experiment 269 of 642\n",
      "Param = 1.00000 - classifier Evaluation Experiment 270 of 642\n",
      "Param = 1.00000 - classifier Evaluation Experiment 271 of 642\n",
      "Param = 1.00000 - classifier Evaluation Experiment 272 of 642\n",
      "Param = 1.00000 - classifier Evaluation Experiment 273 of 642\n",
      "Param = 1.00000 - classifier Evaluation Experiment 274 of 642\n",
      "Param = 1.00000 - classifier Evaluation Experiment 275 of 642\n",
      "Param = 1.00000 - classifier Evaluation Experiment 276 of 642\n",
      "Param = 1.00000 - classifier Evaluation Experiment 277 of 642\n",
      "Param = 1.00000 - classifier Evaluation Experiment 278 of 642\n",
      "Param = 1.00000 - classifier Evaluation Experiment 279 of 642\n",
      "Param = 1.00000 - classifier Evaluation Experiment 280 of 642\n",
      "Param = 1.00000 - classifier Evaluation Experiment 281 of 642\n",
      "Param = 1.00000 - classifier Evaluation Experiment 282 of 642\n",
      "Param = 1.00000 - classifier Evaluation Experiment 283 of 642\n",
      "Param = 1.00000 - classifier Evaluation Experiment 284 of 642\n",
      "Param = 1.00000 - classifier Evaluation Experiment 285 of 642\n",
      "Param = 1.00000 - classifier Evaluation Experiment 286 of 642\n",
      "Param = 1.00000 - classifier Evaluation Experiment 287 of 642\n",
      "Param = 1.00000 - classifier Evaluation Experiment 288 of 642\n",
      "Param = 1.00000 - classifier Evaluation Experiment 289 of 642\n",
      "Param = 1.00000 - classifier Evaluation Experiment 290 of 642\n",
      "Param = 1.00000 - classifier Evaluation Experiment 291 of 642\n",
      "Param = 1.00000 - classifier Evaluation Experiment 292 of 642\n",
      "Param = 1.00000 - classifier Evaluation Experiment 293 of 642\n",
      "Param = 1.00000 - classifier Evaluation Experiment 294 of 642\n",
      "Param = 1.00000 - classifier Evaluation Experiment 295 of 642\n",
      "Param = 1.00000 - classifier Evaluation Experiment 296 of 642\n",
      "Param = 1.00000 - classifier Evaluation Experiment 297 of 642\n",
      "Param = 1.00000 - classifier Evaluation Experiment 298 of 642\n",
      "Param = 1.00000 - classifier Evaluation Experiment 299 of 642\n",
      "Param = 1.00000 - classifier Evaluation Experiment 300 of 642\n",
      "Param = 1.00000 - classifier Evaluation Experiment 301 of 642\n",
      "Param = 1.00000 - classifier Evaluation Experiment 302 of 642\n",
      "Param = 1.00000 - classifier Evaluation Experiment 303 of 642\n",
      "Param = 1.00000 - classifier Evaluation Experiment 304 of 642\n",
      "Param = 1.00000 - classifier Evaluation Experiment 305 of 642\n",
      "Param = 1.00000 - classifier Evaluation Experiment 306 of 642\n",
      "Param = 1.00000 - classifier Evaluation Experiment 307 of 642\n",
      "Param = 1.00000 - classifier Evaluation Experiment 308 of 642\n",
      "Param = 1.00000 - classifier Evaluation Experiment 309 of 642\n",
      "Param = 1.00000 - classifier Evaluation Experiment 310 of 642\n",
      "Param = 1.00000 - classifier Evaluation Experiment 311 of 642\n",
      "Param = 1.00000 - classifier Evaluation Experiment 312 of 642\n",
      "Param = 1.00000 - classifier Evaluation Experiment 313 of 642\n",
      "Param = 1.00000 - classifier Evaluation Experiment 314 of 642\n",
      "Param = 1.00000 - classifier Evaluation Experiment 315 of 642\n",
      "Param = 1.00000 - classifier Evaluation Experiment 316 of 642\n",
      "Param = 1.00000 - classifier Evaluation Experiment 317 of 642\n",
      "Param = 1.00000 - classifier Evaluation Experiment 318 of 642\n",
      "Param = 1.00000 - classifier Evaluation Experiment 319 of 642\n",
      "Param = 1.00000 - classifier Evaluation Experiment 320 of 642\n",
      "Param = 1.00000 - classifier Evaluation Experiment 321 of 642\n",
      "Param = 1.00000 - classifier Evaluation Experiment 322 of 642\n",
      "Param = 1.00000 - classifier Evaluation Experiment 323 of 642\n",
      "Param = 1.00000 - classifier Evaluation Experiment 324 of 642\n",
      "Param = 1.00000 - classifier Evaluation Experiment 325 of 642\n",
      "Param = 1.00000 - classifier Evaluation Experiment 326 of 642\n",
      "Param = 1.00000 - classifier Evaluation Experiment 327 of 642\n",
      "Param = 1.00000 - classifier Evaluation Experiment 328 of 642\n",
      "Param = 1.00000 - classifier Evaluation Experiment 329 of 642\n",
      "Param = 1.00000 - classifier Evaluation Experiment 330 of 642\n",
      "Param = 1.00000 - classifier Evaluation Experiment 331 of 642\n",
      "Param = 1.00000 - classifier Evaluation Experiment 332 of 642\n",
      "Param = 1.00000 - classifier Evaluation Experiment 333 of 642\n",
      "Param = 1.00000 - classifier Evaluation Experiment 334 of 642\n",
      "Param = 1.00000 - classifier Evaluation Experiment 335 of 642\n",
      "Param = 1.00000 - classifier Evaluation Experiment 336 of 642\n",
      "Param = 1.00000 - classifier Evaluation Experiment 337 of 642\n",
      "Param = 1.00000 - classifier Evaluation Experiment 338 of 642\n",
      "Param = 1.00000 - classifier Evaluation Experiment 339 of 642\n",
      "Param = 1.00000 - classifier Evaluation Experiment 340 of 642\n",
      "Param = 1.00000 - classifier Evaluation Experiment 341 of 642\n",
      "Param = 1.00000 - classifier Evaluation Experiment 342 of 642\n",
      "Param = 1.00000 - classifier Evaluation Experiment 343 of 642\n",
      "Param = 1.00000 - classifier Evaluation Experiment 344 of 642\n",
      "Param = 1.00000 - classifier Evaluation Experiment 345 of 642\n",
      "Param = 1.00000 - classifier Evaluation Experiment 346 of 642\n",
      "Param = 1.00000 - classifier Evaluation Experiment 347 of 642\n",
      "Param = 1.00000 - classifier Evaluation Experiment 348 of 642\n",
      "Param = 1.00000 - classifier Evaluation Experiment 349 of 642\n",
      "Param = 1.00000 - classifier Evaluation Experiment 350 of 642\n",
      "Param = 1.00000 - classifier Evaluation Experiment 351 of 642\n",
      "Param = 1.00000 - classifier Evaluation Experiment 352 of 642\n",
      "Param = 1.00000 - classifier Evaluation Experiment 353 of 642\n",
      "Param = 1.00000 - classifier Evaluation Experiment 354 of 642\n",
      "Param = 1.00000 - classifier Evaluation Experiment 355 of 642\n",
      "Param = 1.00000 - classifier Evaluation Experiment 356 of 642\n",
      "Param = 1.00000 - classifier Evaluation Experiment 357 of 642\n",
      "Param = 1.00000 - classifier Evaluation Experiment 358 of 642\n",
      "Param = 1.00000 - classifier Evaluation Experiment 359 of 642\n",
      "Param = 1.00000 - classifier Evaluation Experiment 360 of 642\n",
      "Param = 1.00000 - classifier Evaluation Experiment 361 of 642\n",
      "Param = 1.00000 - classifier Evaluation Experiment 362 of 642\n",
      "Param = 1.00000 - classifier Evaluation Experiment 363 of 642\n",
      "Param = 1.00000 - classifier Evaluation Experiment 364 of 642\n",
      "Param = 1.00000 - classifier Evaluation Experiment 365 of 642\n",
      "Param = 1.00000 - classifier Evaluation Experiment 366 of 642\n",
      "Param = 1.00000 - classifier Evaluation Experiment 367 of 642\n",
      "Param = 1.00000 - classifier Evaluation Experiment 368 of 642\n",
      "Param = 1.00000 - classifier Evaluation Experiment 369 of 642\n",
      "Param = 1.00000 - classifier Evaluation Experiment 370 of 642\n",
      "Param = 1.00000 - classifier Evaluation Experiment 371 of 642\n",
      "Param = 1.00000 - classifier Evaluation Experiment 372 of 642\n",
      "Param = 1.00000 - classifier Evaluation Experiment 373 of 642\n",
      "Param = 1.00000 - classifier Evaluation Experiment 374 of 642\n",
      "Param = 1.00000 - classifier Evaluation Experiment 375 of 642\n",
      "Param = 1.00000 - classifier Evaluation Experiment 376 of 642\n",
      "Param = 1.00000 - classifier Evaluation Experiment 377 of 642\n",
      "Param = 1.00000 - classifier Evaluation Experiment 378 of 642\n",
      "Param = 1.00000 - classifier Evaluation Experiment 379 of 642\n",
      "Param = 1.00000 - classifier Evaluation Experiment 380 of 642\n",
      "Param = 1.00000 - classifier Evaluation Experiment 381 of 642\n",
      "Param = 1.00000 - classifier Evaluation Experiment 382 of 642\n",
      "Param = 1.00000 - classifier Evaluation Experiment 383 of 642\n",
      "Param = 1.00000 - classifier Evaluation Experiment 384 of 642\n",
      "Param = 1.00000 - classifier Evaluation Experiment 385 of 642\n",
      "Param = 1.00000 - classifier Evaluation Experiment 386 of 642\n",
      "Param = 1.00000 - classifier Evaluation Experiment 387 of 642\n",
      "Param = 1.00000 - classifier Evaluation Experiment 388 of 642\n",
      "Param = 1.00000 - classifier Evaluation Experiment 389 of 642\n",
      "Param = 1.00000 - classifier Evaluation Experiment 390 of 642\n",
      "Param = 1.00000 - classifier Evaluation Experiment 391 of 642\n",
      "Param = 1.00000 - classifier Evaluation Experiment 392 of 642\n",
      "Param = 1.00000 - classifier Evaluation Experiment 393 of 642\n",
      "Param = 1.00000 - classifier Evaluation Experiment 394 of 642\n",
      "Param = 1.00000 - classifier Evaluation Experiment 395 of 642\n",
      "Param = 1.00000 - classifier Evaluation Experiment 396 of 642\n",
      "Param = 1.00000 - classifier Evaluation Experiment 397 of 642\n",
      "Param = 1.00000 - classifier Evaluation Experiment 398 of 642\n",
      "Param = 1.00000 - classifier Evaluation Experiment 399 of 642\n",
      "Param = 1.00000 - classifier Evaluation Experiment 400 of 642\n",
      "Param = 1.00000 - classifier Evaluation Experiment 401 of 642\n",
      "Param = 1.00000 - classifier Evaluation Experiment 402 of 642\n",
      "Param = 1.00000 - classifier Evaluation Experiment 403 of 642\n",
      "Param = 1.00000 - classifier Evaluation Experiment 404 of 642\n",
      "Param = 1.00000 - classifier Evaluation Experiment 405 of 642\n",
      "Param = 1.00000 - classifier Evaluation Experiment 406 of 642\n",
      "Param = 1.00000 - classifier Evaluation Experiment 407 of 642\n",
      "Param = 1.00000 - classifier Evaluation Experiment 408 of 642\n",
      "Param = 1.00000 - classifier Evaluation Experiment 409 of 642\n",
      "Param = 1.00000 - classifier Evaluation Experiment 410 of 642\n",
      "Param = 1.00000 - classifier Evaluation Experiment 411 of 642\n",
      "Param = 1.00000 - classifier Evaluation Experiment 412 of 642\n",
      "Param = 1.00000 - classifier Evaluation Experiment 413 of 642\n",
      "Param = 1.00000 - classifier Evaluation Experiment 414 of 642\n",
      "Param = 1.00000 - classifier Evaluation Experiment 415 of 642\n",
      "Param = 1.00000 - classifier Evaluation Experiment 416 of 642\n",
      "Param = 1.00000 - classifier Evaluation Experiment 417 of 642\n",
      "Param = 1.00000 - classifier Evaluation Experiment 418 of 642\n",
      "Param = 1.00000 - classifier Evaluation Experiment 419 of 642\n",
      "Param = 1.00000 - classifier Evaluation Experiment 420 of 642\n",
      "Param = 1.00000 - classifier Evaluation Experiment 421 of 642\n",
      "Param = 1.00000 - classifier Evaluation Experiment 422 of 642\n",
      "Param = 1.00000 - classifier Evaluation Experiment 423 of 642\n",
      "Param = 1.00000 - classifier Evaluation Experiment 424 of 642\n",
      "Param = 1.00000 - classifier Evaluation Experiment 425 of 642\n",
      "Param = 1.00000 - classifier Evaluation Experiment 426 of 642\n",
      "Param = 1.00000 - classifier Evaluation Experiment 427 of 642\n",
      "Param = 1.00000 - classifier Evaluation Experiment 428 of 642\n",
      "Param = 1.00000 - classifier Evaluation Experiment 429 of 642\n",
      "Param = 1.00000 - classifier Evaluation Experiment 430 of 642\n",
      "Param = 1.00000 - classifier Evaluation Experiment 431 of 642\n",
      "Param = 1.00000 - classifier Evaluation Experiment 432 of 642\n",
      "Param = 1.00000 - classifier Evaluation Experiment 433 of 642\n",
      "Param = 1.00000 - classifier Evaluation Experiment 434 of 642\n",
      "Param = 1.00000 - classifier Evaluation Experiment 435 of 642\n",
      "Param = 1.00000 - classifier Evaluation Experiment 436 of 642\n",
      "Param = 1.00000 - classifier Evaluation Experiment 437 of 642\n",
      "Param = 1.00000 - classifier Evaluation Experiment 438 of 642\n",
      "Param = 1.00000 - classifier Evaluation Experiment 439 of 642\n",
      "Param = 1.00000 - classifier Evaluation Experiment 440 of 642\n",
      "Param = 1.00000 - classifier Evaluation Experiment 441 of 642\n",
      "Param = 1.00000 - classifier Evaluation Experiment 442 of 642\n",
      "Param = 1.00000 - classifier Evaluation Experiment 443 of 642\n",
      "Param = 1.00000 - classifier Evaluation Experiment 444 of 642\n",
      "Param = 1.00000 - classifier Evaluation Experiment 445 of 642\n",
      "Param = 1.00000 - classifier Evaluation Experiment 446 of 642\n",
      "Param = 1.00000 - classifier Evaluation Experiment 447 of 642\n",
      "Param = 1.00000 - classifier Evaluation Experiment 448 of 642\n",
      "Param = 1.00000 - classifier Evaluation Experiment 449 of 642\n",
      "Param = 1.00000 - classifier Evaluation Experiment 450 of 642\n",
      "Param = 1.00000 - classifier Evaluation Experiment 451 of 642\n",
      "Param = 1.00000 - classifier Evaluation Experiment 452 of 642\n",
      "Param = 1.00000 - classifier Evaluation Experiment 453 of 642\n",
      "Param = 1.00000 - classifier Evaluation Experiment 454 of 642\n",
      "Param = 1.00000 - classifier Evaluation Experiment 455 of 642\n",
      "Param = 1.00000 - classifier Evaluation Experiment 456 of 642\n",
      "Param = 1.00000 - classifier Evaluation Experiment 457 of 642\n",
      "Param = 1.00000 - classifier Evaluation Experiment 458 of 642\n",
      "Param = 1.00000 - classifier Evaluation Experiment 459 of 642\n",
      "Param = 1.00000 - classifier Evaluation Experiment 460 of 642\n",
      "Param = 1.00000 - classifier Evaluation Experiment 461 of 642\n",
      "Param = 1.00000 - classifier Evaluation Experiment 462 of 642\n",
      "Param = 1.00000 - classifier Evaluation Experiment 463 of 642\n",
      "Param = 1.00000 - classifier Evaluation Experiment 464 of 642\n",
      "Param = 1.00000 - classifier Evaluation Experiment 465 of 642\n",
      "Param = 1.00000 - classifier Evaluation Experiment 466 of 642\n",
      "Param = 1.00000 - classifier Evaluation Experiment 467 of 642\n",
      "Param = 1.00000 - classifier Evaluation Experiment 468 of 642\n",
      "Param = 1.00000 - classifier Evaluation Experiment 469 of 642\n",
      "Param = 1.00000 - classifier Evaluation Experiment 470 of 642\n",
      "Param = 1.00000 - classifier Evaluation Experiment 471 of 642\n",
      "Param = 1.00000 - classifier Evaluation Experiment 472 of 642\n",
      "Param = 1.00000 - classifier Evaluation Experiment 473 of 642\n",
      "Param = 1.00000 - classifier Evaluation Experiment 474 of 642\n",
      "Param = 1.00000 - classifier Evaluation Experiment 475 of 642\n",
      "Param = 1.00000 - classifier Evaluation Experiment 476 of 642\n",
      "Param = 1.00000 - classifier Evaluation Experiment 477 of 642\n",
      "Param = 1.00000 - classifier Evaluation Experiment 478 of 642\n",
      "Param = 1.00000 - classifier Evaluation Experiment 479 of 642\n",
      "Param = 1.00000 - classifier Evaluation Experiment 480 of 642\n",
      "Param = 1.00000 - classifier Evaluation Experiment 481 of 642\n",
      "Param = 1.00000 - classifier Evaluation Experiment 482 of 642\n",
      "Param = 1.00000 - classifier Evaluation Experiment 483 of 642\n",
      "Param = 1.00000 - classifier Evaluation Experiment 484 of 642\n",
      "Param = 1.00000 - classifier Evaluation Experiment 485 of 642\n",
      "Param = 1.00000 - classifier Evaluation Experiment 486 of 642\n",
      "Param = 1.00000 - classifier Evaluation Experiment 487 of 642\n",
      "Param = 1.00000 - classifier Evaluation Experiment 488 of 642\n",
      "Param = 1.00000 - classifier Evaluation Experiment 489 of 642\n",
      "Param = 1.00000 - classifier Evaluation Experiment 490 of 642\n",
      "Param = 1.00000 - classifier Evaluation Experiment 491 of 642\n",
      "Param = 1.00000 - classifier Evaluation Experiment 492 of 642\n",
      "Param = 1.00000 - classifier Evaluation Experiment 493 of 642\n",
      "Param = 1.00000 - classifier Evaluation Experiment 494 of 642\n",
      "Param = 1.00000 - classifier Evaluation Experiment 495 of 642\n",
      "Param = 1.00000 - classifier Evaluation Experiment 496 of 642\n",
      "Param = 1.00000 - classifier Evaluation Experiment 497 of 642\n",
      "Param = 1.00000 - classifier Evaluation Experiment 498 of 642\n",
      "Param = 1.00000 - classifier Evaluation Experiment 499 of 642\n",
      "Param = 1.00000 - classifier Evaluation Experiment 500 of 642\n",
      "Param = 1.00000 - classifier Evaluation Experiment 501 of 642\n",
      "Param = 1.00000 - classifier Evaluation Experiment 502 of 642\n",
      "Param = 1.00000 - classifier Evaluation Experiment 503 of 642\n",
      "Param = 1.00000 - classifier Evaluation Experiment 504 of 642\n",
      "Param = 1.00000 - classifier Evaluation Experiment 505 of 642\n",
      "Param = 1.00000 - classifier Evaluation Experiment 506 of 642\n",
      "Param = 1.00000 - classifier Evaluation Experiment 507 of 642\n",
      "Param = 1.00000 - classifier Evaluation Experiment 508 of 642\n",
      "Param = 1.00000 - classifier Evaluation Experiment 509 of 642\n",
      "Param = 1.00000 - classifier Evaluation Experiment 510 of 642\n",
      "Param = 1.00000 - classifier Evaluation Experiment 511 of 642\n",
      "Param = 1.00000 - classifier Evaluation Experiment 512 of 642\n",
      "Param = 1.00000 - classifier Evaluation Experiment 513 of 642\n",
      "Param = 1.00000 - classifier Evaluation Experiment 514 of 642\n",
      "Param = 1.00000 - classifier Evaluation Experiment 515 of 642\n",
      "Param = 1.00000 - classifier Evaluation Experiment 516 of 642\n",
      "Param = 1.00000 - classifier Evaluation Experiment 517 of 642\n",
      "Param = 1.00000 - classifier Evaluation Experiment 518 of 642\n",
      "Param = 1.00000 - classifier Evaluation Experiment 519 of 642\n",
      "Param = 1.00000 - classifier Evaluation Experiment 520 of 642\n",
      "Param = 1.00000 - classifier Evaluation Experiment 521 of 642\n",
      "Param = 1.00000 - classifier Evaluation Experiment 522 of 642\n",
      "Param = 1.00000 - classifier Evaluation Experiment 523 of 642\n",
      "Param = 1.00000 - classifier Evaluation Experiment 524 of 642\n",
      "Param = 1.00000 - classifier Evaluation Experiment 525 of 642\n",
      "Param = 1.00000 - classifier Evaluation Experiment 526 of 642\n",
      "Param = 1.00000 - classifier Evaluation Experiment 527 of 642\n",
      "Param = 1.00000 - classifier Evaluation Experiment 528 of 642\n",
      "Param = 1.00000 - classifier Evaluation Experiment 529 of 642\n",
      "Param = 1.00000 - classifier Evaluation Experiment 530 of 642\n",
      "Param = 1.00000 - classifier Evaluation Experiment 531 of 642\n",
      "Param = 1.00000 - classifier Evaluation Experiment 532 of 642\n",
      "Param = 1.00000 - classifier Evaluation Experiment 533 of 642\n",
      "Param = 1.00000 - classifier Evaluation Experiment 534 of 642\n",
      "Param = 1.00000 - classifier Evaluation Experiment 535 of 642\n",
      "Param = 1.00000 - classifier Evaluation Experiment 536 of 642\n",
      "Param = 1.00000 - classifier Evaluation Experiment 537 of 642\n",
      "Param = 1.00000 - classifier Evaluation Experiment 538 of 642\n",
      "Param = 1.00000 - classifier Evaluation Experiment 539 of 642\n",
      "Param = 1.00000 - classifier Evaluation Experiment 540 of 642\n",
      "Param = 1.00000 - classifier Evaluation Experiment 541 of 642\n",
      "Param = 1.00000 - classifier Evaluation Experiment 542 of 642\n",
      "Param = 1.00000 - classifier Evaluation Experiment 543 of 642\n",
      "Param = 1.00000 - classifier Evaluation Experiment 544 of 642\n",
      "Param = 1.00000 - classifier Evaluation Experiment 545 of 642\n",
      "Param = 1.00000 - classifier Evaluation Experiment 546 of 642\n",
      "Param = 1.00000 - classifier Evaluation Experiment 547 of 642\n",
      "Param = 1.00000 - classifier Evaluation Experiment 548 of 642\n",
      "Param = 1.00000 - classifier Evaluation Experiment 549 of 642\n",
      "Param = 1.00000 - classifier Evaluation Experiment 550 of 642\n",
      "Param = 1.00000 - classifier Evaluation Experiment 551 of 642\n",
      "Param = 1.00000 - classifier Evaluation Experiment 552 of 642\n",
      "Param = 1.00000 - classifier Evaluation Experiment 553 of 642\n",
      "Param = 1.00000 - classifier Evaluation Experiment 554 of 642\n",
      "Param = 1.00000 - classifier Evaluation Experiment 555 of 642\n",
      "Param = 1.00000 - classifier Evaluation Experiment 556 of 642\n",
      "Param = 1.00000 - classifier Evaluation Experiment 557 of 642\n",
      "Param = 1.00000 - classifier Evaluation Experiment 558 of 642\n",
      "Param = 1.00000 - classifier Evaluation Experiment 559 of 642\n",
      "Param = 1.00000 - classifier Evaluation Experiment 560 of 642\n",
      "Param = 1.00000 - classifier Evaluation Experiment 561 of 642\n",
      "Param = 1.00000 - classifier Evaluation Experiment 562 of 642\n",
      "Param = 1.00000 - classifier Evaluation Experiment 563 of 642\n",
      "Param = 1.00000 - classifier Evaluation Experiment 564 of 642\n",
      "Param = 1.00000 - classifier Evaluation Experiment 565 of 642\n",
      "Param = 1.00000 - classifier Evaluation Experiment 566 of 642\n",
      "Param = 1.00000 - classifier Evaluation Experiment 567 of 642\n",
      "Param = 1.00000 - classifier Evaluation Experiment 568 of 642\n",
      "Param = 1.00000 - classifier Evaluation Experiment 569 of 642\n",
      "Param = 1.00000 - classifier Evaluation Experiment 570 of 642\n",
      "Param = 1.00000 - classifier Evaluation Experiment 571 of 642\n",
      "Param = 1.00000 - classifier Evaluation Experiment 572 of 642\n",
      "Param = 1.00000 - classifier Evaluation Experiment 573 of 642\n",
      "Param = 1.00000 - classifier Evaluation Experiment 574 of 642\n",
      "Param = 1.00000 - classifier Evaluation Experiment 575 of 642\n",
      "Param = 1.00000 - classifier Evaluation Experiment 576 of 642\n",
      "Param = 1.00000 - classifier Evaluation Experiment 577 of 642\n",
      "Param = 1.00000 - classifier Evaluation Experiment 578 of 642\n",
      "Param = 1.00000 - classifier Evaluation Experiment 579 of 642\n",
      "Param = 1.00000 - classifier Evaluation Experiment 580 of 642\n",
      "Param = 1.00000 - classifier Evaluation Experiment 581 of 642\n",
      "Param = 1.00000 - classifier Evaluation Experiment 582 of 642\n",
      "Param = 1.00000 - classifier Evaluation Experiment 583 of 642\n",
      "Param = 1.00000 - classifier Evaluation Experiment 584 of 642\n",
      "Param = 1.00000 - classifier Evaluation Experiment 585 of 642\n",
      "Param = 1.00000 - classifier Evaluation Experiment 586 of 642\n",
      "Param = 1.00000 - classifier Evaluation Experiment 587 of 642\n",
      "Param = 1.00000 - classifier Evaluation Experiment 588 of 642\n",
      "Param = 1.00000 - classifier Evaluation Experiment 589 of 642\n",
      "Param = 1.00000 - classifier Evaluation Experiment 590 of 642\n",
      "Param = 1.00000 - classifier Evaluation Experiment 591 of 642\n",
      "Param = 1.00000 - classifier Evaluation Experiment 592 of 642\n",
      "Param = 1.00000 - classifier Evaluation Experiment 593 of 642\n",
      "Param = 1.00000 - classifier Evaluation Experiment 594 of 642\n",
      "Param = 1.00000 - classifier Evaluation Experiment 595 of 642\n",
      "Param = 1.00000 - classifier Evaluation Experiment 596 of 642\n",
      "Param = 1.00000 - classifier Evaluation Experiment 597 of 642\n",
      "Param = 1.00000 - classifier Evaluation Experiment 598 of 642\n",
      "Param = 1.00000 - classifier Evaluation Experiment 599 of 642\n",
      "Param = 1.00000 - classifier Evaluation Experiment 600 of 642\n",
      "Param = 1.00000 - classifier Evaluation Experiment 601 of 642\n",
      "Param = 1.00000 - classifier Evaluation Experiment 602 of 642\n",
      "Param = 1.00000 - classifier Evaluation Experiment 603 of 642\n",
      "Param = 1.00000 - classifier Evaluation Experiment 604 of 642\n",
      "Param = 1.00000 - classifier Evaluation Experiment 605 of 642\n",
      "Param = 1.00000 - classifier Evaluation Experiment 606 of 642\n",
      "Param = 1.00000 - classifier Evaluation Experiment 607 of 642\n",
      "Param = 1.00000 - classifier Evaluation Experiment 608 of 642\n",
      "Param = 1.00000 - classifier Evaluation Experiment 609 of 642\n",
      "Param = 1.00000 - classifier Evaluation Experiment 610 of 642\n",
      "Param = 1.00000 - classifier Evaluation Experiment 611 of 642\n",
      "Param = 1.00000 - classifier Evaluation Experiment 612 of 642\n",
      "Param = 1.00000 - classifier Evaluation Experiment 613 of 642\n",
      "Param = 1.00000 - classifier Evaluation Experiment 614 of 642\n",
      "Param = 1.00000 - classifier Evaluation Experiment 615 of 642\n",
      "Param = 1.00000 - classifier Evaluation Experiment 616 of 642\n",
      "Param = 1.00000 - classifier Evaluation Experiment 617 of 642\n",
      "Param = 1.00000 - classifier Evaluation Experiment 618 of 642\n",
      "Param = 1.00000 - classifier Evaluation Experiment 619 of 642\n",
      "Param = 1.00000 - classifier Evaluation Experiment 620 of 642\n",
      "Param = 1.00000 - classifier Evaluation Experiment 621 of 642\n",
      "Param = 1.00000 - classifier Evaluation Experiment 622 of 642\n",
      "Param = 1.00000 - classifier Evaluation Experiment 623 of 642\n",
      "Param = 1.00000 - classifier Evaluation Experiment 624 of 642\n",
      "Param = 1.00000 - classifier Evaluation Experiment 625 of 642\n",
      "Param = 1.00000 - classifier Evaluation Experiment 626 of 642\n",
      "Param = 1.00000 - classifier Evaluation Experiment 627 of 642\n",
      "Param = 1.00000 - classifier Evaluation Experiment 628 of 642\n",
      "Param = 1.00000 - classifier Evaluation Experiment 629 of 642\n",
      "Param = 1.00000 - classifier Evaluation Experiment 630 of 642\n",
      "Param = 1.00000 - classifier Evaluation Experiment 631 of 642\n",
      "Param = 1.00000 - classifier Evaluation Experiment 632 of 642\n",
      "Param = 1.00000 - classifier Evaluation Experiment 633 of 642\n",
      "Param = 1.00000 - classifier Evaluation Experiment 634 of 642\n",
      "Param = 1.00000 - classifier Evaluation Experiment 635 of 642\n",
      "Param = 1.00000 - classifier Evaluation Experiment 636 of 642\n",
      "Param = 1.00000 - classifier Evaluation Experiment 637 of 642\n",
      "Param = 1.00000 - classifier Evaluation Experiment 638 of 642\n",
      "Param = 1.00000 - classifier Evaluation Experiment 639 of 642\n",
      "Param = 1.00000 - classifier Evaluation Experiment 640 of 642\n",
      "Param = 1.00000 - classifier Evaluation Experiment 641 of 642\n",
      "Param = 1.00000 - classifier Evaluation Experiment 642 of 642\n",
      "Param = 5.00000 - classifier Evaluation Experiment 1 of 642\n",
      "Param = 5.00000 - classifier Evaluation Experiment 2 of 642\n",
      "Param = 5.00000 - classifier Evaluation Experiment 3 of 642\n",
      "Param = 5.00000 - classifier Evaluation Experiment 4 of 642\n",
      "Param = 5.00000 - classifier Evaluation Experiment 5 of 642\n",
      "Param = 5.00000 - classifier Evaluation Experiment 6 of 642\n",
      "Param = 5.00000 - classifier Evaluation Experiment 7 of 642\n",
      "Param = 5.00000 - classifier Evaluation Experiment 8 of 642\n",
      "Param = 5.00000 - classifier Evaluation Experiment 9 of 642\n",
      "Param = 5.00000 - classifier Evaluation Experiment 10 of 642\n",
      "Param = 5.00000 - classifier Evaluation Experiment 11 of 642\n",
      "Param = 5.00000 - classifier Evaluation Experiment 12 of 642\n",
      "Param = 5.00000 - classifier Evaluation Experiment 13 of 642\n",
      "Param = 5.00000 - classifier Evaluation Experiment 14 of 642\n",
      "Param = 5.00000 - classifier Evaluation Experiment 15 of 642\n",
      "Param = 5.00000 - classifier Evaluation Experiment 16 of 642\n",
      "Param = 5.00000 - classifier Evaluation Experiment 17 of 642\n",
      "Param = 5.00000 - classifier Evaluation Experiment 18 of 642\n",
      "Param = 5.00000 - classifier Evaluation Experiment 19 of 642\n",
      "Param = 5.00000 - classifier Evaluation Experiment 20 of 642\n",
      "Param = 5.00000 - classifier Evaluation Experiment 21 of 642\n",
      "Param = 5.00000 - classifier Evaluation Experiment 22 of 642\n",
      "Param = 5.00000 - classifier Evaluation Experiment 23 of 642\n",
      "Param = 5.00000 - classifier Evaluation Experiment 24 of 642\n",
      "Param = 5.00000 - classifier Evaluation Experiment 25 of 642\n",
      "Param = 5.00000 - classifier Evaluation Experiment 26 of 642\n",
      "Param = 5.00000 - classifier Evaluation Experiment 27 of 642\n",
      "Param = 5.00000 - classifier Evaluation Experiment 28 of 642\n",
      "Param = 5.00000 - classifier Evaluation Experiment 29 of 642\n",
      "Param = 5.00000 - classifier Evaluation Experiment 30 of 642\n",
      "Param = 5.00000 - classifier Evaluation Experiment 31 of 642\n",
      "Param = 5.00000 - classifier Evaluation Experiment 32 of 642\n",
      "Param = 5.00000 - classifier Evaluation Experiment 33 of 642\n",
      "Param = 5.00000 - classifier Evaluation Experiment 34 of 642\n",
      "Param = 5.00000 - classifier Evaluation Experiment 35 of 642\n",
      "Param = 5.00000 - classifier Evaluation Experiment 36 of 642\n",
      "Param = 5.00000 - classifier Evaluation Experiment 37 of 642\n",
      "Param = 5.00000 - classifier Evaluation Experiment 38 of 642\n",
      "Param = 5.00000 - classifier Evaluation Experiment 39 of 642\n",
      "Param = 5.00000 - classifier Evaluation Experiment 40 of 642\n",
      "Param = 5.00000 - classifier Evaluation Experiment 41 of 642\n",
      "Param = 5.00000 - classifier Evaluation Experiment 42 of 642\n",
      "Param = 5.00000 - classifier Evaluation Experiment 43 of 642\n",
      "Param = 5.00000 - classifier Evaluation Experiment 44 of 642\n",
      "Param = 5.00000 - classifier Evaluation Experiment 45 of 642\n",
      "Param = 5.00000 - classifier Evaluation Experiment 46 of 642\n",
      "Param = 5.00000 - classifier Evaluation Experiment 47 of 642\n",
      "Param = 5.00000 - classifier Evaluation Experiment 48 of 642\n",
      "Param = 5.00000 - classifier Evaluation Experiment 49 of 642\n",
      "Param = 5.00000 - classifier Evaluation Experiment 50 of 642\n",
      "Param = 5.00000 - classifier Evaluation Experiment 51 of 642\n",
      "Param = 5.00000 - classifier Evaluation Experiment 52 of 642\n",
      "Param = 5.00000 - classifier Evaluation Experiment 53 of 642\n",
      "Param = 5.00000 - classifier Evaluation Experiment 54 of 642\n",
      "Param = 5.00000 - classifier Evaluation Experiment 55 of 642\n",
      "Param = 5.00000 - classifier Evaluation Experiment 56 of 642\n",
      "Param = 5.00000 - classifier Evaluation Experiment 57 of 642\n",
      "Param = 5.00000 - classifier Evaluation Experiment 58 of 642\n",
      "Param = 5.00000 - classifier Evaluation Experiment 59 of 642\n",
      "Param = 5.00000 - classifier Evaluation Experiment 60 of 642\n",
      "Param = 5.00000 - classifier Evaluation Experiment 61 of 642\n",
      "Param = 5.00000 - classifier Evaluation Experiment 62 of 642\n",
      "Param = 5.00000 - classifier Evaluation Experiment 63 of 642\n",
      "Param = 5.00000 - classifier Evaluation Experiment 64 of 642\n",
      "Param = 5.00000 - classifier Evaluation Experiment 65 of 642\n",
      "Param = 5.00000 - classifier Evaluation Experiment 66 of 642\n",
      "Param = 5.00000 - classifier Evaluation Experiment 67 of 642\n",
      "Param = 5.00000 - classifier Evaluation Experiment 68 of 642\n",
      "Param = 5.00000 - classifier Evaluation Experiment 69 of 642\n",
      "Param = 5.00000 - classifier Evaluation Experiment 70 of 642\n",
      "Param = 5.00000 - classifier Evaluation Experiment 71 of 642\n",
      "Param = 5.00000 - classifier Evaluation Experiment 72 of 642\n",
      "Param = 5.00000 - classifier Evaluation Experiment 73 of 642\n",
      "Param = 5.00000 - classifier Evaluation Experiment 74 of 642\n",
      "Param = 5.00000 - classifier Evaluation Experiment 75 of 642\n",
      "Param = 5.00000 - classifier Evaluation Experiment 76 of 642\n",
      "Param = 5.00000 - classifier Evaluation Experiment 77 of 642\n",
      "Param = 5.00000 - classifier Evaluation Experiment 78 of 642\n",
      "Param = 5.00000 - classifier Evaluation Experiment 79 of 642\n",
      "Param = 5.00000 - classifier Evaluation Experiment 80 of 642\n",
      "Param = 5.00000 - classifier Evaluation Experiment 81 of 642\n",
      "Param = 5.00000 - classifier Evaluation Experiment 82 of 642\n",
      "Param = 5.00000 - classifier Evaluation Experiment 83 of 642\n",
      "Param = 5.00000 - classifier Evaluation Experiment 84 of 642\n",
      "Param = 5.00000 - classifier Evaluation Experiment 85 of 642\n",
      "Param = 5.00000 - classifier Evaluation Experiment 86 of 642\n",
      "Param = 5.00000 - classifier Evaluation Experiment 87 of 642\n",
      "Param = 5.00000 - classifier Evaluation Experiment 88 of 642\n",
      "Param = 5.00000 - classifier Evaluation Experiment 89 of 642\n",
      "Param = 5.00000 - classifier Evaluation Experiment 90 of 642\n",
      "Param = 5.00000 - classifier Evaluation Experiment 91 of 642\n",
      "Param = 5.00000 - classifier Evaluation Experiment 92 of 642\n",
      "Param = 5.00000 - classifier Evaluation Experiment 93 of 642\n",
      "Param = 5.00000 - classifier Evaluation Experiment 94 of 642\n",
      "Param = 5.00000 - classifier Evaluation Experiment 95 of 642\n",
      "Param = 5.00000 - classifier Evaluation Experiment 96 of 642\n",
      "Param = 5.00000 - classifier Evaluation Experiment 97 of 642\n",
      "Param = 5.00000 - classifier Evaluation Experiment 98 of 642\n",
      "Param = 5.00000 - classifier Evaluation Experiment 99 of 642\n",
      "Param = 5.00000 - classifier Evaluation Experiment 100 of 642\n",
      "Param = 5.00000 - classifier Evaluation Experiment 101 of 642\n",
      "Param = 5.00000 - classifier Evaluation Experiment 102 of 642\n",
      "Param = 5.00000 - classifier Evaluation Experiment 103 of 642\n",
      "Param = 5.00000 - classifier Evaluation Experiment 104 of 642\n",
      "Param = 5.00000 - classifier Evaluation Experiment 105 of 642\n",
      "Param = 5.00000 - classifier Evaluation Experiment 106 of 642\n",
      "Param = 5.00000 - classifier Evaluation Experiment 107 of 642\n",
      "Param = 5.00000 - classifier Evaluation Experiment 108 of 642\n",
      "Param = 5.00000 - classifier Evaluation Experiment 109 of 642\n",
      "Param = 5.00000 - classifier Evaluation Experiment 110 of 642\n",
      "Param = 5.00000 - classifier Evaluation Experiment 111 of 642\n",
      "Param = 5.00000 - classifier Evaluation Experiment 112 of 642\n",
      "Param = 5.00000 - classifier Evaluation Experiment 113 of 642\n",
      "Param = 5.00000 - classifier Evaluation Experiment 114 of 642\n",
      "Param = 5.00000 - classifier Evaluation Experiment 115 of 642\n",
      "Param = 5.00000 - classifier Evaluation Experiment 116 of 642\n",
      "Param = 5.00000 - classifier Evaluation Experiment 117 of 642\n",
      "Param = 5.00000 - classifier Evaluation Experiment 118 of 642\n",
      "Param = 5.00000 - classifier Evaluation Experiment 119 of 642\n",
      "Param = 5.00000 - classifier Evaluation Experiment 120 of 642\n",
      "Param = 5.00000 - classifier Evaluation Experiment 121 of 642\n",
      "Param = 5.00000 - classifier Evaluation Experiment 122 of 642\n",
      "Param = 5.00000 - classifier Evaluation Experiment 123 of 642\n",
      "Param = 5.00000 - classifier Evaluation Experiment 124 of 642\n",
      "Param = 5.00000 - classifier Evaluation Experiment 125 of 642\n",
      "Param = 5.00000 - classifier Evaluation Experiment 126 of 642\n",
      "Param = 5.00000 - classifier Evaluation Experiment 127 of 642\n",
      "Param = 5.00000 - classifier Evaluation Experiment 128 of 642\n",
      "Param = 5.00000 - classifier Evaluation Experiment 129 of 642\n",
      "Param = 5.00000 - classifier Evaluation Experiment 130 of 642\n",
      "Param = 5.00000 - classifier Evaluation Experiment 131 of 642\n",
      "Param = 5.00000 - classifier Evaluation Experiment 132 of 642\n",
      "Param = 5.00000 - classifier Evaluation Experiment 133 of 642\n",
      "Param = 5.00000 - classifier Evaluation Experiment 134 of 642\n",
      "Param = 5.00000 - classifier Evaluation Experiment 135 of 642\n",
      "Param = 5.00000 - classifier Evaluation Experiment 136 of 642\n",
      "Param = 5.00000 - classifier Evaluation Experiment 137 of 642\n",
      "Param = 5.00000 - classifier Evaluation Experiment 138 of 642\n",
      "Param = 5.00000 - classifier Evaluation Experiment 139 of 642\n",
      "Param = 5.00000 - classifier Evaluation Experiment 140 of 642\n",
      "Param = 5.00000 - classifier Evaluation Experiment 141 of 642\n",
      "Param = 5.00000 - classifier Evaluation Experiment 142 of 642\n",
      "Param = 5.00000 - classifier Evaluation Experiment 143 of 642\n",
      "Param = 5.00000 - classifier Evaluation Experiment 144 of 642\n",
      "Param = 5.00000 - classifier Evaluation Experiment 145 of 642\n",
      "Param = 5.00000 - classifier Evaluation Experiment 146 of 642\n",
      "Param = 5.00000 - classifier Evaluation Experiment 147 of 642\n",
      "Param = 5.00000 - classifier Evaluation Experiment 148 of 642\n",
      "Param = 5.00000 - classifier Evaluation Experiment 149 of 642\n",
      "Param = 5.00000 - classifier Evaluation Experiment 150 of 642\n",
      "Param = 5.00000 - classifier Evaluation Experiment 151 of 642\n",
      "Param = 5.00000 - classifier Evaluation Experiment 152 of 642\n",
      "Param = 5.00000 - classifier Evaluation Experiment 153 of 642\n",
      "Param = 5.00000 - classifier Evaluation Experiment 154 of 642\n",
      "Param = 5.00000 - classifier Evaluation Experiment 155 of 642\n",
      "Param = 5.00000 - classifier Evaluation Experiment 156 of 642\n",
      "Param = 5.00000 - classifier Evaluation Experiment 157 of 642\n",
      "Param = 5.00000 - classifier Evaluation Experiment 158 of 642\n",
      "Param = 5.00000 - classifier Evaluation Experiment 159 of 642\n",
      "Param = 5.00000 - classifier Evaluation Experiment 160 of 642\n",
      "Param = 5.00000 - classifier Evaluation Experiment 161 of 642\n",
      "Param = 5.00000 - classifier Evaluation Experiment 162 of 642\n",
      "Param = 5.00000 - classifier Evaluation Experiment 163 of 642\n",
      "Param = 5.00000 - classifier Evaluation Experiment 164 of 642\n",
      "Param = 5.00000 - classifier Evaluation Experiment 165 of 642\n",
      "Param = 5.00000 - classifier Evaluation Experiment 166 of 642\n",
      "Param = 5.00000 - classifier Evaluation Experiment 167 of 642\n",
      "Param = 5.00000 - classifier Evaluation Experiment 168 of 642\n",
      "Param = 5.00000 - classifier Evaluation Experiment 169 of 642\n",
      "Param = 5.00000 - classifier Evaluation Experiment 170 of 642\n",
      "Param = 5.00000 - classifier Evaluation Experiment 171 of 642\n",
      "Param = 5.00000 - classifier Evaluation Experiment 172 of 642\n",
      "Param = 5.00000 - classifier Evaluation Experiment 173 of 642\n",
      "Param = 5.00000 - classifier Evaluation Experiment 174 of 642\n",
      "Param = 5.00000 - classifier Evaluation Experiment 175 of 642\n",
      "Param = 5.00000 - classifier Evaluation Experiment 176 of 642\n",
      "Param = 5.00000 - classifier Evaluation Experiment 177 of 642\n",
      "Param = 5.00000 - classifier Evaluation Experiment 178 of 642\n",
      "Param = 5.00000 - classifier Evaluation Experiment 179 of 642\n",
      "Param = 5.00000 - classifier Evaluation Experiment 180 of 642\n",
      "Param = 5.00000 - classifier Evaluation Experiment 181 of 642\n",
      "Param = 5.00000 - classifier Evaluation Experiment 182 of 642\n",
      "Param = 5.00000 - classifier Evaluation Experiment 183 of 642\n",
      "Param = 5.00000 - classifier Evaluation Experiment 184 of 642\n",
      "Param = 5.00000 - classifier Evaluation Experiment 185 of 642\n",
      "Param = 5.00000 - classifier Evaluation Experiment 186 of 642\n",
      "Param = 5.00000 - classifier Evaluation Experiment 187 of 642\n",
      "Param = 5.00000 - classifier Evaluation Experiment 188 of 642\n",
      "Param = 5.00000 - classifier Evaluation Experiment 189 of 642\n",
      "Param = 5.00000 - classifier Evaluation Experiment 190 of 642\n",
      "Param = 5.00000 - classifier Evaluation Experiment 191 of 642\n",
      "Param = 5.00000 - classifier Evaluation Experiment 192 of 642\n",
      "Param = 5.00000 - classifier Evaluation Experiment 193 of 642\n",
      "Param = 5.00000 - classifier Evaluation Experiment 194 of 642\n",
      "Param = 5.00000 - classifier Evaluation Experiment 195 of 642\n",
      "Param = 5.00000 - classifier Evaluation Experiment 196 of 642\n",
      "Param = 5.00000 - classifier Evaluation Experiment 197 of 642\n",
      "Param = 5.00000 - classifier Evaluation Experiment 198 of 642\n",
      "Param = 5.00000 - classifier Evaluation Experiment 199 of 642\n",
      "Param = 5.00000 - classifier Evaluation Experiment 200 of 642\n",
      "Param = 5.00000 - classifier Evaluation Experiment 201 of 642\n",
      "Param = 5.00000 - classifier Evaluation Experiment 202 of 642\n",
      "Param = 5.00000 - classifier Evaluation Experiment 203 of 642\n",
      "Param = 5.00000 - classifier Evaluation Experiment 204 of 642\n",
      "Param = 5.00000 - classifier Evaluation Experiment 205 of 642\n",
      "Param = 5.00000 - classifier Evaluation Experiment 206 of 642\n",
      "Param = 5.00000 - classifier Evaluation Experiment 207 of 642\n",
      "Param = 5.00000 - classifier Evaluation Experiment 208 of 642\n",
      "Param = 5.00000 - classifier Evaluation Experiment 209 of 642\n",
      "Param = 5.00000 - classifier Evaluation Experiment 210 of 642\n",
      "Param = 5.00000 - classifier Evaluation Experiment 211 of 642\n",
      "Param = 5.00000 - classifier Evaluation Experiment 212 of 642\n",
      "Param = 5.00000 - classifier Evaluation Experiment 213 of 642\n",
      "Param = 5.00000 - classifier Evaluation Experiment 214 of 642\n",
      "Param = 5.00000 - classifier Evaluation Experiment 215 of 642\n",
      "Param = 5.00000 - classifier Evaluation Experiment 216 of 642\n",
      "Param = 5.00000 - classifier Evaluation Experiment 217 of 642\n",
      "Param = 5.00000 - classifier Evaluation Experiment 218 of 642\n",
      "Param = 5.00000 - classifier Evaluation Experiment 219 of 642\n",
      "Param = 5.00000 - classifier Evaluation Experiment 220 of 642\n",
      "Param = 5.00000 - classifier Evaluation Experiment 221 of 642\n",
      "Param = 5.00000 - classifier Evaluation Experiment 222 of 642\n",
      "Param = 5.00000 - classifier Evaluation Experiment 223 of 642\n",
      "Param = 5.00000 - classifier Evaluation Experiment 224 of 642\n",
      "Param = 5.00000 - classifier Evaluation Experiment 225 of 642\n",
      "Param = 5.00000 - classifier Evaluation Experiment 226 of 642\n",
      "Param = 5.00000 - classifier Evaluation Experiment 227 of 642\n",
      "Param = 5.00000 - classifier Evaluation Experiment 228 of 642\n",
      "Param = 5.00000 - classifier Evaluation Experiment 229 of 642\n",
      "Param = 5.00000 - classifier Evaluation Experiment 230 of 642\n",
      "Param = 5.00000 - classifier Evaluation Experiment 231 of 642\n",
      "Param = 5.00000 - classifier Evaluation Experiment 232 of 642\n",
      "Param = 5.00000 - classifier Evaluation Experiment 233 of 642\n",
      "Param = 5.00000 - classifier Evaluation Experiment 234 of 642\n",
      "Param = 5.00000 - classifier Evaluation Experiment 235 of 642\n",
      "Param = 5.00000 - classifier Evaluation Experiment 236 of 642\n",
      "Param = 5.00000 - classifier Evaluation Experiment 237 of 642\n",
      "Param = 5.00000 - classifier Evaluation Experiment 238 of 642\n",
      "Param = 5.00000 - classifier Evaluation Experiment 239 of 642\n",
      "Param = 5.00000 - classifier Evaluation Experiment 240 of 642\n",
      "Param = 5.00000 - classifier Evaluation Experiment 241 of 642\n",
      "Param = 5.00000 - classifier Evaluation Experiment 242 of 642\n",
      "Param = 5.00000 - classifier Evaluation Experiment 243 of 642\n",
      "Param = 5.00000 - classifier Evaluation Experiment 244 of 642\n",
      "Param = 5.00000 - classifier Evaluation Experiment 245 of 642\n",
      "Param = 5.00000 - classifier Evaluation Experiment 246 of 642\n",
      "Param = 5.00000 - classifier Evaluation Experiment 247 of 642\n",
      "Param = 5.00000 - classifier Evaluation Experiment 248 of 642\n",
      "Param = 5.00000 - classifier Evaluation Experiment 249 of 642\n",
      "Param = 5.00000 - classifier Evaluation Experiment 250 of 642\n",
      "Param = 5.00000 - classifier Evaluation Experiment 251 of 642\n",
      "Param = 5.00000 - classifier Evaluation Experiment 252 of 642\n",
      "Param = 5.00000 - classifier Evaluation Experiment 253 of 642\n",
      "Param = 5.00000 - classifier Evaluation Experiment 254 of 642\n",
      "Param = 5.00000 - classifier Evaluation Experiment 255 of 642\n",
      "Param = 5.00000 - classifier Evaluation Experiment 256 of 642\n",
      "Param = 5.00000 - classifier Evaluation Experiment 257 of 642\n",
      "Param = 5.00000 - classifier Evaluation Experiment 258 of 642\n",
      "Param = 5.00000 - classifier Evaluation Experiment 259 of 642\n",
      "Param = 5.00000 - classifier Evaluation Experiment 260 of 642\n",
      "Param = 5.00000 - classifier Evaluation Experiment 261 of 642\n",
      "Param = 5.00000 - classifier Evaluation Experiment 262 of 642\n",
      "Param = 5.00000 - classifier Evaluation Experiment 263 of 642\n",
      "Param = 5.00000 - classifier Evaluation Experiment 264 of 642\n",
      "Param = 5.00000 - classifier Evaluation Experiment 265 of 642\n",
      "Param = 5.00000 - classifier Evaluation Experiment 266 of 642\n",
      "Param = 5.00000 - classifier Evaluation Experiment 267 of 642\n",
      "Param = 5.00000 - classifier Evaluation Experiment 268 of 642\n",
      "Param = 5.00000 - classifier Evaluation Experiment 269 of 642\n",
      "Param = 5.00000 - classifier Evaluation Experiment 270 of 642\n",
      "Param = 5.00000 - classifier Evaluation Experiment 271 of 642\n",
      "Param = 5.00000 - classifier Evaluation Experiment 272 of 642\n",
      "Param = 5.00000 - classifier Evaluation Experiment 273 of 642\n",
      "Param = 5.00000 - classifier Evaluation Experiment 274 of 642\n",
      "Param = 5.00000 - classifier Evaluation Experiment 275 of 642\n",
      "Param = 5.00000 - classifier Evaluation Experiment 276 of 642\n",
      "Param = 5.00000 - classifier Evaluation Experiment 277 of 642\n",
      "Param = 5.00000 - classifier Evaluation Experiment 278 of 642\n",
      "Param = 5.00000 - classifier Evaluation Experiment 279 of 642\n",
      "Param = 5.00000 - classifier Evaluation Experiment 280 of 642\n",
      "Param = 5.00000 - classifier Evaluation Experiment 281 of 642\n",
      "Param = 5.00000 - classifier Evaluation Experiment 282 of 642\n",
      "Param = 5.00000 - classifier Evaluation Experiment 283 of 642\n",
      "Param = 5.00000 - classifier Evaluation Experiment 284 of 642\n",
      "Param = 5.00000 - classifier Evaluation Experiment 285 of 642\n",
      "Param = 5.00000 - classifier Evaluation Experiment 286 of 642\n",
      "Param = 5.00000 - classifier Evaluation Experiment 287 of 642\n",
      "Param = 5.00000 - classifier Evaluation Experiment 288 of 642\n",
      "Param = 5.00000 - classifier Evaluation Experiment 289 of 642\n",
      "Param = 5.00000 - classifier Evaluation Experiment 290 of 642\n",
      "Param = 5.00000 - classifier Evaluation Experiment 291 of 642\n",
      "Param = 5.00000 - classifier Evaluation Experiment 292 of 642\n",
      "Param = 5.00000 - classifier Evaluation Experiment 293 of 642\n",
      "Param = 5.00000 - classifier Evaluation Experiment 294 of 642\n",
      "Param = 5.00000 - classifier Evaluation Experiment 295 of 642\n",
      "Param = 5.00000 - classifier Evaluation Experiment 296 of 642\n",
      "Param = 5.00000 - classifier Evaluation Experiment 297 of 642\n",
      "Param = 5.00000 - classifier Evaluation Experiment 298 of 642\n",
      "Param = 5.00000 - classifier Evaluation Experiment 299 of 642\n",
      "Param = 5.00000 - classifier Evaluation Experiment 300 of 642\n",
      "Param = 5.00000 - classifier Evaluation Experiment 301 of 642\n",
      "Param = 5.00000 - classifier Evaluation Experiment 302 of 642\n",
      "Param = 5.00000 - classifier Evaluation Experiment 303 of 642\n",
      "Param = 5.00000 - classifier Evaluation Experiment 304 of 642\n",
      "Param = 5.00000 - classifier Evaluation Experiment 305 of 642\n",
      "Param = 5.00000 - classifier Evaluation Experiment 306 of 642\n",
      "Param = 5.00000 - classifier Evaluation Experiment 307 of 642\n",
      "Param = 5.00000 - classifier Evaluation Experiment 308 of 642\n",
      "Param = 5.00000 - classifier Evaluation Experiment 309 of 642\n",
      "Param = 5.00000 - classifier Evaluation Experiment 310 of 642\n",
      "Param = 5.00000 - classifier Evaluation Experiment 311 of 642\n",
      "Param = 5.00000 - classifier Evaluation Experiment 312 of 642\n",
      "Param = 5.00000 - classifier Evaluation Experiment 313 of 642\n",
      "Param = 5.00000 - classifier Evaluation Experiment 314 of 642\n",
      "Param = 5.00000 - classifier Evaluation Experiment 315 of 642\n",
      "Param = 5.00000 - classifier Evaluation Experiment 316 of 642\n",
      "Param = 5.00000 - classifier Evaluation Experiment 317 of 642\n",
      "Param = 5.00000 - classifier Evaluation Experiment 318 of 642\n",
      "Param = 5.00000 - classifier Evaluation Experiment 319 of 642\n",
      "Param = 5.00000 - classifier Evaluation Experiment 320 of 642\n",
      "Param = 5.00000 - classifier Evaluation Experiment 321 of 642\n",
      "Param = 5.00000 - classifier Evaluation Experiment 322 of 642\n",
      "Param = 5.00000 - classifier Evaluation Experiment 323 of 642\n",
      "Param = 5.00000 - classifier Evaluation Experiment 324 of 642\n",
      "Param = 5.00000 - classifier Evaluation Experiment 325 of 642\n",
      "Param = 5.00000 - classifier Evaluation Experiment 326 of 642\n",
      "Param = 5.00000 - classifier Evaluation Experiment 327 of 642\n",
      "Param = 5.00000 - classifier Evaluation Experiment 328 of 642\n",
      "Param = 5.00000 - classifier Evaluation Experiment 329 of 642\n",
      "Param = 5.00000 - classifier Evaluation Experiment 330 of 642\n",
      "Param = 5.00000 - classifier Evaluation Experiment 331 of 642\n",
      "Param = 5.00000 - classifier Evaluation Experiment 332 of 642\n",
      "Param = 5.00000 - classifier Evaluation Experiment 333 of 642\n",
      "Param = 5.00000 - classifier Evaluation Experiment 334 of 642\n",
      "Param = 5.00000 - classifier Evaluation Experiment 335 of 642\n",
      "Param = 5.00000 - classifier Evaluation Experiment 336 of 642\n",
      "Param = 5.00000 - classifier Evaluation Experiment 337 of 642\n",
      "Param = 5.00000 - classifier Evaluation Experiment 338 of 642\n",
      "Param = 5.00000 - classifier Evaluation Experiment 339 of 642\n",
      "Param = 5.00000 - classifier Evaluation Experiment 340 of 642\n",
      "Param = 5.00000 - classifier Evaluation Experiment 341 of 642\n",
      "Param = 5.00000 - classifier Evaluation Experiment 342 of 642\n",
      "Param = 5.00000 - classifier Evaluation Experiment 343 of 642\n",
      "Param = 5.00000 - classifier Evaluation Experiment 344 of 642\n",
      "Param = 5.00000 - classifier Evaluation Experiment 345 of 642\n",
      "Param = 5.00000 - classifier Evaluation Experiment 346 of 642\n",
      "Param = 5.00000 - classifier Evaluation Experiment 347 of 642\n",
      "Param = 5.00000 - classifier Evaluation Experiment 348 of 642\n",
      "Param = 5.00000 - classifier Evaluation Experiment 349 of 642\n",
      "Param = 5.00000 - classifier Evaluation Experiment 350 of 642\n",
      "Param = 5.00000 - classifier Evaluation Experiment 351 of 642\n",
      "Param = 5.00000 - classifier Evaluation Experiment 352 of 642\n",
      "Param = 5.00000 - classifier Evaluation Experiment 353 of 642\n",
      "Param = 5.00000 - classifier Evaluation Experiment 354 of 642\n",
      "Param = 5.00000 - classifier Evaluation Experiment 355 of 642\n",
      "Param = 5.00000 - classifier Evaluation Experiment 356 of 642\n",
      "Param = 5.00000 - classifier Evaluation Experiment 357 of 642\n",
      "Param = 5.00000 - classifier Evaluation Experiment 358 of 642\n",
      "Param = 5.00000 - classifier Evaluation Experiment 359 of 642\n",
      "Param = 5.00000 - classifier Evaluation Experiment 360 of 642\n",
      "Param = 5.00000 - classifier Evaluation Experiment 361 of 642\n",
      "Param = 5.00000 - classifier Evaluation Experiment 362 of 642\n",
      "Param = 5.00000 - classifier Evaluation Experiment 363 of 642\n",
      "Param = 5.00000 - classifier Evaluation Experiment 364 of 642\n",
      "Param = 5.00000 - classifier Evaluation Experiment 365 of 642\n",
      "Param = 5.00000 - classifier Evaluation Experiment 366 of 642\n",
      "Param = 5.00000 - classifier Evaluation Experiment 367 of 642\n",
      "Param = 5.00000 - classifier Evaluation Experiment 368 of 642\n",
      "Param = 5.00000 - classifier Evaluation Experiment 369 of 642\n",
      "Param = 5.00000 - classifier Evaluation Experiment 370 of 642\n",
      "Param = 5.00000 - classifier Evaluation Experiment 371 of 642\n",
      "Param = 5.00000 - classifier Evaluation Experiment 372 of 642\n",
      "Param = 5.00000 - classifier Evaluation Experiment 373 of 642\n",
      "Param = 5.00000 - classifier Evaluation Experiment 374 of 642\n",
      "Param = 5.00000 - classifier Evaluation Experiment 375 of 642\n",
      "Param = 5.00000 - classifier Evaluation Experiment 376 of 642\n",
      "Param = 5.00000 - classifier Evaluation Experiment 377 of 642\n",
      "Param = 5.00000 - classifier Evaluation Experiment 378 of 642\n",
      "Param = 5.00000 - classifier Evaluation Experiment 379 of 642\n",
      "Param = 5.00000 - classifier Evaluation Experiment 380 of 642\n",
      "Param = 5.00000 - classifier Evaluation Experiment 381 of 642\n",
      "Param = 5.00000 - classifier Evaluation Experiment 382 of 642\n",
      "Param = 5.00000 - classifier Evaluation Experiment 383 of 642\n",
      "Param = 5.00000 - classifier Evaluation Experiment 384 of 642\n",
      "Param = 5.00000 - classifier Evaluation Experiment 385 of 642\n",
      "Param = 5.00000 - classifier Evaluation Experiment 386 of 642\n",
      "Param = 5.00000 - classifier Evaluation Experiment 387 of 642\n",
      "Param = 5.00000 - classifier Evaluation Experiment 388 of 642\n",
      "Param = 5.00000 - classifier Evaluation Experiment 389 of 642\n",
      "Param = 5.00000 - classifier Evaluation Experiment 390 of 642\n",
      "Param = 5.00000 - classifier Evaluation Experiment 391 of 642\n",
      "Param = 5.00000 - classifier Evaluation Experiment 392 of 642\n",
      "Param = 5.00000 - classifier Evaluation Experiment 393 of 642\n",
      "Param = 5.00000 - classifier Evaluation Experiment 394 of 642\n",
      "Param = 5.00000 - classifier Evaluation Experiment 395 of 642\n",
      "Param = 5.00000 - classifier Evaluation Experiment 396 of 642\n",
      "Param = 5.00000 - classifier Evaluation Experiment 397 of 642\n",
      "Param = 5.00000 - classifier Evaluation Experiment 398 of 642\n",
      "Param = 5.00000 - classifier Evaluation Experiment 399 of 642\n",
      "Param = 5.00000 - classifier Evaluation Experiment 400 of 642\n",
      "Param = 5.00000 - classifier Evaluation Experiment 401 of 642\n",
      "Param = 5.00000 - classifier Evaluation Experiment 402 of 642\n",
      "Param = 5.00000 - classifier Evaluation Experiment 403 of 642\n",
      "Param = 5.00000 - classifier Evaluation Experiment 404 of 642\n",
      "Param = 5.00000 - classifier Evaluation Experiment 405 of 642\n",
      "Param = 5.00000 - classifier Evaluation Experiment 406 of 642\n",
      "Param = 5.00000 - classifier Evaluation Experiment 407 of 642\n",
      "Param = 5.00000 - classifier Evaluation Experiment 408 of 642\n",
      "Param = 5.00000 - classifier Evaluation Experiment 409 of 642\n",
      "Param = 5.00000 - classifier Evaluation Experiment 410 of 642\n",
      "Param = 5.00000 - classifier Evaluation Experiment 411 of 642\n",
      "Param = 5.00000 - classifier Evaluation Experiment 412 of 642\n",
      "Param = 5.00000 - classifier Evaluation Experiment 413 of 642\n",
      "Param = 5.00000 - classifier Evaluation Experiment 414 of 642\n",
      "Param = 5.00000 - classifier Evaluation Experiment 415 of 642\n",
      "Param = 5.00000 - classifier Evaluation Experiment 416 of 642\n",
      "Param = 5.00000 - classifier Evaluation Experiment 417 of 642\n",
      "Param = 5.00000 - classifier Evaluation Experiment 418 of 642\n",
      "Param = 5.00000 - classifier Evaluation Experiment 419 of 642\n",
      "Param = 5.00000 - classifier Evaluation Experiment 420 of 642\n",
      "Param = 5.00000 - classifier Evaluation Experiment 421 of 642\n",
      "Param = 5.00000 - classifier Evaluation Experiment 422 of 642\n",
      "Param = 5.00000 - classifier Evaluation Experiment 423 of 642\n",
      "Param = 5.00000 - classifier Evaluation Experiment 424 of 642\n",
      "Param = 5.00000 - classifier Evaluation Experiment 425 of 642\n",
      "Param = 5.00000 - classifier Evaluation Experiment 426 of 642\n",
      "Param = 5.00000 - classifier Evaluation Experiment 427 of 642\n",
      "Param = 5.00000 - classifier Evaluation Experiment 428 of 642\n",
      "Param = 5.00000 - classifier Evaluation Experiment 429 of 642\n",
      "Param = 5.00000 - classifier Evaluation Experiment 430 of 642\n",
      "Param = 5.00000 - classifier Evaluation Experiment 431 of 642\n",
      "Param = 5.00000 - classifier Evaluation Experiment 432 of 642\n",
      "Param = 5.00000 - classifier Evaluation Experiment 433 of 642\n",
      "Param = 5.00000 - classifier Evaluation Experiment 434 of 642\n",
      "Param = 5.00000 - classifier Evaluation Experiment 435 of 642\n",
      "Param = 5.00000 - classifier Evaluation Experiment 436 of 642\n",
      "Param = 5.00000 - classifier Evaluation Experiment 437 of 642\n",
      "Param = 5.00000 - classifier Evaluation Experiment 438 of 642\n",
      "Param = 5.00000 - classifier Evaluation Experiment 439 of 642\n",
      "Param = 5.00000 - classifier Evaluation Experiment 440 of 642\n",
      "Param = 5.00000 - classifier Evaluation Experiment 441 of 642\n",
      "Param = 5.00000 - classifier Evaluation Experiment 442 of 642\n",
      "Param = 5.00000 - classifier Evaluation Experiment 443 of 642\n",
      "Param = 5.00000 - classifier Evaluation Experiment 444 of 642\n",
      "Param = 5.00000 - classifier Evaluation Experiment 445 of 642\n",
      "Param = 5.00000 - classifier Evaluation Experiment 446 of 642\n",
      "Param = 5.00000 - classifier Evaluation Experiment 447 of 642\n",
      "Param = 5.00000 - classifier Evaluation Experiment 448 of 642\n",
      "Param = 5.00000 - classifier Evaluation Experiment 449 of 642\n",
      "Param = 5.00000 - classifier Evaluation Experiment 450 of 642\n",
      "Param = 5.00000 - classifier Evaluation Experiment 451 of 642\n",
      "Param = 5.00000 - classifier Evaluation Experiment 452 of 642\n",
      "Param = 5.00000 - classifier Evaluation Experiment 453 of 642\n",
      "Param = 5.00000 - classifier Evaluation Experiment 454 of 642\n",
      "Param = 5.00000 - classifier Evaluation Experiment 455 of 642\n",
      "Param = 5.00000 - classifier Evaluation Experiment 456 of 642\n",
      "Param = 5.00000 - classifier Evaluation Experiment 457 of 642\n",
      "Param = 5.00000 - classifier Evaluation Experiment 458 of 642\n",
      "Param = 5.00000 - classifier Evaluation Experiment 459 of 642\n",
      "Param = 5.00000 - classifier Evaluation Experiment 460 of 642\n",
      "Param = 5.00000 - classifier Evaluation Experiment 461 of 642\n",
      "Param = 5.00000 - classifier Evaluation Experiment 462 of 642\n",
      "Param = 5.00000 - classifier Evaluation Experiment 463 of 642\n",
      "Param = 5.00000 - classifier Evaluation Experiment 464 of 642\n",
      "Param = 5.00000 - classifier Evaluation Experiment 465 of 642\n",
      "Param = 5.00000 - classifier Evaluation Experiment 466 of 642\n",
      "Param = 5.00000 - classifier Evaluation Experiment 467 of 642\n",
      "Param = 5.00000 - classifier Evaluation Experiment 468 of 642\n",
      "Param = 5.00000 - classifier Evaluation Experiment 469 of 642\n",
      "Param = 5.00000 - classifier Evaluation Experiment 470 of 642\n",
      "Param = 5.00000 - classifier Evaluation Experiment 471 of 642\n",
      "Param = 5.00000 - classifier Evaluation Experiment 472 of 642\n",
      "Param = 5.00000 - classifier Evaluation Experiment 473 of 642\n",
      "Param = 5.00000 - classifier Evaluation Experiment 474 of 642\n",
      "Param = 5.00000 - classifier Evaluation Experiment 475 of 642\n",
      "Param = 5.00000 - classifier Evaluation Experiment 476 of 642\n",
      "Param = 5.00000 - classifier Evaluation Experiment 477 of 642\n",
      "Param = 5.00000 - classifier Evaluation Experiment 478 of 642\n",
      "Param = 5.00000 - classifier Evaluation Experiment 479 of 642\n",
      "Param = 5.00000 - classifier Evaluation Experiment 480 of 642\n",
      "Param = 5.00000 - classifier Evaluation Experiment 481 of 642\n",
      "Param = 5.00000 - classifier Evaluation Experiment 482 of 642\n",
      "Param = 5.00000 - classifier Evaluation Experiment 483 of 642\n",
      "Param = 5.00000 - classifier Evaluation Experiment 484 of 642\n",
      "Param = 5.00000 - classifier Evaluation Experiment 485 of 642\n",
      "Param = 5.00000 - classifier Evaluation Experiment 486 of 642\n",
      "Param = 5.00000 - classifier Evaluation Experiment 487 of 642\n",
      "Param = 5.00000 - classifier Evaluation Experiment 488 of 642\n",
      "Param = 5.00000 - classifier Evaluation Experiment 489 of 642\n",
      "Param = 5.00000 - classifier Evaluation Experiment 490 of 642\n",
      "Param = 5.00000 - classifier Evaluation Experiment 491 of 642\n",
      "Param = 5.00000 - classifier Evaluation Experiment 492 of 642\n",
      "Param = 5.00000 - classifier Evaluation Experiment 493 of 642\n",
      "Param = 5.00000 - classifier Evaluation Experiment 494 of 642\n",
      "Param = 5.00000 - classifier Evaluation Experiment 495 of 642\n",
      "Param = 5.00000 - classifier Evaluation Experiment 496 of 642\n",
      "Param = 5.00000 - classifier Evaluation Experiment 497 of 642\n",
      "Param = 5.00000 - classifier Evaluation Experiment 498 of 642\n",
      "Param = 5.00000 - classifier Evaluation Experiment 499 of 642\n",
      "Param = 5.00000 - classifier Evaluation Experiment 500 of 642\n",
      "Param = 5.00000 - classifier Evaluation Experiment 501 of 642\n",
      "Param = 5.00000 - classifier Evaluation Experiment 502 of 642\n",
      "Param = 5.00000 - classifier Evaluation Experiment 503 of 642\n",
      "Param = 5.00000 - classifier Evaluation Experiment 504 of 642\n",
      "Param = 5.00000 - classifier Evaluation Experiment 505 of 642\n",
      "Param = 5.00000 - classifier Evaluation Experiment 506 of 642\n",
      "Param = 5.00000 - classifier Evaluation Experiment 507 of 642\n",
      "Param = 5.00000 - classifier Evaluation Experiment 508 of 642\n",
      "Param = 5.00000 - classifier Evaluation Experiment 509 of 642\n",
      "Param = 5.00000 - classifier Evaluation Experiment 510 of 642\n",
      "Param = 5.00000 - classifier Evaluation Experiment 511 of 642\n",
      "Param = 5.00000 - classifier Evaluation Experiment 512 of 642\n",
      "Param = 5.00000 - classifier Evaluation Experiment 513 of 642\n",
      "Param = 5.00000 - classifier Evaluation Experiment 514 of 642\n",
      "Param = 5.00000 - classifier Evaluation Experiment 515 of 642\n",
      "Param = 5.00000 - classifier Evaluation Experiment 516 of 642\n",
      "Param = 5.00000 - classifier Evaluation Experiment 517 of 642\n",
      "Param = 5.00000 - classifier Evaluation Experiment 518 of 642\n",
      "Param = 5.00000 - classifier Evaluation Experiment 519 of 642\n",
      "Param = 5.00000 - classifier Evaluation Experiment 520 of 642\n",
      "Param = 5.00000 - classifier Evaluation Experiment 521 of 642\n",
      "Param = 5.00000 - classifier Evaluation Experiment 522 of 642\n",
      "Param = 5.00000 - classifier Evaluation Experiment 523 of 642\n",
      "Param = 5.00000 - classifier Evaluation Experiment 524 of 642\n",
      "Param = 5.00000 - classifier Evaluation Experiment 525 of 642\n",
      "Param = 5.00000 - classifier Evaluation Experiment 526 of 642\n",
      "Param = 5.00000 - classifier Evaluation Experiment 527 of 642\n",
      "Param = 5.00000 - classifier Evaluation Experiment 528 of 642\n",
      "Param = 5.00000 - classifier Evaluation Experiment 529 of 642\n",
      "Param = 5.00000 - classifier Evaluation Experiment 530 of 642\n",
      "Param = 5.00000 - classifier Evaluation Experiment 531 of 642\n",
      "Param = 5.00000 - classifier Evaluation Experiment 532 of 642\n",
      "Param = 5.00000 - classifier Evaluation Experiment 533 of 642\n",
      "Param = 5.00000 - classifier Evaluation Experiment 534 of 642\n",
      "Param = 5.00000 - classifier Evaluation Experiment 535 of 642\n",
      "Param = 5.00000 - classifier Evaluation Experiment 536 of 642\n",
      "Param = 5.00000 - classifier Evaluation Experiment 537 of 642\n",
      "Param = 5.00000 - classifier Evaluation Experiment 538 of 642\n",
      "Param = 5.00000 - classifier Evaluation Experiment 539 of 642\n",
      "Param = 5.00000 - classifier Evaluation Experiment 540 of 642\n",
      "Param = 5.00000 - classifier Evaluation Experiment 541 of 642\n",
      "Param = 5.00000 - classifier Evaluation Experiment 542 of 642\n",
      "Param = 5.00000 - classifier Evaluation Experiment 543 of 642\n",
      "Param = 5.00000 - classifier Evaluation Experiment 544 of 642\n",
      "Param = 5.00000 - classifier Evaluation Experiment 545 of 642\n",
      "Param = 5.00000 - classifier Evaluation Experiment 546 of 642\n",
      "Param = 5.00000 - classifier Evaluation Experiment 547 of 642\n",
      "Param = 5.00000 - classifier Evaluation Experiment 548 of 642\n",
      "Param = 5.00000 - classifier Evaluation Experiment 549 of 642\n",
      "Param = 5.00000 - classifier Evaluation Experiment 550 of 642\n",
      "Param = 5.00000 - classifier Evaluation Experiment 551 of 642\n",
      "Param = 5.00000 - classifier Evaluation Experiment 552 of 642\n",
      "Param = 5.00000 - classifier Evaluation Experiment 553 of 642\n",
      "Param = 5.00000 - classifier Evaluation Experiment 554 of 642\n",
      "Param = 5.00000 - classifier Evaluation Experiment 555 of 642\n",
      "Param = 5.00000 - classifier Evaluation Experiment 556 of 642\n",
      "Param = 5.00000 - classifier Evaluation Experiment 557 of 642\n",
      "Param = 5.00000 - classifier Evaluation Experiment 558 of 642\n",
      "Param = 5.00000 - classifier Evaluation Experiment 559 of 642\n",
      "Param = 5.00000 - classifier Evaluation Experiment 560 of 642\n",
      "Param = 5.00000 - classifier Evaluation Experiment 561 of 642\n",
      "Param = 5.00000 - classifier Evaluation Experiment 562 of 642\n",
      "Param = 5.00000 - classifier Evaluation Experiment 563 of 642\n",
      "Param = 5.00000 - classifier Evaluation Experiment 564 of 642\n",
      "Param = 5.00000 - classifier Evaluation Experiment 565 of 642\n",
      "Param = 5.00000 - classifier Evaluation Experiment 566 of 642\n",
      "Param = 5.00000 - classifier Evaluation Experiment 567 of 642\n",
      "Param = 5.00000 - classifier Evaluation Experiment 568 of 642\n",
      "Param = 5.00000 - classifier Evaluation Experiment 569 of 642\n",
      "Param = 5.00000 - classifier Evaluation Experiment 570 of 642\n",
      "Param = 5.00000 - classifier Evaluation Experiment 571 of 642\n",
      "Param = 5.00000 - classifier Evaluation Experiment 572 of 642\n",
      "Param = 5.00000 - classifier Evaluation Experiment 573 of 642\n",
      "Param = 5.00000 - classifier Evaluation Experiment 574 of 642\n",
      "Param = 5.00000 - classifier Evaluation Experiment 575 of 642\n",
      "Param = 5.00000 - classifier Evaluation Experiment 576 of 642\n",
      "Param = 5.00000 - classifier Evaluation Experiment 577 of 642\n",
      "Param = 5.00000 - classifier Evaluation Experiment 578 of 642\n",
      "Param = 5.00000 - classifier Evaluation Experiment 579 of 642\n",
      "Param = 5.00000 - classifier Evaluation Experiment 580 of 642\n",
      "Param = 5.00000 - classifier Evaluation Experiment 581 of 642\n",
      "Param = 5.00000 - classifier Evaluation Experiment 582 of 642\n",
      "Param = 5.00000 - classifier Evaluation Experiment 583 of 642\n",
      "Param = 5.00000 - classifier Evaluation Experiment 584 of 642\n",
      "Param = 5.00000 - classifier Evaluation Experiment 585 of 642\n",
      "Param = 5.00000 - classifier Evaluation Experiment 586 of 642\n",
      "Param = 5.00000 - classifier Evaluation Experiment 587 of 642\n",
      "Param = 5.00000 - classifier Evaluation Experiment 588 of 642\n",
      "Param = 5.00000 - classifier Evaluation Experiment 589 of 642\n",
      "Param = 5.00000 - classifier Evaluation Experiment 590 of 642\n",
      "Param = 5.00000 - classifier Evaluation Experiment 591 of 642\n",
      "Param = 5.00000 - classifier Evaluation Experiment 592 of 642\n",
      "Param = 5.00000 - classifier Evaluation Experiment 593 of 642\n",
      "Param = 5.00000 - classifier Evaluation Experiment 594 of 642\n",
      "Param = 5.00000 - classifier Evaluation Experiment 595 of 642\n",
      "Param = 5.00000 - classifier Evaluation Experiment 596 of 642\n",
      "Param = 5.00000 - classifier Evaluation Experiment 597 of 642\n",
      "Param = 5.00000 - classifier Evaluation Experiment 598 of 642\n",
      "Param = 5.00000 - classifier Evaluation Experiment 599 of 642\n",
      "Param = 5.00000 - classifier Evaluation Experiment 600 of 642\n",
      "Param = 5.00000 - classifier Evaluation Experiment 601 of 642\n",
      "Param = 5.00000 - classifier Evaluation Experiment 602 of 642\n",
      "Param = 5.00000 - classifier Evaluation Experiment 603 of 642\n",
      "Param = 5.00000 - classifier Evaluation Experiment 604 of 642\n",
      "Param = 5.00000 - classifier Evaluation Experiment 605 of 642\n",
      "Param = 5.00000 - classifier Evaluation Experiment 606 of 642\n",
      "Param = 5.00000 - classifier Evaluation Experiment 607 of 642\n",
      "Param = 5.00000 - classifier Evaluation Experiment 608 of 642\n",
      "Param = 5.00000 - classifier Evaluation Experiment 609 of 642\n",
      "Param = 5.00000 - classifier Evaluation Experiment 610 of 642\n",
      "Param = 5.00000 - classifier Evaluation Experiment 611 of 642\n",
      "Param = 5.00000 - classifier Evaluation Experiment 612 of 642\n",
      "Param = 5.00000 - classifier Evaluation Experiment 613 of 642\n",
      "Param = 5.00000 - classifier Evaluation Experiment 614 of 642\n",
      "Param = 5.00000 - classifier Evaluation Experiment 615 of 642\n",
      "Param = 5.00000 - classifier Evaluation Experiment 616 of 642\n",
      "Param = 5.00000 - classifier Evaluation Experiment 617 of 642\n",
      "Param = 5.00000 - classifier Evaluation Experiment 618 of 642\n",
      "Param = 5.00000 - classifier Evaluation Experiment 619 of 642\n",
      "Param = 5.00000 - classifier Evaluation Experiment 620 of 642\n",
      "Param = 5.00000 - classifier Evaluation Experiment 621 of 642\n",
      "Param = 5.00000 - classifier Evaluation Experiment 622 of 642\n",
      "Param = 5.00000 - classifier Evaluation Experiment 623 of 642\n",
      "Param = 5.00000 - classifier Evaluation Experiment 624 of 642\n",
      "Param = 5.00000 - classifier Evaluation Experiment 625 of 642\n",
      "Param = 5.00000 - classifier Evaluation Experiment 626 of 642\n",
      "Param = 5.00000 - classifier Evaluation Experiment 627 of 642\n",
      "Param = 5.00000 - classifier Evaluation Experiment 628 of 642\n",
      "Param = 5.00000 - classifier Evaluation Experiment 629 of 642\n",
      "Param = 5.00000 - classifier Evaluation Experiment 630 of 642\n",
      "Param = 5.00000 - classifier Evaluation Experiment 631 of 642\n",
      "Param = 5.00000 - classifier Evaluation Experiment 632 of 642\n",
      "Param = 5.00000 - classifier Evaluation Experiment 633 of 642\n",
      "Param = 5.00000 - classifier Evaluation Experiment 634 of 642\n",
      "Param = 5.00000 - classifier Evaluation Experiment 635 of 642\n",
      "Param = 5.00000 - classifier Evaluation Experiment 636 of 642\n",
      "Param = 5.00000 - classifier Evaluation Experiment 637 of 642\n",
      "Param = 5.00000 - classifier Evaluation Experiment 638 of 642\n",
      "Param = 5.00000 - classifier Evaluation Experiment 639 of 642\n",
      "Param = 5.00000 - classifier Evaluation Experiment 640 of 642\n",
      "Param = 5.00000 - classifier Evaluation Experiment 641 of 642\n",
      "Param = 5.00000 - classifier Evaluation Experiment 642 of 642\n",
      "Param = 10.00000 - classifier Evaluation Experiment 1 of 642\n",
      "Param = 10.00000 - classifier Evaluation Experiment 2 of 642\n",
      "Param = 10.00000 - classifier Evaluation Experiment 3 of 642\n",
      "Param = 10.00000 - classifier Evaluation Experiment 4 of 642\n",
      "Param = 10.00000 - classifier Evaluation Experiment 5 of 642\n",
      "Param = 10.00000 - classifier Evaluation Experiment 6 of 642\n",
      "Param = 10.00000 - classifier Evaluation Experiment 7 of 642\n",
      "Param = 10.00000 - classifier Evaluation Experiment 8 of 642\n",
      "Param = 10.00000 - classifier Evaluation Experiment 9 of 642\n",
      "Param = 10.00000 - classifier Evaluation Experiment 10 of 642\n",
      "Param = 10.00000 - classifier Evaluation Experiment 11 of 642\n",
      "Param = 10.00000 - classifier Evaluation Experiment 12 of 642\n",
      "Param = 10.00000 - classifier Evaluation Experiment 13 of 642\n",
      "Param = 10.00000 - classifier Evaluation Experiment 14 of 642\n",
      "Param = 10.00000 - classifier Evaluation Experiment 15 of 642\n",
      "Param = 10.00000 - classifier Evaluation Experiment 16 of 642\n",
      "Param = 10.00000 - classifier Evaluation Experiment 17 of 642\n",
      "Param = 10.00000 - classifier Evaluation Experiment 18 of 642\n",
      "Param = 10.00000 - classifier Evaluation Experiment 19 of 642\n",
      "Param = 10.00000 - classifier Evaluation Experiment 20 of 642\n",
      "Param = 10.00000 - classifier Evaluation Experiment 21 of 642\n",
      "Param = 10.00000 - classifier Evaluation Experiment 22 of 642\n",
      "Param = 10.00000 - classifier Evaluation Experiment 23 of 642\n",
      "Param = 10.00000 - classifier Evaluation Experiment 24 of 642\n",
      "Param = 10.00000 - classifier Evaluation Experiment 25 of 642\n",
      "Param = 10.00000 - classifier Evaluation Experiment 26 of 642\n",
      "Param = 10.00000 - classifier Evaluation Experiment 27 of 642\n",
      "Param = 10.00000 - classifier Evaluation Experiment 28 of 642\n",
      "Param = 10.00000 - classifier Evaluation Experiment 29 of 642\n",
      "Param = 10.00000 - classifier Evaluation Experiment 30 of 642\n",
      "Param = 10.00000 - classifier Evaluation Experiment 31 of 642\n",
      "Param = 10.00000 - classifier Evaluation Experiment 32 of 642\n",
      "Param = 10.00000 - classifier Evaluation Experiment 33 of 642\n",
      "Param = 10.00000 - classifier Evaluation Experiment 34 of 642\n",
      "Param = 10.00000 - classifier Evaluation Experiment 35 of 642\n",
      "Param = 10.00000 - classifier Evaluation Experiment 36 of 642\n",
      "Param = 10.00000 - classifier Evaluation Experiment 37 of 642\n",
      "Param = 10.00000 - classifier Evaluation Experiment 38 of 642\n",
      "Param = 10.00000 - classifier Evaluation Experiment 39 of 642\n",
      "Param = 10.00000 - classifier Evaluation Experiment 40 of 642\n",
      "Param = 10.00000 - classifier Evaluation Experiment 41 of 642\n",
      "Param = 10.00000 - classifier Evaluation Experiment 42 of 642\n",
      "Param = 10.00000 - classifier Evaluation Experiment 43 of 642\n",
      "Param = 10.00000 - classifier Evaluation Experiment 44 of 642\n",
      "Param = 10.00000 - classifier Evaluation Experiment 45 of 642\n",
      "Param = 10.00000 - classifier Evaluation Experiment 46 of 642\n",
      "Param = 10.00000 - classifier Evaluation Experiment 47 of 642\n",
      "Param = 10.00000 - classifier Evaluation Experiment 48 of 642\n",
      "Param = 10.00000 - classifier Evaluation Experiment 49 of 642\n",
      "Param = 10.00000 - classifier Evaluation Experiment 50 of 642\n",
      "Param = 10.00000 - classifier Evaluation Experiment 51 of 642\n",
      "Param = 10.00000 - classifier Evaluation Experiment 52 of 642\n",
      "Param = 10.00000 - classifier Evaluation Experiment 53 of 642\n",
      "Param = 10.00000 - classifier Evaluation Experiment 54 of 642\n",
      "Param = 10.00000 - classifier Evaluation Experiment 55 of 642\n",
      "Param = 10.00000 - classifier Evaluation Experiment 56 of 642\n",
      "Param = 10.00000 - classifier Evaluation Experiment 57 of 642\n",
      "Param = 10.00000 - classifier Evaluation Experiment 58 of 642\n",
      "Param = 10.00000 - classifier Evaluation Experiment 59 of 642\n",
      "Param = 10.00000 - classifier Evaluation Experiment 60 of 642\n",
      "Param = 10.00000 - classifier Evaluation Experiment 61 of 642\n",
      "Param = 10.00000 - classifier Evaluation Experiment 62 of 642\n",
      "Param = 10.00000 - classifier Evaluation Experiment 63 of 642\n",
      "Param = 10.00000 - classifier Evaluation Experiment 64 of 642\n",
      "Param = 10.00000 - classifier Evaluation Experiment 65 of 642\n",
      "Param = 10.00000 - classifier Evaluation Experiment 66 of 642\n",
      "Param = 10.00000 - classifier Evaluation Experiment 67 of 642\n",
      "Param = 10.00000 - classifier Evaluation Experiment 68 of 642\n",
      "Param = 10.00000 - classifier Evaluation Experiment 69 of 642\n",
      "Param = 10.00000 - classifier Evaluation Experiment 70 of 642\n",
      "Param = 10.00000 - classifier Evaluation Experiment 71 of 642\n",
      "Param = 10.00000 - classifier Evaluation Experiment 72 of 642\n",
      "Param = 10.00000 - classifier Evaluation Experiment 73 of 642\n",
      "Param = 10.00000 - classifier Evaluation Experiment 74 of 642\n",
      "Param = 10.00000 - classifier Evaluation Experiment 75 of 642\n",
      "Param = 10.00000 - classifier Evaluation Experiment 76 of 642\n",
      "Param = 10.00000 - classifier Evaluation Experiment 77 of 642\n",
      "Param = 10.00000 - classifier Evaluation Experiment 78 of 642\n",
      "Param = 10.00000 - classifier Evaluation Experiment 79 of 642\n",
      "Param = 10.00000 - classifier Evaluation Experiment 80 of 642\n",
      "Param = 10.00000 - classifier Evaluation Experiment 81 of 642\n",
      "Param = 10.00000 - classifier Evaluation Experiment 82 of 642\n",
      "Param = 10.00000 - classifier Evaluation Experiment 83 of 642\n",
      "Param = 10.00000 - classifier Evaluation Experiment 84 of 642\n",
      "Param = 10.00000 - classifier Evaluation Experiment 85 of 642\n",
      "Param = 10.00000 - classifier Evaluation Experiment 86 of 642\n",
      "Param = 10.00000 - classifier Evaluation Experiment 87 of 642\n",
      "Param = 10.00000 - classifier Evaluation Experiment 88 of 642\n",
      "Param = 10.00000 - classifier Evaluation Experiment 89 of 642\n",
      "Param = 10.00000 - classifier Evaluation Experiment 90 of 642\n",
      "Param = 10.00000 - classifier Evaluation Experiment 91 of 642\n",
      "Param = 10.00000 - classifier Evaluation Experiment 92 of 642\n",
      "Param = 10.00000 - classifier Evaluation Experiment 93 of 642\n",
      "Param = 10.00000 - classifier Evaluation Experiment 94 of 642\n",
      "Param = 10.00000 - classifier Evaluation Experiment 95 of 642\n",
      "Param = 10.00000 - classifier Evaluation Experiment 96 of 642\n",
      "Param = 10.00000 - classifier Evaluation Experiment 97 of 642\n",
      "Param = 10.00000 - classifier Evaluation Experiment 98 of 642\n",
      "Param = 10.00000 - classifier Evaluation Experiment 99 of 642\n",
      "Param = 10.00000 - classifier Evaluation Experiment 100 of 642\n",
      "Param = 10.00000 - classifier Evaluation Experiment 101 of 642\n",
      "Param = 10.00000 - classifier Evaluation Experiment 102 of 642\n",
      "Param = 10.00000 - classifier Evaluation Experiment 103 of 642\n",
      "Param = 10.00000 - classifier Evaluation Experiment 104 of 642\n",
      "Param = 10.00000 - classifier Evaluation Experiment 105 of 642\n",
      "Param = 10.00000 - classifier Evaluation Experiment 106 of 642\n",
      "Param = 10.00000 - classifier Evaluation Experiment 107 of 642\n",
      "Param = 10.00000 - classifier Evaluation Experiment 108 of 642\n",
      "Param = 10.00000 - classifier Evaluation Experiment 109 of 642\n",
      "Param = 10.00000 - classifier Evaluation Experiment 110 of 642\n",
      "Param = 10.00000 - classifier Evaluation Experiment 111 of 642\n",
      "Param = 10.00000 - classifier Evaluation Experiment 112 of 642\n",
      "Param = 10.00000 - classifier Evaluation Experiment 113 of 642\n",
      "Param = 10.00000 - classifier Evaluation Experiment 114 of 642\n",
      "Param = 10.00000 - classifier Evaluation Experiment 115 of 642\n",
      "Param = 10.00000 - classifier Evaluation Experiment 116 of 642\n",
      "Param = 10.00000 - classifier Evaluation Experiment 117 of 642\n",
      "Param = 10.00000 - classifier Evaluation Experiment 118 of 642\n",
      "Param = 10.00000 - classifier Evaluation Experiment 119 of 642\n",
      "Param = 10.00000 - classifier Evaluation Experiment 120 of 642\n",
      "Param = 10.00000 - classifier Evaluation Experiment 121 of 642\n",
      "Param = 10.00000 - classifier Evaluation Experiment 122 of 642\n",
      "Param = 10.00000 - classifier Evaluation Experiment 123 of 642\n",
      "Param = 10.00000 - classifier Evaluation Experiment 124 of 642\n",
      "Param = 10.00000 - classifier Evaluation Experiment 125 of 642\n",
      "Param = 10.00000 - classifier Evaluation Experiment 126 of 642\n",
      "Param = 10.00000 - classifier Evaluation Experiment 127 of 642\n",
      "Param = 10.00000 - classifier Evaluation Experiment 128 of 642\n",
      "Param = 10.00000 - classifier Evaluation Experiment 129 of 642\n",
      "Param = 10.00000 - classifier Evaluation Experiment 130 of 642\n",
      "Param = 10.00000 - classifier Evaluation Experiment 131 of 642\n",
      "Param = 10.00000 - classifier Evaluation Experiment 132 of 642\n",
      "Param = 10.00000 - classifier Evaluation Experiment 133 of 642\n",
      "Param = 10.00000 - classifier Evaluation Experiment 134 of 642\n",
      "Param = 10.00000 - classifier Evaluation Experiment 135 of 642\n",
      "Param = 10.00000 - classifier Evaluation Experiment 136 of 642\n",
      "Param = 10.00000 - classifier Evaluation Experiment 137 of 642\n",
      "Param = 10.00000 - classifier Evaluation Experiment 138 of 642\n",
      "Param = 10.00000 - classifier Evaluation Experiment 139 of 642\n",
      "Param = 10.00000 - classifier Evaluation Experiment 140 of 642\n",
      "Param = 10.00000 - classifier Evaluation Experiment 141 of 642\n",
      "Param = 10.00000 - classifier Evaluation Experiment 142 of 642\n",
      "Param = 10.00000 - classifier Evaluation Experiment 143 of 642\n",
      "Param = 10.00000 - classifier Evaluation Experiment 144 of 642\n",
      "Param = 10.00000 - classifier Evaluation Experiment 145 of 642\n",
      "Param = 10.00000 - classifier Evaluation Experiment 146 of 642\n",
      "Param = 10.00000 - classifier Evaluation Experiment 147 of 642\n",
      "Param = 10.00000 - classifier Evaluation Experiment 148 of 642\n",
      "Param = 10.00000 - classifier Evaluation Experiment 149 of 642\n",
      "Param = 10.00000 - classifier Evaluation Experiment 150 of 642\n",
      "Param = 10.00000 - classifier Evaluation Experiment 151 of 642\n",
      "Param = 10.00000 - classifier Evaluation Experiment 152 of 642\n",
      "Param = 10.00000 - classifier Evaluation Experiment 153 of 642\n",
      "Param = 10.00000 - classifier Evaluation Experiment 154 of 642\n",
      "Param = 10.00000 - classifier Evaluation Experiment 155 of 642\n",
      "Param = 10.00000 - classifier Evaluation Experiment 156 of 642\n",
      "Param = 10.00000 - classifier Evaluation Experiment 157 of 642\n",
      "Param = 10.00000 - classifier Evaluation Experiment 158 of 642\n",
      "Param = 10.00000 - classifier Evaluation Experiment 159 of 642\n",
      "Param = 10.00000 - classifier Evaluation Experiment 160 of 642\n",
      "Param = 10.00000 - classifier Evaluation Experiment 161 of 642\n",
      "Param = 10.00000 - classifier Evaluation Experiment 162 of 642\n",
      "Param = 10.00000 - classifier Evaluation Experiment 163 of 642\n",
      "Param = 10.00000 - classifier Evaluation Experiment 164 of 642\n",
      "Param = 10.00000 - classifier Evaluation Experiment 165 of 642\n",
      "Param = 10.00000 - classifier Evaluation Experiment 166 of 642\n",
      "Param = 10.00000 - classifier Evaluation Experiment 167 of 642\n",
      "Param = 10.00000 - classifier Evaluation Experiment 168 of 642\n",
      "Param = 10.00000 - classifier Evaluation Experiment 169 of 642\n",
      "Param = 10.00000 - classifier Evaluation Experiment 170 of 642\n",
      "Param = 10.00000 - classifier Evaluation Experiment 171 of 642\n",
      "Param = 10.00000 - classifier Evaluation Experiment 172 of 642\n",
      "Param = 10.00000 - classifier Evaluation Experiment 173 of 642\n",
      "Param = 10.00000 - classifier Evaluation Experiment 174 of 642\n",
      "Param = 10.00000 - classifier Evaluation Experiment 175 of 642\n",
      "Param = 10.00000 - classifier Evaluation Experiment 176 of 642\n",
      "Param = 10.00000 - classifier Evaluation Experiment 177 of 642\n",
      "Param = 10.00000 - classifier Evaluation Experiment 178 of 642\n",
      "Param = 10.00000 - classifier Evaluation Experiment 179 of 642\n",
      "Param = 10.00000 - classifier Evaluation Experiment 180 of 642\n",
      "Param = 10.00000 - classifier Evaluation Experiment 181 of 642\n",
      "Param = 10.00000 - classifier Evaluation Experiment 182 of 642\n",
      "Param = 10.00000 - classifier Evaluation Experiment 183 of 642\n",
      "Param = 10.00000 - classifier Evaluation Experiment 184 of 642\n",
      "Param = 10.00000 - classifier Evaluation Experiment 185 of 642\n",
      "Param = 10.00000 - classifier Evaluation Experiment 186 of 642\n",
      "Param = 10.00000 - classifier Evaluation Experiment 187 of 642\n",
      "Param = 10.00000 - classifier Evaluation Experiment 188 of 642\n",
      "Param = 10.00000 - classifier Evaluation Experiment 189 of 642\n",
      "Param = 10.00000 - classifier Evaluation Experiment 190 of 642\n",
      "Param = 10.00000 - classifier Evaluation Experiment 191 of 642\n",
      "Param = 10.00000 - classifier Evaluation Experiment 192 of 642\n",
      "Param = 10.00000 - classifier Evaluation Experiment 193 of 642\n",
      "Param = 10.00000 - classifier Evaluation Experiment 194 of 642\n",
      "Param = 10.00000 - classifier Evaluation Experiment 195 of 642\n",
      "Param = 10.00000 - classifier Evaluation Experiment 196 of 642\n",
      "Param = 10.00000 - classifier Evaluation Experiment 197 of 642\n",
      "Param = 10.00000 - classifier Evaluation Experiment 198 of 642\n",
      "Param = 10.00000 - classifier Evaluation Experiment 199 of 642\n",
      "Param = 10.00000 - classifier Evaluation Experiment 200 of 642\n",
      "Param = 10.00000 - classifier Evaluation Experiment 201 of 642\n",
      "Param = 10.00000 - classifier Evaluation Experiment 202 of 642\n",
      "Param = 10.00000 - classifier Evaluation Experiment 203 of 642\n",
      "Param = 10.00000 - classifier Evaluation Experiment 204 of 642\n",
      "Param = 10.00000 - classifier Evaluation Experiment 205 of 642\n",
      "Param = 10.00000 - classifier Evaluation Experiment 206 of 642\n",
      "Param = 10.00000 - classifier Evaluation Experiment 207 of 642\n",
      "Param = 10.00000 - classifier Evaluation Experiment 208 of 642\n",
      "Param = 10.00000 - classifier Evaluation Experiment 209 of 642\n",
      "Param = 10.00000 - classifier Evaluation Experiment 210 of 642\n",
      "Param = 10.00000 - classifier Evaluation Experiment 211 of 642\n",
      "Param = 10.00000 - classifier Evaluation Experiment 212 of 642\n",
      "Param = 10.00000 - classifier Evaluation Experiment 213 of 642\n",
      "Param = 10.00000 - classifier Evaluation Experiment 214 of 642\n",
      "Param = 10.00000 - classifier Evaluation Experiment 215 of 642\n",
      "Param = 10.00000 - classifier Evaluation Experiment 216 of 642\n",
      "Param = 10.00000 - classifier Evaluation Experiment 217 of 642\n",
      "Param = 10.00000 - classifier Evaluation Experiment 218 of 642\n",
      "Param = 10.00000 - classifier Evaluation Experiment 219 of 642\n",
      "Param = 10.00000 - classifier Evaluation Experiment 220 of 642\n",
      "Param = 10.00000 - classifier Evaluation Experiment 221 of 642\n",
      "Param = 10.00000 - classifier Evaluation Experiment 222 of 642\n",
      "Param = 10.00000 - classifier Evaluation Experiment 223 of 642\n",
      "Param = 10.00000 - classifier Evaluation Experiment 224 of 642\n",
      "Param = 10.00000 - classifier Evaluation Experiment 225 of 642\n",
      "Param = 10.00000 - classifier Evaluation Experiment 226 of 642\n",
      "Param = 10.00000 - classifier Evaluation Experiment 227 of 642\n",
      "Param = 10.00000 - classifier Evaluation Experiment 228 of 642\n",
      "Param = 10.00000 - classifier Evaluation Experiment 229 of 642\n",
      "Param = 10.00000 - classifier Evaluation Experiment 230 of 642\n",
      "Param = 10.00000 - classifier Evaluation Experiment 231 of 642\n",
      "Param = 10.00000 - classifier Evaluation Experiment 232 of 642\n",
      "Param = 10.00000 - classifier Evaluation Experiment 233 of 642\n",
      "Param = 10.00000 - classifier Evaluation Experiment 234 of 642\n",
      "Param = 10.00000 - classifier Evaluation Experiment 235 of 642\n",
      "Param = 10.00000 - classifier Evaluation Experiment 236 of 642\n",
      "Param = 10.00000 - classifier Evaluation Experiment 237 of 642\n",
      "Param = 10.00000 - classifier Evaluation Experiment 238 of 642\n",
      "Param = 10.00000 - classifier Evaluation Experiment 239 of 642\n",
      "Param = 10.00000 - classifier Evaluation Experiment 240 of 642\n",
      "Param = 10.00000 - classifier Evaluation Experiment 241 of 642\n",
      "Param = 10.00000 - classifier Evaluation Experiment 242 of 642\n",
      "Param = 10.00000 - classifier Evaluation Experiment 243 of 642\n",
      "Param = 10.00000 - classifier Evaluation Experiment 244 of 642\n",
      "Param = 10.00000 - classifier Evaluation Experiment 245 of 642\n",
      "Param = 10.00000 - classifier Evaluation Experiment 246 of 642\n",
      "Param = 10.00000 - classifier Evaluation Experiment 247 of 642\n",
      "Param = 10.00000 - classifier Evaluation Experiment 248 of 642\n",
      "Param = 10.00000 - classifier Evaluation Experiment 249 of 642\n",
      "Param = 10.00000 - classifier Evaluation Experiment 250 of 642\n",
      "Param = 10.00000 - classifier Evaluation Experiment 251 of 642\n",
      "Param = 10.00000 - classifier Evaluation Experiment 252 of 642\n",
      "Param = 10.00000 - classifier Evaluation Experiment 253 of 642\n",
      "Param = 10.00000 - classifier Evaluation Experiment 254 of 642\n",
      "Param = 10.00000 - classifier Evaluation Experiment 255 of 642\n",
      "Param = 10.00000 - classifier Evaluation Experiment 256 of 642\n",
      "Param = 10.00000 - classifier Evaluation Experiment 257 of 642\n",
      "Param = 10.00000 - classifier Evaluation Experiment 258 of 642\n",
      "Param = 10.00000 - classifier Evaluation Experiment 259 of 642\n",
      "Param = 10.00000 - classifier Evaluation Experiment 260 of 642\n",
      "Param = 10.00000 - classifier Evaluation Experiment 261 of 642\n",
      "Param = 10.00000 - classifier Evaluation Experiment 262 of 642\n",
      "Param = 10.00000 - classifier Evaluation Experiment 263 of 642\n",
      "Param = 10.00000 - classifier Evaluation Experiment 264 of 642\n",
      "Param = 10.00000 - classifier Evaluation Experiment 265 of 642\n",
      "Param = 10.00000 - classifier Evaluation Experiment 266 of 642\n",
      "Param = 10.00000 - classifier Evaluation Experiment 267 of 642\n",
      "Param = 10.00000 - classifier Evaluation Experiment 268 of 642\n",
      "Param = 10.00000 - classifier Evaluation Experiment 269 of 642\n",
      "Param = 10.00000 - classifier Evaluation Experiment 270 of 642\n",
      "Param = 10.00000 - classifier Evaluation Experiment 271 of 642\n",
      "Param = 10.00000 - classifier Evaluation Experiment 272 of 642\n",
      "Param = 10.00000 - classifier Evaluation Experiment 273 of 642\n",
      "Param = 10.00000 - classifier Evaluation Experiment 274 of 642\n",
      "Param = 10.00000 - classifier Evaluation Experiment 275 of 642\n",
      "Param = 10.00000 - classifier Evaluation Experiment 276 of 642\n",
      "Param = 10.00000 - classifier Evaluation Experiment 277 of 642\n",
      "Param = 10.00000 - classifier Evaluation Experiment 278 of 642\n",
      "Param = 10.00000 - classifier Evaluation Experiment 279 of 642\n",
      "Param = 10.00000 - classifier Evaluation Experiment 280 of 642\n",
      "Param = 10.00000 - classifier Evaluation Experiment 281 of 642\n",
      "Param = 10.00000 - classifier Evaluation Experiment 282 of 642\n",
      "Param = 10.00000 - classifier Evaluation Experiment 283 of 642\n",
      "Param = 10.00000 - classifier Evaluation Experiment 284 of 642\n",
      "Param = 10.00000 - classifier Evaluation Experiment 285 of 642\n",
      "Param = 10.00000 - classifier Evaluation Experiment 286 of 642\n",
      "Param = 10.00000 - classifier Evaluation Experiment 287 of 642\n",
      "Param = 10.00000 - classifier Evaluation Experiment 288 of 642\n",
      "Param = 10.00000 - classifier Evaluation Experiment 289 of 642\n",
      "Param = 10.00000 - classifier Evaluation Experiment 290 of 642\n",
      "Param = 10.00000 - classifier Evaluation Experiment 291 of 642\n",
      "Param = 10.00000 - classifier Evaluation Experiment 292 of 642\n",
      "Param = 10.00000 - classifier Evaluation Experiment 293 of 642\n",
      "Param = 10.00000 - classifier Evaluation Experiment 294 of 642\n",
      "Param = 10.00000 - classifier Evaluation Experiment 295 of 642\n",
      "Param = 10.00000 - classifier Evaluation Experiment 296 of 642\n",
      "Param = 10.00000 - classifier Evaluation Experiment 297 of 642\n",
      "Param = 10.00000 - classifier Evaluation Experiment 298 of 642\n",
      "Param = 10.00000 - classifier Evaluation Experiment 299 of 642\n",
      "Param = 10.00000 - classifier Evaluation Experiment 300 of 642\n",
      "Param = 10.00000 - classifier Evaluation Experiment 301 of 642\n",
      "Param = 10.00000 - classifier Evaluation Experiment 302 of 642\n",
      "Param = 10.00000 - classifier Evaluation Experiment 303 of 642\n",
      "Param = 10.00000 - classifier Evaluation Experiment 304 of 642\n",
      "Param = 10.00000 - classifier Evaluation Experiment 305 of 642\n",
      "Param = 10.00000 - classifier Evaluation Experiment 306 of 642\n",
      "Param = 10.00000 - classifier Evaluation Experiment 307 of 642\n",
      "Param = 10.00000 - classifier Evaluation Experiment 308 of 642\n",
      "Param = 10.00000 - classifier Evaluation Experiment 309 of 642\n",
      "Param = 10.00000 - classifier Evaluation Experiment 310 of 642\n",
      "Param = 10.00000 - classifier Evaluation Experiment 311 of 642\n",
      "Param = 10.00000 - classifier Evaluation Experiment 312 of 642\n",
      "Param = 10.00000 - classifier Evaluation Experiment 313 of 642\n",
      "Param = 10.00000 - classifier Evaluation Experiment 314 of 642\n",
      "Param = 10.00000 - classifier Evaluation Experiment 315 of 642\n",
      "Param = 10.00000 - classifier Evaluation Experiment 316 of 642\n",
      "Param = 10.00000 - classifier Evaluation Experiment 317 of 642\n",
      "Param = 10.00000 - classifier Evaluation Experiment 318 of 642\n",
      "Param = 10.00000 - classifier Evaluation Experiment 319 of 642\n",
      "Param = 10.00000 - classifier Evaluation Experiment 320 of 642\n",
      "Param = 10.00000 - classifier Evaluation Experiment 321 of 642\n",
      "Param = 10.00000 - classifier Evaluation Experiment 322 of 642\n",
      "Param = 10.00000 - classifier Evaluation Experiment 323 of 642\n",
      "Param = 10.00000 - classifier Evaluation Experiment 324 of 642\n",
      "Param = 10.00000 - classifier Evaluation Experiment 325 of 642\n",
      "Param = 10.00000 - classifier Evaluation Experiment 326 of 642\n",
      "Param = 10.00000 - classifier Evaluation Experiment 327 of 642\n",
      "Param = 10.00000 - classifier Evaluation Experiment 328 of 642\n",
      "Param = 10.00000 - classifier Evaluation Experiment 329 of 642\n",
      "Param = 10.00000 - classifier Evaluation Experiment 330 of 642\n",
      "Param = 10.00000 - classifier Evaluation Experiment 331 of 642\n",
      "Param = 10.00000 - classifier Evaluation Experiment 332 of 642\n",
      "Param = 10.00000 - classifier Evaluation Experiment 333 of 642\n",
      "Param = 10.00000 - classifier Evaluation Experiment 334 of 642\n",
      "Param = 10.00000 - classifier Evaluation Experiment 335 of 642\n",
      "Param = 10.00000 - classifier Evaluation Experiment 336 of 642\n",
      "Param = 10.00000 - classifier Evaluation Experiment 337 of 642\n",
      "Param = 10.00000 - classifier Evaluation Experiment 338 of 642\n",
      "Param = 10.00000 - classifier Evaluation Experiment 339 of 642\n",
      "Param = 10.00000 - classifier Evaluation Experiment 340 of 642\n",
      "Param = 10.00000 - classifier Evaluation Experiment 341 of 642\n",
      "Param = 10.00000 - classifier Evaluation Experiment 342 of 642\n",
      "Param = 10.00000 - classifier Evaluation Experiment 343 of 642\n",
      "Param = 10.00000 - classifier Evaluation Experiment 344 of 642\n",
      "Param = 10.00000 - classifier Evaluation Experiment 345 of 642\n",
      "Param = 10.00000 - classifier Evaluation Experiment 346 of 642\n",
      "Param = 10.00000 - classifier Evaluation Experiment 347 of 642\n",
      "Param = 10.00000 - classifier Evaluation Experiment 348 of 642\n",
      "Param = 10.00000 - classifier Evaluation Experiment 349 of 642\n",
      "Param = 10.00000 - classifier Evaluation Experiment 350 of 642\n",
      "Param = 10.00000 - classifier Evaluation Experiment 351 of 642\n",
      "Param = 10.00000 - classifier Evaluation Experiment 352 of 642\n",
      "Param = 10.00000 - classifier Evaluation Experiment 353 of 642\n",
      "Param = 10.00000 - classifier Evaluation Experiment 354 of 642\n",
      "Param = 10.00000 - classifier Evaluation Experiment 355 of 642\n",
      "Param = 10.00000 - classifier Evaluation Experiment 356 of 642\n",
      "Param = 10.00000 - classifier Evaluation Experiment 357 of 642\n",
      "Param = 10.00000 - classifier Evaluation Experiment 358 of 642\n",
      "Param = 10.00000 - classifier Evaluation Experiment 359 of 642\n",
      "Param = 10.00000 - classifier Evaluation Experiment 360 of 642\n",
      "Param = 10.00000 - classifier Evaluation Experiment 361 of 642\n",
      "Param = 10.00000 - classifier Evaluation Experiment 362 of 642\n",
      "Param = 10.00000 - classifier Evaluation Experiment 363 of 642\n",
      "Param = 10.00000 - classifier Evaluation Experiment 364 of 642\n",
      "Param = 10.00000 - classifier Evaluation Experiment 365 of 642\n",
      "Param = 10.00000 - classifier Evaluation Experiment 366 of 642\n",
      "Param = 10.00000 - classifier Evaluation Experiment 367 of 642\n",
      "Param = 10.00000 - classifier Evaluation Experiment 368 of 642\n",
      "Param = 10.00000 - classifier Evaluation Experiment 369 of 642\n",
      "Param = 10.00000 - classifier Evaluation Experiment 370 of 642\n",
      "Param = 10.00000 - classifier Evaluation Experiment 371 of 642\n",
      "Param = 10.00000 - classifier Evaluation Experiment 372 of 642\n",
      "Param = 10.00000 - classifier Evaluation Experiment 373 of 642\n",
      "Param = 10.00000 - classifier Evaluation Experiment 374 of 642\n",
      "Param = 10.00000 - classifier Evaluation Experiment 375 of 642\n",
      "Param = 10.00000 - classifier Evaluation Experiment 376 of 642\n",
      "Param = 10.00000 - classifier Evaluation Experiment 377 of 642\n",
      "Param = 10.00000 - classifier Evaluation Experiment 378 of 642\n",
      "Param = 10.00000 - classifier Evaluation Experiment 379 of 642\n",
      "Param = 10.00000 - classifier Evaluation Experiment 380 of 642\n",
      "Param = 10.00000 - classifier Evaluation Experiment 381 of 642\n",
      "Param = 10.00000 - classifier Evaluation Experiment 382 of 642\n",
      "Param = 10.00000 - classifier Evaluation Experiment 383 of 642\n",
      "Param = 10.00000 - classifier Evaluation Experiment 384 of 642\n",
      "Param = 10.00000 - classifier Evaluation Experiment 385 of 642\n",
      "Param = 10.00000 - classifier Evaluation Experiment 386 of 642\n",
      "Param = 10.00000 - classifier Evaluation Experiment 387 of 642\n",
      "Param = 10.00000 - classifier Evaluation Experiment 388 of 642\n",
      "Param = 10.00000 - classifier Evaluation Experiment 389 of 642\n",
      "Param = 10.00000 - classifier Evaluation Experiment 390 of 642\n",
      "Param = 10.00000 - classifier Evaluation Experiment 391 of 642\n",
      "Param = 10.00000 - classifier Evaluation Experiment 392 of 642\n",
      "Param = 10.00000 - classifier Evaluation Experiment 393 of 642\n",
      "Param = 10.00000 - classifier Evaluation Experiment 394 of 642\n",
      "Param = 10.00000 - classifier Evaluation Experiment 395 of 642\n",
      "Param = 10.00000 - classifier Evaluation Experiment 396 of 642\n",
      "Param = 10.00000 - classifier Evaluation Experiment 397 of 642\n",
      "Param = 10.00000 - classifier Evaluation Experiment 398 of 642\n",
      "Param = 10.00000 - classifier Evaluation Experiment 399 of 642\n",
      "Param = 10.00000 - classifier Evaluation Experiment 400 of 642\n",
      "Param = 10.00000 - classifier Evaluation Experiment 401 of 642\n",
      "Param = 10.00000 - classifier Evaluation Experiment 402 of 642\n",
      "Param = 10.00000 - classifier Evaluation Experiment 403 of 642\n",
      "Param = 10.00000 - classifier Evaluation Experiment 404 of 642\n",
      "Param = 10.00000 - classifier Evaluation Experiment 405 of 642\n",
      "Param = 10.00000 - classifier Evaluation Experiment 406 of 642\n",
      "Param = 10.00000 - classifier Evaluation Experiment 407 of 642\n",
      "Param = 10.00000 - classifier Evaluation Experiment 408 of 642\n",
      "Param = 10.00000 - classifier Evaluation Experiment 409 of 642\n",
      "Param = 10.00000 - classifier Evaluation Experiment 410 of 642\n",
      "Param = 10.00000 - classifier Evaluation Experiment 411 of 642\n",
      "Param = 10.00000 - classifier Evaluation Experiment 412 of 642\n",
      "Param = 10.00000 - classifier Evaluation Experiment 413 of 642\n",
      "Param = 10.00000 - classifier Evaluation Experiment 414 of 642\n",
      "Param = 10.00000 - classifier Evaluation Experiment 415 of 642\n",
      "Param = 10.00000 - classifier Evaluation Experiment 416 of 642\n",
      "Param = 10.00000 - classifier Evaluation Experiment 417 of 642\n",
      "Param = 10.00000 - classifier Evaluation Experiment 418 of 642\n",
      "Param = 10.00000 - classifier Evaluation Experiment 419 of 642\n",
      "Param = 10.00000 - classifier Evaluation Experiment 420 of 642\n",
      "Param = 10.00000 - classifier Evaluation Experiment 421 of 642\n",
      "Param = 10.00000 - classifier Evaluation Experiment 422 of 642\n",
      "Param = 10.00000 - classifier Evaluation Experiment 423 of 642\n",
      "Param = 10.00000 - classifier Evaluation Experiment 424 of 642\n",
      "Param = 10.00000 - classifier Evaluation Experiment 425 of 642\n",
      "Param = 10.00000 - classifier Evaluation Experiment 426 of 642\n",
      "Param = 10.00000 - classifier Evaluation Experiment 427 of 642\n",
      "Param = 10.00000 - classifier Evaluation Experiment 428 of 642\n",
      "Param = 10.00000 - classifier Evaluation Experiment 429 of 642\n",
      "Param = 10.00000 - classifier Evaluation Experiment 430 of 642\n",
      "Param = 10.00000 - classifier Evaluation Experiment 431 of 642\n",
      "Param = 10.00000 - classifier Evaluation Experiment 432 of 642\n",
      "Param = 10.00000 - classifier Evaluation Experiment 433 of 642\n",
      "Param = 10.00000 - classifier Evaluation Experiment 434 of 642\n",
      "Param = 10.00000 - classifier Evaluation Experiment 435 of 642\n",
      "Param = 10.00000 - classifier Evaluation Experiment 436 of 642\n",
      "Param = 10.00000 - classifier Evaluation Experiment 437 of 642\n",
      "Param = 10.00000 - classifier Evaluation Experiment 438 of 642\n",
      "Param = 10.00000 - classifier Evaluation Experiment 439 of 642\n",
      "Param = 10.00000 - classifier Evaluation Experiment 440 of 642\n",
      "Param = 10.00000 - classifier Evaluation Experiment 441 of 642\n",
      "Param = 10.00000 - classifier Evaluation Experiment 442 of 642\n",
      "Param = 10.00000 - classifier Evaluation Experiment 443 of 642\n",
      "Param = 10.00000 - classifier Evaluation Experiment 444 of 642\n",
      "Param = 10.00000 - classifier Evaluation Experiment 445 of 642\n",
      "Param = 10.00000 - classifier Evaluation Experiment 446 of 642\n",
      "Param = 10.00000 - classifier Evaluation Experiment 447 of 642\n",
      "Param = 10.00000 - classifier Evaluation Experiment 448 of 642\n",
      "Param = 10.00000 - classifier Evaluation Experiment 449 of 642\n",
      "Param = 10.00000 - classifier Evaluation Experiment 450 of 642\n",
      "Param = 10.00000 - classifier Evaluation Experiment 451 of 642\n",
      "Param = 10.00000 - classifier Evaluation Experiment 452 of 642\n",
      "Param = 10.00000 - classifier Evaluation Experiment 453 of 642\n",
      "Param = 10.00000 - classifier Evaluation Experiment 454 of 642\n",
      "Param = 10.00000 - classifier Evaluation Experiment 455 of 642\n",
      "Param = 10.00000 - classifier Evaluation Experiment 456 of 642\n",
      "Param = 10.00000 - classifier Evaluation Experiment 457 of 642\n",
      "Param = 10.00000 - classifier Evaluation Experiment 458 of 642\n",
      "Param = 10.00000 - classifier Evaluation Experiment 459 of 642\n",
      "Param = 10.00000 - classifier Evaluation Experiment 460 of 642\n",
      "Param = 10.00000 - classifier Evaluation Experiment 461 of 642\n",
      "Param = 10.00000 - classifier Evaluation Experiment 462 of 642\n",
      "Param = 10.00000 - classifier Evaluation Experiment 463 of 642\n",
      "Param = 10.00000 - classifier Evaluation Experiment 464 of 642\n",
      "Param = 10.00000 - classifier Evaluation Experiment 465 of 642\n",
      "Param = 10.00000 - classifier Evaluation Experiment 466 of 642\n",
      "Param = 10.00000 - classifier Evaluation Experiment 467 of 642\n",
      "Param = 10.00000 - classifier Evaluation Experiment 468 of 642\n",
      "Param = 10.00000 - classifier Evaluation Experiment 469 of 642\n",
      "Param = 10.00000 - classifier Evaluation Experiment 470 of 642\n",
      "Param = 10.00000 - classifier Evaluation Experiment 471 of 642\n",
      "Param = 10.00000 - classifier Evaluation Experiment 472 of 642\n",
      "Param = 10.00000 - classifier Evaluation Experiment 473 of 642\n",
      "Param = 10.00000 - classifier Evaluation Experiment 474 of 642\n",
      "Param = 10.00000 - classifier Evaluation Experiment 475 of 642\n",
      "Param = 10.00000 - classifier Evaluation Experiment 476 of 642\n",
      "Param = 10.00000 - classifier Evaluation Experiment 477 of 642\n",
      "Param = 10.00000 - classifier Evaluation Experiment 478 of 642\n",
      "Param = 10.00000 - classifier Evaluation Experiment 479 of 642\n",
      "Param = 10.00000 - classifier Evaluation Experiment 480 of 642\n",
      "Param = 10.00000 - classifier Evaluation Experiment 481 of 642\n",
      "Param = 10.00000 - classifier Evaluation Experiment 482 of 642\n",
      "Param = 10.00000 - classifier Evaluation Experiment 483 of 642\n",
      "Param = 10.00000 - classifier Evaluation Experiment 484 of 642\n",
      "Param = 10.00000 - classifier Evaluation Experiment 485 of 642\n",
      "Param = 10.00000 - classifier Evaluation Experiment 486 of 642\n",
      "Param = 10.00000 - classifier Evaluation Experiment 487 of 642\n",
      "Param = 10.00000 - classifier Evaluation Experiment 488 of 642\n",
      "Param = 10.00000 - classifier Evaluation Experiment 489 of 642\n",
      "Param = 10.00000 - classifier Evaluation Experiment 490 of 642\n",
      "Param = 10.00000 - classifier Evaluation Experiment 491 of 642\n",
      "Param = 10.00000 - classifier Evaluation Experiment 492 of 642\n",
      "Param = 10.00000 - classifier Evaluation Experiment 493 of 642\n",
      "Param = 10.00000 - classifier Evaluation Experiment 494 of 642\n",
      "Param = 10.00000 - classifier Evaluation Experiment 495 of 642\n",
      "Param = 10.00000 - classifier Evaluation Experiment 496 of 642\n",
      "Param = 10.00000 - classifier Evaluation Experiment 497 of 642\n",
      "Param = 10.00000 - classifier Evaluation Experiment 498 of 642\n",
      "Param = 10.00000 - classifier Evaluation Experiment 499 of 642\n",
      "Param = 10.00000 - classifier Evaluation Experiment 500 of 642\n",
      "Param = 10.00000 - classifier Evaluation Experiment 501 of 642\n",
      "Param = 10.00000 - classifier Evaluation Experiment 502 of 642\n",
      "Param = 10.00000 - classifier Evaluation Experiment 503 of 642\n",
      "Param = 10.00000 - classifier Evaluation Experiment 504 of 642\n",
      "Param = 10.00000 - classifier Evaluation Experiment 505 of 642\n",
      "Param = 10.00000 - classifier Evaluation Experiment 506 of 642\n",
      "Param = 10.00000 - classifier Evaluation Experiment 507 of 642\n",
      "Param = 10.00000 - classifier Evaluation Experiment 508 of 642\n",
      "Param = 10.00000 - classifier Evaluation Experiment 509 of 642\n",
      "Param = 10.00000 - classifier Evaluation Experiment 510 of 642\n",
      "Param = 10.00000 - classifier Evaluation Experiment 511 of 642\n",
      "Param = 10.00000 - classifier Evaluation Experiment 512 of 642\n",
      "Param = 10.00000 - classifier Evaluation Experiment 513 of 642\n",
      "Param = 10.00000 - classifier Evaluation Experiment 514 of 642\n",
      "Param = 10.00000 - classifier Evaluation Experiment 515 of 642\n",
      "Param = 10.00000 - classifier Evaluation Experiment 516 of 642\n",
      "Param = 10.00000 - classifier Evaluation Experiment 517 of 642\n",
      "Param = 10.00000 - classifier Evaluation Experiment 518 of 642\n",
      "Param = 10.00000 - classifier Evaluation Experiment 519 of 642\n",
      "Param = 10.00000 - classifier Evaluation Experiment 520 of 642\n",
      "Param = 10.00000 - classifier Evaluation Experiment 521 of 642\n",
      "Param = 10.00000 - classifier Evaluation Experiment 522 of 642\n",
      "Param = 10.00000 - classifier Evaluation Experiment 523 of 642\n",
      "Param = 10.00000 - classifier Evaluation Experiment 524 of 642\n",
      "Param = 10.00000 - classifier Evaluation Experiment 525 of 642\n",
      "Param = 10.00000 - classifier Evaluation Experiment 526 of 642\n",
      "Param = 10.00000 - classifier Evaluation Experiment 527 of 642\n",
      "Param = 10.00000 - classifier Evaluation Experiment 528 of 642\n",
      "Param = 10.00000 - classifier Evaluation Experiment 529 of 642\n",
      "Param = 10.00000 - classifier Evaluation Experiment 530 of 642\n",
      "Param = 10.00000 - classifier Evaluation Experiment 531 of 642\n",
      "Param = 10.00000 - classifier Evaluation Experiment 532 of 642\n",
      "Param = 10.00000 - classifier Evaluation Experiment 533 of 642\n",
      "Param = 10.00000 - classifier Evaluation Experiment 534 of 642\n",
      "Param = 10.00000 - classifier Evaluation Experiment 535 of 642\n",
      "Param = 10.00000 - classifier Evaluation Experiment 536 of 642\n",
      "Param = 10.00000 - classifier Evaluation Experiment 537 of 642\n",
      "Param = 10.00000 - classifier Evaluation Experiment 538 of 642\n",
      "Param = 10.00000 - classifier Evaluation Experiment 539 of 642\n",
      "Param = 10.00000 - classifier Evaluation Experiment 540 of 642\n",
      "Param = 10.00000 - classifier Evaluation Experiment 541 of 642\n",
      "Param = 10.00000 - classifier Evaluation Experiment 542 of 642\n",
      "Param = 10.00000 - classifier Evaluation Experiment 543 of 642\n",
      "Param = 10.00000 - classifier Evaluation Experiment 544 of 642\n",
      "Param = 10.00000 - classifier Evaluation Experiment 545 of 642\n",
      "Param = 10.00000 - classifier Evaluation Experiment 546 of 642\n",
      "Param = 10.00000 - classifier Evaluation Experiment 547 of 642\n",
      "Param = 10.00000 - classifier Evaluation Experiment 548 of 642\n",
      "Param = 10.00000 - classifier Evaluation Experiment 549 of 642\n",
      "Param = 10.00000 - classifier Evaluation Experiment 550 of 642\n",
      "Param = 10.00000 - classifier Evaluation Experiment 551 of 642\n",
      "Param = 10.00000 - classifier Evaluation Experiment 552 of 642\n",
      "Param = 10.00000 - classifier Evaluation Experiment 553 of 642\n",
      "Param = 10.00000 - classifier Evaluation Experiment 554 of 642\n",
      "Param = 10.00000 - classifier Evaluation Experiment 555 of 642\n",
      "Param = 10.00000 - classifier Evaluation Experiment 556 of 642\n",
      "Param = 10.00000 - classifier Evaluation Experiment 557 of 642\n",
      "Param = 10.00000 - classifier Evaluation Experiment 558 of 642\n",
      "Param = 10.00000 - classifier Evaluation Experiment 559 of 642\n",
      "Param = 10.00000 - classifier Evaluation Experiment 560 of 642\n",
      "Param = 10.00000 - classifier Evaluation Experiment 561 of 642\n",
      "Param = 10.00000 - classifier Evaluation Experiment 562 of 642\n",
      "Param = 10.00000 - classifier Evaluation Experiment 563 of 642\n",
      "Param = 10.00000 - classifier Evaluation Experiment 564 of 642\n",
      "Param = 10.00000 - classifier Evaluation Experiment 565 of 642\n",
      "Param = 10.00000 - classifier Evaluation Experiment 566 of 642\n",
      "Param = 10.00000 - classifier Evaluation Experiment 567 of 642\n",
      "Param = 10.00000 - classifier Evaluation Experiment 568 of 642\n",
      "Param = 10.00000 - classifier Evaluation Experiment 569 of 642\n",
      "Param = 10.00000 - classifier Evaluation Experiment 570 of 642\n",
      "Param = 10.00000 - classifier Evaluation Experiment 571 of 642\n",
      "Param = 10.00000 - classifier Evaluation Experiment 572 of 642\n",
      "Param = 10.00000 - classifier Evaluation Experiment 573 of 642\n",
      "Param = 10.00000 - classifier Evaluation Experiment 574 of 642\n",
      "Param = 10.00000 - classifier Evaluation Experiment 575 of 642\n",
      "Param = 10.00000 - classifier Evaluation Experiment 576 of 642\n",
      "Param = 10.00000 - classifier Evaluation Experiment 577 of 642\n",
      "Param = 10.00000 - classifier Evaluation Experiment 578 of 642\n",
      "Param = 10.00000 - classifier Evaluation Experiment 579 of 642\n",
      "Param = 10.00000 - classifier Evaluation Experiment 580 of 642\n",
      "Param = 10.00000 - classifier Evaluation Experiment 581 of 642\n",
      "Param = 10.00000 - classifier Evaluation Experiment 582 of 642\n",
      "Param = 10.00000 - classifier Evaluation Experiment 583 of 642\n",
      "Param = 10.00000 - classifier Evaluation Experiment 584 of 642\n",
      "Param = 10.00000 - classifier Evaluation Experiment 585 of 642\n",
      "Param = 10.00000 - classifier Evaluation Experiment 586 of 642\n",
      "Param = 10.00000 - classifier Evaluation Experiment 587 of 642\n",
      "Param = 10.00000 - classifier Evaluation Experiment 588 of 642\n",
      "Param = 10.00000 - classifier Evaluation Experiment 589 of 642\n",
      "Param = 10.00000 - classifier Evaluation Experiment 590 of 642\n",
      "Param = 10.00000 - classifier Evaluation Experiment 591 of 642\n",
      "Param = 10.00000 - classifier Evaluation Experiment 592 of 642\n",
      "Param = 10.00000 - classifier Evaluation Experiment 593 of 642\n",
      "Param = 10.00000 - classifier Evaluation Experiment 594 of 642\n",
      "Param = 10.00000 - classifier Evaluation Experiment 595 of 642\n",
      "Param = 10.00000 - classifier Evaluation Experiment 596 of 642\n",
      "Param = 10.00000 - classifier Evaluation Experiment 597 of 642\n",
      "Param = 10.00000 - classifier Evaluation Experiment 598 of 642\n",
      "Param = 10.00000 - classifier Evaluation Experiment 599 of 642\n",
      "Param = 10.00000 - classifier Evaluation Experiment 600 of 642\n",
      "Param = 10.00000 - classifier Evaluation Experiment 601 of 642\n",
      "Param = 10.00000 - classifier Evaluation Experiment 602 of 642\n",
      "Param = 10.00000 - classifier Evaluation Experiment 603 of 642\n",
      "Param = 10.00000 - classifier Evaluation Experiment 604 of 642\n",
      "Param = 10.00000 - classifier Evaluation Experiment 605 of 642\n",
      "Param = 10.00000 - classifier Evaluation Experiment 606 of 642\n",
      "Param = 10.00000 - classifier Evaluation Experiment 607 of 642\n",
      "Param = 10.00000 - classifier Evaluation Experiment 608 of 642\n",
      "Param = 10.00000 - classifier Evaluation Experiment 609 of 642\n",
      "Param = 10.00000 - classifier Evaluation Experiment 610 of 642\n",
      "Param = 10.00000 - classifier Evaluation Experiment 611 of 642\n",
      "Param = 10.00000 - classifier Evaluation Experiment 612 of 642\n",
      "Param = 10.00000 - classifier Evaluation Experiment 613 of 642\n",
      "Param = 10.00000 - classifier Evaluation Experiment 614 of 642\n",
      "Param = 10.00000 - classifier Evaluation Experiment 615 of 642\n",
      "Param = 10.00000 - classifier Evaluation Experiment 616 of 642\n",
      "Param = 10.00000 - classifier Evaluation Experiment 617 of 642\n",
      "Param = 10.00000 - classifier Evaluation Experiment 618 of 642\n",
      "Param = 10.00000 - classifier Evaluation Experiment 619 of 642\n",
      "Param = 10.00000 - classifier Evaluation Experiment 620 of 642\n",
      "Param = 10.00000 - classifier Evaluation Experiment 621 of 642\n",
      "Param = 10.00000 - classifier Evaluation Experiment 622 of 642\n",
      "Param = 10.00000 - classifier Evaluation Experiment 623 of 642\n",
      "Param = 10.00000 - classifier Evaluation Experiment 624 of 642\n",
      "Param = 10.00000 - classifier Evaluation Experiment 625 of 642\n",
      "Param = 10.00000 - classifier Evaluation Experiment 626 of 642\n",
      "Param = 10.00000 - classifier Evaluation Experiment 627 of 642\n",
      "Param = 10.00000 - classifier Evaluation Experiment 628 of 642\n",
      "Param = 10.00000 - classifier Evaluation Experiment 629 of 642\n",
      "Param = 10.00000 - classifier Evaluation Experiment 630 of 642\n",
      "Param = 10.00000 - classifier Evaluation Experiment 631 of 642\n",
      "Param = 10.00000 - classifier Evaluation Experiment 632 of 642\n",
      "Param = 10.00000 - classifier Evaluation Experiment 633 of 642\n",
      "Param = 10.00000 - classifier Evaluation Experiment 634 of 642\n",
      "Param = 10.00000 - classifier Evaluation Experiment 635 of 642\n",
      "Param = 10.00000 - classifier Evaluation Experiment 636 of 642\n",
      "Param = 10.00000 - classifier Evaluation Experiment 637 of 642\n",
      "Param = 10.00000 - classifier Evaluation Experiment 638 of 642\n",
      "Param = 10.00000 - classifier Evaluation Experiment 639 of 642\n",
      "Param = 10.00000 - classifier Evaluation Experiment 640 of 642\n",
      "Param = 10.00000 - classifier Evaluation Experiment 641 of 642\n",
      "Param = 10.00000 - classifier Evaluation Experiment 642 of 642\n",
      "Param = 20.00000 - classifier Evaluation Experiment 1 of 642\n",
      "Param = 20.00000 - classifier Evaluation Experiment 2 of 642\n",
      "Param = 20.00000 - classifier Evaluation Experiment 3 of 642\n",
      "Param = 20.00000 - classifier Evaluation Experiment 4 of 642\n",
      "Param = 20.00000 - classifier Evaluation Experiment 5 of 642\n",
      "Param = 20.00000 - classifier Evaluation Experiment 6 of 642\n",
      "Param = 20.00000 - classifier Evaluation Experiment 7 of 642\n",
      "Param = 20.00000 - classifier Evaluation Experiment 8 of 642\n",
      "Param = 20.00000 - classifier Evaluation Experiment 9 of 642\n",
      "Param = 20.00000 - classifier Evaluation Experiment 10 of 642\n",
      "Param = 20.00000 - classifier Evaluation Experiment 11 of 642\n",
      "Param = 20.00000 - classifier Evaluation Experiment 12 of 642\n",
      "Param = 20.00000 - classifier Evaluation Experiment 13 of 642\n",
      "Param = 20.00000 - classifier Evaluation Experiment 14 of 642\n",
      "Param = 20.00000 - classifier Evaluation Experiment 15 of 642\n",
      "Param = 20.00000 - classifier Evaluation Experiment 16 of 642\n",
      "Param = 20.00000 - classifier Evaluation Experiment 17 of 642\n",
      "Param = 20.00000 - classifier Evaluation Experiment 18 of 642\n",
      "Param = 20.00000 - classifier Evaluation Experiment 19 of 642\n",
      "Param = 20.00000 - classifier Evaluation Experiment 20 of 642\n",
      "Param = 20.00000 - classifier Evaluation Experiment 21 of 642\n",
      "Param = 20.00000 - classifier Evaluation Experiment 22 of 642\n",
      "Param = 20.00000 - classifier Evaluation Experiment 23 of 642\n",
      "Param = 20.00000 - classifier Evaluation Experiment 24 of 642\n",
      "Param = 20.00000 - classifier Evaluation Experiment 25 of 642\n",
      "Param = 20.00000 - classifier Evaluation Experiment 26 of 642\n",
      "Param = 20.00000 - classifier Evaluation Experiment 27 of 642\n",
      "Param = 20.00000 - classifier Evaluation Experiment 28 of 642\n",
      "Param = 20.00000 - classifier Evaluation Experiment 29 of 642\n",
      "Param = 20.00000 - classifier Evaluation Experiment 30 of 642\n",
      "Param = 20.00000 - classifier Evaluation Experiment 31 of 642\n",
      "Param = 20.00000 - classifier Evaluation Experiment 32 of 642\n",
      "Param = 20.00000 - classifier Evaluation Experiment 33 of 642\n",
      "Param = 20.00000 - classifier Evaluation Experiment 34 of 642\n",
      "Param = 20.00000 - classifier Evaluation Experiment 35 of 642\n",
      "Param = 20.00000 - classifier Evaluation Experiment 36 of 642\n",
      "Param = 20.00000 - classifier Evaluation Experiment 37 of 642\n",
      "Param = 20.00000 - classifier Evaluation Experiment 38 of 642\n",
      "Param = 20.00000 - classifier Evaluation Experiment 39 of 642\n",
      "Param = 20.00000 - classifier Evaluation Experiment 40 of 642\n",
      "Param = 20.00000 - classifier Evaluation Experiment 41 of 642\n",
      "Param = 20.00000 - classifier Evaluation Experiment 42 of 642\n",
      "Param = 20.00000 - classifier Evaluation Experiment 43 of 642\n",
      "Param = 20.00000 - classifier Evaluation Experiment 44 of 642\n",
      "Param = 20.00000 - classifier Evaluation Experiment 45 of 642\n",
      "Param = 20.00000 - classifier Evaluation Experiment 46 of 642\n",
      "Param = 20.00000 - classifier Evaluation Experiment 47 of 642\n",
      "Param = 20.00000 - classifier Evaluation Experiment 48 of 642\n",
      "Param = 20.00000 - classifier Evaluation Experiment 49 of 642\n",
      "Param = 20.00000 - classifier Evaluation Experiment 50 of 642\n",
      "Param = 20.00000 - classifier Evaluation Experiment 51 of 642\n",
      "Param = 20.00000 - classifier Evaluation Experiment 52 of 642\n",
      "Param = 20.00000 - classifier Evaluation Experiment 53 of 642\n",
      "Param = 20.00000 - classifier Evaluation Experiment 54 of 642\n",
      "Param = 20.00000 - classifier Evaluation Experiment 55 of 642\n",
      "Param = 20.00000 - classifier Evaluation Experiment 56 of 642\n",
      "Param = 20.00000 - classifier Evaluation Experiment 57 of 642\n",
      "Param = 20.00000 - classifier Evaluation Experiment 58 of 642\n",
      "Param = 20.00000 - classifier Evaluation Experiment 59 of 642\n",
      "Param = 20.00000 - classifier Evaluation Experiment 60 of 642\n",
      "Param = 20.00000 - classifier Evaluation Experiment 61 of 642\n",
      "Param = 20.00000 - classifier Evaluation Experiment 62 of 642\n",
      "Param = 20.00000 - classifier Evaluation Experiment 63 of 642\n",
      "Param = 20.00000 - classifier Evaluation Experiment 64 of 642\n",
      "Param = 20.00000 - classifier Evaluation Experiment 65 of 642\n",
      "Param = 20.00000 - classifier Evaluation Experiment 66 of 642\n",
      "Param = 20.00000 - classifier Evaluation Experiment 67 of 642\n",
      "Param = 20.00000 - classifier Evaluation Experiment 68 of 642\n",
      "Param = 20.00000 - classifier Evaluation Experiment 69 of 642\n",
      "Param = 20.00000 - classifier Evaluation Experiment 70 of 642\n",
      "Param = 20.00000 - classifier Evaluation Experiment 71 of 642\n",
      "Param = 20.00000 - classifier Evaluation Experiment 72 of 642\n",
      "Param = 20.00000 - classifier Evaluation Experiment 73 of 642\n",
      "Param = 20.00000 - classifier Evaluation Experiment 74 of 642\n",
      "Param = 20.00000 - classifier Evaluation Experiment 75 of 642\n",
      "Param = 20.00000 - classifier Evaluation Experiment 76 of 642\n",
      "Param = 20.00000 - classifier Evaluation Experiment 77 of 642\n",
      "Param = 20.00000 - classifier Evaluation Experiment 78 of 642\n",
      "Param = 20.00000 - classifier Evaluation Experiment 79 of 642\n",
      "Param = 20.00000 - classifier Evaluation Experiment 80 of 642\n",
      "Param = 20.00000 - classifier Evaluation Experiment 81 of 642\n",
      "Param = 20.00000 - classifier Evaluation Experiment 82 of 642\n",
      "Param = 20.00000 - classifier Evaluation Experiment 83 of 642\n",
      "Param = 20.00000 - classifier Evaluation Experiment 84 of 642\n",
      "Param = 20.00000 - classifier Evaluation Experiment 85 of 642\n",
      "Param = 20.00000 - classifier Evaluation Experiment 86 of 642\n",
      "Param = 20.00000 - classifier Evaluation Experiment 87 of 642\n",
      "Param = 20.00000 - classifier Evaluation Experiment 88 of 642\n",
      "Param = 20.00000 - classifier Evaluation Experiment 89 of 642\n",
      "Param = 20.00000 - classifier Evaluation Experiment 90 of 642\n",
      "Param = 20.00000 - classifier Evaluation Experiment 91 of 642\n",
      "Param = 20.00000 - classifier Evaluation Experiment 92 of 642\n",
      "Param = 20.00000 - classifier Evaluation Experiment 93 of 642\n",
      "Param = 20.00000 - classifier Evaluation Experiment 94 of 642\n",
      "Param = 20.00000 - classifier Evaluation Experiment 95 of 642\n",
      "Param = 20.00000 - classifier Evaluation Experiment 96 of 642\n",
      "Param = 20.00000 - classifier Evaluation Experiment 97 of 642\n",
      "Param = 20.00000 - classifier Evaluation Experiment 98 of 642\n",
      "Param = 20.00000 - classifier Evaluation Experiment 99 of 642\n",
      "Param = 20.00000 - classifier Evaluation Experiment 100 of 642\n",
      "Param = 20.00000 - classifier Evaluation Experiment 101 of 642\n",
      "Param = 20.00000 - classifier Evaluation Experiment 102 of 642\n",
      "Param = 20.00000 - classifier Evaluation Experiment 103 of 642\n",
      "Param = 20.00000 - classifier Evaluation Experiment 104 of 642\n",
      "Param = 20.00000 - classifier Evaluation Experiment 105 of 642\n",
      "Param = 20.00000 - classifier Evaluation Experiment 106 of 642\n",
      "Param = 20.00000 - classifier Evaluation Experiment 107 of 642\n",
      "Param = 20.00000 - classifier Evaluation Experiment 108 of 642\n",
      "Param = 20.00000 - classifier Evaluation Experiment 109 of 642\n",
      "Param = 20.00000 - classifier Evaluation Experiment 110 of 642\n",
      "Param = 20.00000 - classifier Evaluation Experiment 111 of 642\n",
      "Param = 20.00000 - classifier Evaluation Experiment 112 of 642\n",
      "Param = 20.00000 - classifier Evaluation Experiment 113 of 642\n",
      "Param = 20.00000 - classifier Evaluation Experiment 114 of 642\n",
      "Param = 20.00000 - classifier Evaluation Experiment 115 of 642\n",
      "Param = 20.00000 - classifier Evaluation Experiment 116 of 642\n",
      "Param = 20.00000 - classifier Evaluation Experiment 117 of 642\n",
      "Param = 20.00000 - classifier Evaluation Experiment 118 of 642\n",
      "Param = 20.00000 - classifier Evaluation Experiment 119 of 642\n",
      "Param = 20.00000 - classifier Evaluation Experiment 120 of 642\n",
      "Param = 20.00000 - classifier Evaluation Experiment 121 of 642\n",
      "Param = 20.00000 - classifier Evaluation Experiment 122 of 642\n",
      "Param = 20.00000 - classifier Evaluation Experiment 123 of 642\n",
      "Param = 20.00000 - classifier Evaluation Experiment 124 of 642\n",
      "Param = 20.00000 - classifier Evaluation Experiment 125 of 642\n",
      "Param = 20.00000 - classifier Evaluation Experiment 126 of 642\n",
      "Param = 20.00000 - classifier Evaluation Experiment 127 of 642\n",
      "Param = 20.00000 - classifier Evaluation Experiment 128 of 642\n",
      "Param = 20.00000 - classifier Evaluation Experiment 129 of 642\n",
      "Param = 20.00000 - classifier Evaluation Experiment 130 of 642\n",
      "Param = 20.00000 - classifier Evaluation Experiment 131 of 642\n",
      "Param = 20.00000 - classifier Evaluation Experiment 132 of 642\n",
      "Param = 20.00000 - classifier Evaluation Experiment 133 of 642\n",
      "Param = 20.00000 - classifier Evaluation Experiment 134 of 642\n",
      "Param = 20.00000 - classifier Evaluation Experiment 135 of 642\n",
      "Param = 20.00000 - classifier Evaluation Experiment 136 of 642\n",
      "Param = 20.00000 - classifier Evaluation Experiment 137 of 642\n",
      "Param = 20.00000 - classifier Evaluation Experiment 138 of 642\n",
      "Param = 20.00000 - classifier Evaluation Experiment 139 of 642\n",
      "Param = 20.00000 - classifier Evaluation Experiment 140 of 642\n",
      "Param = 20.00000 - classifier Evaluation Experiment 141 of 642\n",
      "Param = 20.00000 - classifier Evaluation Experiment 142 of 642\n",
      "Param = 20.00000 - classifier Evaluation Experiment 143 of 642\n",
      "Param = 20.00000 - classifier Evaluation Experiment 144 of 642\n",
      "Param = 20.00000 - classifier Evaluation Experiment 145 of 642\n",
      "Param = 20.00000 - classifier Evaluation Experiment 146 of 642\n",
      "Param = 20.00000 - classifier Evaluation Experiment 147 of 642\n",
      "Param = 20.00000 - classifier Evaluation Experiment 148 of 642\n",
      "Param = 20.00000 - classifier Evaluation Experiment 149 of 642\n",
      "Param = 20.00000 - classifier Evaluation Experiment 150 of 642\n",
      "Param = 20.00000 - classifier Evaluation Experiment 151 of 642\n",
      "Param = 20.00000 - classifier Evaluation Experiment 152 of 642\n",
      "Param = 20.00000 - classifier Evaluation Experiment 153 of 642\n",
      "Param = 20.00000 - classifier Evaluation Experiment 154 of 642\n",
      "Param = 20.00000 - classifier Evaluation Experiment 155 of 642\n",
      "Param = 20.00000 - classifier Evaluation Experiment 156 of 642\n",
      "Param = 20.00000 - classifier Evaluation Experiment 157 of 642\n",
      "Param = 20.00000 - classifier Evaluation Experiment 158 of 642\n",
      "Param = 20.00000 - classifier Evaluation Experiment 159 of 642\n",
      "Param = 20.00000 - classifier Evaluation Experiment 160 of 642\n",
      "Param = 20.00000 - classifier Evaluation Experiment 161 of 642\n",
      "Param = 20.00000 - classifier Evaluation Experiment 162 of 642\n",
      "Param = 20.00000 - classifier Evaluation Experiment 163 of 642\n",
      "Param = 20.00000 - classifier Evaluation Experiment 164 of 642\n",
      "Param = 20.00000 - classifier Evaluation Experiment 165 of 642\n",
      "Param = 20.00000 - classifier Evaluation Experiment 166 of 642\n",
      "Param = 20.00000 - classifier Evaluation Experiment 167 of 642\n",
      "Param = 20.00000 - classifier Evaluation Experiment 168 of 642\n",
      "Param = 20.00000 - classifier Evaluation Experiment 169 of 642\n",
      "Param = 20.00000 - classifier Evaluation Experiment 170 of 642\n",
      "Param = 20.00000 - classifier Evaluation Experiment 171 of 642\n",
      "Param = 20.00000 - classifier Evaluation Experiment 172 of 642\n",
      "Param = 20.00000 - classifier Evaluation Experiment 173 of 642\n",
      "Param = 20.00000 - classifier Evaluation Experiment 174 of 642\n",
      "Param = 20.00000 - classifier Evaluation Experiment 175 of 642\n",
      "Param = 20.00000 - classifier Evaluation Experiment 176 of 642\n",
      "Param = 20.00000 - classifier Evaluation Experiment 177 of 642\n",
      "Param = 20.00000 - classifier Evaluation Experiment 178 of 642\n",
      "Param = 20.00000 - classifier Evaluation Experiment 179 of 642\n",
      "Param = 20.00000 - classifier Evaluation Experiment 180 of 642\n",
      "Param = 20.00000 - classifier Evaluation Experiment 181 of 642\n",
      "Param = 20.00000 - classifier Evaluation Experiment 182 of 642\n",
      "Param = 20.00000 - classifier Evaluation Experiment 183 of 642\n",
      "Param = 20.00000 - classifier Evaluation Experiment 184 of 642\n",
      "Param = 20.00000 - classifier Evaluation Experiment 185 of 642\n",
      "Param = 20.00000 - classifier Evaluation Experiment 186 of 642\n",
      "Param = 20.00000 - classifier Evaluation Experiment 187 of 642\n",
      "Param = 20.00000 - classifier Evaluation Experiment 188 of 642\n",
      "Param = 20.00000 - classifier Evaluation Experiment 189 of 642\n",
      "Param = 20.00000 - classifier Evaluation Experiment 190 of 642\n",
      "Param = 20.00000 - classifier Evaluation Experiment 191 of 642\n",
      "Param = 20.00000 - classifier Evaluation Experiment 192 of 642\n",
      "Param = 20.00000 - classifier Evaluation Experiment 193 of 642\n",
      "Param = 20.00000 - classifier Evaluation Experiment 194 of 642\n",
      "Param = 20.00000 - classifier Evaluation Experiment 195 of 642\n",
      "Param = 20.00000 - classifier Evaluation Experiment 196 of 642\n",
      "Param = 20.00000 - classifier Evaluation Experiment 197 of 642\n",
      "Param = 20.00000 - classifier Evaluation Experiment 198 of 642\n",
      "Param = 20.00000 - classifier Evaluation Experiment 199 of 642\n",
      "Param = 20.00000 - classifier Evaluation Experiment 200 of 642\n",
      "Param = 20.00000 - classifier Evaluation Experiment 201 of 642\n",
      "Param = 20.00000 - classifier Evaluation Experiment 202 of 642\n",
      "Param = 20.00000 - classifier Evaluation Experiment 203 of 642\n",
      "Param = 20.00000 - classifier Evaluation Experiment 204 of 642\n",
      "Param = 20.00000 - classifier Evaluation Experiment 205 of 642\n",
      "Param = 20.00000 - classifier Evaluation Experiment 206 of 642\n",
      "Param = 20.00000 - classifier Evaluation Experiment 207 of 642\n",
      "Param = 20.00000 - classifier Evaluation Experiment 208 of 642\n",
      "Param = 20.00000 - classifier Evaluation Experiment 209 of 642\n",
      "Param = 20.00000 - classifier Evaluation Experiment 210 of 642\n",
      "Param = 20.00000 - classifier Evaluation Experiment 211 of 642\n",
      "Param = 20.00000 - classifier Evaluation Experiment 212 of 642\n",
      "Param = 20.00000 - classifier Evaluation Experiment 213 of 642\n",
      "Param = 20.00000 - classifier Evaluation Experiment 214 of 642\n",
      "Param = 20.00000 - classifier Evaluation Experiment 215 of 642\n",
      "Param = 20.00000 - classifier Evaluation Experiment 216 of 642\n",
      "Param = 20.00000 - classifier Evaluation Experiment 217 of 642\n",
      "Param = 20.00000 - classifier Evaluation Experiment 218 of 642\n",
      "Param = 20.00000 - classifier Evaluation Experiment 219 of 642\n",
      "Param = 20.00000 - classifier Evaluation Experiment 220 of 642\n",
      "Param = 20.00000 - classifier Evaluation Experiment 221 of 642\n",
      "Param = 20.00000 - classifier Evaluation Experiment 222 of 642\n",
      "Param = 20.00000 - classifier Evaluation Experiment 223 of 642\n",
      "Param = 20.00000 - classifier Evaluation Experiment 224 of 642\n",
      "Param = 20.00000 - classifier Evaluation Experiment 225 of 642\n",
      "Param = 20.00000 - classifier Evaluation Experiment 226 of 642\n",
      "Param = 20.00000 - classifier Evaluation Experiment 227 of 642\n",
      "Param = 20.00000 - classifier Evaluation Experiment 228 of 642\n",
      "Param = 20.00000 - classifier Evaluation Experiment 229 of 642\n",
      "Param = 20.00000 - classifier Evaluation Experiment 230 of 642\n",
      "Param = 20.00000 - classifier Evaluation Experiment 231 of 642\n",
      "Param = 20.00000 - classifier Evaluation Experiment 232 of 642\n",
      "Param = 20.00000 - classifier Evaluation Experiment 233 of 642\n",
      "Param = 20.00000 - classifier Evaluation Experiment 234 of 642\n",
      "Param = 20.00000 - classifier Evaluation Experiment 235 of 642\n",
      "Param = 20.00000 - classifier Evaluation Experiment 236 of 642\n",
      "Param = 20.00000 - classifier Evaluation Experiment 237 of 642\n",
      "Param = 20.00000 - classifier Evaluation Experiment 238 of 642\n",
      "Param = 20.00000 - classifier Evaluation Experiment 239 of 642\n",
      "Param = 20.00000 - classifier Evaluation Experiment 240 of 642\n",
      "Param = 20.00000 - classifier Evaluation Experiment 241 of 642\n",
      "Param = 20.00000 - classifier Evaluation Experiment 242 of 642\n",
      "Param = 20.00000 - classifier Evaluation Experiment 243 of 642\n",
      "Param = 20.00000 - classifier Evaluation Experiment 244 of 642\n",
      "Param = 20.00000 - classifier Evaluation Experiment 245 of 642\n",
      "Param = 20.00000 - classifier Evaluation Experiment 246 of 642\n",
      "Param = 20.00000 - classifier Evaluation Experiment 247 of 642\n",
      "Param = 20.00000 - classifier Evaluation Experiment 248 of 642\n",
      "Param = 20.00000 - classifier Evaluation Experiment 249 of 642\n",
      "Param = 20.00000 - classifier Evaluation Experiment 250 of 642\n",
      "Param = 20.00000 - classifier Evaluation Experiment 251 of 642\n",
      "Param = 20.00000 - classifier Evaluation Experiment 252 of 642\n",
      "Param = 20.00000 - classifier Evaluation Experiment 253 of 642\n",
      "Param = 20.00000 - classifier Evaluation Experiment 254 of 642\n",
      "Param = 20.00000 - classifier Evaluation Experiment 255 of 642\n",
      "Param = 20.00000 - classifier Evaluation Experiment 256 of 642\n",
      "Param = 20.00000 - classifier Evaluation Experiment 257 of 642\n",
      "Param = 20.00000 - classifier Evaluation Experiment 258 of 642\n",
      "Param = 20.00000 - classifier Evaluation Experiment 259 of 642\n",
      "Param = 20.00000 - classifier Evaluation Experiment 260 of 642\n",
      "Param = 20.00000 - classifier Evaluation Experiment 261 of 642\n",
      "Param = 20.00000 - classifier Evaluation Experiment 262 of 642\n",
      "Param = 20.00000 - classifier Evaluation Experiment 263 of 642\n",
      "Param = 20.00000 - classifier Evaluation Experiment 264 of 642\n",
      "Param = 20.00000 - classifier Evaluation Experiment 265 of 642\n",
      "Param = 20.00000 - classifier Evaluation Experiment 266 of 642\n",
      "Param = 20.00000 - classifier Evaluation Experiment 267 of 642\n",
      "Param = 20.00000 - classifier Evaluation Experiment 268 of 642\n",
      "Param = 20.00000 - classifier Evaluation Experiment 269 of 642\n",
      "Param = 20.00000 - classifier Evaluation Experiment 270 of 642\n",
      "Param = 20.00000 - classifier Evaluation Experiment 271 of 642\n",
      "Param = 20.00000 - classifier Evaluation Experiment 272 of 642\n",
      "Param = 20.00000 - classifier Evaluation Experiment 273 of 642\n",
      "Param = 20.00000 - classifier Evaluation Experiment 274 of 642\n",
      "Param = 20.00000 - classifier Evaluation Experiment 275 of 642\n",
      "Param = 20.00000 - classifier Evaluation Experiment 276 of 642\n",
      "Param = 20.00000 - classifier Evaluation Experiment 277 of 642\n",
      "Param = 20.00000 - classifier Evaluation Experiment 278 of 642\n",
      "Param = 20.00000 - classifier Evaluation Experiment 279 of 642\n",
      "Param = 20.00000 - classifier Evaluation Experiment 280 of 642\n",
      "Param = 20.00000 - classifier Evaluation Experiment 281 of 642\n",
      "Param = 20.00000 - classifier Evaluation Experiment 282 of 642\n",
      "Param = 20.00000 - classifier Evaluation Experiment 283 of 642\n",
      "Param = 20.00000 - classifier Evaluation Experiment 284 of 642\n",
      "Param = 20.00000 - classifier Evaluation Experiment 285 of 642\n",
      "Param = 20.00000 - classifier Evaluation Experiment 286 of 642\n",
      "Param = 20.00000 - classifier Evaluation Experiment 287 of 642\n",
      "Param = 20.00000 - classifier Evaluation Experiment 288 of 642\n",
      "Param = 20.00000 - classifier Evaluation Experiment 289 of 642\n",
      "Param = 20.00000 - classifier Evaluation Experiment 290 of 642\n",
      "Param = 20.00000 - classifier Evaluation Experiment 291 of 642\n",
      "Param = 20.00000 - classifier Evaluation Experiment 292 of 642\n",
      "Param = 20.00000 - classifier Evaluation Experiment 293 of 642\n",
      "Param = 20.00000 - classifier Evaluation Experiment 294 of 642\n",
      "Param = 20.00000 - classifier Evaluation Experiment 295 of 642\n",
      "Param = 20.00000 - classifier Evaluation Experiment 296 of 642\n",
      "Param = 20.00000 - classifier Evaluation Experiment 297 of 642\n",
      "Param = 20.00000 - classifier Evaluation Experiment 298 of 642\n",
      "Param = 20.00000 - classifier Evaluation Experiment 299 of 642\n",
      "Param = 20.00000 - classifier Evaluation Experiment 300 of 642\n",
      "Param = 20.00000 - classifier Evaluation Experiment 301 of 642\n",
      "Param = 20.00000 - classifier Evaluation Experiment 302 of 642\n",
      "Param = 20.00000 - classifier Evaluation Experiment 303 of 642\n",
      "Param = 20.00000 - classifier Evaluation Experiment 304 of 642\n",
      "Param = 20.00000 - classifier Evaluation Experiment 305 of 642\n",
      "Param = 20.00000 - classifier Evaluation Experiment 306 of 642\n",
      "Param = 20.00000 - classifier Evaluation Experiment 307 of 642\n",
      "Param = 20.00000 - classifier Evaluation Experiment 308 of 642\n",
      "Param = 20.00000 - classifier Evaluation Experiment 309 of 642\n",
      "Param = 20.00000 - classifier Evaluation Experiment 310 of 642\n",
      "Param = 20.00000 - classifier Evaluation Experiment 311 of 642\n",
      "Param = 20.00000 - classifier Evaluation Experiment 312 of 642\n",
      "Param = 20.00000 - classifier Evaluation Experiment 313 of 642\n",
      "Param = 20.00000 - classifier Evaluation Experiment 314 of 642\n",
      "Param = 20.00000 - classifier Evaluation Experiment 315 of 642\n",
      "Param = 20.00000 - classifier Evaluation Experiment 316 of 642\n",
      "Param = 20.00000 - classifier Evaluation Experiment 317 of 642\n",
      "Param = 20.00000 - classifier Evaluation Experiment 318 of 642\n",
      "Param = 20.00000 - classifier Evaluation Experiment 319 of 642\n",
      "Param = 20.00000 - classifier Evaluation Experiment 320 of 642\n",
      "Param = 20.00000 - classifier Evaluation Experiment 321 of 642\n",
      "Param = 20.00000 - classifier Evaluation Experiment 322 of 642\n",
      "Param = 20.00000 - classifier Evaluation Experiment 323 of 642\n",
      "Param = 20.00000 - classifier Evaluation Experiment 324 of 642\n",
      "Param = 20.00000 - classifier Evaluation Experiment 325 of 642\n",
      "Param = 20.00000 - classifier Evaluation Experiment 326 of 642\n",
      "Param = 20.00000 - classifier Evaluation Experiment 327 of 642\n",
      "Param = 20.00000 - classifier Evaluation Experiment 328 of 642\n",
      "Param = 20.00000 - classifier Evaluation Experiment 329 of 642\n",
      "Param = 20.00000 - classifier Evaluation Experiment 330 of 642\n",
      "Param = 20.00000 - classifier Evaluation Experiment 331 of 642\n",
      "Param = 20.00000 - classifier Evaluation Experiment 332 of 642\n",
      "Param = 20.00000 - classifier Evaluation Experiment 333 of 642\n",
      "Param = 20.00000 - classifier Evaluation Experiment 334 of 642\n",
      "Param = 20.00000 - classifier Evaluation Experiment 335 of 642\n",
      "Param = 20.00000 - classifier Evaluation Experiment 336 of 642\n",
      "Param = 20.00000 - classifier Evaluation Experiment 337 of 642\n",
      "Param = 20.00000 - classifier Evaluation Experiment 338 of 642\n",
      "Param = 20.00000 - classifier Evaluation Experiment 339 of 642\n",
      "Param = 20.00000 - classifier Evaluation Experiment 340 of 642\n",
      "Param = 20.00000 - classifier Evaluation Experiment 341 of 642\n",
      "Param = 20.00000 - classifier Evaluation Experiment 342 of 642\n",
      "Param = 20.00000 - classifier Evaluation Experiment 343 of 642\n",
      "Param = 20.00000 - classifier Evaluation Experiment 344 of 642\n",
      "Param = 20.00000 - classifier Evaluation Experiment 345 of 642\n",
      "Param = 20.00000 - classifier Evaluation Experiment 346 of 642\n",
      "Param = 20.00000 - classifier Evaluation Experiment 347 of 642\n",
      "Param = 20.00000 - classifier Evaluation Experiment 348 of 642\n",
      "Param = 20.00000 - classifier Evaluation Experiment 349 of 642\n",
      "Param = 20.00000 - classifier Evaluation Experiment 350 of 642\n",
      "Param = 20.00000 - classifier Evaluation Experiment 351 of 642\n",
      "Param = 20.00000 - classifier Evaluation Experiment 352 of 642\n",
      "Param = 20.00000 - classifier Evaluation Experiment 353 of 642\n",
      "Param = 20.00000 - classifier Evaluation Experiment 354 of 642\n",
      "Param = 20.00000 - classifier Evaluation Experiment 355 of 642\n",
      "Param = 20.00000 - classifier Evaluation Experiment 356 of 642\n",
      "Param = 20.00000 - classifier Evaluation Experiment 357 of 642\n",
      "Param = 20.00000 - classifier Evaluation Experiment 358 of 642\n",
      "Param = 20.00000 - classifier Evaluation Experiment 359 of 642\n",
      "Param = 20.00000 - classifier Evaluation Experiment 360 of 642\n",
      "Param = 20.00000 - classifier Evaluation Experiment 361 of 642\n",
      "Param = 20.00000 - classifier Evaluation Experiment 362 of 642\n",
      "Param = 20.00000 - classifier Evaluation Experiment 363 of 642\n",
      "Param = 20.00000 - classifier Evaluation Experiment 364 of 642\n",
      "Param = 20.00000 - classifier Evaluation Experiment 365 of 642\n",
      "Param = 20.00000 - classifier Evaluation Experiment 366 of 642\n",
      "Param = 20.00000 - classifier Evaluation Experiment 367 of 642\n",
      "Param = 20.00000 - classifier Evaluation Experiment 368 of 642\n",
      "Param = 20.00000 - classifier Evaluation Experiment 369 of 642\n",
      "Param = 20.00000 - classifier Evaluation Experiment 370 of 642\n",
      "Param = 20.00000 - classifier Evaluation Experiment 371 of 642\n",
      "Param = 20.00000 - classifier Evaluation Experiment 372 of 642\n",
      "Param = 20.00000 - classifier Evaluation Experiment 373 of 642\n",
      "Param = 20.00000 - classifier Evaluation Experiment 374 of 642\n",
      "Param = 20.00000 - classifier Evaluation Experiment 375 of 642\n",
      "Param = 20.00000 - classifier Evaluation Experiment 376 of 642\n",
      "Param = 20.00000 - classifier Evaluation Experiment 377 of 642\n",
      "Param = 20.00000 - classifier Evaluation Experiment 378 of 642\n",
      "Param = 20.00000 - classifier Evaluation Experiment 379 of 642\n",
      "Param = 20.00000 - classifier Evaluation Experiment 380 of 642\n",
      "Param = 20.00000 - classifier Evaluation Experiment 381 of 642\n",
      "Param = 20.00000 - classifier Evaluation Experiment 382 of 642\n",
      "Param = 20.00000 - classifier Evaluation Experiment 383 of 642\n",
      "Param = 20.00000 - classifier Evaluation Experiment 384 of 642\n",
      "Param = 20.00000 - classifier Evaluation Experiment 385 of 642\n",
      "Param = 20.00000 - classifier Evaluation Experiment 386 of 642\n",
      "Param = 20.00000 - classifier Evaluation Experiment 387 of 642\n",
      "Param = 20.00000 - classifier Evaluation Experiment 388 of 642\n",
      "Param = 20.00000 - classifier Evaluation Experiment 389 of 642\n",
      "Param = 20.00000 - classifier Evaluation Experiment 390 of 642\n",
      "Param = 20.00000 - classifier Evaluation Experiment 391 of 642\n",
      "Param = 20.00000 - classifier Evaluation Experiment 392 of 642\n",
      "Param = 20.00000 - classifier Evaluation Experiment 393 of 642\n",
      "Param = 20.00000 - classifier Evaluation Experiment 394 of 642\n",
      "Param = 20.00000 - classifier Evaluation Experiment 395 of 642\n",
      "Param = 20.00000 - classifier Evaluation Experiment 396 of 642\n",
      "Param = 20.00000 - classifier Evaluation Experiment 397 of 642\n",
      "Param = 20.00000 - classifier Evaluation Experiment 398 of 642\n",
      "Param = 20.00000 - classifier Evaluation Experiment 399 of 642\n",
      "Param = 20.00000 - classifier Evaluation Experiment 400 of 642\n",
      "Param = 20.00000 - classifier Evaluation Experiment 401 of 642\n",
      "Param = 20.00000 - classifier Evaluation Experiment 402 of 642\n",
      "Param = 20.00000 - classifier Evaluation Experiment 403 of 642\n",
      "Param = 20.00000 - classifier Evaluation Experiment 404 of 642\n",
      "Param = 20.00000 - classifier Evaluation Experiment 405 of 642\n",
      "Param = 20.00000 - classifier Evaluation Experiment 406 of 642\n",
      "Param = 20.00000 - classifier Evaluation Experiment 407 of 642\n",
      "Param = 20.00000 - classifier Evaluation Experiment 408 of 642\n",
      "Param = 20.00000 - classifier Evaluation Experiment 409 of 642\n",
      "Param = 20.00000 - classifier Evaluation Experiment 410 of 642\n",
      "Param = 20.00000 - classifier Evaluation Experiment 411 of 642\n",
      "Param = 20.00000 - classifier Evaluation Experiment 412 of 642\n",
      "Param = 20.00000 - classifier Evaluation Experiment 413 of 642\n",
      "Param = 20.00000 - classifier Evaluation Experiment 414 of 642\n",
      "Param = 20.00000 - classifier Evaluation Experiment 415 of 642\n",
      "Param = 20.00000 - classifier Evaluation Experiment 416 of 642\n",
      "Param = 20.00000 - classifier Evaluation Experiment 417 of 642\n",
      "Param = 20.00000 - classifier Evaluation Experiment 418 of 642\n",
      "Param = 20.00000 - classifier Evaluation Experiment 419 of 642\n",
      "Param = 20.00000 - classifier Evaluation Experiment 420 of 642\n",
      "Param = 20.00000 - classifier Evaluation Experiment 421 of 642\n",
      "Param = 20.00000 - classifier Evaluation Experiment 422 of 642\n",
      "Param = 20.00000 - classifier Evaluation Experiment 423 of 642\n",
      "Param = 20.00000 - classifier Evaluation Experiment 424 of 642\n",
      "Param = 20.00000 - classifier Evaluation Experiment 425 of 642\n",
      "Param = 20.00000 - classifier Evaluation Experiment 426 of 642\n",
      "Param = 20.00000 - classifier Evaluation Experiment 427 of 642\n",
      "Param = 20.00000 - classifier Evaluation Experiment 428 of 642\n",
      "Param = 20.00000 - classifier Evaluation Experiment 429 of 642\n",
      "Param = 20.00000 - classifier Evaluation Experiment 430 of 642\n",
      "Param = 20.00000 - classifier Evaluation Experiment 431 of 642\n",
      "Param = 20.00000 - classifier Evaluation Experiment 432 of 642\n",
      "Param = 20.00000 - classifier Evaluation Experiment 433 of 642\n",
      "Param = 20.00000 - classifier Evaluation Experiment 434 of 642\n",
      "Param = 20.00000 - classifier Evaluation Experiment 435 of 642\n",
      "Param = 20.00000 - classifier Evaluation Experiment 436 of 642\n",
      "Param = 20.00000 - classifier Evaluation Experiment 437 of 642\n",
      "Param = 20.00000 - classifier Evaluation Experiment 438 of 642\n",
      "Param = 20.00000 - classifier Evaluation Experiment 439 of 642\n",
      "Param = 20.00000 - classifier Evaluation Experiment 440 of 642\n",
      "Param = 20.00000 - classifier Evaluation Experiment 441 of 642\n",
      "Param = 20.00000 - classifier Evaluation Experiment 442 of 642\n",
      "Param = 20.00000 - classifier Evaluation Experiment 443 of 642\n",
      "Param = 20.00000 - classifier Evaluation Experiment 444 of 642\n",
      "Param = 20.00000 - classifier Evaluation Experiment 445 of 642\n",
      "Param = 20.00000 - classifier Evaluation Experiment 446 of 642\n",
      "Param = 20.00000 - classifier Evaluation Experiment 447 of 642\n",
      "Param = 20.00000 - classifier Evaluation Experiment 448 of 642\n",
      "Param = 20.00000 - classifier Evaluation Experiment 449 of 642\n",
      "Param = 20.00000 - classifier Evaluation Experiment 450 of 642\n",
      "Param = 20.00000 - classifier Evaluation Experiment 451 of 642\n",
      "Param = 20.00000 - classifier Evaluation Experiment 452 of 642\n",
      "Param = 20.00000 - classifier Evaluation Experiment 453 of 642\n",
      "Param = 20.00000 - classifier Evaluation Experiment 454 of 642\n",
      "Param = 20.00000 - classifier Evaluation Experiment 455 of 642\n",
      "Param = 20.00000 - classifier Evaluation Experiment 456 of 642\n",
      "Param = 20.00000 - classifier Evaluation Experiment 457 of 642\n",
      "Param = 20.00000 - classifier Evaluation Experiment 458 of 642\n",
      "Param = 20.00000 - classifier Evaluation Experiment 459 of 642\n",
      "Param = 20.00000 - classifier Evaluation Experiment 460 of 642\n",
      "Param = 20.00000 - classifier Evaluation Experiment 461 of 642\n",
      "Param = 20.00000 - classifier Evaluation Experiment 462 of 642\n",
      "Param = 20.00000 - classifier Evaluation Experiment 463 of 642\n",
      "Param = 20.00000 - classifier Evaluation Experiment 464 of 642\n",
      "Param = 20.00000 - classifier Evaluation Experiment 465 of 642\n",
      "Param = 20.00000 - classifier Evaluation Experiment 466 of 642\n",
      "Param = 20.00000 - classifier Evaluation Experiment 467 of 642\n",
      "Param = 20.00000 - classifier Evaluation Experiment 468 of 642\n",
      "Param = 20.00000 - classifier Evaluation Experiment 469 of 642\n",
      "Param = 20.00000 - classifier Evaluation Experiment 470 of 642\n",
      "Param = 20.00000 - classifier Evaluation Experiment 471 of 642\n",
      "Param = 20.00000 - classifier Evaluation Experiment 472 of 642\n",
      "Param = 20.00000 - classifier Evaluation Experiment 473 of 642\n",
      "Param = 20.00000 - classifier Evaluation Experiment 474 of 642\n",
      "Param = 20.00000 - classifier Evaluation Experiment 475 of 642\n",
      "Param = 20.00000 - classifier Evaluation Experiment 476 of 642\n",
      "Param = 20.00000 - classifier Evaluation Experiment 477 of 642\n",
      "Param = 20.00000 - classifier Evaluation Experiment 478 of 642\n",
      "Param = 20.00000 - classifier Evaluation Experiment 479 of 642\n",
      "Param = 20.00000 - classifier Evaluation Experiment 480 of 642\n",
      "Param = 20.00000 - classifier Evaluation Experiment 481 of 642\n",
      "Param = 20.00000 - classifier Evaluation Experiment 482 of 642\n",
      "Param = 20.00000 - classifier Evaluation Experiment 483 of 642\n",
      "Param = 20.00000 - classifier Evaluation Experiment 484 of 642\n",
      "Param = 20.00000 - classifier Evaluation Experiment 485 of 642\n",
      "Param = 20.00000 - classifier Evaluation Experiment 486 of 642\n",
      "Param = 20.00000 - classifier Evaluation Experiment 487 of 642\n",
      "Param = 20.00000 - classifier Evaluation Experiment 488 of 642\n",
      "Param = 20.00000 - classifier Evaluation Experiment 489 of 642\n",
      "Param = 20.00000 - classifier Evaluation Experiment 490 of 642\n",
      "Param = 20.00000 - classifier Evaluation Experiment 491 of 642\n",
      "Param = 20.00000 - classifier Evaluation Experiment 492 of 642\n",
      "Param = 20.00000 - classifier Evaluation Experiment 493 of 642\n",
      "Param = 20.00000 - classifier Evaluation Experiment 494 of 642\n",
      "Param = 20.00000 - classifier Evaluation Experiment 495 of 642\n",
      "Param = 20.00000 - classifier Evaluation Experiment 496 of 642\n",
      "Param = 20.00000 - classifier Evaluation Experiment 497 of 642\n",
      "Param = 20.00000 - classifier Evaluation Experiment 498 of 642\n",
      "Param = 20.00000 - classifier Evaluation Experiment 499 of 642\n",
      "Param = 20.00000 - classifier Evaluation Experiment 500 of 642\n",
      "Param = 20.00000 - classifier Evaluation Experiment 501 of 642\n",
      "Param = 20.00000 - classifier Evaluation Experiment 502 of 642\n",
      "Param = 20.00000 - classifier Evaluation Experiment 503 of 642\n",
      "Param = 20.00000 - classifier Evaluation Experiment 504 of 642\n",
      "Param = 20.00000 - classifier Evaluation Experiment 505 of 642\n",
      "Param = 20.00000 - classifier Evaluation Experiment 506 of 642\n",
      "Param = 20.00000 - classifier Evaluation Experiment 507 of 642\n",
      "Param = 20.00000 - classifier Evaluation Experiment 508 of 642\n",
      "Param = 20.00000 - classifier Evaluation Experiment 509 of 642\n",
      "Param = 20.00000 - classifier Evaluation Experiment 510 of 642\n",
      "Param = 20.00000 - classifier Evaluation Experiment 511 of 642\n",
      "Param = 20.00000 - classifier Evaluation Experiment 512 of 642\n",
      "Param = 20.00000 - classifier Evaluation Experiment 513 of 642\n",
      "Param = 20.00000 - classifier Evaluation Experiment 514 of 642\n",
      "Param = 20.00000 - classifier Evaluation Experiment 515 of 642\n",
      "Param = 20.00000 - classifier Evaluation Experiment 516 of 642\n",
      "Param = 20.00000 - classifier Evaluation Experiment 517 of 642\n",
      "Param = 20.00000 - classifier Evaluation Experiment 518 of 642\n",
      "Param = 20.00000 - classifier Evaluation Experiment 519 of 642\n",
      "Param = 20.00000 - classifier Evaluation Experiment 520 of 642\n",
      "Param = 20.00000 - classifier Evaluation Experiment 521 of 642\n",
      "Param = 20.00000 - classifier Evaluation Experiment 522 of 642\n",
      "Param = 20.00000 - classifier Evaluation Experiment 523 of 642\n",
      "Param = 20.00000 - classifier Evaluation Experiment 524 of 642\n",
      "Param = 20.00000 - classifier Evaluation Experiment 525 of 642\n",
      "Param = 20.00000 - classifier Evaluation Experiment 526 of 642\n",
      "Param = 20.00000 - classifier Evaluation Experiment 527 of 642\n",
      "Param = 20.00000 - classifier Evaluation Experiment 528 of 642\n",
      "Param = 20.00000 - classifier Evaluation Experiment 529 of 642\n",
      "Param = 20.00000 - classifier Evaluation Experiment 530 of 642\n",
      "Param = 20.00000 - classifier Evaluation Experiment 531 of 642\n",
      "Param = 20.00000 - classifier Evaluation Experiment 532 of 642\n",
      "Param = 20.00000 - classifier Evaluation Experiment 533 of 642\n",
      "Param = 20.00000 - classifier Evaluation Experiment 534 of 642\n",
      "Param = 20.00000 - classifier Evaluation Experiment 535 of 642\n",
      "Param = 20.00000 - classifier Evaluation Experiment 536 of 642\n",
      "Param = 20.00000 - classifier Evaluation Experiment 537 of 642\n",
      "Param = 20.00000 - classifier Evaluation Experiment 538 of 642\n",
      "Param = 20.00000 - classifier Evaluation Experiment 539 of 642\n",
      "Param = 20.00000 - classifier Evaluation Experiment 540 of 642\n",
      "Param = 20.00000 - classifier Evaluation Experiment 541 of 642\n",
      "Param = 20.00000 - classifier Evaluation Experiment 542 of 642\n",
      "Param = 20.00000 - classifier Evaluation Experiment 543 of 642\n",
      "Param = 20.00000 - classifier Evaluation Experiment 544 of 642\n",
      "Param = 20.00000 - classifier Evaluation Experiment 545 of 642\n",
      "Param = 20.00000 - classifier Evaluation Experiment 546 of 642\n",
      "Param = 20.00000 - classifier Evaluation Experiment 547 of 642\n",
      "Param = 20.00000 - classifier Evaluation Experiment 548 of 642\n",
      "Param = 20.00000 - classifier Evaluation Experiment 549 of 642\n",
      "Param = 20.00000 - classifier Evaluation Experiment 550 of 642\n",
      "Param = 20.00000 - classifier Evaluation Experiment 551 of 642\n",
      "Param = 20.00000 - classifier Evaluation Experiment 552 of 642\n",
      "Param = 20.00000 - classifier Evaluation Experiment 553 of 642\n",
      "Param = 20.00000 - classifier Evaluation Experiment 554 of 642\n",
      "Param = 20.00000 - classifier Evaluation Experiment 555 of 642\n",
      "Param = 20.00000 - classifier Evaluation Experiment 556 of 642\n",
      "Param = 20.00000 - classifier Evaluation Experiment 557 of 642\n",
      "Param = 20.00000 - classifier Evaluation Experiment 558 of 642\n",
      "Param = 20.00000 - classifier Evaluation Experiment 559 of 642\n",
      "Param = 20.00000 - classifier Evaluation Experiment 560 of 642\n",
      "Param = 20.00000 - classifier Evaluation Experiment 561 of 642\n",
      "Param = 20.00000 - classifier Evaluation Experiment 562 of 642\n",
      "Param = 20.00000 - classifier Evaluation Experiment 563 of 642\n",
      "Param = 20.00000 - classifier Evaluation Experiment 564 of 642\n",
      "Param = 20.00000 - classifier Evaluation Experiment 565 of 642\n",
      "Param = 20.00000 - classifier Evaluation Experiment 566 of 642\n",
      "Param = 20.00000 - classifier Evaluation Experiment 567 of 642\n",
      "Param = 20.00000 - classifier Evaluation Experiment 568 of 642\n",
      "Param = 20.00000 - classifier Evaluation Experiment 569 of 642\n",
      "Param = 20.00000 - classifier Evaluation Experiment 570 of 642\n",
      "Param = 20.00000 - classifier Evaluation Experiment 571 of 642\n",
      "Param = 20.00000 - classifier Evaluation Experiment 572 of 642\n",
      "Param = 20.00000 - classifier Evaluation Experiment 573 of 642\n",
      "Param = 20.00000 - classifier Evaluation Experiment 574 of 642\n",
      "Param = 20.00000 - classifier Evaluation Experiment 575 of 642\n",
      "Param = 20.00000 - classifier Evaluation Experiment 576 of 642\n",
      "Param = 20.00000 - classifier Evaluation Experiment 577 of 642\n",
      "Param = 20.00000 - classifier Evaluation Experiment 578 of 642\n",
      "Param = 20.00000 - classifier Evaluation Experiment 579 of 642\n",
      "Param = 20.00000 - classifier Evaluation Experiment 580 of 642\n",
      "Param = 20.00000 - classifier Evaluation Experiment 581 of 642\n",
      "Param = 20.00000 - classifier Evaluation Experiment 582 of 642\n",
      "Param = 20.00000 - classifier Evaluation Experiment 583 of 642\n",
      "Param = 20.00000 - classifier Evaluation Experiment 584 of 642\n",
      "Param = 20.00000 - classifier Evaluation Experiment 585 of 642\n",
      "Param = 20.00000 - classifier Evaluation Experiment 586 of 642\n",
      "Param = 20.00000 - classifier Evaluation Experiment 587 of 642\n",
      "Param = 20.00000 - classifier Evaluation Experiment 588 of 642\n",
      "Param = 20.00000 - classifier Evaluation Experiment 589 of 642\n",
      "Param = 20.00000 - classifier Evaluation Experiment 590 of 642\n",
      "Param = 20.00000 - classifier Evaluation Experiment 591 of 642\n",
      "Param = 20.00000 - classifier Evaluation Experiment 592 of 642\n",
      "Param = 20.00000 - classifier Evaluation Experiment 593 of 642\n",
      "Param = 20.00000 - classifier Evaluation Experiment 594 of 642\n",
      "Param = 20.00000 - classifier Evaluation Experiment 595 of 642\n",
      "Param = 20.00000 - classifier Evaluation Experiment 596 of 642\n",
      "Param = 20.00000 - classifier Evaluation Experiment 597 of 642\n",
      "Param = 20.00000 - classifier Evaluation Experiment 598 of 642\n",
      "Param = 20.00000 - classifier Evaluation Experiment 599 of 642\n",
      "Param = 20.00000 - classifier Evaluation Experiment 600 of 642\n",
      "Param = 20.00000 - classifier Evaluation Experiment 601 of 642\n",
      "Param = 20.00000 - classifier Evaluation Experiment 602 of 642\n",
      "Param = 20.00000 - classifier Evaluation Experiment 603 of 642\n",
      "Param = 20.00000 - classifier Evaluation Experiment 604 of 642\n",
      "Param = 20.00000 - classifier Evaluation Experiment 605 of 642\n",
      "Param = 20.00000 - classifier Evaluation Experiment 606 of 642\n",
      "Param = 20.00000 - classifier Evaluation Experiment 607 of 642\n",
      "Param = 20.00000 - classifier Evaluation Experiment 608 of 642\n",
      "Param = 20.00000 - classifier Evaluation Experiment 609 of 642\n",
      "Param = 20.00000 - classifier Evaluation Experiment 610 of 642\n",
      "Param = 20.00000 - classifier Evaluation Experiment 611 of 642\n",
      "Param = 20.00000 - classifier Evaluation Experiment 612 of 642\n",
      "Param = 20.00000 - classifier Evaluation Experiment 613 of 642\n",
      "Param = 20.00000 - classifier Evaluation Experiment 614 of 642\n",
      "Param = 20.00000 - classifier Evaluation Experiment 615 of 642\n",
      "Param = 20.00000 - classifier Evaluation Experiment 616 of 642\n",
      "Param = 20.00000 - classifier Evaluation Experiment 617 of 642\n",
      "Param = 20.00000 - classifier Evaluation Experiment 618 of 642\n",
      "Param = 20.00000 - classifier Evaluation Experiment 619 of 642\n",
      "Param = 20.00000 - classifier Evaluation Experiment 620 of 642\n",
      "Param = 20.00000 - classifier Evaluation Experiment 621 of 642\n",
      "Param = 20.00000 - classifier Evaluation Experiment 622 of 642\n",
      "Param = 20.00000 - classifier Evaluation Experiment 623 of 642\n",
      "Param = 20.00000 - classifier Evaluation Experiment 624 of 642\n",
      "Param = 20.00000 - classifier Evaluation Experiment 625 of 642\n",
      "Param = 20.00000 - classifier Evaluation Experiment 626 of 642\n",
      "Param = 20.00000 - classifier Evaluation Experiment 627 of 642\n",
      "Param = 20.00000 - classifier Evaluation Experiment 628 of 642\n",
      "Param = 20.00000 - classifier Evaluation Experiment 629 of 642\n",
      "Param = 20.00000 - classifier Evaluation Experiment 630 of 642\n",
      "Param = 20.00000 - classifier Evaluation Experiment 631 of 642\n",
      "Param = 20.00000 - classifier Evaluation Experiment 632 of 642\n",
      "Param = 20.00000 - classifier Evaluation Experiment 633 of 642\n",
      "Param = 20.00000 - classifier Evaluation Experiment 634 of 642\n",
      "Param = 20.00000 - classifier Evaluation Experiment 635 of 642\n",
      "Param = 20.00000 - classifier Evaluation Experiment 636 of 642\n",
      "Param = 20.00000 - classifier Evaluation Experiment 637 of 642\n",
      "Param = 20.00000 - classifier Evaluation Experiment 638 of 642\n",
      "Param = 20.00000 - classifier Evaluation Experiment 639 of 642\n",
      "Param = 20.00000 - classifier Evaluation Experiment 640 of 642\n",
      "Param = 20.00000 - classifier Evaluation Experiment 641 of 642\n",
      "Param = 20.00000 - classifier Evaluation Experiment 642 of 642\n",
      "\t\tRuminating\t\t\tGulp\t\t\tBreath\t\tOVERALL\n",
      "\tC\tPRE\tREC\tf1\tPRE\tREC\tf1\tPRE\tREC\tf1\tACC\tf1\n",
      "\t0.001\t32.0\t44.1\t37.1\t33.3\t0.0\t0.0\t34.0\t42.1\t37.6\t33.0\t24.9\n",
      "\t0.010\t32.9\t42.3\t37.0\t33.3\t0.0\t0.0\t32.8\t42.9\t37.2\t32.8\t24.7\n",
      "\t0.500\t94.8\t91.7\t93.2\t100.0\t77.6\t87.4\t84.1\t98.7\t90.8\t91.0\t90.5\n",
      "\t1.000\t95.1\t94.0\t94.5\t100.0\t80.8\t89.4\t88.3\t98.8\t93.2\t93.0\t92.4\n",
      "\t5.000\t95.4\t94.1\t94.7\t100.0\t82.7\t90.5\t88.5\t98.5\t93.2\t93.3\t92.8\t best f1\t best Acc\n",
      "\t10.000\t94.4\t92.2\t93.3\t100.0\t82.3\t90.3\t87.5\t98.5\t92.6\t92.4\t92.1\n",
      "\t20.000\t95.3\t93.6\t94.5\t100.0\t81.9\t90.1\t87.2\t99.0\t92.7\t92.9\t92.4\n",
      "Confusion Matrix:\n",
      "\tRum\tGulp\tBre\n",
      "Rum\t37.29\t0.00\t2.34\n",
      "Gulp\t1.23\t18.19\t2.57\n",
      "Bre\t0.58\t0.00\t37.81\n",
      "Best macro f1 92.8\n",
      "Best macro f1 std 13.0\n",
      "Selected params: 5.00000\n"
     ]
    }
   ],
   "source": [
    "from pyAudioAnalysis.audioTrainTest import extract_features_and_train\n",
    "import os\n",
    "mt, st = 1, 0.05\n",
    "dirs = [os.path.join('E:/Files','Acoustic Data', 'Ruminating'), os.path.join('E:/Files','Acoustic Data', 'Gulp'),os.path.join('E:/Files','Acoustic Data', 'Breath')] \n",
    "extract_features_and_train(dirs, mt, mt, st, st, \"svm_rbf\", \"svm_Ruminating_Gulp_Breath\")"
   ]
  },
  {
   "cell_type": "code",
   "execution_count": 5,
   "metadata": {},
   "outputs": [
    {
     "name": "stdout",
     "output_type": "stream",
     "text": [
      "E:/Files\\Acoustic Data\\Test\\1min_parts\\segment_0.wav:\n",
      "P(Ruminating=0.48950435691892047)\n",
      "P(Gulp=0.43479781359780467)\n",
      "P(Breath=0.07569782948327486)\n",
      "\n",
      "E:/Files\\Acoustic Data\\Test\\1min_parts\\segment_1.wav:\n",
      "P(Ruminating=0.005730663046774174)\n",
      "P(Gulp=0.004201150982184032)\n",
      "P(Breath=0.990068185971042)\n",
      "\n",
      "E:/Files\\Acoustic Data\\Test\\1min_parts\\segment_10.wav:\n",
      "P(Ruminating=0.3612083016757532)\n",
      "P(Gulp=0.16430298648687458)\n",
      "P(Breath=0.47448871183737246)\n",
      "\n",
      "E:/Files\\Acoustic Data\\Test\\1min_parts\\segment_11.wav:\n",
      "P(Ruminating=0.5303374902869241)\n",
      "P(Gulp=0.13429007425661998)\n",
      "P(Breath=0.3353724354564558)\n",
      "\n",
      "E:/Files\\Acoustic Data\\Test\\1min_parts\\segment_12.wav:\n",
      "P(Ruminating=0.09122319223997603)\n",
      "P(Gulp=0.8845283925021601)\n",
      "P(Breath=0.024248415257863868)\n",
      "\n",
      "E:/Files\\Acoustic Data\\Test\\1min_parts\\segment_13.wav:\n",
      "P(Ruminating=0.2894340649038097)\n",
      "P(Gulp=0.684349357305608)\n",
      "P(Breath=0.026216577790582174)\n",
      "\n",
      "E:/Files\\Acoustic Data\\Test\\1min_parts\\segment_14.wav:\n",
      "P(Ruminating=0.9316446380961845)\n",
      "P(Gulp=0.04045466857221278)\n",
      "P(Breath=0.02790069333160267)\n",
      "\n",
      "E:/Files\\Acoustic Data\\Test\\1min_parts\\segment_15.wav:\n",
      "P(Ruminating=0.27423367201049864)\n",
      "P(Gulp=0.06283909897488016)\n",
      "P(Breath=0.6629272290146211)\n",
      "\n",
      "E:/Files\\Acoustic Data\\Test\\1min_parts\\segment_16.wav:\n",
      "P(Ruminating=0.19806244460918457)\n",
      "P(Gulp=0.656835959243962)\n",
      "P(Breath=0.1451015961468534)\n",
      "\n",
      "E:/Files\\Acoustic Data\\Test\\1min_parts\\segment_17.wav:\n",
      "P(Ruminating=0.006350593965034476)\n",
      "P(Gulp=0.011093097360648917)\n",
      "P(Breath=0.9825563086743166)\n",
      "\n",
      "E:/Files\\Acoustic Data\\Test\\1min_parts\\segment_18.wav:\n",
      "P(Ruminating=0.502492365934709)\n",
      "P(Gulp=0.35593904569853235)\n",
      "P(Breath=0.14156858836675856)\n",
      "\n",
      "E:/Files\\Acoustic Data\\Test\\1min_parts\\segment_19.wav:\n",
      "P(Ruminating=0.7195700748697126)\n",
      "P(Gulp=0.081874991313564)\n",
      "P(Breath=0.19855493381672307)\n",
      "\n",
      "E:/Files\\Acoustic Data\\Test\\1min_parts\\segment_2.wav:\n",
      "P(Ruminating=0.5904703830850132)\n",
      "P(Gulp=0.23367201182103003)\n",
      "P(Breath=0.1758576050939568)\n",
      "\n",
      "E:/Files\\Acoustic Data\\Test\\1min_parts\\segment_20.wav:\n",
      "P(Ruminating=0.012540774951854461)\n",
      "P(Gulp=0.01806452897108792)\n",
      "P(Breath=0.9693946960770573)\n",
      "\n",
      "E:/Files\\Acoustic Data\\Test\\1min_parts\\segment_21.wav:\n",
      "P(Ruminating=0.8353980810746471)\n",
      "P(Gulp=0.06939529485648707)\n",
      "P(Breath=0.09520662406886587)\n",
      "\n",
      "E:/Files\\Acoustic Data\\Test\\1min_parts\\segment_22.wav:\n",
      "P(Ruminating=0.2923800891495162)\n",
      "P(Gulp=0.05467585655992403)\n",
      "P(Breath=0.6529440542905596)\n",
      "\n",
      "E:/Files\\Acoustic Data\\Test\\1min_parts\\segment_23.wav:\n",
      "P(Ruminating=0.010176729345213041)\n",
      "P(Gulp=0.014251216358501061)\n",
      "P(Breath=0.9755720542962859)\n",
      "\n",
      "E:/Files\\Acoustic Data\\Test\\1min_parts\\segment_24.wav:\n",
      "P(Ruminating=0.34872316032929485)\n",
      "P(Gulp=0.038617703967687815)\n",
      "P(Breath=0.6126591357030174)\n",
      "\n",
      "E:/Files\\Acoustic Data\\Test\\1min_parts\\segment_25.wav:\n",
      "P(Ruminating=0.03662439232287168)\n",
      "P(Gulp=0.03722086701522453)\n",
      "P(Breath=0.926154740661904)\n",
      "\n",
      "E:/Files\\Acoustic Data\\Test\\1min_parts\\segment_26.wav:\n",
      "P(Ruminating=0.0172636216486196)\n",
      "P(Gulp=0.028005858405201842)\n",
      "P(Breath=0.9547305199461786)\n",
      "\n",
      "E:/Files\\Acoustic Data\\Test\\1min_parts\\segment_27.wav:\n",
      "P(Ruminating=0.7941038671618853)\n",
      "P(Gulp=0.05552045141840527)\n",
      "P(Breath=0.15037568141970942)\n",
      "\n",
      "E:/Files\\Acoustic Data\\Test\\1min_parts\\segment_28.wav:\n",
      "P(Ruminating=0.01100820162384127)\n",
      "P(Gulp=0.02145615850510607)\n",
      "P(Breath=0.9675356398710525)\n",
      "\n",
      "E:/Files\\Acoustic Data\\Test\\1min_parts\\segment_29.wav:\n",
      "P(Ruminating=0.4675795857227264)\n",
      "P(Gulp=0.38126142413667824)\n",
      "P(Breath=0.1511589901405955)\n",
      "\n",
      "E:/Files\\Acoustic Data\\Test\\1min_parts\\segment_3.wav:\n",
      "P(Ruminating=0.011533430461347966)\n",
      "P(Gulp=0.011508556751343539)\n",
      "P(Breath=0.9769580127873085)\n",
      "\n",
      "E:/Files\\Acoustic Data\\Test\\1min_parts\\segment_30.wav:\n",
      "P(Ruminating=0.29099979664026904)\n",
      "P(Gulp=0.1726947112513274)\n",
      "P(Breath=0.5363054921084032)\n",
      "\n",
      "E:/Files\\Acoustic Data\\Test\\1min_parts\\segment_31.wav:\n",
      "P(Ruminating=0.014432444082728774)\n",
      "P(Gulp=0.02155745321489845)\n",
      "P(Breath=0.9640101027023729)\n",
      "\n",
      "E:/Files\\Acoustic Data\\Test\\1min_parts\\segment_32.wav:\n",
      "P(Ruminating=0.8703143949745709)\n",
      "P(Gulp=0.048588791780958256)\n",
      "P(Breath=0.08109681324447082)\n",
      "\n",
      "E:/Files\\Acoustic Data\\Test\\1min_parts\\segment_33.wav:\n",
      "P(Ruminating=0.0039537224723357215)\n",
      "P(Gulp=0.006542430489657989)\n",
      "P(Breath=0.9895038470380064)\n",
      "\n",
      "E:/Files\\Acoustic Data\\Test\\1min_parts\\segment_34.wav:\n",
      "P(Ruminating=0.3528048852895693)\n",
      "P(Gulp=0.09140638026843381)\n",
      "P(Breath=0.555788734441997)\n",
      "\n",
      "E:/Files\\Acoustic Data\\Test\\1min_parts\\segment_35.wav:\n",
      "P(Ruminating=0.7810595921768365)\n",
      "P(Gulp=0.13772680099131152)\n",
      "P(Breath=0.08121360683185178)\n",
      "\n",
      "E:/Files\\Acoustic Data\\Test\\1min_parts\\segment_36.wav:\n",
      "P(Ruminating=0.0059038700176462355)\n",
      "P(Gulp=0.012652281848254005)\n",
      "P(Breath=0.9814438481340999)\n",
      "\n",
      "E:/Files\\Acoustic Data\\Test\\1min_parts\\segment_37.wav:\n",
      "P(Ruminating=0.588934205731208)\n",
      "P(Gulp=0.16950003302500183)\n",
      "P(Breath=0.24156576124379028)\n",
      "\n",
      "E:/Files\\Acoustic Data\\Test\\1min_parts\\segment_38.wav:\n",
      "P(Ruminating=0.06692949344611221)\n",
      "P(Gulp=0.02115505474823237)\n",
      "P(Breath=0.9119154518056551)\n",
      "\n",
      "E:/Files\\Acoustic Data\\Test\\1min_parts\\segment_39.wav:\n",
      "P(Ruminating=0.08276332265933349)\n",
      "P(Gulp=0.17016721091940057)\n",
      "P(Breath=0.7470694664212658)\n",
      "\n",
      "E:/Files\\Acoustic Data\\Test\\1min_parts\\segment_4.wav:\n",
      "P(Ruminating=0.19423817766547366)\n",
      "P(Gulp=0.3101941434927608)\n",
      "P(Breath=0.49556767884176545)\n",
      "\n",
      "E:/Files\\Acoustic Data\\Test\\1min_parts\\segment_40.wav:\n",
      "P(Ruminating=0.8072934590132431)\n",
      "P(Gulp=0.060756544141369655)\n",
      "P(Breath=0.13194999684538705)\n",
      "\n",
      "E:/Files\\Acoustic Data\\Test\\1min_parts\\segment_41.wav:\n",
      "P(Ruminating=0.005379663930133526)\n",
      "P(Gulp=0.011307400920367146)\n",
      "P(Breath=0.9833129351494996)\n",
      "\n",
      "E:/Files\\Acoustic Data\\Test\\1min_parts\\segment_42.wav:\n",
      "P(Ruminating=0.4370197600800959)\n",
      "P(Gulp=0.45031571350796845)\n",
      "P(Breath=0.11266452641193561)\n",
      "\n",
      "E:/Files\\Acoustic Data\\Test\\1min_parts\\segment_43.wav:\n",
      "P(Ruminating=0.06787238157555014)\n",
      "P(Gulp=0.041707620794370216)\n",
      "P(Breath=0.8904199976300795)\n",
      "\n",
      "E:/Files\\Acoustic Data\\Test\\1min_parts\\segment_44.wav:\n",
      "P(Ruminating=0.14625119572628872)\n",
      "P(Gulp=0.1678344891414249)\n",
      "P(Breath=0.6859143151322866)\n",
      "\n",
      "E:/Files\\Acoustic Data\\Test\\1min_parts\\segment_45.wav:\n",
      "P(Ruminating=0.7196140892615833)\n",
      "P(Gulp=0.06612707301799824)\n",
      "P(Breath=0.21425883772041873)\n",
      "\n",
      "E:/Files\\Acoustic Data\\Test\\1min_parts\\segment_46.wav:\n",
      "P(Ruminating=0.009543216709893375)\n",
      "P(Gulp=0.019156914226338365)\n",
      "P(Breath=0.9712998690637682)\n",
      "\n",
      "E:/Files\\Acoustic Data\\Test\\1min_parts\\segment_47.wav:\n",
      "P(Ruminating=0.6752253686601145)\n",
      "P(Gulp=0.10632658473160268)\n",
      "P(Breath=0.21844804660828304)\n",
      "\n",
      "E:/Files\\Acoustic Data\\Test\\1min_parts\\segment_48.wav:\n",
      "P(Ruminating=0.03536135571797193)\n",
      "P(Gulp=0.032466350903450916)\n",
      "P(Breath=0.9321722933785772)\n",
      "\n",
      "E:/Files\\Acoustic Data\\Test\\1min_parts\\segment_49.wav:\n",
      "P(Ruminating=0.1177518731465554)\n",
      "P(Gulp=0.07121725195419616)\n",
      "P(Breath=0.8110308748992486)\n",
      "\n",
      "E:/Files\\Acoustic Data\\Test\\1min_parts\\segment_5.wav:\n",
      "P(Ruminating=0.18628528648475248)\n",
      "P(Gulp=0.09593142093429115)\n",
      "P(Breath=0.7177832925809564)\n",
      "\n",
      "E:/Files\\Acoustic Data\\Test\\1min_parts\\segment_50.wav:\n",
      "P(Ruminating=0.8961323418528625)\n",
      "P(Gulp=0.08148936889641092)\n",
      "P(Breath=0.022378289250726914)\n",
      "\n",
      "E:/Files\\Acoustic Data\\Test\\1min_parts\\segment_51.wav:\n",
      "P(Ruminating=0.1843998940094107)\n",
      "P(Gulp=0.7869644925320377)\n",
      "P(Breath=0.028635613458551527)\n",
      "\n",
      "E:/Files\\Acoustic Data\\Test\\1min_parts\\segment_52.wav:\n",
      "P(Ruminating=0.016686384888140796)\n",
      "P(Gulp=0.010569458720016548)\n",
      "P(Breath=0.9727441563918424)\n",
      "\n",
      "E:/Files\\Acoustic Data\\Test\\1min_parts\\segment_53.wav:\n",
      "P(Ruminating=0.5222962250351763)\n",
      "P(Gulp=0.1772409038928704)\n",
      "P(Breath=0.3004628710719534)\n",
      "\n",
      "E:/Files\\Acoustic Data\\Test\\1min_parts\\segment_54.wav:\n",
      "P(Ruminating=0.9092636773426631)\n",
      "P(Gulp=0.05406067919423514)\n",
      "P(Breath=0.03667564346310169)\n",
      "\n",
      "E:/Files\\Acoustic Data\\Test\\1min_parts\\segment_55.wav:\n",
      "P(Ruminating=0.0023014629911863455)\n",
      "P(Gulp=0.005680015659709254)\n",
      "P(Breath=0.9920185213491045)\n",
      "\n",
      "E:/Files\\Acoustic Data\\Test\\1min_parts\\segment_56.wav:\n",
      "P(Ruminating=0.46322394857522003)\n",
      "P(Gulp=0.3036892481803768)\n",
      "P(Breath=0.23308680324440326)\n",
      "\n",
      "E:/Files\\Acoustic Data\\Test\\1min_parts\\segment_57.wav:\n",
      "P(Ruminating=0.028494189301781492)\n",
      "P(Gulp=0.04394059743630585)\n",
      "P(Breath=0.9275652132619129)\n",
      "\n",
      "E:/Files\\Acoustic Data\\Test\\1min_parts\\segment_58.wav:\n",
      "P(Ruminating=0.05523342852885595)\n",
      "P(Gulp=0.01985546926286658)\n",
      "P(Breath=0.9249111022082772)\n",
      "\n",
      "E:/Files\\Acoustic Data\\Test\\1min_parts\\segment_59.wav:\n",
      "P(Ruminating=0.699892950806643)\n",
      "P(Gulp=0.06048718991782027)\n",
      "P(Breath=0.2396198592755369)\n",
      "\n",
      "E:/Files\\Acoustic Data\\Test\\1min_parts\\segment_6.wav:\n",
      "P(Ruminating=0.02335159498255492)\n",
      "P(Gulp=0.02123349985630303)\n",
      "P(Breath=0.955414905161142)\n",
      "\n",
      "E:/Files\\Acoustic Data\\Test\\1min_parts\\segment_7.wav:\n",
      "P(Ruminating=0.4317747756039169)\n",
      "P(Gulp=0.529317829309187)\n",
      "P(Breath=0.03890739508689588)\n",
      "\n",
      "E:/Files\\Acoustic Data\\Test\\1min_parts\\segment_8.wav:\n",
      "P(Ruminating=0.10316476730215395)\n",
      "P(Gulp=0.19672923885042345)\n",
      "P(Breath=0.7001059938474224)\n",
      "\n",
      "E:/Files\\Acoustic Data\\Test\\1min_parts\\segment_9.wav:\n",
      "P(Ruminating=0.016013083282460705)\n",
      "P(Gulp=0.02296580727159059)\n",
      "P(Breath=0.9610211094459491)\n",
      "\n"
     ]
    }
   ],
   "source": [
    "from pyAudioAnalysis import audioTrainTest as aT\n",
    "import os\n",
    "files_to_test_path = os.path.join('E:/Files','Acoustic Data', 'Test', '1min_parts')\n",
    "files_to_test = [os.path.join(files_to_test_path, file) for file in os.listdir(files_to_test_path) if file.endswith(\".wav\")]\n",
    "for f in files_to_test:\n",
    "    print(f'{f}:')\n",
    "    c, p, p_nam = aT.file_classification(f, \"svm_Ruminating_Gulp_Breath\",\"svm_rbf\")\n",
    "    print(f'P({p_nam[0]}={p[0]})')\n",
    "    print(f'P({p_nam[1]}={p[1]})')\n",
    "    print(f'P({p_nam[2]}={p[2]})')\n",
    "    print()"
   ]
  },
  {
   "cell_type": "code",
   "execution_count": 14,
   "metadata": {},
   "outputs": [
    {
     "name": "stderr",
     "output_type": "stream",
     "text": [
      "e:\\Files\\Github\\Cow-Audio-Detection\\pyAudioAnalysis\\audioBasicIO.py:99: WavFileWarning: Chunk (non-data) not understood, skipping it.\n",
      "  sampling_rate, signal = wavfile.read(input_file) # from scipy.io\n"
     ]
    },
    {
     "name": "stdout",
     "output_type": "stream",
     "text": [
      "[0. 1.] 0.0\n",
      "[1. 4.] 1.0\n",
      "[4. 6.] 2.0\n",
      "[6. 7.] 0.0\n",
      "[7. 9.] 2.0\n",
      "[ 9. 10.] 0.0\n",
      "[10. 12.] 2.0\n",
      "[12. 13.] 0.0\n",
      "[13. 15.] 2.0\n",
      "[15. 16.] 0.0\n",
      "[16. 17.] 2.0\n",
      "[17. 18.] 0.0\n",
      "[18. 22.] 2.0\n",
      "[22. 24.] 0.0\n",
      "[24. 25.] 2.0\n",
      "[25. 27.] 0.0\n",
      "[27. 28.] 2.0\n",
      "[28. 29.] 0.0\n",
      "[29. 31.] 2.0\n",
      "[31. 33.] 0.0\n",
      "[33. 34.] 2.0\n",
      "[34. 36.] 0.0\n",
      "[36. 37.] 2.0\n",
      "[37. 38.] 0.0\n",
      "[38. 40.] 2.0\n",
      "[40. 41.] 0.0\n",
      "[41. 42.] 2.0\n",
      "[42. 43.] 0.0\n",
      "[43. 45.] 2.0\n",
      "[45. 47.] 0.0\n",
      "[47. 48.] 1.0\n",
      "[48. 49.] 0.0\n",
      "[49. 50.] 2.0\n",
      "[50. 51.] 1.0\n",
      "[51. 55.] 2.0\n",
      "[55. 56.] 0.0\n",
      "[56. 60.] 2.0\n",
      "[60. 61.] 0.0\n",
      "[61. 62.] 2.0\n",
      "[62. 63.] 0.0\n",
      "[63. 64.] 2.0\n",
      "[64. 65.] 1.0\n",
      "[65. 67.] 2.0\n",
      "[67. 68.] 1.0\n",
      "[68. 70.] 2.0\n",
      "[70. 72.] 0.0\n",
      "[72. 74.] 1.0\n",
      "[74. 75.] 0.0\n",
      "[75. 76.] 2.0\n",
      "[76. 77.] 0.0\n",
      "[77. 78.] 2.0\n",
      "[78. 80.] 0.0\n",
      "[80. 81.] 2.0\n",
      "[81. 82.] 0.0\n",
      "[82. 87.] 2.0\n",
      "[87. 88.] 0.0\n",
      "[88. 89.] 2.0\n",
      "[89. 90.] 0.0\n",
      "[90. 92.] 2.0\n",
      "[92. 93.] 0.0\n",
      "[93. 94.] 2.0\n",
      "[94. 95.] 0.0\n",
      "[95. 96.] 1.0\n",
      "[96. 97.] 2.0\n",
      "[97. 98.] 0.0\n",
      "[ 98. 100.] 2.0\n",
      "[100. 101.] 0.0\n",
      "[101. 102.] 2.0\n",
      "[102. 103.] 0.0\n",
      "[103. 105.] 2.0\n",
      "[105. 106.] 0.0\n",
      "[106. 107.] 2.0\n",
      "[107. 108.] 0.0\n",
      "[108. 110.] 2.0\n",
      "[110. 111.] 1.0\n",
      "[111. 112.] 0.0\n",
      "[112. 113.] 2.0\n",
      "[113. 115.] 0.0\n",
      "[115. 116.] 2.0\n",
      "[116. 117.] 0.0\n",
      "[117. 119.] 2.0\n",
      "Ruminating 36.97478991596638 1.2222222222222223\n",
      "Gulp 9.243697478991596 1.375\n",
      "Breath 53.78151260504202 1.7297297297297298\n",
      "[0 1 2] [36.97478992  9.24369748 53.78151261]\n"
     ]
    },
    {
     "data": {
      "image/png": "[encoded data removed]",
      "text/plain": [
       "<Figure size 640x480 with 3 Axes>"
      ]
     },
     "metadata": {},
     "output_type": "display_data"
    },
    {
     "name": "stdout",
     "output_type": "stream",
     "text": [
      "Overall Accuracy: 0.82\n",
      "\n",
      "Segments:\n",
      "segment 0 0.0 sec - 1.0 sec: Ruminating\n",
      "segment 1 1.0 sec - 4.0 sec: Gulp\n",
      "segment 2 4.0 sec - 6.0 sec: Breath\n",
      "segment 3 6.0 sec - 7.0 sec: Ruminating\n",
      "segment 4 7.0 sec - 9.0 sec: Breath\n",
      "segment 5 9.0 sec - 10.0 sec: Ruminating\n",
      "segment 6 10.0 sec - 12.0 sec: Breath\n",
      "segment 7 12.0 sec - 13.0 sec: Ruminating\n",
      "segment 8 13.0 sec - 15.0 sec: Breath\n",
      "segment 9 15.0 sec - 16.0 sec: Ruminating\n",
      "segment 10 16.0 sec - 17.0 sec: Breath\n",
      "segment 11 17.0 sec - 18.0 sec: Ruminating\n",
      "segment 12 18.0 sec - 22.0 sec: Breath\n",
      "segment 13 22.0 sec - 24.0 sec: Ruminating\n",
      "segment 14 24.0 sec - 25.0 sec: Breath\n",
      "segment 15 25.0 sec - 27.0 sec: Ruminating\n",
      "segment 16 27.0 sec - 28.0 sec: Breath\n",
      "segment 17 28.0 sec - 29.0 sec: Ruminating\n",
      "segment 18 29.0 sec - 31.0 sec: Breath\n",
      "segment 19 31.0 sec - 33.0 sec: Ruminating\n",
      "segment 20 33.0 sec - 34.0 sec: Breath\n",
      "segment 21 34.0 sec - 36.0 sec: Ruminating\n",
      "segment 22 36.0 sec - 37.0 sec: Breath\n",
      "segment 23 37.0 sec - 38.0 sec: Ruminating\n",
      "segment 24 38.0 sec - 40.0 sec: Breath\n",
      "segment 25 40.0 sec - 41.0 sec: Ruminating\n",
      "segment 26 41.0 sec - 42.0 sec: Breath\n",
      "segment 27 42.0 sec - 43.0 sec: Ruminating\n",
      "segment 28 43.0 sec - 45.0 sec: Breath\n",
      "segment 29 45.0 sec - 47.0 sec: Ruminating\n",
      "segment 30 47.0 sec - 48.0 sec: Gulp\n",
      "segment 31 48.0 sec - 49.0 sec: Ruminating\n",
      "segment 32 49.0 sec - 50.0 sec: Breath\n",
      "segment 33 50.0 sec - 51.0 sec: Gulp\n",
      "segment 34 51.0 sec - 55.0 sec: Breath\n",
      "segment 35 55.0 sec - 56.0 sec: Ruminating\n",
      "segment 36 56.0 sec - 60.0 sec: Breath\n",
      "segment 37 60.0 sec - 61.0 sec: Ruminating\n",
      "segment 38 61.0 sec - 62.0 sec: Breath\n",
      "segment 39 62.0 sec - 63.0 sec: Ruminating\n",
      "segment 40 63.0 sec - 64.0 sec: Breath\n",
      "segment 41 64.0 sec - 65.0 sec: Gulp\n",
      "segment 42 65.0 sec - 67.0 sec: Breath\n",
      "segment 43 67.0 sec - 68.0 sec: Gulp\n",
      "segment 44 68.0 sec - 70.0 sec: Breath\n",
      "segment 45 70.0 sec - 72.0 sec: Ruminating\n",
      "segment 46 72.0 sec - 74.0 sec: Gulp\n",
      "segment 47 74.0 sec - 75.0 sec: Ruminating\n",
      "segment 48 75.0 sec - 76.0 sec: Breath\n",
      "segment 49 76.0 sec - 77.0 sec: Ruminating\n",
      "segment 50 77.0 sec - 78.0 sec: Breath\n",
      "segment 51 78.0 sec - 80.0 sec: Ruminating\n",
      "segment 52 80.0 sec - 81.0 sec: Breath\n",
      "segment 53 81.0 sec - 82.0 sec: Ruminating\n",
      "segment 54 82.0 sec - 87.0 sec: Breath\n",
      "segment 55 87.0 sec - 88.0 sec: Ruminating\n",
      "segment 56 88.0 sec - 89.0 sec: Breath\n",
      "segment 57 89.0 sec - 90.0 sec: Ruminating\n",
      "segment 58 90.0 sec - 92.0 sec: Breath\n",
      "segment 59 92.0 sec - 93.0 sec: Ruminating\n",
      "segment 60 93.0 sec - 94.0 sec: Breath\n",
      "segment 61 94.0 sec - 95.0 sec: Ruminating\n",
      "segment 62 95.0 sec - 96.0 sec: Gulp\n",
      "segment 63 96.0 sec - 97.0 sec: Breath\n",
      "segment 64 97.0 sec - 98.0 sec: Ruminating\n",
      "segment 65 98.0 sec - 100.0 sec: Breath\n",
      "segment 66 100.0 sec - 101.0 sec: Ruminating\n",
      "segment 67 101.0 sec - 102.0 sec: Breath\n",
      "segment 68 102.0 sec - 103.0 sec: Ruminating\n",
      "segment 69 103.0 sec - 105.0 sec: Breath\n",
      "segment 70 105.0 sec - 106.0 sec: Ruminating\n",
      "segment 71 106.0 sec - 107.0 sec: Breath\n",
      "segment 72 107.0 sec - 108.0 sec: Ruminating\n",
      "segment 73 108.0 sec - 110.0 sec: Breath\n",
      "segment 74 110.0 sec - 111.0 sec: Gulp\n",
      "segment 75 111.0 sec - 112.0 sec: Ruminating\n",
      "segment 76 112.0 sec - 113.0 sec: Breath\n",
      "segment 77 113.0 sec - 115.0 sec: Ruminating\n",
      "segment 78 115.0 sec - 116.0 sec: Breath\n",
      "segment 79 116.0 sec - 117.0 sec: Ruminating\n",
      "segment 80 117.0 sec - 119.0 sec: Breath\n"
     ]
    }
   ],
   "source": [
    "from pyAudioAnalysis.audioSegmentation import mid_term_file_classification, labels_to_segments\n",
    "from pyAudioAnalysis.audioTrainTest import load_model\n",
    "import os\n",
    "labels, class_names, _, _ = mid_term_file_classification(os.path.join('E:/Files','Acoustic Data', 'Test','2min_new.wav'), \n",
    "                                                         \"svm_Ruminating_Gulp_Breath\", \"svm_rbf\",  True, \n",
    "                                                        os.path.join('E:/Files','Acoustic Data', 'Test','2min_new.segments'))\n",
    "#print(\"\\nFix-sized segments:\")\n",
    "#for il, l in enumerate(labels):\n",
    "#    print(f'fix-sized segment {il}: {class_names[int(l)]}')\n",
    "\n",
    "# load the parameters of the model (actually we just want the mt_step here):    \n",
    "cl, m, s, m_classes, mt_win, mt_step, s_win, s_step, c_beat = load_model(\"svm_Ruminating_Gulp_Breath\")\n",
    "\n",
    "# print \"merged\" segments (use labels_to_segments())\n",
    "print(\"\\nSegments:\")\n",
    "segs, c = labels_to_segments(labels, mt_step)\n",
    "for iS, seg in enumerate(segs):\n",
    "    print(f'segment {iS} {seg[0]} sec - {seg[1]} sec: {class_names[int(c[iS])]}')"
   ]
  },
  {
   "cell_type": "code",
   "execution_count": 19,
   "metadata": {},
   "outputs": [
    {
     "name": "stdout",
     "output_type": "stream",
     "text": [
      "37627 8000.0\n",
      "duration = 4.703375 seconds\n"
     ]
    },
    {
     "data": {
      "application/vnd.plotly.v1+json": {
       "config": {
        "linkText": "Export to plot.ly",
        "plotlyServerURL": "https://plot.ly",
        "showLink": false
       },
       "data": [
        {
         "name": "zcr",
         "type": "scatter",
         "x": [
          0,
          0.05,
          0.1,
          0.15000000000000002,
          0.2,
          0.25,
          0.30000000000000004,
          0.35000000000000003,
          0.4,
          0.45,
          0.5,
          0.55,
          0.6000000000000001,
          0.65,
          0.7000000000000001,
          0.75,
          0.8,
          0.8500000000000001,
          0.9,
          0.9500000000000001,
          1,
          1.05,
          1.1,
          1.1500000000000001,
          1.2000000000000002,
          1.25,
          1.3,
          1.35,
          1.4000000000000001,
          1.4500000000000002,
          1.5,
          1.55,
          1.6,
          1.6500000000000001,
          1.7000000000000002,
          1.75,
          1.8,
          1.85,
          1.9000000000000001,
          1.9500000000000002,
          2,
          2.0500000000000003,
          2.1,
          2.15,
          2.2,
          2.25,
          2.3000000000000003,
          2.35,
          2.4000000000000004,
          2.45,
          2.5,
          2.5500000000000003,
          2.6,
          2.6500000000000004,
          2.7,
          2.75,
          2.8000000000000003,
          2.85,
          2.9000000000000004,
          2.95,
          3,
          3.0500000000000003,
          3.1,
          3.1500000000000004,
          3.2,
          3.25,
          3.3000000000000003,
          3.35,
          3.4000000000000004,
          3.45,
          3.5,
          3.5500000000000003,
          3.6,
          3.6500000000000004,
          3.7,
          3.75,
          3.8000000000000003,
          3.85,
          3.9000000000000004,
          3.95,
          4,
          4.05,
          4.1000000000000005,
          4.15,
          4.2,
          4.25,
          4.3,
          4.3500000000000005,
          4.4,
          4.45,
          4.5,
          4.55,
          4.6000000000000005,
          4.65
         ],
         "xaxis": "x",
         "y": [
          0.047619047619047616,
          0.05764411027568922,
          0.09273182957393483,
          0.15288220551378445,
          0.14285714285714285,
          0.08020050125313283,
          0.045112781954887216,
          0.05764411027568922,
          0.08270676691729323,
          0.06766917293233082,
          0.11779448621553884,
          0.16040100250626566,
          0.15288220551378445,
          0.07769423558897243,
          0.09523809523809523,
          0.10526315789473684,
          0.14536340852130325,
          0.11528822055137844,
          0.06766917293233082,
          0.14035087719298245,
          0.13032581453634084,
          0.16791979949874686,
          0.15288220551378445,
          0.13032581453634084,
          0.13032581453634084,
          0.15789473684210525,
          0.09774436090225563,
          0.10275689223057644,
          0.12531328320802004,
          0.08771929824561403,
          0.13784461152882205,
          0.09273182957393483,
          0.15288220551378445,
          0.16541353383458646,
          0.17543859649122806,
          0.18546365914786966,
          0.13032581453634084,
          0.15288220551378445,
          0.18045112781954886,
          0.19799498746867167,
          0.23057644110275688,
          0.16791979949874686,
          0.14285714285714285,
          0.13283208020050125,
          0.14285714285714285,
          0.11278195488721804,
          0.08521303258145363,
          0.14285714285714285,
          0.22305764411027568,
          0.19799498746867167,
          0.22807017543859648,
          0.15538847117794485,
          0.12030075187969924,
          0.16290726817042606,
          0.19548872180451127,
          0.15538847117794485,
          0.17042606516290726,
          0.17042606516290726,
          0.16040100250626566,
          0.19047619047619047,
          0.17042606516290726,
          0.17543859649122806,
          0.14285714285714285,
          0.21553884711779447,
          0.23558897243107768,
          0.22305764411027568,
          0.21553884711779447,
          0.23809523809523808,
          0.2706766917293233,
          0.18045112781954886,
          0.19548872180451127,
          0.23308270676691728,
          0.19799498746867167,
          0.20802005012531327,
          0.23558897243107768,
          0.20802005012531327,
          0.24060150375939848,
          0.22807017543859648,
          0.22807017543859648,
          0.22556390977443608,
          0.21052631578947367,
          0.21303258145363407,
          0.17042606516290726,
          0.06766917293233082,
          0.09273182957393483,
          0.08270676691729323,
          0.10776942355889724,
          0.14285714285714285,
          0.16040100250626566,
          0.15538847117794485,
          0.16290726817042606,
          0.13533834586466165,
          0.19298245614035087,
          0.14786967418546365
         ],
         "yaxis": "y"
        },
        {
         "name": "mfcc_1",
         "type": "scatter",
         "x": [
          0,
          0.05,
          0.1,
          0.15000000000000002,
          0.2,
          0.25,
          0.30000000000000004,
          0.35000000000000003,
          0.4,
          0.45,
          0.5,
          0.55,
          0.6000000000000001,
          0.65,
          0.7000000000000001,
          0.75,
          0.8,
          0.8500000000000001,
          0.9,
          0.9500000000000001,
          1,
          1.05,
          1.1,
          1.1500000000000001,
          1.2000000000000002,
          1.25,
          1.3,
          1.35,
          1.4000000000000001,
          1.4500000000000002,
          1.5,
          1.55,
          1.6,
          1.6500000000000001,
          1.7000000000000002,
          1.75,
          1.8,
          1.85,
          1.9000000000000001,
          1.9500000000000002,
          2,
          2.0500000000000003,
          2.1,
          2.15,
          2.2,
          2.25,
          2.3000000000000003,
          2.35,
          2.4000000000000004,
          2.45,
          2.5,
          2.5500000000000003,
          2.6,
          2.6500000000000004,
          2.7,
          2.75,
          2.8000000000000003,
          2.85,
          2.9000000000000004,
          2.95,
          3,
          3.0500000000000003,
          3.1,
          3.1500000000000004,
          3.2,
          3.25,
          3.3000000000000003,
          3.35,
          3.4000000000000004,
          3.45,
          3.5,
          3.5500000000000003,
          3.6,
          3.6500000000000004,
          3.7,
          3.75,
          3.8000000000000003,
          3.85,
          3.9000000000000004,
          3.95,
          4,
          4.05,
          4.1000000000000005,
          4.15,
          4.2,
          4.25,
          4.3,
          4.3500000000000005,
          4.4,
          4.45,
          4.5,
          4.55,
          4.6000000000000005,
          4.65
         ],
         "xaxis": "x2",
         "y": [
          -29.319005007861822,
          -26.306589054383572,
          -25.74231246654841,
          -24.127237434765632,
          -28.20521717707663,
          -28.90222558900274,
          -25.971414612669697,
          -26.676777271936505,
          -30.320344901791668,
          -30.478010215694344,
          -30.175329081385847,
          -29.287529177671868,
          -29.547845789507395,
          -27.82841582349689,
          -27.56068859932839,
          -28.494027989837942,
          -29.159050742965885,
          -25.79748406759287,
          -24.022107739261887,
          -20.377204706684868,
          -21.0712960872741,
          -20.858524368716747,
          -23.996934902532978,
          -27.205805777173353,
          -26.949626908372053,
          -26.55480573822286,
          -25.75163030252081,
          -26.63330574167576,
          -29.702069611391938,
          -30.08492963285283,
          -29.60196687716641,
          -28.27536705414241,
          -28.49960729832918,
          -28.451574588757456,
          -28.666538180646054,
          -28.241140140132014,
          -28.678744293239337,
          -28.340951757048245,
          -28.02073551940667,
          -27.928187123543292,
          -27.029270862008982,
          -27.753836962443724,
          -27.129441490768475,
          -26.060394660033243,
          -26.705438944893714,
          -26.23423307969359,
          -27.077299016721824,
          -26.670194255817954,
          -24.78818217509671,
          -23.672744157180187,
          -23.311383546027706,
          -23.111494768529937,
          -22.939882388938003,
          -23.081835378026902,
          -22.985681593817883,
          -22.745693053342272,
          -22.702489885501247,
          -22.537231412158363,
          -22.080156866079776,
          -22.392415347050555,
          -23.021721805920897,
          -23.103735465171983,
          -22.399215722049806,
          -21.374298343791168,
          -20.630679553317012,
          -20.933748758576048,
          -20.576654834939013,
          -20.811344437983195,
          -20.406207947159274,
          -20.180392704467728,
          -20.05750861224235,
          -19.895015299000693,
          -19.59370176287342,
          -19.935435961505974,
          -20.093038640908272,
          -19.49574044498004,
          -20.385329892159678,
          -19.677491129983935,
          -19.959843230008744,
          -20.32990135093309,
          -18.9221293685121,
          -21.094611674140292,
          -25.540123710252264,
          -24.754016027713323,
          -22.009082997381352,
          -20.36185569963804,
          -18.075578635789945,
          -18.284417537223934,
          -19.05635784138578,
          -19.294342371835093,
          -19.78060394842591,
          -20.842018346339504,
          -23.772732558502256,
          -26.961914966331495
         ],
         "yaxis": "y2"
        }
       ],
       "layout": {
        "template": {
         "data": {
          "bar": [
           {
            "error_x": {
             "color": "#2a3f5f"
            },
            "error_y": {
             "color": "#2a3f5f"
            },
            "marker": {
             "line": {
              "color": "#E5ECF6",
              "width": 0.5
             },
             "pattern": {
              "fillmode": "overlay",
              "size": 10,
              "solidity": 0.2
             }
            },
            "type": "bar"
           }
          ],
          "barpolar": [
           {
            "marker": {
             "line": {
              "color": "#E5ECF6",
              "width": 0.5
             },
             "pattern": {
              "fillmode": "overlay",
              "size": 10,
              "solidity": 0.2
             }
            },
            "type": "barpolar"
           }
          ],
          "carpet": [
           {
            "aaxis": {
             "endlinecolor": "#2a3f5f",
             "gridcolor": "white",
             "linecolor": "white",
             "minorgridcolor": "white",
             "startlinecolor": "#2a3f5f"
            },
            "baxis": {
             "endlinecolor": "#2a3f5f",
             "gridcolor": "white",
             "linecolor": "white",
             "minorgridcolor": "white",
             "startlinecolor": "#2a3f5f"
            },
            "type": "carpet"
           }
          ],
          "choropleth": [
           {
            "colorbar": {
             "outlinewidth": 0,
             "ticks": ""
            },
            "type": "choropleth"
           }
          ],
          "contour": [
           {
            "colorbar": {
             "outlinewidth": 0,
             "ticks": ""
            },
            "colorscale": [
             [
              0,
              "#0d0887"
             ],
             [
              0.1111111111111111,
              "#46039f"
             ],
             [
              0.2222222222222222,
              "#7201a8"
             ],
             [
              0.3333333333333333,
              "#9c179e"
             ],
             [
              0.4444444444444444,
              "#bd3786"
             ],
             [
              0.5555555555555556,
              "#d8576b"
             ],
             [
              0.6666666666666666,
              "#ed7953"
             ],
             [
              0.7777777777777778,
              "#fb9f3a"
             ],
             [
              0.8888888888888888,
              "#fdca26"
             ],
             [
              1,
              "#f0f921"
             ]
            ],
            "type": "contour"
           }
          ],
          "contourcarpet": [
           {
            "colorbar": {
             "outlinewidth": 0,
             "ticks": ""
            },
            "type": "contourcarpet"
           }
          ],
          "heatmap": [
           {
            "colorbar": {
             "outlinewidth": 0,
             "ticks": ""
            },
            "colorscale": [
             [
              0,
              "#0d0887"
             ],
             [
              0.1111111111111111,
              "#46039f"
             ],
             [
              0.2222222222222222,
              "#7201a8"
             ],
             [
              0.3333333333333333,
              "#9c179e"
             ],
             [
              0.4444444444444444,
              "#bd3786"
             ],
             [
              0.5555555555555556,
              "#d8576b"
             ],
             [
              0.6666666666666666,
              "#ed7953"
             ],
             [
              0.7777777777777778,
              "#fb9f3a"
             ],
             [
              0.8888888888888888,
              "#fdca26"
             ],
             [
              1,
              "#f0f921"
             ]
            ],
            "type": "heatmap"
           }
          ],
          "heatmapgl": [
           {
            "colorbar": {
             "outlinewidth": 0,
             "ticks": ""
            },
            "colorscale": [
             [
              0,
              "#0d0887"
             ],
             [
              0.1111111111111111,
              "#46039f"
             ],
             [
              0.2222222222222222,
              "#7201a8"
             ],
             [
              0.3333333333333333,
              "#9c179e"
             ],
             [
              0.4444444444444444,
              "#bd3786"
             ],
             [
              0.5555555555555556,
              "#d8576b"
             ],
             [
              0.6666666666666666,
              "#ed7953"
             ],
             [
              0.7777777777777778,
              "#fb9f3a"
             ],
             [
              0.8888888888888888,
              "#fdca26"
             ],
             [
              1,
              "#f0f921"
             ]
            ],
            "type": "heatmapgl"
           }
          ],
          "histogram": [
           {
            "marker": {
             "pattern": {
              "fillmode": "overlay",
              "size": 10,
              "solidity": 0.2
             }
            },
            "type": "histogram"
           }
          ],
          "histogram2d": [
           {
            "colorbar": {
             "outlinewidth": 0,
             "ticks": ""
            },
            "colorscale": [
             [
              0,
              "#0d0887"
             ],
             [
              0.1111111111111111,
              "#46039f"
             ],
             [
              0.2222222222222222,
              "#7201a8"
             ],
             [
              0.3333333333333333,
              "#9c179e"
             ],
             [
              0.4444444444444444,
              "#bd3786"
             ],
             [
              0.5555555555555556,
              "#d8576b"
             ],
             [
              0.6666666666666666,
              "#ed7953"
             ],
             [
              0.7777777777777778,
              "#fb9f3a"
             ],
             [
              0.8888888888888888,
              "#fdca26"
             ],
             [
              1,
              "#f0f921"
             ]
            ],
            "type": "histogram2d"
           }
          ],
          "histogram2dcontour": [
           {
            "colorbar": {
             "outlinewidth": 0,
             "ticks": ""
            },
            "colorscale": [
             [
              0,
              "#0d0887"
             ],
             [
              0.1111111111111111,
              "#46039f"
             ],
             [
              0.2222222222222222,
              "#7201a8"
             ],
             [
              0.3333333333333333,
              "#9c179e"
             ],
             [
              0.4444444444444444,
              "#bd3786"
             ],
             [
              0.5555555555555556,
              "#d8576b"
             ],
             [
              0.6666666666666666,
              "#ed7953"
             ],
             [
              0.7777777777777778,
              "#fb9f3a"
             ],
             [
              0.8888888888888888,
              "#fdca26"
             ],
             [
              1,
              "#f0f921"
             ]
            ],
            "type": "histogram2dcontour"
           }
          ],
          "mesh3d": [
           {
            "colorbar": {
             "outlinewidth": 0,
             "ticks": ""
            },
            "type": "mesh3d"
           }
          ],
          "parcoords": [
           {
            "line": {
             "colorbar": {
              "outlinewidth": 0,
              "ticks": ""
             }
            },
            "type": "parcoords"
           }
          ],
          "pie": [
           {
            "automargin": true,
            "type": "pie"
           }
          ],
          "scatter": [
           {
            "fillpattern": {
             "fillmode": "overlay",
             "size": 10,
             "solidity": 0.2
            },
            "type": "scatter"
           }
          ],
          "scatter3d": [
           {
            "line": {
             "colorbar": {
              "outlinewidth": 0,
              "ticks": ""
             }
            },
            "marker": {
             "colorbar": {
              "outlinewidth": 0,
              "ticks": ""
             }
            },
            "type": "scatter3d"
           }
          ],
          "scattercarpet": [
           {
            "marker": {
             "colorbar": {
              "outlinewidth": 0,
              "ticks": ""
             }
            },
            "type": "scattercarpet"
           }
          ],
          "scattergeo": [
           {
            "marker": {
             "colorbar": {
              "outlinewidth": 0,
              "ticks": ""
             }
            },
            "type": "scattergeo"
           }
          ],
          "scattergl": [
           {
            "marker": {
             "colorbar": {
              "outlinewidth": 0,
              "ticks": ""
             }
            },
            "type": "scattergl"
           }
          ],
          "scattermapbox": [
           {
            "marker": {
             "colorbar": {
              "outlinewidth": 0,
              "ticks": ""
             }
            },
            "type": "scattermapbox"
           }
          ],
          "scatterpolar": [
           {
            "marker": {
             "colorbar": {
              "outlinewidth": 0,
              "ticks": ""
             }
            },
            "type": "scatterpolar"
           }
          ],
          "scatterpolargl": [
           {
            "marker": {
             "colorbar": {
              "outlinewidth": 0,
              "ticks": ""
             }
            },
            "type": "scatterpolargl"
           }
          ],
          "scatterternary": [
           {
            "marker": {
             "colorbar": {
              "outlinewidth": 0,
              "ticks": ""
             }
            },
            "type": "scatterternary"
           }
          ],
          "surface": [
           {
            "colorbar": {
             "outlinewidth": 0,
             "ticks": ""
            },
            "colorscale": [
             [
              0,
              "#0d0887"
             ],
             [
              0.1111111111111111,
              "#46039f"
             ],
             [
              0.2222222222222222,
              "#7201a8"
             ],
             [
              0.3333333333333333,
              "#9c179e"
             ],
             [
              0.4444444444444444,
              "#bd3786"
             ],
             [
              0.5555555555555556,
              "#d8576b"
             ],
             [
              0.6666666666666666,
              "#ed7953"
             ],
             [
              0.7777777777777778,
              "#fb9f3a"
             ],
             [
              0.8888888888888888,
              "#fdca26"
             ],
             [
              1,
              "#f0f921"
             ]
            ],
            "type": "surface"
           }
          ],
          "table": [
           {
            "cells": {
             "fill": {
              "color": "#EBF0F8"
             },
             "line": {
              "color": "white"
             }
            },
            "header": {
             "fill": {
              "color": "#C8D4E3"
             },
             "line": {
              "color": "white"
             }
            },
            "type": "table"
           }
          ]
         },
         "layout": {
          "annotationdefaults": {
           "arrowcolor": "#2a3f5f",
           "arrowhead": 0,
           "arrowwidth": 1
          },
          "autotypenumbers": "strict",
          "coloraxis": {
           "colorbar": {
            "outlinewidth": 0,
            "ticks": ""
           }
          },
          "colorscale": {
           "diverging": [
            [
             0,
             "#8e0152"
            ],
            [
             0.1,
             "#c51b7d"
            ],
            [
             0.2,
             "#de77ae"
            ],
            [
             0.3,
             "#f1b6da"
            ],
            [
             0.4,
             "#fde0ef"
            ],
            [
             0.5,
             "#f7f7f7"
            ],
            [
             0.6,
             "#e6f5d0"
            ],
            [
             0.7,
             "#b8e186"
            ],
            [
             0.8,
             "#7fbc41"
            ],
            [
             0.9,
             "#4d9221"
            ],
            [
             1,
             "#276419"
            ]
           ],
           "sequential": [
            [
             0,
             "#0d0887"
            ],
            [
             0.1111111111111111,
             "#46039f"
            ],
            [
             0.2222222222222222,
             "#7201a8"
            ],
            [
             0.3333333333333333,
             "#9c179e"
            ],
            [
             0.4444444444444444,
             "#bd3786"
            ],
            [
             0.5555555555555556,
             "#d8576b"
            ],
            [
             0.6666666666666666,
             "#ed7953"
            ],
            [
             0.7777777777777778,
             "#fb9f3a"
            ],
            [
             0.8888888888888888,
             "#fdca26"
            ],
            [
             1,
             "#f0f921"
            ]
           ],
           "sequentialminus": [
            [
             0,
             "#0d0887"
            ],
            [
             0.1111111111111111,
             "#46039f"
            ],
            [
             0.2222222222222222,
             "#7201a8"
            ],
            [
             0.3333333333333333,
             "#9c179e"
            ],
            [
             0.4444444444444444,
             "#bd3786"
            ],
            [
             0.5555555555555556,
             "#d8576b"
            ],
            [
             0.6666666666666666,
             "#ed7953"
            ],
            [
             0.7777777777777778,
             "#fb9f3a"
            ],
            [
             0.8888888888888888,
             "#fdca26"
            ],
            [
             1,
             "#f0f921"
            ]
           ]
          },
          "colorway": [
           "#636efa",
           "#EF553B",
           "#00cc96",
           "#ab63fa",
           "#FFA15A",
           "#19d3f3",
           "#FF6692",
           "#B6E880",
           "#FF97FF",
           "#FECB52"
          ],
          "font": {
           "color": "#2a3f5f"
          },
          "geo": {
           "bgcolor": "white",
           "lakecolor": "white",
           "landcolor": "#E5ECF6",
           "showlakes": true,
           "showland": true,
           "subunitcolor": "white"
          },
          "hoverlabel": {
           "align": "left"
          },
          "hovermode": "closest",
          "mapbox": {
           "style": "light"
          },
          "paper_bgcolor": "white",
          "plot_bgcolor": "#E5ECF6",
          "polar": {
           "angularaxis": {
            "gridcolor": "white",
            "linecolor": "white",
            "ticks": ""
           },
           "bgcolor": "#E5ECF6",
           "radialaxis": {
            "gridcolor": "white",
            "linecolor": "white",
            "ticks": ""
           }
          },
          "scene": {
           "xaxis": {
            "backgroundcolor": "#E5ECF6",
            "gridcolor": "white",
            "gridwidth": 2,
            "linecolor": "white",
            "showbackground": true,
            "ticks": "",
            "zerolinecolor": "white"
           },
           "yaxis": {
            "backgroundcolor": "#E5ECF6",
            "gridcolor": "white",
            "gridwidth": 2,
            "linecolor": "white",
            "showbackground": true,
            "ticks": "",
            "zerolinecolor": "white"
           },
           "zaxis": {
            "backgroundcolor": "#E5ECF6",
            "gridcolor": "white",
            "gridwidth": 2,
            "linecolor": "white",
            "showbackground": true,
            "ticks": "",
            "zerolinecolor": "white"
           }
          },
          "shapedefaults": {
           "line": {
            "color": "#2a3f5f"
           }
          },
          "ternary": {
           "aaxis": {
            "gridcolor": "white",
            "linecolor": "white",
            "ticks": ""
           },
           "baxis": {
            "gridcolor": "white",
            "linecolor": "white",
            "ticks": ""
           },
           "bgcolor": "#E5ECF6",
           "caxis": {
            "gridcolor": "white",
            "linecolor": "white",
            "ticks": ""
           }
          },
          "title": {
           "x": 0.05
          },
          "xaxis": {
           "automargin": true,
           "gridcolor": "white",
           "linecolor": "white",
           "ticks": "",
           "title": {
            "standoff": 15
           },
           "zerolinecolor": "white",
           "zerolinewidth": 2
          },
          "yaxis": {
           "automargin": true,
           "gridcolor": "white",
           "linecolor": "white",
           "ticks": "",
           "title": {
            "standoff": 15
           },
           "zerolinecolor": "white",
           "zerolinewidth": 2
          }
         }
        },
        "xaxis": {
         "anchor": "y",
         "domain": [
          0,
          1
         ],
         "matches": "x2",
         "showticklabels": false
        },
        "xaxis2": {
         "anchor": "y2",
         "domain": [
          0,
          1
         ],
         "title": {
          "text": "time (sec)"
         }
        },
        "yaxis": {
         "anchor": "x",
         "domain": [
          0.575,
          1
         ],
         "title": {
          "text": "zcr"
         }
        },
        "yaxis2": {
         "anchor": "x2",
         "domain": [
          0,
          0.425
         ],
         "title": {
          "text": "mfcc_1"
         }
        }
       }
      }
     },
     "metadata": {},
     "output_type": "display_data"
    },
    {
     "data": {
      "application/vnd.plotly.v1+json": {
       "config": {
        "linkText": "Export to plot.ly",
        "plotlyServerURL": "https://plot.ly",
        "showLink": false
       },
       "data": [
        {
         "colorscale": [
          [
           0,
           "#440154"
          ],
          [
           0.1111111111111111,
           "#482878"
          ],
          [
           0.2222222222222222,
           "#3e4989"
          ],
          [
           0.3333333333333333,
           "#31688e"
          ],
          [
           0.4444444444444444,
           "#26828e"
          ],
          [
           0.5555555555555556,
           "#1f9e89"
          ],
          [
           0.6666666666666666,
           "#35b779"
          ],
          [
           0.7777777777777778,
           "#6ece58"
          ],
          [
           0.8888888888888888,
           "#b5de2b"
          ],
          [
           1,
           "#fde725"
          ]
         ],
         "type": "heatmap",
         "z": [
          [
           -29.319005007861822,
           -26.306589054383572,
           -25.74231246654841,
           -24.127237434765632,
           -28.20521717707663,
           -28.90222558900274,
           -25.971414612669697,
           -26.676777271936505,
           -30.320344901791668,
           -30.478010215694344,
           -30.175329081385847,
           -29.287529177671868,
           -29.547845789507395,
           -27.82841582349689,
           -27.56068859932839,
           -28.494027989837942,
           -29.159050742965885,
           -25.79748406759287,
           -24.022107739261887,
           -20.377204706684868,
           -21.0712960872741,
           -20.858524368716747,
           -23.996934902532978,
           -27.205805777173353,
           -26.949626908372053,
           -26.55480573822286,
           -25.75163030252081,
           -26.63330574167576,
           -29.702069611391938,
           -30.08492963285283,
           -29.60196687716641,
           -28.27536705414241,
           -28.49960729832918,
           -28.451574588757456,
           -28.666538180646054,
           -28.241140140132014,
           -28.678744293239337,
           -28.340951757048245,
           -28.02073551940667,
           -27.928187123543292,
           -27.029270862008982,
           -27.753836962443724,
           -27.129441490768475,
           -26.060394660033243,
           -26.705438944893714,
           -26.23423307969359,
           -27.077299016721824,
           -26.670194255817954,
           -24.78818217509671,
           -23.672744157180187,
           -23.311383546027706,
           -23.111494768529937,
           -22.939882388938003,
           -23.081835378026902,
           -22.985681593817883,
           -22.745693053342272,
           -22.702489885501247,
           -22.537231412158363,
           -22.080156866079776,
           -22.392415347050555,
           -23.021721805920897,
           -23.103735465171983,
           -22.399215722049806,
           -21.374298343791168,
           -20.630679553317012,
           -20.933748758576048,
           -20.576654834939013,
           -20.811344437983195,
           -20.406207947159274,
           -20.180392704467728,
           -20.05750861224235,
           -19.895015299000693,
           -19.59370176287342,
           -19.935435961505974,
           -20.093038640908272,
           -19.49574044498004,
           -20.385329892159678,
           -19.677491129983935,
           -19.959843230008744,
           -20.32990135093309,
           -18.9221293685121,
           -21.094611674140292,
           -25.540123710252264,
           -24.754016027713323,
           -22.009082997381352,
           -20.36185569963804,
           -18.075578635789945,
           -18.284417537223934,
           -19.05635784138578,
           -19.294342371835093,
           -19.78060394842591,
           -20.842018346339504,
           -23.772732558502256,
           -26.961914966331495
          ],
          [
           2.05538171418638,
           3.5324047188363688,
           3.0508860319006033,
           2.9650327616496046,
           1.9778188650946003,
           1.7573693637704215,
           3.4732379745054125,
           2.685037076457127,
           2.1069262587712565,
           2.0552191058918936,
           1.9775765840088038,
           1.5736975897341976,
           1.5862421057270526,
           2.88528813608675,
           2.83419882942093,
           2.4145183443205567,
           2.1493355025366903,
           2.047774764313471,
           1.8058482514192669,
           2.3322573318206747,
           2.732765328177718,
           2.016010096501768,
           1.9464287799278805,
           2.54638698682394,
           2.83371968801517,
           2.4510450783923203,
           2.9952584514275005,
           3.273783280128213,
           2.1660657627254274,
           2.1344881948095686,
           1.9966912325198227,
           3.0514832853683584,
           1.6589630917450087,
           1.7798591792772371,
           2.0437106201765274,
           1.8360174901935822,
           2.097698797073882,
           2.2953755746664175,
           2.1868868741487013,
           1.057511557960258,
           1.0853635141940754,
           1.511577582186968,
           2.3755803216896494,
           3.075736101482102,
           2.847468936889012,
           2.913098464189124,
           2.85597618860011,
           1.5890478914193586,
           1.3738684092306328,
           1.5347462825529412,
           1.41680639747724,
           1.443472077765051,
           2.007872160826218,
           1.8000244435672683,
           1.5398465684567997,
           1.7292081358303129,
           1.9424699179949674,
           2.282022724403645,
           1.9054612965178146,
           2.0243761043433133,
           2.240135297998075,
           2.1335703099530337,
           2.4742467457595527,
           1.2345580432956955,
           1.4535352533943358,
           1.2760257183990107,
           1.5162221482963356,
           1.51098819515084,
           1.3470001619121899,
           1.9164744617801606,
           1.5914791642993442,
           1.3537353498947278,
           0.8681992672811953,
           0.8444876074422982,
           1.05921204633017,
           1.0641041282682182,
           0.11478734977387955,
           0.5935105429479591,
           0.4110630879956999,
           0.3278707182000931,
           1.796236166478987,
           2.237300514873648,
           1.805409120627187,
           3.1097382783876912,
           3.3021422045945057,
           3.5996542905527376,
           2.86193388714672,
           2.3318207742004065,
           3.0118528533290556,
           2.682482330440044,
           3.0860284183561952,
           3.3942171080392596,
           2.143444274427521,
           1.7763114247822211
          ],
          [
           0.0004917602710321663,
           -0.2606962563062711,
           -0.4620118026490854,
           -2.193537241442465,
           -0.3995421009376305,
           -0.0007677069389374382,
           -0.027204404847402122,
           0.11795609518322905,
           0.08356186004032691,
           -0.34597238959684234,
           -0.40873400443633207,
           -0.4586758322835557,
           -0.46372573198948674,
           -0.34397241912992976,
           -0.6513542917301207,
           -0.8026646731222864,
           -0.7775223115115657,
           -0.12438864881400677,
           0.35477849133250455,
           -0.07073601098002492,
           -0.990196142889411,
           -0.679691423951856,
           -0.5759609121663732,
           -0.2154220767582605,
           -0.6101493009602492,
           -1.1115572705463566,
           -0.7078868969075647,
           -0.16110694491995564,
           -0.4919276082504101,
           -0.3220918875577975,
           -0.27388072372332883,
           0.040342162910359074,
           -0.7419845441229957,
           -1.1757408750804945,
           -0.8781117379994235,
           -1.0084682188429677,
           -0.4801598913680216,
           -0.6671770700866382,
           -0.6465446932959594,
           -1.1353781278651587,
           -1.1019056374586458,
           -0.9578521367517308,
           -0.3883545262392506,
           -0.49194219408325646,
           -0.9644796459231444,
           -0.771399348779462,
           -0.466915222574783,
           -0.4486142414056543,
           -1.1355617888403335,
           -0.7566851973548865,
           -1.065158064656572,
           -0.49537898909723577,
           -0.7114904518991267,
           -0.7358707050165976,
           -0.7730027641750655,
           -0.8237998862862238,
           -0.7013354136073,
           -0.674825109132063,
           -0.925813540253463,
           -0.913112436492932,
           -0.8296990011261853,
           -1.075702618804919,
           -1.084661765369633,
           -1.5573499292525468,
           -1.5194120506674933,
           -0.5847958404214173,
           -1.1240396066919784,
           -0.7111989155564415,
           -0.9049742212027421,
           -1.3747292808638467,
           -1.136660176802938,
           -1.2672668629715527,
           -1.383975230342682,
           -1.7070984175480626,
           -1.412937795678634,
           -1.4178294256523682,
           -1.5628982586235858,
           -1.5526409603767108,
           -1.7148754839686182,
           -1.300128638808232,
           -1.4860667516954715,
           -1.3284758508600905,
           0.03263306958465871,
           -0.431327669625274,
           0.15725384133182635,
           -0.18657090592385833,
           -0.7666716011928632,
           -1.3281665464769599,
           -1.3869177451316201,
           -1.4425776900666598,
           -1.4339847359869364,
           -1.2285725155357867,
           0.2832271911824681,
           0.03770039911205224
          ],
          [
           -0.18628611335002698,
           -0.2280885452006137,
           -0.47133691029379127,
           -1.2699405684954943,
           0.05201698553885546,
           -0.040928121979238924,
           -0.5827771239017663,
           -0.28428547111561386,
           -0.12927502916080727,
           -0.4168140787986864,
           -0.347654374973964,
           0.10199554006314338,
           -0.22943596614917938,
           -0.4272368552108989,
           -0.42824855943211315,
           -0.6698916973832061,
           -0.2546113943993265,
           -0.021486225750035236,
           0.3820693653104832,
           -0.12741290292958252,
           0.1818406509900744,
           0.23066244296177355,
           -0.06587461305079644,
           0.017109207337928242,
           0.36810563984850614,
           0.22524280008769004,
           0.47352811309867615,
           0.3180714409417671,
           -0.38996007598749727,
           -0.24330117419753505,
           -0.2935097387894932,
           0.269429233889057,
           -0.11195554493683468,
           -0.438820506482893,
           -0.8446788045046605,
           -0.15702449819529848,
           -0.3861588520422998,
           -0.4538652802521805,
           -0.4884992938545945,
           -0.1660119906017844,
           -0.01744971661312935,
           0.06260116117347184,
           0.4057548528741083,
           0.2040460763576492,
           -0.0068558909863963985,
           0.20149338652998372,
           0.07818175443724668,
           0.9568844227726507,
           1.0668997199579573,
           1.184581402501362,
           1.2911957322784273,
           1.3623077614266186,
           1.2522985442804322,
           1.2066825706973354,
           1.0198338222748913,
           1.253536830460834,
           0.9570496324333635,
           0.9625007509053514,
           0.8403311167335465,
           1.1630166194815967,
           1.102650743297902,
           0.9725060314223781,
           0.5795880707675485,
           0.6939664920667445,
           0.5898214171289733,
           0.9420181307418627,
           0.8193967968831092,
           1.2416369663050149,
           1.006301988182046,
           0.9555589365538135,
           1.1749432211630904,
           0.7017643536713323,
           0.7703449328575653,
           0.44187501522880523,
           0.6342328624067436,
           0.44938546061710527,
           0.469375733945375,
           0.34484872625959107,
           0.5645718241027847,
           0.6099574650429744,
           0.13823210834732175,
           0.9603435838314069,
           0.2783817153011392,
           0.07797220790040608,
           0.295487101012347,
           -0.40845524883249573,
           -0.1310568749158429,
           -0.5380671412187263,
           -0.2082078453628611,
           -0.2079111754412118,
           -0.06809066182574836,
           -0.6750261043490893,
           0.006218522514481031,
           -0.035344243872390775
          ],
          [
           0.13759917650097042,
           0.1785741604664152,
           -0.41226174843452623,
           -0.13233571870626296,
           0.166707588109869,
           0.3010886726796138,
           -0.039651433394638676,
           -0.16843393517351668,
           0.06712423852663707,
           0.17180077987940393,
           0.18585824926598443,
           0.12212152273913407,
           0.13345196475793114,
           0.15028890811843418,
           0.4897810489177061,
           0.20411792783590232,
           0.06192106954376028,
           0.5271046291124268,
           0.8239882778474412,
           0.3410549400921419,
           0.5113679337968634,
           0.6470109286954158,
           0.48604926741170346,
           0.23928794000936543,
           0.1256431556621514,
           0.2224189837013214,
           0.4578132672324294,
           0.6298537051926794,
           0.003031035197748194,
           0.23892984528655836,
           0.12017712118817551,
           0.7339329385543274,
           0.5830708740547755,
           0.17781042966234237,
           0.18241142470630856,
           0.6840191637024806,
           0.4991526115978397,
           0.15852389043283763,
           0.1828619671140567,
           0.4850153740219548,
           0.09828730107766434,
           0.1766560476985342,
           0.3679572180749797,
           0.1758273425979854,
           0.17885493773140965,
           0.08956752546835167,
           0.33283818268335036,
           0.02836210707066241,
           -0.2592655356887875,
           -0.08705065006788007,
           0.08508421614110681,
           -0.1956224292822838,
           -0.24459310325131223,
           -0.3166072006681092,
           -0.3256763846534032,
           -0.04605185320009471,
           -0.3153109405055668,
           -0.41807566232188254,
           -0.16829072619635915,
           -0.1406309985528261,
           0.19825021453738556,
           0.46987680664925524,
           -0.3229776067325142,
           0.3657560629113197,
           0.17599035628781,
           -0.5233416756264836,
           0.36068376085170417,
           0.5727189485195746,
           0.49764953158425584,
           0.26371500808861914,
           0.4731262359145125,
           0.055459253036425696,
           0.4176140915537852,
           -0.0399204405089367,
           -0.11866398803509517,
           0.08040277745521977,
           0.50670727818907,
           0.42541698877703193,
           0.45735616921507016,
           0.8475012554739982,
           0.09511075595001134,
           0.016737278037366278,
           -0.3734548338921362,
           0.6002459564278699,
           0.30669856364039955,
           0.209360167927117,
           -0.29612266264317394,
           -0.24409154355559554,
           0.09369082396035609,
           -0.12342990513334649,
           -0.08191778422624875,
           0.06092758113803445,
           0.4546069763532504,
           0.18951806665874754
          ],
          [
           0.31506125610868363,
           0.26032564581011436,
           0.03996717467081462,
           0.0641460788172999,
           -0.14047069283428573,
           0.15931969476738675,
           0.663351628060171,
           0.3202934815733305,
           0.3583251920942721,
           0.4614736562482741,
           0.3009487232295888,
           0.41876342593724625,
           0.25407521760579266,
           0.6189257538364348,
           0.3723812012291334,
           0.34788489930307176,
           0.3784063117251995,
           0.15182796912409025,
           0.22670032593230605,
           -0.2126922181130443,
           -0.10611710202960918,
           0.22943839738778488,
           0.20567214441734627,
           -0.006840054809412486,
           0.05298620588133841,
           0.1785369684587252,
           0.39808287975982115,
           0.33848861366765404,
           0.3391079034792107,
           0.35151124383784327,
           0.33490635527768,
           0.6145706677236349,
           0.35170700337664934,
           0.32110202176760716,
           0.23115942274571444,
           0.6285859632486319,
           0.5141312179371573,
           0.4036299916270886,
           0.654828833764691,
           0.498080125694602,
           0.03365472855638333,
           0.41308152197956194,
           0.21937587414997234,
           0.2021991009991634,
           -0.032178335991989354,
           0.3317596624153254,
           0.3851937612891333,
           -0.1671001883347537,
           -0.3114314394257847,
           -0.45926240264997,
           -0.06762102581803212,
           -0.14721208267275487,
           -0.1216053228439062,
           -0.4518271155504945,
           -0.3990080313682461,
           -0.04291971029885862,
           -0.3781926951645318,
           -0.5154423845199709,
           -0.4930203542373298,
           -0.2970781989844424,
           -0.26871496508434994,
           -0.3189467477237534,
           -0.5296816780538389,
           -0.5404275091521331,
           -0.8180779644925753,
           -1.5045121631986946,
           -1.0866029863516928,
           -1.3451279186152765,
           -0.7084153799344769,
           -0.7165384795874008,
           -0.7550082292432287,
           -0.8434990428367264,
           -0.7511117123996249,
           -0.9871705475780297,
           -0.5340559991540232,
           -0.9734384927211754,
           -0.8984067360923023,
           -0.7758341307483765,
           -0.8200630790030182,
           -0.8375510062029277,
           -0.8105512832579276,
           -0.7399016321618435,
           -0.2960335650383638,
           0.5696152441494473,
           -0.14199181533655192,
           0.1389454461566184,
           0.2713106468882766,
           0.35388979633974343,
           0.06935798340580258,
           0.28638223172111454,
           -0.0736604662062322,
           -0.058113929266255124,
           0.13238460668343194,
           0.13837815255739885
          ],
          [
           -0.15345625220368672,
           -0.10958319901361249,
           -0.004163775366285252,
           0.09517712580322019,
           -0.11781373655399496,
           -0.061416653245533755,
           0.48676085900838684,
           0.5319523919725482,
           0.18551881428040873,
           0.17366989945413044,
           0.08688114764274622,
           0.1261132708971323,
           -0.16015802972671292,
           0.18412845719836526,
           -0.006975788642581457,
           0.0227082038548726,
           0.09550325295655082,
           -0.19879279835057997,
           -0.006524164046034552,
           -0.08298832834865574,
           0.10588408905806869,
           -0.09175344934625995,
           -0.1651077539771082,
           -0.047162570207110587,
           -0.44664604696234544,
           -0.3095596168381507,
           -0.4581417505295864,
           0.005850571862492108,
           -0.016424585453412993,
           0.0646421269940837,
           0.11347533860837258,
           0.0070576876302821025,
           0.050868134149617966,
           -0.04475158108486021,
           -0.1528527104617925,
           -0.2419226461546434,
           0.017735508108078373,
           0.1746440007409854,
           -0.04429905685335937,
           0.09904416217048607,
           -0.019098113360550163,
           0.08292115350249837,
           -0.1255747181450589,
           -0.537027250437917,
           -0.5049370371263477,
           -0.3995830516914386,
           -0.49971712491913356,
           0.1599251943592697,
           -0.011402814226369858,
           -0.2182189902422934,
           -0.11130505785923409,
           -0.1515858906141333,
           -0.2974651127938134,
           -0.4683333667359876,
           -0.3473349056778753,
           -0.6408512487127216,
           -0.7906740728678123,
           -0.575684499713141,
           -0.5517793569507414,
           -0.1325061104734304,
           -0.4429084315903711,
           -0.5766596450462655,
           -0.7582568604251394,
           -0.21029107031890024,
           -0.3887180754935198,
           0.22723203635581368,
           0.04912056804319853,
           -0.337444097289143,
           0.07436899958011453,
           -0.3586415850673789,
           -0.4316090968431994,
           -0.24396832555108056,
           -0.4262589758855451,
           -0.5017185097631777,
           -0.1793328902391279,
           -0.4175844641596215,
           -0.19610604386803812,
           -0.6658317635236015,
           -0.7911383148868447,
           -0.37421115715182623,
           -0.32368093434746714,
           -0.4707455963434629,
           0.06612114732550686,
           0.019694259980043063,
           -0.3915489964618778,
           -0.3753858891376778,
           -0.41766223404005726,
           -0.4596370321110871,
           -0.13492100056281747,
           -0.0843461520907754,
           -0.2911069571825208,
           -0.09679728126110868,
           -0.15077318390806463,
           -0.14082800901122142
          ],
          [
           -0.15287878967252047,
           0.04700207156147888,
           -0.10599208353664144,
           0.14810019948886263,
           -0.04683742516773586,
           0.038707425252009764,
           -0.07359108038904667,
           0.3961036831763214,
           0.0755787738661127,
           -0.025180892577785108,
           0.04166124791379784,
           -0.12837491317517816,
           -0.20550387137841264,
           0.04372922660156171,
           0.2117077441781411,
           -0.018259149259354564,
           -0.067186812696648,
           0.11205690101858487,
           0.05561475180291504,
           -0.34280451631486597,
           -0.104235490454978,
           -0.05860762467911088,
           -0.011902123579407176,
           0.17022609775001785,
           -0.19300723810091153,
           0.03344223117185134,
           0.16294621411790186,
           0.2411775362446209,
           -0.11625803444805229,
           -0.043794564541239187,
           0.07672917426424511,
           0.01820488139912255,
           0.07017223228043809,
           0.06063914359567457,
           0.07483526699653156,
           -0.48865936137473165,
           0.1371963460069296,
           -0.19621126482824258,
           -0.21203834927505325,
           -0.06486092449297023,
           0.2797548897807823,
           -0.17296456604150068,
           0.022292375557357656,
           -0.16336041004729326,
           -0.019376671118351646,
           -0.0829564825070466,
           -0.24053427375602246,
           0.6664140562652046,
           0.46302058847846383,
           0.5137524920376961,
           0.1627172561616922,
           0.05469403428394466,
           -0.07249169753012924,
           0.043849005687635806,
           0.05062470948623188,
           -0.06866307275702366,
           -0.25561747304750004,
           -0.21256540065105203,
           -0.20503756057812164,
           0.18702819964328962,
           0.05467385110350835,
           -0.3174945508874089,
           -0.010037331771052566,
           0.10058764536595953,
           0.34837848187943365,
           0.6069140820932236,
           0.6134116067157,
           0.2607708898781565,
           0.44207767691911115,
           0.13077449470571484,
           0.07332873072296658,
           0.018823393346697734,
           0.029509773332469957,
           -0.21241690645364636,
           0.19980086700690797,
           -0.16823027340796443,
           -0.03762037433684673,
           -0.22463877776279184,
           -0.22881517867215773,
           -0.28234757752538625,
           -0.08540749869787806,
           0.07978728643694699,
           0.29827161380068,
           -0.18222708365235368,
           0.17682392529483792,
           -0.1723893531372538,
           0.00397848714003745,
           -0.11518845605788633,
           0.12404644656239489,
           -0.031711421013175964,
           0.05567042591515965,
           -0.1251634152430069,
           -0.18313816286040302,
           0.3228358529582315
          ],
          [
           0.10252120307553118,
           -0.03747402747620246,
           -0.07590740917364065,
           -0.12054591892299771,
           -0.18961142536401554,
           -0.15903471290776447,
           -0.3350441133607963,
           0.1130374840603006,
           0.1647926238577735,
           -0.12420544503725386,
           -0.29138832389839003,
           0.0306465973292678,
           -0.1581620797566266,
           0.22163991090694202,
           0.010989509586147035,
           0.2301212067498335,
           -0.102823700496801,
           -0.07007592179818149,
           0.10700742768329566,
           0.0138454525756617,
           -0.10564340948170142,
           -0.09797728711338635,
           -0.0754315967527899,
           0.05579756409652166,
           -0.2840970530079343,
           -0.06227748454371102,
           -0.056153737914227765,
           -0.022615653670950954,
           -0.001149711216610158,
           0.12724879786997298,
           0.06544097941845786,
           -0.14545106692007484,
           -0.08636259527469772,
           0.04507194450163467,
           0.14624819957237034,
           -0.15661565849716508,
           -0.0012289024595582738,
           -0.24460710990264256,
           0.12075629557621154,
           -0.2890832531840809,
           0.01169240212924379,
           -0.29529552345587085,
           -0.06630907818102164,
           -0.24424517819657504,
           -0.32050607927371155,
           -0.33223866657753354,
           0.05520550421283728,
           0.3487465137660228,
           0.4234984878332332,
           0.5457678447815727,
           0.08773957818974917,
           0.08410935939677536,
           0.06137374841655305,
           0.6433334457883271,
           0.4379787197263332,
           0.227192079209935,
           0.11328486146052047,
           0.21362298441884012,
           0.06128110472004519,
           0.01827146793224075,
           0.06340097078205834,
           -0.08374939727746505,
           0.5431408811015462,
           0.13000733608998613,
           0.4332439354882192,
           0.15214939722745563,
           0.10278572802460319,
           0.22531068557158124,
           -0.23705644449085722,
           -0.11204169836981735,
           -0.06918838458009277,
           0.03917073938901941,
           0.12436114635130566,
           0.06816140210659194,
           0.2439942061704105,
           0.20928651899898837,
           0.0839326369619454,
           0.38489801856099104,
           0.5564246980791354,
           -0.14548912100490682,
           -0.24671180722897776,
           -0.24260867296618976,
           -0.00456606997982939,
           -0.16255002615824327,
           0.08684337799828803,
           -0.020177208816613654,
           -0.08578124750961263,
           -0.039942991909717555,
           0.09273939208169972,
           -0.2221834215259571,
           0.0903994110270506,
           0.005094279592392531,
           0.07100865071923132,
           0.08082207471398292
          ],
          [
           0.21065472552947098,
           0.22874011144604942,
           0.22637092948203405,
           -0.14041387100211697,
           0.07891752377025037,
           0.0025786930596505206,
           -0.18016402969447134,
           -0.05563985735906999,
           0.04264105173442892,
           -0.22967472693370147,
           -0.15625564698116093,
           0.1519980286709187,
           0.21355263957067142,
           -0.1265782900167191,
           0.14303582294173714,
           0.0769486221051438,
           0.13760409613874264,
           0.3807241938748888,
           0.1255842236417134,
           -0.15868629121471478,
           0.013851638313229444,
           -0.09405356913580083,
           0.17031288981260123,
           0.13397485187420569,
           0.02768673017029212,
           -0.15257699215995926,
           0.07510966382296928,
           0.1746447619255631,
           0.13840609961658315,
           0.035976342512004544,
           -0.13857386712076725,
           -0.012350424145573007,
           -0.11780542351317727,
           0.0966023081135152,
           0.18889027261226354,
           0.2868241034221828,
           -0.021276060924178157,
           0.10058760890160624,
           0.1804928070122605,
           -0.09339467033881926,
           0.06034884437150561,
           -0.2251526335002536,
           -0.05049449179404081,
           0.040821703414781765,
           -0.13501766992264674,
           -0.17158372152296442,
           0.20536191621213412,
           0.2332261745644718,
           -0.00657401929284511,
           -0.017853767209157975,
           0.05331691618078446,
           0.05971822649415698,
           -0.056616211377628345,
           0.5149255806746923,
           0.40790032009120686,
           0.1395855280964155,
           0.34929842000545774,
           0.29917553153368703,
           0.37890074607241364,
           0.5202759054181277,
           0.382789634540904,
           0.35325772642352743,
           0.39805473332106556,
           0.15751588167097053,
           0.6323281386079131,
           0.33724410103567604,
           0.2637088061111391,
           0.39720211072746614,
           -0.09969466201338119,
           0.15722546397908427,
           -0.09391198974963554,
           0.25662996474167876,
           0.15887280218497468,
           0.27241878143715226,
           0.4326106966799943,
           0.6026268999895295,
           0.24250174932641616,
           0.455994826840107,
           0.5971155481667771,
           0.26835116626202227,
           0.26851797644675585,
           -0.059088287539574756,
           0.1879491599071596,
           0.1846261204283836,
           -0.19648432763239781,
           0.13676265731656956,
           0.09836811028292193,
           0.03727574318226334,
           0.19317122347545124,
           -0.11945868391374836,
           0.050552537974215314,
           0.020468750890417234,
           -0.08634768445220864,
           -0.040031682872540164
          ],
          [
           -0.023186083539650015,
           0.29905050971741637,
           0.364088341265961,
           0.08228477294058685,
           -0.013703473936950109,
           -0.07196756358504,
           0.08897811795507728,
           -0.14455827557171416,
           -0.016268861582465672,
           -0.0687487606182176,
           -0.18711192485835715,
           0.0599375055537208,
           0.19627406402472605,
           0.17631136701552852,
           -0.06117213000130998,
           -0.006250163734576375,
           -0.0012248582405741323,
           0.16763233255600812,
           -0.02438135785911447,
           0.18510542900812949,
           0.18298595173752985,
           0.21944902935458524,
           0.13709523003080146,
           -0.1627411444059909,
           0.26286634041150414,
           0.09310023407877309,
           0.300364280417103,
           0.24988325691708804,
           0.07358546999440399,
           0.027510077181248406,
           -0.2564183002880218,
           -0.1733934590816103,
           -0.17301381125967485,
           0.09252135929010082,
           0.041053777840047344,
           0.19137590546870453,
           -0.12096584284267893,
           -0.09248863395042196,
           -0.06356440668809249,
           0.12431701536538266,
           -0.17788632158562162,
           -0.15106860474801165,
           -0.08335826770747418,
           0.44152726754988564,
           0.05169725798075822,
           0.1033593071872215,
           0.2852447348017626,
           -0.10488223000838273,
           -0.06648601101962964,
           -0.38422972039652475,
           -0.502604952707838,
           -0.385840880001386,
           -0.31715614435467004,
           0.04762187190985365,
           0.025654574487671666,
           -0.05022244874081967,
           0.43499122725962314,
           0.16292108272867112,
           0.060746227572775216,
           -0.1357293668468571,
           0.08339180253229253,
           0.3150740818601785,
           0.12356550924043848,
           0.22855100987689506,
           -0.03944389593193001,
           -0.19294675536134814,
           -0.19770022061789227,
           -0.39366249991324265,
           -0.2349835403174087,
           0.101946931907931,
           -0.14158844680197014,
           -0.1175095907328916,
           0.10752082468764171,
           0.24476811171996754,
           0.19489304280682443,
           0.17196993948282258,
           0.2504954216791234,
           0.29151518840017315,
           0.43685073790496476,
           0.38001913440644003,
           0.17494911333356378,
           0.24795381076534206,
           -0.07010825025013802,
           0.016605934805926842,
           -0.3634607238252,
           0.12321889095524739,
           -0.013418237725594848,
           0.3659492251678547,
           0.16732626808470566,
           -0.16000832516188165,
           -0.08710037382488511,
           0.18979218716429735,
           -0.18627668483128665,
           -0.14941333479384591
          ],
          [
           0.00029321963713864474,
           0.27294381993835043,
           0.2930415835570904,
           0.14508164852547253,
           0.12444430227686144,
           0.15591773128059358,
           0.1700309390265658,
           -0.05839459313602817,
           0.02443649765689889,
           -0.21374041797531362,
           0.004039502086557525,
           0.027470233991000972,
           0.23926658104328508,
           0.037078230509761834,
           0.12879349725515643,
           -0.0024444464057774215,
           -0.018351389313756135,
           0.29234161260349156,
           -0.05432580762715618,
           0.05446004586057744,
           -0.13722498340304093,
           -0.18370588319411427,
           0.010622768857758536,
           -0.11692619063038145,
           -0.16309895888477324,
           -0.10902825360120105,
           -0.001283124783771232,
           -0.14876028704813093,
           -0.028734833065967434,
           -0.17634742306119372,
           -0.29469394216963607,
           -0.15623728820975583,
           0.08095366245252489,
           0.07237217441266167,
           0.020679750452234965,
           0.1295955605700565,
           -0.09543407566348026,
           0.01673896665234241,
           0.050743132212664695,
           -0.06950135954911846,
           -0.2850212519082206,
           0.13110561606032758,
           -0.12524368657367024,
           0.19878137866412637,
           -0.08753204221017855,
           -0.29460763562777703,
           0.049785386238896404,
           0.44843554964720367,
           0.17961796962056334,
           -0.07967810565331049,
           -0.2347124934672174,
           -0.18793255818702492,
           0.04475307425197539,
           0.07968934618838577,
           0.3450029197368705,
           0.30060041403420845,
           0.3210769259749261,
           0.08698913304495924,
           0.18345680108325652,
           0.04593743786791665,
           -0.059795937999156806,
           0.044278853566248375,
           -0.03444517574594681,
           -0.11704512728362162,
           -0.4895809064089536,
           -0.14466677786686172,
           -0.10182618909548945,
           -0.23391593371261885,
           -0.22287062597805934,
           -0.0756201541371527,
           -0.4214348117627824,
           -0.44670090623500175,
           -0.12335012683489155,
           -0.3763539529557566,
           -0.17182245875702465,
           -0.05959085536890707,
           -0.3428358645266535,
           -0.31249643469373684,
           -0.3492655829794328,
           0.03400126353602051,
           -0.013997710902984954,
           -0.04798648751273266,
           0.05387634975880712,
           0.15744770261370955,
           -0.29775429292437783,
           -0.0032479563862381905,
           -0.19940384607658249,
           0.14366742529201554,
           -0.02260113262498003,
           0.12914588584894582,
           0.3386242360021604,
           0.09515235835461588,
           -0.08149998879660746,
           -0.19759860498011647
          ],
          [
           -0.0772550283895297,
           -0.2335189684442091,
           0.14249934259711744,
           -0.0354987689129427,
           -0.018480499148922608,
           0.011012292377773042,
           0.12819552783858884,
           0.07297716088812027,
           0.0523016992497219,
           0.0003794276255642548,
           -0.035646373645406106,
           0.02628959727661294,
           0.0997463632712043,
           -0.14935906405028251,
           0.009625733933885786,
           -0.1709370283799254,
           -0.10544569170688294,
           -0.15362138886301657,
           -0.2225817621155325,
           -0.00007943468661407004,
           0.06122344280177748,
           0.1485829948379926,
           -0.058445476572123296,
           -0.09012449771108719,
           -0.25566064343974687,
           -0.17018678721824093,
           -0.2393476518141892,
           -0.25588335548676855,
           -0.07838881997808674,
           -0.011988223689125468,
           -0.02181678302117035,
           -0.07961184355150581,
           0.07029985119592169,
           -0.061996137044106545,
           -0.11564501792568166,
           -0.0062867434569555125,
           -0.18906622840046572,
           -0.019490517699897892,
           -0.10042706039090994,
           -0.22980204071319565,
           -0.09700866872456487,
           0.2500033151076783,
           -0.1554846252954734,
           -0.08944352102693251,
           -0.2669245370162644,
           -0.3958371128382917,
           -0.07376348747946115,
           0.11433773358796984,
           0.13670912459225346,
           -0.07970259512031576,
           0.11943018837953415,
           -0.19652035305576573,
           0.1282512598526327,
           0.05405973515351635,
           0.32634286165370235,
           0.3468415208921012,
           0.20786798251205735,
           0.4775201544585508,
           0.4316784787637097,
           0.14029313610074728,
           0.09752718792605625,
           0.3625098414364089,
           0.04975664629422018,
           0.6435586717902981,
           0.20928856321309725,
           0.6349591713728926,
           0.4160544075700376,
           0.3251319578598645,
           0.6100900859854167,
           0.3759437025728489,
           0.33073038326968657,
           0.515156642426075,
           0.2714681801268028,
           0.16361135875600555,
           0.307867212317963,
           0.3971494461144254,
           0.217831269129109,
           0.08180923537855633,
           -0.03974256433641106,
           0.3935966485650268,
           0.2913039641604619,
           0.18450778115335417,
           0.008296553533152874,
           -0.26610835292752555,
           -0.1518679003699305,
           0.12463023602015864,
           0.1302908142207021,
           -0.05509916015020393,
           -0.045403771339108,
           0.047548133869939446,
           0.18093967771907074,
           -0.2332963214195274,
           -0.06901149317703217,
           0.15955470535356997
          ]
         ]
        }
       ],
       "layout": {
        "template": {
         "data": {
          "bar": [
           {
            "error_x": {
             "color": "#2a3f5f"
            },
            "error_y": {
             "color": "#2a3f5f"
            },
            "marker": {
             "line": {
              "color": "#E5ECF6",
              "width": 0.5
             },
             "pattern": {
              "fillmode": "overlay",
              "size": 10,
              "solidity": 0.2
             }
            },
            "type": "bar"
           }
          ],
          "barpolar": [
           {
            "marker": {
             "line": {
              "color": "#E5ECF6",
              "width": 0.5
             },
             "pattern": {
              "fillmode": "overlay",
              "size": 10,
              "solidity": 0.2
             }
            },
            "type": "barpolar"
           }
          ],
          "carpet": [
           {
            "aaxis": {
             "endlinecolor": "#2a3f5f",
             "gridcolor": "white",
             "linecolor": "white",
             "minorgridcolor": "white",
             "startlinecolor": "#2a3f5f"
            },
            "baxis": {
             "endlinecolor": "#2a3f5f",
             "gridcolor": "white",
             "linecolor": "white",
             "minorgridcolor": "white",
             "startlinecolor": "#2a3f5f"
            },
            "type": "carpet"
           }
          ],
          "choropleth": [
           {
            "colorbar": {
             "outlinewidth": 0,
             "ticks": ""
            },
            "type": "choropleth"
           }
          ],
          "contour": [
           {
            "colorbar": {
             "outlinewidth": 0,
             "ticks": ""
            },
            "colorscale": [
             [
              0,
              "#0d0887"
             ],
             [
              0.1111111111111111,
              "#46039f"
             ],
             [
              0.2222222222222222,
              "#7201a8"
             ],
             [
              0.3333333333333333,
              "#9c179e"
             ],
             [
              0.4444444444444444,
              "#bd3786"
             ],
             [
              0.5555555555555556,
              "#d8576b"
             ],
             [
              0.6666666666666666,
              "#ed7953"
             ],
             [
              0.7777777777777778,
              "#fb9f3a"
             ],
             [
              0.8888888888888888,
              "#fdca26"
             ],
             [
              1,
              "#f0f921"
             ]
            ],
            "type": "contour"
           }
          ],
          "contourcarpet": [
           {
            "colorbar": {
             "outlinewidth": 0,
             "ticks": ""
            },
            "type": "contourcarpet"
           }
          ],
          "heatmap": [
           {
            "colorbar": {
             "outlinewidth": 0,
             "ticks": ""
            },
            "colorscale": [
             [
              0,
              "#0d0887"
             ],
             [
              0.1111111111111111,
              "#46039f"
             ],
             [
              0.2222222222222222,
              "#7201a8"
             ],
             [
              0.3333333333333333,
              "#9c179e"
             ],
             [
              0.4444444444444444,
              "#bd3786"
             ],
             [
              0.5555555555555556,
              "#d8576b"
             ],
             [
              0.6666666666666666,
              "#ed7953"
             ],
             [
              0.7777777777777778,
              "#fb9f3a"
             ],
             [
              0.8888888888888888,
              "#fdca26"
             ],
             [
              1,
              "#f0f921"
             ]
            ],
            "type": "heatmap"
           }
          ],
          "heatmapgl": [
           {
            "colorbar": {
             "outlinewidth": 0,
             "ticks": ""
            },
            "colorscale": [
             [
              0,
              "#0d0887"
             ],
             [
              0.1111111111111111,
              "#46039f"
             ],
             [
              0.2222222222222222,
              "#7201a8"
             ],
             [
              0.3333333333333333,
              "#9c179e"
             ],
             [
              0.4444444444444444,
              "#bd3786"
             ],
             [
              0.5555555555555556,
              "#d8576b"
             ],
             [
              0.6666666666666666,
              "#ed7953"
             ],
             [
              0.7777777777777778,
              "#fb9f3a"
             ],
             [
              0.8888888888888888,
              "#fdca26"
             ],
             [
              1,
              "#f0f921"
             ]
            ],
            "type": "heatmapgl"
           }
          ],
          "histogram": [
           {
            "marker": {
             "pattern": {
              "fillmode": "overlay",
              "size": 10,
              "solidity": 0.2
             }
            },
            "type": "histogram"
           }
          ],
          "histogram2d": [
           {
            "colorbar": {
             "outlinewidth": 0,
             "ticks": ""
            },
            "colorscale": [
             [
              0,
              "#0d0887"
             ],
             [
              0.1111111111111111,
              "#46039f"
             ],
             [
              0.2222222222222222,
              "#7201a8"
             ],
             [
              0.3333333333333333,
              "#9c179e"
             ],
             [
              0.4444444444444444,
              "#bd3786"
             ],
             [
              0.5555555555555556,
              "#d8576b"
             ],
             [
              0.6666666666666666,
              "#ed7953"
             ],
             [
              0.7777777777777778,
              "#fb9f3a"
             ],
             [
              0.8888888888888888,
              "#fdca26"
             ],
             [
              1,
              "#f0f921"
             ]
            ],
            "type": "histogram2d"
           }
          ],
          "histogram2dcontour": [
           {
            "colorbar": {
             "outlinewidth": 0,
             "ticks": ""
            },
            "colorscale": [
             [
              0,
              "#0d0887"
             ],
             [
              0.1111111111111111,
              "#46039f"
             ],
             [
              0.2222222222222222,
              "#7201a8"
             ],
             [
              0.3333333333333333,
              "#9c179e"
             ],
             [
              0.4444444444444444,
              "#bd3786"
             ],
             [
              0.5555555555555556,
              "#d8576b"
             ],
             [
              0.6666666666666666,
              "#ed7953"
             ],
             [
              0.7777777777777778,
              "#fb9f3a"
             ],
             [
              0.8888888888888888,
              "#fdca26"
             ],
             [
              1,
              "#f0f921"
             ]
            ],
            "type": "histogram2dcontour"
           }
          ],
          "mesh3d": [
           {
            "colorbar": {
             "outlinewidth": 0,
             "ticks": ""
            },
            "type": "mesh3d"
           }
          ],
          "parcoords": [
           {
            "line": {
             "colorbar": {
              "outlinewidth": 0,
              "ticks": ""
             }
            },
            "type": "parcoords"
           }
          ],
          "pie": [
           {
            "automargin": true,
            "type": "pie"
           }
          ],
          "scatter": [
           {
            "fillpattern": {
             "fillmode": "overlay",
             "size": 10,
             "solidity": 0.2
            },
            "type": "scatter"
           }
          ],
          "scatter3d": [
           {
            "line": {
             "colorbar": {
              "outlinewidth": 0,
              "ticks": ""
             }
            },
            "marker": {
             "colorbar": {
              "outlinewidth": 0,
              "ticks": ""
             }
            },
            "type": "scatter3d"
           }
          ],
          "scattercarpet": [
           {
            "marker": {
             "colorbar": {
              "outlinewidth": 0,
              "ticks": ""
             }
            },
            "type": "scattercarpet"
           }
          ],
          "scattergeo": [
           {
            "marker": {
             "colorbar": {
              "outlinewidth": 0,
              "ticks": ""
             }
            },
            "type": "scattergeo"
           }
          ],
          "scattergl": [
           {
            "marker": {
             "colorbar": {
              "outlinewidth": 0,
              "ticks": ""
             }
            },
            "type": "scattergl"
           }
          ],
          "scattermapbox": [
           {
            "marker": {
             "colorbar": {
              "outlinewidth": 0,
              "ticks": ""
             }
            },
            "type": "scattermapbox"
           }
          ],
          "scatterpolar": [
           {
            "marker": {
             "colorbar": {
              "outlinewidth": 0,
              "ticks": ""
             }
            },
            "type": "scatterpolar"
           }
          ],
          "scatterpolargl": [
           {
            "marker": {
             "colorbar": {
              "outlinewidth": 0,
              "ticks": ""
             }
            },
            "type": "scatterpolargl"
           }
          ],
          "scatterternary": [
           {
            "marker": {
             "colorbar": {
              "outlinewidth": 0,
              "ticks": ""
             }
            },
            "type": "scatterternary"
           }
          ],
          "surface": [
           {
            "colorbar": {
             "outlinewidth": 0,
             "ticks": ""
            },
            "colorscale": [
             [
              0,
              "#0d0887"
             ],
             [
              0.1111111111111111,
              "#46039f"
             ],
             [
              0.2222222222222222,
              "#7201a8"
             ],
             [
              0.3333333333333333,
              "#9c179e"
             ],
             [
              0.4444444444444444,
              "#bd3786"
             ],
             [
              0.5555555555555556,
              "#d8576b"
             ],
             [
              0.6666666666666666,
              "#ed7953"
             ],
             [
              0.7777777777777778,
              "#fb9f3a"
             ],
             [
              0.8888888888888888,
              "#fdca26"
             ],
             [
              1,
              "#f0f921"
             ]
            ],
            "type": "surface"
           }
          ],
          "table": [
           {
            "cells": {
             "fill": {
              "color": "#EBF0F8"
             },
             "line": {
              "color": "white"
             }
            },
            "header": {
             "fill": {
              "color": "#C8D4E3"
             },
             "line": {
              "color": "white"
             }
            },
            "type": "table"
           }
          ]
         },
         "layout": {
          "annotationdefaults": {
           "arrowcolor": "#2a3f5f",
           "arrowhead": 0,
           "arrowwidth": 1
          },
          "autotypenumbers": "strict",
          "coloraxis": {
           "colorbar": {
            "outlinewidth": 0,
            "ticks": ""
           }
          },
          "colorscale": {
           "diverging": [
            [
             0,
             "#8e0152"
            ],
            [
             0.1,
             "#c51b7d"
            ],
            [
             0.2,
             "#de77ae"
            ],
            [
             0.3,
             "#f1b6da"
            ],
            [
             0.4,
             "#fde0ef"
            ],
            [
             0.5,
             "#f7f7f7"
            ],
            [
             0.6,
             "#e6f5d0"
            ],
            [
             0.7,
             "#b8e186"
            ],
            [
             0.8,
             "#7fbc41"
            ],
            [
             0.9,
             "#4d9221"
            ],
            [
             1,
             "#276419"
            ]
           ],
           "sequential": [
            [
             0,
             "#0d0887"
            ],
            [
             0.1111111111111111,
             "#46039f"
            ],
            [
             0.2222222222222222,
             "#7201a8"
            ],
            [
             0.3333333333333333,
             "#9c179e"
            ],
            [
             0.4444444444444444,
             "#bd3786"
            ],
            [
             0.5555555555555556,
             "#d8576b"
            ],
            [
             0.6666666666666666,
             "#ed7953"
            ],
            [
             0.7777777777777778,
             "#fb9f3a"
            ],
            [
             0.8888888888888888,
             "#fdca26"
            ],
            [
             1,
             "#f0f921"
            ]
           ],
           "sequentialminus": [
            [
             0,
             "#0d0887"
            ],
            [
             0.1111111111111111,
             "#46039f"
            ],
            [
             0.2222222222222222,
             "#7201a8"
            ],
            [
             0.3333333333333333,
             "#9c179e"
            ],
            [
             0.4444444444444444,
             "#bd3786"
            ],
            [
             0.5555555555555556,
             "#d8576b"
            ],
            [
             0.6666666666666666,
             "#ed7953"
            ],
            [
             0.7777777777777778,
             "#fb9f3a"
            ],
            [
             0.8888888888888888,
             "#fdca26"
            ],
            [
             1,
             "#f0f921"
            ]
           ]
          },
          "colorway": [
           "#636efa",
           "#EF553B",
           "#00cc96",
           "#ab63fa",
           "#FFA15A",
           "#19d3f3",
           "#FF6692",
           "#B6E880",
           "#FF97FF",
           "#FECB52"
          ],
          "font": {
           "color": "#2a3f5f"
          },
          "geo": {
           "bgcolor": "white",
           "lakecolor": "white",
           "landcolor": "#E5ECF6",
           "showlakes": true,
           "showland": true,
           "subunitcolor": "white"
          },
          "hoverlabel": {
           "align": "left"
          },
          "hovermode": "closest",
          "mapbox": {
           "style": "light"
          },
          "paper_bgcolor": "white",
          "plot_bgcolor": "#E5ECF6",
          "polar": {
           "angularaxis": {
            "gridcolor": "white",
            "linecolor": "white",
            "ticks": ""
           },
           "bgcolor": "#E5ECF6",
           "radialaxis": {
            "gridcolor": "white",
            "linecolor": "white",
            "ticks": ""
           }
          },
          "scene": {
           "xaxis": {
            "backgroundcolor": "#E5ECF6",
            "gridcolor": "white",
            "gridwidth": 2,
            "linecolor": "white",
            "showbackground": true,
            "ticks": "",
            "zerolinecolor": "white"
           },
           "yaxis": {
            "backgroundcolor": "#E5ECF6",
            "gridcolor": "white",
            "gridwidth": 2,
            "linecolor": "white",
            "showbackground": true,
            "ticks": "",
            "zerolinecolor": "white"
           },
           "zaxis": {
            "backgroundcolor": "#E5ECF6",
            "gridcolor": "white",
            "gridwidth": 2,
            "linecolor": "white",
            "showbackground": true,
            "ticks": "",
            "zerolinecolor": "white"
           }
          },
          "shapedefaults": {
           "line": {
            "color": "#2a3f5f"
           }
          },
          "ternary": {
           "aaxis": {
            "gridcolor": "white",
            "linecolor": "white",
            "ticks": ""
           },
           "baxis": {
            "gridcolor": "white",
            "linecolor": "white",
            "ticks": ""
           },
           "bgcolor": "#E5ECF6",
           "caxis": {
            "gridcolor": "white",
            "linecolor": "white",
            "ticks": ""
           }
          },
          "title": {
           "x": 0.05
          },
          "xaxis": {
           "automargin": true,
           "gridcolor": "white",
           "linecolor": "white",
           "ticks": "",
           "title": {
            "standoff": 15
           },
           "zerolinecolor": "white",
           "zerolinewidth": 2
          },
          "yaxis": {
           "automargin": true,
           "gridcolor": "white",
           "linecolor": "white",
           "ticks": "",
           "title": {
            "standoff": 15
           },
           "zerolinecolor": "white",
           "zerolinewidth": 2
          }
         }
        },
        "title": {
         "text": "MFCC Heatmap"
        },
        "xaxis": {
         "title": {
          "text": "Frame Index"
         }
        },
        "yaxis": {
         "title": {
          "text": "MFCC Coefficient"
         }
        }
       }
      }
     },
     "metadata": {},
     "output_type": "display_data"
    },
    {
     "data": {
      "text/plain": [
       "'\\nfig = make_subplots(rows=13, cols=1, shared_xaxes=True, vertical_spacing=0.05)\\nfor i in range(13):\\n    energy_mfcc = f[fn.index(f\\'mfcc_{i+1}\\'), :]\\n    fig.add_trace(go.Scatter(x=time, y=energy_mfcc, name=f\"mfcc_{i+1}\"), row=i+1, col=1)\\n    fig.update_yaxes(title_text=f\"mfcc_{i+1}\", row=i+1, col=1)\\n\\nfig.update_xaxes(title_text=\"time (sec)\")\\nfig.update_layout(title=\"MFCC Features vs Time\", height=2000)\\nplotly.offline.iplot(fig)\\n'"
      ]
     },
     "execution_count": 19,
     "metadata": {},
     "output_type": "execute_result"
    }
   ],
   "source": [
    "from pyAudioAnalysis import ShortTermFeatures as aF\n",
    "from pyAudioAnalysis import audioBasicIO as aIO \n",
    "import numpy as np \n",
    "import plotly.graph_objs as go \n",
    "import matplotlib.pyplot as plt\n",
    "import plotly\n",
    "import IPython\n",
    "import os\n",
    "from plotly.subplots import make_subplots\n",
    "#频谱中心点短期特征提取\n",
    "#read audio data from file \n",
    "fs, s = aIO .read_audio_file(os.path.join('E:/Files','Acoustic Data', '0.3Eru_0.85Gul_1.15Gra_2.45Rum_4.1Moo_4.7Bre.wav'))\n",
    "\n",
    "#play the initial and the generated files in notebook:\n",
    "#IPython.display.display(IPython.display.Audio(os.path.join('E:/Files','Acoustic Data', 'Test','part_audio_052.wav')))\n",
    "\n",
    "# print duration in seconds:\n",
    "print(len(s),float(fs))\n",
    "duration = len(s) / float(fs)\n",
    "print(f'duration = {duration} seconds')\n",
    "\n",
    "# extract short-term features using a 50msec non-overlapping windows\n",
    "win, step = 0.050, 0.050 #windows 0.05, step 0.05\n",
    "[f, fn] = aF.feature_extraction(s, fs, int(fs * win), int(fs * step))#f(特征提取的结果);fn(包含特征的名称或标签的列表)\n",
    "'''\n",
    "print(f'{f.shape[1]} frames, {f.shape[0]} short-term features') #帧数和特征数\n",
    "print('Feature names:')\n",
    "for i, nam in enumerate(fn):\n",
    "    print(f'{i}:{nam}')\n",
    "'''\n",
    "# create time axis in seconds\n",
    "time = np.arange(0, duration - step, win) \n",
    "# get the feature whose name is 'energy'\n",
    "fig = make_subplots(rows=2, cols=1, shared_xaxes=True)\n",
    "energy_zcr, energy_mfcc = f[fn.index('zcr'), :], f[fn.index('mfcc_1'), :]\n",
    "traces = [(energy_zcr, \"zcr\", 1),(energy_mfcc, \"mfcc_1\", 2)]\n",
    "for energy, name, row in traces:\n",
    "    fig.add_trace(go.Scatter(x=time, y=energy, name=name), row=row, col=1)\n",
    "    fig.update_yaxes(title_text=name, row=row, col=1)\n",
    "\n",
    "fig.update_xaxes(title_text=\"time (sec)\", row=2, col=1)\n",
    "plotly.offline.iplot(fig)\n",
    "\n",
    "'''\n",
    "mfcc_features = f[8:21]\n",
    "mfcc_layout = go.Layout(title='MFCC Heatmap', yaxis=dict(title='MFCC Coefficient'), xaxis=dict(title='Frame Index'))\n",
    "plotly.offline.iplot(go.Figure(data=[go.Heatmap(z=mfcc_features, colorscale='Viridis')], layout=mfcc_layout))\n",
    "'''\n",
    "'''\n",
    "fig = make_subplots(rows=13, cols=1, shared_xaxes=True, vertical_spacing=0.05)\n",
    "for i in range(13):\n",
    "    energy_mfcc = f[fn.index(f'mfcc_{i+1}'), :]\n",
    "    fig.add_trace(go.Scatter(x=time, y=energy_mfcc, name=f\"mfcc_{i+1}\"), row=i+1, col=1)\n",
    "    fig.update_yaxes(title_text=f\"mfcc_{i+1}\", row=i+1, col=1)\n",
    "\n",
    "fig.update_xaxes(title_text=\"time (sec)\")\n",
    "fig.update_layout(title=\"MFCC Features vs Time\", height=2000)\n",
    "plotly.offline.iplot(fig)\n",
    "'''\n"
   ]
  },
  {
   "cell_type": "code",
   "execution_count": 32,
   "metadata": {},
   "outputs": [
    {
     "data": {
      "text/html": [
       "\n",
       "                <audio  controls=\"controls\" >\n",
       "                    <source src=\"data:audio/wav;base64,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\" type=\"audio/wav\" />\n",
       "                    Your browser does not support the audio element.\n",
       "                </audio>\n",
       "              "
      ],
      "text/plain": [
       "<IPython.lib.display.Audio object>"
      ]
     },
     "metadata": {},
     "output_type": "display_data"
    },
    {
     "data": {
      "image/png": "[encoded data removed]",
      "text/plain": [
       "<Figure size 1000x400 with 2 Axes>"
      ]
     },
     "metadata": {},
     "output_type": "display_data"
    }
   ],
   "source": [
    "import librosa\n",
    "import librosa.display\n",
    "import matplotlib.pyplot as plt\n",
    "import numpy as np\n",
    "import os \n",
    "import IPython\n",
    "\n",
    "# 读取音频文件\n",
    "audio = os.path.join('E:/Files','Acoustic Data', '0.3Eru_0.85Gul_1.15Gra_2.45Rum_4.1Moo.wav')\n",
    "s, fs = librosa.load(audio, sr=None)#\n",
    "mfccs = librosa.feature.mfcc(y=s, sr=fs, n_mfcc=13)# 提取MFCC特征\n",
    "\n",
    "# 可视化MFCC\n",
    "plt.figure(figsize=(10, 4))\n",
    "librosa.display.specshow(mfccs, x_axis='time', cmap='viridis',x_coords=np.linspace(0, duration, mfccs.shape[1]))\n",
    "plt.colorbar()\n",
    "plt.title('0.3Eru_0.85Gul_1.15Gra_2.45Rum_4.1Moo')\n",
    "plt.xlabel('Time')\n",
    "plt.ylabel('MFCC Coefficient')\n",
    "plt.show()\n",
    "\n"
   ]
  },
  {
   "cell_type": "code",
   "execution_count": 44,
   "metadata": {},
   "outputs": [
    {
     "data": {
      "image/png": "[encoded data removed]",
      "text/plain": [
       "<Figure size 640x480 with 2 Axes>"
      ]
     },
     "metadata": {},
     "output_type": "display_data"
    },
    {
     "name": "stdout",
     "output_type": "stream",
     "text": [
      "(102, 160)\n"
     ]
    },
    {
     "name": "stderr",
     "output_type": "stream",
     "text": [
      "e:\\Files\\Github\\Cow-Audio-Detection\\pyAudioAnalysis\\audioBasicIO.py:99: WavFileWarning:\n",
      "\n",
      "Chunk (non-data) not understood, skipping it.\n",
      "\n"
     ]
    },
    {
     "data": {
      "image/png": "[encoded data removed]",
      "text/plain": [
       "<Figure size 640x480 with 2 Axes>"
      ]
     },
     "metadata": {},
     "output_type": "display_data"
    }
   ],
   "source": [
    "from pyAudioAnalysis import audioAnalysis\n",
    "import os \n",
    "\n",
    "fS = audioAnalysis.fileSpectrogramWrapper # Spectrogram (频谱图)\n",
    "fC = audioAnalysis.fileChromagramWrapper # Chromagram (色度图)\n",
    "Audio_path = os.path.join('E:/Files','Acoustic Data', '0.3Eru_0.85Gul_1.15Gra_2.45Rum_4.1Moo.wav')\n",
    "fS(Audio_path)\n",
    "fC(Audio_path)\n",
    "\n",
    "\n"
   ]
  },
  {
   "cell_type": "code",
   "execution_count": 2,
   "metadata": {},
   "outputs": [
    {
     "name": "stderr",
     "output_type": "stream",
     "text": [
      "e:\\Files\\Github\\Cow-Audio-Detection\\pyAudioAnalysis\\audioBasicIO.py:99: WavFileWarning: Chunk (non-data) not understood, skipping it.\n",
      "  sampling_rate, signal = wavfile.read(input_file) # from scipy.io\n",
      "e:\\Python\\Lib\\site-packages\\sklearn\\cluster\\_kmeans.py:1416: FutureWarning: The default value of `n_init` will change from 10 to 'auto' in 1.4. Set the value of `n_init` explicitly to suppress the warning\n",
      "  super()._check_params_vs_input(X, default_n_init=10)\n"
     ]
    },
    {
     "name": "stdout",
     "output_type": "stream",
     "text": [
      "[[0.15703271 0.16696927 0.17489074 ... 0.21431551 0.21982023 0.21151439]\n",
      " [0.10029402 0.11358913 0.12884366 ... 0.35244346 0.43640825 0.2540152 ]\n",
      " [2.96855358 3.08631741 3.12721369 ... 3.26170306 3.26644781 2.83169152]\n",
      " ...\n",
      " [0.02720572 0.02698528 0.02134239 ... 0.00565571 0.00554877 0.        ]\n",
      " [0.00958888 0.01018289 0.01087512 ... 0.00703151 0.00548489 0.        ]\n",
      " [0.01558886 0.01203902 0.00877119 ... 0.00456656 0.00517207 0.        ]]\n",
      "cluster 0: 0 segments 1.0 sec total dur\n"
     ]
    },
    {
     "data": {
      "text/html": [
       "\n",
       "                <audio  controls=\"controls\" >\n",
       "                    <source src=\"data:audio/wav;base64,UklGRqQ+AABXQVZFZm10IBAAAAABAAEAQB8AAIA+AAACABAAZGF0YYA+AAAAAAAAAAAAAAAAAAAAAAAAAAAAAAAAAAAAAAAAAAAAAAAAAAAAAAAAAAAAAAAAAAAAAAAAAAAAAAAAAAAAAAAAAAAAAAAAAAAAAAAAAAAAAAAAAAAAAAAAAAAAAAAAAAAAAAAAAAAAAAAAAAAAAAAAAAAAAAAAAAAAAAAAAAAAAAAAAAAAAAAAAAAAAAAAAAAAAAAAAAAAAAAAAAAAAAAAAAAAAAAAAAAAAAAAAAAAAAAAAAAAAAAAAAAAAAAAAAAAAAAAAAAAAAAAAAAAAAAAAAAAAAAAAAAAAAAAAAAAAAAAAAAAAAAAAAAAAAAAAAAAAAAAAAAAAAAAAAAAAAAAAAAAAAAAAAAAAAAAAAAAAAAAAAAAAAAAAAAAAAAAAAAAAAAAAAAAAAAAAAAAAAAAAAAAAAAAAAAAAAAAAAAAAAAAAAAAAAAAAAAAAAAAAAAAAAAAAAAAAAAAAAAAAAAAAAAAAAAAAAAAAAAAAAAAAAAAAAAAAAAAAAAAAAAAAAAAAAAAAAAAAAAAAAAAAAAAAAAAAAAAAAAAAAAAAAAAAAAAAAAAAAAAAAAAAAAAAAAAAAAAAAAAAAAAAAAAAAAAAAAAAAAAAAAAAAAAAAAAAAAAAAAAAAAAAAAAAAAAAAAAAAAAAAAAAAAAAAAAAAAAAAAAAAAAAAAAAAAAAAAAAAAAAAAAAAAAAAAAAAAAAAAAAAAAAAAAAAAAAAAAAAAAAAAAAAAAAAAAAAAAAAAAAAAAAAAAAAAAAAAAAAAAAAAAAAAAAAAAAAAAAAAAAAAAAAAAAAAAAAAAAAAAAAAAAAAAAAAAAAAAAAAAAAAAAAAAAAAAAAAAAAAAAAAAAAAAAAAAAAAAAAAAAAAAAAAAAAAAAAAAAAAAAAAAAAAAAAAAAAAAAAAAAAAAAAAAAAAAAAAAAAAAAAAAAAAAAAAAAAAAAAAAAAAAAAAAAAAAAAAAAAAAAAAAAAAAAAAAAAAAAAAAAAAAAAAAAAAAAAAAAAAAAAAAAAAAAAAAAAAAAAAAAAAAAAAAAAAAAAAAAAAAAAAAAAAAAAAAAAAAAAAAAAAAAAAAAAAAAAAAAAAAAAAAAAAAAAAAAAAAAAAAAAAAAAAAAAAAAAAAAAAAAAAAAAAAAAAAAAAAAAAAAAAAAAAAAAAAAAAAAAAAAAAAAAAAAAAAAAAAAAAAAAAAAAAAAAAAAAAAAAAAAAAAAAAAAAAAAAAAAAAAAAAAAAAAAAAAAAAAAAAAAAAAAAAAAAAAAAAAAAAAAAAAAAAAAAAAAAAAAAAAAAAAAAAAAAAAAAAAAAAAAAAAAAAAAAAAAAAAAAAAAAAAAAAAAAAAAAAAAAAAAAAAAAAAAAAAAAAAAAAAAAAAAAAAAAAAAAAAAAAAAAAAAAAAAAAAAAAAAAAAAAAAAAAAAAAAAAAAAAAAAAAAAAAAAAAAAAAAAAAAAAAAAAAAAAAAAAAAAAAAAAAAAAAAAAAAAAAAAAAAAAAAAAAAAAAAAAAAAAAAAAAAAAAAAAAAAAAAAAAAAAAAAAAAAAAAAAAAAAAAAAAAAAAAAAAAAAAAAAAAAAAAAAAAAAAAAAAAAAAAAAAAAAAAAAAAAAAAAAAAAAAAAAAAAAAAAAAAAAAAAAAAAAAAAAAAAAAAAAAAAAAAAAAAAAAAAAAAAAAAAAAAAAAAAAAAAAAAAAAAAAAAAAAAAAAAAAAAAAAAAAAAAAAAAAAAAAAAAAAAAAAAAAAAAAAAAAAAAAAAAAAAAAAAAAAAAAAAAAAAAAAAAAAAAAAAAAAAAAAAAAAAAAAAAAAAAAAAAAAAAAAAAAAAAAAAAAAAAAAAAAAAAAAAAAAAAAAAAAAAAAAAAAAAAAAAAAAAAAAAAAAAAAAAAAAAAAAAAAAAAAAAAAAAAAAAAAAAAAAAAAAAAAAAAAAAAAAAAAAAAAAAAAAAAAAAAAAAAAAAAAAAAAAAAAAAAAAAAAAAAAAAAAAAAAAAAAAAAAAAAAAAAAAAAAAAAAAAAAAAAAAAAAAAAAAAAAAAAAAAAAAAAAAAAAAAAAAAAAAAAAAAAAAAAAAAAAAAAAAAAAAAAAAAAAAAAAAAAAAAAAAAAAAAAAAAAAAAAAAAAAAAAAAAAAAAAAAAAAAAAAAAAAAAAAAAAAAAAAAAAAAAAAAAAAAAAAAAAAAAAAAAAAAAAAAAAAAAAAAAAAAAAAAAAAAAAAAAAAAAAAAAAAAAAAAAAAAAAAAAAAAAAAAAAAAAAAAAAAAAAAAAAAAAAAAAAAAAAAAAAAAAAAAAAAAAAAAAAAAAAAAAAAAAAAAAAAAAAAAAAAAAAAAAAAAAAAAAAAAAAAAAAAAAAAAAAAAAAAAAAAAAAAAAAAAAAAAAAAAAAAAAAAAAAAAAAAAAAAAAAAAAAAAAAAAAAAAAAAAAAAAAAAAAAAAAAAAAAAAAAAAAAAAAAAAAAAAAAAAAAAAAAAAAAAAAAAAAAAAAAAAAAAAAAAAAAAAAAAAAAAAAAAAAAAAAAAAAAAAAAAAAAAAAAAAAAAAAAAAAAAAAAAAAAAAAAAAAAAAAAAAAAAAAAAAAAAAAAAAAAAAAAAAAAAAAAAAAAAAAAAAAAAAAAAAAAAAAAAAAAAAAAAAAAAAAAAAAAAAAAAAAAAAAAAAAAAAAAAAAAAAAAAAAAAAAAAAAAAAAAAAAAAAAAAAAAAAAAAAAAAAAAAAAAAAAAAAAAAAAAAAAAAAAAAAAAAAAAAAAAAAAAAAAAAAAAAAAAAAAAAAAAAAAAAAAAAAAAAAAAAAAAAAAAAAAAAAAAAAAAAAAAAAAAAAAAAAAAAAAAAAAAAAAAAAAAAAAAAAAAAAAAAAAAAAAAAAAAAAAAAAAAAAAAAAAAAAAAAAAAAAAAAAAAAAAAAAAAAAAAAAAAAAAAAAAAAAAAAAAAAAAAAAAAAAAAAAAAAAAAAAAAAAAAAAAAAAAAAAAAAAAAAAAAAAAAAAAAAAAAAAAAAAAAAAAAAAAAAAAAAAAAAAAAAAAAAAAAAAAAAAAAAAAAAAAAAAAAAAAAAAAAAAAAAAAAAAAAAAAAAAAAAAAAAAAAAAAAAAAAAAAAAAAAAAAAAAAAAAAAAAAAAAAAAAAAAAAAAAAAAAAAAAAAAAAAAAAAAAAAAAAAAAAAAAAAAAAAAAAAAAAAAAAAAAAAAAAAAAAAAAAAAAAAAAAAAAAAAAAAAAAAAAAAAAAAAAAAAAAAAAAAAAAAAAAAAAAAAAAAAAAAAAAAAAAAAAAAAAAAAAAAAAAAAAAAAAAAAAAAAAAAAAAAAAAAAAAAAAAAAAAAAAAAAAAAAAAAAAAAAAAAAAAAAAAAAAAAAAAAAAAAAAAAAAAAAAAAAAAAAAAAAAAAAAAAAAAAAAAAAAAAAAAAAAAAAAAAAAAAAAAAAAAAAAAAAAAAAAAAAAAAAAAAAAAAAAAAAAAAAAAAAAAAAAAAAAAAAAAAAAAAAAAAAAAAAAAAAAAAAAAAAAAAAAAAAAAAAAAAAAAAAAAAAAAAAAAAAAAAAAAAAAAAAAAAAAAAAAAAAAAAAAAAAAAAAAAAAAAAAAAAAAAAAAAAAAAAAAAAAAAAAAAAAAAAAAAAAAAAAAAAAAAAAAAAAAAAAAAAAAAAAAAAAAAAAAAAAAAAAAAAAAAAAAAAAAAAAAAAAAAAAAAAAAAAAAAAAAAAAAAAAAAAAAAAAAAAAAAAAAAAAAAAAAAAAAAAAAAAAAAAAAAAAAAAAAAAAAAAAAAAAAAAAAAAAAAAAAAAAAAAAAAAAAAAAAAAAAAAAAAAAAAAAAAAAAAAAAAAAAAAAAAAAAAAAAAAAAAAAAAAAAAAAAAAAAAAAAAAAAAAAAAAAAAAAAAAAAAAAAAAAAAAAAAAAAAAAAAAAAAAAAAAAAAAAAAAAAAAAAAAAAAAAAAAAAAAAAAAAAAAAAAAAAAAAAAAAAAAAAAAAAAAAAAAAAAAAAAAAAAAAAAAAAAAAAAAAAAAAAAAAAAAAAAAAAAAAAAAAAAAAAAAAAAAAAAAAAAAAAAAAAAAAAAAAAAAAAAAAAAAAAAAAAAAAAAAAAAAAAAAAAAAAAAAAAAAAAAAAAAAAAAAAAAAAAAAAAAAAAAAAAAAAAAAAAAAAAAAAAAAAAAAAAAAAAAAAAAAAAAAAAAAAAAAAAAAAAAAAAAAAAAAAAAAAAAAAAAAAAAAAAAAAAAAAAAAAAAAAAAAAAAAAAAAAAAAAAAAAAAAAAAAAAAAAAAAAAAAAAAAAAAAAAAAAAAAAAAAAAAAAAAAAAAAAAAAAAAAAAAAAAAAAAAAAAAAAAAAAAAAAAAAAAAAAAAAAAAAAAAAAAAAAAAAAAAAAAAAAAAAAAAAAAAAAAAAAAAAAAAAAAAAAAAAAAAAAAAAAAAAAAAAAAAAAAAAAAAAAAAAAAAAAAAAAAAAAAAAAAAAAAAAAAAAAAAAAAAAAAAAAAAAAAAAAAAAAAAAAAAAAAAAAAAAAAAAAAAAAAAAAAAAAAAAAAAAAAAAAAAAAAAAAAAAAAAAAAAAAAAAAAAAAAAAAAAAAAAAAAAAAAAAAAAAAAAAAAAAAAAAAAAAAAAAAAAAAAAAAAAAAAAAAAAAAAAAAAAAAAAAAAAAAAAAAAAAAAAAAAAAAAAAAAAAAAAAAAAAAAAAAAAAAAAAAAAAAAAAAAAAAAAAAAAAAAAAAAAAAAAAAAAAAAAAAAAAAAAAAAAAAAAAAAAAAAAAAAAAAAAAAAAAAAAAAAAAAAAAAAAAAAAAAAAAAAAAAAAAAAAAAAAAAAAAAAAAAAAAAAAAAAAAAAAAAAAAAAAAAAAAAAAAAAAAAAAAAAAAAAAAAAAAAAAAAAAAAAAAAAAAAAAAAAAAAAAAAAAAAAAAAAAAAAAAAAAAAAAAAAAAAAAAAAAAAAAAAAAAAAAAAAAAAAAAAAAAAAAAAAAAAAAAAAAAAAAAAAAAAAAAAAAAAAAAAAAAAAAAAAAAAAAAAAAAAAAAAAAAAAAAAAAAAAAAAAAAAAAAAAAAAAAAAAAAAAAAAAAAAAAAAAAAAAAAAAAAAAAAAAAAAAAAAAAAAAAAAAAAAAAAAAAAAAAAAAAAAAAAAAAAAAAAAAAAAAAAAAAAAAAAAAAAAAAAAAAAAAAAAAAAAAAAAAAAAAAAAAAAAAAAAAAAAAAAAAAAAAAAAAAAAAAAAAAAAAAAAAAAAAAAAAAAAAAAAAAAAAAAAAAAAAAAAAAAAAAAAAAAAAAAAAAAAAAAAAAAAAAAAAAAAAAAAAAAAAAAAAAAAAAAAAAAAAAAAAAAAAAAAAAAAAAAAAAAAAAAAAAAAAAAAAAAAAAAAAAAAAAAAAAAAAAAAAAAAAAAAAAAAAAAAAAAAAAAAAAAAAAAAAAAAAAAAAAAAAAAAAAAAAAAAAAAAAAAAAAAAAAAAAAAAAAAAAAAAAAAAAAAAAAAAAAAAAAAAAAAAAAAAAAAAAAAAAAAAAAAAAAAAAAAAAAAAAAAAAAAAAAAAAAAAAAAAAAAAAAAAAAAAAAAAAAAAAAAAAAAAAAAAAAAAAAAAAAAAAAAAAAAAAAAAAAAAAAAAAAAAAAAAAAAAAAAAAAAAAAAAAAAAAAAAAAAAAAAAAAAAAAAAAAAAAAAAAAAAAAAAAAAAAAAAAAAAAAAAAAAAAAAAAAAAAAAAAAAAAAAAAAAAAAAAAAAAAAAAAAAAAAAAAAAAAAAAAAAAAAAAAAAAAAAAAAAAAAAAAAAAAAAAAAAAAAAAAAAAAAAAAAAAAAAAAAAAAAAAAAAAAAAAAAAAAAAAAAAAAAAAAAAAAAAAAAAAAAAAAAAAAAAAAAAAAAAAAAAAAAAAAAAAAAAAAAAAAAAAAAAAAAAAAAAAAAAAAAAAAAAAAAAAAAAAAAAAAAAAAAAAAAAAAAAAAAAAAAAAAAAAAAAAAAAAAAAAAAAAAAAAAAAAAAAAAAAAAAAAAAAAAAAAAAAAAAAAAAAAAAAAAAAAAAAAAAAAAAAAAAAAAAAAAAAAAAAAAAAAAAAAAAAAAAAAAAAAAAAAAAAAAAAAAAAAAAAAAAAAAAAAAAAAAAAAAAAAAAAAAAAAAAAAAAAAAAAAAAAAAAAAAAAAAAAAAAAAAAAAAAAAAAAAAAAAAAAAAAAAAAAAAAAAAAAAAAAAAAAAAAAAAAAAAAAAAAAAAAAAAAAAAAAAAAAAAAAAAAAAAAAAAAAAAAAAAAAAAAAAAAAAAAAAAAAAAAAAAAAAAAAAAAAAAAAAAAAAAAAAAAAAAAAAAAAAAAAAAAAAAAAAAAAAAAAAAAAAAAAAAAAAAAAAAAAAAAAAAAAAAAAAAAAAAAAAAAAAAAAAAAAAAAAAAAAAAAAAAAAAAAAAAAAAAAAAAAAAAAAAAAAAAAAAAAAAAAAAAAAAAAAAAAAAAAAAAAAAAAAAAAAAAAAAAAAAAAAAAAAAAAAAAAAAAAAAAAAAAAAAAAAAAAAAAAAAAAAAAAAAAAAAAAAAAAAAAAAAAAAAAAAAAAAAAAAAAAAAAAAAAAAAAAAAAAAAAAAAAAAAAAAAAAAAAAAAAAAAAAAAAAAAAAAAAAAAAAAAAAAAAAAAAAAAAAAAAAAAAAAAAAAAAAAAAAAAAAAAAAAAAAAAAAAAAAAAAAAAAAAAAAAAAAAAAAAAAAAAAAAAAAAAAAAAAAAAAAAAAAAAAAAAAAAAAAAAAAAAAAAAAAAAAAAAAAAAAAAAAAAAAAAAAAAAAAAAAAAAAAAAAAAAAAAAAAAAAAAAAAAAAAAAAAAAAAAAAAAAAAAAAAAAAAAAAAAAAAAAAAAAAAAAAAAAAAAAAAAAAAAAAAAAAAAAAAAAAAAAAAAAAAAAAAAAAAAAAAAAAAAAAAAAAAAAAAAAAAAAAAAAAAAAAAAAAAAAAAAAAAAAAAAAAAAAAAAAAAAAAAAAAAAAAAAAAAAAAAAAAAAAAAAAAAAAAAAAAAAAAAAAAAAAAAAAAAAAAAAAAAAAAAAAAAAAAAAAAAAAAAAAAAAAAAAAAAAAAAAAAAAAAAAAAAAAAAAAAAAAAAAAAAAAAAAAAAAAAAAAAAAAAAAAAAAAAAAAAAAAAAAAAAAAAAAAAAAAAAAAAAAAAAAAAAAAAAAAAAAAAAAAAAAAAAAAAAAAAAAAAAAAAAAAAAAAAAAAAAAAAAAAAAAAAAAAAAAAAAAAAAAAAAAAAAAAAAAAAAAAAAAAAAAAAAAAAAAAAAAAAAAAAAAAAAAAAAAAAAAAAAAAAAAAAAAAAAAAAAAAAAAAAAAAAAAAAAAAAAAAAAAAAAAAAAAAAAAAAAAAAAAAAAAAAAAAAAAAAAAAAAAAAAAAAAAAAAAAAAAAAAAAAAAAAAAAAAAAAAAAAAAAAAAAAAAAAAAAAAAAAAAAAAAAAAAAAAAAAAAAAAAAAAAAAAAAAAAAAAAAAAAAAAAAAAAAAAAAAAAAAAAAAAAAAAAAAAAAAAAAAAAAAAAAAAAAAAAAAAAAAAAAAAAAAAAAAAAAAAAAAAAAAAAAAAAAAAAAAAAAAAAAAAAAAAAAAAAAAAAAAAAAAAAAAAAAAAAAAAAAAAAAAAAAAAAAAAAAAAAAAAAAAAAAAAAAAAAAAAAAAAAAAAAAAAAAAAAAAAAAAAAAAAAAAAAAAAAAAAAAAAAAAAAAAAAAAAAAAAAAAAAAAAAAAAAAAAAAAAAAAAAAAAAAAAAAAAAAAAAAAAAAAAAAAAAAAAAAAAAAAAAAAAAAAAAAAAAAAAAAAAAAAAAAAAAAAAAAAAAAAAAAAAAAAAAAAAAAAAAAAAAAAAAAAAAAAAAAAAAAAAAAAAAAAAAAAAAAAAAAAAAAAAAAAAAAAAAAAAAAAAAAAAAAAAAAAAAAAAAAAAAAAAAAAAAAAAAAAAAAAAAAAAAAAAAAAAAAAAAAAAAAAAAAAAAAAAAAAAAAAAAAAAAAAAAAAAAAAAAAAAAAAAAAAAAAAAAAAAAAAAAAAAAAAAAAAAAAAAAAAAAAAAAAAAAAAAAAAAAAAAAAAAAAAAAAAAAAAAAAAAAAAAAAAAAAAAAAAAAAAAAAAAAAAAAAAAAAAAAAAAAAAAAAAAAAAAAAAAAAAAAAAAAAAAAAAAAAAAAAAAAAAAAAAAAAAAAAAAAAAAAAAAAAAAAAAAAAAAAAAAAAAAAAAAAAAAAAAAAAAAAAAAAAAAAAAAAAAAAAAAAAAAAAAAAAAAAAAAAAAAAAAAAAAAAAAAAAAAAAAAAAAAAAAAAAAAAAAAAAAAAAAAAAAAAAAAAAAAAAAAAAAAAAAAAAAAAAAAAAAAAAAAAAAAAAAAAAAAAAAAAAAAAAAAAAAAAAAAAAAAAAAAAAAAAAAAAAAAAAAAAAAAAAAAAAAAAAAAAAAAAAAAAAAAAAAAAAAAAAAAAAAAAAAAAAAAAAAAAAAAAAAAAAAAAAAAAAAAAAAAAAAAAAAAAAAAAAAAAAAAAAAAAAAAAAAAAAAAAAAAAAAAAAAAAAAAAAAAAAAAAAAAAAAAAAAAAAAAAAAAAAAAAAAAAAAAAAAAAAAAAAAAAAAAAAAAAAAAAAAAAAAAAAAAAAAAAAAAAAAAAAAAAAAAAAAAAAAAAAAAAAAAAAAAAAAAAAAAAAAAAAAAAAAAAAAAAAAAAAAAAAAAAAAAAAAAAAAAAAAAAAAAAAAAAAAAAAAAAAAAAAAAAAAAAAAAAAAAAAAAAAAAAAAAAAAAAAAAAAAAAAAAAAAAAAAAAAAAAAAAAAAAAAAAAAAAAAAAAAAAAAAAAAAAAAAAAAAAAAAAAAAAAAAAAAAAAAAAAAAAAAAAAAAAAAAAAAAAAAAAAAAAAAAAAAAAAAAAAAAAAAAAAAAAAAAAAAAAAAAAAAAAAAAAAAAAAAAAAAAAAAAAAAAAAAAAAAAAAAAAAAAAAAAAAAAAAAAAAAAAAAAAAAAAAAAAAAAAAAAAAAAAAAAAAAAAAAAAAAAAAAAAAAAAAAAAAAAAAAAAAAAAAAAAAAAAAAAAAAAAAAAAAAAAAAAAAAAAAAAAAAAAAAAAAAAAAAAAAAAAAAAAAAAAAAAAAAAAAAAAAAAAAAAAAAAAAAAAAAAAAAAAAAAAAAAAAAAAAAAAAAAAAAAAAAAAAAAAAAAAAAAAAAAAAAAAAAAAAAAAAAAAAAAAAAAAAAAAAAAAAAAAAAAAAAAAAAAAAAAAAAAAAAAAAAAAAAAAAAAAAAAAAAAAAAAAAAAAAAAAAAAAAAAAAAAAAAAAAAAAAAAAAAAAAAAAAAAAAAAAAAAAAAAAAAAAAAAAAAAAAAAAAAAAAAAAAAAAAAAAAAAAAAAAAAAAAAAAAAAAAAAAAAAAAAAAAAAAAAAAAAAAAAAAAAAAAAAAAAAAAAAAAAAAAAAAAAAAAAAAAAAAAAAAAAAAAAAAAAAAAAAAAAAAAAAAAAAAAAAAAAAAAAAAAAAAAAAAAAAAAAAAAAAAAAAAAAAAAAAAAAAAAAAAAAAAAAAAAAAAAAAAAAAAAAAAAAAAAAAAAAAAAAAAAAAAAAAAAAAAAAAAAAAAAAAAAAAAAAAAAAAAAAAAAAAAAAAAAAAAAAAAAAAAAAAAAAAAAAAAAAAAAAAAAAAAAAAAAAAAAAAAAAAAAAAAAAAAAAAAAAAAAAAAAAAAAAAAAAAAAAAAAAAAAAAAAAAAAAAAAAAAAAAAAAAAAAAAAAAAAAAAAAAAAAAAAAAAAAAAAAAAAAAAAAAAAAAAAAAAAAAAAAAAAAAAAAAAAAAAAAAAAAAAAAAAAAAAAAAAAAAAAAAAAAAAAAAAAAAAAAAAAAAAAAAAAAAAAAAAAAAAAAAAAAAAAAAAAAAAAAAAAAAAAAAAAAAAAAAAAAAAAAAAAAAAAAAAAAAAAAAAAAAAAAAAAAAAAAAAAAAAAAAAAAAAAAAAAAAAAAAAAAAAAAAAAAAAAAAAAAAAAAAAAAAAAAAAAAAAAAAAAAAAAAAAAAAAAAAAAAAAAAAAAAAAAAAAAAAAAAAAAAAAAAAAAAAAAAAAAAAAAAAAAAAAAAAAAAAAAAAAAAAAAAAAAAAAAAAAAAAAAAAAAAAAAAAAAAAAAAAAAAAAAAAAAAAAAAAAAAAAAAAAAAAAAAAAAAAAAAAAAAAAAAAAAAAAAAAAAAAAAAAAAAAAAAAAAAAAAAAAAAAAAAAAAAAAAAAAAAAAAAAAAAAAAAAAAAAAAAAAAAAAAAAAAAAAAAAAAAAAAAAAAAAAAAAAAAAAAAAAAAAAAAAAAAAAAAAAAAAAAAAAAAAAAAAAAAAAAAAAAAAAAAAAAAAAAAAAAAAAAAAAAAAAAAAAAAAAAAAAAAAAAAAAAAAAAAAAAAAAAAAAAAAAAAAAAAAAAAAAAAAAAAAAAAAAAAAAAAAAAAAAAAAAAAAAAAAAAAAAAAAAAAAAAAAAAAAAAAAAAAAAAAAAAAAAAAAAAAAAAAAAAAAAAAAAAAAAAAAAAAAAAAAAAAAAAAAAAAAAAAAAAAAAAAAAAAAAAAAAAAAAAAAAAAAAAAAAAAAAAAAAAAAAAAAAAAAAAAAAAAAAAAAAAAAAAAAAAAAAAAAAAAAAAAAAAAAAAAAAAAAAAAAAAAAAAAAAAAAAAAAAAAAAAAAAAAAAAAAAAAAAAAAAAAAAAAAAAAAAAAAAAAAAAAAAAAAAAAAAAAAAAAAAAAAAAAAAAAAAAAAAAAAAAAAAAAAAAAAAAAAAAAAAAAAAAAAAAAAAAAAAAAAAAAAAAAAAAAAAAAAAAAAAAAAAAAAAAAAAAAAAAAAAAAAAAAAAAAAAAAAAAAAAAAAAAAAAAAAAAAAAAAAAAAAAAAAAAAAAAAAAAAAAAAAAAAAAAAAAAAAAAAAAAAAAAAAAAAAAAAAAAAAAAAAAAAAAAAAAAAAAAAAAAAAAAAAAAAAAAAAAAAAAAAAAAAAAAAAAAAAAAAAAAAAAAAAAAAAAAAAAAAAAAAAAAAAAAAAAAAAAAAAAAAAAAAAAAAAAAAAAAAAAAAAAAAAAAAAAAAAAAAAAAAAAAAAAAAAAAAAAAAAAAAAAAAAAAAAAAAAAAAAAAAAAAAAAAAAAAAAAAAAAAAAAAAAAAAAAAAAAAAAAAAAAAAAAAAAAAAAAAAAAAAAAAAAAAAAAAAAAAAAAAAAAAAAAAAAAAAAAAAAAAAAAAAAAAAAAAAAAAAAAAAAAAAAAAAAAAAAAAAAAAAAAAAAAAAAAAAAAAAAAAAAAAAAAAAAAAAAAAAAAAAAAAAAAAAAAAAAAAAAAAAAAAAAAAAAAAAAAAAAAAAAAAAAAAAAAAAAAAAAAAAAAAAAAAAAAAAAAAAAAAAAAAAAAAAAAAAAAAAAAAAAAAAAAAAAAAAAAAAAAAAAAAAAAAAAAAAAAAAAAAAAAAAAAAAAAAAAAAAAAAAAAAAAAAAAAAAAAAAAAAAAAAAAAAAAAAAAAAAAAAAAAAAAAAAAAAAAAAAAAAAAAAAAAAAAAAAAAAAAAAAAAAAAAAAAAAAAAAAAAAAAAAAAAAAAAAAAAAAAAAAAAAAAAAAAAAAAAAAAAAAAAAAAAAAAAAAAAAAAAAAAAAAAAAAAAAAAAAAAAAAAAAAAAAAAAAAAAAAAAAAAAAAAAAAAAAAAAAAAAAAAAAAAAAAAAAAAAAAAAAAAAAAAAAAAAAAAAAAAAAAAAAAAAAAAAAAAAAAAAAAAAAAAAAAAAAAAAAAAAAAAAAAAAAAAAAAAAAAAAAAAAAAAAAAAAAAAAAAAAAAAAAAAAAAAAAAAAAAAAAAAAAAAAAAAAAAAAAAAAAAAAAAAAAAAAAAAAAAAAAAAAAAAAAAAAAAAAAAAAAAAAAAAAAAAAAAAAAAAAAAAAAAAAAAAAAAAAAAAAAAAAAAAAAAAAAAAAAAAAAAAAAAAAAAAAAAAAAAAAAAAAAAAAAAAAAAAAAAAAAAAAAAAAAAAAAAAAAAAAAAAAAAAAAAAAAAAAAAAAAAAAAAAAAAAAAAAAAAAAAAAAAAAAAAAAAAAAAAAAAAAAAAAAAAAAAAAAAAAAAAAAAAAAAAAAAAAAAAAAAAAAAAAAAAAAAAAAAAAAAAAAAAAAAAAAAAAAAAAAAAAAAAAAAAAAAAAAAAAAAAAAAAAAAAAAAAAAAAAAAAAAAAAAAAAAAAAAAAAAAAAAAAAAAAAAAAAAAAAAAAAAAAAAAAAAAAAAAAAAAAAAAAAAAAAAAAAAAAAAAAAAAAAAAAAAAAAAAAAAAAAAAAAAAAAAAAAAAAAAAAAAAAAAAAAAAAAAAAAAAAAAAAAAAAAAAAAAAAAAAAAAAAAAAAAAAAAAAAAAAAAAAAAAAAAAAAAAAAAAAAAAAAAAAAAAAAAAAAAAAAAAAAAAAAAAAAAAAAAAAAAAAAAAAAAAAAAAAAAAAAAAAAAAAAAAAAAAAAAAAAAAAAAAAAAAAAAAAAAAAAAAAAAAAAAAAAAAAAAAAAAAAAAAAAAAAAAAAAAAAAAAAAAAAAAAAAAAAAAAAAAAAAAAAAAAAAAAAAAAAAAAAAAAAAAAAAAAAAAAAAAAAAAAAAAAAAAAAAAAAAAAAAAAAAAAAAAAAAAAAAAAAAAAAAAAAAAAAAAAAAAAAAAAAAAAAAAAAAAAAAAAAAAAAAAAAAAAAAAAAAAAAAAAAAAAAAAAAAAAAAAAAAAAAAAAAAAAAAAAAAAAAAAAAAAAAAAAAAAAAAAAAAAAAAAAAAAAAAAAAAAAAAAAAAAAAAAAAAAAAAAAAAAAAAAAAAAAAAAAAAAAAAAAAAAAAAAAAAAAAAAAAAAAAAAAAAAAAAAAAAAAAAAAAAAAAAAAAAAAAAAAAAAAAAAAAAAAAAAAAAAAAAAAAAAAAAAAAAAAAAAAAAAAAAAAAAAAAAAAAAAAAAAAAAAAAAAAAAAAAAAAAAAAAAAAAAAAAAAAAAAAAAAAAAAAAAAAAAAAAAAAAAAAAAAAAAAAAAAAAAAAAAAAAAAAAAAAAAAAAAAAAAAAAAAAAAAAAAAAAAAAAAAAAAAAAAAAAAAAAAAAAAAAAAAAAAAAAAAAAAAAAAAAAAAAAAAAAAAAAAAAAAAAAAAAAAAAAAAAAAAAAAAAAAAAAAAAAAAAAAAAAAAAAAAAAAAAAAAAAAAAAAAAAAAAAAAAAAAAAAAAAAAAAAAAAAAAAAAAAAAAAAAAAAAAAAAAAAAAAAAAAAAAAAAAAAAAAAAAAAAAAAAAAAAAAAAAAAAAAAAAAAAAAAAAAAAAAAAAAAAAAAAAAAAAAAAAAAAAAAAAAAAAAAAAAAAAAAAAAAAAAAAAAAAAAAAAAAAAAAAAAAAAAAAAAAAAAAAAAAAAAAAAAAAAAAAAAAAAAAAAAAAAAAAAAAAAAAAAAAAAAAAAAAAAAAAAAAAAAAAAAAAAAAAAAAAAAAAAAAAAAAAAAAAAAAAAAAAAAAAAAAAAAAAAAAAAAAAAAAAAAAAAAAAAAAAAAAAAAAAAAAAAAAAAAAAAAAAAAAAAAAAAAAAAAAAAAAAAAAAAAAAAAAAAAAAAAAAAAAAAAAAAAAAAAAAAAAAAAAAAAAAAAAAAAAAAAAAAAAAAAAAAAAAAAAAAAAAAAAAAAAAAAAAAAAAAAAAAAAAAAAAAAAAAAAAAAAAAAAAAAAAAAAAAAAAAAAAAAAAAAAAAAAAAAAAAAAAAAAAAAAAAAAAAAAAAAAAAAAAAAAAAAAAAAAAAAAAAAAAAAAAAAAAAAAAAAAAAAAAAAAAAAAAAAAAAAAAAAAAAAAAAAAAAAAAAAAAAAAAAAAAAAAAAAAAAAAAAAAAAAAAAAAAAAAAAAAAAAAAAAAAAAAAAAAAAAAAAAAAAAAAAAAAAAAAAAAAAAAAAAAAAAAAAAAAAAAAAAAAAAAAAAAAAAAAAAAAAAAAAAAAAAAAAAAAAAAAAAAAAAAAAAAAAAAAAAAAAAAAAAAAAAAAAAAAAAAAAAAAAAAAAAAAAAAAAAAAAAAAAAAAAAAAAAAAAAAAAAAAAAAAAAAAAAAAAAAAAAAAAAAAAAAAAAAAAAAAAAAAAAAAAAAAAAAAAAAAAAAAAAAAAAAAAAAAAAAAAAAAAAAAAAAAAAAAAAAAAAAAAAAAAAAAAAAAAAAAAAAAAAAAAAAAAAAAAAAAAAAAAAAAAAAAAAAAAAAAAAAAAAAAAAAAAAAAAAAAAAAAAAAAAAAAAAAAAAAAAAAAAAAAAAAAAAAAAAAAAAAAAAAAAAAAAAAAAAAAAAAAAAAAAAAAAAAAAAAAAAAAAAAAAAAAAAAAAAAAAAAAAAAAAAAAAAAAAAAAAAAAAAAAAAAAAAAAAAAAAAAAAAAAAAAAAAAAAAAAAAAAAAAAAAAAAAAAAAAAAAAAAAAAAAAAAAAAAAAAAAAAAAAAAAAAAAAAAAAAAAAAAAAAAAAAAAAAAAAAAAAAAAAAAAAAAAAAAAAAAAAAAAAAAAAAAAAAAAAAAAAAAAAAAAAAAAAAAAAAAAAAAAAAAAAAAAAAAAAAAAAAAAAAAAAAAAAAAAAAAAAAAAAAAAAAAAAAAAAAAAAAAAAAAAAAAAAAAAAAAAAAAAAAAAAAAAAAAAAAAAAAAAAAAAAAAAAAAAAAAAAAAAAAAAAAAAAAAAAAAAAAAAAAAAAAAAAAAAAAAAAAAAAAAAAAAAAAAAAAAAAAAAAAAAAAAAAAAAAAAAAAAAAAAAAAAAAAAAAAAAAAAAAAAAAAAAAAAAAAAAAAAAAAAAAAAAAAAAAAAAAAAAAAAAAAAAAAAAAAAAAAAAAAAAAAAAAAAAAAAAAAAAAAAAAAAAAAAAAAAAAAAAAAAAAAAAAAAAAAAAAAAAAAAAAAAAAAAAAAAAAAAAAAAAAAAAAAAAAAAAAAAAAAAAAAAAAAAAAAAAAAAAAAAAAAAAAAAAAAAAAAAAAAAAAAAAAAAAAAAAAAAAAAAAAAAAAAAAAAAAAAAAAAAAAAAAAAAAAAAAAAAAAAAAAAAAAAAAAAAAAAAAAAAAAAAAAAAAAAAAAAAAAAAAAAAAAAAAAAAAAAAAAAAAAAAAAAAAAAAAAAAAAAAAAAAAAAAAAAAAAAAAAAAAAAAAAAAAAAAAAAAAAAAAAAAAAAAAAAAAAAAAAAAAAAAAAAAAAAAAAAAAAAAAAAAAAAAAAAAAAAAAAAAAAAAAAAAAAAAAAAAAAAAAAAAAAAAAAAAAAAAAAAAAAAAAAAAAAAAAAAAAAAAAAAAAAAAAAAAAAAAAAAAAAAAAAAAAAAAAAAAAAAAAAAAAAAAAAAAAAAAAAAAAAAAAAAAAAAAAAAAAAAAAAAAAAAAAAAAAAAAAAAAAAAAAAAAAAAAAAAAAAAAAAAAAAAAAAAAAAAAAAAAAAAAAAAAAAAAAAAAAAAAAAAAAAAAAAAAAAAAAAAAAAAAAAAAAAAAAAAAAAAAAAAAAAAAAAAAAAAAAAAAAAAAAAAAAAAAAAAAAAAAAAAAAAAAAAAAAAAAAAAAAAAAAAAAAAAAAAAAAAAAAAAAAAAAAAAAAAAAAAAAAAAAAAAAAAAAAAAAAAAAAAAAAAAAAAAAAAAAAAAAAAAAAAAAAAAAAAAAAAAAAAAAAAAAAAAAAAAAAAAAAAAAAAAAAAAAAAAAAAAAAAAAAAAAAAAAAAAAAAAAAAAAAAAAAAAAAAAAAAAAAAAAAAAAAAAAAAAAAAAAAAAAAAAAAAAAAAAAAAAAAAAAAAAAAAAAAAAAAAAAAAAAAAAAAAAAAAAAAAAAAAAAAAAAAAAAAAAAAAAAAAAAAAAAAAAAAAAAAAAAAAAAAAAAAAAAAAAAAAAAAAAAAAAAAAAAAAAAAAAAAAAAAAAAAAAAAAAAAAAAAAAAAAAAAAAAAAAAAAAAAAAAAAAAAAAAAAAAAAAAAAAAAAAAAAAAAAAAAAAAAAAAAAAAAAAAAAAAAAAAAAAAAAAAAAAAAAAAAAAAAAAAAAAAAAAAAAAAAAAAAAAAAAAAAAAAAAAAAAAAAAAAAAAAAAAAAAAAAAAAAAAAAAAAAAAAAAAAAAAAAAAAAAAAAAAAAAAAAAAAAAAAAAAAAAAAAAAAAAAAAAAAAAAAAAAAAAAAAAAAAAAAAAAAAAAAAAAAAAAAAAAAAAAAAAAAAAAAAAAAAAAAAAAAAAAAAAAAAAAAAAAAAAAAAAAAAAAAAAAAAAAAAAAAAAAAAAAAAAAAAAAAAAAAAAAAAAAAAAAAAAAAAAAAAAAAAAAAAAAAAAAAAAAAAAAAAAAAAAAAAAAAAAAAAAAAAAAAAAAAAAAAAAAAAAAAAAAAAAAAAAAAAAAAAAAAAAAAAAAAAAAAAAAAAAAAAAAAAAAAAAAAAAAAAAAAAAAAAAAAAAAAAAAAAAAAAAAAAAAAAAAAAAAAAAAAAAAAAAAAAAAAAAAAAAAAAAAAAAAAAAAAAAAAAAAAAAAAAAAAAAAAAAAAAAAAAAAAAAAAAAAAAAAAAAAAAAAAAAAAAAAAAAAAAAAAAAAAAAAAAAAAAAAAAAAAAAAAAAAAAAAAAAAAAAAAAAAAAAAAAAAAAAAAAAAAAAAAAAAAAAAAAAAAAAAAAAAAAAAAAAAAAAAAAAAAAAAAAAAAAAAAAAAAAAAAAAAAAAAAAAAAAAAAAAAAAAAAAAAAAAAAAAAAAAAAAAAAAAAAAAAAAAAAAAAAAAAAAAAAAAAAAAAAAAAAAAAAAAAAAAAAAAAAAAAAAAAAAAAAAAAAAAAAAAAAAAAAAAAAAAAAAAAAAAAAAAAAAAAAAAAAAAAAAAAAAAAAAAAAAAAAAAAAAAAAAAAAAAAAAAAAAAAAAAAAAAAAAAAAAAAAAAAAAAAAAAAAAAAAAAAAAAAAAAAAAAAAAAAAAAAAAAAAAAAAAAAAAAAAAAAAAAAAAAAAAAAAAAAAAAAAAAAAAAAAAAAAAAAAAAAAAAAAAAAAAAAAAAAAAAAAAAAAAAAAAAAAAAAAAAAAAAAAAAAAAAAAAAAAAAAAAAAAAAAAAAAAAAAAAAAAAAAAAAAAAAAAAAAAAAAAAAAAAAAAAAAAAAAAAAAAAAAAAAAAAAAAAAAAAAAAAAAAAAAAAAAAAAAAAAAAAAAAAAAAAAAAAAAAAAAAAAAAAAAAAAAAAAAAAAAAAAAAAAAAAAAAAAAAAAAAAAAAAAAAAAAAAAAAAAAAAAAAAAAAAAAAAAAAAAAAAAAAAAAAAAAAAAAAAAAAAAAAAAAAAAAAAAAAAAAAAAAAAAAAAAAAAAAAAAAAAAAAAAAAAAAAAAAAAAAAAAAAAAAAAAAAAAAAAAAAAAAAAAAAAAAAAAAAAAAAAAAAAAAAAAAAAAAAAAAAAAAAAAAAAAAAAAAAAAAAAAAAAAAAAAAAAAAAAAAAAAAAAAAAAAAAAAAAAAAAAAAAAAAAAAAAAAAAAAAAAAAAAAAAAAAAAAAAAAAAAAAAAAAAAAAAAAAAAAAAAAAAAAAAAAAAAAAAAAAAAAAAAAAAAAAAAAAAAAAAAAAAAAAAAAAAAAAAAAAAAAAAAAAAAAAAAAAAAAAAAAAAAAAAAAAAAAAAAAAAAAAAAAAAAAAAAAAAAAAAAAAAAAAAAAAAAAAAAAAAAAAAAAAAAAAAAAAAAAAAAAAAAAAAAAAAAAAAAAAAAAAAAAAAAAAAAAAAAAAAAAAAAAAAAAAAAAAAAAAAAAAAAAAAAAAAAAAAAAAAAAAAAAAAAAAAAAAAAAAAAAAAAAAAAAAAAAAAAAAAAAAAAAAAAAAAAAAAAAAAAAAAAAAAAAAAAAAAAAAAAAAAAAAAAAAAAAAAAAAAAAAAAAAAAAAAAAAAAAAAAAAAAAAAAAAAAAAAAAAAAAAAAAAAAAAAAAAAAAAAAAAAAAAAAAAAAAAAAAAAAAAAAAAAAAAAAAAAAAAAAAAAAAAAAAAAAAAAAAAAAAAAAAAAAAAAAAAAAAAAAAAAAAAAAAAAAAAAAAAAAAAAAAAAAAAAAAAAAAAAAAAAAAAAAAAAAAAAAAAAAAAAAAAAAAAAAAAAAAAAAAAAAAAAAAAAAAAAAAAAAAAAAAAAAAAAAAAAAAAAAAAAAAAAAAAAAAAAAAAAAAAAAAAAAAAAAAAAAAAAAAAAAAAAAAAAAAAAAAAAAAAAAAAAAAAAAAAAAAAAAAAAAAAAAAAAAAAAAAAAAAAAAAAAAAAAAAAAAAAAAAAAAAAAAAAAAAAAAAAAAAAAAAAAAAAAAAAAAAAAAAAAAAAAAAAAAAAAAAAAAAAAAAAAAAAAAAAAAAAAAAAAAAAAAAAAAAAAAAAAAAAAAAAAAAAAAAAAAAAAAAAAAAAAAAAAAAAAAAAAAAAAAAAAAAAAAAAAAAAAAAAAAAAAAAAAAAAAAAAAAAAAAAAAAAAAAAAAAAAAAAAAAAAAAAAAAAAAAAAAAAAAAAAAAAAAAAAAAAAAAAAAAAAAAAAAAAAAAAAAAAAAAAAAAAAAAAAAAAAAAAAAAAAAAAAAAAAAAAAAAAAAAAAAAAAAAAAAAAAAAAAAAAAAAAAAAAAAAAAAAAAAAAAAAAAAAAAAAAAAAAAAAAAAAAAAAAAAAAAAAAAAAAAAAAAAAAAAAAAAAAAAAAAAAAAAAAAAAAAAAAAAAAAAAAAAAAAAAAAAAAAAAAAAAAAAAAAAAAAAAAAAAAAAAAAAAAAAAAAAAAAAAAAAAAAAAAAAAAAAAAAAAAAAAAAAAAAAAAAAAAAAAAAAAAAAAAAAAAAAAAAAAAAAAAAAAAAAAAAAAAAAAAAAAAAAAAAAAAAAAAAAAAAAAAAAAAAAAAAAAAAAAAAAAAAAAAAAAAAAAAAAAAAAAAAAAAAAAAAAAAAAAAAAAAAAAAAAAAAAAAAAAAAAAAAAAAAAAAAAAAAAAAAAAAAAAAAAAAAAAAAAAAAAAAAAAAAAAAAAAAAAAAAAAAAAAAAAAAAAAAAAAAAAAAAAAAAAAAAAAAAAAAAAAAAAAAAAAAAAAAAAAAAAAAAAAAAAAAAAAAAAAAAAAAAAAAAAAAAAAAAAAAAAAAAAAAAAAAAAAAAAAAAAAAAAAAAAAAAAAAAAAAAAAAAAAAAAAAAAAAAAAAAAAAAAAAAAAAAAAAAAAAAAAAAAAAAAAAAAAAAAAAAAAAAAAAAAAAAAAAAAAAAAAAAAAAAAAAAAAAAAAAAAAAAAAAAAAAAAAAAAAAAAAAAAAAAAAAAAAAAAAAAAAAAAAAAAAAAAAAAAAAAAAAAAAAAAAAAAAAAAAAAAAAAAAAAAAAAAAAAAAAAAAAAAAAAAAAAAAAAAAAAAAAAAAAAAAAAAAAAAAAAAAAAAAAAAAAAAAAAAAAAAAAAAAAAAAAAAAAAAAAAAAAAAAAAAAAAAAAAAAAAAAAAAAAAAAAAAAAAAAAAAAAAAAAAAAAAAAAAAAAAAAAAAAAAAAAAAAAAAAAAAAAAAAAAAAAAAAAAAAAAAAAAAAAAAAAAAAAAAAAAAAAAAAAAAAAAAAAAAAAAAAAAAAAAAAAAAAAAAAAAAAAAAAAAAAAAAAAAAAAAAAAAAAAAAAAAAAAAAAAAAAAAAAAAAAAAAAAAAAAAAAAAAAAAAAAAAAAAAAAAAAAAAAAAAAAAAAAAAAAAAAAAAAAAAAAAAAAAAAAAAAAAAAAAAAAAAAAAAAAAAAAAAAAAAAAAAAAAAAAAAAAAAAAAAAAAAAAAAAAAAAAAAAAAAAAAAAAAAAAAAAAAAAAAAAAAAAAAAAAAAAAAAAAAAAAAAAAAAAAAAAAAAAAAAAAAAAAAAAAAAAAAAAAAAAAAAAAAAAAAAAAAAAAAAAAAAAAAAAAAAAAAAAAAAAAAAAAAAAAAAAAAAAAAAAAAAAAAAAAAAAAAAAAAAAAAAAAAAAAAAAAAAAAAAAAAAAAAAAAAAAAAAAAAAAAAAAAAAAAAAAAAAAAAAAAAAAAAAAAAAAAAAAAAAAAAAAAAAAAAAAAAAAAAAAAAAAAAAAAAAAAAAAAAAAAAAAAAAAAAAAAAAAAAAAAAAAAAAAAAAAAAAAAAAAAAAAAAAAAAAAAAAAAAAAAAAAAAAAAAAAAAAAAAAAAAAAAAAAAAAAAAAAAAAAAAAAAAAAAAAAAAAAAAAAAAAAAAAAAAAAAAAAAAAAAAAAAAAAAAAAAAAAAAAAAAAAAAAAAAAAAAAAAAAAAAAAAAAAAAAAAAAAAAAAAAAAAAAAAAAAAAAAAAAAAAAAAAAAAAAAAAAAAAAAAAAAAAAAAAAAAAAAAAAAAAAAAAAAAAAAAAAAAAAAAAAAAAAAAAAAAAAAAAAAAAAAAAAAAAAAAAAAAAAAAAAAAAAAAAAAAAAAAAAAAAAAAAAAAAAAAAAAAAAAAAAAAAAAAAAAAAAAAAAAAAAAAAAAAAAAAAAAAAAAAAAAAAAAAAAAAAAAAAAAAAAAAAAAAAAAAAAAAAAAAAAAAAAAAAAAAAAAAAAAAAAAAAAAAAAAAAAAAAAAAAAAAAAAAAAAAAAAAAAAAAAAAAAAAAAAAAAAAAAAAAAAAAAAAAAAAAAAAAAAAAAAAAAAAAAAAAAAAAAAAAAAAAAAAAAAAAAAAAAAAAAAAAAAAAAAAAAAAAAAAAAAAAAAAAAAAAAAAAAAAAAAAAAAAAAAAAAAAAAAAAAAAAAAAAAAAAAAAAAAAAAAAAAAAAAAAAAAAAAAAAAAAAAAAAAAAAAAAAAAAAAAAAAAAAAAAAAAAAAAAAAAAAAAAAAAAAAAAAAAAAAAAAAAAAAAAAAAAAAAAAAAAAAAAAAAAAAAAAAAAAAAAAAAAAAAAAAAAAAAAAAAAAAAAAAAAAAAAAAAAAAAAAAAAAAAAAAAAAAAAAAAAAAAAAAAAAAAAAAAAAAAAAAAAAAAAAAAAAAAAAAAAAAAAAAAAAAAAAAAAAAAAAAAAAAAAAAAAAAAAAAAAAAAAAAAAAAAAAAAAAAAAAAAAAAAAAAAAAAAAAAAAAAAAAAAAAAAAAAAAAAAAAAAAAAAAAAAAAAAAAAAAAAAAAAAAAAAAAAAAAAAAAAAAAAAAAAAAAAAAAAAAAAAAAAAAAAAAAAAAAAAAAAAAAAAAAAAAAAAAAAAAAAAAAAAAAAAAAAAAAAAAAAAAAAAAAAAAAAAAAAAAAAAAAAAAAAAAAAAAAAAAAAAAAAAAAAAAAAAAAAAAAAAAAAAAAAAAAAAAAAAAAAAAAAAAAAAAAAAAAAAAAAAAAAAAAAAAAAAAAAAAAAAAAAAAAAAAAAAAAAAAAAAAAAAAAAAAAAAAAAAAAAAAAAAAAAAAAAAAAAAAAAAAAAAAAAAAAAAAAAAAAAAAAAAAAAAAAAAAAAAAAAAAAAAAAAAAAAAAAAAAAAAAAAAAAAAAAAAAAAAAAAAAAAAAAAAAAAAAAAAAAAAAAAAAAAAAAAAAAAAAAAAAAAAAAAAAAAAAAAAAAAAAAAAAAAAAAAAAAAAAAAAAAAAAAAAAAAAAAAAAAAAAAAAAAAAAAAAAAAAAAAAAAAAAAAAAAAAAAAAAAAAAAAAAAAAAAAAAAAAAAAAAAAAAAAAAAAAAAAAAAAAAAAAAAA\" type=\"audio/wav\" />\n",
       "                    Your browser does not support the audio element.\n",
       "                </audio>\n",
       "              "
      ],
      "text/plain": [
       "<IPython.lib.display.Audio object>"
      ]
     },
     "metadata": {},
     "output_type": "display_data"
    },
    {
     "name": "stdout",
     "output_type": "stream",
     "text": [
      "cluster 1: 0 segments 1.0 sec total dur\n"
     ]
    },
    {
     "data": {
      "text/html": [
       "\n",
       "                <audio  controls=\"controls\" >\n",
       "                    <source src=\"data:audio/wav;base64,UklGRqQ+AABXQVZFZm10IBAAAAABAAEAQB8AAIA+AAACABAAZGF0YYA+AAAAAAAAAAAAAAAAAAAAAAAAAAAAAAAAAAAAAAAAAAAAAAAAAAAAAAAAAAAAAAAAAAAAAAAAAAAAAAAAAAAAAAAAAAAAAAAAAAAAAAAAAAAAAAAAAAAAAAAAAAAAAAAAAAAAAAAAAAAAAAAAAAAAAAAAAAAAAAAAAAAAAAAAAAAAAAAAAAAAAAAAAAAAAAAAAAAAAAAAAAAAAAAAAAAAAAAAAAAAAAAAAAAAAAAAAAAAAAAAAAAAAAAAAAAAAAAAAAAAAAAAAAAAAAAAAAAAAAAAAAAAAAAAAAAAAAAAAAAAAAAAAAAAAAAAAAAAAAAAAAAAAAAAAAAAAAAAAAAAAAAAAAAAAAAAAAAAAAAAAAAAAAAAAAAAAAAAAAAAAAAAAAAAAAAAAAAAAAAAAAAAAAAAAAAAAAAAAAAAAAAAAAAAAAAAAAAAAAAAAAAAAAAAAAAAAAAAAAAAAAAAAAAAAAAAAAAAAAAAAAAAAAAAAAAAAAAAAAAAAAAAAAAAAAAAAAAAAAAAAAAAAAAAAAAAAAAAAAAAAAAAAAAAAAAAAAAAAAAAAAAAAAAAAAAAAAAAAAAAAAAAAAAAAAAAAAAAAAAAAAAAAAAAAAAAAAAAAAAAAAAAAAAAAAAAAAAAAAAAAAAAAAAAAAAAAAAAAAAAAAAAAAAAAAAAAAAAAAAAAAAAAAAAAAAAAAAAAAAAAAAAAAAAAAAAAAAAAAAAAAAAAAAAAAAAAAAAAAAAAAAAAAAAAAAAAAAAAAAAAAAAAAAAAAAAAAAAAAAAAAAAAAAAAAAAAAAAAAAAAAAAAAAAAAAAAAAAAAAAAAAAAAAAAAAAAAAAAAAAAAAAAAAAAAAAAAAAAAAAAAAAAAAAAAAAAAAAAAAAAAAAAAAAAAAAAAAAAAAAAAAAAAAAAAAAAAAAAAAAAAAAAAAAAAAAAAAAAAAAAAAAAAAAAAAAAAAAAAAAAAAAAAAAAAAAAAAAAAAAAAAAAAAAAAAAAAAAAAAAAAAAAAAAAAAAAAAAAAAAAAAAAAAAAAAAAAAAAAAAAAAAAAAAAAAAAAAAAAAAAAAAAAAAAAAAAAAAAAAAAAAAAAAAAAAAAAAAAAAAAAAAAAAAAAAAAAAAAAAAAAAAAAAAAAAAAAAAAAAAAAAAAAAAAAAAAAAAAAAAAAAAAAAAAAAAAAAAAAAAAAAAAAAAAAAAAAAAAAAAAAAAAAAAAAAAAAAAAAAAAAAAAAAAAAAAAAAAAAAAAAAAAAAAAAAAAAAAAAAAAAAAAAAAAAAAAAAAAAAAAAAAAAAAAAAAAAAAAAAAAAAAAAAAAAAAAAAAAAAAAAAAAAAAAAAAAAAAAAAAAAAAAAAAAAAAAAAAAAAAAAAAAAAAAAAAAAAAAAAAAAAAAAAAAAAAAAAAAAAAAAAAAAAAAAAAAAAAAAAAAAAAAAAAAAAAAAAAAAAAAAAAAAAAAAAAAAAAAAAAAAAAAAAAAAAAAAAAAAAAAAAAAAAAAAAAAAAAAAAAAAAAAAAAAAAAAAAAAAAAAAAAAAAAAAAAAAAAAAAAAAAAAAAAAAAAAAAAAAAAAAAAAAAAAAAAAAAAAAAAAAAAAAAAAAAAAAAAAAAAAAAAAAAAAAAAAAAAAAAAAAAAAAAAAAAAAAAAAAAAAAAAAAAAAAAAAAAAAAAAAAAAAAAAAAAAAAAAAAAAAAAAAAAAAAAAAAAAAAAAAAAAAAAAAAAAAAAAAAAAAAAAAAAAAAAAAAAAAAAAAAAAAAAAAAAAAAAAAAAAAAAAAAAAAAAAAAAAAAAAAAAAAAAAAAAAAAAAAAAAAAAAAAAAAAAAAAAAAAAAAAAAAAAAAAAAAAAAAAAAAAAAAAAAAAAAAAAAAAAAAAAAAAAAAAAAAAAAAAAAAAAAAAAAAAAAAAAAAAAAAAAAAAAAAAAAAAAAAAAAAAAAAAAAAAAAAAAAAAAAAAAAAAAAAAAAAAAAAAAAAAAAAAAAAAAAAAAAAAAAAAAAAAAAAAAAAAAAAAAAAAAAAAAAAAAAAAAAAAAAAAAAAAAAAAAAAAAAAAAAAAAAAAAAAAAAAAAAAAAAAAAAAAAAAAAAAAAAAAAAAAAAAAAAAAAAAAAAAAAAAAAAAAAAAAAAAAAAAAAAAAAAAAAAAAAAAAAAAAAAAAAAAAAAAAAAAAAAAAAAAAAAAAAAAAAAAAAAAAAAAAAAAAAAAAAAAAAAAAAAAAAAAAAAAAAAAAAAAAAAAAAAAAAAAAAAAAAAAAAAAAAAAAAAAAAAAAAAAAAAAAAAAAAAAAAAAAAAAAAAAAAAAAAAAAAAAAAAAAAAAAAAAAAAAAAAAAAAAAAAAAAAAAAAAAAAAAAAAAAAAAAAAAAAAAAAAAAAAAAAAAAAAAAAAAAAAAAAAAAAAAAAAAAAAAAAAAAAAAAAAAAAAAAAAAAAAAAAAAAAAAAAAAAAAAAAAAAAAAAAAAAAAAAAAAAAAAAAAAAAAAAAAAAAAAAAAAAAAAAAAAAAAAAAAAAAAAAAAAAAAAAAAAAAAAAAAAAAAAAAAAAAAAAAAAAAAAAAAAAAAAAAAAAAAAAAAAAAAAAAAAAAAAAAAAAAAAAAAAAAAAAAAAAAAAAAAAAAAAAAAAAAAAAAAAAAAAAAAAAAAAAAAAAAAAAAAAAAAAAAAAAAAAAAAAAAAAAAAAAAAAAAAAAAAAAAAAAAAAAAAAAAAAAAAAAAAAAAAAAAAAAAAAAAAAAAAAAAAAAAAAAAAAAAAAAAAAAAAAAAAAAAAAAAAAAAAAAAAAAAAAAAAAAAAAAAAAAAAAAAAAAAAAAAAAAAAAAAAAAAAAAAAAAAAAAAAAAAAAAAAAAAAAAAAAAAAAAAAAAAAAAAAAAAAAAAAAAAAAAAAAAAAAAAAAAAAAAAAAAAAAAAAAAAAAAAAAAAAAAAAAAAAAAAAAAAAAAAAAAAAAAAAAAAAAAAAAAAAAAAAAAAAAAAAAAAAAAAAAAAAAAAAAAAAAAAAAAAAAAAAAAAAAAAAAAAAAAAAAAAAAAAAAAAAAAAAAAAAAAAAAAAAAAAAAAAAAAAAAAAAAAAAAAAAAAAAAAAAAAAAAAAAAAAAAAAAAAAAAAAAAAAAAAAAAAAAAAAAAAAAAAAAAAAAAAAAAAAAAAAAAAAAAAAAAAAAAAAAAAAAAAAAAAAAAAAAAAAAAAAAAAAAAAAAAAAAAAAAAAAAAAAAAAAAAAAAAAAAAAAAAAAAAAAAAAAAAAAAAAAAAAAAAAAAAAAAAAAAAAAAAAAAAAAAAAAAAAAAAAAAAAAAAAAAAAAAAAAAAAAAAAAAAAAAAAAAAAAAAAAAAAAAAAAAAAAAAAAAAAAAAAAAAAAAAAAAAAAAAAAAAAAAAAAAAAAAAAAAAAAAAAAAAAAAAAAAAAAAAAAAAAAAAAAAAAAAAAAAAAAAAAAAAAAAAAAAAAAAAAAAAAAAAAAAAAAAAAAAAAAAAAAAAAAAAAAAAAAAAAAAAAAAAAAAAAAAAAAAAAAAAAAAAAAAAAAAAAAAAAAAAAAAAAAAAAAAAAAAAAAAAAAAAAAAAAAAAAAAAAAAAAAAAAAAAAAAAAAAAAAAAAAAAAAAAAAAAAAAAAAAAAAAAAAAAAAAAAAAAAAAAAAAAAAAAAAAAAAAAAAAAAAAAAAAAAAAAAAAAAAAAAAAAAAAAAAAAAAAAAAAAAAAAAAAAAAAAAAAAAAAAAAAAAAAAAAAAAAAAAAAAAAAAAAAAAAAAAAAAAAAAAAAAAAAAAAAAAAAAAAAAAAAAAAAAAAAAAAAAAAAAAAAAAAAAAAAAAAAAAAAAAAAAAAAAAAAAAAAAAAAAAAAAAAAAAAAAAAAAAAAAAAAAAAAAAAAAAAAAAAAAAAAAAAAAAAAAAAAAAAAAAAAAAAAAAAAAAAAAAAAAAAAAAAAAAAAAAAAAAAAAAAAAAAAAAAAAAAAAAAAAAAAAAAAAAAAAAAAAAAAAAAAAAAAAAAAAAAAAAAAAAAAAAAAAAAAAAAAAAAAAAAAAAAAAAAAAAAAAAAAAAAAAAAAAAAAAAAAAAAAAAAAAAAAAAAAAAAAAAAAAAAAAAAAAAAAAAAAAAAAAAAAAAAAAAAAAAAAAAAAAAAAAAAAAAAAAAAAAAAAAAAAAAAAAAAAAAAAAAAAAAAAAAAAAAAAAAAAAAAAAAAAAAAAAAAAAAAAAAAAAAAAAAAAAAAAAAAAAAAAAAAAAAAAAAAAAAAAAAAAAAAAAAAAAAAAAAAAAAAAAAAAAAAAAAAAAAAAAAAAAAAAAAAAAAAAAAAAAAAAAAAAAAAAAAAAAAAAAAAAAAAAAAAAAAAAAAAAAAAAAAAAAAAAAAAAAAAAAAAAAAAAAAAAAAAAAAAAAAAAAAAAAAAAAAAAAAAAAAAAAAAAAAAAAAAAAAAAAAAAAAAAAAAAAAAAAAAAAAAAAAAAAAAAAAAAAAAAAAAAAAAAAAAAAAAAAAAAAAAAAAAAAAAAAAAAAAAAAAAAAAAAAAAAAAAAAAAAAAAAAAAAAAAAAAAAAAAAAAAAAAAAAAAAAAAAAAAAAAAAAAAAAAAAAAAAAAAAAAAAAAAAAAAAAAAAAAAAAAAAAAAAAAAAAAAAAAAAAAAAAAAAAAAAAAAAAAAAAAAAAAAAAAAAAAAAAAAAAAAAAAAAAAAAAAAAAAAAAAAAAAAAAAAAAAAAAAAAAAAAAAAAAAAAAAAAAAAAAAAAAAAAAAAAAAAAAAAAAAAAAAAAAAAAAAAAAAAAAAAAAAAAAAAAAAAAAAAAAAAAAAAAAAAAAAAAAAAAAAAAAAAAAAAAAAAAAAAAAAAAAAAAAAAAAAAAAAAAAAAAAAAAAAAAAAAAAAAAAAAAAAAAAAAAAAAAAAAAAAAAAAAAAAAAAAAAAAAAAAAAAAAAAAAAAAAAAAAAAAAAAAAAAAAAAAAAAAAAAAAAAAAAAAAAAAAAAAAAAAAAAAAAAAAAAAAAAAAAAAAAAAAAAAAAAAAAAAAAAAAAAAAAAAAAAAAAAAAAAAAAAAAAAAAAAAAAAAAAAAAAAAAAAAAAAAAAAAAAAAAAAAAAAAAAAAAAAAAAAAAAAAAAAAAAAAAAAAAAAAAAAAAAAAAAAAAAAAAAAAAAAAAAAAAAAAAAAAAAAAAAAAAAAAAAAAAAAAAAAAAAAAAAAAAAAAAAAAAAAAAAAAAAAAAAAAAAAAAAAAAAAAAAAAAAAAAAAAAAAAAAAAAAAAAAAAAAAAAAAAAAAAAAAAAAAAAAAAAAAAAAAAAAAAAAAAAAAAAAAAAAAAAAAAAAAAAAAAAAAAAAAAAAAAAAAAAAAAAAAAAAAAAAAAAAAAAAAAAAAAAAAAAAAAAAAAAAAAAAAAAAAAAAAAAAAAAAAAAAAAAAAAAAAAAAAAAAAAAAAAAAAAAAAAAAAAAAAAAAAAAAAAAAAAAAAAAAAAAAAAAAAAAAAAAAAAAAAAAAAAAAAAAAAAAAAAAAAAAAAAAAAAAAAAAAAAAAAAAAAAAAAAAAAAAAAAAAAAAAAAAAAAAAAAAAAAAAAAAAAAAAAAAAAAAAAAAAAAAAAAAAAAAAAAAAAAAAAAAAAAAAAAAAAAAAAAAAAAAAAAAAAAAAAAAAAAAAAAAAAAAAAAAAAAAAAAAAAAAAAAAAAAAAAAAAAAAAAAAAAAAAAAAAAAAAAAAAAAAAAAAAAAAAAAAAAAAAAAAAAAAAAAAAAAAAAAAAAAAAAAAAAAAAAAAAAAAAAAAAAAAAAAAAAAAAAAAAAAAAAAAAAAAAAAAAAAAAAAAAAAAAAAAAAAAAAAAAAAAAAAAAAAAAAAAAAAAAAAAAAAAAAAAAAAAAAAAAAAAAAAAAAAAAAAAAAAAAAAAAAAAAAAAAAAAAAAAAAAAAAAAAAAAAAAAAAAAAAAAAAAAAAAAAAAAAAAAAAAAAAAAAAAAAAAAAAAAAAAAAAAAAAAAAAAAAAAAAAAAAAAAAAAAAAAAAAAAAAAAAAAAAAAAAAAAAAAAAAAAAAAAAAAAAAAAAAAAAAAAAAAAAAAAAAAAAAAAAAAAAAAAAAAAAAAAAAAAAAAAAAAAAAAAAAAAAAAAAAAAAAAAAAAAAAAAAAAAAAAAAAAAAAAAAAAAAAAAAAAAAAAAAAAAAAAAAAAAAAAAAAAAAAAAAAAAAAAAAAAAAAAAAAAAAAAAAAAAAAAAAAAAAAAAAAAAAAAAAAAAAAAAAAAAAAAAAAAAAAAAAAAAAAAAAAAAAAAAAAAAAAAAAAAAAAAAAAAAAAAAAAAAAAAAAAAAAAAAAAAAAAAAAAAAAAAAAAAAAAAAAAAAAAAAAAAAAAAAAAAAAAAAAAAAAAAAAAAAAAAAAAAAAAAAAAAAAAAAAAAAAAAAAAAAAAAAAAAAAAAAAAAAAAAAAAAAAAAAAAAAAAAAAAAAAAAAAAAAAAAAAAAAAAAAAAAAAAAAAAAAAAAAAAAAAAAAAAAAAAAAAAAAAAAAAAAAAAAAAAAAAAAAAAAAAAAAAAAAAAAAAAAAAAAAAAAAAAAAAAAAAAAAAAAAAAAAAAAAAAAAAAAAAAAAAAAAAAAAAAAAAAAAAAAAAAAAAAAAAAAAAAAAAAAAAAAAAAAAAAAAAAAAAAAAAAAAAAAAAAAAAAAAAAAAAAAAAAAAAAAAAAAAAAAAAAAAAAAAAAAAAAAAAAAAAAAAAAAAAAAAAAAAAAAAAAAAAAAAAAAAAAAAAAAAAAAAAAAAAAAAAAAAAAAAAAAAAAAAAAAAAAAAAAAAAAAAAAAAAAAAAAAAAAAAAAAAAAAAAAAAAAAAAAAAAAAAAAAAAAAAAAAAAAAAAAAAAAAAAAAAAAAAAAAAAAAAAAAAAAAAAAAAAAAAAAAAAAAAAAAAAAAAAAAAAAAAAAAAAAAAAAAAAAAAAAAAAAAAAAAAAAAAAAAAAAAAAAAAAAAAAAAAAAAAAAAAAAAAAAAAAAAAAAAAAAAAAAAAAAAAAAAAAAAAAAAAAAAAAAAAAAAAAAAAAAAAAAAAAAAAAAAAAAAAAAAAAAAAAAAAAAAAAAAAAAAAAAAAAAAAAAAAAAAAAAAAAAAAAAAAAAAAAAAAAAAAAAAAAAAAAAAAAAAAAAAAAAAAAAAAAAAAAAAAAAAAAAAAAAAAAAAAAAAAAAAAAAAAAAAAAAAAAAAAAAAAAAAAAAAAAAAAAAAAAAAAAAAAAAAAAAAAAAAAAAAAAAAAAAAAAAAAAAAAAAAAAAAAAAAAAAAAAAAAAAAAAAAAAAAAAAAAAAAAAAAAAAAAAAAAAAAAAAAAAAAAAAAAAAAAAAAAAAAAAAAAAAAAAAAAAAAAAAAAAAAAAAAAAAAAAAAAAAAAAAAAAAAAAAAAAAAAAAAAAAAAAAAAAAAAAAAAAAAAAAAAAAAAAAAAAAAAAAAAAAAAAAAAAAAAAAAAAAAAAAAAAAAAAAAAAAAAAAAAAAAAAAAAAAAAAAAAAAAAAAAAAAAAAAAAAAAAAAAAAAAAAAAAAAAAAAAAAAAAAAAAAAAAAAAAAAAAAAAAAAAAAAAAAAAAAAAAAAAAAAAAAAAAAAAAAAAAAAAAAAAAAAAAAAAAAAAAAAAAAAAAAAAAAAAAAAAAAAAAAAAAAAAAAAAAAAAAAAAAAAAAAAAAAAAAAAAAAAAAAAAAAAAAAAAAAAAAAAAAAAAAAAAAAAAAAAAAAAAAAAAAAAAAAAAAAAAAAAAAAAAAAAAAAAAAAAAAAAAAAAAAAAAAAAAAAAAAAAAAAAAAAAAAAAAAAAAAAAAAAAAAAAAAAAAAAAAAAAAAAAAAAAAAAAAAAAAAAAAAAAAAAAAAAAAAAAAAAAAAAAAAAAAAAAAAAAAAAAAAAAAAAAAAAAAAAAAAAAAAAAAAAAAAAAAAAAAAAAAAAAAAAAAAAAAAAAAAAAAAAAAAAAAAAAAAAAAAAAAAAAAAAAAAAAAAAAAAAAAAAAAAAAAAAAAAAAAAAAAAAAAAAAAAAAAAAAAAAAAAAAAAAAAAAAAAAAAAAAAAAAAAAAAAAAAAAAAAAAAAAAAAAAAAAAAAAAAAAAAAAAAAAAAAAAAAAAAAAAAAAAAAAAAAAAAAAAAAAAAAAAAAAAAAAAAAAAAAAAAAAAAAAAAAAAAAAAAAAAAAAAAAAAAAAAAAAAAAAAAAAAAAAAAAAAAAAAAAAAAAAAAAAAAAAAAAAAAAAAAAAAAAAAAAAAAAAAAAAAAAAAAAAAAAAAAAAAAAAAAAAAAAAAAAAAAAAAAAAAAAAAAAAAAAAAAAAAAAAAAAAAAAAAAAAAAAAAAAAAAAAAAAAAAAAAAAAAAAAAAAAAAAAAAAAAAAAAAAAAAAAAAAAAAAAAAAAAAAAAAAAAAAAAAAAAAAAAAAAAAAAAAAAAAAAAAAAAAAAAAAAAAAAAAAAAAAAAAAAAAAAAAAAAAAAAAAAAAAAAAAAAAAAAAAAAAAAAAAAAAAAAAAAAAAAAAAAAAAAAAAAAAAAAAAAAAAAAAAAAAAAAAAAAAAAAAAAAAAAAAAAAAAAAAAAAAAAAAAAAAAAAAAAAAAAAAAAAAAAAAAAAAAAAAAAAAAAAAAAAAAAAAAAAAAAAAAAAAAAAAAAAAAAAAAAAAAAAAAAAAAAAAAAAAAAAAAAAAAAAAAAAAAAAAAAAAAAAAAAAAAAAAAAAAAAAAAAAAAAAAAAAAAAAAAAAAAAAAAAAAAAAAAAAAAAAAAAAAAAAAAAAAAAAAAAAAAAAAAAAAAAAAAAAAAAAAAAAAAAAAAAAAAAAAAAAAAAAAAAAAAAAAAAAAAAAAAAAAAAAAAAAAAAAAAAAAAAAAAAAAAAAAAAAAAAAAAAAAAAAAAAAAAAAAAAAAAAAAAAAAAAAAAAAAAAAAAAAAAAAAAAAAAAAAAAAAAAAAAAAAAAAAAAAAAAAAAAAAAAAAAAAAAAAAAAAAAAAAAAAAAAAAAAAAAAAAAAAAAAAAAAAAAAAAAAAAAAAAAAAAAAAAAAAAAAAAAAAAAAAAAAAAAAAAAAAAAAAAAAAAAAAAAAAAAAAAAAAAAAAAAAAAAAAAAAAAAAAAAAAAAAAAAAAAAAAAAAAAAAAAAAAAAAAAAAAAAAAAAAAAAAAAAAAAAAAAAAAAAAAAAAAAAAAAAAAAAAAAAAAAAAAAAAAAAAAAAAAAAAAAAAAAAAAAAAAAAAAAAAAAAAAAAAAAAAAAAAAAAAAAAAAAAAAAAAAAAAAAAAAAAAAAAAAAAAAAAAAAAAAAAAAAAAAAAAAAAAAAAAAAAAAAAAAAAAAAAAAAAAAAAAAAAAAAAAAAAAAAAAAAAAAAAAAAAAAAAAAAAAAAAAAAAAAAAAAAAAAAAAAAAAAAAAAAAAAAAAAAAAAAAAAAAAAAAAAAAAAAAAAAAAAAAAAAAAAAAAAAAAAAAAAAAAAAAAAAAAAAAAAAAAAAAAAAAAAAAAAAAAAAAAAAAAAAAAAAAAAAAAAAAAAAAAAAAAAAAAAAAAAAAAAAAAAAAAAAAAAAAAAAAAAAAAAAAAAAAAAAAAAAAAAAAAAAAAAAAAAAAAAAAAAAAAAAAAAAAAAAAAAAAAAAAAAAAAAAAAAAAAAAAAAAAAAAAAAAAAAAAAAAAAAAAAAAAAAAAAAAAAAAAAAAAAAAAAAAAAAAAAAAAAAAAAAAAAAAAAAAAAAAAAAAAAAAAAAAAAAAAAAAAAAAAAAAAAAAAAAAAAAAAAAAAAAAAAAAAAAAAAAAAAAAAAAAAAAAAAAAAAAAAAAAAAAAAAAAAAAAAAAAAAAAAAAAAAAAAAAAAAAAAAAAAAAAAAAAAAAAAAAAAAAAAAAAAAAAAAAAAAAAAAAAAAAAAAAAAAAAAAAAAAAAAAAAAAAAAAAAAAAAAAAAAAAAAAAAAAAAAAAAAAAAAAAAAAAAAAAAAAAAAAAAAAAAAAAAAAAAAAAAAAAAAAAAAAAAAAAAAAAAAAAAAAAAAAAAAAAAAAAAAAAAAAAAAAAAAAAAAAAAAAAAAAAAAAAAAAAAAAAAAAAAAAAAAAAAAAAAAAAAAAAAAAAAAAAAAAAAAAAAAAAAAAAAAAAAAAAAAAAAAAAAAAAAAAAAAAAAAAAAAAAAAAAAAAAAAAAAAAAAAAAAAAAAAAAAAAAAAAAAAAAAAAAAAAAAAAAAAAAAAAAAAAAAAAAAAAAAAAAAAAAAAAAAAAAAAAAAAAAAAAAAAAAAAAAAAAAAAAAAAAAAAAAAAAAAAAAAAAAAAAAAAAAAAAAAAAAAAAAAAAAAAAAAAAAAAAAAAAAAAAAAAAAAAAAAAAAAAAAAAAAAAAAAAAAAAAAAAAAAAAAAAAAAAAAAAAAAAAAAAAAAAAAAAAAAAAAAAAAAAAAAAAAAAAAAAAAAAAAAAAAAAAAAAAAAAAAAAAAAAAAAAAAAAAAAAAAAAAAAAAAAAAAAAAAAAAAAAAAAAAAAAAAAAAAAAAAAAAAAAAAAAAAAAAAAAAAAAAAAAAAAAAAAAAAAAAAAAAAAAAAAAAAAAAAAAAAAAAAAAAAAAAAAAAAAAAAAAAAAAAAAAAAAAAAAAAAAAAAAAAAAAAAAAAAAAAAAAAAAAAAAAAAAAAAAAAAAAAAAAAAAAAAAAAAAAAAAAAAAAAAAAAAAAAAAAAAAAAAAAAAAAAAAAAAAAAAAAAAAAAAAAAAAAAAAAAAAAAAAAAAAAAAAAAAAAAAAAAAAAAAAAAAAAAAAAAAAAAAAAAAAAAAAAAAAAAAAAAAAAAAAAAAAAAAAAAAAAAAAAAAAAAAAAAAAAAAAAAAAAAAAAAAAAAAAAAAAAAAAAAAAAAAAAAAAAAAAAAAAAAAAAAAAAAAAAAAAAAAAAAAAAAAAAAAAAAAAAAAAAAAAAAAAAAAAAAAAAAAAAAAAAAAAAAAAAAAAAAAAAAAAAAAAAAAAAAAAAAAAAAAAAAAAAAAAAAAAAAAAAAAAAAAAAAAAAAAAAAAAAAAAAAAAAAAAAAAAAAAAAAAAAAAAAAAAAAAAAAAAAAAAAAAAAAAAAAAAAAAAAAAAAAAAAAAAAAAAAAAAAAAAAAAAAAAAAAAAAAAAAAAAAAAAAAAAAAAAAAAAAAAAAAAAAAAAAAAAAAAAAAAAAAAAAAAAAAAAAAAAAAAAAAAAAAAAAAAAAAAAAAAAAAAAAAAAAAAAAAAAAAAAAAAAAAAAAAAAAAAAAAAAAAAAAAAAAAAAAAAAAAAAAAAAAAAAAAAAAAAAAAAAAAAAAAAAAAAAAAAAAAAAAAAAAAAAAAAAAAAAAAAAAAAAAAAAAAAAAAAAAAAAAAAAAAAAAAAAAAAAAAAAAAAAAAAAAAAAAAAAAAAAAAAAAAAAAAAAAAAAAAAAAAAAAAAAAAAAAAAAAAAAAAAAAAAAAAAAAAAAAAAAAAAAAAAAAAAAAAAAAAAAAAAAAAAAAAAAAAAAAAAAAAAAAAAAAAAAAAAAAAAAAAAAAAAAAAAAAAAAAAAAAAAAAAAAAAAAAAAAAAAAAAAAAAAAAAAAAAAAAAAAAAAAAAAAAAAAAAAAAAAAAAAAAAAAAAAAAAAAAAAAAAAAAAAAAAAAAAAAAAAAAAAAAAAAAAAAAAAAAAAAAAAAAAAAAAAAAAAAAAAAAAAAAAAAAAAAAAAAAAAAAAAAAAAAAAAAAAAAAAAAAAAAAAAAAAAAAAAAAAAAAAAAAAAAAAAAAAAAAAAAAAAAAAAAAAAAAAAAAAAAAAAAAAAAAAAAAAAAAAAAAAAAAAAAAAAAAAAAAAAAAAAAAAAAAAAAAAAAAAAAAAAAAAAAAAAAAAAAAAAAAAAAAAAAAAAAAAAAAAAAAAAAAAAAAAAAAAAAAAAAAAAAAAAAAAAAAAAAAAAAAAAAAAAAAAAAAAAAAAAAAAAAAAAAAAAAAAAAAAAAAAAAAAAAAAAAAAAAAAAAAAAAAAAAAAAAAAAAAAAAAAAAAAAAAAAAAAAAAAAAAAAAAAAAAAAAAAAAAAAAAAAAAAAAAAAAAAAAAAAAAAAAAAAAAAAAAAAAAAAAAAAAAAAAAAAAAAAAAAAAAAAAAAAAAAAAAAAAAAAAAAAAAAAAAAAAAAAAAAAAAAAAAAAAAAAAAAAAAAAAAAAAAAAAAAAAAAAAAAAAAAAAAAAAAAAAAAAAAAAAAAAAAAAAAAAAAAAAAAAAAAAAAAAAAAAAAAAAAAAAAAAAAAAAAAAAAAAAAAAAAAAAAAAAAAAAAAAAAAAAAAAAAAAAAAAAAAAAAAAAAAAAAAAAAAAAAAAAAAAAAAAAAAAAAAAAAAAAAAAAAAAAAAAAAAAAAAAAAAAAAAAAAAAAAAAAAAAAAAAAAAAAAAAAAAAAAAAAAAAAAAAAAAAAAAAAAAAAAAAAAAAAAAAAAAAAAAAAAAAAAAAAAAAAAAAAAAAAAAAAAAAAAAAAAAAAAAAAAAAAAAAAAAAAAAAAAAAAAAAAAAAAAAAAAAAAAAAAAAAAAAAAAAAAAAAAAAAAAAAAAAAAAAAAAAAAAAAAAAAAAAAAAAAAAAAAAAAAAAAAAAAAAAAAAAAAAAAAAAAAAAAAAAAAAAAAAAAAAAAAAAAAAAAAAAAAAAAAAAAAAAAAAAAAAAAAAAAAAAAAAAAAAAAAAAAAAAAAAAAAAAAAAAAAAAAAAAAAAAAAAAAAAAAAAAAAAAAAAAAAAAAAAAAAAAAAAAAAAAAAAAAAAAAAAAAAAAAAAAAAAAAAAAAAAAAAAAAAAAAAAAAAAAAAAAAAAAAAAAAAAAAAAAAAAAAAAAAAAAAAAAAAAAAAAAAAAAAAAAAAAAAAAAAAAAAAAAAAAAAAAAAAAAAAAAAAAAAAAAAAAAAAAAAAAAAAAAAAAAAAAAAAAAAAAAAAAAAAAAAAAAAAAAAAAAAAAAAAAAAAAAAAAAAAAAAAAAAAAAAAAAAAAAAAAAAAAAAAAAAAAAAAAAAAAAAAAAAAAAAAAAAAAAAAAAAAAAAAAAAAAAAAAAAAAAAAAAAAAAAAAAAAAAAAAAAAAAAAAAAAAAAAAAAAAAAAAAAAAAAAAAAAAAAAAAAAAAAAAAAAAAAAAAAAAAAAAAAAAAAAAAAAAAAAAAAAAAAAAAAAAAAAAAAAAAAAAAAAAAAAAAAAAAAAAAAAAAAAAAAAAAAAAAAAAAAAAAAAAAAAAAAAAAAAAAAAAAAAAAAAAAAAAAAAAAAAAAAAAAAAAAAAAAAAAAAAAAAAAAAAAAAAAAAAAAAAAAAAAAAAAAAAAAAAAAAAAAAAAAAAAAAAAAAAAAAAAAAAAAAAAAAAAAAAAAAAAAAAAAAAAAAAAAAAAAAAAAAAAAAAAAAAAAAAAAAAAAAAAAAAAAAAAAAAAAAAAAAAAAAAAAAAAAAAAAAAAAAAAAAAAAAAAAAAAAAAAAAAAAAAAAAAAAAAAAAAAAAAAAAAAAAAAAAAAAAAAAAAAAAAAAAAAAAAAAAAAAAAAAAAAAAAAAAAAAAAAAAAAAAAAAAAAAAAAAAAAAAAAAAAAAAAAAAAAAAAAAAAAAAAAAAAAAAAAAAAAAAAAAAAAAAAAAAAAAAAAAAAAAAAAAAAAAAAAAAAAAAAAAAAAAAAAAAAAAAAAAAAAAAAAAAAAAAAAAAAAAAAAAAAAAAAAAAAAAAAAAAAAAAAAAAAAAAAAAAAAAAAAAAAAAAAAAAAAAAAAAAAAAAAAAAAAAAAAAAAAAAAAAAAAAAAAAAAAAAAAAAAAAAAAAAAAAAAAAAAAAAAAAAAAAAAAAAAAAAAAAAAAAAAAAAAAAAAAAAAAAAAAAAAAAAAAAAAAAAAAAAAAAAAAAAAAAAAAAAAAAAAAAAAAAAAAAAAAAAAAAAAAAAAAAAAAAAAAAAAAAAAAAAAAAAAAAAAAAAAAAAAAAAAAAAAAAAAAAAAAAAAAAAAAAAAAAAAAAAAAAAAAAAAAAAAAAAAAAAAAAAAAAAAAAAAAAAAAAAAAAAAAAAAAAAAAAAAAAAAAAAAAAAAAAAAAAAAAAAAAAAAAAAAAAAAAAAAAAAAAAAAAAAAAAAAAAAAAAAAAAAAAAAAAAAAAAAAAAAAAAAAAAAAAAAAAAAAAAAAAAAAAAAAAAAAAAAAAAAAAAAAAAAAAAAAAAAAAAAAAAAAAAAAAAAAAAAAAAAAAAAAAAAAAAAAAAAAAAAAAAAAAAAAAAAAAAAAAAAAAAAAAAAAAAAAAAAAAAAAAAAAAAAAAAAAAAAAAAAAAAAAAAAAAAAAAAAAAAAAAAAAAAAAAAAAAAAAAAAAAAAAAAAAAAAAAAAAAAAAAAAAAAAAAAAAAAAAAAAAAAAAAAAAAAAAAAAAAAAAAAAAAAAAAAAAAAAAAAAAAAAAAAAAAAAAAAAAAAAAAAAAAAAAAAAAAAAAAAAAAAAAAAAAAAAAAAAAAAAAAAAAAAAAAAAAAAAAAAAAAAAAAAAAAAAAAAAAAAAAAAAAAAAAAAAAAAAAAAAAAAAAAAAAAAAAAAAAAAAAAAAAAAAAAAAAAAAAAAAAAAAAAAAAAAAAAAAAAAAAAAAAAAAAAAAAAAAAAAAAAAAAAAAAAAAAAAAAAAAAAAAAAAAAAAAAAAAAAAAAAAAAAAAAAAAAAAAAAAAAAAAAAAAAAAAAAAAAAAAAAAAAAAAAAAAAAAAAAAAAAAAAAAAAAAAAAAAAAAAAAAAAAAAAAAAAAAAAAAAAAAAAAAAAAAAAAAAAAAAAAAAAAAAAAAAAAAAAAAAAAAAAAAAAAAAAAAAAAAAAAAAAAAAAAAAAAAAAAAAAAAAAAAAAAAAAAAAAAAAAAAAAAAAAAAAAAAAAAAAAAAAAAAAAAAAAAAAAAAAAAAAAAAAAAAAAAAAAAAAAAAAAAAAAAAAAAAAAAAAAAAAAAAAAAAAAAAAAAAAAAAAAAAAAAAAAAAAAAAAAAAAAAAAAAAAAAAAAAAAAAAAAAAAAAAAAAAAAAAAAAAAAAAAAAAAAAAAAAAAAAAAAAAAAAAAAAAAAAAAAAAAAAAAAAAAAAAAAAAAAAAAAAAAAAAAAAAAAAAAAAAAAAAAAAAAAAAAAAAAAAAAAAAAAAAAAAAAAAAAAAAAAAAAAAAAAAAAAAAAAAAAAAAAAAAAAAAAAAAAAAAAAAAAAAAAAAAAAAAAAAAAAAAAAAAAAAAAAAAAAAAAAAAAAAAAAAAAAAAAAAAAAAAAAAAAAAAAAAAAAAAAAAAAAAAAAAAAAAAAAAAAAAAAAAAAAAAAAAAAAAAAAAAAAAAAAAAAAAAAAAAAAAAAAAAAAAAAAAAAAAAAAAAAAAAAAAAAAAAAAAAAAAAAAAAAAAAAAAAAAAAAAAAAAAAAAAAAAAAAAAAAAAAAAAAAAAAAAAAAAAAAAAAAAAAAAAAAAAAAAAAAAAAAAAAAAAAAAAAAAAAAAAAAAAAAAAAAAAAAAAAAAAAAAAAAAAAAAAAAAAAAAAAAAAAAAAAAAAAAAAAAAAAAAAAAAAAAAAAAAAAAAAAAAAAAAAAAAAAAAAAAAAAAAAAAAAAAAAAAAAAAAAAAAAAAAAAAAAAAAAAAAAAAAAAAAAAAAAAAAAAAAAAAAAAAAAAAAAAAAAAAAAAAAAAAAAAAAAAAAAAAAAAAAAAAAAAAAAAAAAAAAAAAAAAAAAAAAAAAAAAAAAAAAAAAAAAAAAAAAAAAAAAAAAAAAAAAAAAAAAAAAAAAAAAAAAAAAAAAAAAAAAAAAAAAAAAAAAAAAAAAAAAAAAAAAAAAAAAAAAAAAAAAAAAAAAAAAAAAAAAAAAAAAAAAAAAAAAAAAAAAAAAAAAAAAAAAAAAAAAAAAAAAAAAAAAAAAAAAAAAAAAAAAAAAAAAAAAAAAAAAAAAAAAAAAAAAAAAAAAAAAAAAAAAAAAAAAAAAAAAAAAAAAAAAAAAAAAAAAAAAAAAAAAAAAAAAAAAAAAAAAAAAAAAAAAAAAAAAAAAAAAAAAAAAAAAAAAAAAAAAAAAAAAAAAAAAAAAAAAAAAAAAAAAAAAAAAAAAAAAAAAAAAAAAAAAAAAAAAAAAAAAAAAAAAAAAAAAAAAAAAAAAAAAAAAAAAAAAAAAAAAAAAAAAAAAAAAAAAAAAAAAAAAAAAAAAAAAAAAAAAAAAAAAAAAAAAAAAAAAAAAAAAAAAAAAAAAAAAAAAAAAAAAAAAAAAAAAAAAAAAAAAAAAAAAAAAAAAAAAAAAAAAAAAAAAAAAAAAAAAAAAAAAAAAAAAAAAAAAAAAAAAAAAAAAAAAAAAAAAAAAAAAAAAAAAAAAAAAAAAAAAAAAAAAAAAAAAAAAAAAAAAAAAAAAAAAAAAAAAAAAAAAAAAAAAAAAAAAAAAAAAAAAAAAAAAAAAAAAAAAAAAAAAAAAAAAAAAAAAAAAAAAAAAAAAAAAAAAAAAAAAAAAAAAAAAAAAAAAAAAAAAAAAAAAAAAAAAAAAAAAAAAAAAAAAAAAAAAAAAAAAAAAAAAAAAAAAAAAAAAAAAAAAAAAAAAAAAAAAAAAAAAAAAAAAAAAAAAAAAAAAAAAAAAAAAAAAAAAAAAAAAAAAAAAAAAAAAAAAAAAAAAAAAAAAAAAAAAAAAAAAAAAAAAAAAAAAAAAAAAAAAAAAAAAAAAAAAAAAAAAAAAAAAAAAAAAAAAAAAAAAAAAAAAAAAAAAAAAAAAAAAAAAAAAAAAAAAAAAAAAAAAAAAAAAAAAAAAAAAAAAAAAAAAAAAAAAAAAAAAAAAAAAAAAAAAAAAAAAAAAAAAAAAAAAAAAAAAAAAAAAAAAAAAAAAAAAAAAAAAAAAAAAAAAAAAAAAAAAAAAAAAAAAAAAAAAAAAAAAAAAAAAAAAAAAAAAAAAAAAAAAAAAAAAAAAAAAAAAAAAAAAAAAAAAAAAAAAAAAAAAAAAAAAAAAAAAAAAAAAAAAAAAAAAAAAAAAAAAAAAAAAAAAAAAAAAAAAAAAAAAAAAAAAAAAAAAAAAAAAAAAAAAAAAAAAAAAAAAAAAAAAAAAAAAAAAAAAAAAAAAAAAAAAAAAAAAAAAAAAAAAAAAAAAAAAAAAAAAAAAAAAAAAAAAAAAAAAAAAAAAAAAAAAAAAAAAAAAAAAAAAAAAAAAAAAAAAAAAAAAAAAAAAAAAAAAAAAAAAAAAAAAAAAAAAAAAAAAAAAAAAAAAAAAAAAAAAAAAAAAAAAAAAAAAAAAAAAAAAAAAAAAAAAAAAAAAAAAAAAAAAAAAAAAAAAAAAAAAAAAAAAAAAAAAAAAAAAAAAAAAAAAAAAAAAAAAAAAAAAAAAAAAAAAAAAAAAAAAAAAAAAAAAAAAAAAAAAAAAAAAAAAAAAAAAAAAAAAAAAAAAAAAAAAAAAAAAAAAAAAAAAAAAAAAAAAAAAAAAAAAAAAAAAAAAAAAAAAAAAAAAAAAAAAAAAAAAAAAAAAAAAAAAAAAAAAAAAAAAAAAAAAAAAAAAAAAAAAAAAAAAAAAAAAAAAAAAAAAAAAAAAAAAAAAAAAAAAAAAAAAAAAAAAAAAAAAAAAAAAAAAAAAAAAAAAAAAAAAAAAAAAAAAAAAAAAAAAAAAAAAAAAAAAAAAAAAAAAAAAAAAAAAAAAAAAAAAAAAAAAAAAAAAAAAAAAAAAAAAAAAAAAAAAAAAAAAAAAAAAAAAAAAAAAAAAAAAAAAAAAAAAAAAAAAAAAAAAAAAAAAAAAAAAAAAAAAAAAAAAAAAAAAAAAAAAAAAAAAAAAAAAAAAAAAAAAAAAAAAAAAAAAAAAAAAAAAAAAAAAAAAAAAAAAAAAAAAAAAAAAAAAAAAAAAAAAAAAAAAAAAAAAAAAAAAAAAAAAAAAAAAAAAAAAAAAAAAAAAAAAAAAAAAAAAAAAAAAAAAAAAAAAAAAAAAAAAAAAAAAAAAAAAAAAAAAAAAAAAAAAAAAAAAAAAAAAAAAAAAAAAAAAAAAAAAAAAAAAAAAAAAAAAAAAAAAAAAAAAAAAAAAAAAAAAAAAAAAAAAAAAAAAAAAAAAAAAAAAAAAAAAAAAAAAAAAAAAAAAAAAAAAAAAAAAAAAAAAAAAAAAAAAAAAAAAAAAAAAAAAAAAAAAAAAAAAAAAAAAAAAAAAAAAAAAAAAAAAAAAAAAAAAAAAAAAAAAAAAAAAAAAAAAAAAAAAAAAAAAAAAAAAAAAAAAAAAAAAAAAAAAAAAAAAAAAAAAAAAAAAAAAAAAAAAAAAAAAAAAAAAAAAAAAAAAAAAAAAAAAAAAAAAAAAAAAAAAAAAAAAAAAAAAAAAAAAAAAAAAAAAAAAAAAAAAAAAAAAAAAAAAAAAAAAAAAAAAAAAAAAAAAAAAAAAAAAAAAAAAAAAAAAAAAAAAAAAAAAAAAAAAAAAAAAAAAAAAAAAAAAAAAAAAAAAAAAAAAAAAAAAAAAAAAAAAAAAAAAAAAAAAAAAAAAAAAAAAAAAAAAAAAAAAAAAAAAAAAAAAAAAAAAAAAAAAAAAAAAAAAAAAAAAAAAAAAAAAAAAAAAAAAAAAAAAAAAAAAAAAAAAAAAAAAAAAAAAAAAAAAAAAAAAAAAAAAAAAAAAAAAAAAAAAAAAAAAAAAAAAAAAAAAAAAAAAAAAAAAAAAAAAAAAAAAAAAAAAAAAAAAAAAAAAAAAAAAAAAAAAAAAAAAAAAAAAAAAAAAAAAAAAAAAAAAAAAAAAAAAAAAAAAAAAAAAAAAAAAAAAAAAAAAAAAAAAAAAAAAAAAAAAAAAAAAAAAAAAAAAAAAAAAAAAAAAAAAAAAAAAAAAAAAAAAAAAAAAAAAAAAAAAAAAAAAAAAAAAAAAAAAAAAAAAAAAAAAAAAAAAAAAAAAAAAAAAAAAAAAAAAAAAAAAAAAAAAAAAAAAAAAAAAAAAAAAAAAAAAAAAAAAAAAAAAAAAAAAAAAAAAAAAAAAAAAAAAAAAAAAAAAAAAAAAAAAAAAAAAAAAAAAAAAAAAAAAAAAAAAAAAAAAAAAAAAAAAAAAAAAAAAAAAAAAAAAAAAAAAAAAAAAAAAAAAAAAAAAAAAAAAAAAAAAAAAAAAAAAAAAAAAAAAAAAAAAAAAAAAAAAAAAAAAAAAAAAAAAAAAAAAAAAAAAAAAAAAAAAAAAAAAAAAAAAAAAAAAAAAAAAAAAAAAAAAAAAAAAAAAAAAAAAAAAAAAAAAAAAAAAAAAAAAAAAAAAAAAAAAAAAAAAAAAAAAAAAAAAAAAAAAAAAAAAAAAAAAAAAAAAAAAAAAAAAAAAAAAAAAAAAAAAAAAAAAAAAAAAAAAAAAAAAAAAAAAAAAAAAAAAAAAAAAAAAAAAAAAAAAAAAAAAAAAAAAAAAAAAAAAAAAAAAAAAAAAAAAAAAAAAAAAAAAAAAAAAAAAAAAAAAAAAAAAAAAAAAAAAAAAAAAAAAAAAAAAAAAAAAAAAAAAAAAAAAAAAAAAAAAAAAAAAAAAAAAAAAAAAAAAAAAAAAAAAAAAAAAAAAAAAAAAAAAAAAAAAAAAAAAAAAAAAAAAAAAAAAAAAAAAAAAAAAAAAAAAAAAAAAAAAAAAAAAAAAAAAAAAAAAAAAAAAAAAAAAAAAAAAAAAAAAAAAAAAAAAAAAAAAAAAAAAAAAAAAAAAAAAAAAAAAAAAAAAAAAAAAAAAAAAAAAAAAAAAAAAAAAAAAAAAAAAAAAAAAAAAAAAAAAAAAAAAAAAAAAAAAAAAAAAAAAAAAAAAAAAAAAAAAAAAAAAAAAAAAAAAAAAAAAAAAAAAAAAAAAAAAAAAAAAAAAAAAAAAAAAAAAAAAAAAAAAAAAAAAAAAAAAAAAAAAAAAAAAAAAAAAAAAAAAAAAAAAAAAAAAAAAAAAAAAAAAAAAAAAAAAAAAAAAAAAAAAAAAAAAAAAAAAAAAAAAAAAAAAAAAAAAAAAAAAAAAAAAAAAAAAAAAAAAAAAAAAAAAAAAAAAAAAAAAAAAAAAAAAAAAAAAAAAAAAAAAAAAAAAAAAAAAAAAAAAAAAAAAAAAAAAAAAAAAAAAAAAAAAAAAAAAAAAAAAAAAAAAAAAAAAAAAAAAAAAAAAAAAAAAAAAAAAAAAAAAAAAAAAAAAAAAAAAAAAAAAAAAAAAAAAAAAAAAAAAAAAAAAAAAAAAAAAAAAAAAAAAAAAAAAAAAAAAAAAAAAAAAAAAAAAAAAAAAAAAAAAAAAAAAAAAAAAAAAAAAAAAAAAAAAAAAAAAAAAAAAAAAAAAAAAAAAAAAAAAAAAAAAAAAAAAAAAAAAAAAAAAAAAAAAAAAAAAAAAAAAAAAAAAAAAAAAAAAAAAAAAAAAAAAAAAAAAAAAAAAAAAAAAAAAAAAAAAAAAAAAAAAAAAAAAAAAAAAAAAAAAAAAAAAAAAAAAAAAAAAAAAAAAAAAAAAAAAAAAAAAAAAAAAAAAAAAAAAAAAAAAAAAAAAAAAAAAAAAAAAAAAAAAAAAAAAAAAAAAAAAAAAAAAAAAAAAAAAAAAAAAAAAAAAAAAAAAAAAAAAAAAAAAAAAAAAAAAAAAAAAAAAAAAAAAAAAAAAAAAAAAAAAAAAAAAAAAAAAAAAAAAAAAAAAAAAAAAAAAAAAAAAAAAAAAAAAAAAAAAAAAAAAAAAAAAAAAAAAAAAAAAAAAAAAAAAAAAAAAAAAAAAAAAAAAAAAAAAAAAAAAAAAAAAAAAAAAAAAAAAAAAAAAAAAAAAAAAAAAAAAAAAAAAAAAAAAAAAAAAAAAAAAAAAAAAAAAAAAAAAAAAAAAAAAAAAAAAAAAAAAAAAAAAAAAAAAAAAAAAAAAAAAAAAAAAAAAAAAAAAAAAAAAAAAAAAAAAAAAAAAAAAAAAAAAAAAAAAAAAAAAAAAAAAAAAAAAAAAAAAAAAAAAAAAAAAAAAAAAAAAAAAAAAAAAAAAAAAAAAAAAAAAAAAAAAAAAAAAAAAAAAAAAAAAAAAAAAAAAAAAAAAAAAAAAAAAAAAAAAAAAAAAAAAAAAAAAAAAAAAAAAAAAAAAAAAAAAAAAAAAAAAAAAAAAAAAAAAAAAAAAAAAAAAAAAAAAAAAAAAAAAAAAAAAAAAAAAAAAAAAAAAAAAAAAAAAAAAAAAAAAAAAAAAAAAAAAAAAAAAAAAAAAAAAAAAAAAAAAAAAAAAAAAAAAAAAAAAAAAAAAAAAAAAAAAAAAAAAAAAAAAAAAAAAAAAAAAAAAAAAAAAAAAAAAAAAAAAAAAAAAAAAAAAAAAAAAAAAAAAAAAAAAAAAAAAAAAAAAAAAAAAAAAAAAAAAAAAAAAAAAAAAAAAAAAAAAAAAAAAAAAAAAAAAAAAAAAAAAAAAAAAAAAAAAAAAAAAAAAAAAAAAAAAAAAAAAAAAAAAAAAAAAAAAAAAAAAAAAAAAAAAAAAAAAAAAAAAAAAAAAAAAAAAAAAAAAAAAAAAAAAAAAAAAAAAAAAAAAAAAAAAAAAAAAAAAAAAAAAAAAAAAAAAAAAAAAAAAAAAAAAAAAAAAAAAAAAAAAAAAAAAAAAAAAAAAAAAAAAAAAAAAAAAAAAAAAAAAAAAAAAAAAAAAAAAAAAAAAAAAAAAAAAAAAAAAAAAAAAAAAAAAAAAAAAAAAAAAAAAAAAAAAAAAAAAAA\" type=\"audio/wav\" />\n",
       "                    Your browser does not support the audio element.\n",
       "                </audio>\n",
       "              "
      ],
      "text/plain": [
       "<IPython.lib.display.Audio object>"
      ]
     },
     "metadata": {},
     "output_type": "display_data"
    },
    {
     "name": "stdout",
     "output_type": "stream",
     "text": [
      "cluster 2: 0 segments 1.0 sec total dur\n"
     ]
    },
    {
     "data": {
      "text/html": [
       "\n",
       "                <audio  controls=\"controls\" >\n",
       "                    <source src=\"data:audio/wav;base64,UklGRqQ+AABXQVZFZm10IBAAAAABAAEAQB8AAIA+AAACABAAZGF0YYA+AAAAAAAAAAAAAAAAAAAAAAAAAAAAAAAAAAAAAAAAAAAAAAAAAAAAAAAAAAAAAAAAAAAAAAAAAAAAAAAAAAAAAAAAAAAAAAAAAAAAAAAAAAAAAAAAAAAAAAAAAAAAAAAAAAAAAAAAAAAAAAAAAAAAAAAAAAAAAAAAAAAAAAAAAAAAAAAAAAAAAAAAAAAAAAAAAAAAAAAAAAAAAAAAAAAAAAAAAAAAAAAAAAAAAAAAAAAAAAAAAAAAAAAAAAAAAAAAAAAAAAAAAAAAAAAAAAAAAAAAAAAAAAAAAAAAAAAAAAAAAAAAAAAAAAAAAAAAAAAAAAAAAAAAAAAAAAAAAAAAAAAAAAAAAAAAAAAAAAAAAAAAAAAAAAAAAAAAAAAAAAAAAAAAAAAAAAAAAAAAAAAAAAAAAAAAAAAAAAAAAAAAAAAAAAAAAAAAAAAAAAAAAAAAAAAAAAAAAAAAAAAAAAAAAAAAAAAAAAAAAAAAAAAAAAAAAAAAAAAAAAAAAAAAAAAAAAAAAAAAAAAAAAAAAAAAAAAAAAAAAAAAAAAAAAAAAAAAAAAAAAAAAAAAAAAAAAAAAAAAAAAAAAAAAAAAAAAAAAAAAAAAAAAAAAAAAAAAAAAAAAAAAAAAAAAAAAAAAAAAAAAAAAAAAAAAAAAAAAAAAAAAAAAAAAAAAAAAAAAAAAAAAAAAAAAAAAAAAAAAAAAAAAAAAAAAAAAAAAAAAAAAAAAAAAAAAAAAAAAAAAAAAAAAAAAAAAAAAAAAAAAAAAAAAAAAAAAAAAAAAAAAAAAAAAAAAAAAAAAAAAAAAAAAAAAAAAAAAAAAAAAAAAAAAAAAAAAAAAAAAAAAAAAAAAAAAAAAAAAAAAAAAAAAAAAAAAAAAAAAAAAAAAAAAAAAAAAAAAAAAAAAAAAAAAAAAAAAAAAAAAAAAAAAAAAAAAAAAAAAAAAAAAAAAAAAAAAAAAAAAAAAAAAAAAAAAAAAAAAAAAAAAAAAAAAAAAAAAAAAAAAAAAAAAAAAAAAAAAAAAAAAAAAAAAAAAAAAAAAAAAAAAAAAAAAAAAAAAAAAAAAAAAAAAAAAAAAAAAAAAAAAAAAAAAAAAAAAAAAAAAAAAAAAAAAAAAAAAAAAAAAAAAAAAAAAAAAAAAAAAAAAAAAAAAAAAAAAAAAAAAAAAAAAAAAAAAAAAAAAAAAAAAAAAAAAAAAAAAAAAAAAAAAAAAAAAAAAAAAAAAAAAAAAAAAAAAAAAAAAAAAAAAAAAAAAAAAAAAAAAAAAAAAAAAAAAAAAAAAAAAAAAAAAAAAAAAAAAAAAAAAAAAAAAAAAAAAAAAAAAAAAAAAAAAAAAAAAAAAAAAAAAAAAAAAAAAAAAAAAAAAAAAAAAAAAAAAAAAAAAAAAAAAAAAAAAAAAAAAAAAAAAAAAAAAAAAAAAAAAAAAAAAAAAAAAAAAAAAAAAAAAAAAAAAAAAAAAAAAAAAAAAAAAAAAAAAAAAAAAAAAAAAAAAAAAAAAAAAAAAAAAAAAAAAAAAAAAAAAAAAAAAAAAAAAAAAAAAAAAAAAAAAAAAAAAAAAAAAAAAAAAAAAAAAAAAAAAAAAAAAAAAAAAAAAAAAAAAAAAAAAAAAAAAAAAAAAAAAAAAAAAAAAAAAAAAAAAAAAAAAAAAAAAAAAAAAAAAAAAAAAAAAAAAAAAAAAAAAAAAAAAAAAAAAAAAAAAAAAAAAAAAAAAAAAAAAAAAAAAAAAAAAAAAAAAAAAAAAAAAAAAAAAAAAAAAAAAAAAAAAAAAAAAAAAAAAAAAAAAAAAAAAAAAAAAAAAAAAAAAAAAAAAAAAAAAAAAAAAAAAAAAAAAAAAAAAAAAAAAAAAAAAAAAAAAAAAAAAAAAAAAAAAAAAAAAAAAAAAAAAAAAAAAAAAAAAAAAAAAAAAAAAAAAAAAAAAAAAAAAAAAAAAAAAAAAAAAAAAAAAAAAAAAAAAAAAAAAAAAAAAAAAAAAAAAAAAAAAAAAAAAAAAAAAAAAAAAAAAAAAAAAAAAAAAAAAAAAAAAAAAAAAAAAAAAAAAAAAAAAAAAAAAAAAAAAAAAAAAAAAAAAAAAAAAAAAAAAAAAAAAAAAAAAAAAAAAAAAAAAAAAAAAAAAAAAAAAAAAAAAAAAAAAAAAAAAAAAAAAAAAAAAAAAAAAAAAAAAAAAAAAAAAAAAAAAAAAAAAAAAAAAAAAAAAAAAAAAAAAAAAAAAAAAAAAAAAAAAAAAAAAAAAAAAAAAAAAAAAAAAAAAAAAAAAAAAAAAAAAAAAAAAAAAAAAAAAAAAAAAAAAAAAAAAAAAAAAAAAAAAAAAAAAAAAAAAAAAAAAAAAAAAAAAAAAAAAAAAAAAAAAAAAAAAAAAAAAAAAAAAAAAAAAAAAAAAAAAAAAAAAAAAAAAAAAAAAAAAAAAAAAAAAAAAAAAAAAAAAAAAAAAAAAAAAAAAAAAAAAAAAAAAAAAAAAAAAAAAAAAAAAAAAAAAAAAAAAAAAAAAAAAAAAAAAAAAAAAAAAAAAAAAAAAAAAAAAAAAAAAAAAAAAAAAAAAAAAAAAAAAAAAAAAAAAAAAAAAAAAAAAAAAAAAAAAAAAAAAAAAAAAAAAAAAAAAAAAAAAAAAAAAAAAAAAAAAAAAAAAAAAAAAAAAAAAAAAAAAAAAAAAAAAAAAAAAAAAAAAAAAAAAAAAAAAAAAAAAAAAAAAAAAAAAAAAAAAAAAAAAAAAAAAAAAAAAAAAAAAAAAAAAAAAAAAAAAAAAAAAAAAAAAAAAAAAAAAAAAAAAAAAAAAAAAAAAAAAAAAAAAAAAAAAAAAAAAAAAAAAAAAAAAAAAAAAAAAAAAAAAAAAAAAAAAAAAAAAAAAAAAAAAAAAAAAAAAAAAAAAAAAAAAAAAAAAAAAAAAAAAAAAAAAAAAAAAAAAAAAAAAAAAAAAAAAAAAAAAAAAAAAAAAAAAAAAAAAAAAAAAAAAAAAAAAAAAAAAAAAAAAAAAAAAAAAAAAAAAAAAAAAAAAAAAAAAAAAAAAAAAAAAAAAAAAAAAAAAAAAAAAAAAAAAAAAAAAAAAAAAAAAAAAAAAAAAAAAAAAAAAAAAAAAAAAAAAAAAAAAAAAAAAAAAAAAAAAAAAAAAAAAAAAAAAAAAAAAAAAAAAAAAAAAAAAAAAAAAAAAAAAAAAAAAAAAAAAAAAAAAAAAAAAAAAAAAAAAAAAAAAAAAAAAAAAAAAAAAAAAAAAAAAAAAAAAAAAAAAAAAAAAAAAAAAAAAAAAAAAAAAAAAAAAAAAAAAAAAAAAAAAAAAAAAAAAAAAAAAAAAAAAAAAAAAAAAAAAAAAAAAAAAAAAAAAAAAAAAAAAAAAAAAAAAAAAAAAAAAAAAAAAAAAAAAAAAAAAAAAAAAAAAAAAAAAAAAAAAAAAAAAAAAAAAAAAAAAAAAAAAAAAAAAAAAAAAAAAAAAAAAAAAAAAAAAAAAAAAAAAAAAAAAAAAAAAAAAAAAAAAAAAAAAAAAAAAAAAAAAAAAAAAAAAAAAAAAAAAAAAAAAAAAAAAAAAAAAAAAAAAAAAAAAAAAAAAAAAAAAAAAAAAAAAAAAAAAAAAAAAAAAAAAAAAAAAAAAAAAAAAAAAAAAAAAAAAAAAAAAAAAAAAAAAAAAAAAAAAAAAAAAAAAAAAAAAAAAAAAAAAAAAAAAAAAAAAAAAAAAAAAAAAAAAAAAAAAAAAAAAAAAAAAAAAAAAAAAAAAAAAAAAAAAAAAAAAAAAAAAAAAAAAAAAAAAAAAAAAAAAAAAAAAAAAAAAAAAAAAAAAAAAAAAAAAAAAAAAAAAAAAAAAAAAAAAAAAAAAAAAAAAAAAAAAAAAAAAAAAAAAAAAAAAAAAAAAAAAAAAAAAAAAAAAAAAAAAAAAAAAAAAAAAAAAAAAAAAAAAAAAAAAAAAAAAAAAAAAAAAAAAAAAAAAAAAAAAAAAAAAAAAAAAAAAAAAAAAAAAAAAAAAAAAAAAAAAAAAAAAAAAAAAAAAAAAAAAAAAAAAAAAAAAAAAAAAAAAAAAAAAAAAAAAAAAAAAAAAAAAAAAAAAAAAAAAAAAAAAAAAAAAAAAAAAAAAAAAAAAAAAAAAAAAAAAAAAAAAAAAAAAAAAAAAAAAAAAAAAAAAAAAAAAAAAAAAAAAAAAAAAAAAAAAAAAAAAAAAAAAAAAAAAAAAAAAAAAAAAAAAAAAAAAAAAAAAAAAAAAAAAAAAAAAAAAAAAAAAAAAAAAAAAAAAAAAAAAAAAAAAAAAAAAAAAAAAAAAAAAAAAAAAAAAAAAAAAAAAAAAAAAAAAAAAAAAAAAAAAAAAAAAAAAAAAAAAAAAAAAAAAAAAAAAAAAAAAAAAAAAAAAAAAAAAAAAAAAAAAAAAAAAAAAAAAAAAAAAAAAAAAAAAAAAAAAAAAAAAAAAAAAAAAAAAAAAAAAAAAAAAAAAAAAAAAAAAAAAAAAAAAAAAAAAAAAAAAAAAAAAAAAAAAAAAAAAAAAAAAAAAAAAAAAAAAAAAAAAAAAAAAAAAAAAAAAAAAAAAAAAAAAAAAAAAAAAAAAAAAAAAAAAAAAAAAAAAAAAAAAAAAAAAAAAAAAAAAAAAAAAAAAAAAAAAAAAAAAAAAAAAAAAAAAAAAAAAAAAAAAAAAAAAAAAAAAAAAAAAAAAAAAAAAAAAAAAAAAAAAAAAAAAAAAAAAAAAAAAAAAAAAAAAAAAAAAAAAAAAAAAAAAAAAAAAAAAAAAAAAAAAAAAAAAAAAAAAAAAAAAAAAAAAAAAAAAAAAAAAAAAAAAAAAAAAAAAAAAAAAAAAAAAAAAAAAAAAAAAAAAAAAAAAAAAAAAAAAAAAAAAAAAAAAAAAAAAAAAAAAAAAAAAAAAAAAAAAAAAAAAAAAAAAAAAAAAAAAAAAAAAAAAAAAAAAAAAAAAAAAAAAAAAAAAAAAAAAAAAAAAAAAAAAAAAAAAAAAAAAAAAAAAAAAAAAAAAAAAAAAAAAAAAAAAAAAAAAAAAAAAAAAAAAAAAAAAAAAAAAAAAAAAAAAAAAAAAAAAAAAAAAAAAAAAAAAAAAAAAAAAAAAAAAAAAAAAAAAAAAAAAAAAAAAAAAAAAAAAAAAAAAAAAAAAAAAAAAAAAAAAAAAAAAAAAAAAAAAAAAAAAAAAAAAAAAAAAAAAAAAAAAAAAAAAAAAAAAAAAAAAAAAAAAAAAAAAAAAAAAAAAAAAAAAAAAAAAAAAAAAAAAAAAAAAAAAAAAAAAAAAAAAAAAAAAAAAAAAAAAAAAAAAAAAAAAAAAAAAAAAAAAAAAAAAAAAAAAAAAAAAAAAAAAAAAAAAAAAAAAAAAAAAAAAAAAAAAAAAAAAAAAAAAAAAAAAAAAAAAAAAAAAAAAAAAAAAAAAAAAAAAAAAAAAAAAAAAAAAAAAAAAAAAAAAAAAAAAAAAAAAAAAAAAAAAAAAAAAAAAAAAAAAAAAAAAAAAAAAAAAAAAAAAAAAAAAAAAAAAAAAAAAAAAAAAAAAAAAAAAAAAAAAAAAAAAAAAAAAAAAAAAAAAAAAAAAAAAAAAAAAAAAAAAAAAAAAAAAAAAAAAAAAAAAAAAAAAAAAAAAAAAAAAAAAAAAAAAAAAAAAAAAAAAAAAAAAAAAAAAAAAAAAAAAAAAAAAAAAAAAAAAAAAAAAAAAAAAAAAAAAAAAAAAAAAAAAAAAAAAAAAAAAAAAAAAAAAAAAAAAAAAAAAAAAAAAAAAAAAAAAAAAAAAAAAAAAAAAAAAAAAAAAAAAAAAAAAAAAAAAAAAAAAAAAAAAAAAAAAAAAAAAAAAAAAAAAAAAAAAAAAAAAAAAAAAAAAAAAAAAAAAAAAAAAAAAAAAAAAAAAAAAAAAAAAAAAAAAAAAAAAAAAAAAAAAAAAAAAAAAAAAAAAAAAAAAAAAAAAAAAAAAAAAAAAAAAAAAAAAAAAAAAAAAAAAAAAAAAAAAAAAAAAAAAAAAAAAAAAAAAAAAAAAAAAAAAAAAAAAAAAAAAAAAAAAAAAAAAAAAAAAAAAAAAAAAAAAAAAAAAAAAAAAAAAAAAAAAAAAAAAAAAAAAAAAAAAAAAAAAAAAAAAAAAAAAAAAAAAAAAAAAAAAAAAAAAAAAAAAAAAAAAAAAAAAAAAAAAAAAAAAAAAAAAAAAAAAAAAAAAAAAAAAAAAAAAAAAAAAAAAAAAAAAAAAAAAAAAAAAAAAAAAAAAAAAAAAAAAAAAAAAAAAAAAAAAAAAAAAAAAAAAAAAAAAAAAAAAAAAAAAAAAAAAAAAAAAAAAAAAAAAAAAAAAAAAAAAAAAAAAAAAAAAAAAAAAAAAAAAAAAAAAAAAAAAAAAAAAAAAAAAAAAAAAAAAAAAAAAAAAAAAAAAAAAAAAAAAAAAAAAAAAAAAAAAAAAAAAAAAAAAAAAAAAAAAAAAAAAAAAAAAAAAAAAAAAAAAAAAAAAAAAAAAAAAAAAAAAAAAAAAAAAAAAAAAAAAAAAAAAAAAAAAAAAAAAAAAAAAAAAAAAAAAAAAAAAAAAAAAAAAAAAAAAAAAAAAAAAAAAAAAAAAAAAAAAAAAAAAAAAAAAAAAAAAAAAAAAAAAAAAAAAAAAAAAAAAAAAAAAAAAAAAAAAAAAAAAAAAAAAAAAAAAAAAAAAAAAAAAAAAAAAAAAAAAAAAAAAAAAAAAAAAAAAAAAAAAAAAAAAAAAAAAAAAAAAAAAAAAAAAAAAAAAAAAAAAAAAAAAAAAAAAAAAAAAAAAAAAAAAAAAAAAAAAAAAAAAAAAAAAAAAAAAAAAAAAAAAAAAAAAAAAAAAAAAAAAAAAAAAAAAAAAAAAAAAAAAAAAAAAAAAAAAAAAAAAAAAAAAAAAAAAAAAAAAAAAAAAAAAAAAAAAAAAAAAAAAAAAAAAAAAAAAAAAAAAAAAAAAAAAAAAAAAAAAAAAAAAAAAAAAAAAAAAAAAAAAAAAAAAAAAAAAAAAAAAAAAAAAAAAAAAAAAAAAAAAAAAAAAAAAAAAAAAAAAAAAAAAAAAAAAAAAAAAAAAAAAAAAAAAAAAAAAAAAAAAAAAAAAAAAAAAAAAAAAAAAAAAAAAAAAAAAAAAAAAAAAAAAAAAAAAAAAAAAAAAAAAAAAAAAAAAAAAAAAAAAAAAAAAAAAAAAAAAAAAAAAAAAAAAAAAAAAAAAAAAAAAAAAAAAAAAAAAAAAAAAAAAAAAAAAAAAAAAAAAAAAAAAAAAAAAAAAAAAAAAAAAAAAAAAAAAAAAAAAAAAAAAAAAAAAAAAAAAAAAAAAAAAAAAAAAAAAAAAAAAAAAAAAAAAAAAAAAAAAAAAAAAAAAAAAAAAAAAAAAAAAAAAAAAAAAAAAAAAAAAAAAAAAAAAAAAAAAAAAAAAAAAAAAAAAAAAAAAAAAAAAAAAAAAAAAAAAAAAAAAAAAAAAAAAAAAAAAAAAAAAAAAAAAAAAAAAAAAAAAAAAAAAAAAAAAAAAAAAAAAAAAAAAAAAAAAAAAAAAAAAAAAAAAAAAAAAAAAAAAAAAAAAAAAAAAAAAAAAAAAAAAAAAAAAAAAAAAAAAAAAAAAAAAAAAAAAAAAAAAAAAAAAAAAAAAAAAAAAAAAAAAAAAAAAAAAAAAAAAAAAAAAAAAAAAAAAAAAAAAAAAAAAAAAAAAAAAAAAAAAAAAAAAAAAAAAAAAAAAAAAAAAAAAAAAAAAAAAAAAAAAAAAAAAAAAAAAAAAAAAAAAAAAAAAAAAAAAAAAAAAAAAAAAAAAAAAAAAAAAAAAAAAAAAAAAAAAAAAAAAAAAAAAAAAAAAAAAAAAAAAAAAAAAAAAAAAAAAAAAAAAAAAAAAAAAAAAAAAAAAAAAAAAAAAAAAAAAAAAAAAAAAAAAAAAAAAAAAAAAAAAAAAAAAAAAAAAAAAAAAAAAAAAAAAAAAAAAAAAAAAAAAAAAAAAAAAAAAAAAAAAAAAAAAAAAAAAAAAAAAAAAAAAAAAAAAAAAAAAAAAAAAAAAAAAAAAAAAAAAAAAAAAAAAAAAAAAAAAAAAAAAAAAAAAAAAAAAAAAAAAAAAAAAAAAAAAAAAAAAAAAAAAAAAAAAAAAAAAAAAAAAAAAAAAAAAAAAAAAAAAAAAAAAAAAAAAAAAAAAAAAAAAAAAAAAAAAAAAAAAAAAAAAAAAAAAAAAAAAAAAAAAAAAAAAAAAAAAAAAAAAAAAAAAAAAAAAAAAAAAAAAAAAAAAAAAAAAAAAAAAAAAAAAAAAAAAAAAAAAAAAAAAAAAAAAAAAAAAAAAAAAAAAAAAAAAAAAAAAAAAAAAAAAAAAAAAAAAAAAAAAAAAAAAAAAAAAAAAAAAAAAAAAAAAAAAAAAAAAAAAAAAAAAAAAAAAAAAAAAAAAAAAAAAAAAAAAAAAAAAAAAAAAAAAAAAAAAAAAAAAAAAAAAAAAAAAAAAAAAAAAAAAAAAAAAAAAAAAAAAAAAAAAAAAAAAAAAAAAAAAAAAAAAAAAAAAAAAAAAAAAAAAAAAAAAAAAAAAAAAAAAAAAAAAAAAAAAAAAAAAAAAAAAAAAAAAAAAAAAAAAAAAAAAAAAAAAAAAAAAAAAAAAAAAAAAAAAAAAAAAAAAAAAAAAAAAAAAAAAAAAAAAAAAAAAAAAAAAAAAAAAAAAAAAAAAAAAAAAAAAAAAAAAAAAAAAAAAAAAAAAAAAAAAAAAAAAAAAAAAAAAAAAAAAAAAAAAAAAAAAAAAAAAAAAAAAAAAAAAAAAAAAAAAAAAAAAAAAAAAAAAAAAAAAAAAAAAAAAAAAAAAAAAAAAAAAAAAAAAAAAAAAAAAAAAAAAAAAAAAAAAAAAAAAAAAAAAAAAAAAAAAAAAAAAAAAAAAAAAAAAAAAAAAAAAAAAAAAAAAAAAAAAAAAAAAAAAAAAAAAAAAAAAAAAAAAAAAAAAAAAAAAAAAAAAAAAAAAAAAAAAAAAAAAAAAAAAAAAAAAAAAAAAAAAAAAAAAAAAAAAAAAAAAAAAAAAAAAAAAAAAAAAAAAAAAAAAAAAAAAAAAAAAAAAAAAAAAAAAAAAAAAAAAAAAAAAAAAAAAAAAAAAAAAAAAAAAAAAAAAAAAAAAAAAAAAAAAAAAAAAAAAAAAAAAAAAAAAAAAAAAAAAAAAAAAAAAAAAAAAAAAAAAAAAAAAAAAAAAAAAAAAAAAAAAAAAAAAAAAAAAAAAAAAAAAAAAAAAAAAAAAAAAAAAAAAAAAAAAAAAAAAAAAAAAAAAAAAAAAAAAAAAAAAAAAAAAAAAAAAAAAAAAAAAAAAAAAAAAAAAAAAAAAAAAAAAAAAAAAAAAAAAAAAAAAAAAAAAAAAAAAAAAAAAAAAAAAAAAAAAAAAAAAAAAAAAAAAAAAAAAAAAAAAAAAAAAAAAAAAAAAAAAAAAAAAAAAAAAAAAAAAAAAAAAAAAAAAAAAAAAAAAAAAAAAAAAAAAAAAAAAAAAAAAAAAAAAAAAAAAAAAAAAAAAAAAAAAAAAAAAAAAAAAAAAAAAAAAAAAAAAAAAAAAAAAAAAAAAAAAAAAAAAAAAAAAAAAAAAAAAAAAAAAAAAAAAAAAAAAAAAAAAAAAAAAAAAAAAAAAAAAAAAAAAAAAAAAAAAAAAAAAAAAAAAAAAAAAAAAAAAAAAAAAAAAAAAAAAAAAAAAAAAAAAAAAAAAAAAAAAAAAAAAAAAAAAAAAAAAAAAAAAAAAAAAAAAAAAAAAAAAAAAAAAAAAAAAAAAAAAAAAAAAAAAAAAAAAAAAAAAAAAAAAAAAAAAAAAAAAAAAAAAAAAAAAAAAAAAAAAAAAAAAAAAAAAAAAAAAAAAAAAAAAAAAAAAAAAAAAAAAAAAAAAAAAAAAAAAAAAAAAAAAAAAAAAAAAAAAAAAAAAAAAAAAAAAAAAAAAAAAAAAAAAAAAAAAAAAAAAAAAAAAAAAAAAAAAAAAAAAAAAAAAAAAAAAAAAAAAAAAAAAAAAAAAAAAAAAAAAAAAAAAAAAAAAAAAAAAAAAAAAAAAAAAAAAAAAAAAAAAAAAAAAAAAAAAAAAAAAAAAAAAAAAAAAAAAAAAAAAAAAAAAAAAAAAAAAAAAAAAAAAAAAAAAAAAAAAAAAAAAAAAAAAAAAAAAAAAAAAAAAAAAAAAAAAAAAAAAAAAAAAAAAAAAAAAAAAAAAAAAAAAAAAAAAAAAAAAAAAAAAAAAAAAAAAAAAAAAAAAAAAAAAAAAAAAAAAAAAAAAAAAAAAAAAAAAAAAAAAAAAAAAAAAAAAAAAAAAAAAAAAAAAAAAAAAAAAAAAAAAAAAAAAAAAAAAAAAAAAAAAAAAAAAAAAAAAAAAAAAAAAAAAAAAAAAAAAAAAAAAAAAAAAAAAAAAAAAAAAAAAAAAAAAAAAAAAAAAAAAAAAAAAAAAAAAAAAAAAAAAAAAAAAAAAAAAAAAAAAAAAAAAAAAAAAAAAAAAAAAAAAAAAAAAAAAAAAAAAAAAAAAAAAAAAAAAAAAAAAAAAAAAAAAAAAAAAAAAAAAAAAAAAAAAAAAAAAAAAAAAAAAAAAAAAAAAAAAAAAAAAAAAAAAAAAAAAAAAAAAAAAAAAAAAAAAAAAAAAAAAAAAAAAAAAAAAAAAAAAAAAAAAAAAAAAAAAAAAAAAAAAAAAAAAAAAAAAAAAAAAAAAAAAAAAAAAAAAAAAAAAAAAAAAAAAAAAAAAAAAAAAAAAAAAAAAAAAAAAAAAAAAAAAAAAAAAAAAAAAAAAAAAAAAAAAAAAAAAAAAAAAAAAAAAAAAAAAAAAAAAAAAAAAAAAAAAAAAAAAAAAAAAAAAAAAAAAAAAAAAAAAAAAAAAAAAAAAAAAAAAAAAAAAAAAAAAAAAAAAAAAAAAAAAAAAAAAAAAAAAAAAAAAAAAAAAAAAAAAAAAAAAAAAAAAAAAAAAAAAAAAAAAAAAAAAAAAAAAAAAAAAAAAAAAAAAAAAAAAAAAAAAAAAAAAAAAAAAAAAAAAAAAAAAAAAAAAAAAAAAAAAAAAAAAAAAAAAAAAAAAAAAAAAAAAAAAAAAAAAAAAAAAAAAAAAAAAAAAAAAAAAAAAAAAAAAAAAAAAAAAAAAAAAAAAAAAAAAAAAAAAAAAAAAAAAAAAAAAAAAAAAAAAAAAAAAAAAAAAAAAAAAAAAAAAAAAAAAAAAAAAAAAAAAAAAAAAAAAAAAAAAAAAAAAAAAAAAAAAAAAAAAAAAAAAAAAAAAAAAAAAAAAAAAAAAAAAAAAAAAAAAAAAAAAAAAAAAAAAAAAAAAAAAAAAAAAAAAAAAAAAAAAAAAAAAAAAAAAAAAAAAAAAAAAAAAAAAAAAAAAAAAAAAAAAAAAAAAAAAAAAAAAAAAAAAAAAAAAAAAAAAAAAAAAAAAAAAAAAAAAAAAAAAAAAAAAAAAAAAAAAAAAAAAAAAAAAAAAAAAAAAAAAAAAAAAAAAAAAAAAAAAAAAAAAAAAAAAAAAAAAAAAAAAAAAAAAAAAAAAAAAAAAAAAAAAAAAAAAAAAAAAAAAAAAAAAAAAAAAAAAAAAAAAAAAAAAAAAAAAAAAAAAAAAAAAAAAAAAAAAAAAAAAAAAAAAAAAAAAAAAAAAAAAAAAAAAAAAAAAAAAAAAAAAAAAAAAAAAAAAAAAAAAAAAAAAAAAAAAAAAAAAAAAAAAAAAAAAAAAAAAAAAAAAAAAAAAAAAAAAAAAAAAAAAAAAAAAAAAAAAAAAAAAAAAAAAAAAAAAAAAAAAAAAAAAAAAAAAAAAAAAAAAAAAAAAAAAAAAAAAAAAAAAAAAAAAAAAAAAAAAAAAAAAAAAAAAAAAAAAAAAAAAAAAAAAAAAAAAAAAAAAAAAAAAAAAAAAAAAAAAAAAAAAAAAAAAAAAAAAAAAAAAAAAAAAAAAAAAAAAAAAAAAAAAAAAAAAAAAAAAAAAAAAAAAAAAAAAAAAAAAAAAAAAAAAAAAAAAAAAAAAAAAAAAAAAAAAAAAAAAAAAAAAAAAAAAAAAAAAAAAAAAAAAAAAAAAAAAAAAAAAAAAAAAAAAAAAAAAAAAAAAAAAAAAAAAAAAAAAAAAAAAAAAAAAAAAAAAAAAAAAAAAAAAAAAAAAAAAAAAAAAAAAAAAAAAAAAAAAAAAAAAAAAAAAAAAAAAAAAAAAAAAAAAAAAAAAAAAAAAAAAAAAAAAAAAAAAAAAAAAAAAAAAAAAAAAAAAAAAAAAAAAAAAAAAAAAAAAAAAAAAAAAAAAAAAAAAAAAAAAAAAAAAAAAAAAAAAAAAAAAAAAAAAAAAAAAAAAAAAAAAAAAAAAAAAAAAAAAAAAAAAAAAAAAAAAAAAAAAAAAAAAAAAAAAAAAAAAAAAAAAAAAAAAAAAAAAAAAAAAAAAAAAAAAAAAAAAAAAAAAAAAAAAAAAAAAAAAAAAAAAAAAAAAAAAAAAAAAAAAAAAAAAAAAAAAAAAAAAAAAAAAAAAAAAAAAAAAAAAAAAAAAAAAAAAAAAAAAAAAAAAAAAAAAAAAAAAAAAAAAAAAAAAAAAAAAAAAAAAAAAAAAAAAAAAAAAAAAAAAAAAAAAAAAAAAAAAAAAAAAAAAAAAAAAAAAAAAAAAAAAAAAAAAAAAAAAAAAAAAAAAAAAAAAAAAAAAAAAAAAAAAAAAAAAAAAAAAAAAAAAAAAAAAAAAAAAAAAAAAAAAAAAAAAAAAAAAAAAAAAAAAAAAAAAAAAAAAAAAAAAAAAAAAAAAAAAAAAAAAAAAAAAAAAAAAAAAAAAAAAAAAAAAAAAAAAAAAAAAAAAAAAAAAAAAAAAAAAAAAAAAAAAAAAAAAAAAAAAAAAAAAAAAAAAAAAAAAAAAAAAAAAAAAAAAAAAAAAAAAAAAAAAAAAAAAAAAAAAAAAAAAAAAAAAAAAAAAAAAAAAAAAAAAAAAAAAAAAAAAAAAAAAAAAAAAAAAAAAAAAAAAAAAAAAAAAAAAAAAAAAAAAAAAAAAAAAAAAAAAAAAAAAAAAAAAAAAAAAAAAAAAAAAAAAAAAAAAAAAAAAAAAAAAAAAAAAAAAAAAAAAAAAAAAAAAAAAAAAAAAAAAAAAAAAAAAAAAAAAAAAAAAAAAAAAAAAAAAAAAAAAAAAAAAAAAAAAAAAAAAAAAAAAAAAAAAAAAAAAAAAAAAAAAAAAAAAAAAAAAAAAAAAAAAAAAAAAAAAAAAAAAAAAAAAAAAAAAAAAAAAAAAAAAAAAAAAAAAAAAAAAAAAAAAAAAAAAAAAAAAAAAAAAAAAAAAAAAAAAAAAAAAAAAAAAAAAAAAAAAAAAAAAAAAAAAAAAAAAAAAAAAAAAAAAAAAAAAAAAAAAAAAAAAAAAAAAAAAAAAAAAAAAAAAAAAAAAAAAAAAAAAAAAAAAAAAAAAAAAAAAAAAAAAAAAAAAAAAAAAAAAAAAAAAAAAAAAAAAAAAAAAAAAAAAAAAAAAAAAAAAAAAAAAAAAAAAAAAAAAAAAAAAAAAAAAAAAAAAAAAAAAAAAAAAAAAAAAAAAAAAAAAAAAAAAAAAAAAAAAAAAAAAAAAAAAAAAAAAAAAAAAAAAAAAAAAAAAAAAAAAAAAAAAAAAAAAAAAAAAAAAAAAAAAAAAAAAAAAAAAAAAAAAAAAAAAAAAAAAAAAAAAAAAAAAAAAAAAAAAAAAAAAAAAAAAAAAAAAAAAAAAAAAAAAAAAAAAAAAAAAAAAAAAAAAAAAAAAAAAAAAAAAAAAAAAAAAAAAAAAAAAAAAAAAAAAAAAAAAAAAAAAAAAAAAAAAAAAAAAAAAAAAAAAAAAAAAAAAAAAAAAAAAAAAAAAAAAAAAAAAAAAAAAAAAAAAAAAAAAAAAAAAAAAAAAAAAAAAAAAAAAAAAAAAAAAAAAAAAAAAAAAAAAAAAAAAAAAAAAAAAAAAAAAAAAAAAAAAAAAAAAAAAAAAAAAAAAAAAAAAAAAAAAAAAAAAAAAAAAAAAAAAAAAAAAAAAAAAAAAAAAAAAAAAAAAAAAAAAAAAAAAAAAAAAAAAAAAAAAAAAAAAAAAAAAAAAAAAAAAAAAAAAAAAAAAAAAAAAAAAAAAAAAAAAAAAAAAAAAAAAAAAAAAAAAAAAAAAAAAAAAAAAAAAAAAAAAAAAAAAAAAAAAAAAAAAAAAAAAAAAAAAAAAAAAAAAAAAAAAAAAAAAAAAAAAAAAAAAAAAAAAAAAAAAAAAAAAAAAAAAAAAAAAAAAAAAAAAAAAAAAAAAAAAAAAAAAAAAAAAAAAAAAAAAAAAAAAAAAAAAAAAAAAAAAAAAAAAAAAAAAAAAAAAAAAAAAAAAAAAAAAAAAAAAAAAAAAAAAAAAAAAAAAAAAAAAAAAAAAAAAAAAAAAAAAAAAAAAAAAAAAAAAAAAAAAAAAAAAAAAAAAAAAAAAAAAAAAAAAAAAAAAAAAAAAAAAAAAAAAAAAAAAAAAAAAAAAAAAAAAAAAAAAAAAAAAAAAAAAAAAAAAAAAAAAAAAAAAAAAAAAAAAAAAAAAAAAAAAAAAAAAAAAAAAAAAAAAAAAAAAAAAAAAAAAAAAAAAAAAAAAAAAAAAAAAAAAAAAAAAAAAAAAAAAAAAAAAAAAAAAAAAAAAAAAAAAAAAAAAAAAAAAAAAAAAAAAAAAAAAAAAAAAAAAAAAAAAAAAAAAAAAAAAAAAAAAAAAAAAAAAAAAAAAAAAAAAAAAAAAAAAAAAAAAAAAAAAAAAAAAAAAAAAAAAAAAAAAAAAAAAAAAAAAAAAAAAAAAAAAAAAAAAAAAAAAAAAAAAAAAAAAAAAAAAAAAAAAAAAAAAAAAAAAAAAAAAAAAAAAAAAAAAAAAAAAAAAAAAAAAAAAAAAAAAAAAAAAAAAAAAAAAAAAAAAAAAAAAAAAAAAAAAAAAAAAAAAAAAAAAAAAAAAAAAAAAAAAAAAAAAAAAAAAAAAAAAAAAAAAAAAAAAAAAAAAAAAAAAAAAAAAAAAAAAAAAAAAAAAAAAAAAAAAAAAAAAAAAAAAAAAAAAAAAAAAAAAAAAAAAAAAAAAAAAAAAAAAAAAAAAAAAAAAAAAAAAAAAAAAAAAAAAAAAAAAAAAAAAAAAAAAAAAAAAAAAAAAAAAAAAAAAAAAAAAAAAAAAAAAAAAAAAAAAAAAAAAAAAAAAAAAAAAAAAAAAAAAAAAAAAAAAAAAAAAAAAAAAAAAAAAAAAAAAAAAAAAAAAAAAAAAAAAAAAAAAAAAAAAAAAAAAAAAAAAAAAAAAAAAAAAAAAAAAAAAAAAAAAAAAAAAAAAAAAAAAAAAAAAAAAAAAAAAAAAAAAAAAAAAAAAAAAAAAAAAAAAAAAAAAAAAAAAAAAAAAAAAAAAAAAAAAAAAAAAAAAAAAAAAAAAAAAAAAAAAAAAAAAAAAAAAAAAAAAAAAAAAAAAAAAAAAAAAAAAAAAAAAAAAAAAAAAAAAAAAAAAAAAAAAAAAAAAAAAAAAAAAAAAAAAAAAAAAAAAAAAAAAAAAAAAAAAAAAAAAAAAAAAAAAAAAAAAAAAAAAAAAAAAAAAAAAAAAAAAAAAAAAAAAAAAAAAAAAAAAAAAAAAAAAAAAAAAAAAAAAAAAAAAAAAAAAAAAAAAAAAAAAAAAAAAAAAAAAAAAAAAAAAAAAAAAAAAAAAAAAAAAAAAAAAAAAAAAAAAAAAAAAAAAAAAAAAAAAAAAAAAAAAAAAAAAAAAAAAAAAAAAAAAAAAAAAAAAAAAAAAAAAAAAAAAAAAAAAAAAAAAAAAAAAAAAAAAAAAAAAAAAAAAAAAAAAAAAAAAAAAAAAAAAAAAAAAAAAAAAAAAAAAAAAAAAAAAAAAAAAAAAAAAAAAAAAAAAAAAAAAAAAAAAAAAAAAAAAAAAAAAAAAAAAAAAAAAAAAAAAAAAAAAAAAAAAAAAAAAAAAAAAAAAAAAAAAAAAAAAAAAAAAAAAAAAAAAAAAAAAAAAAAAAAAAAAAAAAAAAAAAAAAAAAAAAAAAAAAAAAAAAAAAAAAAAAAAAAAAAAAAAAAAAAAAAAAAAAAAAAAAAAAAAAAAAAAAAAAAAAAAAAAAAAAAAAAAAAAAAAAAAAAAAAAAAAAAAAAAAAAAAAAAAAAAAAAAAAAAAAAAAAAAAAAAAAAAAAAAAAAAAAAAAAAAAAAAAAAAAAAAAAAAAAAAAAAAAAAAAAAAAAAAAAAAAAAAAAAAAAAAAAAAAAAAAAAAAAAAAAAAAAAAAAAAAAAAAAAAAAAAAAAAAAAAAAAAAAAAAAAAAAAAAAAAAAAAAAAAAAAAAAAAAAAAAAAAAAAAAAAAAAAAAAAAAAAAAAAAAAAAAAAAAAAAAAAAAAAAAAAAAAAAAAAAAAAAAAAAAAAAAAAAAAAAAAAAAAAAAAAAAAAAAAAAAAAAAAAAAAAAAAAAAAAAAAAAAAAAAAAAAAAAAAAAAAAAAAAAAAAAAAAAAAAAAAAAAAAAAAAAAAAAAAAAAAAAAAAAAAAAAAAAAAAAAAAAAAAAAAAAAAAAAAAAAAAAAAAAAAAAAAAAAAAAAAAAAAAAAAAAAAAAAAAAAAAAAAAAAAAAAAAAAAAAAAAAAAAAAAAAAAAAAAAAAAAAAAAAAAAAAAAAAAAAAAAAAAAAAAAAAAAAAAAAAAAAAAAAAAAAAAAAAAAAAAAAAAAAAAAAAAAAAAAAAAAAAAAAAAAAAAAAAAAAAAAAAAAAAAAAAAAAAAAAAAAAAAAAAAAAAAAAAAAAAAAAAAAAAAAAAAAAAAAAAAAAAAAAAAAAAAAAAAAAAAAAAAAAAAAAAAAAAAAAAAAAAAAAAAAAAAAAAAAAAAAAAAAAAAAAAAAAAAAAAAAAAAAAAAAAAAAAAAAAAAAAAAAAAAAAAAAAAAAAAAAAAAAAAAAAAAAAAAAAAAAAAAAAAAAAAAAAAAAAAAAAAAAAAAAAAAAAAAAAAAAAAAAAAAAAAAAAAAAAAAAAAAAAAAAAAAAAAAAAAAAAAAAAAAAAAAAAAAAAAAAAAAAAAAAAAAAAAAAAAAAAAAAAAAAAAAAAAAAAAAAAAAAAAAAAAAAAAAAAAAAAAAAAAAAAAAAAAAAAAAAAAAAAAAAAAAAAAAAAAAAAAAAAAAAAAAAAAAAAAAAAAAAAAAAAAAAAAAAAAAAAAAAAAAAAAAAAAAAAAAAAAAAAAAAAAAAAAAAAAAAAAAAAAAAAAAAAAAAAAAAAAAAAAAAAAAAAAAAAAAAAAAAAAAAAAAAAAAAAAAAAAAAAAAAAAAAAAAAAAAAAAAAAAAAAAAAAAAAAAAAAAAAAAAAAAAAAAAAAAAAAAAAAAAAAAAAAAAAAAAAAAAAAAAAAAAAAAAAAAAAAAAAAAAAAAAAAAAAAAAAAAAAAAAAAAAAAAAAAAAAAAAAAAAAAAAAAAAAAAAAAAAAAAAAAAAAAAAAAAAAAAAAAAAAAAAAAAAAAAAAAAAAAAAAAAAAAAAAAAAAAAAAAAAAAAAAAAAAAAAAAAAAAAAAAAAAAAAAAAAAAAAAAAAAAAAAAAAAAAAAAAAAAAAAAAAAAAAAAAAAAAAAAAAAAAAAAAAAAAAAAAAAAAAAAAAAAAAAAAAAAAAAAAAAAAAAAAAAAAAAAAAAAAAAAAAAAAAAAAAAAAAAAAAAAAAAAAAAAAAAAAAAAAAAAAAAAAAAAAAAAAAAAAAAAAAAAAAAAAAAAAAAAAAAAAAAAAAAAAAAAAAAAAAAAAAAAAAAAAAAAAAAAAAAAAAAAAAAAAAAAAAAAAAAAAAAAAAAAAAAAAAAAAAAAAAAAAAAAAAAAAAAAAAAAAAAAAAAAAAAAAAAAAAAAAAAAAAAAAAAAAAAAAAAAAAAAAAAAAAAAAAAAAAAAAAAAAAAAAAAAAAAAAAAAAAAAAAAAAAAAAAAAAAAAAAAAAAAAAAAAAAAAAAAAAAAAAAAAAAAAAAAAAAAAAAAAAAAAAAAAAAAAAAAAAAAAAAAAAAAAAAAAAAAAAAAAAAAAAAAAAAAAAAAAAAAAAAAAAAAAAAAAAAAAAAAAAAAAAAAAAAAAAAAAAAAAAAAAAAAAAAAAAAAAAAAAAAAAAAAAAAAAAAAAAAAAAAAAAAAAAAAAAAAAAAAAAAAAAAAAAAAAAAAAAAAAAAAAAAAAAAAAAAAAAAAAAAAAAAAAAAAAAAAAAAAAAAAAAAAAAAAAAAAAAAAAAAAAAAAAAAAAAAAAAAAAAAAAAAAAAAAAAAAAAAAAAAAAAAAAAAAAAAAAAAAAAAAAAAAAAAAAAAAAAAAAAAAAAAAAAAAAAAAAAAAAAAAAAAAAAAAAAAAAAAAAAAAAAAAAAAAAAAAAAAAAAAAAAAAAAAAAAAAAAAAAAAAAAAAAAAAAAAAAAAAAAAAAAAAAAAAAAAAAAAAAAAAAAAAAAAAAAAAAAAAAAAAAAAAAAAAAAAAAAAAAAAAAAAAAAAAAAAAAAAAAAAAAAAAAAAAAAAAAAAAAAAAAAAAAAAAAAAAAAAAAAAAAAAAAAAAAAAAAAAAAAAAAAAAAAAAAAAAAAAAAAAAAAAAAAAAAAAAAAAAAAAAAAAAAAAAAAAAAAAAAAAAAAAAAAAAAAAAAAAAAAAAAAAAAAAAAAAAAAAAAAAAAAAAAAAAAAAAAAAAAAAAAAAAAAAAAAAAAAAAAAAAAAAAAAAAAAAAAAAAAAAAAAAAAAAAAAAAAAAAAAAAAAAAAAAAAAAAAAAAAAAAAAAAAAAAAAAAAAAAAAAAAAAAAAAAAAAAAAAAAAAAAAAAAAAAAAAAAAAAAAAAAAAAAAAAAAAAAAAAAAAAAAAAAAAAAAAAAAAAAAAAAAAAAAAAAAAAAAAAAAAAAAAAAAAAAAAAAAAAAAAAAAAAAAAAAAAAAAAAAAAAAAAAAAAAAAAAAAAAAAAAAAAAAAAAAAAAAAAAAAAAAAAAAAAAAAAAAAAAAAAAAAAAAAAAAAAAAAAAAAAAAAAAAAAAAAAAAAAAAAAAAAAAAAAAAAAAAAAAAAAAAAAAAAAAAAAAAAAAAAAAAAAAAAAAAAAAAAAAAAAAAAAAAAAAAAAAAAAAAAAAAAAAAAAAAAAAAAAAAAAAAAAAAAAAAAAAAAAAAAAAAAAAAAAAAAAAAAAAAAAAAAAAAAAAAAAAAAAAAAAAAAAAAAAAAAAAAAAAAAAAAAAAAAAAAAAAAAAAAAAAAAAAAAAAAAAAAAAAAAAAAAAAAAAAAAAAAAAAAAAAAAAAAAAAAAAAAAAAAAAAAAAAAAAAAAAAAAAAAAAAAAAAAAAAAAAAAAAAAAAAAAAAAAAAAAAAAAAAAAAAAAAAAAAAAAAAAAAAAAAAAAAAAAAAAAAAAAAAAAAAAAAAAAAAAAAAAAAAAAAAAAAAAAAAAAAAAAAAAAAAAAAAAAAAAAAAAAAAAAAAAAAAAAAAAAAAAAAAAAAAAAAAAAAAAAAAAAAAAAAAAAAAAAAAAAAAAAAAAAAAAAAAAAAAAAAAAAAAAAAAAAAAAAAAAAAAAAAAAAAAAAAAAAAAAAAAAAAAAAAAAAAAAAAAAAAAAAAAAAAAAAAAAAAAAAAAAAAAAAAAAAAAAAAAAAAAAAAAAAAAAAAAAAAAAAAAAAAAAAAAAAAAAAAAAAAAAAAAAAAAAAAAAAAAAAAAAAAAAAAAAAAAAAAAAAAAAAAAAAAAAAAAAAAAAAAAAAAAAAAAAAAAAAAAAAAAAAAAAAAAAAAAAAAAAAAAAAAAAAAAAAAAAAAAAAAAAAAAAAAAAAAAAAAAAAAAAAAAAAAAAAAAAAAAAAAAAAAAAAAAAAAAAAAAAAAAAAAAAAAAAAAAAAAAAAAAAAAAAAAAAAAAAAAAAAAAAAAAAAAAAAAAAAAAAAAAAAAAAAAAAAAAAAAAAAAAAAAAAAAAAAAAAAAAAAAAAAAAAAAAAAAAAAAAAAAAAAAAAAAAAAAAAAAAAAAAAAAAAAAAAAAAAAAAAAAAAAAAAAAAAAAAAAAAAAAAAAAAAAAAAAAAAAAAAAAAAAAAAAAAAAAAAAAAAAAAAAAAAAAAAAAAAAAAAAAAAAAAAAAAAAAAAAAAAAAAAAAAAAAAAAAAAAAAAAAAAAAAAAAAAAAAAAAAAAAAAAAAAAAAAAAAAAAAAAAAAAAAAAAAAAAAAAAAAAAAAAAAAAAAAAAAAAAAAAAAAAAAAAAAAAAAAAAAAAAAAAAAAAAAAAAAAAAAAAAAAAAAAAAAAAAAAAAAAAAAAAAAAAAAAAAAAAAAAAAAAAAAAAAAAAAAAAAAAAAAAAAAAAAAAAAAAAAAAAAAAAAAAAAAAAAAAAAAAAAAAAAAAAAAAAAAAAAAAAAAAAAAAAAAAAAAAAAAAAAAAAAAAAAAAAAAAAAAAAAAAAAAAAAAAAAAAAAAAAAAAAAAAAAAAAAAAAAAAAAAAAAAAAAAAAAAAAAAAAAAAAAAAAAAAAAAAAAAAAAAAAAAAAAAAAAAAAAAAAAAAAAAAAAAAAAAAAAAAAAAAAAAAAAAAAAAAAAAAAAAAAAAAAAAAAAAAAAAAAAAAAAAAAAAAAAAAAAAAAAAAAAAAAAAAAAAAAAAAAAAAAAAAAAAAAAAAAAAAAAAAAAAAAAAAAAAAAAAAAAAAAAAAAAAAAAAAAAAAAAAAAAAAAAAAAAAAAAAAAAAAAAAAAAAAAAAAAAAAAAAAAAAAAAAAAAAAAAAAAAAAAAAAAAAAAAAAAAAAAAAAAAAAAAAAAAAAAAAAAAAAAAAAAAAAAAAAAAAAAAAAAAAAAAAAAAAAAAAAAAAAAAAAAAAAAAAAAAAAAAAAAAAAAAAAAAAAAAAAAAAAAAAAAAAAAAAAAAAAAAAAAAAAAAAAAAAAAAAAAAAAAAAAAAAAAAAAAAAAAAAAAAAAAAAAAAAAAAAAAAAAAAAAAAAAAAAAAAAAAAAAAAAAAAAAAAAAAAAAAAAAAAAAAAAAAAAAAAAAAAAAAAAAAAAAAAAAAAAAAAAAAAAAAAAAAAAAAAAAAAAAAAAAAAAAAAAAAAAAAAAAAAAAAAAAAAAAAAAAAAAAAAAAAAAAAAAAAAAAAAAAAAAAAAAAAAAAAAAAAAAAAAAAAAAAAAAAAAAAAAAAAAAAAAAAAAAAAAAAAAAAAAAAAAAAAAAAAAAAAAAAAAAAAAAAAAAAAAAAAAAAAAAAAAAAAAAAAAAAAAAAAAAAAAAAAAAAAAAAAAAAAAAAAAAAAAAAAAAAAAAAAAAAAAAAAAAAAAAAAAAAAAAAAAAAAAAAAAAAAAAAAAAAAAAAAAAAAAAAAAAAAAAAAAAAAAAAAAAAAAAAAAAAAAAAAAAAAAAAAAAAAAAAAAAAAAAAAAAAAAAAAAAAAAAAAAAAAAAAAAAAAAAAAAAAAAAAAAAAAAAAAAAAAAAAAAAAAAAAAAAAAAAAAAAAAAAAAAAAAAAAAAAAAAAAAAAAAAAAAAAAAAAAAAAAAAAAAAAAAAAAAAAAAAAAAAAAAAAAAAAAAAAAAAAAAAAAAAAAAAAAAAAAAAAAAAAAAAAAAAAAAAAAAAAAAAAAAAAAAAAAAAAAAAAAAAAAAAAAAAAAAAAAAAAAAAAAAAAAAAAAAAAAAAAAAAAAAAAAAAAAAAAAAAAAAAAAAAAAAAAAAAAAAAAAAAAAAAAA\" type=\"audio/wav\" />\n",
       "                    Your browser does not support the audio element.\n",
       "                </audio>\n",
       "              "
      ],
      "text/plain": [
       "<IPython.lib.display.Audio object>"
      ]
     },
     "metadata": {},
     "output_type": "display_data"
    },
    {
     "name": "stdout",
     "output_type": "stream",
     "text": [
      "cluster 3: 0 segments 1.0 sec total dur\n"
     ]
    },
    {
     "data": {
      "text/html": [
       "\n",
       "                <audio  controls=\"controls\" >\n",
       "                    <source src=\"data:audio/wav;base64,UklGRqQ+AABXQVZFZm10IBAAAAABAAEAQB8AAIA+AAACABAAZGF0YYA+AAAAAAAAAAAAAAAAAAAAAAAAAAAAAAAAAAAAAAAAAAAAAAAAAAAAAAAAAAAAAAAAAAAAAAAAAAAAAAAAAAAAAAAAAAAAAAAAAAAAAAAAAAAAAAAAAAAAAAAAAAAAAAAAAAAAAAAAAAAAAAAAAAAAAAAAAAAAAAAAAAAAAAAAAAAAAAAAAAAAAAAAAAAAAAAAAAAAAAAAAAAAAAAAAAAAAAAAAAAAAAAAAAAAAAAAAAAAAAAAAAAAAAAAAAAAAAAAAAAAAAAAAAAAAAAAAAAAAAAAAAAAAAAAAAAAAAAAAAAAAAAAAAAAAAAAAAAAAAAAAAAAAAAAAAAAAAAAAAAAAAAAAAAAAAAAAAAAAAAAAAAAAAAAAAAAAAAAAAAAAAAAAAAAAAAAAAAAAAAAAAAAAAAAAAAAAAAAAAAAAAAAAAAAAAAAAAAAAAAAAAAAAAAAAAAAAAAAAAAAAAAAAAAAAAAAAAAAAAAAAAAAAAAAAAAAAAAAAAAAAAAAAAAAAAAAAAAAAAAAAAAAAAAAAAAAAAAAAAAAAAAAAAAAAAAAAAAAAAAAAAAAAAAAAAAAAAAAAAAAAAAAAAAAAAAAAAAAAAAAAAAAAAAAAAAAAAAAAAAAAAAAAAAAAAAAAAAAAAAAAAAAAAAAAAAAAAAAAAAAAAAAAAAAAAAAAAAAAAAAAAAAAAAAAAAAAAAAAAAAAAAAAAAAAAAAAAAAAAAAAAAAAAAAAAAAAAAAAAAAAAAAAAAAAAAAAAAAAAAAAAAAAAAAAAAAAAAAAAAAAAAAAAAAAAAAAAAAAAAAAAAAAAAAAAAAAAAAAAAAAAAAAAAAAAAAAAAAAAAAAAAAAAAAAAAAAAAAAAAAAAAAAAAAAAAAAAAAAAAAAAAAAAAAAAAAAAAAAAAAAAAAAAAAAAAAAAAAAAAAAAAAAAAAAAAAAAAAAAAAAAAAAAAAAAAAAAAAAAAAAAAAAAAAAAAAAAAAAAAAAAAAAAAAAAAAAAAAAAAAAAAAAAAAAAAAAAAAAAAAAAAAAAAAAAAAAAAAAAAAAAAAAAAAAAAAAAAAAAAAAAAAAAAAAAAAAAAAAAAAAAAAAAAAAAAAAAAAAAAAAAAAAAAAAAAAAAAAAAAAAAAAAAAAAAAAAAAAAAAAAAAAAAAAAAAAAAAAAAAAAAAAAAAAAAAAAAAAAAAAAAAAAAAAAAAAAAAAAAAAAAAAAAAAAAAAAAAAAAAAAAAAAAAAAAAAAAAAAAAAAAAAAAAAAAAAAAAAAAAAAAAAAAAAAAAAAAAAAAAAAAAAAAAAAAAAAAAAAAAAAAAAAAAAAAAAAAAAAAAAAAAAAAAAAAAAAAAAAAAAAAAAAAAAAAAAAAAAAAAAAAAAAAAAAAAAAAAAAAAAAAAAAAAAAAAAAAAAAAAAAAAAAAAAAAAAAAAAAAAAAAAAAAAAAAAAAAAAAAAAAAAAAAAAAAAAAAAAAAAAAAAAAAAAAAAAAAAAAAAAAAAAAAAAAAAAAAAAAAAAAAAAAAAAAAAAAAAAAAAAAAAAAAAAAAAAAAAAAAAAAAAAAAAAAAAAAAAAAAAAAAAAAAAAAAAAAAAAAAAAAAAAAAAAAAAAAAAAAAAAAAAAAAAAAAAAAAAAAAAAAAAAAAAAAAAAAAAAAAAAAAAAAAAAAAAAAAAAAAAAAAAAAAAAAAAAAAAAAAAAAAAAAAAAAAAAAAAAAAAAAAAAAAAAAAAAAAAAAAAAAAAAAAAAAAAAAAAAAAAAAAAAAAAAAAAAAAAAAAAAAAAAAAAAAAAAAAAAAAAAAAAAAAAAAAAAAAAAAAAAAAAAAAAAAAAAAAAAAAAAAAAAAAAAAAAAAAAAAAAAAAAAAAAAAAAAAAAAAAAAAAAAAAAAAAAAAAAAAAAAAAAAAAAAAAAAAAAAAAAAAAAAAAAAAAAAAAAAAAAAAAAAAAAAAAAAAAAAAAAAAAAAAAAAAAAAAAAAAAAAAAAAAAAAAAAAAAAAAAAAAAAAAAAAAAAAAAAAAAAAAAAAAAAAAAAAAAAAAAAAAAAAAAAAAAAAAAAAAAAAAAAAAAAAAAAAAAAAAAAAAAAAAAAAAAAAAAAAAAAAAAAAAAAAAAAAAAAAAAAAAAAAAAAAAAAAAAAAAAAAAAAAAAAAAAAAAAAAAAAAAAAAAAAAAAAAAAAAAAAAAAAAAAAAAAAAAAAAAAAAAAAAAAAAAAAAAAAAAAAAAAAAAAAAAAAAAAAAAAAAAAAAAAAAAAAAAAAAAAAAAAAAAAAAAAAAAAAAAAAAAAAAAAAAAAAAAAAAAAAAAAAAAAAAAAAAAAAAAAAAAAAAAAAAAAAAAAAAAAAAAAAAAAAAAAAAAAAAAAAAAAAAAAAAAAAAAAAAAAAAAAAAAAAAAAAAAAAAAAAAAAAAAAAAAAAAAAAAAAAAAAAAAAAAAAAAAAAAAAAAAAAAAAAAAAAAAAAAAAAAAAAAAAAAAAAAAAAAAAAAAAAAAAAAAAAAAAAAAAAAAAAAAAAAAAAAAAAAAAAAAAAAAAAAAAAAAAAAAAAAAAAAAAAAAAAAAAAAAAAAAAAAAAAAAAAAAAAAAAAAAAAAAAAAAAAAAAAAAAAAAAAAAAAAAAAAAAAAAAAAAAAAAAAAAAAAAAAAAAAAAAAAAAAAAAAAAAAAAAAAAAAAAAAAAAAAAAAAAAAAAAAAAAAAAAAAAAAAAAAAAAAAAAAAAAAAAAAAAAAAAAAAAAAAAAAAAAAAAAAAAAAAAAAAAAAAAAAAAAAAAAAAAAAAAAAAAAAAAAAAAAAAAAAAAAAAAAAAAAAAAAAAAAAAAAAAAAAAAAAAAAAAAAAAAAAAAAAAAAAAAAAAAAAAAAAAAAAAAAAAAAAAAAAAAAAAAAAAAAAAAAAAAAAAAAAAAAAAAAAAAAAAAAAAAAAAAAAAAAAAAAAAAAAAAAAAAAAAAAAAAAAAAAAAAAAAAAAAAAAAAAAAAAAAAAAAAAAAAAAAAAAAAAAAAAAAAAAAAAAAAAAAAAAAAAAAAAAAAAAAAAAAAAAAAAAAAAAAAAAAAAAAAAAAAAAAAAAAAAAAAAAAAAAAAAAAAAAAAAAAAAAAAAAAAAAAAAAAAAAAAAAAAAAAAAAAAAAAAAAAAAAAAAAAAAAAAAAAAAAAAAAAAAAAAAAAAAAAAAAAAAAAAAAAAAAAAAAAAAAAAAAAAAAAAAAAAAAAAAAAAAAAAAAAAAAAAAAAAAAAAAAAAAAAAAAAAAAAAAAAAAAAAAAAAAAAAAAAAAAAAAAAAAAAAAAAAAAAAAAAAAAAAAAAAAAAAAAAAAAAAAAAAAAAAAAAAAAAAAAAAAAAAAAAAAAAAAAAAAAAAAAAAAAAAAAAAAAAAAAAAAAAAAAAAAAAAAAAAAAAAAAAAAAAAAAAAAAAAAAAAAAAAAAAAAAAAAAAAAAAAAAAAAAAAAAAAAAAAAAAAAAAAAAAAAAAAAAAAAAAAAAAAAAAAAAAAAAAAAAAAAAAAAAAAAAAAAAAAAAAAAAAAAAAAAAAAAAAAAAAAAAAAAAAAAAAAAAAAAAAAAAAAAAAAAAAAAAAAAAAAAAAAAAAAAAAAAAAAAAAAAAAAAAAAAAAAAAAAAAAAAAAAAAAAAAAAAAAAAAAAAAAAAAAAAAAAAAAAAAAAAAAAAAAAAAAAAAAAAAAAAAAAAAAAAAAAAAAAAAAAAAAAAAAAAAAAAAAAAAAAAAAAAAAAAAAAAAAAAAAAAAAAAAAAAAAAAAAAAAAAAAAAAAAAAAAAAAAAAAAAAAAAAAAAAAAAAAAAAAAAAAAAAAAAAAAAAAAAAAAAAAAAAAAAAAAAAAAAAAAAAAAAAAAAAAAAAAAAAAAAAAAAAAAAAAAAAAAAAAAAAAAAAAAAAAAAAAAAAAAAAAAAAAAAAAAAAAAAAAAAAAAAAAAAAAAAAAAAAAAAAAAAAAAAAAAAAAAAAAAAAAAAAAAAAAAAAAAAAAAAAAAAAAAAAAAAAAAAAAAAAAAAAAAAAAAAAAAAAAAAAAAAAAAAAAAAAAAAAAAAAAAAAAAAAAAAAAAAAAAAAAAAAAAAAAAAAAAAAAAAAAAAAAAAAAAAAAAAAAAAAAAAAAAAAAAAAAAAAAAAAAAAAAAAAAAAAAAAAAAAAAAAAAAAAAAAAAAAAAAAAAAAAAAAAAAAAAAAAAAAAAAAAAAAAAAAAAAAAAAAAAAAAAAAAAAAAAAAAAAAAAAAAAAAAAAAAAAAAAAAAAAAAAAAAAAAAAAAAAAAAAAAAAAAAAAAAAAAAAAAAAAAAAAAAAAAAAAAAAAAAAAAAAAAAAAAAAAAAAAAAAAAAAAAAAAAAAAAAAAAAAAAAAAAAAAAAAAAAAAAAAAAAAAAAAAAAAAAAAAAAAAAAAAAAAAAAAAAAAAAAAAAAAAAAAAAAAAAAAAAAAAAAAAAAAAAAAAAAAAAAAAAAAAAAAAAAAAAAAAAAAAAAAAAAAAAAAAAAAAAAAAAAAAAAAAAAAAAAAAAAAAAAAAAAAAAAAAAAAAAAAAAAAAAAAAAAAAAAAAAAAAAAAAAAAAAAAAAAAAAAAAAAAAAAAAAAAAAAAAAAAAAAAAAAAAAAAAAAAAAAAAAAAAAAAAAAAAAAAAAAAAAAAAAAAAAAAAAAAAAAAAAAAAAAAAAAAAAAAAAAAAAAAAAAAAAAAAAAAAAAAAAAAAAAAAAAAAAAAAAAAAAAAAAAAAAAAAAAAAAAAAAAAAAAAAAAAAAAAAAAAAAAAAAAAAAAAAAAAAAAAAAAAAAAAAAAAAAAAAAAAAAAAAAAAAAAAAAAAAAAAAAAAAAAAAAAAAAAAAAAAAAAAAAAAAAAAAAAAAAAAAAAAAAAAAAAAAAAAAAAAAAAAAAAAAAAAAAAAAAAAAAAAAAAAAAAAAAAAAAAAAAAAAAAAAAAAAAAAAAAAAAAAAAAAAAAAAAAAAAAAAAAAAAAAAAAAAAAAAAAAAAAAAAAAAAAAAAAAAAAAAAAAAAAAAAAAAAAAAAAAAAAAAAAAAAAAAAAAAAAAAAAAAAAAAAAAAAAAAAAAAAAAAAAAAAAAAAAAAAAAAAAAAAAAAAAAAAAAAAAAAAAAAAAAAAAAAAAAAAAAAAAAAAAAAAAAAAAAAAAAAAAAAAAAAAAAAAAAAAAAAAAAAAAAAAAAAAAAAAAAAAAAAAAAAAAAAAAAAAAAAAAAAAAAAAAAAAAAAAAAAAAAAAAAAAAAAAAAAAAAAAAAAAAAAAAAAAAAAAAAAAAAAAAAAAAAAAAAAAAAAAAAAAAAAAAAAAAAAAAAAAAAAAAAAAAAAAAAAAAAAAAAAAAAAAAAAAAAAAAAAAAAAAAAAAAAAAAAAAAAAAAAAAAAAAAAAAAAAAAAAAAAAAAAAAAAAAAAAAAAAAAAAAAAAAAAAAAAAAAAAAAAAAAAAAAAAAAAAAAAAAAAAAAAAAAAAAAAAAAAAAAAAAAAAAAAAAAAAAAAAAAAAAAAAAAAAAAAAAAAAAAAAAAAAAAAAAAAAAAAAAAAAAAAAAAAAAAAAAAAAAAAAAAAAAAAAAAAAAAAAAAAAAAAAAAAAAAAAAAAAAAAAAAAAAAAAAAAAAAAAAAAAAAAAAAAAAAAAAAAAAAAAAAAAAAAAAAAAAAAAAAAAAAAAAAAAAAAAAAAAAAAAAAAAAAAAAAAAAAAAAAAAAAAAAAAAAAAAAAAAAAAAAAAAAAAAAAAAAAAAAAAAAAAAAAAAAAAAAAAAAAAAAAAAAAAAAAAAAAAAAAAAAAAAAAAAAAAAAAAAAAAAAAAAAAAAAAAAAAAAAAAAAAAAAAAAAAAAAAAAAAAAAAAAAAAAAAAAAAAAAAAAAAAAAAAAAAAAAAAAAAAAAAAAAAAAAAAAAAAAAAAAAAAAAAAAAAAAAAAAAAAAAAAAAAAAAAAAAAAAAAAAAAAAAAAAAAAAAAAAAAAAAAAAAAAAAAAAAAAAAAAAAAAAAAAAAAAAAAAAAAAAAAAAAAAAAAAAAAAAAAAAAAAAAAAAAAAAAAAAAAAAAAAAAAAAAAAAAAAAAAAAAAAAAAAAAAAAAAAAAAAAAAAAAAAAAAAAAAAAAAAAAAAAAAAAAAAAAAAAAAAAAAAAAAAAAAAAAAAAAAAAAAAAAAAAAAAAAAAAAAAAAAAAAAAAAAAAAAAAAAAAAAAAAAAAAAAAAAAAAAAAAAAAAAAAAAAAAAAAAAAAAAAAAAAAAAAAAAAAAAAAAAAAAAAAAAAAAAAAAAAAAAAAAAAAAAAAAAAAAAAAAAAAAAAAAAAAAAAAAAAAAAAAAAAAAAAAAAAAAAAAAAAAAAAAAAAAAAAAAAAAAAAAAAAAAAAAAAAAAAAAAAAAAAAAAAAAAAAAAAAAAAAAAAAAAAAAAAAAAAAAAAAAAAAAAAAAAAAAAAAAAAAAAAAAAAAAAAAAAAAAAAAAAAAAAAAAAAAAAAAAAAAAAAAAAAAAAAAAAAAAAAAAAAAAAAAAAAAAAAAAAAAAAAAAAAAAAAAAAAAAAAAAAAAAAAAAAAAAAAAAAAAAAAAAAAAAAAAAAAAAAAAAAAAAAAAAAAAAAAAAAAAAAAAAAAAAAAAAAAAAAAAAAAAAAAAAAAAAAAAAAAAAAAAAAAAAAAAAAAAAAAAAAAAAAAAAAAAAAAAAAAAAAAAAAAAAAAAAAAAAAAAAAAAAAAAAAAAAAAAAAAAAAAAAAAAAAAAAAAAAAAAAAAAAAAAAAAAAAAAAAAAAAAAAAAAAAAAAAAAAAAAAAAAAAAAAAAAAAAAAAAAAAAAAAAAAAAAAAAAAAAAAAAAAAAAAAAAAAAAAAAAAAAAAAAAAAAAAAAAAAAAAAAAAAAAAAAAAAAAAAAAAAAAAAAAAAAAAAAAAAAAAAAAAAAAAAAAAAAAAAAAAAAAAAAAAAAAAAAAAAAAAAAAAAAAAAAAAAAAAAAAAAAAAAAAAAAAAAAAAAAAAAAAAAAAAAAAAAAAAAAAAAAAAAAAAAAAAAAAAAAAAAAAAAAAAAAAAAAAAAAAAAAAAAAAAAAAAAAAAAAAAAAAAAAAAAAAAAAAAAAAAAAAAAAAAAAAAAAAAAAAAAAAAAAAAAAAAAAAAAAAAAAAAAAAAAAAAAAAAAAAAAAAAAAAAAAAAAAAAAAAAAAAAAAAAAAAAAAAAAAAAAAAAAAAAAAAAAAAAAAAAAAAAAAAAAAAAAAAAAAAAAAAAAAAAAAAAAAAAAAAAAAAAAAAAAAAAAAAAAAAAAAAAAAAAAAAAAAAAAAAAAAAAAAAAAAAAAAAAAAAAAAAAAAAAAAAAAAAAAAAAAAAAAAAAAAAAAAAAAAAAAAAAAAAAAAAAAAAAAAAAAAAAAAAAAAAAAAAAAAAAAAAAAAAAAAAAAAAAAAAAAAAAAAAAAAAAAAAAAAAAAAAAAAAAAAAAAAAAAAAAAAAAAAAAAAAAAAAAAAAAAAAAAAAAAAAAAAAAAAAAAAAAAAAAAAAAAAAAAAAAAAAAAAAAAAAAAAAAAAAAAAAAAAAAAAAAAAAAAAAAAAAAAAAAAAAAAAAAAAAAAAAAAAAAAAAAAAAAAAAAAAAAAAAAAAAAAAAAAAAAAAAAAAAAAAAAAAAAAAAAAAAAAAAAAAAAAAAAAAAAAAAAAAAAAAAAAAAAAAAAAAAAAAAAAAAAAAAAAAAAAAAAAAAAAAAAAAAAAAAAAAAAAAAAAAAAAAAAAAAAAAAAAAAAAAAAAAAAAAAAAAAAAAAAAAAAAAAAAAAAAAAAAAAAAAAAAAAAAAAAAAAAAAAAAAAAAAAAAAAAAAAAAAAAAAAAAAAAAAAAAAAAAAAAAAAAAAAAAAAAAAAAAAAAAAAAAAAAAAAAAAAAAAAAAAAAAAAAAAAAAAAAAAAAAAAAAAAAAAAAAAAAAAAAAAAAAAAAAAAAAAAAAAAAAAAAAAAAAAAAAAAAAAAAAAAAAAAAAAAAAAAAAAAAAAAAAAAAAAAAAAAAAAAAAAAAAAAAAAAAAAAAAAAAAAAAAAAAAAAAAAAAAAAAAAAAAAAAAAAAAAAAAAAAAAAAAAAAAAAAAAAAAAAAAAAAAAAAAAAAAAAAAAAAAAAAAAAAAAAAAAAAAAAAAAAAAAAAAAAAAAAAAAAAAAAAAAAAAAAAAAAAAAAAAAAAAAAAAAAAAAAAAAAAAAAAAAAAAAAAAAAAAAAAAAAAAAAAAAAAAAAAAAAAAAAAAAAAAAAAAAAAAAAAAAAAAAAAAAAAAAAAAAAAAAAAAAAAAAAAAAAAAAAAAAAAAAAAAAAAAAAAAAAAAAAAAAAAAAAAAAAAAAAAAAAAAAAAAAAAAAAAAAAAAAAAAAAAAAAAAAAAAAAAAAAAAAAAAAAAAAAAAAAAAAAAAAAAAAAAAAAAAAAAAAAAAAAAAAAAAAAAAAAAAAAAAAAAAAAAAAAAAAAAAAAAAAAAAAAAAAAAAAAAAAAAAAAAAAAAAAAAAAAAAAAAAAAAAAAAAAAAAAAAAAAAAAAAAAAAAAAAAAAAAAAAAAAAAAAAAAAAAAAAAAAAAAAAAAAAAAAAAAAAAAAAAAAAAAAAAAAAAAAAAAAAAAAAAAAAAAAAAAAAAAAAAAAAAAAAAAAAAAAAAAAAAAAAAAAAAAAAAAAAAAAAAAAAAAAAAAAAAAAAAAAAAAAAAAAAAAAAAAAAAAAAAAAAAAAAAAAAAAAAAAAAAAAAAAAAAAAAAAAAAAAAAAAAAAAAAAAAAAAAAAAAAAAAAAAAAAAAAAAAAAAAAAAAAAAAAAAAAAAAAAAAAAAAAAAAAAAAAAAAAAAAAAAAAAAAAAAAAAAAAAAAAAAAAAAAAAAAAAAAAAAAAAAAAAAAAAAAAAAAAAAAAAAAAAAAAAAAAAAAAAAAAAAAAAAAAAAAAAAAAAAAAAAAAAAAAAAAAAAAAAAAAAAAAAAAAAAAAAAAAAAAAAAAAAAAAAAAAAAAAAAAAAAAAAAAAAAAAAAAAAAAAAAAAAAAAAAAAAAAAAAAAAAAAAAAAAAAAAAAAAAAAAAAAAAAAAAAAAAAAAAAAAAAAAAAAAAAAAAAAAAAAAAAAAAAAAAAAAAAAAAAAAAAAAAAAAAAAAAAAAAAAAAAAAAAAAAAAAAAAAAAAAAAAAAAAAAAAAAAAAAAAAAAAAAAAAAAAAAAAAAAAAAAAAAAAAAAAAAAAAAAAAAAAAAAAAAAAAAAAAAAAAAAAAAAAAAAAAAAAAAAAAAAAAAAAAAAAAAAAAAAAAAAAAAAAAAAAAAAAAAAAAAAAAAAAAAAAAAAAAAAAAAAAAAAAAAAAAAAAAAAAAAAAAAAAAAAAAAAAAAAAAAAAAAAAAAAAAAAAAAAAAAAAAAAAAAAAAAAAAAAAAAAAAAAAAAAAAAAAAAAAAAAAAAAAAAAAAAAAAAAAAAAAAAAAAAAAAAAAAAAAAAAAAAAAAAAAAAAAAAAAAAAAAAAAAAAAAAAAAAAAAAAAAAAAAAAAAAAAAAAAAAAAAAAAAAAAAAAAAAAAAAAAAAAAAAAAAAAAAAAAAAAAAAAAAAAAAAAAAAAAAAAAAAAAAAAAAAAAAAAAAAAAAAAAAAAAAAAAAAAAAAAAAAAAAAAAAAAAAAAAAAAAAAAAAAAAAAAAAAAAAAAAAAAAAAAAAAAAAAAAAAAAAAAAAAAAAAAAAAAAAAAAAAAAAAAAAAAAAAAAAAAAAAAAAAAAAAAAAAAAAAAAAAAAAAAAAAAAAAAAAAAAAAAAAAAAAAAAAAAAAAAAAAAAAAAAAAAAAAAAAAAAAAAAAAAAAAAAAAAAAAAAAAAAAAAAAAAAAAAAAAAAAAAAAAAAAAAAAAAAAAAAAAAAAAAAAAAAAAAAAAAAAAAAAAAAAAAAAAAAAAAAAAAAAAAAAAAAAAAAAAAAAAAAAAAAAAAAAAAAAAAAAAAAAAAAAAAAAAAAAAAAAAAAAAAAAAAAAAAAAAAAAAAAAAAAAAAAAAAAAAAAAAAAAAAAAAAAAAAAAAAAAAAAAAAAAAAAAAAAAAAAAAAAAAAAAAAAAAAAAAAAAAAAAAAAAAAAAAAAAAAAAAAAAAAAAAAAAAAAAAAAAAAAAAAAAAAAAAAAAAAAAAAAAAAAAAAAAAAAAAAAAAAAAAAAAAAAAAAAAAAAAAAAAAAAAAAAAAAAAAAAAAAAAAAAAAAAAAAAAAAAAAAAAAAAAAAAAAAAAAAAAAAAAAAAAAAAAAAAAAAAAAAAAAAAAAAAAAAAAAAAAAAAAAAAAAAAAAAAAAAAAAAAAAAAAAAAAAAAAAAAAAAAAAAAAAAAAAAAAAAAAAAAAAAAAAAAAAAAAAAAAAAAAAAAAAAAAAAAAAAAAAAAAAAAAAAAAAAAAAAAAAAAAAAAAAAAAAAAAAAAAAAAAAAAAAAAAAAAAAAAAAAAAAAAAAAAAAAAAAAAAAAAAAAAAAAAAAAAAAAAAAAAAAAAAAAAAAAAAAAAAAAAAAAAAAAAAAAAAAAAAAAAAAAAAAAAAAAAAAAAAAAAAAAAAAAAAAAAAAAAAAAAAAAAAAAAAAAAAAAAAAAAAAAAAAAAAAAAAAAAAAAAAAAAAAAAAAAAAAAAAAAAAAAAAAAAAAAAAAAAAAAAAAAAAAAAAAAAAAAAAAAAAAAAAAAAAAAAAAAAAAAAAAAAAAAAAAAAAAAAAAAAAAAAAAAAAAAAAAAAAAAAAAAAAAAAAAAAAAAAAAAAAAAAAAAAAAAAAAAAAAAAAAAAAAAAAAAAAAAAAAAAAAAAAAAAAAAAAAAAAAAAAAAAAAAAAAAAAAAAAAAAAAAAAAAAAAAAAAAAAAAAAAAAAAAAAAAAAAAAAAAAAAAAAAAAAAAAAAAAAAAAAAAAAAAAAAAAAAAAAAAAAAAAAAAAAAAAAAAAAAAAAAAAAAAAAAAAAAAAAAAAAAAAAAAAAAAAAAAAAAAAAAAAAAAAAAAAAAAAAAAAAAAAAAAAAAAAAAAAAAAAAAAAAAAAAAAAAAAAAAAAAAAAAAAAAAAAAAAAAAAAAAAAAAAAAAAAAAAAAAAAAAAAAAAAAAAAAAAAAAAAAAAAAAAAAAAAAAAAAAAAAAAAAAAAAAAAAAAAAAAAAAAAAAAAAAAAAAAAAAAAAAAAAAAAAAAAAAAAAAAAAAAAAAAAAAAAAAAAAAAAAAAAAAAAAAAAAAAAAAAAAAAAAAAAAAAAAAAAAAAAAAAAAAAAAAAAAAAAAAAAAAAAAAAAAAAAAAAAAAAAAAAAAAAAAAAAAAAAAAAAAAAAAAAAAAAAAAAAAAAAAAAAAAAAAAAAAAAAAAAAAAAAAAAAAAAAAAAAAAAAAAAAAAAAAAAAAAAAAAAAAAAAAAAAAAAAAAAAAAAAAAAAAAAAAAAAAAAAAAAAAAAAAAAAAAAAAAAAAAAAAAAAAAAAAAAAAAAAAAAAAAAAAAAAAAAAAAAAAAAAAAAAAAAAAAAAAAAAAAAAAAAAAAAAAAAAAAAAAAAAAAAAAAAAAAAAAAAAAAAAAAAAAAAAAAAAAAAAAAAAAAAAAAAAAAAAAAAAAAAAAAAAAAAAAAAAAAAAAAAAAAAAAAAAAAAAAAAAAAAAAAAAAAAAAAAAAAAAAAAAAAAAAAAAAAAAAAAAAAAAAAAAAAAAAAAAAAAAAAAAAAAAAAAAAAAAAAAAAAAAAAAAAAAAAAAAAAAAAAAAAAAAAAAAAAAAAAAAAAAAAAAAAAAAAAAAAAAAAAAAAAAAAAAAAAAAAAAAAAAAAAAAAAAAAAAAAAAAAAAAAAAAAAAAAAAAAAAAAAAAAAAAAAAAAAAAAAAAAAAAAAAAAAAAAAAAAAAAAAAAAAAAAAAAAAAAAAAAAAAAAAAAAAAAAAAAAAAAAAAAAAAAAAAAAAAAAAAAAAAAAAAAAAAAAAAAAAAAAAAAAAAAAAAAAAAAAAAAAAAAAAAAAAAAAAAAAAAAAAAAAAAAAAAAAAAAAAAAAAAAAAAAAAAAAAAAAAAAAAAAAAAAAAAAAAAAAAAAAAAAAAAAAAAAAAAAAAAAAAAAAAAAAAAAAAAAAAAAAAAAAAAAAAAAAAAAAAAAAAAAAAAAAAAAAAAAAAAAAAAAAAAAAAAAAAAAAAAAAAAAAAAAAAAAAAAAAAAAAAAAAAAAAAAAAAAAAAAAAAAAAAAAAAAAAAAAAAAAAAAAAAAAAAAAAAAAAAAAAAAAAAAAAAAAAAAAAAAAAAAAAAAAAAAAAAAAAAAAAAAAAAAAAAAAAAAAAAAAAAAAAAAAAAAAAAAAAAAAAAAAAAAAAAAAAAAAAAAAAAAAAAAAAAAAAAAAAAAAAAAAAAAAAAAAAAAAAAAAAAAAAAAAAAAAAAAAAAAAAAAAAAAAAAAAAAAAAAAAAAAAAAAAAAAAAAAAAAAAAAAAAAAAAAAAAAAAAAAAAAAAAAAAAAAAAAAAAAAAAAAAAAAAAAAAAAAAAAAAAAAAAAAAAAAAAAAAAAAAAAAAAAAAAAAAAAAAAAAAAAAAAAAAAAAAAAAAAAAAAAAAAAAAAAAAAAAAAAAAAAAAAAAAAAAAAAAAAAAAAAAAAAAAAAAAAAAAAAAAAAAAAAAAAAAAAAAAAAAAAAAAAAAAAAAAAAAAAAAAAAAAAAAAAAAAAAAAAAAAAAAAAAAAAAAAAAAAAAAAAAAAAAAAAAAAAAAAAAAAAAAAAAAAAAAAAAAAAAAAAAAAAAAAAAAAAAAAAAAAAAAAAAAAAAAAAAAAAAAAAAAAAAAAAAAAAAAAAAAAAAAAAAAAAAAAAAAAAAAAAAAAAAAAAAAAAAAAAAAAAAAAAAAAAAAAAAAAAAAAAAAAAAAAAAAAAAAAAAAAAAAAAAAAAAAAAAAAAAAAAAAAAAAAAAAAAAAAAAAAAAAAAAAAAAAAAAAAAAAAAAAAAAAAAAAAAAAAAAAAAAAAAAAAAAAAAAAAAAAAAAAAAAAAAAAAAAAAAAAAAAAAAAAAAAAAAAAAAAAAAAAAAAAAAAAAAAAAAAAAAAAAAAAAAAAAAAAAAAAAAAAAAAAAAAAAAAAAAAAAAAAAAAAAAAAAAAAAAAAAAAAAAAAAAAAAAAAAAAAAAAAAAAAAAAAAAAAAAAAAAAAAAAAAAAAAAAAAAAAAAAAAAAAAAAAAAAAAAAAAAAAAAAAAAAAAAAAAAAAAAAAAAAAAAAAAAAAAAAAAAAAAAAAAAAAAAAAAAAAAAAAAAAAAAAAAAAAAAAAAAAAAAAAAAAAAAAAAAAAAAAAAAAAAAAAAAAAAAAAAAAAAAAAAAAAAAAAAAAAAAAAAAAAAAAAAAAAAAAAAAAAAAAAAAAAAAAAAAAAAAAAAAAAAAAAAAAAAAAAAAAAAAAAAAAAAAAAAAAAAAAAAAAAAAAAAAAAAAAAAAAAAAAAAAAAAAAAAAAAAAAAAAAAAAAAAAAAAAAAAAAAAAAAAAAAAAAAAAAAAAAAAAAAAAAAAAAAAAAAAAAAAAAAAAAAAAAAAAAAAAAAAAAAAAAAAAAAAAAAAAAAAAAAAAAAAAAAAAAAAAAAAAAAAAAAAAAAAAAAAAAAAAAAAAAAAAAAAAAAAAAAAAAAAAAAAAAAAAAAAAAAAAAAAAAAAAAAAAAAAAAAAAAAAAAAAAAAAAAAAAAAAAAAAAAAAAAAAAAAAAAAAAAAAAAAAAAAAAAAAAAAAAAAAAAAAAAAAAAAAAAAAAAAAAAAAAAAAAAAAAAAAAAAAAAAAAAAAAAAAAAAAAAAAAAAAAAAAAAAAAAAAAAAAAAAAAAAAAAAAAAAAAAAAAAAAAAAAAAAAAAAAAAAAAAAAAAAAAAAAAAAAAAAAAAAAAAAAAAAAAAAAAAAAAAAAAAAAAAAAAAAAAAAAAAAAAAAAAAAAAAAAAAAAAAAAAAAAAAAAAAAAAAAAAAAAAAAAAAAAAAAAAAAAAAAAAAAAAAAAAAAAAAAAAAAAAAAAAAAAAAAAAAAAAAAAAAAAAAAAAAAAAAAAAAAAAAAAAAAAAAAAAAAAAAAAAAAAAAAAAAAAAAAAAAAAAAAAAAAAAAAAAAAAAAAAAAAAAAAAAAAAAAAAAAAAAAAAAAAAAAAAAAAAAAAAAAAAAAAAAAAAAAAAAAAAAAAAAAAAAAAAAAAAAAAAAAAAAAAAAAAAAAAAAAAAAAAAAAAAAAAAAAAAAAAAAAAAAAAAAAAAAAAAAAAAAAAAAAAAAAAAAAAAAAAAAAAAAAAAAAAAAAAAAAAAAAAAAAAAAAAAAAAAAAAAAAAAAAAAAAAAAAAAAAAAAAAAAAAAAAAAAAAAAAAAAAAAAAAAAAAAAAAAAAAAAAAAAAAAAAAAAAAAAAAAAAAAAAAAAAAAAAAAAAAAAAAAAAAAAAAAAAAAAAAAAAAAAAAAAAAAAAAAAAAAAAAAAAAAAAAAAAAAAAAAAAAAAAAAAAAAAAAAAAAAAAAAAAAAAAAAAAAAAAAAAAAAAAAAAAAAAAAAAAAAAAAAAAAAAAAAAAAAAAAAAAAAAAAAAAAAAAAAAAAAAAAAAAAAAAAAAAAAAAAAAAAAAAAAAAAAAAAAAAAAAAAAAAAAAAAAAAAAAAAAAAAAAAAAAAAAAAAAAAAAAAAAAAAAAAAAAAAAAAAAAAAAAAAAAAAAAAAAAAAAAAAAAAAAAAAAAAAAAAAAAAAAAAAAAAAAAAAAAAAAAAAAAAAAAAAAAAAAAAAAAAAAAAAAAAAAAAAAAAAAAAAAAAAAAAAAAAAAAAAAAAAAAAAAAAAAAAAAAAAAAAAAAAAAAAAAAAAAAAAAAAAAAAAAAAAAAAAAAAAAAAAAAAAAAAAAAAAAAAAAAAAAAAAAAAAAAAAAAAAAAAAAAAAAAAAAAAAAAAAAAAAAAAAAAAAAAAAAAAAAAAAAAAAAAAAAAAAAAAAAAAAAAAAAAAAAAAAAAAAAAAAAAAAAAAAAAAAAAAAAAAAAAAAAAAAAAAAAAAAAAAAAAAAAAAAAAAAAAAAAAAAAAAAAAAAAAAAAAAAAAAAAAAAAAAAAAAAAAAAAAAAAAAAAAAAAAAAAAAAAAAAAAAAAAAAAAAAAAAAAAAAAAAAAAAAAAAAAAAAAAAAAAAAAAAAAAAAAAAAAAAAAAAAAAAAAAAAAAAAAAAAAAAAAAAAAAAAAAAAAAAAAAAAAAAAAAAAAAAAAAAAAAAAAAAAAAAAAAAAAAAAAAAAAAAAAAAAAAAAAAAAAAAAAAAAAAAAAAAAAAAAAAAAAAAAAAAAAAAAAAAAAAAAAAAAAAAAAAAAAAAAAAAAAAAAAAAAAAAAAAAAAAAAAAAAAAAAAAAAAAAAAAAAAAAAAAAAAAAAAAAAAAAAAAAAAAAAAAAAAAAAAAAAAAAAAAAAAAAAAAAAAAAAAAAAAAAAAAAAAAAAAAAAAAAAAAAAAAAAAAAAAAAAAAAAAAAAAAAAAAAAAAAAAAAAAAAAAAAAAAAAAAAAAAAAAAAAAAAAAAAAAAAAAAAAAAAAAAAAAAAAAAAAAAAAAAAAAAAAAAAAAAAAAAAAAAAAAAAAAAAAAAAAAAAAAAAAAAAAAAAAAAAAAAAAAAAAAAAAAAAAAAAAAAAAAAAAAAAAAAAAAAAAAAAAAAAAAAAAAAAAAAAAAAAAAAAAAAAAAAAAAAAAAAAAAAAAAAAAAAAAAAAAAAAAAAAAAAAAAAAAAAAAAAAAAAAAAAAAAAAAAAAAAAAAAAAAAAAAAAAAAAAAAAAAAAAAAAAAAAAAAAAAAAAAAAAAAAAAAAAAAAAAAAAAAAAAAAAAAAAAAAAAAAAAAAAAAAAAAAAAAAAAAAAAAAAAAAAAAAAAAAAAAAAAAAAAAAAAAAAAAAAAAAAAAAAAAAAAAAAAAAAAAAAAAAAAAAAAAAAAAAAAAAAAAAAAAAAAAAAAAAAAAAAAAAAAAAAAAAAAAAAAAAAAAAAAAAAAAAAAAAAAAAAAAAAAAAAAAAAAAAAAAAAAAAAAAAAAAAAAAAAAAAAAAAAAAAAAAAAAAAAAAAAAAAAAAAAAAAAAAAAAAAAAAAAAAAAAAAAAAAAAAAAAAAAAAAAAAAAAAAAAAAAAAAAAAAAAAAAAAAAAAAAAAAAAAAAAAAAAAAAAAAAAAAAAAAAAAAAAAAAAAAAAAAAAAAAAAAAAAAAAAAAAAAAAAAAAAAAAAAAAAAAAAAAAAAAAAAAAAAAAAAAAAAAAAAAAAAAAAAAAAAAAAAAAAAAAAAAAAAAAAAAAAAAAAAAAAAAAAAAAAAAAAAAAAAAAAAAAAAAAAAAAAAAAAAAAAAAAAAAAAAAAAAAAAAAAAAAAAAAAAAAAAAAAAAAAAAAAAAAAAAAAAAAAAAAAAAAAAAAAAAAAAAAAAAAAAAAAAAAAAAAAAAAAAAAAAAAAAAAAAAAAAAAAAAAAAAAAAAAAAAAAAAAAAAAAAAAAAAAAAAAAAAAAAAAAAAAAAAAAAAAAAAAAAAAAAAAAAAAAAAAAAAAAAAAAAAAAAAAAAAAAAAAAAAAAAAAAAAAAAAAAAAAAAAAAAAAAAAAAAAAAAAAAAAAAAAAAAAAAAAAAAAAAAAAAAAAAAAAAAAAAAAAAAAAAAAAAAAAAAAAAAAAAAAAAAAAAAAAAAAAAAAAAAAAAAAAAAAAAAAAAAAAAAAAAAAAAAAAAAAAAAAAAAAAAAAAAAAAAAAAAAAAAAAAAAAAAAAAAAAAAAAAAAAAAAAAAAAAAAAAAAAAAAAAAAAAAAAAAAAAAAAAAAAAAAAAAAAAAAAAAAAAAAAAAAAAAAAAAAAAAAAAAAAAAAAAAAAAAAAAAAAAAAAAAAAAAAAAAAAAAAAAAAAAAAAAAAAAAAAAAAAAAAAAAAAAAAAAAAAAAAAAAAAAAAAAAAAAAAAAAAAAAAAAAAAAAAAAAAAAAAAAAAAAAAAAAAAAAAAAAAAAAAAAAAAAAAAAAAAAAAAAAAAAAAAAAAAAAAAAAAAAAAAAAAAAAAAAAAAAAAAAAAAAAAAAAAAAAAAAAAAAAAAAAAAAAAAAAAAAAAAAAAAAAAAAAAAAAAAAAAAAAAAAAAAAAAAAAAAAAAAAAAAAAAAAAAAAAAAAAAAAAAAAAAAAAAAAAAAAAAAAAAAAAAAAAAAAAAAAAAAAAAAAAAAAAAAAAAAAAAAAAAAAAAAAAAAAAAAAAAAAAAAAAAAAAAAAAAAAAAAAAAAAAAAAAAAAAAAAAAAAAAAAAAAAAAAAAAAAAAAAAAAAAAAAAAAAAAAAAAAAAAAAAAAAAAAAAAAAAAAAAAAAAAAAAAAAAAAAAAAAAAAAAAAAAAAAAAAAAAAAAAAAAAAAAAAAAAAAAAAAAAAAAAAAAAAAAAAAAAAAAAAAAAAAAAAAAAAAAAAAAAAAAAAAAAAAAAAAAAAAAAAAAAAAAAAAAAAAAAAAAAAAAAAAAAAAAAAAAAAAAAAAAAAAAAAAAAAAAAAAAAAAAAAAAAAAAAAAAAAAAAAAAAAAAAAAAAAAAAAAAAAAAAAAAAAAAAAAAAAAAAAAAAAAAAAAAAAAAAAAAAAAAAAAAAAAAAAAAAAAAAAAAAAAAAAAAAAAAAAAAAAAAAAAAAAAAAAAAAAAAAAAAAAAAAAAAAAAAAAAAAAAAAAAAAAAAAAAAAAAAAAAAAAAAAAAAAAAAAAAAAAAAAAAAAAAAAAAAAAAAAAAAAAAAAAAAAAAAAAAAAAAAAAAAAAAAAAAAAAAAAAAAAAAAAAAAAAAAAAAAAAAAAAAAAAAAAAAAAAAAAAAAAAAAAAAAAAAAAAAAAAAAAAAAAAAAAAAAAAAAAAAAAAAAAAAAAAAAAAAAAAAAAAAAAAAAAAAAAAAAAAAAAAAAAAAAAAAAAAAAAAAAAAAAAAAAAAAAAAAAAAAAAAAAAAAAAAAAAAAAAAAAAAAAAAAAAAAAAAAAAAAAAAAAAAAAAAAAAAAAAAAAAAAAAAAAAAAAAAAAAAAAAAAAAAAAAAAAAAAAAAAAAAAAAAAAAAAAAAAAAAAAAAAAAAAAAAAAAAAAAAAAAAAAAAAAAAAAAAAAAAAAAAAAAAAAAAAAAAAAAAAAAAAAAAAAAAAAAAAAAAAAAAAAAAAAAAAAAAAAAAAAAAAAAAAAAAAAAAAAAAAAAAAAAAAAAAAAAAAAAAAAAAAAAAAAAAAAAAAAAAAAAAAAAAAAAAAAAAAAAAAAAAAAAAAAAAAAAAAAAAAAAAAAAAAAAAAAAAAAAAAAAAAAAAAAAAAAAAAAAAAAAAAAAAAAAAAAAAAAAAAAAAAAAAAAAAAAAAAAAAAAAAAAAAAAAAAAAAAAAAAAAAAAAAAAAAAAAAAAAAAAAAAAAAAAAAAAAAAAAAAAAAAAAAAAAAAAAAAAAAAAAAAAAAAAAAAAAAAAAAAAAAAAAAAAAAAAAAAAAAAAAAAAAAAAAAAAAAAAAAAAAAAAAAAAAAAAAAAAAAAAAAAAAAAAAAAAAAAAAAAAAAAAAAAAAAAAAAAAAAAAAAAAAAAAAAAAAAAAAAAAAAAAAAAAAAAAAAAAAAAAAAAAAAAAAAAAAAAAAAAAAAAAAAAAAAAAAAAAAAAAAAAAAAAAAAAAAAAAAAAAAAAAAAAAAAAAAAAAAAAAAAAAAAAAAAAAAAAAAAAAAAAAAAAAAAAAAAAAAAAAAAAAAAAAAAAAAAAAAAAAAAAAAAAAAAAAAAAAAAAAAAAAAAAAAAAAAAAAAAAAAAAAAAAAAAAAAAAAAAAAAAAAAAAAAAAAAAAAAAAAAAAAAAAAAAAAAAAAAAAAAAAAAAAAAAAAAAAAAAAAAAAAAAAAAAAAAAAAAAAAAAAAAAAAAAAAAAAAAAAAAAAAAAAAAAAAAAAAAAAAAAAAAAAAAAAAAAAAAAAAAAAAAAAAAAAAAAAAAAAAAAAAAAAAAAAAAAAAAAAAAAAAAAAAAAAAAAAAAAAAAAAAAAAAAAAAAAAAAAAAAAAAAAAAAAAAAAAAAAAAAAAAAAAAAAAAAAAAAAAAAAAAAAAAAAAAAAAAAAAAAAAAAAAAAAAAAAAAAAAAAAAAAAAAAAAAAAAAAAAAAAAAAAAAAAAAAAAAAAAAAAAAAAAAAAAAAAAAAAAAAAAAAAAAAAAAAAAAAAAAAAAAAAAAAAAAAAAAAAAAAAAAAAAAAAAAAAAAAAAAAAAAAAAAAAAAAAAAAAAAAAAAAAAAAAAAAAAAAAAAAAAAAAAAAAAAAAAAAAAAAAAAAAAAAAAAAAAAAAAAAAAAAAAAAAAAAAAAAAAAAAAAAAAAAAAAAAAAAAAAAAAAAAAAAAAAAAAAAAAAAAAAAAAAAAAAAAAAAAAAAAAAAAAAAAAAAAAAAAAAAAAAAAAAAAAAAAAAAAAAAAAAAAAAAAAAAAAAAAAAAAAAAAAAAAAAAAAAAAAAAAAAAAAAAAAAAAAAAAAAAAAAAAAAAAAAAAAAAAAAAAAAAAAAAAAAAAAAAAAAAAAAAAAAAAAAAAAAAAAAAAAAAAAAAAAAAAAAAAAAAAAAAAAAAAAAAAAAAAAAAAAAAAAAAAAAAAAAAAAAAAAAAAAAAAAAAAAAAAAAAAAAAAAAAAAAAAAAAAAAAAAAAAAAAAAAAAAAAAAAAAAAAAAAAAAAAAAAAAAAAAAAAAAAAAAAAAAAAAAAAAAAAAAAAAAAAAAAAAAAAAAAAAAAAAAAAAAAAAAAAAAAAAAAAAAAAAAAAAAAAAAAAAAAAAAAAAAAAAAAAAAAAAAAAAAAAAAAAAAAAAAAAAAAAAAAAAAAAAAAAAAAAAAAAAAAAAAAAAAAAAAAAAAAAAAAAAAAAAAAAAAAAAAAAAAAAAAAAAAAAAAAAAAAAAAAAAAAAAAAAAAAAAAAAAAAAAAAAAAAAAAAAAAAAAAAAAAAAAAAAAAAAAAAAAAAAAAAAAAAAAAAAAAAAAAAAAAAAAAAAAAAAAAAAAAAAAAAAAAAAAAAAAAAAAAAAAAAAAAAAAAAAAAAAAAAAAAAAAAAAAAAAAAAAAAAAAAAAAAAAAAAAAAAAAAAAAAAAAAAAAAAAAAAAAAAAAAAAAAAAAAAAAAAAAAAAAAAAAAAAAAAAAAAAAAAAAAAAAAAAAAAAAAAAAAAAAAAAAAAAAAAAAAAAAAAAAAAAAAAAAAAAAAAAAAAAAAAAAAAAAAAAAAAAAAAAAAAAAAAAAAAAAAAAAAAAAAAAAAAAAAAAAAAAAAAAAAAAAAAAAAAAAAAAAAAAAAAAAAAAAAAAAAAAAAAAAAAAAAAAAAAAAAAAAAAAAAAAAAAAAAAAAAAAAAAAAAAAAAAAAAAAAAAAAAAAAAAAAAAAAAAAAAAAAAAAAAAAAAAAAAAAAAAAAAAAAAAAAAAAAAAAAAAAAAAAAAAAAAAAAAAAAAAAAAAAAAAAAAAAAAAAAAAAAAAAAAAAAAAAAAAAAAAAAAAAAAAAAAAAAAAAAAAAAAAAAAAAAAAAAAAAAAAAAAAAAAAAAAAAAAAAAAAAAAAAAAAAAAAAAAAAAAAAAAAAAAAAAAAAAAAAAAAAAAAAAAAAAAAAAAAAAAAAAAAAAAAAAAAAAAAAAAAAAAAAAAAAAAAAAAAAAAAAAAAAAAAAAAAAAAAAAAAAAAAAAAAAAAAAAAAAAAAAAAAAAAAAAAAAAAAAAAAAAAAAAAAAAAAAAAAAAAAAAAAAAAAAAAAAAAAAAAAAAAAAAAAAAAAAAAAAAAAAAAAAAAAAAAAAAAAAAAAAAAAAAAAAAAAAAAAAAAAAAAAAAAAAAAAAAAAAAAAAAAAAAAAAAAAAAAAAAAAAAAAAAAAAAAAAAAAAAAAAAAAAAAAAAAAAAAAAAAAAAAAAAAAAAAAAAAAAAAAAAAAAAAAAAAAAAAAAAAAAAAAAAAAAAAAAAAAAAAAAAAAAAAAAAAAAAAAAAAAAAAAAAAAAAAAAAAAAAAAAAAAAAAAAAAAAAAAAAAAAAAAAAAAAAAAAAAAAAAAAAAAAAAAAAAAAAAAAAAAAAAAAAAAAAAAAAAAAAAAAAAAAAAAAAAAAAAAAAAAAAAAAAAAAAAAAAAAAAAAAAAAAAAAAAAAAAAAAAAAAAAAAAAAAAAAAAAAAAAAAAAAAAAAAAAAAAAAAAAAAAAAAAAAAAAAAAAAAAAAAAAAAAAAAAAAAAAAAAAAAAAAAAAAAAAAAAAAAAAAAAAAAAAAAAAAAAAAAAAAAAAAAAAAAAAAAAAAAAAAAAAAAAAAAAAAAAAAAAAAAAAAAAAAAAAAAAAAAAAAAAAAAAAAAAAAAAAAAAAAAAAAAAAAAAAAAAAAAAAAAAAAAAAAAAAAAAAAAAAAAAAAAAAAAAAAAAAAAAAAAAAAAAAAAAAAAAAAAAAAAAAAAAAAAAAAAAAAAAAAAAAAAAAAAAAAAAAAAAAAAAAAAAAAAAAAAAAAAAAAAAAAAAAAAAAAAAAAAAAAAAAAAAAAAAAAAAAAAAAAAAAAAAAAAAAAAAAAAAAAAAAAAAAAAAAAAAAAAAAAAAAAAAAAAAAAAAAAAAAAAAAAAAAAAAAAAAAAAAAAAAAAAAAAAAAAAAAAAAAAAAAAAAAAAAAAAAAAAAAAAAAAAAAAAAAAAAAAAAAAAAAAAAAA\" type=\"audio/wav\" />\n",
       "                    Your browser does not support the audio element.\n",
       "                </audio>\n",
       "              "
      ],
      "text/plain": [
       "<IPython.lib.display.Audio object>"
      ]
     },
     "metadata": {},
     "output_type": "display_data"
    },
    {
     "name": "stdout",
     "output_type": "stream",
     "text": [
      "cluster 4: 0 segments 1.0 sec total dur\n"
     ]
    },
    {
     "data": {
      "text/html": [
       "\n",
       "                <audio  controls=\"controls\" >\n",
       "                    <source src=\"data:audio/wav;base64,UklGRqQ+AABXQVZFZm10IBAAAAABAAEAQB8AAIA+AAACABAAZGF0YYA+AAAAAAAAAAAAAAAAAAAAAAAAAAAAAAAAAAAAAAAAAAAAAAAAAAAAAAAAAAAAAAAAAAAAAAAAAAAAAAAAAAAAAAAAAAAAAAAAAAAAAAAAAAAAAAAAAAAAAAAAAAAAAAAAAAAAAAAAAAAAAAAAAAAAAAAAAAAAAAAAAAAAAAAAAAAAAAAAAAAAAAAAAAAAAAAAAAAAAAAAAAAAAAAAAAAAAAAAAAAAAAAAAAAAAAAAAAAAAAAAAAAAAAAAAAAAAAAAAAAAAAAAAAAAAAAAAAAAAAAAAAAAAAAAAAAAAAAAAAAAAAAAAAAAAAAAAAAAAAAAAAAAAAAAAAAAAAAAAAAAAAAAAAAAAAAAAAAAAAAAAAAAAAAAAAAAAAAAAAAAAAAAAAAAAAAAAAAAAAAAAAAAAAAAAAAAAAAAAAAAAAAAAAAAAAAAAAAAAAAAAAAAAAAAAAAAAAAAAAAAAAAAAAAAAAAAAAAAAAAAAAAAAAAAAAAAAAAAAAAAAAAAAAAAAAAAAAAAAAAAAAAAAAAAAAAAAAAAAAAAAAAAAAAAAAAAAAAAAAAAAAAAAAAAAAAAAAAAAAAAAAAAAAAAAAAAAAAAAAAAAAAAAAAAAAAAAAAAAAAAAAAAAAAAAAAAAAAAAAAAAAAAAAAAAAAAAAAAAAAAAAAAAAAAAAAAAAAAAAAAAAAAAAAAAAAAAAAAAAAAAAAAAAAAAAAAAAAAAAAAAAAAAAAAAAAAAAAAAAAAAAAAAAAAAAAAAAAAAAAAAAAAAAAAAAAAAAAAAAAAAAAAAAAAAAAAAAAAAAAAAAAAAAAAAAAAAAAAAAAAAAAAAAAAAAAAAAAAAAAAAAAAAAAAAAAAAAAAAAAAAAAAAAAAAAAAAAAAAAAAAAAAAAAAAAAAAAAAAAAAAAAAAAAAAAAAAAAAAAAAAAAAAAAAAAAAAAAAAAAAAAAAAAAAAAAAAAAAAAAAAAAAAAAAAAAAAAAAAAAAAAAAAAAAAAAAAAAAAAAAAAAAAAAAAAAAAAAAAAAAAAAAAAAAAAAAAAAAAAAAAAAAAAAAAAAAAAAAAAAAAAAAAAAAAAAAAAAAAAAAAAAAAAAAAAAAAAAAAAAAAAAAAAAAAAAAAAAAAAAAAAAAAAAAAAAAAAAAAAAAAAAAAAAAAAAAAAAAAAAAAAAAAAAAAAAAAAAAAAAAAAAAAAAAAAAAAAAAAAAAAAAAAAAAAAAAAAAAAAAAAAAAAAAAAAAAAAAAAAAAAAAAAAAAAAAAAAAAAAAAAAAAAAAAAAAAAAAAAAAAAAAAAAAAAAAAAAAAAAAAAAAAAAAAAAAAAAAAAAAAAAAAAAAAAAAAAAAAAAAAAAAAAAAAAAAAAAAAAAAAAAAAAAAAAAAAAAAAAAAAAAAAAAAAAAAAAAAAAAAAAAAAAAAAAAAAAAAAAAAAAAAAAAAAAAAAAAAAAAAAAAAAAAAAAAAAAAAAAAAAAAAAAAAAAAAAAAAAAAAAAAAAAAAAAAAAAAAAAAAAAAAAAAAAAAAAAAAAAAAAAAAAAAAAAAAAAAAAAAAAAAAAAAAAAAAAAAAAAAAAAAAAAAAAAAAAAAAAAAAAAAAAAAAAAAAAAAAAAAAAAAAAAAAAAAAAAAAAAAAAAAAAAAAAAAAAAAAAAAAAAAAAAAAAAAAAAAAAAAAAAAAAAAAAAAAAAAAAAAAAAAAAAAAAAAAAAAAAAAAAAAAAAAAAAAAAAAAAAAAAAAAAAAAAAAAAAAAAAAAAAAAAAAAAAAAAAAAAAAAAAAAAAAAAAAAAAAAAAAAAAAAAAAAAAAAAAAAAAAAAAAAAAAAAAAAAAAAAAAAAAAAAAAAAAAAAAAAAAAAAAAAAAAAAAAAAAAAAAAAAAAAAAAAAAAAAAAAAAAAAAAAAAAAAAAAAAAAAAAAAAAAAAAAAAAAAAAAAAAAAAAAAAAAAAAAAAAAAAAAAAAAAAAAAAAAAAAAAAAAAAAAAAAAAAAAAAAAAAAAAAAAAAAAAAAAAAAAAAAAAAAAAAAAAAAAAAAAAAAAAAAAAAAAAAAAAAAAAAAAAAAAAAAAAAAAAAAAAAAAAAAAAAAAAAAAAAAAAAAAAAAAAAAAAAAAAAAAAAAAAAAAAAAAAAAAAAAAAAAAAAAAAAAAAAAAAAAAAAAAAAAAAAAAAAAAAAAAAAAAAAAAAAAAAAAAAAAAAAAAAAAAAAAAAAAAAAAAAAAAAAAAAAAAAAAAAAAAAAAAAAAAAAAAAAAAAAAAAAAAAAAAAAAAAAAAAAAAAAAAAAAAAAAAAAAAAAAAAAAAAAAAAAAAAAAAAAAAAAAAAAAAAAAAAAAAAAAAAAAAAAAAAAAAAAAAAAAAAAAAAAAAAAAAAAAAAAAAAAAAAAAAAAAAAAAAAAAAAAAAAAAAAAAAAAAAAAAAAAAAAAAAAAAAAAAAAAAAAAAAAAAAAAAAAAAAAAAAAAAAAAAAAAAAAAAAAAAAAAAAAAAAAAAAAAAAAAAAAAAAAAAAAAAAAAAAAAAAAAAAAAAAAAAAAAAAAAAAAAAAAAAAAAAAAAAAAAAAAAAAAAAAAAAAAAAAAAAAAAAAAAAAAAAAAAAAAAAAAAAAAAAAAAAAAAAAAAAAAAAAAAAAAAAAAAAAAAAAAAAAAAAAAAAAAAAAAAAAAAAAAAAAAAAAAAAAAAAAAAAAAAAAAAAAAAAAAAAAAAAAAAAAAAAAAAAAAAAAAAAAAAAAAAAAAAAAAAAAAAAAAAAAAAAAAAAAAAAAAAAAAAAAAAAAAAAAAAAAAAAAAAAAAAAAAAAAAAAAAAAAAAAAAAAAAAAAAAAAAAAAAAAAAAAAAAAAAAAAAAAAAAAAAAAAAAAAAAAAAAAAAAAAAAAAAAAAAAAAAAAAAAAAAAAAAAAAAAAAAAAAAAAAAAAAAAAAAAAAAAAAAAAAAAAAAAAAAAAAAAAAAAAAAAAAAAAAAAAAAAAAAAAAAAAAAAAAAAAAAAAAAAAAAAAAAAAAAAAAAAAAAAAAAAAAAAAAAAAAAAAAAAAAAAAAAAAAAAAAAAAAAAAAAAAAAAAAAAAAAAAAAAAAAAAAAAAAAAAAAAAAAAAAAAAAAAAAAAAAAAAAAAAAAAAAAAAAAAAAAAAAAAAAAAAAAAAAAAAAAAAAAAAAAAAAAAAAAAAAAAAAAAAAAAAAAAAAAAAAAAAAAAAAAAAAAAAAAAAAAAAAAAAAAAAAAAAAAAAAAAAAAAAAAAAAAAAAAAAAAAAAAAAAAAAAAAAAAAAAAAAAAAAAAAAAAAAAAAAAAAAAAAAAAAAAAAAAAAAAAAAAAAAAAAAAAAAAAAAAAAAAAAAAAAAAAAAAAAAAAAAAAAAAAAAAAAAAAAAAAAAAAAAAAAAAAAAAAAAAAAAAAAAAAAAAAAAAAAAAAAAAAAAAAAAAAAAAAAAAAAAAAAAAAAAAAAAAAAAAAAAAAAAAAAAAAAAAAAAAAAAAAAAAAAAAAAAAAAAAAAAAAAAAAAAAAAAAAAAAAAAAAAAAAAAAAAAAAAAAAAAAAAAAAAAAAAAAAAAAAAAAAAAAAAAAAAAAAAAAAAAAAAAAAAAAAAAAAAAAAAAAAAAAAAAAAAAAAAAAAAAAAAAAAAAAAAAAAAAAAAAAAAAAAAAAAAAAAAAAAAAAAAAAAAAAAAAAAAAAAAAAAAAAAAAAAAAAAAAAAAAAAAAAAAAAAAAAAAAAAAAAAAAAAAAAAAAAAAAAAAAAAAAAAAAAAAAAAAAAAAAAAAAAAAAAAAAAAAAAAAAAAAAAAAAAAAAAAAAAAAAAAAAAAAAAAAAAAAAAAAAAAAAAAAAAAAAAAAAAAAAAAAAAAAAAAAAAAAAAAAAAAAAAAAAAAAAAAAAAAAAAAAAAAAAAAAAAAAAAAAAAAAAAAAAAAAAAAAAAAAAAAAAAAAAAAAAAAAAAAAAAAAAAAAAAAAAAAAAAAAAAAAAAAAAAAAAAAAAAAAAAAAAAAAAAAAAAAAAAAAAAAAAAAAAAAAAAAAAAAAAAAAAAAAAAAAAAAAAAAAAAAAAAAAAAAAAAAAAAAAAAAAAAAAAAAAAAAAAAAAAAAAAAAAAAAAAAAAAAAAAAAAAAAAAAAAAAAAAAAAAAAAAAAAAAAAAAAAAAAAAAAAAAAAAAAAAAAAAAAAAAAAAAAAAAAAAAAAAAAAAAAAAAAAAAAAAAAAAAAAAAAAAAAAAAAAAAAAAAAAAAAAAAAAAAAAAAAAAAAAAAAAAAAAAAAAAAAAAAAAAAAAAAAAAAAAAAAAAAAAAAAAAAAAAAAAAAAAAAAAAAAAAAAAAAAAAAAAAAAAAAAAAAAAAAAAAAAAAAAAAAAAAAAAAAAAAAAAAAAAAAAAAAAAAAAAAAAAAAAAAAAAAAAAAAAAAAAAAAAAAAAAAAAAAAAAAAAAAAAAAAAAAAAAAAAAAAAAAAAAAAAAAAAAAAAAAAAAAAAAAAAAAAAAAAAAAAAAAAAAAAAAAAAAAAAAAAAAAAAAAAAAAAAAAAAAAAAAAAAAAAAAAAAAAAAAAAAAAAAAAAAAAAAAAAAAAAAAAAAAAAAAAAAAAAAAAAAAAAAAAAAAAAAAAAAAAAAAAAAAAAAAAAAAAAAAAAAAAAAAAAAAAAAAAAAAAAAAAAAAAAAAAAAAAAAAAAAAAAAAAAAAAAAAAAAAAAAAAAAAAAAAAAAAAAAAAAAAAAAAAAAAAAAAAAAAAAAAAAAAAAAAAAAAAAAAAAAAAAAAAAAAAAAAAAAAAAAAAAAAAAAAAAAAAAAAAAAAAAAAAAAAAAAAAAAAAAAAAAAAAAAAAAAAAAAAAAAAAAAAAAAAAAAAAAAAAAAAAAAAAAAAAAAAAAAAAAAAAAAAAAAAAAAAAAAAAAAAAAAAAAAAAAAAAAAAAAAAAAAAAAAAAAAAAAAAAAAAAAAAAAAAAAAAAAAAAAAAAAAAAAAAAAAAAAAAAAAAAAAAAAAAAAAAAAAAAAAAAAAAAAAAAAAAAAAAAAAAAAAAAAAAAAAAAAAAAAAAAAAAAAAAAAAAAAAAAAAAAAAAAAAAAAAAAAAAAAAAAAAAAAAAAAAAAAAAAAAAAAAAAAAAAAAAAAAAAAAAAAAAAAAAAAAAAAAAAAAAAAAAAAAAAAAAAAAAAAAAAAAAAAAAAAAAAAAAAAAAAAAAAAAAAAAAAAAAAAAAAAAAAAAAAAAAAAAAAAAAAAAAAAAAAAAAAAAAAAAAAAAAAAAAAAAAAAAAAAAAAAAAAAAAAAAAAAAAAAAAAAAAAAAAAAAAAAAAAAAAAAAAAAAAAAAAAAAAAAAAAAAAAAAAAAAAAAAAAAAAAAAAAAAAAAAAAAAAAAAAAAAAAAAAAAAAAAAAAAAAAAAAAAAAAAAAAAAAAAAAAAAAAAAAAAAAAAAAAAAAAAAAAAAAAAAAAAAAAAAAAAAAAAAAAAAAAAAAAAAAAAAAAAAAAAAAAAAAAAAAAAAAAAAAAAAAAAAAAAAAAAAAAAAAAAAAAAAAAAAAAAAAAAAAAAAAAAAAAAAAAAAAAAAAAAAAAAAAAAAAAAAAAAAAAAAAAAAAAAAAAAAAAAAAAAAAAAAAAAAAAAAAAAAAAAAAAAAAAAAAAAAAAAAAAAAAAAAAAAAAAAAAAAAAAAAAAAAAAAAAAAAAAAAAAAAAAAAAAAAAAAAAAAAAAAAAAAAAAAAAAAAAAAAAAAAAAAAAAAAAAAAAAAAAAAAAAAAAAAAAAAAAAAAAAAAAAAAAAAAAAAAAAAAAAAAAAAAAAAAAAAAAAAAAAAAAAAAAAAAAAAAAAAAAAAAAAAAAAAAAAAAAAAAAAAAAAAAAAAAAAAAAAAAAAAAAAAAAAAAAAAAAAAAAAAAAAAAAAAAAAAAAAAAAAAAAAAAAAAAAAAAAAAAAAAAAAAAAAAAAAAAAAAAAAAAAAAAAAAAAAAAAAAAAAAAAAAAAAAAAAAAAAAAAAAAAAAAAAAAAAAAAAAAAAAAAAAAAAAAAAAAAAAAAAAAAAAAAAAAAAAAAAAAAAAAAAAAAAAAAAAAAAAAAAAAAAAAAAAAAAAAAAAAAAAAAAAAAAAAAAAAAAAAAAAAAAAAAAAAAAAAAAAAAAAAAAAAAAAAAAAAAAAAAAAAAAAAAAAAAAAAAAAAAAAAAAAAAAAAAAAAAAAAAAAAAAAAAAAAAAAAAAAAAAAAAAAAAAAAAAAAAAAAAAAAAAAAAAAAAAAAAAAAAAAAAAAAAAAAAAAAAAAAAAAAAAAAAAAAAAAAAAAAAAAAAAAAAAAAAAAAAAAAAAAAAAAAAAAAAAAAAAAAAAAAAAAAAAAAAAAAAAAAAAAAAAAAAAAAAAAAAAAAAAAAAAAAAAAAAAAAAAAAAAAAAAAAAAAAAAAAAAAAAAAAAAAAAAAAAAAAAAAAAAAAAAAAAAAAAAAAAAAAAAAAAAAAAAAAAAAAAAAAAAAAAAAAAAAAAAAAAAAAAAAAAAAAAAAAAAAAAAAAAAAAAAAAAAAAAAAAAAAAAAAAAAAAAAAAAAAAAAAAAAAAAAAAAAAAAAAAAAAAAAAAAAAAAAAAAAAAAAAAAAAAAAAAAAAAAAAAAAAAAAAAAAAAAAAAAAAAAAAAAAAAAAAAAAAAAAAAAAAAAAAAAAAAAAAAAAAAAAAAAAAAAAAAAAAAAAAAAAAAAAAAAAAAAAAAAAAAAAAAAAAAAAAAAAAAAAAAAAAAAAAAAAAAAAAAAAAAAAAAAAAAAAAAAAAAAAAAAAAAAAAAAAAAAAAAAAAAAAAAAAAAAAAAAAAAAAAAAAAAAAAAAAAAAAAAAAAAAAAAAAAAAAAAAAAAAAAAAAAAAAAAAAAAAAAAAAAAAAAAAAAAAAAAAAAAAAAAAAAAAAAAAAAAAAAAAAAAAAAAAAAAAAAAAAAAAAAAAAAAAAAAAAAAAAAAAAAAAAAAAAAAAAAAAAAAAAAAAAAAAAAAAAAAAAAAAAAAAAAAAAAAAAAAAAAAAAAAAAAAAAAAAAAAAAAAAAAAAAAAAAAAAAAAAAAAAAAAAAAAAAAAAAAAAAAAAAAAAAAAAAAAAAAAAAAAAAAAAAAAAAAAAAAAAAAAAAAAAAAAAAAAAAAAAAAAAAAAAAAAAAAAAAAAAAAAAAAAAAAAAAAAAAAAAAAAAAAAAAAAAAAAAAAAAAAAAAAAAAAAAAAAAAAAAAAAAAAAAAAAAAAAAAAAAAAAAAAAAAAAAAAAAAAAAAAAAAAAAAAAAAAAAAAAAAAAAAAAAAAAAAAAAAAAAAAAAAAAAAAAAAAAAAAAAAAAAAAAAAAAAAAAAAAAAAAAAAAAAAAAAAAAAAAAAAAAAAAAAAAAAAAAAAAAAAAAAAAAAAAAAAAAAAAAAAAAAAAAAAAAAAAAAAAAAAAAAAAAAAAAAAAAAAAAAAAAAAAAAAAAAAAAAAAAAAAAAAAAAAAAAAAAAAAAAAAAAAAAAAAAAAAAAAAAAAAAAAAAAAAAAAAAAAAAAAAAAAAAAAAAAAAAAAAAAAAAAAAAAAAAAAAAAAAAAAAAAAAAAAAAAAAAAAAAAAAAAAAAAAAAAAAAAAAAAAAAAAAAAAAAAAAAAAAAAAAAAAAAAAAAAAAAAAAAAAAAAAAAAAAAAAAAAAAAAAAAAAAAAAAAAAAAAAAAAAAAAAAAAAAAAAAAAAAAAAAAAAAAAAAAAAAAAAAAAAAAAAAAAAAAAAAAAAAAAAAAAAAAAAAAAAAAAAAAAAAAAAAAAAAAAAAAAAAAAAAAAAAAAAAAAAAAAAAAAAAAAAAAAAAAAAAAAAAAAAAAAAAAAAAAAAAAAAAAAAAAAAAAAAAAAAAAAAAAAAAAAAAAAAAAAAAAAAAAAAAAAAAAAAAAAAAAAAAAAAAAAAAAAAAAAAAAAAAAAAAAAAAAAAAAAAAAAAAAAAAAAAAAAAAAAAAAAAAAAAAAAAAAAAAAAAAAAAAAAAAAAAAAAAAAAAAAAAAAAAAAAAAAAAAAAAAAAAAAAAAAAAAAAAAAAAAAAAAAAAAAAAAAAAAAAAAAAAAAAAAAAAAAAAAAAAAAAAAAAAAAAAAAAAAAAAAAAAAAAAAAAAAAAAAAAAAAAAAAAAAAAAAAAAAAAAAAAAAAAAAAAAAAAAAAAAAAAAAAAAAAAAAAAAAAAAAAAAAAAAAAAAAAAAAAAAAAAAAAAAAAAAAAAAAAAAAAAAAAAAAAAAAAAAAAAAAAAAAAAAAAAAAAAAAAAAAAAAAAAAAAAAAAAAAAAAAAAAAAAAAAAAAAAAAAAAAAAAAAAAAAAAAAAAAAAAAAAAAAAAAAAAAAAAAAAAAAAAAAAAAAAAAAAAAAAAAAAAAAAAAAAAAAAAAAAAAAAAAAAAAAAAAAAAAAAAAAAAAAAAAAAAAAAAAAAAAAAAAAAAAAAAAAAAAAAAAAAAAAAAAAAAAAAAAAAAAAAAAAAAAAAAAAAAAAAAAAAAAAAAAAAAAAAAAAAAAAAAAAAAAAAAAAAAAAAAAAAAAAAAAAAAAAAAAAAAAAAAAAAAAAAAAAAAAAAAAAAAAAAAAAAAAAAAAAAAAAAAAAAAAAAAAAAAAAAAAAAAAAAAAAAAAAAAAAAAAAAAAAAAAAAAAAAAAAAAAAAAAAAAAAAAAAAAAAAAAAAAAAAAAAAAAAAAAAAAAAAAAAAAAAAAAAAAAAAAAAAAAAAAAAAAAAAAAAAAAAAAAAAAAAAAAAAAAAAAAAAAAAAAAAAAAAAAAAAAAAAAAAAAAAAAAAAAAAAAAAAAAAAAAAAAAAAAAAAAAAAAAAAAAAAAAAAAAAAAAAAAAAAAAAAAAAAAAAAAAAAAAAAAAAAAAAAAAAAAAAAAAAAAAAAAAAAAAAAAAAAAAAAAAAAAAAAAAAAAAAAAAAAAAAAAAAAAAAAAAAAAAAAAAAAAAAAAAAAAAAAAAAAAAAAAAAAAAAAAAAAAAAAAAAAAAAAAAAAAAAAAAAAAAAAAAAAAAAAAAAAAAAAAAAAAAAAAAAAAAAAAAAAAAAAAAAAAAAAAAAAAAAAAAAAAAAAAAAAAAAAAAAAAAAAAAAAAAAAAAAAAAAAAAAAAAAAAAAAAAAAAAAAAAAAAAAAAAAAAAAAAAAAAAAAAAAAAAAAAAAAAAAAAAAAAAAAAAAAAAAAAAAAAAAAAAAAAAAAAAAAAAAAAAAAAAAAAAAAAAAAAAAAAAAAAAAAAAAAAAAAAAAAAAAAAAAAAAAAAAAAAAAAAAAAAAAAAAAAAAAAAAAAAAAAAAAAAAAAAAAAAAAAAAAAAAAAAAAAAAAAAAAAAAAAAAAAAAAAAAAAAAAAAAAAAAAAAAAAAAAAAAAAAAAAAAAAAAAAAAAAAAAAAAAAAAAAAAAAAAAAAAAAAAAAAAAAAAAAAAAAAAAAAAAAAAAAAAAAAAAAAAAAAAAAAAAAAAAAAAAAAAAAAAAAAAAAAAAAAAAAAAAAAAAAAAAAAAAAAAAAAAAAAAAAAAAAAAAAAAAAAAAAAAAAAAAAAAAAAAAAAAAAAAAAAAAAAAAAAAAAAAAAAAAAAAAAAAAAAAAAAAAAAAAAAAAAAAAAAAAAAAAAAAAAAAAAAAAAAAAAAAAAAAAAAAAAAAAAAAAAAAAAAAAAAAAAAAAAAAAAAAAAAAAAAAAAAAAAAAAAAAAAAAAAAAAAAAAAAAAAAAAAAAAAAAAAAAAAAAAAAAAAAAAAAAAAAAAAAAAAAAAAAAAAAAAAAAAAAAAAAAAAAAAAAAAAAAAAAAAAAAAAAAAAAAAAAAAAAAAAAAAAAAAAAAAAAAAAAAAAAAAAAAAAAAAAAAAAAAAAAAAAAAAAAAAAAAAAAAAAAAAAAAAAAAAAAAAAAAAAAAAAAAAAAAAAAAAAAAAAAAAAAAAAAAAAAAAAAAAAAAAAAAAAAAAAAAAAAAAAAAAAAAAAAAAAAAAAAAAAAAAAAAAAAAAAAAAAAAAAAAAAAAAAAAAAAAAAAAAAAAAAAAAAAAAAAAAAAAAAAAAAAAAAAAAAAAAAAAAAAAAAAAAAAAAAAAAAAAAAAAAAAAAAAAAAAAAAAAAAAAAAAAAAAAAAAAAAAAAAAAAAAAAAAAAAAAAAAAAAAAAAAAAAAAAAAAAAAAAAAAAAAAAAAAAAAAAAAAAAAAAAAAAAAAAAAAAAAAAAAAAAAAAAAAAAAAAAAAAAAAAAAAAAAAAAAAAAAAAAAAAAAAAAAAAAAAAAAAAAAAAAAAAAAAAAAAAAAAAAAAAAAAAAAAAAAAAAAAAAAAAAAAAAAAAAAAAAAAAAAAAAAAAAAAAAAAAAAAAAAAAAAAAAAAAAAAAAAAAAAAAAAAAAAAAAAAAAAAAAAAAAAAAAAAAAAAAAAAAAAAAAAAAAAAAAAAAAAAAAAAAAAAAAAAAAAAAAAAAAAAAAAAAAAAAAAAAAAAAAAAAAAAAAAAAAAAAAAAAAAAAAAAAAAAAAAAAAAAAAAAAAAAAAAAAAAAAAAAAAAAAAAAAAAAAAAAAAAAAAAAAAAAAAAAAAAAAAAAAAAAAAAAAAAAAAAAAAAAAAAAAAAAAAAAAAAAAAAAAAAAAAAAAAAAAAAAAAAAAAAAAAAAAAAAAAAAAAAAAAAAAAAAAAAAAAAAAAAAAAAAAAAAAAAAAAAAAAAAAAAAAAAAAAAAAAAAAAAAAAAAAAAAAAAAAAAAAAAAAAAAAAAAAAAAAAAAAAAAAAAAAAAAAAAAAAAAAAAAAAAAAAAAAAAAAAAAAAAAAAAAAAAAAAAAAAAAAAAAAAAAAAAAAAAAAAAAAAAAAAAAAAAAAAAAAAAAAAAAAAAAAAAAAAAAAAAAAAAAAAAAAAAAAAAAAAAAAAAAAAAAAAAAAAAAAAAAAAAAAAAAAAAAAAAAAAAAAAAAAAAAAAAAAAAAAAAAAAAAAAAAAAAAAAAAAAAAAAAAAAAAAAAAAAAAAAAAAAAAAAAAAAAAAAAAAAAAAAAAAAAAAAAAAAAAAAAAAAAAAAAAAAAAAAAAAAAAAAAAAAAAAAAAAAAAAAAAAAAAAAAAAAAAAAAAAAAAAAAAAAAAAAAAAAAAAAAAAAAAAAAAAAAAAAAAAAAAAAAAAAAAAAAAAAAAAAAAAAAAAAAAAAAAAAAAAAAAAAAAAAAAAAAAAAAAAAAAAAAAAAAAAAAAAAAAAAAAAAAAAAAAAAAAAAAAAAAAAAAAAAAAAAAAAAAAAAAAAAAAAAAAAAAAAAAAAAAAAAAAAAAAAAAAAAAAAAAAAAAAAAAAAAAAAAAAAAAAAAAAAAAAAAAAAAAAAAAAAAAAAAAAAAAAAAAAAAAAAAAAAAAAAAAAAAAAAAAAAAAAAAAAAAAAAAAAAAAAAAAAAAAAAAAAAAAAAAAAAAAAAAAAAAAAAAAAAAAAAAAAAAAAAAAAAAAAAAAAAAAAAAAAAAAAAAAAAAAAAAAAAAAAAAAAAAAAAAAAAAAAAAAAAAAAAAAAAAAAAAAAAAAAAAAAAAAAAAAAAAAAAAAAAAAAAAAAAAAAAAAAAAAAAAAAAAAAAAAAAAAAAAAAAAAAAAAAAAAAAAAAAAAAAAAAAAAAAAAAAAAAAAAAAAAAAAAAAAAAAAAAAAAAAAAAAAAAAAAAAAAAAAAAAAAAAAAAAAAAAAAAAAAAAAAAAAAAAAAAAAAAAAAAAAAAAAAAAAAAAAAAAAAAAAAAAAAAAAAAAAAAAAAAAAAAAAAAAAAAAAAAAAAAAAAAAAAAAAAAAAAAAAAAAAAAAAAAAAAAAAAAAAAAAAAAAAAAAAAAAAAAAAAAAAAAAAAAAAAAAAAAAAAAAAAAAAAAAAAAAAAAAAAAAAAAAAAAAAAAAAAAAAAAAAAAAAAAAAAAAAAAAAAAAAAAAAAAAAAAAAAAAAAAAAAAAAAAAAAAAAAAAAAAAAAAAAAAAAAAAAAAAAAAAAAAAAAAAAAAAAAAAAAAAAAAAAAAAAAAAAAAAAAAAAAAAAAAAAAAAAAAAAAAAAAAAAAAAAAAAAAAAAAAAAAAAAAAAAAAAAAAAAAAAAAAAAAAAAAAAAAAAAAAAAAAAAAAAAAAAAAAAAAAAAAAAAAAAAAAAAAAAAAAAAAAAAAAAAAAAAAAAAAAAAAAAAAAAAAAAAAAAAAAAAAAAAAAAAAAAAAAAAAAAAAAAAAAAAAAAAAAAAAAAAAAAAAAAAAAAAAAAAAAAAAAAAAAAAAAAAAAAAAAAAAAAAAAAAAAAAAAAAAAAAAAAAAAAAAAAAAAAAAAAAAAAAAAAAAAAAAAAAAAAAAAAAAAAAAAAAAAAAAAAAAAAAAAAAAAAAAAAAAAAAAAAAAAAAAAAAAAAAAAAAAAAAAAAAAAAAAAAAAAAAAAAAAAAAAAAAAAAAAAAAAAAAAAAAAAAAAAAAAAAAAAAAAAAAAAAAAAAAAAAAAAAAAAAAAAAAAAAAAAAAAAAAAAAAAAAAAAAAAAAAAAAAAAAAAAAAAAAAAAAAAAAAAAAAAAAAAAAAAAAAAAAAAAAAAAAAAAAAAAAAAAAAAAAAAAAAAAAAAAAAAAAAAAAAAAAAAAAAAAAAAAAAAAAAAAAAAAAAAAAAAAAAAAAAAAAAAAAAAAAAAAAAAAAAAAAAAAAAAAAAAAAAAAAAAAAAAAAAAAAAAAAAAAAAAAAAAAAAAAAAAAAAAAAAAAAAAAAAAAAAAAAAAAAAAAAAAAAAAAAAAAAAAAAAAAAAAAAAAAAAAAAAAAAAAAAAAAAAAAAAAAAAAAAAAAAAAAAAAAAAAAAAAAAAAAAAAAAAAAAAAAAAAAAAAAAAAAAAAAAAAAAAAAAAAAAAAAAAAAAAAAAAAAAAAAAAAAAAAAAAAAAAAAAAAAAAAAAAAAAAAAAAAAAAAAAAAAAAAAAAAAAAAAAAAAAAAAAAAAAAAAAAAAAAAAAAAAAAAAAAAAAAAAAAAAAAAAAAAAAAAAAAAAAAAAAAAAAAAAAAAAAAAAAAAAAAAAAAAAAAAAAAAAAAAAAAAAAAAAAAAAAAAAAAAAAAAAAAAAAAAAAAAAAAAAAAAAAAAAAAAAAAAAAAAAAAAAAAAAAAAAAAAAAAAAAAAAAAAAAAAAAAAAAAAAAAAAAAAAAAAAAAAAAAAAAAAAAAAAAAAAAAAAAAAAAAAAAAAAAAAAAAAAAAAAAAAAAAAAAAAAAAAAAAAAAAAAAAAAAAAAAAAAAAAAAAAAAAAAAAAAAAAAAAAAAAAAAAAAAAAAAAAAAAAAAAAAAAAAAAAAAAAAAAAAAAAAAAAAAAAAAAAAAAAAAAAAAAAAAAAAAAAAAAAAAAAAAAAAAAAAAAAAAAAAAAAAAAAAAAAAAAAAAAAAAAAAAAAAAAAAAAAAAAAAAAAAAAAAAAAAAAAAAAAAAAAAAAAAAAAAAAAAAAAAAAAAAAAAAAAAAAAAAAAAAAAAAAAAAAAAAAAAAAAAAAAAAAAAAAAAAAAAAAAAAAAAAAAAAAAAAAAAAAAAAAAAAAAAAAAAAAAAAAAAAAAAAAAAAAAAAAAAAAAAAAAAAAAAAAAAAAAAAAAAAAAAAAAAAAAAAAAAAAAAAAAAAAAAAAAAAAAAAAAAAAAAAAAAAAAAAAAAAAAAAAAAAAAAAAAAAAAAAAAAAAAAAAAAAAAAAAAAAAAAAAAAAAAAAAAAAAAAAAAAAAAAAAAAAAAAAAAAAAAAAAAAAAAAAAAAAAAAAAAAAAAAAAAAAAAAAAAAAAAAAAAAAAAAAAAAAAAAAAAAAAAAAAAAAAAAAAAAAAAAAAAAAAAAAAAAAAAAAAAAAAAAAAAAAAAAAAAAAAAAAAAAAAAAAAAAAAAAAAAAAAAAAAAAAAAAAAAAAAAAAAAAAAAAAAAAAAAAAAAAAAAAAAAAAAAAAAAAAAAAAAAAAAAAAAAAAAAAAAAAAAAAAAAAAAAAAAAAAAAAAAAAAAAAAAAAAAAAAAAAAAAAAAAAAAAAAAAAAAAAAAAAAAAAAAAAAAAAAAAAAAAAAAAAAAAAAAAAAAAAAAAAAAAAAAAAAAAAAAAAAAAAAAAAAAAAAAAAAAAAAAAAAAAAAAAAAAAAAAAAAAAAAAAAAAAAAAAAAAAAAAAAAAAAAAAAAAAAAAAAAAAAAAAAAAAAAAAAAAAAAAAAAAAAAAAAAAAAAAAAAAAAAAAAAAAAAAAAAAAAAAAAAAAAAAAAAAAAAAAAAAAAAAAAAAAAAAAAAAAAAAAAAAAAAAAAAAAAAAAAAAAAAAAAAAAAAAAAAAAAAAAAAAAAAAAAAAAAAAAAAAAAAAAAAAAAAAAAAAAAAAAAAAAAAAAAAAAAAAAAAAAAAAAAAAAAAAAAAAAAAAAAAAAAAAAAAAAAAAAAAAAAAAAAAAAAAAAAAAAAAAAAAAAAAAAAAAAAAAAAAAAAAAAAAAAAAAAAAAAAAAAAAAAAAAAAAAAAAAAAAAAAAAAAAAAAAAAAAAAAAAAAAAAAAAAAAAAAAAAAAAAAAAAAAAAAAAAAAAAAAAAAAAAAAAAAAAAAAAAAAAAAAAAAAAAAAAAAAAAAAAAAAAAAAAAAAAAAAAAAAAAAAAAAAAAAAAAAAAAAAAAAAAAAAAAAAAAAAAAAAAAAAAAAAAAAAAAAAAAAAAAAAAAAAAAAAAAAAAAAAAAAAAAAAAAAAAAAAAAAAAAAAAAAAAAAAAAAAAAAAAAAAAAAAAAAAAAAAAAAAAAAAAAAAAAAAAAAAAAAAAAAAAAAAAAAAAAAAAAAAAAAAAAAAAAAAAAAAAAAAAAAAAAAAAAAAAAAAAAAAAAAAAAAAAAAAAAAAAAAAAAAAAAAAAAAAAAAAAAAAAAAAAAAAAAAAAAAAAAAAAAAAAAAAAAAAAAAAAAAAAAAAAAAAAAAAAAAAAAAAAAAAAAAAAAAAAAAAAAAAAAAAAAAAAAAAAAAAAAAAAAAAAAAAAAAAAAAAAAAAAAAAAAAAAAAAAAAAAAAAAAAAAAAAAAAAAAAAAAAAAAAAAAAAAAAAAAAAAAAAAAAAAAAAAAAAAAAAAAAAAAAAAAAAAAAAAAAAAAAAAAAAAAAAAAAAAAAAAAAAAAAAAAAAAAAAAAAAAAAAAAAAAAAAAAAAAAAAAAAAAAAAAAAAAAAAAAAAAAAAAAAAAAAAAAAAAAAAAAAAAAAAAAAAAAAAAAAAAAAAAAAAAAAAAAAAAAAAAAAAAAAAAAAAAAAAAAAAAAAAAAAAAAAAAAAAAAAAAAAAAAAAAAAAAAAAAAAAAAAAAAAAAAAAAAAAAAAAAAAAAAAAAAAAAAAAAAAAAAAAAAAAAAAAAAAAAAAAAAAAAAAAAAAAAAAAAAAAAAAAAAAAAAAAAAAAAAAAAAAAAAAAAAAAAAAAAAAAAAAAAAAAAAAAAAAAAAAAAAAAAAAAAAAAAAAAAAAAAAAAAAAAAAAAAAAAAAAAAAAAAAAAAAAAAAAAAAAAAAAAAAAAAAAAAAAAAAAAAAAAAAAAAAAAAAAAAAAAAAAAAAAAAAAAAAAAAAAAAAAAAAAAAAAAAAAAAAAAAAAAAAAAAAAAAAAAAAAAAAAAAAAAAAAAAAAAAAAAAAAAAAAAAAAAAAAAAAAAAAAAAAAAAAAAAAAAAAAAAAAAAAAAAAAAAAAAAAAAAAAAAAAAAAAAAAAAAAAAAAAAAAAAAAAAAAAAAAAAAAAAAAAAAAAAAAAAAAAAAAAAAAAAAAAAAAAAAAAAAAAAAAAAAAAAAAAAAAAAAAAAAAAAAAAAAAAAAAAAAAAAAAAAAAAAAAAAAAAAAAAAAAAAAAAAAAAAAAAAAAAAAAAAAAAAAAAAAAAAAAAAAAAAAAAAAAAAAAAAAAAAAAAAAAAAAAAAAAAAAAAAAAAAAAAAAAAAAAAAAAAAAAAAAAAAAAAAAAAAAAAAAAAAAAAAAAAAAAAAAAAAAAAAAAAAAAAAAAAAAAAAAAAAAAAAAAAAAAAAAAAAAAAAAAAAAAAAAAAAAAAAAAAAAAAAAAAAAAAAAAAAAAAAAAAAAAAAAAAAAAAAAAAAAAAAAAAAAAAAAAAAAAAAAAAAAAAAAAAAAAAAAAAAAAAAAAAAAAAAAAAAAAAAAAAAAAAAAAAAAAAAAAAAAAAAAAAAAAAAAAAAAAAAAAAAAAAAAAAAAAAAAAAAAAAAAAAAAAAAAAAAAAAAAAAAAAAAAAAAAAAAAAAAAAAAAAAAAAAAAAAAAAAAAAAAAAAAAAAAAAAAAAAAAAAAAAAAAAAAAAAAAAAAAAAAAAAAAAAAAAAAAAAAAAAAAAAAAAAAAAAAAAAAAAAAAAAAAAAAAAAAAAAAAAAAAAAAAAAAAAAAAAAAAAAAAAAAAAAAAAAAAAAAAAAAAAAAAAAAAAAAAAAAAAAAAAAAAAAAAAAAAAAAAAAAAAAAAAAAAAAAAAAAAAAAAAAAAAAAAAAAAAAAAAAAAAAAAAAAAAAAAAAAAAAAAAAAAAAAAAAAAAAAAAAAAAAAAAAAAAAAAAAAAAAAAAAAAAAAAAAAAAAAAAAAAAAAAAAAAAAAAAAAAAAAAAAAAAAAAAAAAAAAAAAAAAAAAAAAAAAAAAAAAAAAAAAAAAAAAAAAAAAAAAAAAAAAAAAAAAAAAAAAAAAAAAAAAAAAAAAAAAAAAAAAAAAAAAAAAAAAAAAAAAAAAAAAAAAAAAAAAAAAAAAAAAAAAAAAAAAAAAAAAAAAAAAAAAAAAAAAAAAAAAAAAAAAAAAAAAAAAAAAAAAAAAAAAAAAAAAAAAAAAAAAAAAAAAAAAAAAAAAAAAAAAAAAAAAAAAAAAAAAAAAAAAAAAAAAAAAAAAAAAAAAAAAAAAAAAAAAAAAAAAAAAAAAAAAAAAAAAAAAAAAAAAAAAAAAAAAAAAAAAAAAAAAAAAAAAAAAAAAAAAAAAAAAAAAAAAAAAAAAAAAAAAAAAAAAAAAAAAAAAAAAAAAAAAAAAAAAAAAAAAAAAAAAAAAAAAAAAAAAAAAAAAAAAAAAAAAAAAAAAAAAAAAAAAAAAAAAAAAAAAAAAAAAAAAAAAAAAAAAAAAAAAAAAAAAAAAAAAAAAAAAAAAAAAAAAAAAAAAAAAAAAAAAAAAAAAAAAAAAAAAAAAAAAAAAAAAAAAAAAAAAAAAAAAAAAAAAAAAAAAAAAAAAAAAAAAAAAAAAAAAAAAAAAAAAAAAAAAAAAAAAAAAAAAAAAAAAAAAAAAAAAAAAAAAAAAAAAAAAAAAAAAAAAAAAAAAAAAAAAAAAAAAAAAAAAAAAAAAAAAAAAAAAAAAAAAAAAAAAAAAAAAAAAAAAAAAAAAAAAAAAAAAAAAAAAAAAAAAAAAAAAAAAAAAAAAAAAAAAAAAAAAAAAAAAAAAAAAAAAAAAAAAAAAAAAAAAAAAAAAAAAAAAAAAAAAAAAAAAAAAAAAAAAAAAAAAAAAAAAAAAAAAAAAAAAAAAAAAAAAAAAAAAAAAAAAAAAAAAAAAAAAAAAAAAAAAAAAAAAAAAAAAAAAAAAAAAAAAAAAAAAAAAAAAAAAAAAAAAAAAAAAAAAAAAAAAAAAAAAAAAAAAAAAAAAAAAAAAAAAAAAAAAAAAAAAAAAAAAAAAAAAAAAAAAAAAAAAAAAAAAAAAAAAAAAAAAAAAAAAAAAAAAAAAAAAAAAAAAAAAAAAAAAAAAAAAAAAAAAAAAAAAAAAAAAAAAAAAAAAAAAAAAAAAAAAAAAAAAAAAAAAAAAAAAAAAAAAAAAAAAAAAAAAAAAAAAAAAAAAAAAAAAAAAAAAAAAAAAAAAAAAAAAAAAAAAAAAAAAAAAAAAAAAAAAAAAAAAAAAAAAAAAAAAAAAAAAAAAAAAAAAAAAAAAAAAAAAAAAAAAAAAAAAAAAAAAAAAAAAAAAAAAAAAAAAAAAAAAAAAAAAAAAAAAAAAAAAAAAAAAAAAAAAAAAAAAAAAAAAAAAAAAAAAAAAAAAAAAAAAAAAAAAAAAAAAAAAAAAAAAAAAAAAAAAAAAAAAAAAAAAAAAAAAAAAAAAAAAAAAAAAAAAAAAAAAAAAAAAAAAAAAAAAAAAAAAAAAAAAAAAAAAAAAAAAAAAAAAAAAAAAAAAAAAAAAAAAAAAAAAAAAAAAAAAAAAAAAAAAAAAAAAAAAAAAAAAAAAAAAAAAAAAAAAAAAAAAAAAAAAAAAAAAAAAAAAAAAAAAAAAAAAAAAAAAAAAAAAAAAAAAAAAAAAAAAAAAAAAAAAAAAAAAAAAAAAAAAAAAAAAAAAAAAAAAAAAAAAAAAAAAAAAAAAAAAAAAAAAAAAAAAAAAAAAAAAAAAAAAAAAAAAAAAAAAAAAAAAAAAAAAAAAAAAAAAAAAAAAAAAAAAAAAAAAAAAAAAAAAAAAAAAAAAAAAAAAAAAAAAAAAAAAAAAAAAAAAAAAAAAAAAAAAAAAAAAAAAAAAAAAAAAAAAAAAAAAAAAAAAAAAAAAAAAAAAAAAAAAAAAAAAAAAAAAAAAAAAAAAAAAAAAAAAAAAAAAAAAAAAAAAAAAAAAAAAAAAAAAAAAAAAAAAAAAAAAAAAAAAAAAAAAAAAAAAAAAAAAAAAAAAAAAAAAAAAAAAAAAAAAAAAAAAAAAAAAAAAAAAAAAAAAAAAAAAAAAAAAAAAAAAAAAAAAAAAAAAAAAAAAAAAAAAAAAAAAAAAAAAAAAAAAAAAAAAAAAAAAAAAAAAAAAAAAAAAAAAAAAAAAAAAAAAAAAAAAAAAAAAAAAAAAAAAAAAAAAAAAAAAAAAAAAAAAAAAAAAAAAAAAAAAAAAAAAAAAAAAAAAAAAAAAAAAAAAAAAAAAAAAAAAAAAAAAAAAAAAAAAAAAAAAAAAAAAAAAAAAAAAAAAAAAAAAAAAAAAAAAAAAAAAAAAAAAAAAAAAAAAAAAAAAAAAAAAAAAAAAAAAAAAAAAAAAAAAAAAAAAAAAAAAAAAAAAAAAAAAAAAAAAAAAAAAAAAAAAAAAAAAAAAAAAAAAAAAAAAAAAAAAAAAAAAAAAAAAAAAAAAAAAAAAAAAAAAAAAAAAAAAAAAAAAAAAAAAAAAAAAAAAAAAAAAAAAAAAAAAAAAAAAAAAAAAAAAAAAAAAAAAAAAAAAAAAAAAAAAAAAAAAAAAAAAAAAAAAAAAAAAAAAAAAAAAAAAAAAAAAAAAAAAAAAAAAAAAAAAAAAAAAAAAAAAAAAAAAAAAAAAAAAAAAAAAAAAAAAAAAAAAAAAAAAAAAAAAAAAAAAAAAAAAAAAAAAAAAAAAAAAAAAAAAAAAAAAAAAAAAAAAAAAAAAAAAAAAAAAAAAAAAAAAAAAAAAAAAAAAAAAAAAAAAAAAAAAAAAAAAAAAAAAAAAAAAAAAAAAAAAAAAAAAAAAAAAAAAAAAAAAAAAAAAAAAAAAAAAAAAAAAAAAAAAAAAAAAAAAAAAAAAAAAAAAAAAAAAAAAAAAAAAAAAAAAAAAAAAAAAAAAAAAAAAAAAAAAAAAAAAAAAAAAAAAAAAAAAAAAAAAAAAAAAAAAAAAAAAAAAAAAAAAAAAAAAAAAAAAAAAAAAAAAAAAAAAAAAAAAAAAAAAAAAAAAAAAAAAAAAAAAAAAAAAAAAAAAAAAAAAAAAAAAAAAAAAAAAAAAAAAAAAAAAAAAAAAAAAAAAAAAAAAAAAAAAAAAAAAAAAAAAAAAAAAAAAAAAAAAAAAAAAAAAAAAAAAAAAAAAAAAAAAAAAAAAAAAAAAAAAAAAAAAAAAAAAAAAAAAAAAAAAAAAAAAAAAAAAAAAAAAAAAAAAAAAAAAAAAAAAAAAAAAAAAAAAAAAAAAAAAAAAAAAAAAAAAAAAAAAAAAAAAAAAAAAAAAAAAAAAAAAAAAAAAAAAAAAAAAAAAAAAAAAAAAAAAAAAAAAAAAAAAAAAAAAAAAAAAAAAAAAAAAAAAAAAAAAAAAAAAAAAAAAAAAAAAAAAAAAAAAAAAAAAAAAAAAAAAAAAAAAAAAAAAAAAAAAAAAAAAAAAAAAAAAAAAAAAAAAAAAAAAAAAAAAAAAAAAAAAAAAAAAAAAAAAAAAAAAAAAAAAAAAAAAAAAAAAAAAAAAAAAAAAAAAAAAAAAAAAAAAAAAAAAAAAAAAAAAAAAAAAAAAAAAAAAAAAAAAAAAAAAAAAAAAAAAAAAAAAAAAAAAAAAAAAAAAAAAAAAAAAAAAAAAAAAAAAAAAAAAAAAAAAAAAAAAAAAAAAAAAAAAAAAAAAAAAAAAAAAAAAAAAAAAAAAAAAAAAAAAAAAAAAAAAAAAAAAAAAAAAAAAAAAAAAAAAAAAAAAAAAAAAAAAAAAAAAAAAAAAAAAAAAAAAAAAAAAAAAAAAAAAAAAAAAAAAAAAAAAAAAAAAAAAAAAAAAAAAAAAAAAAAAAAAAAAAAAAAAAAAAAAAAAAAAAAAAAAAAAAAAAAAAAAAAAAAAAAAAAAAAAAAAAAAAAAAAAAAAAAAAAAAAAAAAAAAAAAAAAAAAAAAAAAAAAAAAAAAAAAAAAAAAAAAAAAAAAAAAAAAAAAAAAAAAAAAAAAAAAAAAAAAAAAAAAAAAAAAAAAAAAAAAAAAAAAAAAAAAAAAAAAAAAAAAAAAAAAAAAAAAAAAAAAAAAAAAAAAAAAAAAAAAAAAAAAAAAAAAAAAAAAAAAAAAAAAAAAAAAAAAAAAAAAAAAAAAAAAAAAAAAAAAAAAAAAAAAAAAAAAAAAAAAAAAAAAAAAAAAAAAAAAAAAAAAAAAAAAAAAAAAAAAAAAAAAAAAAAAAAAAAAAAAAAAAAAAAAAAAAAAAAAAAAAAAAAAAAAAAAAAAAAAAAAAAAAAAAAAAAAAAAAAAAAAAAAAAAAAAAAAAAAAAAAAAAAAAAAAAAAAAAAAAAAAAAAAAAAAAAAAAAAAAAAAAAAAAAAAAAAAAAAAAAAAAAAAAAAAAAAAAAAAAAAAAAAAAAAAAAAAAAAAAAAAAAAAAAAAAAAAAAAAAAAAAAAAAAAAAAAAAAAAAAAAAAAAAAAAAAAAAAAAAAAAAAAAAAAAAAAAAAAAAAAAAAAAAAAAAAAAAAAAAAAAAAAAAAAAAAAAAAAAAAAAAAAAAAAAAAAAAAAAAAAAAAAAAAAAAAAAAAAAAAAAAAAAAAAAAAAAAAAAAAAAAAAAAAAAAAAAAAAAAAAAAAAAAAAAAAAAAAAAAAAAAAAAAAAAAAAAAAAAAAAAAAAAAAAAAAAAAAAAAAAAAAAAAAAAAAAAAAAAAAAAAAAAAAAAAAAAAAAAAAAAAAAAAAAAAAAAAAAAAAAAAAAAAAAAAAAAAAAAAAAAAAAAAAAAAAAAAAAAAAAAAAAAAAAAAAAAAAAAAAAAAAAAAAAAAAAAAAAAAAAAAAAAAAAAAAAAAAAAAAAAAAAAAAAAAAAAAAAAAAAAAAAAAAAAAAAAAAAAAAAAAAAAAAAAAAAAAAAAAAAAAAAAAAAAAAAAAAAAAAAAAAAAAAAAAAAAAAAAAAAAAAAAAAAAAAAAAAAAAAAAAAAAAAAAAAAAAAAAAAAAAAAAAAAAAAAAAAAAAAAAAAAAAAAAAAAAAAAAAAAAAAAAAAAAAAAAAAAAAAAAAAAAAAAAAAAAAAAAAAAAAAAAAAAAAAAAAAAAAAAA\" type=\"audio/wav\" />\n",
       "                    Your browser does not support the audio element.\n",
       "                </audio>\n",
       "              "
      ],
      "text/plain": [
       "<IPython.lib.display.Audio object>"
      ]
     },
     "metadata": {},
     "output_type": "display_data"
    }
   ],
   "source": [
    "import os, sklearn.cluster\n",
    "from pyAudioAnalysis.MidTermFeatures import mid_feature_extraction as mT\n",
    "from pyAudioAnalysis.audioBasicIO import read_audio_file, stereo_to_mono\n",
    "from pyAudioAnalysis.audioSegmentation import labels_to_segments\n",
    "#from pyAudioAnalysis.audioTrainTest import normalize_features\n",
    "import numpy as np\n",
    "import scipy.io.wavfile as wavfile\n",
    "import IPython\n",
    "\n",
    "# read signal and get normalized segment feature statistics:\n",
    "input_file = os.path.join('E:/Files','Acoustic Data', '0.3Eru_0.85Gul_1.15Gra_2.45Rum_4.1Moo.wav')\n",
    "fs, x = read_audio_file(input_file) #fs采样频率，x波形数据\n",
    "mt_size, mt_step, st_win = 5, 0.5, 0.1\n",
    "[mt_feats, st_feats, _] = mT(x, fs, mt_size * fs, mt_step * fs,\n",
    "                            round(fs * st_win), round(fs * st_win * 0.5))\n",
    "print(mt_feats)\n",
    "#(mt_feats_norm, MEAN, STD) = normalize_features([mt_feats.T])\n",
    "mt_feats = mt_feats.T\n",
    "\n",
    "# perform clustering\n",
    "n_clusters = 5\n",
    "x_clusters = [np.zeros((fs, )) for i in range(n_clusters)]\n",
    "k_means = sklearn.cluster.KMeans(n_clusters=n_clusters)\n",
    "k_means.fit(mt_feats)\n",
    "cls = k_means.labels_\n",
    "\n",
    "# save clusters to concatenated wav files\n",
    "segs, c = labels_to_segments(cls, mt_step)  # convert flags to segment limits\n",
    "for sp in range(n_clusters):                \n",
    "    count_cl = 0\n",
    "    for i in range(len(c)):     # for each segment in each cluster (>2 secs long)\n",
    "        if c[i] == sp and segs[i, 1]-segs[i, 0] > 2:\n",
    "            count_cl += 1\n",
    "            # get the signal and append it to the cluster's signal (followed by some silence)\n",
    "            cur_x = x[int(segs[i, 0] * fs): int(segs[i, 1] * fs)]\n",
    "            x_clusters[sp] = np.append(x_clusters[sp], cur_x)\n",
    "            x_clusters[sp] = np.append(x_clusters[sp], np.zeros((fs,)))\n",
    "    # write cluster's signal into a WAV file\n",
    "    print(f'cluster {sp}: {count_cl} segments {len(x_clusters[sp])/float(fs)} sec total dur')        \n",
    "    wavfile.write(f'cluster_{sp}.wav', fs, np.int16(x_clusters[sp]))\n",
    "    IPython.display.display(IPython.display.Audio(f'cluster_{sp}.wav'))"
   ]
  },
  {
   "cell_type": "code",
   "execution_count": null,
   "metadata": {},
   "outputs": [],
   "source": []
  }
 ],
 "metadata": {
  "kernelspec": {
   "display_name": "Python 3 (ipykernel)",
   "language": "python",
   "name": "python3"
  },
  "language_info": {
   "codemirror_mode": {
    "name": "ipython",
    "version": 3
   },
   "file_extension": ".py",
   "mimetype": "text/x-python",
   "name": "python",
   "nbconvert_exporter": "python",
   "pygments_lexer": "ipython3",
   "version": "3.11.5"
  },
  "orig_nbformat": 4
 },
 "nbformat": 4,
 "nbformat_minor": 2
}
