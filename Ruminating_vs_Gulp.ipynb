{
 "cells": [
  {
   "cell_type": "code",
   "execution_count": 27,
   "metadata": {},
   "outputs": [
    {
     "name": "stdout",
     "output_type": "stream",
     "text": [
      "Analyzing file 1 of 8: E:/Files\\Acoustic Data\\Eructation\\Eructation_1.wav\n",
      "Analyzing file 2 of 8: E:/Files\\Acoustic Data\\Eructation\\Eructation_2.wav\n",
      "Analyzing file 3 of 8: E:/Files\\Acoustic Data\\Eructation\\Eructation_3.wav\n",
      "Analyzing file 4 of 8: E:/Files\\Acoustic Data\\Eructation\\Eructation_4.wav\n",
      "Analyzing file 5 of 8: E:/Files\\Acoustic Data\\Eructation\\Eructation_5.wav\n",
      "Analyzing file 6 of 8: E:/Files\\Acoustic Data\\Eructation\\Eructation_6.wav\n",
      "Analyzing file 7 of 8: E:/Files\\Acoustic Data\\Eructation\\Eructation_7.wav\n",
      "Analyzing file 8 of 8: E:/Files\\Acoustic Data\\Eructation\\Eructation_8.wav\n",
      "Feature extraction complexity ratio: 77.6 x realtime\n",
      "Analyzing file 1 of 18: E:/Files\\Acoustic Data\\Gulp\\Gulp_1.wav\n",
      "Analyzing file 2 of 18: E:/Files\\Acoustic Data\\Gulp\\Gulp_10.wav\n",
      "Analyzing file 3 of 18: E:/Files\\Acoustic Data\\Gulp\\Gulp_11.wav\n",
      "Analyzing file 4 of 18: E:/Files\\Acoustic Data\\Gulp\\Gulp_12.wav\n",
      "Analyzing file 5 of 18: E:/Files\\Acoustic Data\\Gulp\\Gulp_13.wav\n",
      "Analyzing file 6 of 18: E:/Files\\Acoustic Data\\Gulp\\Gulp_14.wav\n",
      "Analyzing file 7 of 18: E:/Files\\Acoustic Data\\Gulp\\Gulp_15.wav\n",
      "Analyzing file 8 of 18: E:/Files\\Acoustic Data\\Gulp\\Gulp_16.wav\n",
      "Analyzing file 9 of 18: E:/Files\\Acoustic Data\\Gulp\\Gulp_17.wav\n",
      "Analyzing file 10 of 18: E:/Files\\Acoustic Data\\Gulp\\Gulp_18.wav\n",
      "Analyzing file 11 of 18: E:/Files\\Acoustic Data\\Gulp\\Gulp_2.wav\n",
      "Analyzing file 12 of 18: E:/Files\\Acoustic Data\\Gulp\\Gulp_3.wav\n",
      "Analyzing file 13 of 18: E:/Files\\Acoustic Data\\Gulp\\Gulp_4.wav\n",
      "Analyzing file 14 of 18: E:/Files\\Acoustic Data\\Gulp\\Gulp_5.wav\n",
      "Analyzing file 15 of 18: E:/Files\\Acoustic Data\\Gulp\\Gulp_6.wav\n",
      "Analyzing file 16 of 18: E:/Files\\Acoustic Data\\Gulp\\Gulp_7.wav\n",
      "Analyzing file 17 of 18: E:/Files\\Acoustic Data\\Gulp\\Gulp_8.wav\n",
      "Analyzing file 18 of 18: E:/Files\\Acoustic Data\\Gulp\\Gulp_9.wav\n",
      "Feature extraction complexity ratio: 88.2 x realtime\n",
      "(8, 138) (18, 138)\n",
      "['zcr_mean', 'energy_mean', 'energy_entropy_mean', 'spectral_centroid_mean', 'spectral_spread_mean', 'spectral_entropy_mean', 'spectral_flux_mean', 'spectral_rolloff_mean', 'mfcc_1_mean', 'mfcc_2_mean', 'mfcc_3_mean', 'mfcc_4_mean', 'mfcc_5_mean', 'mfcc_6_mean', 'mfcc_7_mean', 'mfcc_8_mean', 'mfcc_9_mean', 'mfcc_10_mean', 'mfcc_11_mean', 'mfcc_12_mean', 'mfcc_13_mean', 'chroma_1_mean', 'chroma_2_mean', 'chroma_3_mean', 'chroma_4_mean', 'chroma_5_mean', 'chroma_6_mean', 'chroma_7_mean', 'chroma_8_mean', 'chroma_9_mean', 'chroma_10_mean', 'chroma_11_mean', 'chroma_12_mean', 'chroma_std_mean', 'delta zcr_mean', 'delta energy_mean', 'delta energy_entropy_mean', 'delta spectral_centroid_mean', 'delta spectral_spread_mean', 'delta spectral_entropy_mean', 'delta spectral_flux_mean', 'delta spectral_rolloff_mean', 'delta mfcc_1_mean', 'delta mfcc_2_mean', 'delta mfcc_3_mean', 'delta mfcc_4_mean', 'delta mfcc_5_mean', 'delta mfcc_6_mean', 'delta mfcc_7_mean', 'delta mfcc_8_mean', 'delta mfcc_9_mean', 'delta mfcc_10_mean', 'delta mfcc_11_mean', 'delta mfcc_12_mean', 'delta mfcc_13_mean', 'delta chroma_1_mean', 'delta chroma_2_mean', 'delta chroma_3_mean', 'delta chroma_4_mean', 'delta chroma_5_mean', 'delta chroma_6_mean', 'delta chroma_7_mean', 'delta chroma_8_mean', 'delta chroma_9_mean', 'delta chroma_10_mean', 'delta chroma_11_mean', 'delta chroma_12_mean', 'delta chroma_std_mean', 'zcr_std', 'energy_std', 'energy_entropy_std', 'spectral_centroid_std', 'spectral_spread_std', 'spectral_entropy_std', 'spectral_flux_std', 'spectral_rolloff_std', 'mfcc_1_std', 'mfcc_2_std', 'mfcc_3_std', 'mfcc_4_std', 'mfcc_5_std', 'mfcc_6_std', 'mfcc_7_std', 'mfcc_8_std', 'mfcc_9_std', 'mfcc_10_std', 'mfcc_11_std', 'mfcc_12_std', 'mfcc_13_std', 'chroma_1_std', 'chroma_2_std', 'chroma_3_std', 'chroma_4_std', 'chroma_5_std', 'chroma_6_std', 'chroma_7_std', 'chroma_8_std', 'chroma_9_std', 'chroma_10_std', 'chroma_11_std', 'chroma_12_std', 'chroma_std_std', 'delta zcr_std', 'delta energy_std', 'delta energy_entropy_std', 'delta spectral_centroid_std', 'delta spectral_spread_std', 'delta spectral_entropy_std', 'delta spectral_flux_std', 'delta spectral_rolloff_std', 'delta mfcc_1_std', 'delta mfcc_2_std', 'delta mfcc_3_std', 'delta mfcc_4_std', 'delta mfcc_5_std', 'delta mfcc_6_std', 'delta mfcc_7_std', 'delta mfcc_8_std', 'delta mfcc_9_std', 'delta mfcc_10_std', 'delta mfcc_11_std', 'delta mfcc_12_std', 'delta mfcc_13_std', 'delta chroma_1_std', 'delta chroma_2_std', 'delta chroma_3_std', 'delta chroma_4_std', 'delta chroma_5_std', 'delta chroma_6_std', 'delta chroma_7_std', 'delta chroma_8_std', 'delta chroma_9_std', 'delta chroma_10_std', 'delta chroma_11_std', 'delta chroma_12_std', 'delta chroma_std_std', 'bpm', 'ratio']\n"
     ]
    },
    {
     "data": {
      "application/vnd.plotly.v1+json": {
       "config": {
        "linkText": "Export to plot.ly",
        "plotlyServerURL": "https://plot.ly",
        "showLink": false
       },
       "data": [
        {
         "mode": "markers",
         "name": "Eructation",
         "type": "scatter",
         "x": [
          0.22946354206918174,
          0.17942047389183416,
          0.16427652795077918,
          0.13271903091062714,
          0.18254239043091733,
          0.1784253640903419,
          0.24528799286133932,
          0.21059631223361946
         ],
         "y": [
          2.856884647253466,
          2.7220161311487137,
          2.712815106002886,
          2.7256705675521,
          2.7568299725757135,
          2.738692713220041,
          3.004631665436257,
          2.8686928699247005
         ]
        },
        {
         "mode": "markers",
         "name": "Gulp",
         "type": "scatter",
         "x": [
          0.26659149582734454,
          0.25280593526936795,
          0.2370633853847522,
          0.2582960835894899,
          0.26204626113992247,
          0.25104850498868037,
          0.2437194281522015,
          0.2648841825991267,
          0.25383357906949744,
          0.2603307396746723,
          0.25946416004305006,
          0.2576779059754465,
          0.2464345469398927,
          0.2688592738719318,
          0.256367050423995,
          0.2594260625982285,
          0.26582601273133855,
          0.24609402500510194
         ],
         "y": [
          2.8525859440314876,
          2.9277354933296156,
          2.93372627249222,
          2.8504443502866565,
          2.99145787059822,
          2.912365068987565,
          2.902595571489083,
          2.9565431100186155,
          2.760954854050774,
          2.8547919106283373,
          2.818916247218388,
          2.9160097153704485,
          2.895104531591617,
          2.6468131057932234,
          2.755018110983279,
          2.891270929067268,
          2.99697986235946,
          2.9506887547320795
         ]
        }
       ],
       "layout": {
        "template": {
         "data": {
          "bar": [
           {
            "error_x": {
             "color": "#2a3f5f"
            },
            "error_y": {
             "color": "#2a3f5f"
            },
            "marker": {
             "line": {
              "color": "#E5ECF6",
              "width": 0.5
             },
             "pattern": {
              "fillmode": "overlay",
              "size": 10,
              "solidity": 0.2
             }
            },
            "type": "bar"
           }
          ],
          "barpolar": [
           {
            "marker": {
             "line": {
              "color": "#E5ECF6",
              "width": 0.5
             },
             "pattern": {
              "fillmode": "overlay",
              "size": 10,
              "solidity": 0.2
             }
            },
            "type": "barpolar"
           }
          ],
          "carpet": [
           {
            "aaxis": {
             "endlinecolor": "#2a3f5f",
             "gridcolor": "white",
             "linecolor": "white",
             "minorgridcolor": "white",
             "startlinecolor": "#2a3f5f"
            },
            "baxis": {
             "endlinecolor": "#2a3f5f",
             "gridcolor": "white",
             "linecolor": "white",
             "minorgridcolor": "white",
             "startlinecolor": "#2a3f5f"
            },
            "type": "carpet"
           }
          ],
          "choropleth": [
           {
            "colorbar": {
             "outlinewidth": 0,
             "ticks": ""
            },
            "type": "choropleth"
           }
          ],
          "contour": [
           {
            "colorbar": {
             "outlinewidth": 0,
             "ticks": ""
            },
            "colorscale": [
             [
              0,
              "#0d0887"
             ],
             [
              0.1111111111111111,
              "#46039f"
             ],
             [
              0.2222222222222222,
              "#7201a8"
             ],
             [
              0.3333333333333333,
              "#9c179e"
             ],
             [
              0.4444444444444444,
              "#bd3786"
             ],
             [
              0.5555555555555556,
              "#d8576b"
             ],
             [
              0.6666666666666666,
              "#ed7953"
             ],
             [
              0.7777777777777778,
              "#fb9f3a"
             ],
             [
              0.8888888888888888,
              "#fdca26"
             ],
             [
              1,
              "#f0f921"
             ]
            ],
            "type": "contour"
           }
          ],
          "contourcarpet": [
           {
            "colorbar": {
             "outlinewidth": 0,
             "ticks": ""
            },
            "type": "contourcarpet"
           }
          ],
          "heatmap": [
           {
            "colorbar": {
             "outlinewidth": 0,
             "ticks": ""
            },
            "colorscale": [
             [
              0,
              "#0d0887"
             ],
             [
              0.1111111111111111,
              "#46039f"
             ],
             [
              0.2222222222222222,
              "#7201a8"
             ],
             [
              0.3333333333333333,
              "#9c179e"
             ],
             [
              0.4444444444444444,
              "#bd3786"
             ],
             [
              0.5555555555555556,
              "#d8576b"
             ],
             [
              0.6666666666666666,
              "#ed7953"
             ],
             [
              0.7777777777777778,
              "#fb9f3a"
             ],
             [
              0.8888888888888888,
              "#fdca26"
             ],
             [
              1,
              "#f0f921"
             ]
            ],
            "type": "heatmap"
           }
          ],
          "heatmapgl": [
           {
            "colorbar": {
             "outlinewidth": 0,
             "ticks": ""
            },
            "colorscale": [
             [
              0,
              "#0d0887"
             ],
             [
              0.1111111111111111,
              "#46039f"
             ],
             [
              0.2222222222222222,
              "#7201a8"
             ],
             [
              0.3333333333333333,
              "#9c179e"
             ],
             [
              0.4444444444444444,
              "#bd3786"
             ],
             [
              0.5555555555555556,
              "#d8576b"
             ],
             [
              0.6666666666666666,
              "#ed7953"
             ],
             [
              0.7777777777777778,
              "#fb9f3a"
             ],
             [
              0.8888888888888888,
              "#fdca26"
             ],
             [
              1,
              "#f0f921"
             ]
            ],
            "type": "heatmapgl"
           }
          ],
          "histogram": [
           {
            "marker": {
             "pattern": {
              "fillmode": "overlay",
              "size": 10,
              "solidity": 0.2
             }
            },
            "type": "histogram"
           }
          ],
          "histogram2d": [
           {
            "colorbar": {
             "outlinewidth": 0,
             "ticks": ""
            },
            "colorscale": [
             [
              0,
              "#0d0887"
             ],
             [
              0.1111111111111111,
              "#46039f"
             ],
             [
              0.2222222222222222,
              "#7201a8"
             ],
             [
              0.3333333333333333,
              "#9c179e"
             ],
             [
              0.4444444444444444,
              "#bd3786"
             ],
             [
              0.5555555555555556,
              "#d8576b"
             ],
             [
              0.6666666666666666,
              "#ed7953"
             ],
             [
              0.7777777777777778,
              "#fb9f3a"
             ],
             [
              0.8888888888888888,
              "#fdca26"
             ],
             [
              1,
              "#f0f921"
             ]
            ],
            "type": "histogram2d"
           }
          ],
          "histogram2dcontour": [
           {
            "colorbar": {
             "outlinewidth": 0,
             "ticks": ""
            },
            "colorscale": [
             [
              0,
              "#0d0887"
             ],
             [
              0.1111111111111111,
              "#46039f"
             ],
             [
              0.2222222222222222,
              "#7201a8"
             ],
             [
              0.3333333333333333,
              "#9c179e"
             ],
             [
              0.4444444444444444,
              "#bd3786"
             ],
             [
              0.5555555555555556,
              "#d8576b"
             ],
             [
              0.6666666666666666,
              "#ed7953"
             ],
             [
              0.7777777777777778,
              "#fb9f3a"
             ],
             [
              0.8888888888888888,
              "#fdca26"
             ],
             [
              1,
              "#f0f921"
             ]
            ],
            "type": "histogram2dcontour"
           }
          ],
          "mesh3d": [
           {
            "colorbar": {
             "outlinewidth": 0,
             "ticks": ""
            },
            "type": "mesh3d"
           }
          ],
          "parcoords": [
           {
            "line": {
             "colorbar": {
              "outlinewidth": 0,
              "ticks": ""
             }
            },
            "type": "parcoords"
           }
          ],
          "pie": [
           {
            "automargin": true,
            "type": "pie"
           }
          ],
          "scatter": [
           {
            "fillpattern": {
             "fillmode": "overlay",
             "size": 10,
             "solidity": 0.2
            },
            "type": "scatter"
           }
          ],
          "scatter3d": [
           {
            "line": {
             "colorbar": {
              "outlinewidth": 0,
              "ticks": ""
             }
            },
            "marker": {
             "colorbar": {
              "outlinewidth": 0,
              "ticks": ""
             }
            },
            "type": "scatter3d"
           }
          ],
          "scattercarpet": [
           {
            "marker": {
             "colorbar": {
              "outlinewidth": 0,
              "ticks": ""
             }
            },
            "type": "scattercarpet"
           }
          ],
          "scattergeo": [
           {
            "marker": {
             "colorbar": {
              "outlinewidth": 0,
              "ticks": ""
             }
            },
            "type": "scattergeo"
           }
          ],
          "scattergl": [
           {
            "marker": {
             "colorbar": {
              "outlinewidth": 0,
              "ticks": ""
             }
            },
            "type": "scattergl"
           }
          ],
          "scattermapbox": [
           {
            "marker": {
             "colorbar": {
              "outlinewidth": 0,
              "ticks": ""
             }
            },
            "type": "scattermapbox"
           }
          ],
          "scatterpolar": [
           {
            "marker": {
             "colorbar": {
              "outlinewidth": 0,
              "ticks": ""
             }
            },
            "type": "scatterpolar"
           }
          ],
          "scatterpolargl": [
           {
            "marker": {
             "colorbar": {
              "outlinewidth": 0,
              "ticks": ""
             }
            },
            "type": "scatterpolargl"
           }
          ],
          "scatterternary": [
           {
            "marker": {
             "colorbar": {
              "outlinewidth": 0,
              "ticks": ""
             }
            },
            "type": "scatterternary"
           }
          ],
          "surface": [
           {
            "colorbar": {
             "outlinewidth": 0,
             "ticks": ""
            },
            "colorscale": [
             [
              0,
              "#0d0887"
             ],
             [
              0.1111111111111111,
              "#46039f"
             ],
             [
              0.2222222222222222,
              "#7201a8"
             ],
             [
              0.3333333333333333,
              "#9c179e"
             ],
             [
              0.4444444444444444,
              "#bd3786"
             ],
             [
              0.5555555555555556,
              "#d8576b"
             ],
             [
              0.6666666666666666,
              "#ed7953"
             ],
             [
              0.7777777777777778,
              "#fb9f3a"
             ],
             [
              0.8888888888888888,
              "#fdca26"
             ],
             [
              1,
              "#f0f921"
             ]
            ],
            "type": "surface"
           }
          ],
          "table": [
           {
            "cells": {
             "fill": {
              "color": "#EBF0F8"
             },
             "line": {
              "color": "white"
             }
            },
            "header": {
             "fill": {
              "color": "#C8D4E3"
             },
             "line": {
              "color": "white"
             }
            },
            "type": "table"
           }
          ]
         },
         "layout": {
          "annotationdefaults": {
           "arrowcolor": "#2a3f5f",
           "arrowhead": 0,
           "arrowwidth": 1
          },
          "autotypenumbers": "strict",
          "coloraxis": {
           "colorbar": {
            "outlinewidth": 0,
            "ticks": ""
           }
          },
          "colorscale": {
           "diverging": [
            [
             0,
             "#8e0152"
            ],
            [
             0.1,
             "#c51b7d"
            ],
            [
             0.2,
             "#de77ae"
            ],
            [
             0.3,
             "#f1b6da"
            ],
            [
             0.4,
             "#fde0ef"
            ],
            [
             0.5,
             "#f7f7f7"
            ],
            [
             0.6,
             "#e6f5d0"
            ],
            [
             0.7,
             "#b8e186"
            ],
            [
             0.8,
             "#7fbc41"
            ],
            [
             0.9,
             "#4d9221"
            ],
            [
             1,
             "#276419"
            ]
           ],
           "sequential": [
            [
             0,
             "#0d0887"
            ],
            [
             0.1111111111111111,
             "#46039f"
            ],
            [
             0.2222222222222222,
             "#7201a8"
            ],
            [
             0.3333333333333333,
             "#9c179e"
            ],
            [
             0.4444444444444444,
             "#bd3786"
            ],
            [
             0.5555555555555556,
             "#d8576b"
            ],
            [
             0.6666666666666666,
             "#ed7953"
            ],
            [
             0.7777777777777778,
             "#fb9f3a"
            ],
            [
             0.8888888888888888,
             "#fdca26"
            ],
            [
             1,
             "#f0f921"
            ]
           ],
           "sequentialminus": [
            [
             0,
             "#0d0887"
            ],
            [
             0.1111111111111111,
             "#46039f"
            ],
            [
             0.2222222222222222,
             "#7201a8"
            ],
            [
             0.3333333333333333,
             "#9c179e"
            ],
            [
             0.4444444444444444,
             "#bd3786"
            ],
            [
             0.5555555555555556,
             "#d8576b"
            ],
            [
             0.6666666666666666,
             "#ed7953"
            ],
            [
             0.7777777777777778,
             "#fb9f3a"
            ],
            [
             0.8888888888888888,
             "#fdca26"
            ],
            [
             1,
             "#f0f921"
            ]
           ]
          },
          "colorway": [
           "#636efa",
           "#EF553B",
           "#00cc96",
           "#ab63fa",
           "#FFA15A",
           "#19d3f3",
           "#FF6692",
           "#B6E880",
           "#FF97FF",
           "#FECB52"
          ],
          "font": {
           "color": "#2a3f5f"
          },
          "geo": {
           "bgcolor": "white",
           "lakecolor": "white",
           "landcolor": "#E5ECF6",
           "showlakes": true,
           "showland": true,
           "subunitcolor": "white"
          },
          "hoverlabel": {
           "align": "left"
          },
          "hovermode": "closest",
          "mapbox": {
           "style": "light"
          },
          "paper_bgcolor": "white",
          "plot_bgcolor": "#E5ECF6",
          "polar": {
           "angularaxis": {
            "gridcolor": "white",
            "linecolor": "white",
            "ticks": ""
           },
           "bgcolor": "#E5ECF6",
           "radialaxis": {
            "gridcolor": "white",
            "linecolor": "white",
            "ticks": ""
           }
          },
          "scene": {
           "xaxis": {
            "backgroundcolor": "#E5ECF6",
            "gridcolor": "white",
            "gridwidth": 2,
            "linecolor": "white",
            "showbackground": true,
            "ticks": "",
            "zerolinecolor": "white"
           },
           "yaxis": {
            "backgroundcolor": "#E5ECF6",
            "gridcolor": "white",
            "gridwidth": 2,
            "linecolor": "white",
            "showbackground": true,
            "ticks": "",
            "zerolinecolor": "white"
           },
           "zaxis": {
            "backgroundcolor": "#E5ECF6",
            "gridcolor": "white",
            "gridwidth": 2,
            "linecolor": "white",
            "showbackground": true,
            "ticks": "",
            "zerolinecolor": "white"
           }
          },
          "shapedefaults": {
           "line": {
            "color": "#2a3f5f"
           }
          },
          "ternary": {
           "aaxis": {
            "gridcolor": "white",
            "linecolor": "white",
            "ticks": ""
           },
           "baxis": {
            "gridcolor": "white",
            "linecolor": "white",
            "ticks": ""
           },
           "bgcolor": "#E5ECF6",
           "caxis": {
            "gridcolor": "white",
            "linecolor": "white",
            "ticks": ""
           }
          },
          "title": {
           "x": 0.05
          },
          "xaxis": {
           "automargin": true,
           "gridcolor": "white",
           "linecolor": "white",
           "ticks": "",
           "title": {
            "standoff": 15
           },
           "zerolinecolor": "white",
           "zerolinewidth": 2
          },
          "yaxis": {
           "automargin": true,
           "gridcolor": "white",
           "linecolor": "white",
           "ticks": "",
           "title": {
            "standoff": 15
           },
           "zerolinecolor": "white",
           "zerolinewidth": 2
          }
         }
        },
        "xaxis": {
         "title": {
          "text": "spectral_centroid_mean"
         }
        },
        "yaxis": {
         "title": {
          "text": "energy_entropy_mean"
         }
        }
       }
      }
     },
     "metadata": {},
     "output_type": "display_data"
    },
    {
     "data": {
      "application/vnd.plotly.v1+json": {
       "config": {
        "linkText": "Export to plot.ly",
        "plotlyServerURL": "https://plot.ly",
        "showLink": false
       },
       "data": [
        {
         "mode": "markers",
         "name": "Eructation",
         "type": "scatter",
         "x": [
          0.08121994598511297,
          0.08196649320422457,
          0.0673429506180972,
          0.031969786794897134,
          0.06009705113848449,
          0.08490876753837033,
          0.10260632808554553,
          0.09090310256241352
         ],
         "y": [
          0.005827438266306395,
          0.02012293338511754,
          0.008389329646287141,
          0.020473656851848366,
          0.010600006525069039,
          0.009563124778821446,
          0.004490652819862423,
          0.012969518047505046
         ]
        },
        {
         "mode": "markers",
         "name": "Gulp",
         "type": "scatter",
         "x": [
          0.12774813546172484,
          0.13668401291087542,
          0.14495092549897898,
          0.14298574973102343,
          0.11878334760555957,
          0.12621039457216254,
          0.1293941988889621,
          0.11618177692876328,
          0.1374744746722877,
          0.13499086333550467,
          0.14267834793491863,
          0.14105350986979337,
          0.1417232066398788,
          0.1603539512109435,
          0.13834056703432898,
          0.1465208703862284,
          0.14054849263333555,
          0.143666425136684
         ],
         "y": [
          0.0035155315284722557,
          0.0018390517264979765,
          0.003697871519328008,
          0.0036508214198712244,
          0.005815180381046933,
          0.00482281386309781,
          0.003749913064494924,
          0.004914296233557933,
          0.0032009371270823664,
          0.005518319983312421,
          0.0012968532619403058,
          0.004729061707065198,
          0.007477062842224971,
          0.0016567904014823589,
          0.0026064585259985406,
          0.0036594144151549123,
          0.004626305383719421,
          0.009979056870229255
         ]
        }
       ],
       "layout": {
        "template": {
         "data": {
          "bar": [
           {
            "error_x": {
             "color": "#2a3f5f"
            },
            "error_y": {
             "color": "#2a3f5f"
            },
            "marker": {
             "line": {
              "color": "#E5ECF6",
              "width": 0.5
             },
             "pattern": {
              "fillmode": "overlay",
              "size": 10,
              "solidity": 0.2
             }
            },
            "type": "bar"
           }
          ],
          "barpolar": [
           {
            "marker": {
             "line": {
              "color": "#E5ECF6",
              "width": 0.5
             },
             "pattern": {
              "fillmode": "overlay",
              "size": 10,
              "solidity": 0.2
             }
            },
            "type": "barpolar"
           }
          ],
          "carpet": [
           {
            "aaxis": {
             "endlinecolor": "#2a3f5f",
             "gridcolor": "white",
             "linecolor": "white",
             "minorgridcolor": "white",
             "startlinecolor": "#2a3f5f"
            },
            "baxis": {
             "endlinecolor": "#2a3f5f",
             "gridcolor": "white",
             "linecolor": "white",
             "minorgridcolor": "white",
             "startlinecolor": "#2a3f5f"
            },
            "type": "carpet"
           }
          ],
          "choropleth": [
           {
            "colorbar": {
             "outlinewidth": 0,
             "ticks": ""
            },
            "type": "choropleth"
           }
          ],
          "contour": [
           {
            "colorbar": {
             "outlinewidth": 0,
             "ticks": ""
            },
            "colorscale": [
             [
              0,
              "#0d0887"
             ],
             [
              0.1111111111111111,
              "#46039f"
             ],
             [
              0.2222222222222222,
              "#7201a8"
             ],
             [
              0.3333333333333333,
              "#9c179e"
             ],
             [
              0.4444444444444444,
              "#bd3786"
             ],
             [
              0.5555555555555556,
              "#d8576b"
             ],
             [
              0.6666666666666666,
              "#ed7953"
             ],
             [
              0.7777777777777778,
              "#fb9f3a"
             ],
             [
              0.8888888888888888,
              "#fdca26"
             ],
             [
              1,
              "#f0f921"
             ]
            ],
            "type": "contour"
           }
          ],
          "contourcarpet": [
           {
            "colorbar": {
             "outlinewidth": 0,
             "ticks": ""
            },
            "type": "contourcarpet"
           }
          ],
          "heatmap": [
           {
            "colorbar": {
             "outlinewidth": 0,
             "ticks": ""
            },
            "colorscale": [
             [
              0,
              "#0d0887"
             ],
             [
              0.1111111111111111,
              "#46039f"
             ],
             [
              0.2222222222222222,
              "#7201a8"
             ],
             [
              0.3333333333333333,
              "#9c179e"
             ],
             [
              0.4444444444444444,
              "#bd3786"
             ],
             [
              0.5555555555555556,
              "#d8576b"
             ],
             [
              0.6666666666666666,
              "#ed7953"
             ],
             [
              0.7777777777777778,
              "#fb9f3a"
             ],
             [
              0.8888888888888888,
              "#fdca26"
             ],
             [
              1,
              "#f0f921"
             ]
            ],
            "type": "heatmap"
           }
          ],
          "heatmapgl": [
           {
            "colorbar": {
             "outlinewidth": 0,
             "ticks": ""
            },
            "colorscale": [
             [
              0,
              "#0d0887"
             ],
             [
              0.1111111111111111,
              "#46039f"
             ],
             [
              0.2222222222222222,
              "#7201a8"
             ],
             [
              0.3333333333333333,
              "#9c179e"
             ],
             [
              0.4444444444444444,
              "#bd3786"
             ],
             [
              0.5555555555555556,
              "#d8576b"
             ],
             [
              0.6666666666666666,
              "#ed7953"
             ],
             [
              0.7777777777777778,
              "#fb9f3a"
             ],
             [
              0.8888888888888888,
              "#fdca26"
             ],
             [
              1,
              "#f0f921"
             ]
            ],
            "type": "heatmapgl"
           }
          ],
          "histogram": [
           {
            "marker": {
             "pattern": {
              "fillmode": "overlay",
              "size": 10,
              "solidity": 0.2
             }
            },
            "type": "histogram"
           }
          ],
          "histogram2d": [
           {
            "colorbar": {
             "outlinewidth": 0,
             "ticks": ""
            },
            "colorscale": [
             [
              0,
              "#0d0887"
             ],
             [
              0.1111111111111111,
              "#46039f"
             ],
             [
              0.2222222222222222,
              "#7201a8"
             ],
             [
              0.3333333333333333,
              "#9c179e"
             ],
             [
              0.4444444444444444,
              "#bd3786"
             ],
             [
              0.5555555555555556,
              "#d8576b"
             ],
             [
              0.6666666666666666,
              "#ed7953"
             ],
             [
              0.7777777777777778,
              "#fb9f3a"
             ],
             [
              0.8888888888888888,
              "#fdca26"
             ],
             [
              1,
              "#f0f921"
             ]
            ],
            "type": "histogram2d"
           }
          ],
          "histogram2dcontour": [
           {
            "colorbar": {
             "outlinewidth": 0,
             "ticks": ""
            },
            "colorscale": [
             [
              0,
              "#0d0887"
             ],
             [
              0.1111111111111111,
              "#46039f"
             ],
             [
              0.2222222222222222,
              "#7201a8"
             ],
             [
              0.3333333333333333,
              "#9c179e"
             ],
             [
              0.4444444444444444,
              "#bd3786"
             ],
             [
              0.5555555555555556,
              "#d8576b"
             ],
             [
              0.6666666666666666,
              "#ed7953"
             ],
             [
              0.7777777777777778,
              "#fb9f3a"
             ],
             [
              0.8888888888888888,
              "#fdca26"
             ],
             [
              1,
              "#f0f921"
             ]
            ],
            "type": "histogram2dcontour"
           }
          ],
          "mesh3d": [
           {
            "colorbar": {
             "outlinewidth": 0,
             "ticks": ""
            },
            "type": "mesh3d"
           }
          ],
          "parcoords": [
           {
            "line": {
             "colorbar": {
              "outlinewidth": 0,
              "ticks": ""
             }
            },
            "type": "parcoords"
           }
          ],
          "pie": [
           {
            "automargin": true,
            "type": "pie"
           }
          ],
          "scatter": [
           {
            "fillpattern": {
             "fillmode": "overlay",
             "size": 10,
             "solidity": 0.2
            },
            "type": "scatter"
           }
          ],
          "scatter3d": [
           {
            "line": {
             "colorbar": {
              "outlinewidth": 0,
              "ticks": ""
             }
            },
            "marker": {
             "colorbar": {
              "outlinewidth": 0,
              "ticks": ""
             }
            },
            "type": "scatter3d"
           }
          ],
          "scattercarpet": [
           {
            "marker": {
             "colorbar": {
              "outlinewidth": 0,
              "ticks": ""
             }
            },
            "type": "scattercarpet"
           }
          ],
          "scattergeo": [
           {
            "marker": {
             "colorbar": {
              "outlinewidth": 0,
              "ticks": ""
             }
            },
            "type": "scattergeo"
           }
          ],
          "scattergl": [
           {
            "marker": {
             "colorbar": {
              "outlinewidth": 0,
              "ticks": ""
             }
            },
            "type": "scattergl"
           }
          ],
          "scattermapbox": [
           {
            "marker": {
             "colorbar": {
              "outlinewidth": 0,
              "ticks": ""
             }
            },
            "type": "scattermapbox"
           }
          ],
          "scatterpolar": [
           {
            "marker": {
             "colorbar": {
              "outlinewidth": 0,
              "ticks": ""
             }
            },
            "type": "scatterpolar"
           }
          ],
          "scatterpolargl": [
           {
            "marker": {
             "colorbar": {
              "outlinewidth": 0,
              "ticks": ""
             }
            },
            "type": "scatterpolargl"
           }
          ],
          "scatterternary": [
           {
            "marker": {
             "colorbar": {
              "outlinewidth": 0,
              "ticks": ""
             }
            },
            "type": "scatterternary"
           }
          ],
          "surface": [
           {
            "colorbar": {
             "outlinewidth": 0,
             "ticks": ""
            },
            "colorscale": [
             [
              0,
              "#0d0887"
             ],
             [
              0.1111111111111111,
              "#46039f"
             ],
             [
              0.2222222222222222,
              "#7201a8"
             ],
             [
              0.3333333333333333,
              "#9c179e"
             ],
             [
              0.4444444444444444,
              "#bd3786"
             ],
             [
              0.5555555555555556,
              "#d8576b"
             ],
             [
              0.6666666666666666,
              "#ed7953"
             ],
             [
              0.7777777777777778,
              "#fb9f3a"
             ],
             [
              0.8888888888888888,
              "#fdca26"
             ],
             [
              1,
              "#f0f921"
             ]
            ],
            "type": "surface"
           }
          ],
          "table": [
           {
            "cells": {
             "fill": {
              "color": "#EBF0F8"
             },
             "line": {
              "color": "white"
             }
            },
            "header": {
             "fill": {
              "color": "#C8D4E3"
             },
             "line": {
              "color": "white"
             }
            },
            "type": "table"
           }
          ]
         },
         "layout": {
          "annotationdefaults": {
           "arrowcolor": "#2a3f5f",
           "arrowhead": 0,
           "arrowwidth": 1
          },
          "autotypenumbers": "strict",
          "coloraxis": {
           "colorbar": {
            "outlinewidth": 0,
            "ticks": ""
           }
          },
          "colorscale": {
           "diverging": [
            [
             0,
             "#8e0152"
            ],
            [
             0.1,
             "#c51b7d"
            ],
            [
             0.2,
             "#de77ae"
            ],
            [
             0.3,
             "#f1b6da"
            ],
            [
             0.4,
             "#fde0ef"
            ],
            [
             0.5,
             "#f7f7f7"
            ],
            [
             0.6,
             "#e6f5d0"
            ],
            [
             0.7,
             "#b8e186"
            ],
            [
             0.8,
             "#7fbc41"
            ],
            [
             0.9,
             "#4d9221"
            ],
            [
             1,
             "#276419"
            ]
           ],
           "sequential": [
            [
             0,
             "#0d0887"
            ],
            [
             0.1111111111111111,
             "#46039f"
            ],
            [
             0.2222222222222222,
             "#7201a8"
            ],
            [
             0.3333333333333333,
             "#9c179e"
            ],
            [
             0.4444444444444444,
             "#bd3786"
            ],
            [
             0.5555555555555556,
             "#d8576b"
            ],
            [
             0.6666666666666666,
             "#ed7953"
            ],
            [
             0.7777777777777778,
             "#fb9f3a"
            ],
            [
             0.8888888888888888,
             "#fdca26"
            ],
            [
             1,
             "#f0f921"
            ]
           ],
           "sequentialminus": [
            [
             0,
             "#0d0887"
            ],
            [
             0.1111111111111111,
             "#46039f"
            ],
            [
             0.2222222222222222,
             "#7201a8"
            ],
            [
             0.3333333333333333,
             "#9c179e"
            ],
            [
             0.4444444444444444,
             "#bd3786"
            ],
            [
             0.5555555555555556,
             "#d8576b"
            ],
            [
             0.6666666666666666,
             "#ed7953"
            ],
            [
             0.7777777777777778,
             "#fb9f3a"
            ],
            [
             0.8888888888888888,
             "#fdca26"
            ],
            [
             1,
             "#f0f921"
            ]
           ]
          },
          "colorway": [
           "#636efa",
           "#EF553B",
           "#00cc96",
           "#ab63fa",
           "#FFA15A",
           "#19d3f3",
           "#FF6692",
           "#B6E880",
           "#FF97FF",
           "#FECB52"
          ],
          "font": {
           "color": "#2a3f5f"
          },
          "geo": {
           "bgcolor": "white",
           "lakecolor": "white",
           "landcolor": "#E5ECF6",
           "showlakes": true,
           "showland": true,
           "subunitcolor": "white"
          },
          "hoverlabel": {
           "align": "left"
          },
          "hovermode": "closest",
          "mapbox": {
           "style": "light"
          },
          "paper_bgcolor": "white",
          "plot_bgcolor": "#E5ECF6",
          "polar": {
           "angularaxis": {
            "gridcolor": "white",
            "linecolor": "white",
            "ticks": ""
           },
           "bgcolor": "#E5ECF6",
           "radialaxis": {
            "gridcolor": "white",
            "linecolor": "white",
            "ticks": ""
           }
          },
          "scene": {
           "xaxis": {
            "backgroundcolor": "#E5ECF6",
            "gridcolor": "white",
            "gridwidth": 2,
            "linecolor": "white",
            "showbackground": true,
            "ticks": "",
            "zerolinecolor": "white"
           },
           "yaxis": {
            "backgroundcolor": "#E5ECF6",
            "gridcolor": "white",
            "gridwidth": 2,
            "linecolor": "white",
            "showbackground": true,
            "ticks": "",
            "zerolinecolor": "white"
           },
           "zaxis": {
            "backgroundcolor": "#E5ECF6",
            "gridcolor": "white",
            "gridwidth": 2,
            "linecolor": "white",
            "showbackground": true,
            "ticks": "",
            "zerolinecolor": "white"
           }
          },
          "shapedefaults": {
           "line": {
            "color": "#2a3f5f"
           }
          },
          "ternary": {
           "aaxis": {
            "gridcolor": "white",
            "linecolor": "white",
            "ticks": ""
           },
           "baxis": {
            "gridcolor": "white",
            "linecolor": "white",
            "ticks": ""
           },
           "bgcolor": "#E5ECF6",
           "caxis": {
            "gridcolor": "white",
            "linecolor": "white",
            "ticks": ""
           }
          },
          "title": {
           "x": 0.05
          },
          "xaxis": {
           "automargin": true,
           "gridcolor": "white",
           "linecolor": "white",
           "ticks": "",
           "title": {
            "standoff": 15
           },
           "zerolinecolor": "white",
           "zerolinewidth": 2
          },
          "yaxis": {
           "automargin": true,
           "gridcolor": "white",
           "linecolor": "white",
           "ticks": "",
           "title": {
            "standoff": 15
           },
           "zerolinecolor": "white",
           "zerolinewidth": 2
          }
         }
        },
        "xaxis": {
         "title": {
          "text": "zcr_mean"
         }
        },
        "yaxis": {
         "title": {
          "text": "energy_mean"
         }
        }
       }
      }
     },
     "metadata": {},
     "output_type": "display_data"
    },
    {
     "data": {
      "application/vnd.plotly.v1+json": {
       "config": {
        "linkText": "Export to plot.ly",
        "plotlyServerURL": "https://plot.ly",
        "showLink": false
       },
       "data": [
        {
         "mode": "markers",
         "name": "Eructation",
         "type": "scatter",
         "x": [
          0.08121994598511297,
          0.08196649320422457,
          0.0673429506180972,
          0.031969786794897134,
          0.06009705113848449,
          0.08490876753837033,
          0.10260632808554553,
          0.09090310256241352
         ],
         "y": [
          2.856884647253466,
          2.7220161311487137,
          2.712815106002886,
          2.7256705675521,
          2.7568299725757135,
          2.738692713220041,
          3.004631665436257,
          2.8686928699247005
         ]
        },
        {
         "mode": "markers",
         "name": "Gulp",
         "type": "scatter",
         "x": [
          0.12774813546172484,
          0.13668401291087542,
          0.14495092549897898,
          0.14298574973102343,
          0.11878334760555957,
          0.12621039457216254,
          0.1293941988889621,
          0.11618177692876328,
          0.1374744746722877,
          0.13499086333550467,
          0.14267834793491863,
          0.14105350986979337,
          0.1417232066398788,
          0.1603539512109435,
          0.13834056703432898,
          0.1465208703862284,
          0.14054849263333555,
          0.143666425136684
         ],
         "y": [
          2.8525859440314876,
          2.9277354933296156,
          2.93372627249222,
          2.8504443502866565,
          2.99145787059822,
          2.912365068987565,
          2.902595571489083,
          2.9565431100186155,
          2.760954854050774,
          2.8547919106283373,
          2.818916247218388,
          2.9160097153704485,
          2.895104531591617,
          2.6468131057932234,
          2.755018110983279,
          2.891270929067268,
          2.99697986235946,
          2.9506887547320795
         ]
        }
       ],
       "layout": {
        "template": {
         "data": {
          "bar": [
           {
            "error_x": {
             "color": "#2a3f5f"
            },
            "error_y": {
             "color": "#2a3f5f"
            },
            "marker": {
             "line": {
              "color": "#E5ECF6",
              "width": 0.5
             },
             "pattern": {
              "fillmode": "overlay",
              "size": 10,
              "solidity": 0.2
             }
            },
            "type": "bar"
           }
          ],
          "barpolar": [
           {
            "marker": {
             "line": {
              "color": "#E5ECF6",
              "width": 0.5
             },
             "pattern": {
              "fillmode": "overlay",
              "size": 10,
              "solidity": 0.2
             }
            },
            "type": "barpolar"
           }
          ],
          "carpet": [
           {
            "aaxis": {
             "endlinecolor": "#2a3f5f",
             "gridcolor": "white",
             "linecolor": "white",
             "minorgridcolor": "white",
             "startlinecolor": "#2a3f5f"
            },
            "baxis": {
             "endlinecolor": "#2a3f5f",
             "gridcolor": "white",
             "linecolor": "white",
             "minorgridcolor": "white",
             "startlinecolor": "#2a3f5f"
            },
            "type": "carpet"
           }
          ],
          "choropleth": [
           {
            "colorbar": {
             "outlinewidth": 0,
             "ticks": ""
            },
            "type": "choropleth"
           }
          ],
          "contour": [
           {
            "colorbar": {
             "outlinewidth": 0,
             "ticks": ""
            },
            "colorscale": [
             [
              0,
              "#0d0887"
             ],
             [
              0.1111111111111111,
              "#46039f"
             ],
             [
              0.2222222222222222,
              "#7201a8"
             ],
             [
              0.3333333333333333,
              "#9c179e"
             ],
             [
              0.4444444444444444,
              "#bd3786"
             ],
             [
              0.5555555555555556,
              "#d8576b"
             ],
             [
              0.6666666666666666,
              "#ed7953"
             ],
             [
              0.7777777777777778,
              "#fb9f3a"
             ],
             [
              0.8888888888888888,
              "#fdca26"
             ],
             [
              1,
              "#f0f921"
             ]
            ],
            "type": "contour"
           }
          ],
          "contourcarpet": [
           {
            "colorbar": {
             "outlinewidth": 0,
             "ticks": ""
            },
            "type": "contourcarpet"
           }
          ],
          "heatmap": [
           {
            "colorbar": {
             "outlinewidth": 0,
             "ticks": ""
            },
            "colorscale": [
             [
              0,
              "#0d0887"
             ],
             [
              0.1111111111111111,
              "#46039f"
             ],
             [
              0.2222222222222222,
              "#7201a8"
             ],
             [
              0.3333333333333333,
              "#9c179e"
             ],
             [
              0.4444444444444444,
              "#bd3786"
             ],
             [
              0.5555555555555556,
              "#d8576b"
             ],
             [
              0.6666666666666666,
              "#ed7953"
             ],
             [
              0.7777777777777778,
              "#fb9f3a"
             ],
             [
              0.8888888888888888,
              "#fdca26"
             ],
             [
              1,
              "#f0f921"
             ]
            ],
            "type": "heatmap"
           }
          ],
          "heatmapgl": [
           {
            "colorbar": {
             "outlinewidth": 0,
             "ticks": ""
            },
            "colorscale": [
             [
              0,
              "#0d0887"
             ],
             [
              0.1111111111111111,
              "#46039f"
             ],
             [
              0.2222222222222222,
              "#7201a8"
             ],
             [
              0.3333333333333333,
              "#9c179e"
             ],
             [
              0.4444444444444444,
              "#bd3786"
             ],
             [
              0.5555555555555556,
              "#d8576b"
             ],
             [
              0.6666666666666666,
              "#ed7953"
             ],
             [
              0.7777777777777778,
              "#fb9f3a"
             ],
             [
              0.8888888888888888,
              "#fdca26"
             ],
             [
              1,
              "#f0f921"
             ]
            ],
            "type": "heatmapgl"
           }
          ],
          "histogram": [
           {
            "marker": {
             "pattern": {
              "fillmode": "overlay",
              "size": 10,
              "solidity": 0.2
             }
            },
            "type": "histogram"
           }
          ],
          "histogram2d": [
           {
            "colorbar": {
             "outlinewidth": 0,
             "ticks": ""
            },
            "colorscale": [
             [
              0,
              "#0d0887"
             ],
             [
              0.1111111111111111,
              "#46039f"
             ],
             [
              0.2222222222222222,
              "#7201a8"
             ],
             [
              0.3333333333333333,
              "#9c179e"
             ],
             [
              0.4444444444444444,
              "#bd3786"
             ],
             [
              0.5555555555555556,
              "#d8576b"
             ],
             [
              0.6666666666666666,
              "#ed7953"
             ],
             [
              0.7777777777777778,
              "#fb9f3a"
             ],
             [
              0.8888888888888888,
              "#fdca26"
             ],
             [
              1,
              "#f0f921"
             ]
            ],
            "type": "histogram2d"
           }
          ],
          "histogram2dcontour": [
           {
            "colorbar": {
             "outlinewidth": 0,
             "ticks": ""
            },
            "colorscale": [
             [
              0,
              "#0d0887"
             ],
             [
              0.1111111111111111,
              "#46039f"
             ],
             [
              0.2222222222222222,
              "#7201a8"
             ],
             [
              0.3333333333333333,
              "#9c179e"
             ],
             [
              0.4444444444444444,
              "#bd3786"
             ],
             [
              0.5555555555555556,
              "#d8576b"
             ],
             [
              0.6666666666666666,
              "#ed7953"
             ],
             [
              0.7777777777777778,
              "#fb9f3a"
             ],
             [
              0.8888888888888888,
              "#fdca26"
             ],
             [
              1,
              "#f0f921"
             ]
            ],
            "type": "histogram2dcontour"
           }
          ],
          "mesh3d": [
           {
            "colorbar": {
             "outlinewidth": 0,
             "ticks": ""
            },
            "type": "mesh3d"
           }
          ],
          "parcoords": [
           {
            "line": {
             "colorbar": {
              "outlinewidth": 0,
              "ticks": ""
             }
            },
            "type": "parcoords"
           }
          ],
          "pie": [
           {
            "automargin": true,
            "type": "pie"
           }
          ],
          "scatter": [
           {
            "fillpattern": {
             "fillmode": "overlay",
             "size": 10,
             "solidity": 0.2
            },
            "type": "scatter"
           }
          ],
          "scatter3d": [
           {
            "line": {
             "colorbar": {
              "outlinewidth": 0,
              "ticks": ""
             }
            },
            "marker": {
             "colorbar": {
              "outlinewidth": 0,
              "ticks": ""
             }
            },
            "type": "scatter3d"
           }
          ],
          "scattercarpet": [
           {
            "marker": {
             "colorbar": {
              "outlinewidth": 0,
              "ticks": ""
             }
            },
            "type": "scattercarpet"
           }
          ],
          "scattergeo": [
           {
            "marker": {
             "colorbar": {
              "outlinewidth": 0,
              "ticks": ""
             }
            },
            "type": "scattergeo"
           }
          ],
          "scattergl": [
           {
            "marker": {
             "colorbar": {
              "outlinewidth": 0,
              "ticks": ""
             }
            },
            "type": "scattergl"
           }
          ],
          "scattermapbox": [
           {
            "marker": {
             "colorbar": {
              "outlinewidth": 0,
              "ticks": ""
             }
            },
            "type": "scattermapbox"
           }
          ],
          "scatterpolar": [
           {
            "marker": {
             "colorbar": {
              "outlinewidth": 0,
              "ticks": ""
             }
            },
            "type": "scatterpolar"
           }
          ],
          "scatterpolargl": [
           {
            "marker": {
             "colorbar": {
              "outlinewidth": 0,
              "ticks": ""
             }
            },
            "type": "scatterpolargl"
           }
          ],
          "scatterternary": [
           {
            "marker": {
             "colorbar": {
              "outlinewidth": 0,
              "ticks": ""
             }
            },
            "type": "scatterternary"
           }
          ],
          "surface": [
           {
            "colorbar": {
             "outlinewidth": 0,
             "ticks": ""
            },
            "colorscale": [
             [
              0,
              "#0d0887"
             ],
             [
              0.1111111111111111,
              "#46039f"
             ],
             [
              0.2222222222222222,
              "#7201a8"
             ],
             [
              0.3333333333333333,
              "#9c179e"
             ],
             [
              0.4444444444444444,
              "#bd3786"
             ],
             [
              0.5555555555555556,
              "#d8576b"
             ],
             [
              0.6666666666666666,
              "#ed7953"
             ],
             [
              0.7777777777777778,
              "#fb9f3a"
             ],
             [
              0.8888888888888888,
              "#fdca26"
             ],
             [
              1,
              "#f0f921"
             ]
            ],
            "type": "surface"
           }
          ],
          "table": [
           {
            "cells": {
             "fill": {
              "color": "#EBF0F8"
             },
             "line": {
              "color": "white"
             }
            },
            "header": {
             "fill": {
              "color": "#C8D4E3"
             },
             "line": {
              "color": "white"
             }
            },
            "type": "table"
           }
          ]
         },
         "layout": {
          "annotationdefaults": {
           "arrowcolor": "#2a3f5f",
           "arrowhead": 0,
           "arrowwidth": 1
          },
          "autotypenumbers": "strict",
          "coloraxis": {
           "colorbar": {
            "outlinewidth": 0,
            "ticks": ""
           }
          },
          "colorscale": {
           "diverging": [
            [
             0,
             "#8e0152"
            ],
            [
             0.1,
             "#c51b7d"
            ],
            [
             0.2,
             "#de77ae"
            ],
            [
             0.3,
             "#f1b6da"
            ],
            [
             0.4,
             "#fde0ef"
            ],
            [
             0.5,
             "#f7f7f7"
            ],
            [
             0.6,
             "#e6f5d0"
            ],
            [
             0.7,
             "#b8e186"
            ],
            [
             0.8,
             "#7fbc41"
            ],
            [
             0.9,
             "#4d9221"
            ],
            [
             1,
             "#276419"
            ]
           ],
           "sequential": [
            [
             0,
             "#0d0887"
            ],
            [
             0.1111111111111111,
             "#46039f"
            ],
            [
             0.2222222222222222,
             "#7201a8"
            ],
            [
             0.3333333333333333,
             "#9c179e"
            ],
            [
             0.4444444444444444,
             "#bd3786"
            ],
            [
             0.5555555555555556,
             "#d8576b"
            ],
            [
             0.6666666666666666,
             "#ed7953"
            ],
            [
             0.7777777777777778,
             "#fb9f3a"
            ],
            [
             0.8888888888888888,
             "#fdca26"
            ],
            [
             1,
             "#f0f921"
            ]
           ],
           "sequentialminus": [
            [
             0,
             "#0d0887"
            ],
            [
             0.1111111111111111,
             "#46039f"
            ],
            [
             0.2222222222222222,
             "#7201a8"
            ],
            [
             0.3333333333333333,
             "#9c179e"
            ],
            [
             0.4444444444444444,
             "#bd3786"
            ],
            [
             0.5555555555555556,
             "#d8576b"
            ],
            [
             0.6666666666666666,
             "#ed7953"
            ],
            [
             0.7777777777777778,
             "#fb9f3a"
            ],
            [
             0.8888888888888888,
             "#fdca26"
            ],
            [
             1,
             "#f0f921"
            ]
           ]
          },
          "colorway": [
           "#636efa",
           "#EF553B",
           "#00cc96",
           "#ab63fa",
           "#FFA15A",
           "#19d3f3",
           "#FF6692",
           "#B6E880",
           "#FF97FF",
           "#FECB52"
          ],
          "font": {
           "color": "#2a3f5f"
          },
          "geo": {
           "bgcolor": "white",
           "lakecolor": "white",
           "landcolor": "#E5ECF6",
           "showlakes": true,
           "showland": true,
           "subunitcolor": "white"
          },
          "hoverlabel": {
           "align": "left"
          },
          "hovermode": "closest",
          "mapbox": {
           "style": "light"
          },
          "paper_bgcolor": "white",
          "plot_bgcolor": "#E5ECF6",
          "polar": {
           "angularaxis": {
            "gridcolor": "white",
            "linecolor": "white",
            "ticks": ""
           },
           "bgcolor": "#E5ECF6",
           "radialaxis": {
            "gridcolor": "white",
            "linecolor": "white",
            "ticks": ""
           }
          },
          "scene": {
           "xaxis": {
            "backgroundcolor": "#E5ECF6",
            "gridcolor": "white",
            "gridwidth": 2,
            "linecolor": "white",
            "showbackground": true,
            "ticks": "",
            "zerolinecolor": "white"
           },
           "yaxis": {
            "backgroundcolor": "#E5ECF6",
            "gridcolor": "white",
            "gridwidth": 2,
            "linecolor": "white",
            "showbackground": true,
            "ticks": "",
            "zerolinecolor": "white"
           },
           "zaxis": {
            "backgroundcolor": "#E5ECF6",
            "gridcolor": "white",
            "gridwidth": 2,
            "linecolor": "white",
            "showbackground": true,
            "ticks": "",
            "zerolinecolor": "white"
           }
          },
          "shapedefaults": {
           "line": {
            "color": "#2a3f5f"
           }
          },
          "ternary": {
           "aaxis": {
            "gridcolor": "white",
            "linecolor": "white",
            "ticks": ""
           },
           "baxis": {
            "gridcolor": "white",
            "linecolor": "white",
            "ticks": ""
           },
           "bgcolor": "#E5ECF6",
           "caxis": {
            "gridcolor": "white",
            "linecolor": "white",
            "ticks": ""
           }
          },
          "title": {
           "x": 0.05
          },
          "xaxis": {
           "automargin": true,
           "gridcolor": "white",
           "linecolor": "white",
           "ticks": "",
           "title": {
            "standoff": 15
           },
           "zerolinecolor": "white",
           "zerolinewidth": 2
          },
          "yaxis": {
           "automargin": true,
           "gridcolor": "white",
           "linecolor": "white",
           "ticks": "",
           "title": {
            "standoff": 15
           },
           "zerolinecolor": "white",
           "zerolinewidth": 2
          }
         }
        },
        "xaxis": {
         "title": {
          "text": "zcr_mean"
         }
        },
        "yaxis": {
         "title": {
          "text": "energy_entropy_mean"
         }
        }
       }
      }
     },
     "metadata": {},
     "output_type": "display_data"
    },
    {
     "data": {
      "application/vnd.plotly.v1+json": {
       "config": {
        "linkText": "Export to plot.ly",
        "plotlyServerURL": "https://plot.ly",
        "showLink": false
       },
       "data": [
        {
         "mode": "markers",
         "name": "Eructation",
         "type": "scatter",
         "x": [
          0.08121994598511297,
          0.08196649320422457,
          0.0673429506180972,
          0.031969786794897134,
          0.06009705113848449,
          0.08490876753837033,
          0.10260632808554553,
          0.09090310256241352
         ],
         "y": [
          0.22946354206918174,
          0.17942047389183416,
          0.16427652795077918,
          0.13271903091062714,
          0.18254239043091733,
          0.1784253640903419,
          0.24528799286133932,
          0.21059631223361946
         ]
        },
        {
         "mode": "markers",
         "name": "Gulp",
         "type": "scatter",
         "x": [
          0.12774813546172484,
          0.13668401291087542,
          0.14495092549897898,
          0.14298574973102343,
          0.11878334760555957,
          0.12621039457216254,
          0.1293941988889621,
          0.11618177692876328,
          0.1374744746722877,
          0.13499086333550467,
          0.14267834793491863,
          0.14105350986979337,
          0.1417232066398788,
          0.1603539512109435,
          0.13834056703432898,
          0.1465208703862284,
          0.14054849263333555,
          0.143666425136684
         ],
         "y": [
          0.26659149582734454,
          0.25280593526936795,
          0.2370633853847522,
          0.2582960835894899,
          0.26204626113992247,
          0.25104850498868037,
          0.2437194281522015,
          0.2648841825991267,
          0.25383357906949744,
          0.2603307396746723,
          0.25946416004305006,
          0.2576779059754465,
          0.2464345469398927,
          0.2688592738719318,
          0.256367050423995,
          0.2594260625982285,
          0.26582601273133855,
          0.24609402500510194
         ]
        }
       ],
       "layout": {
        "template": {
         "data": {
          "bar": [
           {
            "error_x": {
             "color": "#2a3f5f"
            },
            "error_y": {
             "color": "#2a3f5f"
            },
            "marker": {
             "line": {
              "color": "#E5ECF6",
              "width": 0.5
             },
             "pattern": {
              "fillmode": "overlay",
              "size": 10,
              "solidity": 0.2
             }
            },
            "type": "bar"
           }
          ],
          "barpolar": [
           {
            "marker": {
             "line": {
              "color": "#E5ECF6",
              "width": 0.5
             },
             "pattern": {
              "fillmode": "overlay",
              "size": 10,
              "solidity": 0.2
             }
            },
            "type": "barpolar"
           }
          ],
          "carpet": [
           {
            "aaxis": {
             "endlinecolor": "#2a3f5f",
             "gridcolor": "white",
             "linecolor": "white",
             "minorgridcolor": "white",
             "startlinecolor": "#2a3f5f"
            },
            "baxis": {
             "endlinecolor": "#2a3f5f",
             "gridcolor": "white",
             "linecolor": "white",
             "minorgridcolor": "white",
             "startlinecolor": "#2a3f5f"
            },
            "type": "carpet"
           }
          ],
          "choropleth": [
           {
            "colorbar": {
             "outlinewidth": 0,
             "ticks": ""
            },
            "type": "choropleth"
           }
          ],
          "contour": [
           {
            "colorbar": {
             "outlinewidth": 0,
             "ticks": ""
            },
            "colorscale": [
             [
              0,
              "#0d0887"
             ],
             [
              0.1111111111111111,
              "#46039f"
             ],
             [
              0.2222222222222222,
              "#7201a8"
             ],
             [
              0.3333333333333333,
              "#9c179e"
             ],
             [
              0.4444444444444444,
              "#bd3786"
             ],
             [
              0.5555555555555556,
              "#d8576b"
             ],
             [
              0.6666666666666666,
              "#ed7953"
             ],
             [
              0.7777777777777778,
              "#fb9f3a"
             ],
             [
              0.8888888888888888,
              "#fdca26"
             ],
             [
              1,
              "#f0f921"
             ]
            ],
            "type": "contour"
           }
          ],
          "contourcarpet": [
           {
            "colorbar": {
             "outlinewidth": 0,
             "ticks": ""
            },
            "type": "contourcarpet"
           }
          ],
          "heatmap": [
           {
            "colorbar": {
             "outlinewidth": 0,
             "ticks": ""
            },
            "colorscale": [
             [
              0,
              "#0d0887"
             ],
             [
              0.1111111111111111,
              "#46039f"
             ],
             [
              0.2222222222222222,
              "#7201a8"
             ],
             [
              0.3333333333333333,
              "#9c179e"
             ],
             [
              0.4444444444444444,
              "#bd3786"
             ],
             [
              0.5555555555555556,
              "#d8576b"
             ],
             [
              0.6666666666666666,
              "#ed7953"
             ],
             [
              0.7777777777777778,
              "#fb9f3a"
             ],
             [
              0.8888888888888888,
              "#fdca26"
             ],
             [
              1,
              "#f0f921"
             ]
            ],
            "type": "heatmap"
           }
          ],
          "heatmapgl": [
           {
            "colorbar": {
             "outlinewidth": 0,
             "ticks": ""
            },
            "colorscale": [
             [
              0,
              "#0d0887"
             ],
             [
              0.1111111111111111,
              "#46039f"
             ],
             [
              0.2222222222222222,
              "#7201a8"
             ],
             [
              0.3333333333333333,
              "#9c179e"
             ],
             [
              0.4444444444444444,
              "#bd3786"
             ],
             [
              0.5555555555555556,
              "#d8576b"
             ],
             [
              0.6666666666666666,
              "#ed7953"
             ],
             [
              0.7777777777777778,
              "#fb9f3a"
             ],
             [
              0.8888888888888888,
              "#fdca26"
             ],
             [
              1,
              "#f0f921"
             ]
            ],
            "type": "heatmapgl"
           }
          ],
          "histogram": [
           {
            "marker": {
             "pattern": {
              "fillmode": "overlay",
              "size": 10,
              "solidity": 0.2
             }
            },
            "type": "histogram"
           }
          ],
          "histogram2d": [
           {
            "colorbar": {
             "outlinewidth": 0,
             "ticks": ""
            },
            "colorscale": [
             [
              0,
              "#0d0887"
             ],
             [
              0.1111111111111111,
              "#46039f"
             ],
             [
              0.2222222222222222,
              "#7201a8"
             ],
             [
              0.3333333333333333,
              "#9c179e"
             ],
             [
              0.4444444444444444,
              "#bd3786"
             ],
             [
              0.5555555555555556,
              "#d8576b"
             ],
             [
              0.6666666666666666,
              "#ed7953"
             ],
             [
              0.7777777777777778,
              "#fb9f3a"
             ],
             [
              0.8888888888888888,
              "#fdca26"
             ],
             [
              1,
              "#f0f921"
             ]
            ],
            "type": "histogram2d"
           }
          ],
          "histogram2dcontour": [
           {
            "colorbar": {
             "outlinewidth": 0,
             "ticks": ""
            },
            "colorscale": [
             [
              0,
              "#0d0887"
             ],
             [
              0.1111111111111111,
              "#46039f"
             ],
             [
              0.2222222222222222,
              "#7201a8"
             ],
             [
              0.3333333333333333,
              "#9c179e"
             ],
             [
              0.4444444444444444,
              "#bd3786"
             ],
             [
              0.5555555555555556,
              "#d8576b"
             ],
             [
              0.6666666666666666,
              "#ed7953"
             ],
             [
              0.7777777777777778,
              "#fb9f3a"
             ],
             [
              0.8888888888888888,
              "#fdca26"
             ],
             [
              1,
              "#f0f921"
             ]
            ],
            "type": "histogram2dcontour"
           }
          ],
          "mesh3d": [
           {
            "colorbar": {
             "outlinewidth": 0,
             "ticks": ""
            },
            "type": "mesh3d"
           }
          ],
          "parcoords": [
           {
            "line": {
             "colorbar": {
              "outlinewidth": 0,
              "ticks": ""
             }
            },
            "type": "parcoords"
           }
          ],
          "pie": [
           {
            "automargin": true,
            "type": "pie"
           }
          ],
          "scatter": [
           {
            "fillpattern": {
             "fillmode": "overlay",
             "size": 10,
             "solidity": 0.2
            },
            "type": "scatter"
           }
          ],
          "scatter3d": [
           {
            "line": {
             "colorbar": {
              "outlinewidth": 0,
              "ticks": ""
             }
            },
            "marker": {
             "colorbar": {
              "outlinewidth": 0,
              "ticks": ""
             }
            },
            "type": "scatter3d"
           }
          ],
          "scattercarpet": [
           {
            "marker": {
             "colorbar": {
              "outlinewidth": 0,
              "ticks": ""
             }
            },
            "type": "scattercarpet"
           }
          ],
          "scattergeo": [
           {
            "marker": {
             "colorbar": {
              "outlinewidth": 0,
              "ticks": ""
             }
            },
            "type": "scattergeo"
           }
          ],
          "scattergl": [
           {
            "marker": {
             "colorbar": {
              "outlinewidth": 0,
              "ticks": ""
             }
            },
            "type": "scattergl"
           }
          ],
          "scattermapbox": [
           {
            "marker": {
             "colorbar": {
              "outlinewidth": 0,
              "ticks": ""
             }
            },
            "type": "scattermapbox"
           }
          ],
          "scatterpolar": [
           {
            "marker": {
             "colorbar": {
              "outlinewidth": 0,
              "ticks": ""
             }
            },
            "type": "scatterpolar"
           }
          ],
          "scatterpolargl": [
           {
            "marker": {
             "colorbar": {
              "outlinewidth": 0,
              "ticks": ""
             }
            },
            "type": "scatterpolargl"
           }
          ],
          "scatterternary": [
           {
            "marker": {
             "colorbar": {
              "outlinewidth": 0,
              "ticks": ""
             }
            },
            "type": "scatterternary"
           }
          ],
          "surface": [
           {
            "colorbar": {
             "outlinewidth": 0,
             "ticks": ""
            },
            "colorscale": [
             [
              0,
              "#0d0887"
             ],
             [
              0.1111111111111111,
              "#46039f"
             ],
             [
              0.2222222222222222,
              "#7201a8"
             ],
             [
              0.3333333333333333,
              "#9c179e"
             ],
             [
              0.4444444444444444,
              "#bd3786"
             ],
             [
              0.5555555555555556,
              "#d8576b"
             ],
             [
              0.6666666666666666,
              "#ed7953"
             ],
             [
              0.7777777777777778,
              "#fb9f3a"
             ],
             [
              0.8888888888888888,
              "#fdca26"
             ],
             [
              1,
              "#f0f921"
             ]
            ],
            "type": "surface"
           }
          ],
          "table": [
           {
            "cells": {
             "fill": {
              "color": "#EBF0F8"
             },
             "line": {
              "color": "white"
             }
            },
            "header": {
             "fill": {
              "color": "#C8D4E3"
             },
             "line": {
              "color": "white"
             }
            },
            "type": "table"
           }
          ]
         },
         "layout": {
          "annotationdefaults": {
           "arrowcolor": "#2a3f5f",
           "arrowhead": 0,
           "arrowwidth": 1
          },
          "autotypenumbers": "strict",
          "coloraxis": {
           "colorbar": {
            "outlinewidth": 0,
            "ticks": ""
           }
          },
          "colorscale": {
           "diverging": [
            [
             0,
             "#8e0152"
            ],
            [
             0.1,
             "#c51b7d"
            ],
            [
             0.2,
             "#de77ae"
            ],
            [
             0.3,
             "#f1b6da"
            ],
            [
             0.4,
             "#fde0ef"
            ],
            [
             0.5,
             "#f7f7f7"
            ],
            [
             0.6,
             "#e6f5d0"
            ],
            [
             0.7,
             "#b8e186"
            ],
            [
             0.8,
             "#7fbc41"
            ],
            [
             0.9,
             "#4d9221"
            ],
            [
             1,
             "#276419"
            ]
           ],
           "sequential": [
            [
             0,
             "#0d0887"
            ],
            [
             0.1111111111111111,
             "#46039f"
            ],
            [
             0.2222222222222222,
             "#7201a8"
            ],
            [
             0.3333333333333333,
             "#9c179e"
            ],
            [
             0.4444444444444444,
             "#bd3786"
            ],
            [
             0.5555555555555556,
             "#d8576b"
            ],
            [
             0.6666666666666666,
             "#ed7953"
            ],
            [
             0.7777777777777778,
             "#fb9f3a"
            ],
            [
             0.8888888888888888,
             "#fdca26"
            ],
            [
             1,
             "#f0f921"
            ]
           ],
           "sequentialminus": [
            [
             0,
             "#0d0887"
            ],
            [
             0.1111111111111111,
             "#46039f"
            ],
            [
             0.2222222222222222,
             "#7201a8"
            ],
            [
             0.3333333333333333,
             "#9c179e"
            ],
            [
             0.4444444444444444,
             "#bd3786"
            ],
            [
             0.5555555555555556,
             "#d8576b"
            ],
            [
             0.6666666666666666,
             "#ed7953"
            ],
            [
             0.7777777777777778,
             "#fb9f3a"
            ],
            [
             0.8888888888888888,
             "#fdca26"
            ],
            [
             1,
             "#f0f921"
            ]
           ]
          },
          "colorway": [
           "#636efa",
           "#EF553B",
           "#00cc96",
           "#ab63fa",
           "#FFA15A",
           "#19d3f3",
           "#FF6692",
           "#B6E880",
           "#FF97FF",
           "#FECB52"
          ],
          "font": {
           "color": "#2a3f5f"
          },
          "geo": {
           "bgcolor": "white",
           "lakecolor": "white",
           "landcolor": "#E5ECF6",
           "showlakes": true,
           "showland": true,
           "subunitcolor": "white"
          },
          "hoverlabel": {
           "align": "left"
          },
          "hovermode": "closest",
          "mapbox": {
           "style": "light"
          },
          "paper_bgcolor": "white",
          "plot_bgcolor": "#E5ECF6",
          "polar": {
           "angularaxis": {
            "gridcolor": "white",
            "linecolor": "white",
            "ticks": ""
           },
           "bgcolor": "#E5ECF6",
           "radialaxis": {
            "gridcolor": "white",
            "linecolor": "white",
            "ticks": ""
           }
          },
          "scene": {
           "xaxis": {
            "backgroundcolor": "#E5ECF6",
            "gridcolor": "white",
            "gridwidth": 2,
            "linecolor": "white",
            "showbackground": true,
            "ticks": "",
            "zerolinecolor": "white"
           },
           "yaxis": {
            "backgroundcolor": "#E5ECF6",
            "gridcolor": "white",
            "gridwidth": 2,
            "linecolor": "white",
            "showbackground": true,
            "ticks": "",
            "zerolinecolor": "white"
           },
           "zaxis": {
            "backgroundcolor": "#E5ECF6",
            "gridcolor": "white",
            "gridwidth": 2,
            "linecolor": "white",
            "showbackground": true,
            "ticks": "",
            "zerolinecolor": "white"
           }
          },
          "shapedefaults": {
           "line": {
            "color": "#2a3f5f"
           }
          },
          "ternary": {
           "aaxis": {
            "gridcolor": "white",
            "linecolor": "white",
            "ticks": ""
           },
           "baxis": {
            "gridcolor": "white",
            "linecolor": "white",
            "ticks": ""
           },
           "bgcolor": "#E5ECF6",
           "caxis": {
            "gridcolor": "white",
            "linecolor": "white",
            "ticks": ""
           }
          },
          "title": {
           "x": 0.05
          },
          "xaxis": {
           "automargin": true,
           "gridcolor": "white",
           "linecolor": "white",
           "ticks": "",
           "title": {
            "standoff": 15
           },
           "zerolinecolor": "white",
           "zerolinewidth": 2
          },
          "yaxis": {
           "automargin": true,
           "gridcolor": "white",
           "linecolor": "white",
           "ticks": "",
           "title": {
            "standoff": 15
           },
           "zerolinecolor": "white",
           "zerolinewidth": 2
          }
         }
        },
        "xaxis": {
         "title": {
          "text": "zcr_mean"
         }
        },
        "yaxis": {
         "title": {
          "text": "spectral_centroid_mean"
         }
        }
       }
      }
     },
     "metadata": {},
     "output_type": "display_data"
    }
   ],
   "source": [
    "from pyAudioAnalysis import MidTermFeatures as aF\n",
    "import os\n",
    "import numpy as np\n",
    "import plotly.graph_objs as go \n",
    "import plotly\n",
    "audio_dirs = [os.path.join('E:/Files','Acoustic Data', 'Eructation'), os.path.join('E:/Files','Acoustic Data', 'Gulp')] \n",
    "class_names = [os.path.basename(d) for d in audio_dirs] \n",
    "#print(class_names)\n",
    "m_win, m_step, s_win, s_step = 1, 1, 0.1, 0.05 \n",
    "\n",
    "# segment-level feature extraction:\n",
    "features = [] \n",
    "\n",
    "for d in audio_dirs: # get feature matrix for each directory (class) \n",
    "    f, files, fn = aF.directory_feature_extraction(d, m_win, m_step, \n",
    "                                                   s_win, s_step) \n",
    "    \n",
    "    features.append(f)\n",
    "\n",
    "#print(len(features))\n",
    "print(features[0].shape, features[1].shape)\n",
    "print(fn)\n",
    "\n",
    "# select 2 features and create feature matrices for the two classes:\n",
    "f1 = np.array([features[0][:, fn.index('spectral_centroid_mean')],#spectral_centroid_mean表示频谱中心的均值\n",
    "               features[0][:, fn.index('energy_entropy_mean')]])#energy_entropy_mean表示能量熵的均值\n",
    "f2 = np.array([features[1][:, fn.index('spectral_centroid_mean')],\n",
    "               features[1][:, fn.index('energy_entropy_mean')]])\n",
    "\n",
    "plots = [go.Scatter(x=f1[0, :],  y=f1[1, :], \n",
    "                    name=class_names[0], mode='markers'),\n",
    "         go.Scatter(x=f2[0, :], y=f2[1, :], \n",
    "                    name=class_names[1], mode='markers')]\n",
    "mylayout = go.Layout(xaxis=dict(title=\"spectral_centroid_mean\"),\n",
    "                     yaxis=dict(title=\"energy_entropy_mean\"))\n",
    "plotly.offline.iplot(go.Figure(data=plots, layout=mylayout))\n",
    "\n",
    "###\n",
    "f3 = np.array([features[0][:, fn.index('zcr_mean')],\n",
    "               features[0][:, fn.index('energy_mean')]])\n",
    "f4 = np.array([features[1][:, fn.index('zcr_mean')],\n",
    "               features[1][:, fn.index('energy_mean')]])\n",
    "\n",
    "plots = [go.Scatter(x=f3[0, :],  y=f3[1, :], \n",
    "                    name=class_names[0], mode='markers'),\n",
    "         go.Scatter(x=f4[0, :], y=f4[1, :], \n",
    "                    name=class_names[1], mode='markers')]\n",
    "mylayout = go.Layout(xaxis=dict(title=\"zcr_mean\"),\n",
    "                     yaxis=dict(title=\"energy_mean\"))\n",
    "plotly.offline.iplot(go.Figure(data=plots, layout=mylayout))\n",
    "\n",
    "###\n",
    "f5 = np.array([features[0][:, fn.index('zcr_mean')],\n",
    "               features[0][:, fn.index('energy_entropy_mean')]])\n",
    "f6 = np.array([features[1][:, fn.index('zcr_mean')],\n",
    "               features[1][:, fn.index('energy_entropy_mean')]])\n",
    "\n",
    "plots = [go.Scatter(x=f5[0, :],  y=f5[1, :], \n",
    "                    name=class_names[0], mode='markers'),\n",
    "         go.Scatter(x=f6[0, :], y=f6[1, :], \n",
    "                    name=class_names[1], mode='markers')]\n",
    "mylayout = go.Layout(xaxis=dict(title=\"zcr_mean\"),\n",
    "                     yaxis=dict(title=\"energy_entropy_mean\"))\n",
    "plotly.offline.iplot(go.Figure(data=plots, layout=mylayout))\n",
    "\n",
    "###\n",
    "f7 = np.array([features[0][:, fn.index('zcr_mean')],\n",
    "               features[0][:, fn.index('spectral_centroid_mean')]])\n",
    "f8 = np.array([features[1][:, fn.index('zcr_mean')],\n",
    "               features[1][:, fn.index('spectral_centroid_mean')]])\n",
    "\n",
    "plots = [go.Scatter(x=f7[0, :],  y=f7[1, :], \n",
    "                    name=class_names[0], mode='markers'),\n",
    "         go.Scatter(x=f8[0, :], y=f8[1, :], \n",
    "                    name=class_names[1], mode='markers')]\n",
    "mylayout = go.Layout(xaxis=dict(title=\"zcr_mean\"),\n",
    "                     yaxis=dict(title=\"spectral_centroid_mean\"))\n",
    "plotly.offline.iplot(go.Figure(data=plots, layout=mylayout))"
   ]
  },
  {
   "cell_type": "code",
   "execution_count": 62,
   "metadata": {},
   "outputs": [
    {
     "name": "stdout",
     "output_type": "stream",
     "text": [
      "Analyzing file 1 of 26: E:/Files\\Acoustic Data\\Ruminating_pure\\Ruminating_1.wav\n",
      "Analyzing file 2 of 26: E:/Files\\Acoustic Data\\Ruminating_pure\\Ruminating_10.wav\n",
      "Analyzing file 3 of 26: E:/Files\\Acoustic Data\\Ruminating_pure\\Ruminating_11.wav\n",
      "Analyzing file 4 of 26: E:/Files\\Acoustic Data\\Ruminating_pure\\Ruminating_12.wav\n",
      "Analyzing file 5 of 26: E:/Files\\Acoustic Data\\Ruminating_pure\\Ruminating_13.wav\n",
      "Analyzing file 6 of 26: E:/Files\\Acoustic Data\\Ruminating_pure\\Ruminating_14.wav\n",
      "Analyzing file 7 of 26: E:/Files\\Acoustic Data\\Ruminating_pure\\Ruminating_15.wav\n",
      "Analyzing file 8 of 26: E:/Files\\Acoustic Data\\Ruminating_pure\\Ruminating_16.wav\n",
      "Analyzing file 9 of 26: E:/Files\\Acoustic Data\\Ruminating_pure\\Ruminating_17.wav\n",
      "Analyzing file 10 of 26: E:/Files\\Acoustic Data\\Ruminating_pure\\Ruminating_18.wav\n",
      "Analyzing file 11 of 26: E:/Files\\Acoustic Data\\Ruminating_pure\\Ruminating_19.wav\n",
      "Analyzing file 12 of 26: E:/Files\\Acoustic Data\\Ruminating_pure\\Ruminating_2.wav\n",
      "Analyzing file 13 of 26: E:/Files\\Acoustic Data\\Ruminating_pure\\Ruminating_20.wav\n",
      "Analyzing file 14 of 26: E:/Files\\Acoustic Data\\Ruminating_pure\\Ruminating_21.wav\n",
      "Analyzing file 15 of 26: E:/Files\\Acoustic Data\\Ruminating_pure\\Ruminating_22.wav\n",
      "Analyzing file 16 of 26: E:/Files\\Acoustic Data\\Ruminating_pure\\Ruminating_23.wav\n"
     ]
    },
    {
     "name": "stderr",
     "output_type": "stream",
     "text": [
      "e:\\Python\\Lib\\site-packages\\pyAudioAnalysis\\audioBasicIO.py:99: WavFileWarning:\n",
      "\n",
      "Chunk (non-data) not understood, skipping it.\n",
      "\n"
     ]
    },
    {
     "name": "stdout",
     "output_type": "stream",
     "text": [
      "Analyzing file 17 of 26: E:/Files\\Acoustic Data\\Ruminating_pure\\Ruminating_24.wav\n",
      "Analyzing file 18 of 26: E:/Files\\Acoustic Data\\Ruminating_pure\\Ruminating_25.wav\n",
      "Analyzing file 19 of 26: E:/Files\\Acoustic Data\\Ruminating_pure\\Ruminating_26.wav\n",
      "Analyzing file 20 of 26: E:/Files\\Acoustic Data\\Ruminating_pure\\Ruminating_3.wav\n",
      "Analyzing file 21 of 26: E:/Files\\Acoustic Data\\Ruminating_pure\\Ruminating_4.wav\n",
      "Analyzing file 22 of 26: E:/Files\\Acoustic Data\\Ruminating_pure\\Ruminating_5.wav\n",
      "Analyzing file 23 of 26: E:/Files\\Acoustic Data\\Ruminating_pure\\Ruminating_6.wav\n",
      "Analyzing file 24 of 26: E:/Files\\Acoustic Data\\Ruminating_pure\\Ruminating_7.wav\n",
      "Analyzing file 25 of 26: E:/Files\\Acoustic Data\\Ruminating_pure\\Ruminating_8.wav\n",
      "Analyzing file 26 of 26: E:/Files\\Acoustic Data\\Ruminating_pure\\Ruminating_9.wav\n",
      "Feature extraction complexity ratio: 77.6 x realtime\n",
      "Analyzing file 1 of 18: E:/Files\\Acoustic Data\\Gulp_pure\\Gulp_1.wav\n",
      "Analyzing file 2 of 18: E:/Files\\Acoustic Data\\Gulp_pure\\Gulp_10.wav\n",
      "Analyzing file 3 of 18: E:/Files\\Acoustic Data\\Gulp_pure\\Gulp_11.wav\n",
      "Analyzing file 4 of 18: E:/Files\\Acoustic Data\\Gulp_pure\\Gulp_12.wav\n",
      "Analyzing file 5 of 18: E:/Files\\Acoustic Data\\Gulp_pure\\Gulp_13.wav\n",
      "Analyzing file 6 of 18: E:/Files\\Acoustic Data\\Gulp_pure\\Gulp_14.wav\n",
      "Analyzing file 7 of 18: E:/Files\\Acoustic Data\\Gulp_pure\\Gulp_15.wav\n",
      "Analyzing file 8 of 18: E:/Files\\Acoustic Data\\Gulp_pure\\Gulp_16.wav\n",
      "Analyzing file 9 of 18: E:/Files\\Acoustic Data\\Gulp_pure\\Gulp_17.wav\n",
      "Analyzing file 10 of 18: E:/Files\\Acoustic Data\\Gulp_pure\\Gulp_18.wav\n",
      "Analyzing file 11 of 18: E:/Files\\Acoustic Data\\Gulp_pure\\Gulp_2.wav\n",
      "Analyzing file 12 of 18: E:/Files\\Acoustic Data\\Gulp_pure\\Gulp_3.wav\n",
      "Analyzing file 13 of 18: E:/Files\\Acoustic Data\\Gulp_pure\\Gulp_4.wav\n",
      "Analyzing file 14 of 18: E:/Files\\Acoustic Data\\Gulp_pure\\Gulp_5.wav\n",
      "Analyzing file 15 of 18: E:/Files\\Acoustic Data\\Gulp_pure\\Gulp_6.wav\n",
      "Analyzing file 16 of 18: E:/Files\\Acoustic Data\\Gulp_pure\\Gulp_7.wav\n",
      "Analyzing file 17 of 18: E:/Files\\Acoustic Data\\Gulp_pure\\Gulp_8.wav\n",
      "Analyzing file 18 of 18: E:/Files\\Acoustic Data\\Gulp_pure\\Gulp_9.wav\n",
      "Feature extraction complexity ratio: 87.5 x realtime\n",
      "Analyzing file 1 of 20: E:/Files\\Acoustic Data\\Breath\\Breath_1.wav\n",
      "Analyzing file 2 of 20: E:/Files\\Acoustic Data\\Breath\\Breath_10.wav\n",
      "Analyzing file 3 of 20: E:/Files\\Acoustic Data\\Breath\\Breath_11.wav\n",
      "Analyzing file 4 of 20: E:/Files\\Acoustic Data\\Breath\\Breath_12.wav\n",
      "Analyzing file 5 of 20: E:/Files\\Acoustic Data\\Breath\\Breath_13.wav\n",
      "Analyzing file 6 of 20: E:/Files\\Acoustic Data\\Breath\\Breath_14.wav\n",
      "Analyzing file 7 of 20: E:/Files\\Acoustic Data\\Breath\\Breath_15.wav\n",
      "Analyzing file 8 of 20: E:/Files\\Acoustic Data\\Breath\\Breath_16.wav\n",
      "Analyzing file 9 of 20: E:/Files\\Acoustic Data\\Breath\\Breath_17.wav\n",
      "Analyzing file 10 of 20: E:/Files\\Acoustic Data\\Breath\\Breath_18.wav\n",
      "Analyzing file 11 of 20: E:/Files\\Acoustic Data\\Breath\\Breath_19.wav\n",
      "Analyzing file 12 of 20: E:/Files\\Acoustic Data\\Breath\\Breath_2.wav\n",
      "Analyzing file 13 of 20: E:/Files\\Acoustic Data\\Breath\\Breath_20.wav\n",
      "Analyzing file 14 of 20: E:/Files\\Acoustic Data\\Breath\\Breath_3.wav\n",
      "Analyzing file 15 of 20: E:/Files\\Acoustic Data\\Breath\\Breath_4.wav\n",
      "Analyzing file 16 of 20: E:/Files\\Acoustic Data\\Breath\\Breath_5.wav\n",
      "Analyzing file 17 of 20: E:/Files\\Acoustic Data\\Breath\\Breath_6.wav\n",
      "Analyzing file 18 of 20: E:/Files\\Acoustic Data\\Breath\\Breath_7.wav\n",
      "Analyzing file 19 of 20: E:/Files\\Acoustic Data\\Breath\\Breath_8.wav\n",
      "Analyzing file 20 of 20: E:/Files\\Acoustic Data\\Breath\\Breath_9.wav\n",
      "Feature extraction complexity ratio: 85.7 x realtime\n",
      "(26, 138) (18, 138)\n",
      "['zcr_mean', 'energy_mean', 'energy_entropy_mean', 'spectral_centroid_mean', 'spectral_spread_mean', 'spectral_entropy_mean', 'spectral_flux_mean', 'spectral_rolloff_mean', 'mfcc_1_mean', 'mfcc_2_mean', 'mfcc_3_mean', 'mfcc_4_mean', 'mfcc_5_mean', 'mfcc_6_mean', 'mfcc_7_mean', 'mfcc_8_mean', 'mfcc_9_mean', 'mfcc_10_mean', 'mfcc_11_mean', 'mfcc_12_mean', 'mfcc_13_mean', 'chroma_1_mean', 'chroma_2_mean', 'chroma_3_mean', 'chroma_4_mean', 'chroma_5_mean', 'chroma_6_mean', 'chroma_7_mean', 'chroma_8_mean', 'chroma_9_mean', 'chroma_10_mean', 'chroma_11_mean', 'chroma_12_mean', 'chroma_std_mean', 'delta zcr_mean', 'delta energy_mean', 'delta energy_entropy_mean', 'delta spectral_centroid_mean', 'delta spectral_spread_mean', 'delta spectral_entropy_mean', 'delta spectral_flux_mean', 'delta spectral_rolloff_mean', 'delta mfcc_1_mean', 'delta mfcc_2_mean', 'delta mfcc_3_mean', 'delta mfcc_4_mean', 'delta mfcc_5_mean', 'delta mfcc_6_mean', 'delta mfcc_7_mean', 'delta mfcc_8_mean', 'delta mfcc_9_mean', 'delta mfcc_10_mean', 'delta mfcc_11_mean', 'delta mfcc_12_mean', 'delta mfcc_13_mean', 'delta chroma_1_mean', 'delta chroma_2_mean', 'delta chroma_3_mean', 'delta chroma_4_mean', 'delta chroma_5_mean', 'delta chroma_6_mean', 'delta chroma_7_mean', 'delta chroma_8_mean', 'delta chroma_9_mean', 'delta chroma_10_mean', 'delta chroma_11_mean', 'delta chroma_12_mean', 'delta chroma_std_mean', 'zcr_std', 'energy_std', 'energy_entropy_std', 'spectral_centroid_std', 'spectral_spread_std', 'spectral_entropy_std', 'spectral_flux_std', 'spectral_rolloff_std', 'mfcc_1_std', 'mfcc_2_std', 'mfcc_3_std', 'mfcc_4_std', 'mfcc_5_std', 'mfcc_6_std', 'mfcc_7_std', 'mfcc_8_std', 'mfcc_9_std', 'mfcc_10_std', 'mfcc_11_std', 'mfcc_12_std', 'mfcc_13_std', 'chroma_1_std', 'chroma_2_std', 'chroma_3_std', 'chroma_4_std', 'chroma_5_std', 'chroma_6_std', 'chroma_7_std', 'chroma_8_std', 'chroma_9_std', 'chroma_10_std', 'chroma_11_std', 'chroma_12_std', 'chroma_std_std', 'delta zcr_std', 'delta energy_std', 'delta energy_entropy_std', 'delta spectral_centroid_std', 'delta spectral_spread_std', 'delta spectral_entropy_std', 'delta spectral_flux_std', 'delta spectral_rolloff_std', 'delta mfcc_1_std', 'delta mfcc_2_std', 'delta mfcc_3_std', 'delta mfcc_4_std', 'delta mfcc_5_std', 'delta mfcc_6_std', 'delta mfcc_7_std', 'delta mfcc_8_std', 'delta mfcc_9_std', 'delta mfcc_10_std', 'delta mfcc_11_std', 'delta mfcc_12_std', 'delta mfcc_13_std', 'delta chroma_1_std', 'delta chroma_2_std', 'delta chroma_3_std', 'delta chroma_4_std', 'delta chroma_5_std', 'delta chroma_6_std', 'delta chroma_7_std', 'delta chroma_8_std', 'delta chroma_9_std', 'delta chroma_10_std', 'delta chroma_11_std', 'delta chroma_12_std', 'delta chroma_std_std', 'bpm', 'ratio']\n"
     ]
    },
    {
     "data": {
      "application/vnd.plotly.v1+json": {
       "config": {
        "linkText": "Export to plot.ly",
        "plotlyServerURL": "https://plot.ly",
        "showLink": false
       },
       "data": [
        {
         "mode": "markers",
         "name": "Ruminating_pure",
         "type": "scatter",
         "x": [
          0.2459210246155174,
          0.2349812693103285,
          0.22540479548159642,
          0.2157445925500302,
          0.21473695102917983,
          0.2056544254821466,
          0.23713511118278507,
          0.24039167409610246,
          0.24795807780206142,
          0.22302274643347353,
          0.23298667987948132,
          0.21270981444224674,
          0.23535037840288417,
          0.23554443526661864,
          0.22509369198048124,
          0.23382392994150492,
          0.23505572502382377,
          0.2338626844716818,
          0.23728723652752215,
          0.23882892001164346,
          0.26480596022742087,
          0.23749746926085086,
          0.22950477438557534,
          0.23985380406716406,
          0.23263136100550932,
          0.24885646013105012
         ],
         "y": [
          3.074419235381751,
          2.9960796839177584,
          3.008639121166044,
          2.908604186670193,
          3.037416383960217,
          2.96962354319305,
          2.9159196764453523,
          3.108981109105419,
          2.9459787609151764,
          2.917984964803544,
          2.9963846503966924,
          2.6550957021898722,
          2.9532460024817953,
          2.8841919604013135,
          2.9838993920306436,
          2.980677283143442,
          2.9957409675590556,
          2.9046463980871353,
          3.042930644928372,
          3.1005143030264057,
          3.010938275327058,
          2.907202128138682,
          2.9301067218924746,
          3.0766563862194363,
          2.9814166947933747,
          2.974136849349993
         ]
        },
        {
         "mode": "markers",
         "name": "Gulp_pure",
         "type": "scatter",
         "x": [
          0.26649139536352207,
          0.2253613563077068,
          0.22034541644482597,
          0.2460509211463141,
          0.2402439757578915,
          0.25104850498868037,
          0.21357783220685786,
          0.22964252333325552,
          0.25383357906949744,
          0.2500597372344233,
          0.21152089825466744,
          0.24482507637989323,
          0.2676638282499699,
          0.25781148629492245,
          0.22346165927238043,
          0.26276306256729487,
          0.25874978621116834,
          0.23222363216247696
         ],
         "y": [
          2.8191245463776733,
          2.6228634363834247,
          2.6785159327604715,
          2.794113841842286,
          2.6304105664755926,
          2.912365068987565,
          2.503921241996736,
          2.8022218739906695,
          2.760954854050774,
          2.6887942487691983,
          2.5011852547387803,
          2.6640093458227225,
          2.8401677199914652,
          2.613323189490466,
          2.3019766440789016,
          2.820534831092462,
          2.893771025560271,
          2.543513629944901
         ]
        },
        {
         "mode": "markers",
         "name": "Breath",
         "type": "scatter",
         "x": [
          0.17462529441211114,
          0.15204934690197852,
          0.15146882657091504,
          0.1506478069638243,
          0.1960216064511856,
          0.1612106964098138,
          0.16192666999096791,
          0.1625816970481959,
          0.1871136978796769,
          0.15653013625194256,
          0.15509832057072917,
          0.20602466168646763,
          0.19939409108973727,
          0.23132051307099658,
          0.15269895328252492,
          0.15303216250103915,
          0.15643838759861664,
          0.15145668024548298,
          0.14920136539661413,
          0.1649719131994131
         ],
         "y": [
          3.0987844792598356,
          3.1329240134345455,
          2.9767980974427117,
          3.0743050274737564,
          3.0382150303874,
          3.0267568022028137,
          2.980719068125554,
          3.072995535570111,
          3.0683651488106625,
          3.029118365655312,
          3.074370907389399,
          3.0927875203060284,
          2.93109668521889,
          3.1373666377925535,
          3.12670046352953,
          3.049904534634624,
          3.1305627084494696,
          3.086270762888557,
          3.093337055137607,
          3.138543515290705
         ]
        }
       ],
       "layout": {
        "template": {
         "data": {
          "bar": [
           {
            "error_x": {
             "color": "#2a3f5f"
            },
            "error_y": {
             "color": "#2a3f5f"
            },
            "marker": {
             "line": {
              "color": "#E5ECF6",
              "width": 0.5
             },
             "pattern": {
              "fillmode": "overlay",
              "size": 10,
              "solidity": 0.2
             }
            },
            "type": "bar"
           }
          ],
          "barpolar": [
           {
            "marker": {
             "line": {
              "color": "#E5ECF6",
              "width": 0.5
             },
             "pattern": {
              "fillmode": "overlay",
              "size": 10,
              "solidity": 0.2
             }
            },
            "type": "barpolar"
           }
          ],
          "carpet": [
           {
            "aaxis": {
             "endlinecolor": "#2a3f5f",
             "gridcolor": "white",
             "linecolor": "white",
             "minorgridcolor": "white",
             "startlinecolor": "#2a3f5f"
            },
            "baxis": {
             "endlinecolor": "#2a3f5f",
             "gridcolor": "white",
             "linecolor": "white",
             "minorgridcolor": "white",
             "startlinecolor": "#2a3f5f"
            },
            "type": "carpet"
           }
          ],
          "choropleth": [
           {
            "colorbar": {
             "outlinewidth": 0,
             "ticks": ""
            },
            "type": "choropleth"
           }
          ],
          "contour": [
           {
            "colorbar": {
             "outlinewidth": 0,
             "ticks": ""
            },
            "colorscale": [
             [
              0,
              "#0d0887"
             ],
             [
              0.1111111111111111,
              "#46039f"
             ],
             [
              0.2222222222222222,
              "#7201a8"
             ],
             [
              0.3333333333333333,
              "#9c179e"
             ],
             [
              0.4444444444444444,
              "#bd3786"
             ],
             [
              0.5555555555555556,
              "#d8576b"
             ],
             [
              0.6666666666666666,
              "#ed7953"
             ],
             [
              0.7777777777777778,
              "#fb9f3a"
             ],
             [
              0.8888888888888888,
              "#fdca26"
             ],
             [
              1,
              "#f0f921"
             ]
            ],
            "type": "contour"
           }
          ],
          "contourcarpet": [
           {
            "colorbar": {
             "outlinewidth": 0,
             "ticks": ""
            },
            "type": "contourcarpet"
           }
          ],
          "heatmap": [
           {
            "colorbar": {
             "outlinewidth": 0,
             "ticks": ""
            },
            "colorscale": [
             [
              0,
              "#0d0887"
             ],
             [
              0.1111111111111111,
              "#46039f"
             ],
             [
              0.2222222222222222,
              "#7201a8"
             ],
             [
              0.3333333333333333,
              "#9c179e"
             ],
             [
              0.4444444444444444,
              "#bd3786"
             ],
             [
              0.5555555555555556,
              "#d8576b"
             ],
             [
              0.6666666666666666,
              "#ed7953"
             ],
             [
              0.7777777777777778,
              "#fb9f3a"
             ],
             [
              0.8888888888888888,
              "#fdca26"
             ],
             [
              1,
              "#f0f921"
             ]
            ],
            "type": "heatmap"
           }
          ],
          "heatmapgl": [
           {
            "colorbar": {
             "outlinewidth": 0,
             "ticks": ""
            },
            "colorscale": [
             [
              0,
              "#0d0887"
             ],
             [
              0.1111111111111111,
              "#46039f"
             ],
             [
              0.2222222222222222,
              "#7201a8"
             ],
             [
              0.3333333333333333,
              "#9c179e"
             ],
             [
              0.4444444444444444,
              "#bd3786"
             ],
             [
              0.5555555555555556,
              "#d8576b"
             ],
             [
              0.6666666666666666,
              "#ed7953"
             ],
             [
              0.7777777777777778,
              "#fb9f3a"
             ],
             [
              0.8888888888888888,
              "#fdca26"
             ],
             [
              1,
              "#f0f921"
             ]
            ],
            "type": "heatmapgl"
           }
          ],
          "histogram": [
           {
            "marker": {
             "pattern": {
              "fillmode": "overlay",
              "size": 10,
              "solidity": 0.2
             }
            },
            "type": "histogram"
           }
          ],
          "histogram2d": [
           {
            "colorbar": {
             "outlinewidth": 0,
             "ticks": ""
            },
            "colorscale": [
             [
              0,
              "#0d0887"
             ],
             [
              0.1111111111111111,
              "#46039f"
             ],
             [
              0.2222222222222222,
              "#7201a8"
             ],
             [
              0.3333333333333333,
              "#9c179e"
             ],
             [
              0.4444444444444444,
              "#bd3786"
             ],
             [
              0.5555555555555556,
              "#d8576b"
             ],
             [
              0.6666666666666666,
              "#ed7953"
             ],
             [
              0.7777777777777778,
              "#fb9f3a"
             ],
             [
              0.8888888888888888,
              "#fdca26"
             ],
             [
              1,
              "#f0f921"
             ]
            ],
            "type": "histogram2d"
           }
          ],
          "histogram2dcontour": [
           {
            "colorbar": {
             "outlinewidth": 0,
             "ticks": ""
            },
            "colorscale": [
             [
              0,
              "#0d0887"
             ],
             [
              0.1111111111111111,
              "#46039f"
             ],
             [
              0.2222222222222222,
              "#7201a8"
             ],
             [
              0.3333333333333333,
              "#9c179e"
             ],
             [
              0.4444444444444444,
              "#bd3786"
             ],
             [
              0.5555555555555556,
              "#d8576b"
             ],
             [
              0.6666666666666666,
              "#ed7953"
             ],
             [
              0.7777777777777778,
              "#fb9f3a"
             ],
             [
              0.8888888888888888,
              "#fdca26"
             ],
             [
              1,
              "#f0f921"
             ]
            ],
            "type": "histogram2dcontour"
           }
          ],
          "mesh3d": [
           {
            "colorbar": {
             "outlinewidth": 0,
             "ticks": ""
            },
            "type": "mesh3d"
           }
          ],
          "parcoords": [
           {
            "line": {
             "colorbar": {
              "outlinewidth": 0,
              "ticks": ""
             }
            },
            "type": "parcoords"
           }
          ],
          "pie": [
           {
            "automargin": true,
            "type": "pie"
           }
          ],
          "scatter": [
           {
            "fillpattern": {
             "fillmode": "overlay",
             "size": 10,
             "solidity": 0.2
            },
            "type": "scatter"
           }
          ],
          "scatter3d": [
           {
            "line": {
             "colorbar": {
              "outlinewidth": 0,
              "ticks": ""
             }
            },
            "marker": {
             "colorbar": {
              "outlinewidth": 0,
              "ticks": ""
             }
            },
            "type": "scatter3d"
           }
          ],
          "scattercarpet": [
           {
            "marker": {
             "colorbar": {
              "outlinewidth": 0,
              "ticks": ""
             }
            },
            "type": "scattercarpet"
           }
          ],
          "scattergeo": [
           {
            "marker": {
             "colorbar": {
              "outlinewidth": 0,
              "ticks": ""
             }
            },
            "type": "scattergeo"
           }
          ],
          "scattergl": [
           {
            "marker": {
             "colorbar": {
              "outlinewidth": 0,
              "ticks": ""
             }
            },
            "type": "scattergl"
           }
          ],
          "scattermapbox": [
           {
            "marker": {
             "colorbar": {
              "outlinewidth": 0,
              "ticks": ""
             }
            },
            "type": "scattermapbox"
           }
          ],
          "scatterpolar": [
           {
            "marker": {
             "colorbar": {
              "outlinewidth": 0,
              "ticks": ""
             }
            },
            "type": "scatterpolar"
           }
          ],
          "scatterpolargl": [
           {
            "marker": {
             "colorbar": {
              "outlinewidth": 0,
              "ticks": ""
             }
            },
            "type": "scatterpolargl"
           }
          ],
          "scatterternary": [
           {
            "marker": {
             "colorbar": {
              "outlinewidth": 0,
              "ticks": ""
             }
            },
            "type": "scatterternary"
           }
          ],
          "surface": [
           {
            "colorbar": {
             "outlinewidth": 0,
             "ticks": ""
            },
            "colorscale": [
             [
              0,
              "#0d0887"
             ],
             [
              0.1111111111111111,
              "#46039f"
             ],
             [
              0.2222222222222222,
              "#7201a8"
             ],
             [
              0.3333333333333333,
              "#9c179e"
             ],
             [
              0.4444444444444444,
              "#bd3786"
             ],
             [
              0.5555555555555556,
              "#d8576b"
             ],
             [
              0.6666666666666666,
              "#ed7953"
             ],
             [
              0.7777777777777778,
              "#fb9f3a"
             ],
             [
              0.8888888888888888,
              "#fdca26"
             ],
             [
              1,
              "#f0f921"
             ]
            ],
            "type": "surface"
           }
          ],
          "table": [
           {
            "cells": {
             "fill": {
              "color": "#EBF0F8"
             },
             "line": {
              "color": "white"
             }
            },
            "header": {
             "fill": {
              "color": "#C8D4E3"
             },
             "line": {
              "color": "white"
             }
            },
            "type": "table"
           }
          ]
         },
         "layout": {
          "annotationdefaults": {
           "arrowcolor": "#2a3f5f",
           "arrowhead": 0,
           "arrowwidth": 1
          },
          "autotypenumbers": "strict",
          "coloraxis": {
           "colorbar": {
            "outlinewidth": 0,
            "ticks": ""
           }
          },
          "colorscale": {
           "diverging": [
            [
             0,
             "#8e0152"
            ],
            [
             0.1,
             "#c51b7d"
            ],
            [
             0.2,
             "#de77ae"
            ],
            [
             0.3,
             "#f1b6da"
            ],
            [
             0.4,
             "#fde0ef"
            ],
            [
             0.5,
             "#f7f7f7"
            ],
            [
             0.6,
             "#e6f5d0"
            ],
            [
             0.7,
             "#b8e186"
            ],
            [
             0.8,
             "#7fbc41"
            ],
            [
             0.9,
             "#4d9221"
            ],
            [
             1,
             "#276419"
            ]
           ],
           "sequential": [
            [
             0,
             "#0d0887"
            ],
            [
             0.1111111111111111,
             "#46039f"
            ],
            [
             0.2222222222222222,
             "#7201a8"
            ],
            [
             0.3333333333333333,
             "#9c179e"
            ],
            [
             0.4444444444444444,
             "#bd3786"
            ],
            [
             0.5555555555555556,
             "#d8576b"
            ],
            [
             0.6666666666666666,
             "#ed7953"
            ],
            [
             0.7777777777777778,
             "#fb9f3a"
            ],
            [
             0.8888888888888888,
             "#fdca26"
            ],
            [
             1,
             "#f0f921"
            ]
           ],
           "sequentialminus": [
            [
             0,
             "#0d0887"
            ],
            [
             0.1111111111111111,
             "#46039f"
            ],
            [
             0.2222222222222222,
             "#7201a8"
            ],
            [
             0.3333333333333333,
             "#9c179e"
            ],
            [
             0.4444444444444444,
             "#bd3786"
            ],
            [
             0.5555555555555556,
             "#d8576b"
            ],
            [
             0.6666666666666666,
             "#ed7953"
            ],
            [
             0.7777777777777778,
             "#fb9f3a"
            ],
            [
             0.8888888888888888,
             "#fdca26"
            ],
            [
             1,
             "#f0f921"
            ]
           ]
          },
          "colorway": [
           "#636efa",
           "#EF553B",
           "#00cc96",
           "#ab63fa",
           "#FFA15A",
           "#19d3f3",
           "#FF6692",
           "#B6E880",
           "#FF97FF",
           "#FECB52"
          ],
          "font": {
           "color": "#2a3f5f"
          },
          "geo": {
           "bgcolor": "white",
           "lakecolor": "white",
           "landcolor": "#E5ECF6",
           "showlakes": true,
           "showland": true,
           "subunitcolor": "white"
          },
          "hoverlabel": {
           "align": "left"
          },
          "hovermode": "closest",
          "mapbox": {
           "style": "light"
          },
          "paper_bgcolor": "white",
          "plot_bgcolor": "#E5ECF6",
          "polar": {
           "angularaxis": {
            "gridcolor": "white",
            "linecolor": "white",
            "ticks": ""
           },
           "bgcolor": "#E5ECF6",
           "radialaxis": {
            "gridcolor": "white",
            "linecolor": "white",
            "ticks": ""
           }
          },
          "scene": {
           "xaxis": {
            "backgroundcolor": "#E5ECF6",
            "gridcolor": "white",
            "gridwidth": 2,
            "linecolor": "white",
            "showbackground": true,
            "ticks": "",
            "zerolinecolor": "white"
           },
           "yaxis": {
            "backgroundcolor": "#E5ECF6",
            "gridcolor": "white",
            "gridwidth": 2,
            "linecolor": "white",
            "showbackground": true,
            "ticks": "",
            "zerolinecolor": "white"
           },
           "zaxis": {
            "backgroundcolor": "#E5ECF6",
            "gridcolor": "white",
            "gridwidth": 2,
            "linecolor": "white",
            "showbackground": true,
            "ticks": "",
            "zerolinecolor": "white"
           }
          },
          "shapedefaults": {
           "line": {
            "color": "#2a3f5f"
           }
          },
          "ternary": {
           "aaxis": {
            "gridcolor": "white",
            "linecolor": "white",
            "ticks": ""
           },
           "baxis": {
            "gridcolor": "white",
            "linecolor": "white",
            "ticks": ""
           },
           "bgcolor": "#E5ECF6",
           "caxis": {
            "gridcolor": "white",
            "linecolor": "white",
            "ticks": ""
           }
          },
          "title": {
           "x": 0.05
          },
          "xaxis": {
           "automargin": true,
           "gridcolor": "white",
           "linecolor": "white",
           "ticks": "",
           "title": {
            "standoff": 15
           },
           "zerolinecolor": "white",
           "zerolinewidth": 2
          },
          "yaxis": {
           "automargin": true,
           "gridcolor": "white",
           "linecolor": "white",
           "ticks": "",
           "title": {
            "standoff": 15
           },
           "zerolinecolor": "white",
           "zerolinewidth": 2
          }
         }
        },
        "xaxis": {
         "title": {
          "text": "spectral_centroid_mean"
         }
        },
        "yaxis": {
         "title": {
          "text": "energy_entropy_mean"
         }
        }
       }
      }
     },
     "metadata": {},
     "output_type": "display_data"
    },
    {
     "data": {
      "text/plain": [
       "'\\n###\\nzcr_mean_values = features[0][:, fn.index(\\'zcr_mean\\')]\\nspectral_centroid_mean_values = features[0][:, fn.index(\\'spectral_centroid_mean\\')]\\nprint(\"ZCR Mean Values:\", zcr_mean_values)\\nprint(\"Spectral Centroid Mean Values:\", spectral_centroid_mean_values)\\n\\nf10 = np.array([features[0][:, fn.index(\\'zcr_mean\\')],\\n               features[0][:, fn.index(\\'spectral_centroid_mean\\')]])#spectral_centroid_mean表示频谱中心的均值\\nf11 = np.array([features[1][:, fn.index(\\'zcr_mean\\')],\\n               features[1][:, fn.index(\\'spectral_centroid_mean\\')]])\\nf12 = np.array([features[2][:, fn.index(\\'zcr_mean\\')],\\n               features[2][:, fn.index(\\'spectral_centroid_mean\\')]])\\n\\nplots = [go.Scatter(x=f1[0, :], y=f10[1, :], \\n                    name=class_names[0], mode=\\'markers\\'),\\n         go.Scatter(x=f2[0, :], y=f11[1, :], \\n                    name=class_names[1], mode=\\'markers\\'),\\n         go.Scatter(x=f3[0, :], y=f12[1, :], \\n                    name=class_names[2], mode=\\'markers\\'),]\\n\\nmylayout = go.Layout(xaxis=dict(title=\"zcr_mean\"),\\n                     yaxis=dict(title=\"spectral_centroid_mean\"))\\nplotly.offline.iplot(go.Figure(data=plots, layout=mylayout))\\n'"
      ]
     },
     "execution_count": 62,
     "metadata": {},
     "output_type": "execute_result"
    }
   ],
   "source": [
    "from pyAudioAnalysis import MidTermFeatures as aF\n",
    "import os\n",
    "import numpy as np\n",
    "import plotly.graph_objs as go \n",
    "import plotly\n",
    "audio_dirs = [os.path.join('E:/Files','Acoustic Data', 'Ruminating_pure'), os.path.join('E:/Files','Acoustic Data', 'Gulp_pure'),os.path.join('E:/Files','Acoustic Data', 'Breath')] \n",
    "class_names = [os.path.basename(d) for d in audio_dirs] \n",
    "#print(class_names)\n",
    "m_win, m_step, s_win, s_step = 1, 1, 0.1, 0.05 \n",
    "\n",
    "# segment-level feature extraction:\n",
    "features = [] \n",
    "\n",
    "for d in audio_dirs: # get feature matrix for each directory (class) \n",
    "    f, files, fn = aF.directory_feature_extraction(d, m_win, m_step, \n",
    "                                                   s_win, s_step) \n",
    "    \n",
    "    features.append(f)\n",
    "\n",
    "#print(len(features))\n",
    "print(features[0].shape, features[1].shape)\n",
    "print(fn)\n",
    "\n",
    "# select 2 features and create feature matrices for the two classes:\n",
    "f1 = np.array([features[0][:, fn.index('spectral_centroid_mean')],#spectral_centroid_mean表示频谱中心的均值\n",
    "               features[0][:, fn.index('energy_entropy_mean')]])#energy_entropy_mean表示能量熵的均值\n",
    "f2 = np.array([features[1][:, fn.index('spectral_centroid_mean')],\n",
    "               features[1][:, fn.index('energy_entropy_mean')]])\n",
    "f3 = np.array([features[2][:, fn.index('spectral_centroid_mean')],\n",
    "               features[2][:, fn.index('energy_entropy_mean')]])\n",
    "\n",
    "plots = [go.Scatter(x=f1[0, :], y=f1[1, :], \n",
    "                    name=class_names[0], mode='markers'),\n",
    "         go.Scatter(x=f2[0, :], y=f2[1, :], \n",
    "                    name=class_names[1], mode='markers'),\n",
    "         go.Scatter(x=f3[0, :], y=f3[1, :], \n",
    "                    name=class_names[2], mode='markers'),]\n",
    "mylayout = go.Layout(xaxis=dict(title=\"spectral_centroid_mean\"),\n",
    "                     yaxis=dict(title=\"energy_entropy_mean\"))\n",
    "plotly.offline.iplot(go.Figure(data=plots, layout=mylayout))\n",
    "\"\"\"\n",
    "###\n",
    "f4 = np.array([features[0][:, fn.index('zcr_mean')],\n",
    "               features[0][:, fn.index('energy_mean')]])\n",
    "f5 = np.array([features[1][:, fn.index('zcr_mean')],\n",
    "               features[1][:, fn.index('energy_mean')]])\n",
    "f6 = np.array([features[2][:, fn.index('zcr_mean')],\n",
    "               features[2][:, fn.index('energy_mean')]])\n",
    "\n",
    "plots = [go.Scatter(x=f1[0, :], y=f4[1, :], \n",
    "                    name=class_names[0], mode='markers'),\n",
    "         go.Scatter(x=f2[0, :], y=f5[1, :], \n",
    "                    name=class_names[1], mode='markers'),\n",
    "         go.Scatter(x=f3[0, :], y=f6[1, :], \n",
    "                    name=class_names[2], mode='markers'),]\n",
    "                    \n",
    "mylayout = go.Layout(xaxis=dict(title=\"zcr_mean\"),\n",
    "                     yaxis=dict(title=\"energy_mean\"))\n",
    "plotly.offline.iplot(go.Figure(data=plots, layout=mylayout))\n",
    "\"\"\"\n",
    "\"\"\"\n",
    "###\n",
    "f7 = np.array([features[0][:, fn.index('zcr_mean')],\n",
    "               features[0][:, fn.index('energy_entropy_mean')]])#energy_entropy_mean表示能量熵的均值\n",
    "f8 = np.array([features[1][:, fn.index('zcr_mean')],\n",
    "               features[1][:, fn.index('energy_entropy_mean')]])\n",
    "f9 = np.array([features[2][:, fn.index('zcr_mean')],\n",
    "               features[2][:, fn.index('energy_entropy_mean')]])\n",
    "\n",
    "plots = [go.Scatter(x=f1[0, :], y=f7[1, :], \n",
    "                    name=class_names[0], mode='markers'),\n",
    "         go.Scatter(x=f2[0, :], y=f8[1, :], \n",
    "                    name=class_names[1], mode='markers'),\n",
    "         go.Scatter(x=f3[0, :], y=f9[1, :], \n",
    "                    name=class_names[2], mode='markers'),]\n",
    "\n",
    "mylayout = go.Layout(xaxis=dict(title=\"zcr_mean\"),\n",
    "                     yaxis=dict(title=\"energy_entropy_mean\"))\n",
    "plotly.offline.iplot(go.Figure(data=plots, layout=mylayout))\n",
    "\"\"\"\n",
    "\n",
    "\n",
    "\"\"\"\n",
    "###\n",
    "zcr_mean_values = features[0][:, fn.index('zcr_mean')]\n",
    "spectral_centroid_mean_values = features[0][:, fn.index('spectral_centroid_mean')]\n",
    "print(\"ZCR Mean Values:\", zcr_mean_values)\n",
    "print(\"Spectral Centroid Mean Values:\", spectral_centroid_mean_values)\n",
    "\n",
    "f10 = np.array([features[0][:, fn.index('zcr_mean')],\n",
    "               features[0][:, fn.index('spectral_centroid_mean')]])#spectral_centroid_mean表示频谱中心的均值\n",
    "f11 = np.array([features[1][:, fn.index('zcr_mean')],\n",
    "               features[1][:, fn.index('spectral_centroid_mean')]])\n",
    "f12 = np.array([features[2][:, fn.index('zcr_mean')],\n",
    "               features[2][:, fn.index('spectral_centroid_mean')]])\n",
    "\n",
    "plots = [go.Scatter(x=f1[0, :], y=f10[1, :], \n",
    "                    name=class_names[0], mode='markers'),\n",
    "         go.Scatter(x=f2[0, :], y=f11[1, :], \n",
    "                    name=class_names[1], mode='markers'),\n",
    "         go.Scatter(x=f3[0, :], y=f12[1, :], \n",
    "                    name=class_names[2], mode='markers'),]\n",
    "\n",
    "mylayout = go.Layout(xaxis=dict(title=\"zcr_mean\"),\n",
    "                     yaxis=dict(title=\"spectral_centroid_mean\"))\n",
    "plotly.offline.iplot(go.Figure(data=plots, layout=mylayout))\n",
    "\"\"\""
   ]
  },
  {
   "cell_type": "code",
   "execution_count": 67,
   "metadata": {},
   "outputs": [
    {
     "name": "stdout",
     "output_type": "stream",
     "text": [
      "Analyzing file 1 of 26: E:/Files\\Acoustic Data\\Ruminating_pure\\Ruminating_1.wav\n",
      "Analyzing file 2 of 26: E:/Files\\Acoustic Data\\Ruminating_pure\\Ruminating_10.wav\n",
      "Analyzing file 3 of 26: E:/Files\\Acoustic Data\\Ruminating_pure\\Ruminating_11.wav\n",
      "Analyzing file 4 of 26: E:/Files\\Acoustic Data\\Ruminating_pure\\Ruminating_12.wav\n",
      "Analyzing file 5 of 26: E:/Files\\Acoustic Data\\Ruminating_pure\\Ruminating_13.wav\n",
      "Analyzing file 6 of 26: E:/Files\\Acoustic Data\\Ruminating_pure\\Ruminating_14.wav\n",
      "Analyzing file 7 of 26: E:/Files\\Acoustic Data\\Ruminating_pure\\Ruminating_15.wav\n",
      "Analyzing file 8 of 26: E:/Files\\Acoustic Data\\Ruminating_pure\\Ruminating_16.wav\n",
      "Analyzing file 9 of 26: E:/Files\\Acoustic Data\\Ruminating_pure\\Ruminating_17.wav\n",
      "Analyzing file 10 of 26: E:/Files\\Acoustic Data\\Ruminating_pure\\Ruminating_18.wav\n",
      "Analyzing file 11 of 26: E:/Files\\Acoustic Data\\Ruminating_pure\\Ruminating_19.wav\n",
      "Analyzing file 12 of 26: E:/Files\\Acoustic Data\\Ruminating_pure\\Ruminating_2.wav\n",
      "Analyzing file 13 of 26: E:/Files\\Acoustic Data\\Ruminating_pure\\Ruminating_20.wav\n",
      "Analyzing file 14 of 26: E:/Files\\Acoustic Data\\Ruminating_pure\\Ruminating_21.wav\n",
      "Analyzing file 15 of 26: E:/Files\\Acoustic Data\\Ruminating_pure\\Ruminating_22.wav\n",
      "Analyzing file 16 of 26: E:/Files\\Acoustic Data\\Ruminating_pure\\Ruminating_23.wav\n",
      "Analyzing file 17 of 26: E:/Files\\Acoustic Data\\Ruminating_pure\\Ruminating_24.wav\n",
      "Analyzing file 18 of 26: E:/Files\\Acoustic Data\\Ruminating_pure\\Ruminating_25.wav\n",
      "Analyzing file 19 of 26: E:/Files\\Acoustic Data\\Ruminating_pure\\Ruminating_26.wav\n",
      "Analyzing file 20 of 26: E:/Files\\Acoustic Data\\Ruminating_pure\\Ruminating_3.wav\n",
      "Analyzing file 21 of 26: E:/Files\\Acoustic Data\\Ruminating_pure\\Ruminating_4.wav\n",
      "Analyzing file 22 of 26: E:/Files\\Acoustic Data\\Ruminating_pure\\Ruminating_5.wav\n"
     ]
    },
    {
     "name": "stderr",
     "output_type": "stream",
     "text": [
      "e:\\Python\\Lib\\site-packages\\pyAudioAnalysis\\audioBasicIO.py:99: WavFileWarning:\n",
      "\n",
      "Chunk (non-data) not understood, skipping it.\n",
      "\n"
     ]
    },
    {
     "name": "stdout",
     "output_type": "stream",
     "text": [
      "Analyzing file 23 of 26: E:/Files\\Acoustic Data\\Ruminating_pure\\Ruminating_6.wav\n",
      "Analyzing file 24 of 26: E:/Files\\Acoustic Data\\Ruminating_pure\\Ruminating_7.wav\n",
      "Analyzing file 25 of 26: E:/Files\\Acoustic Data\\Ruminating_pure\\Ruminating_8.wav\n",
      "Analyzing file 26 of 26: E:/Files\\Acoustic Data\\Ruminating_pure\\Ruminating_9.wav\n",
      "Feature extraction complexity ratio: 105.8 x realtime\n",
      "Analyzing file 1 of 18: E:/Files\\Acoustic Data\\Gulp_pure\\Gulp_1.wav\n",
      "Analyzing file 2 of 18: E:/Files\\Acoustic Data\\Gulp_pure\\Gulp_10.wav\n",
      "Analyzing file 3 of 18: E:/Files\\Acoustic Data\\Gulp_pure\\Gulp_11.wav\n",
      "Analyzing file 4 of 18: E:/Files\\Acoustic Data\\Gulp_pure\\Gulp_12.wav\n",
      "Analyzing file 5 of 18: E:/Files\\Acoustic Data\\Gulp_pure\\Gulp_13.wav\n",
      "Analyzing file 6 of 18: E:/Files\\Acoustic Data\\Gulp_pure\\Gulp_14.wav\n",
      "Analyzing file 7 of 18: E:/Files\\Acoustic Data\\Gulp_pure\\Gulp_15.wav\n",
      "Analyzing file 8 of 18: E:/Files\\Acoustic Data\\Gulp_pure\\Gulp_16.wav\n",
      "Analyzing file 9 of 18: E:/Files\\Acoustic Data\\Gulp_pure\\Gulp_17.wav\n",
      "Analyzing file 10 of 18: E:/Files\\Acoustic Data\\Gulp_pure\\Gulp_18.wav\n",
      "Analyzing file 11 of 18: E:/Files\\Acoustic Data\\Gulp_pure\\Gulp_2.wav\n",
      "Analyzing file 12 of 18: E:/Files\\Acoustic Data\\Gulp_pure\\Gulp_3.wav\n",
      "Analyzing file 13 of 18: E:/Files\\Acoustic Data\\Gulp_pure\\Gulp_4.wav\n",
      "Analyzing file 14 of 18: E:/Files\\Acoustic Data\\Gulp_pure\\Gulp_5.wav\n",
      "Analyzing file 15 of 18: E:/Files\\Acoustic Data\\Gulp_pure\\Gulp_6.wav\n",
      "Analyzing file 16 of 18: E:/Files\\Acoustic Data\\Gulp_pure\\Gulp_7.wav\n",
      "Analyzing file 17 of 18: E:/Files\\Acoustic Data\\Gulp_pure\\Gulp_8.wav\n",
      "Analyzing file 18 of 18: E:/Files\\Acoustic Data\\Gulp_pure\\Gulp_9.wav\n",
      "Feature extraction complexity ratio: 122.5 x realtime\n",
      "Analyzing file 1 of 20: E:/Files\\Acoustic Data\\Breath\\Breath_1.wav\n",
      "Analyzing file 2 of 20: E:/Files\\Acoustic Data\\Breath\\Breath_10.wav\n",
      "Analyzing file 3 of 20: E:/Files\\Acoustic Data\\Breath\\Breath_11.wav\n",
      "Analyzing file 4 of 20: E:/Files\\Acoustic Data\\Breath\\Breath_12.wav\n",
      "Analyzing file 5 of 20: E:/Files\\Acoustic Data\\Breath\\Breath_13.wav\n",
      "Analyzing file 6 of 20: E:/Files\\Acoustic Data\\Breath\\Breath_14.wav\n",
      "Analyzing file 7 of 20: E:/Files\\Acoustic Data\\Breath\\Breath_15.wav\n",
      "Analyzing file 8 of 20: E:/Files\\Acoustic Data\\Breath\\Breath_16.wav\n",
      "Analyzing file 9 of 20: E:/Files\\Acoustic Data\\Breath\\Breath_17.wav\n",
      "Analyzing file 10 of 20: E:/Files\\Acoustic Data\\Breath\\Breath_18.wav\n",
      "Analyzing file 11 of 20: E:/Files\\Acoustic Data\\Breath\\Breath_19.wav\n",
      "Analyzing file 12 of 20: E:/Files\\Acoustic Data\\Breath\\Breath_2.wav\n",
      "Analyzing file 13 of 20: E:/Files\\Acoustic Data\\Breath\\Breath_20.wav\n",
      "Analyzing file 14 of 20: E:/Files\\Acoustic Data\\Breath\\Breath_3.wav\n",
      "Analyzing file 15 of 20: E:/Files\\Acoustic Data\\Breath\\Breath_4.wav\n",
      "Analyzing file 16 of 20: E:/Files\\Acoustic Data\\Breath\\Breath_5.wav\n",
      "Analyzing file 17 of 20: E:/Files\\Acoustic Data\\Breath\\Breath_6.wav\n",
      "Analyzing file 18 of 20: E:/Files\\Acoustic Data\\Breath\\Breath_7.wav\n",
      "Analyzing file 19 of 20: E:/Files\\Acoustic Data\\Breath\\Breath_8.wav\n",
      "Analyzing file 20 of 20: E:/Files\\Acoustic Data\\Breath\\Breath_9.wav\n",
      "Feature extraction complexity ratio: 105.1 x realtime\n",
      "Param = 0.00100 - classifier Evaluation Experiment 1 of 782\n",
      "Param = 0.00100 - classifier Evaluation Experiment 2 of 782\n",
      "Param = 0.00100 - classifier Evaluation Experiment 3 of 782\n",
      "Param = 0.00100 - classifier Evaluation Experiment 4 of 782\n",
      "Param = 0.00100 - classifier Evaluation Experiment 5 of 782\n",
      "Param = 0.00100 - classifier Evaluation Experiment 6 of 782\n",
      "Param = 0.00100 - classifier Evaluation Experiment 7 of 782\n",
      "Param = 0.00100 - classifier Evaluation Experiment 8 of 782\n",
      "Param = 0.00100 - classifier Evaluation Experiment 9 of 782\n",
      "Param = 0.00100 - classifier Evaluation Experiment 10 of 782\n",
      "Param = 0.00100 - classifier Evaluation Experiment 11 of 782\n",
      "Param = 0.00100 - classifier Evaluation Experiment 12 of 782\n",
      "Param = 0.00100 - classifier Evaluation Experiment 13 of 782\n",
      "Param = 0.00100 - classifier Evaluation Experiment 14 of 782\n",
      "Param = 0.00100 - classifier Evaluation Experiment 15 of 782\n",
      "Param = 0.00100 - classifier Evaluation Experiment 16 of 782\n",
      "Param = 0.00100 - classifier Evaluation Experiment 17 of 782\n",
      "Param = 0.00100 - classifier Evaluation Experiment 18 of 782\n",
      "Param = 0.00100 - classifier Evaluation Experiment 19 of 782\n",
      "Param = 0.00100 - classifier Evaluation Experiment 20 of 782\n",
      "Param = 0.00100 - classifier Evaluation Experiment 21 of 782\n",
      "Param = 0.00100 - classifier Evaluation Experiment 22 of 782\n",
      "Param = 0.00100 - classifier Evaluation Experiment 23 of 782\n",
      "Param = 0.00100 - classifier Evaluation Experiment 24 of 782\n",
      "Param = 0.00100 - classifier Evaluation Experiment 25 of 782\n",
      "Param = 0.00100 - classifier Evaluation Experiment 26 of 782\n",
      "Param = 0.00100 - classifier Evaluation Experiment 27 of 782\n",
      "Param = 0.00100 - classifier Evaluation Experiment 28 of 782\n",
      "Param = 0.00100 - classifier Evaluation Experiment 29 of 782\n",
      "Param = 0.00100 - classifier Evaluation Experiment 30 of 782\n",
      "Param = 0.00100 - classifier Evaluation Experiment 31 of 782\n",
      "Param = 0.00100 - classifier Evaluation Experiment 32 of 782\n",
      "Param = 0.00100 - classifier Evaluation Experiment 33 of 782\n",
      "Param = 0.00100 - classifier Evaluation Experiment 34 of 782\n",
      "Param = 0.00100 - classifier Evaluation Experiment 35 of 782\n",
      "Param = 0.00100 - classifier Evaluation Experiment 36 of 782\n",
      "Param = 0.00100 - classifier Evaluation Experiment 37 of 782\n",
      "Param = 0.00100 - classifier Evaluation Experiment 38 of 782\n",
      "Param = 0.00100 - classifier Evaluation Experiment 39 of 782\n",
      "Param = 0.00100 - classifier Evaluation Experiment 40 of 782\n",
      "Param = 0.00100 - classifier Evaluation Experiment 41 of 782\n",
      "Param = 0.00100 - classifier Evaluation Experiment 42 of 782\n",
      "Param = 0.00100 - classifier Evaluation Experiment 43 of 782\n",
      "Param = 0.00100 - classifier Evaluation Experiment 44 of 782\n",
      "Param = 0.00100 - classifier Evaluation Experiment 45 of 782\n",
      "Param = 0.00100 - classifier Evaluation Experiment 46 of 782\n",
      "Param = 0.00100 - classifier Evaluation Experiment 47 of 782\n",
      "Param = 0.00100 - classifier Evaluation Experiment 48 of 782\n",
      "Param = 0.00100 - classifier Evaluation Experiment 49 of 782\n",
      "Param = 0.00100 - classifier Evaluation Experiment 50 of 782\n",
      "Param = 0.00100 - classifier Evaluation Experiment 51 of 782\n",
      "Param = 0.00100 - classifier Evaluation Experiment 52 of 782\n",
      "Param = 0.00100 - classifier Evaluation Experiment 53 of 782\n",
      "Param = 0.00100 - classifier Evaluation Experiment 54 of 782\n",
      "Param = 0.00100 - classifier Evaluation Experiment 55 of 782\n",
      "Param = 0.00100 - classifier Evaluation Experiment 56 of 782\n",
      "Param = 0.00100 - classifier Evaluation Experiment 57 of 782\n",
      "Param = 0.00100 - classifier Evaluation Experiment 58 of 782\n",
      "Param = 0.00100 - classifier Evaluation Experiment 59 of 782\n",
      "Param = 0.00100 - classifier Evaluation Experiment 60 of 782\n",
      "Param = 0.00100 - classifier Evaluation Experiment 61 of 782\n",
      "Param = 0.00100 - classifier Evaluation Experiment 62 of 782\n",
      "Param = 0.00100 - classifier Evaluation Experiment 63 of 782\n",
      "Param = 0.00100 - classifier Evaluation Experiment 64 of 782\n",
      "Param = 0.00100 - classifier Evaluation Experiment 65 of 782\n",
      "Param = 0.00100 - classifier Evaluation Experiment 66 of 782\n",
      "Param = 0.00100 - classifier Evaluation Experiment 67 of 782\n",
      "Param = 0.00100 - classifier Evaluation Experiment 68 of 782\n",
      "Param = 0.00100 - classifier Evaluation Experiment 69 of 782\n",
      "Param = 0.00100 - classifier Evaluation Experiment 70 of 782\n",
      "Param = 0.00100 - classifier Evaluation Experiment 71 of 782\n",
      "Param = 0.00100 - classifier Evaluation Experiment 72 of 782\n",
      "Param = 0.00100 - classifier Evaluation Experiment 73 of 782\n",
      "Param = 0.00100 - classifier Evaluation Experiment 74 of 782\n",
      "Param = 0.00100 - classifier Evaluation Experiment 75 of 782\n",
      "Param = 0.00100 - classifier Evaluation Experiment 76 of 782\n",
      "Param = 0.00100 - classifier Evaluation Experiment 77 of 782\n",
      "Param = 0.00100 - classifier Evaluation Experiment 78 of 782\n",
      "Param = 0.00100 - classifier Evaluation Experiment 79 of 782\n",
      "Param = 0.00100 - classifier Evaluation Experiment 80 of 782\n",
      "Param = 0.00100 - classifier Evaluation Experiment 81 of 782\n",
      "Param = 0.00100 - classifier Evaluation Experiment 82 of 782\n",
      "Param = 0.00100 - classifier Evaluation Experiment 83 of 782\n",
      "Param = 0.00100 - classifier Evaluation Experiment 84 of 782\n",
      "Param = 0.00100 - classifier Evaluation Experiment 85 of 782\n",
      "Param = 0.00100 - classifier Evaluation Experiment 86 of 782\n",
      "Param = 0.00100 - classifier Evaluation Experiment 87 of 782\n",
      "Param = 0.00100 - classifier Evaluation Experiment 88 of 782\n",
      "Param = 0.00100 - classifier Evaluation Experiment 89 of 782\n",
      "Param = 0.00100 - classifier Evaluation Experiment 90 of 782\n",
      "Param = 0.00100 - classifier Evaluation Experiment 91 of 782\n",
      "Param = 0.00100 - classifier Evaluation Experiment 92 of 782\n",
      "Param = 0.00100 - classifier Evaluation Experiment 93 of 782\n",
      "Param = 0.00100 - classifier Evaluation Experiment 94 of 782\n",
      "Param = 0.00100 - classifier Evaluation Experiment 95 of 782\n",
      "Param = 0.00100 - classifier Evaluation Experiment 96 of 782\n",
      "Param = 0.00100 - classifier Evaluation Experiment 97 of 782\n",
      "Param = 0.00100 - classifier Evaluation Experiment 98 of 782\n",
      "Param = 0.00100 - classifier Evaluation Experiment 99 of 782\n",
      "Param = 0.00100 - classifier Evaluation Experiment 100 of 782\n",
      "Param = 0.00100 - classifier Evaluation Experiment 101 of 782\n",
      "Param = 0.00100 - classifier Evaluation Experiment 102 of 782\n",
      "Param = 0.00100 - classifier Evaluation Experiment 103 of 782\n",
      "Param = 0.00100 - classifier Evaluation Experiment 104 of 782\n",
      "Param = 0.00100 - classifier Evaluation Experiment 105 of 782\n",
      "Param = 0.00100 - classifier Evaluation Experiment 106 of 782\n",
      "Param = 0.00100 - classifier Evaluation Experiment 107 of 782\n",
      "Param = 0.00100 - classifier Evaluation Experiment 108 of 782\n",
      "Param = 0.00100 - classifier Evaluation Experiment 109 of 782\n",
      "Param = 0.00100 - classifier Evaluation Experiment 110 of 782\n",
      "Param = 0.00100 - classifier Evaluation Experiment 111 of 782\n",
      "Param = 0.00100 - classifier Evaluation Experiment 112 of 782\n",
      "Param = 0.00100 - classifier Evaluation Experiment 113 of 782\n",
      "Param = 0.00100 - classifier Evaluation Experiment 114 of 782\n",
      "Param = 0.00100 - classifier Evaluation Experiment 115 of 782\n",
      "Param = 0.00100 - classifier Evaluation Experiment 116 of 782\n",
      "Param = 0.00100 - classifier Evaluation Experiment 117 of 782\n",
      "Param = 0.00100 - classifier Evaluation Experiment 118 of 782\n",
      "Param = 0.00100 - classifier Evaluation Experiment 119 of 782\n",
      "Param = 0.00100 - classifier Evaluation Experiment 120 of 782\n",
      "Param = 0.00100 - classifier Evaluation Experiment 121 of 782\n",
      "Param = 0.00100 - classifier Evaluation Experiment 122 of 782\n",
      "Param = 0.00100 - classifier Evaluation Experiment 123 of 782\n",
      "Param = 0.00100 - classifier Evaluation Experiment 124 of 782\n",
      "Param = 0.00100 - classifier Evaluation Experiment 125 of 782\n",
      "Param = 0.00100 - classifier Evaluation Experiment 126 of 782\n",
      "Param = 0.00100 - classifier Evaluation Experiment 127 of 782\n",
      "Param = 0.00100 - classifier Evaluation Experiment 128 of 782\n",
      "Param = 0.00100 - classifier Evaluation Experiment 129 of 782\n",
      "Param = 0.00100 - classifier Evaluation Experiment 130 of 782\n",
      "Param = 0.00100 - classifier Evaluation Experiment 131 of 782\n",
      "Param = 0.00100 - classifier Evaluation Experiment 132 of 782\n",
      "Param = 0.00100 - classifier Evaluation Experiment 133 of 782\n",
      "Param = 0.00100 - classifier Evaluation Experiment 134 of 782\n",
      "Param = 0.00100 - classifier Evaluation Experiment 135 of 782\n",
      "Param = 0.00100 - classifier Evaluation Experiment 136 of 782\n",
      "Param = 0.00100 - classifier Evaluation Experiment 137 of 782\n",
      "Param = 0.00100 - classifier Evaluation Experiment 138 of 782\n",
      "Param = 0.00100 - classifier Evaluation Experiment 139 of 782\n",
      "Param = 0.00100 - classifier Evaluation Experiment 140 of 782\n",
      "Param = 0.00100 - classifier Evaluation Experiment 141 of 782\n",
      "Param = 0.00100 - classifier Evaluation Experiment 142 of 782\n",
      "Param = 0.00100 - classifier Evaluation Experiment 143 of 782\n",
      "Param = 0.00100 - classifier Evaluation Experiment 144 of 782\n",
      "Param = 0.00100 - classifier Evaluation Experiment 145 of 782\n",
      "Param = 0.00100 - classifier Evaluation Experiment 146 of 782\n",
      "Param = 0.00100 - classifier Evaluation Experiment 147 of 782\n",
      "Param = 0.00100 - classifier Evaluation Experiment 148 of 782\n",
      "Param = 0.00100 - classifier Evaluation Experiment 149 of 782\n",
      "Param = 0.00100 - classifier Evaluation Experiment 150 of 782\n",
      "Param = 0.00100 - classifier Evaluation Experiment 151 of 782\n",
      "Param = 0.00100 - classifier Evaluation Experiment 152 of 782\n",
      "Param = 0.00100 - classifier Evaluation Experiment 153 of 782\n",
      "Param = 0.00100 - classifier Evaluation Experiment 154 of 782\n",
      "Param = 0.00100 - classifier Evaluation Experiment 155 of 782\n",
      "Param = 0.00100 - classifier Evaluation Experiment 156 of 782\n",
      "Param = 0.00100 - classifier Evaluation Experiment 157 of 782\n",
      "Param = 0.00100 - classifier Evaluation Experiment 158 of 782\n",
      "Param = 0.00100 - classifier Evaluation Experiment 159 of 782\n",
      "Param = 0.00100 - classifier Evaluation Experiment 160 of 782\n",
      "Param = 0.00100 - classifier Evaluation Experiment 161 of 782\n",
      "Param = 0.00100 - classifier Evaluation Experiment 162 of 782\n",
      "Param = 0.00100 - classifier Evaluation Experiment 163 of 782\n",
      "Param = 0.00100 - classifier Evaluation Experiment 164 of 782\n",
      "Param = 0.00100 - classifier Evaluation Experiment 165 of 782\n",
      "Param = 0.00100 - classifier Evaluation Experiment 166 of 782\n",
      "Param = 0.00100 - classifier Evaluation Experiment 167 of 782\n",
      "Param = 0.00100 - classifier Evaluation Experiment 168 of 782\n",
      "Param = 0.00100 - classifier Evaluation Experiment 169 of 782\n",
      "Param = 0.00100 - classifier Evaluation Experiment 170 of 782\n",
      "Param = 0.00100 - classifier Evaluation Experiment 171 of 782\n",
      "Param = 0.00100 - classifier Evaluation Experiment 172 of 782\n",
      "Param = 0.00100 - classifier Evaluation Experiment 173 of 782\n",
      "Param = 0.00100 - classifier Evaluation Experiment 174 of 782\n",
      "Param = 0.00100 - classifier Evaluation Experiment 175 of 782\n",
      "Param = 0.00100 - classifier Evaluation Experiment 176 of 782\n",
      "Param = 0.00100 - classifier Evaluation Experiment 177 of 782\n",
      "Param = 0.00100 - classifier Evaluation Experiment 178 of 782\n",
      "Param = 0.00100 - classifier Evaluation Experiment 179 of 782\n",
      "Param = 0.00100 - classifier Evaluation Experiment 180 of 782\n",
      "Param = 0.00100 - classifier Evaluation Experiment 181 of 782\n",
      "Param = 0.00100 - classifier Evaluation Experiment 182 of 782\n",
      "Param = 0.00100 - classifier Evaluation Experiment 183 of 782\n",
      "Param = 0.00100 - classifier Evaluation Experiment 184 of 782\n",
      "Param = 0.00100 - classifier Evaluation Experiment 185 of 782\n",
      "Param = 0.00100 - classifier Evaluation Experiment 186 of 782\n",
      "Param = 0.00100 - classifier Evaluation Experiment 187 of 782\n",
      "Param = 0.00100 - classifier Evaluation Experiment 188 of 782\n",
      "Param = 0.00100 - classifier Evaluation Experiment 189 of 782\n",
      "Param = 0.00100 - classifier Evaluation Experiment 190 of 782\n",
      "Param = 0.00100 - classifier Evaluation Experiment 191 of 782\n",
      "Param = 0.00100 - classifier Evaluation Experiment 192 of 782\n",
      "Param = 0.00100 - classifier Evaluation Experiment 193 of 782\n",
      "Param = 0.00100 - classifier Evaluation Experiment 194 of 782\n",
      "Param = 0.00100 - classifier Evaluation Experiment 195 of 782\n",
      "Param = 0.00100 - classifier Evaluation Experiment 196 of 782\n",
      "Param = 0.00100 - classifier Evaluation Experiment 197 of 782\n",
      "Param = 0.00100 - classifier Evaluation Experiment 198 of 782\n",
      "Param = 0.00100 - classifier Evaluation Experiment 199 of 782\n",
      "Param = 0.00100 - classifier Evaluation Experiment 200 of 782\n",
      "Param = 0.00100 - classifier Evaluation Experiment 201 of 782\n",
      "Param = 0.00100 - classifier Evaluation Experiment 202 of 782\n",
      "Param = 0.00100 - classifier Evaluation Experiment 203 of 782\n",
      "Param = 0.00100 - classifier Evaluation Experiment 204 of 782\n",
      "Param = 0.00100 - classifier Evaluation Experiment 205 of 782\n",
      "Param = 0.00100 - classifier Evaluation Experiment 206 of 782\n",
      "Param = 0.00100 - classifier Evaluation Experiment 207 of 782\n",
      "Param = 0.00100 - classifier Evaluation Experiment 208 of 782\n",
      "Param = 0.00100 - classifier Evaluation Experiment 209 of 782\n",
      "Param = 0.00100 - classifier Evaluation Experiment 210 of 782\n",
      "Param = 0.00100 - classifier Evaluation Experiment 211 of 782\n",
      "Param = 0.00100 - classifier Evaluation Experiment 212 of 782\n",
      "Param = 0.00100 - classifier Evaluation Experiment 213 of 782\n",
      "Param = 0.00100 - classifier Evaluation Experiment 214 of 782\n",
      "Param = 0.00100 - classifier Evaluation Experiment 215 of 782\n",
      "Param = 0.00100 - classifier Evaluation Experiment 216 of 782\n",
      "Param = 0.00100 - classifier Evaluation Experiment 217 of 782\n",
      "Param = 0.00100 - classifier Evaluation Experiment 218 of 782\n",
      "Param = 0.00100 - classifier Evaluation Experiment 219 of 782\n",
      "Param = 0.00100 - classifier Evaluation Experiment 220 of 782\n",
      "Param = 0.00100 - classifier Evaluation Experiment 221 of 782\n",
      "Param = 0.00100 - classifier Evaluation Experiment 222 of 782\n",
      "Param = 0.00100 - classifier Evaluation Experiment 223 of 782\n",
      "Param = 0.00100 - classifier Evaluation Experiment 224 of 782\n",
      "Param = 0.00100 - classifier Evaluation Experiment 225 of 782\n",
      "Param = 0.00100 - classifier Evaluation Experiment 226 of 782\n",
      "Param = 0.00100 - classifier Evaluation Experiment 227 of 782\n",
      "Param = 0.00100 - classifier Evaluation Experiment 228 of 782\n",
      "Param = 0.00100 - classifier Evaluation Experiment 229 of 782\n",
      "Param = 0.00100 - classifier Evaluation Experiment 230 of 782\n",
      "Param = 0.00100 - classifier Evaluation Experiment 231 of 782\n",
      "Param = 0.00100 - classifier Evaluation Experiment 232 of 782\n",
      "Param = 0.00100 - classifier Evaluation Experiment 233 of 782\n",
      "Param = 0.00100 - classifier Evaluation Experiment 234 of 782\n",
      "Param = 0.00100 - classifier Evaluation Experiment 235 of 782\n",
      "Param = 0.00100 - classifier Evaluation Experiment 236 of 782\n",
      "Param = 0.00100 - classifier Evaluation Experiment 237 of 782\n",
      "Param = 0.00100 - classifier Evaluation Experiment 238 of 782\n",
      "Param = 0.00100 - classifier Evaluation Experiment 239 of 782\n",
      "Param = 0.00100 - classifier Evaluation Experiment 240 of 782\n",
      "Param = 0.00100 - classifier Evaluation Experiment 241 of 782\n",
      "Param = 0.00100 - classifier Evaluation Experiment 242 of 782\n",
      "Param = 0.00100 - classifier Evaluation Experiment 243 of 782\n",
      "Param = 0.00100 - classifier Evaluation Experiment 244 of 782\n",
      "Param = 0.00100 - classifier Evaluation Experiment 245 of 782\n",
      "Param = 0.00100 - classifier Evaluation Experiment 246 of 782\n",
      "Param = 0.00100 - classifier Evaluation Experiment 247 of 782\n",
      "Param = 0.00100 - classifier Evaluation Experiment 248 of 782\n",
      "Param = 0.00100 - classifier Evaluation Experiment 249 of 782\n",
      "Param = 0.00100 - classifier Evaluation Experiment 250 of 782\n",
      "Param = 0.00100 - classifier Evaluation Experiment 251 of 782\n",
      "Param = 0.00100 - classifier Evaluation Experiment 252 of 782\n",
      "Param = 0.00100 - classifier Evaluation Experiment 253 of 782\n",
      "Param = 0.00100 - classifier Evaluation Experiment 254 of 782\n",
      "Param = 0.00100 - classifier Evaluation Experiment 255 of 782\n",
      "Param = 0.00100 - classifier Evaluation Experiment 256 of 782\n",
      "Param = 0.00100 - classifier Evaluation Experiment 257 of 782\n",
      "Param = 0.00100 - classifier Evaluation Experiment 258 of 782\n",
      "Param = 0.00100 - classifier Evaluation Experiment 259 of 782\n",
      "Param = 0.00100 - classifier Evaluation Experiment 260 of 782\n",
      "Param = 0.00100 - classifier Evaluation Experiment 261 of 782\n",
      "Param = 0.00100 - classifier Evaluation Experiment 262 of 782\n",
      "Param = 0.00100 - classifier Evaluation Experiment 263 of 782\n",
      "Param = 0.00100 - classifier Evaluation Experiment 264 of 782\n",
      "Param = 0.00100 - classifier Evaluation Experiment 265 of 782\n",
      "Param = 0.00100 - classifier Evaluation Experiment 266 of 782\n",
      "Param = 0.00100 - classifier Evaluation Experiment 267 of 782\n",
      "Param = 0.00100 - classifier Evaluation Experiment 268 of 782\n",
      "Param = 0.00100 - classifier Evaluation Experiment 269 of 782\n",
      "Param = 0.00100 - classifier Evaluation Experiment 270 of 782\n",
      "Param = 0.00100 - classifier Evaluation Experiment 271 of 782\n",
      "Param = 0.00100 - classifier Evaluation Experiment 272 of 782\n",
      "Param = 0.00100 - classifier Evaluation Experiment 273 of 782\n",
      "Param = 0.00100 - classifier Evaluation Experiment 274 of 782\n",
      "Param = 0.00100 - classifier Evaluation Experiment 275 of 782\n",
      "Param = 0.00100 - classifier Evaluation Experiment 276 of 782\n",
      "Param = 0.00100 - classifier Evaluation Experiment 277 of 782\n",
      "Param = 0.00100 - classifier Evaluation Experiment 278 of 782\n",
      "Param = 0.00100 - classifier Evaluation Experiment 279 of 782\n",
      "Param = 0.00100 - classifier Evaluation Experiment 280 of 782\n",
      "Param = 0.00100 - classifier Evaluation Experiment 281 of 782\n",
      "Param = 0.00100 - classifier Evaluation Experiment 282 of 782\n",
      "Param = 0.00100 - classifier Evaluation Experiment 283 of 782\n",
      "Param = 0.00100 - classifier Evaluation Experiment 284 of 782\n",
      "Param = 0.00100 - classifier Evaluation Experiment 285 of 782\n",
      "Param = 0.00100 - classifier Evaluation Experiment 286 of 782\n",
      "Param = 0.00100 - classifier Evaluation Experiment 287 of 782\n",
      "Param = 0.00100 - classifier Evaluation Experiment 288 of 782\n",
      "Param = 0.00100 - classifier Evaluation Experiment 289 of 782\n",
      "Param = 0.00100 - classifier Evaluation Experiment 290 of 782\n",
      "Param = 0.00100 - classifier Evaluation Experiment 291 of 782\n",
      "Param = 0.00100 - classifier Evaluation Experiment 292 of 782\n",
      "Param = 0.00100 - classifier Evaluation Experiment 293 of 782\n",
      "Param = 0.00100 - classifier Evaluation Experiment 294 of 782\n",
      "Param = 0.00100 - classifier Evaluation Experiment 295 of 782\n",
      "Param = 0.00100 - classifier Evaluation Experiment 296 of 782\n",
      "Param = 0.00100 - classifier Evaluation Experiment 297 of 782\n",
      "Param = 0.00100 - classifier Evaluation Experiment 298 of 782\n",
      "Param = 0.00100 - classifier Evaluation Experiment 299 of 782\n",
      "Param = 0.00100 - classifier Evaluation Experiment 300 of 782\n",
      "Param = 0.00100 - classifier Evaluation Experiment 301 of 782\n",
      "Param = 0.00100 - classifier Evaluation Experiment 302 of 782\n",
      "Param = 0.00100 - classifier Evaluation Experiment 303 of 782\n",
      "Param = 0.00100 - classifier Evaluation Experiment 304 of 782\n",
      "Param = 0.00100 - classifier Evaluation Experiment 305 of 782\n",
      "Param = 0.00100 - classifier Evaluation Experiment 306 of 782\n",
      "Param = 0.00100 - classifier Evaluation Experiment 307 of 782\n",
      "Param = 0.00100 - classifier Evaluation Experiment 308 of 782\n",
      "Param = 0.00100 - classifier Evaluation Experiment 309 of 782\n",
      "Param = 0.00100 - classifier Evaluation Experiment 310 of 782\n",
      "Param = 0.00100 - classifier Evaluation Experiment 311 of 782\n",
      "Param = 0.00100 - classifier Evaluation Experiment 312 of 782\n",
      "Param = 0.00100 - classifier Evaluation Experiment 313 of 782\n",
      "Param = 0.00100 - classifier Evaluation Experiment 314 of 782\n",
      "Param = 0.00100 - classifier Evaluation Experiment 315 of 782\n",
      "Param = 0.00100 - classifier Evaluation Experiment 316 of 782\n",
      "Param = 0.00100 - classifier Evaluation Experiment 317 of 782\n",
      "Param = 0.00100 - classifier Evaluation Experiment 318 of 782\n",
      "Param = 0.00100 - classifier Evaluation Experiment 319 of 782\n",
      "Param = 0.00100 - classifier Evaluation Experiment 320 of 782\n",
      "Param = 0.00100 - classifier Evaluation Experiment 321 of 782\n",
      "Param = 0.00100 - classifier Evaluation Experiment 322 of 782\n",
      "Param = 0.00100 - classifier Evaluation Experiment 323 of 782\n",
      "Param = 0.00100 - classifier Evaluation Experiment 324 of 782\n",
      "Param = 0.00100 - classifier Evaluation Experiment 325 of 782\n",
      "Param = 0.00100 - classifier Evaluation Experiment 326 of 782\n",
      "Param = 0.00100 - classifier Evaluation Experiment 327 of 782\n",
      "Param = 0.00100 - classifier Evaluation Experiment 328 of 782\n",
      "Param = 0.00100 - classifier Evaluation Experiment 329 of 782\n",
      "Param = 0.00100 - classifier Evaluation Experiment 330 of 782\n",
      "Param = 0.00100 - classifier Evaluation Experiment 331 of 782\n",
      "Param = 0.00100 - classifier Evaluation Experiment 332 of 782\n",
      "Param = 0.00100 - classifier Evaluation Experiment 333 of 782\n",
      "Param = 0.00100 - classifier Evaluation Experiment 334 of 782\n",
      "Param = 0.00100 - classifier Evaluation Experiment 335 of 782\n",
      "Param = 0.00100 - classifier Evaluation Experiment 336 of 782\n",
      "Param = 0.00100 - classifier Evaluation Experiment 337 of 782\n",
      "Param = 0.00100 - classifier Evaluation Experiment 338 of 782\n",
      "Param = 0.00100 - classifier Evaluation Experiment 339 of 782\n",
      "Param = 0.00100 - classifier Evaluation Experiment 340 of 782\n",
      "Param = 0.00100 - classifier Evaluation Experiment 341 of 782\n",
      "Param = 0.00100 - classifier Evaluation Experiment 342 of 782\n",
      "Param = 0.00100 - classifier Evaluation Experiment 343 of 782\n",
      "Param = 0.00100 - classifier Evaluation Experiment 344 of 782\n",
      "Param = 0.00100 - classifier Evaluation Experiment 345 of 782\n",
      "Param = 0.00100 - classifier Evaluation Experiment 346 of 782\n",
      "Param = 0.00100 - classifier Evaluation Experiment 347 of 782\n",
      "Param = 0.00100 - classifier Evaluation Experiment 348 of 782\n",
      "Param = 0.00100 - classifier Evaluation Experiment 349 of 782\n",
      "Param = 0.00100 - classifier Evaluation Experiment 350 of 782\n",
      "Param = 0.00100 - classifier Evaluation Experiment 351 of 782\n",
      "Param = 0.00100 - classifier Evaluation Experiment 352 of 782\n",
      "Param = 0.00100 - classifier Evaluation Experiment 353 of 782\n",
      "Param = 0.00100 - classifier Evaluation Experiment 354 of 782\n",
      "Param = 0.00100 - classifier Evaluation Experiment 355 of 782\n",
      "Param = 0.00100 - classifier Evaluation Experiment 356 of 782\n",
      "Param = 0.00100 - classifier Evaluation Experiment 357 of 782\n",
      "Param = 0.00100 - classifier Evaluation Experiment 358 of 782\n",
      "Param = 0.00100 - classifier Evaluation Experiment 359 of 782\n",
      "Param = 0.00100 - classifier Evaluation Experiment 360 of 782\n",
      "Param = 0.00100 - classifier Evaluation Experiment 361 of 782\n",
      "Param = 0.00100 - classifier Evaluation Experiment 362 of 782\n",
      "Param = 0.00100 - classifier Evaluation Experiment 363 of 782\n",
      "Param = 0.00100 - classifier Evaluation Experiment 364 of 782\n",
      "Param = 0.00100 - classifier Evaluation Experiment 365 of 782\n",
      "Param = 0.00100 - classifier Evaluation Experiment 366 of 782\n",
      "Param = 0.00100 - classifier Evaluation Experiment 367 of 782\n",
      "Param = 0.00100 - classifier Evaluation Experiment 368 of 782\n",
      "Param = 0.00100 - classifier Evaluation Experiment 369 of 782\n",
      "Param = 0.00100 - classifier Evaluation Experiment 370 of 782\n",
      "Param = 0.00100 - classifier Evaluation Experiment 371 of 782\n",
      "Param = 0.00100 - classifier Evaluation Experiment 372 of 782\n",
      "Param = 0.00100 - classifier Evaluation Experiment 373 of 782\n",
      "Param = 0.00100 - classifier Evaluation Experiment 374 of 782\n",
      "Param = 0.00100 - classifier Evaluation Experiment 375 of 782\n",
      "Param = 0.00100 - classifier Evaluation Experiment 376 of 782\n",
      "Param = 0.00100 - classifier Evaluation Experiment 377 of 782\n",
      "Param = 0.00100 - classifier Evaluation Experiment 378 of 782\n",
      "Param = 0.00100 - classifier Evaluation Experiment 379 of 782\n",
      "Param = 0.00100 - classifier Evaluation Experiment 380 of 782\n",
      "Param = 0.00100 - classifier Evaluation Experiment 381 of 782\n",
      "Param = 0.00100 - classifier Evaluation Experiment 382 of 782\n",
      "Param = 0.00100 - classifier Evaluation Experiment 383 of 782\n",
      "Param = 0.00100 - classifier Evaluation Experiment 384 of 782\n",
      "Param = 0.00100 - classifier Evaluation Experiment 385 of 782\n",
      "Param = 0.00100 - classifier Evaluation Experiment 386 of 782\n",
      "Param = 0.00100 - classifier Evaluation Experiment 387 of 782\n",
      "Param = 0.00100 - classifier Evaluation Experiment 388 of 782\n",
      "Param = 0.00100 - classifier Evaluation Experiment 389 of 782\n",
      "Param = 0.00100 - classifier Evaluation Experiment 390 of 782\n",
      "Param = 0.00100 - classifier Evaluation Experiment 391 of 782\n",
      "Param = 0.00100 - classifier Evaluation Experiment 392 of 782\n",
      "Param = 0.00100 - classifier Evaluation Experiment 393 of 782\n",
      "Param = 0.00100 - classifier Evaluation Experiment 394 of 782\n",
      "Param = 0.00100 - classifier Evaluation Experiment 395 of 782\n",
      "Param = 0.00100 - classifier Evaluation Experiment 396 of 782\n",
      "Param = 0.00100 - classifier Evaluation Experiment 397 of 782\n",
      "Param = 0.00100 - classifier Evaluation Experiment 398 of 782\n",
      "Param = 0.00100 - classifier Evaluation Experiment 399 of 782\n",
      "Param = 0.00100 - classifier Evaluation Experiment 400 of 782\n",
      "Param = 0.00100 - classifier Evaluation Experiment 401 of 782\n",
      "Param = 0.00100 - classifier Evaluation Experiment 402 of 782\n",
      "Param = 0.00100 - classifier Evaluation Experiment 403 of 782\n",
      "Param = 0.00100 - classifier Evaluation Experiment 404 of 782\n",
      "Param = 0.00100 - classifier Evaluation Experiment 405 of 782\n",
      "Param = 0.00100 - classifier Evaluation Experiment 406 of 782\n",
      "Param = 0.00100 - classifier Evaluation Experiment 407 of 782\n",
      "Param = 0.00100 - classifier Evaluation Experiment 408 of 782\n",
      "Param = 0.00100 - classifier Evaluation Experiment 409 of 782\n",
      "Param = 0.00100 - classifier Evaluation Experiment 410 of 782\n",
      "Param = 0.00100 - classifier Evaluation Experiment 411 of 782\n",
      "Param = 0.00100 - classifier Evaluation Experiment 412 of 782\n",
      "Param = 0.00100 - classifier Evaluation Experiment 413 of 782\n",
      "Param = 0.00100 - classifier Evaluation Experiment 414 of 782\n",
      "Param = 0.00100 - classifier Evaluation Experiment 415 of 782\n",
      "Param = 0.00100 - classifier Evaluation Experiment 416 of 782\n",
      "Param = 0.00100 - classifier Evaluation Experiment 417 of 782\n",
      "Param = 0.00100 - classifier Evaluation Experiment 418 of 782\n",
      "Param = 0.00100 - classifier Evaluation Experiment 419 of 782\n",
      "Param = 0.00100 - classifier Evaluation Experiment 420 of 782\n",
      "Param = 0.00100 - classifier Evaluation Experiment 421 of 782\n",
      "Param = 0.00100 - classifier Evaluation Experiment 422 of 782\n",
      "Param = 0.00100 - classifier Evaluation Experiment 423 of 782\n",
      "Param = 0.00100 - classifier Evaluation Experiment 424 of 782\n",
      "Param = 0.00100 - classifier Evaluation Experiment 425 of 782\n",
      "Param = 0.00100 - classifier Evaluation Experiment 426 of 782\n",
      "Param = 0.00100 - classifier Evaluation Experiment 427 of 782\n",
      "Param = 0.00100 - classifier Evaluation Experiment 428 of 782\n",
      "Param = 0.00100 - classifier Evaluation Experiment 429 of 782\n",
      "Param = 0.00100 - classifier Evaluation Experiment 430 of 782\n",
      "Param = 0.00100 - classifier Evaluation Experiment 431 of 782\n",
      "Param = 0.00100 - classifier Evaluation Experiment 432 of 782\n",
      "Param = 0.00100 - classifier Evaluation Experiment 433 of 782\n",
      "Param = 0.00100 - classifier Evaluation Experiment 434 of 782\n",
      "Param = 0.00100 - classifier Evaluation Experiment 435 of 782\n",
      "Param = 0.00100 - classifier Evaluation Experiment 436 of 782\n",
      "Param = 0.00100 - classifier Evaluation Experiment 437 of 782\n",
      "Param = 0.00100 - classifier Evaluation Experiment 438 of 782\n",
      "Param = 0.00100 - classifier Evaluation Experiment 439 of 782\n",
      "Param = 0.00100 - classifier Evaluation Experiment 440 of 782\n",
      "Param = 0.00100 - classifier Evaluation Experiment 441 of 782\n",
      "Param = 0.00100 - classifier Evaluation Experiment 442 of 782\n",
      "Param = 0.00100 - classifier Evaluation Experiment 443 of 782\n",
      "Param = 0.00100 - classifier Evaluation Experiment 444 of 782\n",
      "Param = 0.00100 - classifier Evaluation Experiment 445 of 782\n",
      "Param = 0.00100 - classifier Evaluation Experiment 446 of 782\n",
      "Param = 0.00100 - classifier Evaluation Experiment 447 of 782\n",
      "Param = 0.00100 - classifier Evaluation Experiment 448 of 782\n",
      "Param = 0.00100 - classifier Evaluation Experiment 449 of 782\n",
      "Param = 0.00100 - classifier Evaluation Experiment 450 of 782\n",
      "Param = 0.00100 - classifier Evaluation Experiment 451 of 782\n",
      "Param = 0.00100 - classifier Evaluation Experiment 452 of 782\n",
      "Param = 0.00100 - classifier Evaluation Experiment 453 of 782\n",
      "Param = 0.00100 - classifier Evaluation Experiment 454 of 782\n",
      "Param = 0.00100 - classifier Evaluation Experiment 455 of 782\n",
      "Param = 0.00100 - classifier Evaluation Experiment 456 of 782\n",
      "Param = 0.00100 - classifier Evaluation Experiment 457 of 782\n",
      "Param = 0.00100 - classifier Evaluation Experiment 458 of 782\n",
      "Param = 0.00100 - classifier Evaluation Experiment 459 of 782\n",
      "Param = 0.00100 - classifier Evaluation Experiment 460 of 782\n",
      "Param = 0.00100 - classifier Evaluation Experiment 461 of 782\n",
      "Param = 0.00100 - classifier Evaluation Experiment 462 of 782\n",
      "Param = 0.00100 - classifier Evaluation Experiment 463 of 782\n",
      "Param = 0.00100 - classifier Evaluation Experiment 464 of 782\n",
      "Param = 0.00100 - classifier Evaluation Experiment 465 of 782\n",
      "Param = 0.00100 - classifier Evaluation Experiment 466 of 782\n",
      "Param = 0.00100 - classifier Evaluation Experiment 467 of 782\n",
      "Param = 0.00100 - classifier Evaluation Experiment 468 of 782\n",
      "Param = 0.00100 - classifier Evaluation Experiment 469 of 782\n",
      "Param = 0.00100 - classifier Evaluation Experiment 470 of 782\n",
      "Param = 0.00100 - classifier Evaluation Experiment 471 of 782\n",
      "Param = 0.00100 - classifier Evaluation Experiment 472 of 782\n",
      "Param = 0.00100 - classifier Evaluation Experiment 473 of 782\n",
      "Param = 0.00100 - classifier Evaluation Experiment 474 of 782\n",
      "Param = 0.00100 - classifier Evaluation Experiment 475 of 782\n",
      "Param = 0.00100 - classifier Evaluation Experiment 476 of 782\n",
      "Param = 0.00100 - classifier Evaluation Experiment 477 of 782\n",
      "Param = 0.00100 - classifier Evaluation Experiment 478 of 782\n",
      "Param = 0.00100 - classifier Evaluation Experiment 479 of 782\n",
      "Param = 0.00100 - classifier Evaluation Experiment 480 of 782\n",
      "Param = 0.00100 - classifier Evaluation Experiment 481 of 782\n",
      "Param = 0.00100 - classifier Evaluation Experiment 482 of 782\n",
      "Param = 0.00100 - classifier Evaluation Experiment 483 of 782\n",
      "Param = 0.00100 - classifier Evaluation Experiment 484 of 782\n",
      "Param = 0.00100 - classifier Evaluation Experiment 485 of 782\n",
      "Param = 0.00100 - classifier Evaluation Experiment 486 of 782\n",
      "Param = 0.00100 - classifier Evaluation Experiment 487 of 782\n",
      "Param = 0.00100 - classifier Evaluation Experiment 488 of 782\n",
      "Param = 0.00100 - classifier Evaluation Experiment 489 of 782\n",
      "Param = 0.00100 - classifier Evaluation Experiment 490 of 782\n",
      "Param = 0.00100 - classifier Evaluation Experiment 491 of 782\n",
      "Param = 0.00100 - classifier Evaluation Experiment 492 of 782\n",
      "Param = 0.00100 - classifier Evaluation Experiment 493 of 782\n",
      "Param = 0.00100 - classifier Evaluation Experiment 494 of 782\n",
      "Param = 0.00100 - classifier Evaluation Experiment 495 of 782\n",
      "Param = 0.00100 - classifier Evaluation Experiment 496 of 782\n",
      "Param = 0.00100 - classifier Evaluation Experiment 497 of 782\n",
      "Param = 0.00100 - classifier Evaluation Experiment 498 of 782\n",
      "Param = 0.00100 - classifier Evaluation Experiment 499 of 782\n",
      "Param = 0.00100 - classifier Evaluation Experiment 500 of 782\n",
      "Param = 0.00100 - classifier Evaluation Experiment 501 of 782\n",
      "Param = 0.00100 - classifier Evaluation Experiment 502 of 782\n",
      "Param = 0.00100 - classifier Evaluation Experiment 503 of 782\n",
      "Param = 0.00100 - classifier Evaluation Experiment 504 of 782\n",
      "Param = 0.00100 - classifier Evaluation Experiment 505 of 782\n",
      "Param = 0.00100 - classifier Evaluation Experiment 506 of 782\n",
      "Param = 0.00100 - classifier Evaluation Experiment 507 of 782\n",
      "Param = 0.00100 - classifier Evaluation Experiment 508 of 782\n",
      "Param = 0.00100 - classifier Evaluation Experiment 509 of 782\n",
      "Param = 0.00100 - classifier Evaluation Experiment 510 of 782\n",
      "Param = 0.00100 - classifier Evaluation Experiment 511 of 782\n",
      "Param = 0.00100 - classifier Evaluation Experiment 512 of 782\n",
      "Param = 0.00100 - classifier Evaluation Experiment 513 of 782\n",
      "Param = 0.00100 - classifier Evaluation Experiment 514 of 782\n",
      "Param = 0.00100 - classifier Evaluation Experiment 515 of 782\n",
      "Param = 0.00100 - classifier Evaluation Experiment 516 of 782\n",
      "Param = 0.00100 - classifier Evaluation Experiment 517 of 782\n",
      "Param = 0.00100 - classifier Evaluation Experiment 518 of 782\n",
      "Param = 0.00100 - classifier Evaluation Experiment 519 of 782\n",
      "Param = 0.00100 - classifier Evaluation Experiment 520 of 782\n",
      "Param = 0.00100 - classifier Evaluation Experiment 521 of 782\n",
      "Param = 0.00100 - classifier Evaluation Experiment 522 of 782\n",
      "Param = 0.00100 - classifier Evaluation Experiment 523 of 782\n",
      "Param = 0.00100 - classifier Evaluation Experiment 524 of 782\n",
      "Param = 0.00100 - classifier Evaluation Experiment 525 of 782\n",
      "Param = 0.00100 - classifier Evaluation Experiment 526 of 782\n",
      "Param = 0.00100 - classifier Evaluation Experiment 527 of 782\n",
      "Param = 0.00100 - classifier Evaluation Experiment 528 of 782\n",
      "Param = 0.00100 - classifier Evaluation Experiment 529 of 782\n",
      "Param = 0.00100 - classifier Evaluation Experiment 530 of 782\n",
      "Param = 0.00100 - classifier Evaluation Experiment 531 of 782\n",
      "Param = 0.00100 - classifier Evaluation Experiment 532 of 782\n",
      "Param = 0.00100 - classifier Evaluation Experiment 533 of 782\n",
      "Param = 0.00100 - classifier Evaluation Experiment 534 of 782\n",
      "Param = 0.00100 - classifier Evaluation Experiment 535 of 782\n",
      "Param = 0.00100 - classifier Evaluation Experiment 536 of 782\n",
      "Param = 0.00100 - classifier Evaluation Experiment 537 of 782\n",
      "Param = 0.00100 - classifier Evaluation Experiment 538 of 782\n",
      "Param = 0.00100 - classifier Evaluation Experiment 539 of 782\n",
      "Param = 0.00100 - classifier Evaluation Experiment 540 of 782\n",
      "Param = 0.00100 - classifier Evaluation Experiment 541 of 782\n",
      "Param = 0.00100 - classifier Evaluation Experiment 542 of 782\n",
      "Param = 0.00100 - classifier Evaluation Experiment 543 of 782\n",
      "Param = 0.00100 - classifier Evaluation Experiment 544 of 782\n",
      "Param = 0.00100 - classifier Evaluation Experiment 545 of 782\n",
      "Param = 0.00100 - classifier Evaluation Experiment 546 of 782\n",
      "Param = 0.00100 - classifier Evaluation Experiment 547 of 782\n",
      "Param = 0.00100 - classifier Evaluation Experiment 548 of 782\n",
      "Param = 0.00100 - classifier Evaluation Experiment 549 of 782\n",
      "Param = 0.00100 - classifier Evaluation Experiment 550 of 782\n",
      "Param = 0.00100 - classifier Evaluation Experiment 551 of 782\n",
      "Param = 0.00100 - classifier Evaluation Experiment 552 of 782\n",
      "Param = 0.00100 - classifier Evaluation Experiment 553 of 782\n",
      "Param = 0.00100 - classifier Evaluation Experiment 554 of 782\n",
      "Param = 0.00100 - classifier Evaluation Experiment 555 of 782\n",
      "Param = 0.00100 - classifier Evaluation Experiment 556 of 782\n",
      "Param = 0.00100 - classifier Evaluation Experiment 557 of 782\n",
      "Param = 0.00100 - classifier Evaluation Experiment 558 of 782\n",
      "Param = 0.00100 - classifier Evaluation Experiment 559 of 782\n",
      "Param = 0.00100 - classifier Evaluation Experiment 560 of 782\n",
      "Param = 0.00100 - classifier Evaluation Experiment 561 of 782\n",
      "Param = 0.00100 - classifier Evaluation Experiment 562 of 782\n",
      "Param = 0.00100 - classifier Evaluation Experiment 563 of 782\n",
      "Param = 0.00100 - classifier Evaluation Experiment 564 of 782\n",
      "Param = 0.00100 - classifier Evaluation Experiment 565 of 782\n",
      "Param = 0.00100 - classifier Evaluation Experiment 566 of 782\n",
      "Param = 0.00100 - classifier Evaluation Experiment 567 of 782\n",
      "Param = 0.00100 - classifier Evaluation Experiment 568 of 782\n",
      "Param = 0.00100 - classifier Evaluation Experiment 569 of 782\n",
      "Param = 0.00100 - classifier Evaluation Experiment 570 of 782\n",
      "Param = 0.00100 - classifier Evaluation Experiment 571 of 782\n",
      "Param = 0.00100 - classifier Evaluation Experiment 572 of 782\n",
      "Param = 0.00100 - classifier Evaluation Experiment 573 of 782\n",
      "Param = 0.00100 - classifier Evaluation Experiment 574 of 782\n",
      "Param = 0.00100 - classifier Evaluation Experiment 575 of 782\n",
      "Param = 0.00100 - classifier Evaluation Experiment 576 of 782\n",
      "Param = 0.00100 - classifier Evaluation Experiment 577 of 782\n",
      "Param = 0.00100 - classifier Evaluation Experiment 578 of 782\n",
      "Param = 0.00100 - classifier Evaluation Experiment 579 of 782\n",
      "Param = 0.00100 - classifier Evaluation Experiment 580 of 782\n",
      "Param = 0.00100 - classifier Evaluation Experiment 581 of 782\n",
      "Param = 0.00100 - classifier Evaluation Experiment 582 of 782\n",
      "Param = 0.00100 - classifier Evaluation Experiment 583 of 782\n",
      "Param = 0.00100 - classifier Evaluation Experiment 584 of 782\n",
      "Param = 0.00100 - classifier Evaluation Experiment 585 of 782\n",
      "Param = 0.00100 - classifier Evaluation Experiment 586 of 782\n",
      "Param = 0.00100 - classifier Evaluation Experiment 587 of 782\n",
      "Param = 0.00100 - classifier Evaluation Experiment 588 of 782\n",
      "Param = 0.00100 - classifier Evaluation Experiment 589 of 782\n",
      "Param = 0.00100 - classifier Evaluation Experiment 590 of 782\n",
      "Param = 0.00100 - classifier Evaluation Experiment 591 of 782\n",
      "Param = 0.00100 - classifier Evaluation Experiment 592 of 782\n",
      "Param = 0.00100 - classifier Evaluation Experiment 593 of 782\n",
      "Param = 0.00100 - classifier Evaluation Experiment 594 of 782\n",
      "Param = 0.00100 - classifier Evaluation Experiment 595 of 782\n",
      "Param = 0.00100 - classifier Evaluation Experiment 596 of 782\n",
      "Param = 0.00100 - classifier Evaluation Experiment 597 of 782\n",
      "Param = 0.00100 - classifier Evaluation Experiment 598 of 782\n",
      "Param = 0.00100 - classifier Evaluation Experiment 599 of 782\n",
      "Param = 0.00100 - classifier Evaluation Experiment 600 of 782\n",
      "Param = 0.00100 - classifier Evaluation Experiment 601 of 782\n",
      "Param = 0.00100 - classifier Evaluation Experiment 602 of 782\n",
      "Param = 0.00100 - classifier Evaluation Experiment 603 of 782\n",
      "Param = 0.00100 - classifier Evaluation Experiment 604 of 782\n",
      "Param = 0.00100 - classifier Evaluation Experiment 605 of 782\n",
      "Param = 0.00100 - classifier Evaluation Experiment 606 of 782\n",
      "Param = 0.00100 - classifier Evaluation Experiment 607 of 782\n",
      "Param = 0.00100 - classifier Evaluation Experiment 608 of 782\n",
      "Param = 0.00100 - classifier Evaluation Experiment 609 of 782\n",
      "Param = 0.00100 - classifier Evaluation Experiment 610 of 782\n",
      "Param = 0.00100 - classifier Evaluation Experiment 611 of 782\n",
      "Param = 0.00100 - classifier Evaluation Experiment 612 of 782\n",
      "Param = 0.00100 - classifier Evaluation Experiment 613 of 782\n",
      "Param = 0.00100 - classifier Evaluation Experiment 614 of 782\n",
      "Param = 0.00100 - classifier Evaluation Experiment 615 of 782\n",
      "Param = 0.00100 - classifier Evaluation Experiment 616 of 782\n",
      "Param = 0.00100 - classifier Evaluation Experiment 617 of 782\n",
      "Param = 0.00100 - classifier Evaluation Experiment 618 of 782\n",
      "Param = 0.00100 - classifier Evaluation Experiment 619 of 782\n",
      "Param = 0.00100 - classifier Evaluation Experiment 620 of 782\n",
      "Param = 0.00100 - classifier Evaluation Experiment 621 of 782\n",
      "Param = 0.00100 - classifier Evaluation Experiment 622 of 782\n",
      "Param = 0.00100 - classifier Evaluation Experiment 623 of 782\n",
      "Param = 0.00100 - classifier Evaluation Experiment 624 of 782\n",
      "Param = 0.00100 - classifier Evaluation Experiment 625 of 782\n",
      "Param = 0.00100 - classifier Evaluation Experiment 626 of 782\n",
      "Param = 0.00100 - classifier Evaluation Experiment 627 of 782\n",
      "Param = 0.00100 - classifier Evaluation Experiment 628 of 782\n",
      "Param = 0.00100 - classifier Evaluation Experiment 629 of 782\n",
      "Param = 0.00100 - classifier Evaluation Experiment 630 of 782\n",
      "Param = 0.00100 - classifier Evaluation Experiment 631 of 782\n",
      "Param = 0.00100 - classifier Evaluation Experiment 632 of 782\n",
      "Param = 0.00100 - classifier Evaluation Experiment 633 of 782\n",
      "Param = 0.00100 - classifier Evaluation Experiment 634 of 782\n",
      "Param = 0.00100 - classifier Evaluation Experiment 635 of 782\n",
      "Param = 0.00100 - classifier Evaluation Experiment 636 of 782\n",
      "Param = 0.00100 - classifier Evaluation Experiment 637 of 782\n",
      "Param = 0.00100 - classifier Evaluation Experiment 638 of 782\n",
      "Param = 0.00100 - classifier Evaluation Experiment 639 of 782\n",
      "Param = 0.00100 - classifier Evaluation Experiment 640 of 782\n",
      "Param = 0.00100 - classifier Evaluation Experiment 641 of 782\n",
      "Param = 0.00100 - classifier Evaluation Experiment 642 of 782\n",
      "Param = 0.00100 - classifier Evaluation Experiment 643 of 782\n",
      "Param = 0.00100 - classifier Evaluation Experiment 644 of 782\n",
      "Param = 0.00100 - classifier Evaluation Experiment 645 of 782\n",
      "Param = 0.00100 - classifier Evaluation Experiment 646 of 782\n",
      "Param = 0.00100 - classifier Evaluation Experiment 647 of 782\n",
      "Param = 0.00100 - classifier Evaluation Experiment 648 of 782\n",
      "Param = 0.00100 - classifier Evaluation Experiment 649 of 782\n",
      "Param = 0.00100 - classifier Evaluation Experiment 650 of 782\n",
      "Param = 0.00100 - classifier Evaluation Experiment 651 of 782\n",
      "Param = 0.00100 - classifier Evaluation Experiment 652 of 782\n",
      "Param = 0.00100 - classifier Evaluation Experiment 653 of 782\n",
      "Param = 0.00100 - classifier Evaluation Experiment 654 of 782\n",
      "Param = 0.00100 - classifier Evaluation Experiment 655 of 782\n",
      "Param = 0.00100 - classifier Evaluation Experiment 656 of 782\n",
      "Param = 0.00100 - classifier Evaluation Experiment 657 of 782\n",
      "Param = 0.00100 - classifier Evaluation Experiment 658 of 782\n",
      "Param = 0.00100 - classifier Evaluation Experiment 659 of 782\n",
      "Param = 0.00100 - classifier Evaluation Experiment 660 of 782\n",
      "Param = 0.00100 - classifier Evaluation Experiment 661 of 782\n",
      "Param = 0.00100 - classifier Evaluation Experiment 662 of 782\n",
      "Param = 0.00100 - classifier Evaluation Experiment 663 of 782\n",
      "Param = 0.00100 - classifier Evaluation Experiment 664 of 782\n",
      "Param = 0.00100 - classifier Evaluation Experiment 665 of 782\n",
      "Param = 0.00100 - classifier Evaluation Experiment 666 of 782\n",
      "Param = 0.00100 - classifier Evaluation Experiment 667 of 782\n",
      "Param = 0.00100 - classifier Evaluation Experiment 668 of 782\n",
      "Param = 0.00100 - classifier Evaluation Experiment 669 of 782\n",
      "Param = 0.00100 - classifier Evaluation Experiment 670 of 782\n",
      "Param = 0.00100 - classifier Evaluation Experiment 671 of 782\n",
      "Param = 0.00100 - classifier Evaluation Experiment 672 of 782\n",
      "Param = 0.00100 - classifier Evaluation Experiment 673 of 782\n",
      "Param = 0.00100 - classifier Evaluation Experiment 674 of 782\n",
      "Param = 0.00100 - classifier Evaluation Experiment 675 of 782\n",
      "Param = 0.00100 - classifier Evaluation Experiment 676 of 782\n",
      "Param = 0.00100 - classifier Evaluation Experiment 677 of 782\n",
      "Param = 0.00100 - classifier Evaluation Experiment 678 of 782\n",
      "Param = 0.00100 - classifier Evaluation Experiment 679 of 782\n",
      "Param = 0.00100 - classifier Evaluation Experiment 680 of 782\n",
      "Param = 0.00100 - classifier Evaluation Experiment 681 of 782\n",
      "Param = 0.00100 - classifier Evaluation Experiment 682 of 782\n",
      "Param = 0.00100 - classifier Evaluation Experiment 683 of 782\n",
      "Param = 0.00100 - classifier Evaluation Experiment 684 of 782\n",
      "Param = 0.00100 - classifier Evaluation Experiment 685 of 782\n",
      "Param = 0.00100 - classifier Evaluation Experiment 686 of 782\n",
      "Param = 0.00100 - classifier Evaluation Experiment 687 of 782\n",
      "Param = 0.00100 - classifier Evaluation Experiment 688 of 782\n",
      "Param = 0.00100 - classifier Evaluation Experiment 689 of 782\n",
      "Param = 0.00100 - classifier Evaluation Experiment 690 of 782\n",
      "Param = 0.00100 - classifier Evaluation Experiment 691 of 782\n",
      "Param = 0.00100 - classifier Evaluation Experiment 692 of 782\n",
      "Param = 0.00100 - classifier Evaluation Experiment 693 of 782\n",
      "Param = 0.00100 - classifier Evaluation Experiment 694 of 782\n",
      "Param = 0.00100 - classifier Evaluation Experiment 695 of 782\n",
      "Param = 0.00100 - classifier Evaluation Experiment 696 of 782\n",
      "Param = 0.00100 - classifier Evaluation Experiment 697 of 782\n",
      "Param = 0.00100 - classifier Evaluation Experiment 698 of 782\n",
      "Param = 0.00100 - classifier Evaluation Experiment 699 of 782\n",
      "Param = 0.00100 - classifier Evaluation Experiment 700 of 782\n",
      "Param = 0.00100 - classifier Evaluation Experiment 701 of 782\n",
      "Param = 0.00100 - classifier Evaluation Experiment 702 of 782\n",
      "Param = 0.00100 - classifier Evaluation Experiment 703 of 782\n",
      "Param = 0.00100 - classifier Evaluation Experiment 704 of 782\n",
      "Param = 0.00100 - classifier Evaluation Experiment 705 of 782\n",
      "Param = 0.00100 - classifier Evaluation Experiment 706 of 782\n",
      "Param = 0.00100 - classifier Evaluation Experiment 707 of 782\n",
      "Param = 0.00100 - classifier Evaluation Experiment 708 of 782\n",
      "Param = 0.00100 - classifier Evaluation Experiment 709 of 782\n",
      "Param = 0.00100 - classifier Evaluation Experiment 710 of 782\n",
      "Param = 0.00100 - classifier Evaluation Experiment 711 of 782\n",
      "Param = 0.00100 - classifier Evaluation Experiment 712 of 782\n",
      "Param = 0.00100 - classifier Evaluation Experiment 713 of 782\n",
      "Param = 0.00100 - classifier Evaluation Experiment 714 of 782\n",
      "Param = 0.00100 - classifier Evaluation Experiment 715 of 782\n",
      "Param = 0.00100 - classifier Evaluation Experiment 716 of 782\n",
      "Param = 0.00100 - classifier Evaluation Experiment 717 of 782\n",
      "Param = 0.00100 - classifier Evaluation Experiment 718 of 782\n",
      "Param = 0.00100 - classifier Evaluation Experiment 719 of 782\n",
      "Param = 0.00100 - classifier Evaluation Experiment 720 of 782\n",
      "Param = 0.00100 - classifier Evaluation Experiment 721 of 782\n",
      "Param = 0.00100 - classifier Evaluation Experiment 722 of 782\n",
      "Param = 0.00100 - classifier Evaluation Experiment 723 of 782\n",
      "Param = 0.00100 - classifier Evaluation Experiment 724 of 782\n",
      "Param = 0.00100 - classifier Evaluation Experiment 725 of 782\n",
      "Param = 0.00100 - classifier Evaluation Experiment 726 of 782\n",
      "Param = 0.00100 - classifier Evaluation Experiment 727 of 782\n",
      "Param = 0.00100 - classifier Evaluation Experiment 728 of 782\n",
      "Param = 0.00100 - classifier Evaluation Experiment 729 of 782\n",
      "Param = 0.00100 - classifier Evaluation Experiment 730 of 782\n",
      "Param = 0.00100 - classifier Evaluation Experiment 731 of 782\n",
      "Param = 0.00100 - classifier Evaluation Experiment 732 of 782\n",
      "Param = 0.00100 - classifier Evaluation Experiment 733 of 782\n",
      "Param = 0.00100 - classifier Evaluation Experiment 734 of 782\n",
      "Param = 0.00100 - classifier Evaluation Experiment 735 of 782\n",
      "Param = 0.00100 - classifier Evaluation Experiment 736 of 782\n",
      "Param = 0.00100 - classifier Evaluation Experiment 737 of 782\n",
      "Param = 0.00100 - classifier Evaluation Experiment 738 of 782\n",
      "Param = 0.00100 - classifier Evaluation Experiment 739 of 782\n",
      "Param = 0.00100 - classifier Evaluation Experiment 740 of 782\n",
      "Param = 0.00100 - classifier Evaluation Experiment 741 of 782\n",
      "Param = 0.00100 - classifier Evaluation Experiment 742 of 782\n",
      "Param = 0.00100 - classifier Evaluation Experiment 743 of 782\n",
      "Param = 0.00100 - classifier Evaluation Experiment 744 of 782\n",
      "Param = 0.00100 - classifier Evaluation Experiment 745 of 782\n",
      "Param = 0.00100 - classifier Evaluation Experiment 746 of 782\n",
      "Param = 0.00100 - classifier Evaluation Experiment 747 of 782\n",
      "Param = 0.00100 - classifier Evaluation Experiment 748 of 782\n",
      "Param = 0.00100 - classifier Evaluation Experiment 749 of 782\n",
      "Param = 0.00100 - classifier Evaluation Experiment 750 of 782\n",
      "Param = 0.00100 - classifier Evaluation Experiment 751 of 782\n",
      "Param = 0.00100 - classifier Evaluation Experiment 752 of 782\n",
      "Param = 0.00100 - classifier Evaluation Experiment 753 of 782\n",
      "Param = 0.00100 - classifier Evaluation Experiment 754 of 782\n",
      "Param = 0.00100 - classifier Evaluation Experiment 755 of 782\n",
      "Param = 0.00100 - classifier Evaluation Experiment 756 of 782\n",
      "Param = 0.00100 - classifier Evaluation Experiment 757 of 782\n",
      "Param = 0.00100 - classifier Evaluation Experiment 758 of 782\n",
      "Param = 0.00100 - classifier Evaluation Experiment 759 of 782\n",
      "Param = 0.00100 - classifier Evaluation Experiment 760 of 782\n",
      "Param = 0.00100 - classifier Evaluation Experiment 761 of 782\n",
      "Param = 0.00100 - classifier Evaluation Experiment 762 of 782\n",
      "Param = 0.00100 - classifier Evaluation Experiment 763 of 782\n",
      "Param = 0.00100 - classifier Evaluation Experiment 764 of 782\n",
      "Param = 0.00100 - classifier Evaluation Experiment 765 of 782\n",
      "Param = 0.00100 - classifier Evaluation Experiment 766 of 782\n",
      "Param = 0.00100 - classifier Evaluation Experiment 767 of 782\n",
      "Param = 0.00100 - classifier Evaluation Experiment 768 of 782\n",
      "Param = 0.00100 - classifier Evaluation Experiment 769 of 782\n",
      "Param = 0.00100 - classifier Evaluation Experiment 770 of 782\n",
      "Param = 0.00100 - classifier Evaluation Experiment 771 of 782\n",
      "Param = 0.00100 - classifier Evaluation Experiment 772 of 782\n",
      "Param = 0.00100 - classifier Evaluation Experiment 773 of 782\n",
      "Param = 0.00100 - classifier Evaluation Experiment 774 of 782\n",
      "Param = 0.00100 - classifier Evaluation Experiment 775 of 782\n",
      "Param = 0.00100 - classifier Evaluation Experiment 776 of 782\n",
      "Param = 0.00100 - classifier Evaluation Experiment 777 of 782\n",
      "Param = 0.00100 - classifier Evaluation Experiment 778 of 782\n",
      "Param = 0.00100 - classifier Evaluation Experiment 779 of 782\n",
      "Param = 0.00100 - classifier Evaluation Experiment 780 of 782\n",
      "Param = 0.00100 - classifier Evaluation Experiment 781 of 782\n",
      "Param = 0.00100 - classifier Evaluation Experiment 782 of 782\n",
      "Param = 0.01000 - classifier Evaluation Experiment 1 of 782\n",
      "Param = 0.01000 - classifier Evaluation Experiment 2 of 782\n",
      "Param = 0.01000 - classifier Evaluation Experiment 3 of 782\n",
      "Param = 0.01000 - classifier Evaluation Experiment 4 of 782\n",
      "Param = 0.01000 - classifier Evaluation Experiment 5 of 782\n",
      "Param = 0.01000 - classifier Evaluation Experiment 6 of 782\n",
      "Param = 0.01000 - classifier Evaluation Experiment 7 of 782\n",
      "Param = 0.01000 - classifier Evaluation Experiment 8 of 782\n",
      "Param = 0.01000 - classifier Evaluation Experiment 9 of 782\n",
      "Param = 0.01000 - classifier Evaluation Experiment 10 of 782\n",
      "Param = 0.01000 - classifier Evaluation Experiment 11 of 782\n",
      "Param = 0.01000 - classifier Evaluation Experiment 12 of 782\n",
      "Param = 0.01000 - classifier Evaluation Experiment 13 of 782\n",
      "Param = 0.01000 - classifier Evaluation Experiment 14 of 782\n",
      "Param = 0.01000 - classifier Evaluation Experiment 15 of 782\n",
      "Param = 0.01000 - classifier Evaluation Experiment 16 of 782\n",
      "Param = 0.01000 - classifier Evaluation Experiment 17 of 782\n",
      "Param = 0.01000 - classifier Evaluation Experiment 18 of 782\n",
      "Param = 0.01000 - classifier Evaluation Experiment 19 of 782\n",
      "Param = 0.01000 - classifier Evaluation Experiment 20 of 782\n",
      "Param = 0.01000 - classifier Evaluation Experiment 21 of 782\n",
      "Param = 0.01000 - classifier Evaluation Experiment 22 of 782\n",
      "Param = 0.01000 - classifier Evaluation Experiment 23 of 782\n",
      "Param = 0.01000 - classifier Evaluation Experiment 24 of 782\n",
      "Param = 0.01000 - classifier Evaluation Experiment 25 of 782\n",
      "Param = 0.01000 - classifier Evaluation Experiment 26 of 782\n",
      "Param = 0.01000 - classifier Evaluation Experiment 27 of 782\n",
      "Param = 0.01000 - classifier Evaluation Experiment 28 of 782\n",
      "Param = 0.01000 - classifier Evaluation Experiment 29 of 782\n",
      "Param = 0.01000 - classifier Evaluation Experiment 30 of 782\n",
      "Param = 0.01000 - classifier Evaluation Experiment 31 of 782\n",
      "Param = 0.01000 - classifier Evaluation Experiment 32 of 782\n",
      "Param = 0.01000 - classifier Evaluation Experiment 33 of 782\n",
      "Param = 0.01000 - classifier Evaluation Experiment 34 of 782\n",
      "Param = 0.01000 - classifier Evaluation Experiment 35 of 782\n",
      "Param = 0.01000 - classifier Evaluation Experiment 36 of 782\n",
      "Param = 0.01000 - classifier Evaluation Experiment 37 of 782\n",
      "Param = 0.01000 - classifier Evaluation Experiment 38 of 782\n",
      "Param = 0.01000 - classifier Evaluation Experiment 39 of 782\n",
      "Param = 0.01000 - classifier Evaluation Experiment 40 of 782\n",
      "Param = 0.01000 - classifier Evaluation Experiment 41 of 782\n",
      "Param = 0.01000 - classifier Evaluation Experiment 42 of 782\n",
      "Param = 0.01000 - classifier Evaluation Experiment 43 of 782\n",
      "Param = 0.01000 - classifier Evaluation Experiment 44 of 782\n",
      "Param = 0.01000 - classifier Evaluation Experiment 45 of 782\n",
      "Param = 0.01000 - classifier Evaluation Experiment 46 of 782\n",
      "Param = 0.01000 - classifier Evaluation Experiment 47 of 782\n",
      "Param = 0.01000 - classifier Evaluation Experiment 48 of 782\n",
      "Param = 0.01000 - classifier Evaluation Experiment 49 of 782\n",
      "Param = 0.01000 - classifier Evaluation Experiment 50 of 782\n",
      "Param = 0.01000 - classifier Evaluation Experiment 51 of 782\n",
      "Param = 0.01000 - classifier Evaluation Experiment 52 of 782\n",
      "Param = 0.01000 - classifier Evaluation Experiment 53 of 782\n",
      "Param = 0.01000 - classifier Evaluation Experiment 54 of 782\n",
      "Param = 0.01000 - classifier Evaluation Experiment 55 of 782\n",
      "Param = 0.01000 - classifier Evaluation Experiment 56 of 782\n",
      "Param = 0.01000 - classifier Evaluation Experiment 57 of 782\n",
      "Param = 0.01000 - classifier Evaluation Experiment 58 of 782\n",
      "Param = 0.01000 - classifier Evaluation Experiment 59 of 782\n",
      "Param = 0.01000 - classifier Evaluation Experiment 60 of 782\n",
      "Param = 0.01000 - classifier Evaluation Experiment 61 of 782\n",
      "Param = 0.01000 - classifier Evaluation Experiment 62 of 782\n",
      "Param = 0.01000 - classifier Evaluation Experiment 63 of 782\n",
      "Param = 0.01000 - classifier Evaluation Experiment 64 of 782\n",
      "Param = 0.01000 - classifier Evaluation Experiment 65 of 782\n",
      "Param = 0.01000 - classifier Evaluation Experiment 66 of 782\n",
      "Param = 0.01000 - classifier Evaluation Experiment 67 of 782\n",
      "Param = 0.01000 - classifier Evaluation Experiment 68 of 782\n",
      "Param = 0.01000 - classifier Evaluation Experiment 69 of 782\n",
      "Param = 0.01000 - classifier Evaluation Experiment 70 of 782\n",
      "Param = 0.01000 - classifier Evaluation Experiment 71 of 782\n",
      "Param = 0.01000 - classifier Evaluation Experiment 72 of 782\n",
      "Param = 0.01000 - classifier Evaluation Experiment 73 of 782\n",
      "Param = 0.01000 - classifier Evaluation Experiment 74 of 782\n",
      "Param = 0.01000 - classifier Evaluation Experiment 75 of 782\n",
      "Param = 0.01000 - classifier Evaluation Experiment 76 of 782\n",
      "Param = 0.01000 - classifier Evaluation Experiment 77 of 782\n",
      "Param = 0.01000 - classifier Evaluation Experiment 78 of 782\n",
      "Param = 0.01000 - classifier Evaluation Experiment 79 of 782\n",
      "Param = 0.01000 - classifier Evaluation Experiment 80 of 782\n",
      "Param = 0.01000 - classifier Evaluation Experiment 81 of 782\n",
      "Param = 0.01000 - classifier Evaluation Experiment 82 of 782\n",
      "Param = 0.01000 - classifier Evaluation Experiment 83 of 782\n",
      "Param = 0.01000 - classifier Evaluation Experiment 84 of 782\n",
      "Param = 0.01000 - classifier Evaluation Experiment 85 of 782\n",
      "Param = 0.01000 - classifier Evaluation Experiment 86 of 782\n",
      "Param = 0.01000 - classifier Evaluation Experiment 87 of 782\n",
      "Param = 0.01000 - classifier Evaluation Experiment 88 of 782\n",
      "Param = 0.01000 - classifier Evaluation Experiment 89 of 782\n",
      "Param = 0.01000 - classifier Evaluation Experiment 90 of 782\n",
      "Param = 0.01000 - classifier Evaluation Experiment 91 of 782\n",
      "Param = 0.01000 - classifier Evaluation Experiment 92 of 782\n",
      "Param = 0.01000 - classifier Evaluation Experiment 93 of 782\n",
      "Param = 0.01000 - classifier Evaluation Experiment 94 of 782\n",
      "Param = 0.01000 - classifier Evaluation Experiment 95 of 782\n",
      "Param = 0.01000 - classifier Evaluation Experiment 96 of 782\n",
      "Param = 0.01000 - classifier Evaluation Experiment 97 of 782\n",
      "Param = 0.01000 - classifier Evaluation Experiment 98 of 782\n",
      "Param = 0.01000 - classifier Evaluation Experiment 99 of 782\n",
      "Param = 0.01000 - classifier Evaluation Experiment 100 of 782\n",
      "Param = 0.01000 - classifier Evaluation Experiment 101 of 782\n",
      "Param = 0.01000 - classifier Evaluation Experiment 102 of 782\n",
      "Param = 0.01000 - classifier Evaluation Experiment 103 of 782\n",
      "Param = 0.01000 - classifier Evaluation Experiment 104 of 782\n",
      "Param = 0.01000 - classifier Evaluation Experiment 105 of 782\n",
      "Param = 0.01000 - classifier Evaluation Experiment 106 of 782\n",
      "Param = 0.01000 - classifier Evaluation Experiment 107 of 782\n",
      "Param = 0.01000 - classifier Evaluation Experiment 108 of 782\n",
      "Param = 0.01000 - classifier Evaluation Experiment 109 of 782\n",
      "Param = 0.01000 - classifier Evaluation Experiment 110 of 782\n",
      "Param = 0.01000 - classifier Evaluation Experiment 111 of 782\n",
      "Param = 0.01000 - classifier Evaluation Experiment 112 of 782\n",
      "Param = 0.01000 - classifier Evaluation Experiment 113 of 782\n",
      "Param = 0.01000 - classifier Evaluation Experiment 114 of 782\n",
      "Param = 0.01000 - classifier Evaluation Experiment 115 of 782\n",
      "Param = 0.01000 - classifier Evaluation Experiment 116 of 782\n",
      "Param = 0.01000 - classifier Evaluation Experiment 117 of 782\n",
      "Param = 0.01000 - classifier Evaluation Experiment 118 of 782\n",
      "Param = 0.01000 - classifier Evaluation Experiment 119 of 782\n",
      "Param = 0.01000 - classifier Evaluation Experiment 120 of 782\n",
      "Param = 0.01000 - classifier Evaluation Experiment 121 of 782\n",
      "Param = 0.01000 - classifier Evaluation Experiment 122 of 782\n",
      "Param = 0.01000 - classifier Evaluation Experiment 123 of 782\n",
      "Param = 0.01000 - classifier Evaluation Experiment 124 of 782\n",
      "Param = 0.01000 - classifier Evaluation Experiment 125 of 782\n",
      "Param = 0.01000 - classifier Evaluation Experiment 126 of 782\n",
      "Param = 0.01000 - classifier Evaluation Experiment 127 of 782\n",
      "Param = 0.01000 - classifier Evaluation Experiment 128 of 782\n",
      "Param = 0.01000 - classifier Evaluation Experiment 129 of 782\n",
      "Param = 0.01000 - classifier Evaluation Experiment 130 of 782\n",
      "Param = 0.01000 - classifier Evaluation Experiment 131 of 782\n",
      "Param = 0.01000 - classifier Evaluation Experiment 132 of 782\n",
      "Param = 0.01000 - classifier Evaluation Experiment 133 of 782\n",
      "Param = 0.01000 - classifier Evaluation Experiment 134 of 782\n",
      "Param = 0.01000 - classifier Evaluation Experiment 135 of 782\n",
      "Param = 0.01000 - classifier Evaluation Experiment 136 of 782\n",
      "Param = 0.01000 - classifier Evaluation Experiment 137 of 782\n",
      "Param = 0.01000 - classifier Evaluation Experiment 138 of 782\n",
      "Param = 0.01000 - classifier Evaluation Experiment 139 of 782\n",
      "Param = 0.01000 - classifier Evaluation Experiment 140 of 782\n",
      "Param = 0.01000 - classifier Evaluation Experiment 141 of 782\n",
      "Param = 0.01000 - classifier Evaluation Experiment 142 of 782\n",
      "Param = 0.01000 - classifier Evaluation Experiment 143 of 782\n",
      "Param = 0.01000 - classifier Evaluation Experiment 144 of 782\n",
      "Param = 0.01000 - classifier Evaluation Experiment 145 of 782\n",
      "Param = 0.01000 - classifier Evaluation Experiment 146 of 782\n",
      "Param = 0.01000 - classifier Evaluation Experiment 147 of 782\n",
      "Param = 0.01000 - classifier Evaluation Experiment 148 of 782\n",
      "Param = 0.01000 - classifier Evaluation Experiment 149 of 782\n",
      "Param = 0.01000 - classifier Evaluation Experiment 150 of 782\n",
      "Param = 0.01000 - classifier Evaluation Experiment 151 of 782\n",
      "Param = 0.01000 - classifier Evaluation Experiment 152 of 782\n",
      "Param = 0.01000 - classifier Evaluation Experiment 153 of 782\n",
      "Param = 0.01000 - classifier Evaluation Experiment 154 of 782\n",
      "Param = 0.01000 - classifier Evaluation Experiment 155 of 782\n",
      "Param = 0.01000 - classifier Evaluation Experiment 156 of 782\n",
      "Param = 0.01000 - classifier Evaluation Experiment 157 of 782\n",
      "Param = 0.01000 - classifier Evaluation Experiment 158 of 782\n",
      "Param = 0.01000 - classifier Evaluation Experiment 159 of 782\n",
      "Param = 0.01000 - classifier Evaluation Experiment 160 of 782\n",
      "Param = 0.01000 - classifier Evaluation Experiment 161 of 782\n",
      "Param = 0.01000 - classifier Evaluation Experiment 162 of 782\n",
      "Param = 0.01000 - classifier Evaluation Experiment 163 of 782\n",
      "Param = 0.01000 - classifier Evaluation Experiment 164 of 782\n",
      "Param = 0.01000 - classifier Evaluation Experiment 165 of 782\n",
      "Param = 0.01000 - classifier Evaluation Experiment 166 of 782\n",
      "Param = 0.01000 - classifier Evaluation Experiment 167 of 782\n",
      "Param = 0.01000 - classifier Evaluation Experiment 168 of 782\n",
      "Param = 0.01000 - classifier Evaluation Experiment 169 of 782\n",
      "Param = 0.01000 - classifier Evaluation Experiment 170 of 782\n",
      "Param = 0.01000 - classifier Evaluation Experiment 171 of 782\n",
      "Param = 0.01000 - classifier Evaluation Experiment 172 of 782\n",
      "Param = 0.01000 - classifier Evaluation Experiment 173 of 782\n",
      "Param = 0.01000 - classifier Evaluation Experiment 174 of 782\n",
      "Param = 0.01000 - classifier Evaluation Experiment 175 of 782\n",
      "Param = 0.01000 - classifier Evaluation Experiment 176 of 782\n",
      "Param = 0.01000 - classifier Evaluation Experiment 177 of 782\n",
      "Param = 0.01000 - classifier Evaluation Experiment 178 of 782\n",
      "Param = 0.01000 - classifier Evaluation Experiment 179 of 782\n",
      "Param = 0.01000 - classifier Evaluation Experiment 180 of 782\n",
      "Param = 0.01000 - classifier Evaluation Experiment 181 of 782\n",
      "Param = 0.01000 - classifier Evaluation Experiment 182 of 782\n",
      "Param = 0.01000 - classifier Evaluation Experiment 183 of 782\n",
      "Param = 0.01000 - classifier Evaluation Experiment 184 of 782\n",
      "Param = 0.01000 - classifier Evaluation Experiment 185 of 782\n",
      "Param = 0.01000 - classifier Evaluation Experiment 186 of 782\n",
      "Param = 0.01000 - classifier Evaluation Experiment 187 of 782\n",
      "Param = 0.01000 - classifier Evaluation Experiment 188 of 782\n",
      "Param = 0.01000 - classifier Evaluation Experiment 189 of 782\n",
      "Param = 0.01000 - classifier Evaluation Experiment 190 of 782\n",
      "Param = 0.01000 - classifier Evaluation Experiment 191 of 782\n",
      "Param = 0.01000 - classifier Evaluation Experiment 192 of 782\n",
      "Param = 0.01000 - classifier Evaluation Experiment 193 of 782\n",
      "Param = 0.01000 - classifier Evaluation Experiment 194 of 782\n",
      "Param = 0.01000 - classifier Evaluation Experiment 195 of 782\n",
      "Param = 0.01000 - classifier Evaluation Experiment 196 of 782\n",
      "Param = 0.01000 - classifier Evaluation Experiment 197 of 782\n",
      "Param = 0.01000 - classifier Evaluation Experiment 198 of 782\n",
      "Param = 0.01000 - classifier Evaluation Experiment 199 of 782\n",
      "Param = 0.01000 - classifier Evaluation Experiment 200 of 782\n",
      "Param = 0.01000 - classifier Evaluation Experiment 201 of 782\n",
      "Param = 0.01000 - classifier Evaluation Experiment 202 of 782\n",
      "Param = 0.01000 - classifier Evaluation Experiment 203 of 782\n",
      "Param = 0.01000 - classifier Evaluation Experiment 204 of 782\n",
      "Param = 0.01000 - classifier Evaluation Experiment 205 of 782\n",
      "Param = 0.01000 - classifier Evaluation Experiment 206 of 782\n",
      "Param = 0.01000 - classifier Evaluation Experiment 207 of 782\n",
      "Param = 0.01000 - classifier Evaluation Experiment 208 of 782\n",
      "Param = 0.01000 - classifier Evaluation Experiment 209 of 782\n",
      "Param = 0.01000 - classifier Evaluation Experiment 210 of 782\n",
      "Param = 0.01000 - classifier Evaluation Experiment 211 of 782\n",
      "Param = 0.01000 - classifier Evaluation Experiment 212 of 782\n",
      "Param = 0.01000 - classifier Evaluation Experiment 213 of 782\n",
      "Param = 0.01000 - classifier Evaluation Experiment 214 of 782\n",
      "Param = 0.01000 - classifier Evaluation Experiment 215 of 782\n",
      "Param = 0.01000 - classifier Evaluation Experiment 216 of 782\n",
      "Param = 0.01000 - classifier Evaluation Experiment 217 of 782\n",
      "Param = 0.01000 - classifier Evaluation Experiment 218 of 782\n",
      "Param = 0.01000 - classifier Evaluation Experiment 219 of 782\n",
      "Param = 0.01000 - classifier Evaluation Experiment 220 of 782\n",
      "Param = 0.01000 - classifier Evaluation Experiment 221 of 782\n",
      "Param = 0.01000 - classifier Evaluation Experiment 222 of 782\n",
      "Param = 0.01000 - classifier Evaluation Experiment 223 of 782\n",
      "Param = 0.01000 - classifier Evaluation Experiment 224 of 782\n",
      "Param = 0.01000 - classifier Evaluation Experiment 225 of 782\n",
      "Param = 0.01000 - classifier Evaluation Experiment 226 of 782\n",
      "Param = 0.01000 - classifier Evaluation Experiment 227 of 782\n",
      "Param = 0.01000 - classifier Evaluation Experiment 228 of 782\n",
      "Param = 0.01000 - classifier Evaluation Experiment 229 of 782\n",
      "Param = 0.01000 - classifier Evaluation Experiment 230 of 782\n",
      "Param = 0.01000 - classifier Evaluation Experiment 231 of 782\n",
      "Param = 0.01000 - classifier Evaluation Experiment 232 of 782\n",
      "Param = 0.01000 - classifier Evaluation Experiment 233 of 782\n",
      "Param = 0.01000 - classifier Evaluation Experiment 234 of 782\n",
      "Param = 0.01000 - classifier Evaluation Experiment 235 of 782\n",
      "Param = 0.01000 - classifier Evaluation Experiment 236 of 782\n",
      "Param = 0.01000 - classifier Evaluation Experiment 237 of 782\n",
      "Param = 0.01000 - classifier Evaluation Experiment 238 of 782\n",
      "Param = 0.01000 - classifier Evaluation Experiment 239 of 782\n",
      "Param = 0.01000 - classifier Evaluation Experiment 240 of 782\n",
      "Param = 0.01000 - classifier Evaluation Experiment 241 of 782\n",
      "Param = 0.01000 - classifier Evaluation Experiment 242 of 782\n",
      "Param = 0.01000 - classifier Evaluation Experiment 243 of 782\n",
      "Param = 0.01000 - classifier Evaluation Experiment 244 of 782\n",
      "Param = 0.01000 - classifier Evaluation Experiment 245 of 782\n",
      "Param = 0.01000 - classifier Evaluation Experiment 246 of 782\n",
      "Param = 0.01000 - classifier Evaluation Experiment 247 of 782\n",
      "Param = 0.01000 - classifier Evaluation Experiment 248 of 782\n",
      "Param = 0.01000 - classifier Evaluation Experiment 249 of 782\n",
      "Param = 0.01000 - classifier Evaluation Experiment 250 of 782\n",
      "Param = 0.01000 - classifier Evaluation Experiment 251 of 782\n",
      "Param = 0.01000 - classifier Evaluation Experiment 252 of 782\n",
      "Param = 0.01000 - classifier Evaluation Experiment 253 of 782\n",
      "Param = 0.01000 - classifier Evaluation Experiment 254 of 782\n",
      "Param = 0.01000 - classifier Evaluation Experiment 255 of 782\n",
      "Param = 0.01000 - classifier Evaluation Experiment 256 of 782\n",
      "Param = 0.01000 - classifier Evaluation Experiment 257 of 782\n",
      "Param = 0.01000 - classifier Evaluation Experiment 258 of 782\n",
      "Param = 0.01000 - classifier Evaluation Experiment 259 of 782\n",
      "Param = 0.01000 - classifier Evaluation Experiment 260 of 782\n",
      "Param = 0.01000 - classifier Evaluation Experiment 261 of 782\n",
      "Param = 0.01000 - classifier Evaluation Experiment 262 of 782\n",
      "Param = 0.01000 - classifier Evaluation Experiment 263 of 782\n",
      "Param = 0.01000 - classifier Evaluation Experiment 264 of 782\n",
      "Param = 0.01000 - classifier Evaluation Experiment 265 of 782\n",
      "Param = 0.01000 - classifier Evaluation Experiment 266 of 782\n",
      "Param = 0.01000 - classifier Evaluation Experiment 267 of 782\n",
      "Param = 0.01000 - classifier Evaluation Experiment 268 of 782\n",
      "Param = 0.01000 - classifier Evaluation Experiment 269 of 782\n",
      "Param = 0.01000 - classifier Evaluation Experiment 270 of 782\n",
      "Param = 0.01000 - classifier Evaluation Experiment 271 of 782\n",
      "Param = 0.01000 - classifier Evaluation Experiment 272 of 782\n",
      "Param = 0.01000 - classifier Evaluation Experiment 273 of 782\n",
      "Param = 0.01000 - classifier Evaluation Experiment 274 of 782\n",
      "Param = 0.01000 - classifier Evaluation Experiment 275 of 782\n",
      "Param = 0.01000 - classifier Evaluation Experiment 276 of 782\n",
      "Param = 0.01000 - classifier Evaluation Experiment 277 of 782\n",
      "Param = 0.01000 - classifier Evaluation Experiment 278 of 782\n",
      "Param = 0.01000 - classifier Evaluation Experiment 279 of 782\n",
      "Param = 0.01000 - classifier Evaluation Experiment 280 of 782\n",
      "Param = 0.01000 - classifier Evaluation Experiment 281 of 782\n",
      "Param = 0.01000 - classifier Evaluation Experiment 282 of 782\n",
      "Param = 0.01000 - classifier Evaluation Experiment 283 of 782\n",
      "Param = 0.01000 - classifier Evaluation Experiment 284 of 782\n",
      "Param = 0.01000 - classifier Evaluation Experiment 285 of 782\n",
      "Param = 0.01000 - classifier Evaluation Experiment 286 of 782\n",
      "Param = 0.01000 - classifier Evaluation Experiment 287 of 782\n",
      "Param = 0.01000 - classifier Evaluation Experiment 288 of 782\n",
      "Param = 0.01000 - classifier Evaluation Experiment 289 of 782\n",
      "Param = 0.01000 - classifier Evaluation Experiment 290 of 782\n",
      "Param = 0.01000 - classifier Evaluation Experiment 291 of 782\n",
      "Param = 0.01000 - classifier Evaluation Experiment 292 of 782\n",
      "Param = 0.01000 - classifier Evaluation Experiment 293 of 782\n",
      "Param = 0.01000 - classifier Evaluation Experiment 294 of 782\n",
      "Param = 0.01000 - classifier Evaluation Experiment 295 of 782\n",
      "Param = 0.01000 - classifier Evaluation Experiment 296 of 782\n",
      "Param = 0.01000 - classifier Evaluation Experiment 297 of 782\n",
      "Param = 0.01000 - classifier Evaluation Experiment 298 of 782\n",
      "Param = 0.01000 - classifier Evaluation Experiment 299 of 782\n",
      "Param = 0.01000 - classifier Evaluation Experiment 300 of 782\n",
      "Param = 0.01000 - classifier Evaluation Experiment 301 of 782\n",
      "Param = 0.01000 - classifier Evaluation Experiment 302 of 782\n",
      "Param = 0.01000 - classifier Evaluation Experiment 303 of 782\n",
      "Param = 0.01000 - classifier Evaluation Experiment 304 of 782\n",
      "Param = 0.01000 - classifier Evaluation Experiment 305 of 782\n",
      "Param = 0.01000 - classifier Evaluation Experiment 306 of 782\n",
      "Param = 0.01000 - classifier Evaluation Experiment 307 of 782\n",
      "Param = 0.01000 - classifier Evaluation Experiment 308 of 782\n",
      "Param = 0.01000 - classifier Evaluation Experiment 309 of 782\n",
      "Param = 0.01000 - classifier Evaluation Experiment 310 of 782\n",
      "Param = 0.01000 - classifier Evaluation Experiment 311 of 782\n",
      "Param = 0.01000 - classifier Evaluation Experiment 312 of 782\n",
      "Param = 0.01000 - classifier Evaluation Experiment 313 of 782\n",
      "Param = 0.01000 - classifier Evaluation Experiment 314 of 782\n",
      "Param = 0.01000 - classifier Evaluation Experiment 315 of 782\n",
      "Param = 0.01000 - classifier Evaluation Experiment 316 of 782\n",
      "Param = 0.01000 - classifier Evaluation Experiment 317 of 782\n",
      "Param = 0.01000 - classifier Evaluation Experiment 318 of 782\n",
      "Param = 0.01000 - classifier Evaluation Experiment 319 of 782\n",
      "Param = 0.01000 - classifier Evaluation Experiment 320 of 782\n",
      "Param = 0.01000 - classifier Evaluation Experiment 321 of 782\n",
      "Param = 0.01000 - classifier Evaluation Experiment 322 of 782\n",
      "Param = 0.01000 - classifier Evaluation Experiment 323 of 782\n",
      "Param = 0.01000 - classifier Evaluation Experiment 324 of 782\n",
      "Param = 0.01000 - classifier Evaluation Experiment 325 of 782\n",
      "Param = 0.01000 - classifier Evaluation Experiment 326 of 782\n",
      "Param = 0.01000 - classifier Evaluation Experiment 327 of 782\n",
      "Param = 0.01000 - classifier Evaluation Experiment 328 of 782\n",
      "Param = 0.01000 - classifier Evaluation Experiment 329 of 782\n",
      "Param = 0.01000 - classifier Evaluation Experiment 330 of 782\n",
      "Param = 0.01000 - classifier Evaluation Experiment 331 of 782\n",
      "Param = 0.01000 - classifier Evaluation Experiment 332 of 782\n",
      "Param = 0.01000 - classifier Evaluation Experiment 333 of 782\n",
      "Param = 0.01000 - classifier Evaluation Experiment 334 of 782\n",
      "Param = 0.01000 - classifier Evaluation Experiment 335 of 782\n",
      "Param = 0.01000 - classifier Evaluation Experiment 336 of 782\n",
      "Param = 0.01000 - classifier Evaluation Experiment 337 of 782\n",
      "Param = 0.01000 - classifier Evaluation Experiment 338 of 782\n",
      "Param = 0.01000 - classifier Evaluation Experiment 339 of 782\n",
      "Param = 0.01000 - classifier Evaluation Experiment 340 of 782\n",
      "Param = 0.01000 - classifier Evaluation Experiment 341 of 782\n",
      "Param = 0.01000 - classifier Evaluation Experiment 342 of 782\n",
      "Param = 0.01000 - classifier Evaluation Experiment 343 of 782\n",
      "Param = 0.01000 - classifier Evaluation Experiment 344 of 782\n",
      "Param = 0.01000 - classifier Evaluation Experiment 345 of 782\n",
      "Param = 0.01000 - classifier Evaluation Experiment 346 of 782\n",
      "Param = 0.01000 - classifier Evaluation Experiment 347 of 782\n",
      "Param = 0.01000 - classifier Evaluation Experiment 348 of 782\n",
      "Param = 0.01000 - classifier Evaluation Experiment 349 of 782\n",
      "Param = 0.01000 - classifier Evaluation Experiment 350 of 782\n",
      "Param = 0.01000 - classifier Evaluation Experiment 351 of 782\n",
      "Param = 0.01000 - classifier Evaluation Experiment 352 of 782\n",
      "Param = 0.01000 - classifier Evaluation Experiment 353 of 782\n",
      "Param = 0.01000 - classifier Evaluation Experiment 354 of 782\n",
      "Param = 0.01000 - classifier Evaluation Experiment 355 of 782\n",
      "Param = 0.01000 - classifier Evaluation Experiment 356 of 782\n",
      "Param = 0.01000 - classifier Evaluation Experiment 357 of 782\n",
      "Param = 0.01000 - classifier Evaluation Experiment 358 of 782\n",
      "Param = 0.01000 - classifier Evaluation Experiment 359 of 782\n",
      "Param = 0.01000 - classifier Evaluation Experiment 360 of 782\n",
      "Param = 0.01000 - classifier Evaluation Experiment 361 of 782\n",
      "Param = 0.01000 - classifier Evaluation Experiment 362 of 782\n",
      "Param = 0.01000 - classifier Evaluation Experiment 363 of 782\n",
      "Param = 0.01000 - classifier Evaluation Experiment 364 of 782\n",
      "Param = 0.01000 - classifier Evaluation Experiment 365 of 782\n",
      "Param = 0.01000 - classifier Evaluation Experiment 366 of 782\n",
      "Param = 0.01000 - classifier Evaluation Experiment 367 of 782\n",
      "Param = 0.01000 - classifier Evaluation Experiment 368 of 782\n",
      "Param = 0.01000 - classifier Evaluation Experiment 369 of 782\n",
      "Param = 0.01000 - classifier Evaluation Experiment 370 of 782\n",
      "Param = 0.01000 - classifier Evaluation Experiment 371 of 782\n",
      "Param = 0.01000 - classifier Evaluation Experiment 372 of 782\n",
      "Param = 0.01000 - classifier Evaluation Experiment 373 of 782\n",
      "Param = 0.01000 - classifier Evaluation Experiment 374 of 782\n",
      "Param = 0.01000 - classifier Evaluation Experiment 375 of 782\n",
      "Param = 0.01000 - classifier Evaluation Experiment 376 of 782\n",
      "Param = 0.01000 - classifier Evaluation Experiment 377 of 782\n",
      "Param = 0.01000 - classifier Evaluation Experiment 378 of 782\n",
      "Param = 0.01000 - classifier Evaluation Experiment 379 of 782\n",
      "Param = 0.01000 - classifier Evaluation Experiment 380 of 782\n",
      "Param = 0.01000 - classifier Evaluation Experiment 381 of 782\n",
      "Param = 0.01000 - classifier Evaluation Experiment 382 of 782\n",
      "Param = 0.01000 - classifier Evaluation Experiment 383 of 782\n",
      "Param = 0.01000 - classifier Evaluation Experiment 384 of 782\n",
      "Param = 0.01000 - classifier Evaluation Experiment 385 of 782\n",
      "Param = 0.01000 - classifier Evaluation Experiment 386 of 782\n",
      "Param = 0.01000 - classifier Evaluation Experiment 387 of 782\n",
      "Param = 0.01000 - classifier Evaluation Experiment 388 of 782\n",
      "Param = 0.01000 - classifier Evaluation Experiment 389 of 782\n",
      "Param = 0.01000 - classifier Evaluation Experiment 390 of 782\n",
      "Param = 0.01000 - classifier Evaluation Experiment 391 of 782\n",
      "Param = 0.01000 - classifier Evaluation Experiment 392 of 782\n",
      "Param = 0.01000 - classifier Evaluation Experiment 393 of 782\n",
      "Param = 0.01000 - classifier Evaluation Experiment 394 of 782\n",
      "Param = 0.01000 - classifier Evaluation Experiment 395 of 782\n",
      "Param = 0.01000 - classifier Evaluation Experiment 396 of 782\n",
      "Param = 0.01000 - classifier Evaluation Experiment 397 of 782\n",
      "Param = 0.01000 - classifier Evaluation Experiment 398 of 782\n",
      "Param = 0.01000 - classifier Evaluation Experiment 399 of 782\n",
      "Param = 0.01000 - classifier Evaluation Experiment 400 of 782\n",
      "Param = 0.01000 - classifier Evaluation Experiment 401 of 782\n",
      "Param = 0.01000 - classifier Evaluation Experiment 402 of 782\n",
      "Param = 0.01000 - classifier Evaluation Experiment 403 of 782\n",
      "Param = 0.01000 - classifier Evaluation Experiment 404 of 782\n",
      "Param = 0.01000 - classifier Evaluation Experiment 405 of 782\n",
      "Param = 0.01000 - classifier Evaluation Experiment 406 of 782\n",
      "Param = 0.01000 - classifier Evaluation Experiment 407 of 782\n",
      "Param = 0.01000 - classifier Evaluation Experiment 408 of 782\n",
      "Param = 0.01000 - classifier Evaluation Experiment 409 of 782\n",
      "Param = 0.01000 - classifier Evaluation Experiment 410 of 782\n",
      "Param = 0.01000 - classifier Evaluation Experiment 411 of 782\n",
      "Param = 0.01000 - classifier Evaluation Experiment 412 of 782\n",
      "Param = 0.01000 - classifier Evaluation Experiment 413 of 782\n",
      "Param = 0.01000 - classifier Evaluation Experiment 414 of 782\n",
      "Param = 0.01000 - classifier Evaluation Experiment 415 of 782\n",
      "Param = 0.01000 - classifier Evaluation Experiment 416 of 782\n",
      "Param = 0.01000 - classifier Evaluation Experiment 417 of 782\n",
      "Param = 0.01000 - classifier Evaluation Experiment 418 of 782\n",
      "Param = 0.01000 - classifier Evaluation Experiment 419 of 782\n",
      "Param = 0.01000 - classifier Evaluation Experiment 420 of 782\n",
      "Param = 0.01000 - classifier Evaluation Experiment 421 of 782\n",
      "Param = 0.01000 - classifier Evaluation Experiment 422 of 782\n",
      "Param = 0.01000 - classifier Evaluation Experiment 423 of 782\n",
      "Param = 0.01000 - classifier Evaluation Experiment 424 of 782\n",
      "Param = 0.01000 - classifier Evaluation Experiment 425 of 782\n",
      "Param = 0.01000 - classifier Evaluation Experiment 426 of 782\n",
      "Param = 0.01000 - classifier Evaluation Experiment 427 of 782\n",
      "Param = 0.01000 - classifier Evaluation Experiment 428 of 782\n",
      "Param = 0.01000 - classifier Evaluation Experiment 429 of 782\n",
      "Param = 0.01000 - classifier Evaluation Experiment 430 of 782\n",
      "Param = 0.01000 - classifier Evaluation Experiment 431 of 782\n",
      "Param = 0.01000 - classifier Evaluation Experiment 432 of 782\n",
      "Param = 0.01000 - classifier Evaluation Experiment 433 of 782\n",
      "Param = 0.01000 - classifier Evaluation Experiment 434 of 782\n",
      "Param = 0.01000 - classifier Evaluation Experiment 435 of 782\n",
      "Param = 0.01000 - classifier Evaluation Experiment 436 of 782\n",
      "Param = 0.01000 - classifier Evaluation Experiment 437 of 782\n",
      "Param = 0.01000 - classifier Evaluation Experiment 438 of 782\n",
      "Param = 0.01000 - classifier Evaluation Experiment 439 of 782\n",
      "Param = 0.01000 - classifier Evaluation Experiment 440 of 782\n",
      "Param = 0.01000 - classifier Evaluation Experiment 441 of 782\n",
      "Param = 0.01000 - classifier Evaluation Experiment 442 of 782\n",
      "Param = 0.01000 - classifier Evaluation Experiment 443 of 782\n",
      "Param = 0.01000 - classifier Evaluation Experiment 444 of 782\n",
      "Param = 0.01000 - classifier Evaluation Experiment 445 of 782\n",
      "Param = 0.01000 - classifier Evaluation Experiment 446 of 782\n",
      "Param = 0.01000 - classifier Evaluation Experiment 447 of 782\n",
      "Param = 0.01000 - classifier Evaluation Experiment 448 of 782\n",
      "Param = 0.01000 - classifier Evaluation Experiment 449 of 782\n",
      "Param = 0.01000 - classifier Evaluation Experiment 450 of 782\n",
      "Param = 0.01000 - classifier Evaluation Experiment 451 of 782\n",
      "Param = 0.01000 - classifier Evaluation Experiment 452 of 782\n",
      "Param = 0.01000 - classifier Evaluation Experiment 453 of 782\n",
      "Param = 0.01000 - classifier Evaluation Experiment 454 of 782\n",
      "Param = 0.01000 - classifier Evaluation Experiment 455 of 782\n",
      "Param = 0.01000 - classifier Evaluation Experiment 456 of 782\n",
      "Param = 0.01000 - classifier Evaluation Experiment 457 of 782\n",
      "Param = 0.01000 - classifier Evaluation Experiment 458 of 782\n",
      "Param = 0.01000 - classifier Evaluation Experiment 459 of 782\n",
      "Param = 0.01000 - classifier Evaluation Experiment 460 of 782\n",
      "Param = 0.01000 - classifier Evaluation Experiment 461 of 782\n",
      "Param = 0.01000 - classifier Evaluation Experiment 462 of 782\n",
      "Param = 0.01000 - classifier Evaluation Experiment 463 of 782\n",
      "Param = 0.01000 - classifier Evaluation Experiment 464 of 782\n",
      "Param = 0.01000 - classifier Evaluation Experiment 465 of 782\n",
      "Param = 0.01000 - classifier Evaluation Experiment 466 of 782\n",
      "Param = 0.01000 - classifier Evaluation Experiment 467 of 782\n",
      "Param = 0.01000 - classifier Evaluation Experiment 468 of 782\n",
      "Param = 0.01000 - classifier Evaluation Experiment 469 of 782\n",
      "Param = 0.01000 - classifier Evaluation Experiment 470 of 782\n",
      "Param = 0.01000 - classifier Evaluation Experiment 471 of 782\n",
      "Param = 0.01000 - classifier Evaluation Experiment 472 of 782\n",
      "Param = 0.01000 - classifier Evaluation Experiment 473 of 782\n",
      "Param = 0.01000 - classifier Evaluation Experiment 474 of 782\n",
      "Param = 0.01000 - classifier Evaluation Experiment 475 of 782\n",
      "Param = 0.01000 - classifier Evaluation Experiment 476 of 782\n",
      "Param = 0.01000 - classifier Evaluation Experiment 477 of 782\n",
      "Param = 0.01000 - classifier Evaluation Experiment 478 of 782\n",
      "Param = 0.01000 - classifier Evaluation Experiment 479 of 782\n",
      "Param = 0.01000 - classifier Evaluation Experiment 480 of 782\n",
      "Param = 0.01000 - classifier Evaluation Experiment 481 of 782\n",
      "Param = 0.01000 - classifier Evaluation Experiment 482 of 782\n",
      "Param = 0.01000 - classifier Evaluation Experiment 483 of 782\n",
      "Param = 0.01000 - classifier Evaluation Experiment 484 of 782\n",
      "Param = 0.01000 - classifier Evaluation Experiment 485 of 782\n",
      "Param = 0.01000 - classifier Evaluation Experiment 486 of 782\n",
      "Param = 0.01000 - classifier Evaluation Experiment 487 of 782\n",
      "Param = 0.01000 - classifier Evaluation Experiment 488 of 782\n",
      "Param = 0.01000 - classifier Evaluation Experiment 489 of 782\n",
      "Param = 0.01000 - classifier Evaluation Experiment 490 of 782\n",
      "Param = 0.01000 - classifier Evaluation Experiment 491 of 782\n",
      "Param = 0.01000 - classifier Evaluation Experiment 492 of 782\n",
      "Param = 0.01000 - classifier Evaluation Experiment 493 of 782\n",
      "Param = 0.01000 - classifier Evaluation Experiment 494 of 782\n",
      "Param = 0.01000 - classifier Evaluation Experiment 495 of 782\n",
      "Param = 0.01000 - classifier Evaluation Experiment 496 of 782\n",
      "Param = 0.01000 - classifier Evaluation Experiment 497 of 782\n",
      "Param = 0.01000 - classifier Evaluation Experiment 498 of 782\n",
      "Param = 0.01000 - classifier Evaluation Experiment 499 of 782\n",
      "Param = 0.01000 - classifier Evaluation Experiment 500 of 782\n",
      "Param = 0.01000 - classifier Evaluation Experiment 501 of 782\n",
      "Param = 0.01000 - classifier Evaluation Experiment 502 of 782\n",
      "Param = 0.01000 - classifier Evaluation Experiment 503 of 782\n",
      "Param = 0.01000 - classifier Evaluation Experiment 504 of 782\n",
      "Param = 0.01000 - classifier Evaluation Experiment 505 of 782\n",
      "Param = 0.01000 - classifier Evaluation Experiment 506 of 782\n",
      "Param = 0.01000 - classifier Evaluation Experiment 507 of 782\n",
      "Param = 0.01000 - classifier Evaluation Experiment 508 of 782\n",
      "Param = 0.01000 - classifier Evaluation Experiment 509 of 782\n",
      "Param = 0.01000 - classifier Evaluation Experiment 510 of 782\n",
      "Param = 0.01000 - classifier Evaluation Experiment 511 of 782\n",
      "Param = 0.01000 - classifier Evaluation Experiment 512 of 782\n",
      "Param = 0.01000 - classifier Evaluation Experiment 513 of 782\n",
      "Param = 0.01000 - classifier Evaluation Experiment 514 of 782\n",
      "Param = 0.01000 - classifier Evaluation Experiment 515 of 782\n",
      "Param = 0.01000 - classifier Evaluation Experiment 516 of 782\n",
      "Param = 0.01000 - classifier Evaluation Experiment 517 of 782\n",
      "Param = 0.01000 - classifier Evaluation Experiment 518 of 782\n",
      "Param = 0.01000 - classifier Evaluation Experiment 519 of 782\n",
      "Param = 0.01000 - classifier Evaluation Experiment 520 of 782\n",
      "Param = 0.01000 - classifier Evaluation Experiment 521 of 782\n",
      "Param = 0.01000 - classifier Evaluation Experiment 522 of 782\n",
      "Param = 0.01000 - classifier Evaluation Experiment 523 of 782\n",
      "Param = 0.01000 - classifier Evaluation Experiment 524 of 782\n",
      "Param = 0.01000 - classifier Evaluation Experiment 525 of 782\n",
      "Param = 0.01000 - classifier Evaluation Experiment 526 of 782\n",
      "Param = 0.01000 - classifier Evaluation Experiment 527 of 782\n",
      "Param = 0.01000 - classifier Evaluation Experiment 528 of 782\n",
      "Param = 0.01000 - classifier Evaluation Experiment 529 of 782\n",
      "Param = 0.01000 - classifier Evaluation Experiment 530 of 782\n",
      "Param = 0.01000 - classifier Evaluation Experiment 531 of 782\n",
      "Param = 0.01000 - classifier Evaluation Experiment 532 of 782\n",
      "Param = 0.01000 - classifier Evaluation Experiment 533 of 782\n",
      "Param = 0.01000 - classifier Evaluation Experiment 534 of 782\n",
      "Param = 0.01000 - classifier Evaluation Experiment 535 of 782\n",
      "Param = 0.01000 - classifier Evaluation Experiment 536 of 782\n",
      "Param = 0.01000 - classifier Evaluation Experiment 537 of 782\n",
      "Param = 0.01000 - classifier Evaluation Experiment 538 of 782\n",
      "Param = 0.01000 - classifier Evaluation Experiment 539 of 782\n",
      "Param = 0.01000 - classifier Evaluation Experiment 540 of 782\n",
      "Param = 0.01000 - classifier Evaluation Experiment 541 of 782\n",
      "Param = 0.01000 - classifier Evaluation Experiment 542 of 782\n",
      "Param = 0.01000 - classifier Evaluation Experiment 543 of 782\n",
      "Param = 0.01000 - classifier Evaluation Experiment 544 of 782\n",
      "Param = 0.01000 - classifier Evaluation Experiment 545 of 782\n",
      "Param = 0.01000 - classifier Evaluation Experiment 546 of 782\n",
      "Param = 0.01000 - classifier Evaluation Experiment 547 of 782\n",
      "Param = 0.01000 - classifier Evaluation Experiment 548 of 782\n",
      "Param = 0.01000 - classifier Evaluation Experiment 549 of 782\n",
      "Param = 0.01000 - classifier Evaluation Experiment 550 of 782\n",
      "Param = 0.01000 - classifier Evaluation Experiment 551 of 782\n",
      "Param = 0.01000 - classifier Evaluation Experiment 552 of 782\n",
      "Param = 0.01000 - classifier Evaluation Experiment 553 of 782\n",
      "Param = 0.01000 - classifier Evaluation Experiment 554 of 782\n",
      "Param = 0.01000 - classifier Evaluation Experiment 555 of 782\n",
      "Param = 0.01000 - classifier Evaluation Experiment 556 of 782\n",
      "Param = 0.01000 - classifier Evaluation Experiment 557 of 782\n",
      "Param = 0.01000 - classifier Evaluation Experiment 558 of 782\n",
      "Param = 0.01000 - classifier Evaluation Experiment 559 of 782\n",
      "Param = 0.01000 - classifier Evaluation Experiment 560 of 782\n",
      "Param = 0.01000 - classifier Evaluation Experiment 561 of 782\n",
      "Param = 0.01000 - classifier Evaluation Experiment 562 of 782\n",
      "Param = 0.01000 - classifier Evaluation Experiment 563 of 782\n",
      "Param = 0.01000 - classifier Evaluation Experiment 564 of 782\n",
      "Param = 0.01000 - classifier Evaluation Experiment 565 of 782\n",
      "Param = 0.01000 - classifier Evaluation Experiment 566 of 782\n",
      "Param = 0.01000 - classifier Evaluation Experiment 567 of 782\n",
      "Param = 0.01000 - classifier Evaluation Experiment 568 of 782\n",
      "Param = 0.01000 - classifier Evaluation Experiment 569 of 782\n",
      "Param = 0.01000 - classifier Evaluation Experiment 570 of 782\n",
      "Param = 0.01000 - classifier Evaluation Experiment 571 of 782\n",
      "Param = 0.01000 - classifier Evaluation Experiment 572 of 782\n",
      "Param = 0.01000 - classifier Evaluation Experiment 573 of 782\n",
      "Param = 0.01000 - classifier Evaluation Experiment 574 of 782\n",
      "Param = 0.01000 - classifier Evaluation Experiment 575 of 782\n",
      "Param = 0.01000 - classifier Evaluation Experiment 576 of 782\n",
      "Param = 0.01000 - classifier Evaluation Experiment 577 of 782\n",
      "Param = 0.01000 - classifier Evaluation Experiment 578 of 782\n",
      "Param = 0.01000 - classifier Evaluation Experiment 579 of 782\n",
      "Param = 0.01000 - classifier Evaluation Experiment 580 of 782\n",
      "Param = 0.01000 - classifier Evaluation Experiment 581 of 782\n",
      "Param = 0.01000 - classifier Evaluation Experiment 582 of 782\n",
      "Param = 0.01000 - classifier Evaluation Experiment 583 of 782\n",
      "Param = 0.01000 - classifier Evaluation Experiment 584 of 782\n",
      "Param = 0.01000 - classifier Evaluation Experiment 585 of 782\n",
      "Param = 0.01000 - classifier Evaluation Experiment 586 of 782\n",
      "Param = 0.01000 - classifier Evaluation Experiment 587 of 782\n",
      "Param = 0.01000 - classifier Evaluation Experiment 588 of 782\n",
      "Param = 0.01000 - classifier Evaluation Experiment 589 of 782\n",
      "Param = 0.01000 - classifier Evaluation Experiment 590 of 782\n",
      "Param = 0.01000 - classifier Evaluation Experiment 591 of 782\n",
      "Param = 0.01000 - classifier Evaluation Experiment 592 of 782\n",
      "Param = 0.01000 - classifier Evaluation Experiment 593 of 782\n",
      "Param = 0.01000 - classifier Evaluation Experiment 594 of 782\n",
      "Param = 0.01000 - classifier Evaluation Experiment 595 of 782\n",
      "Param = 0.01000 - classifier Evaluation Experiment 596 of 782\n",
      "Param = 0.01000 - classifier Evaluation Experiment 597 of 782\n",
      "Param = 0.01000 - classifier Evaluation Experiment 598 of 782\n",
      "Param = 0.01000 - classifier Evaluation Experiment 599 of 782\n",
      "Param = 0.01000 - classifier Evaluation Experiment 600 of 782\n",
      "Param = 0.01000 - classifier Evaluation Experiment 601 of 782\n",
      "Param = 0.01000 - classifier Evaluation Experiment 602 of 782\n",
      "Param = 0.01000 - classifier Evaluation Experiment 603 of 782\n",
      "Param = 0.01000 - classifier Evaluation Experiment 604 of 782\n",
      "Param = 0.01000 - classifier Evaluation Experiment 605 of 782\n",
      "Param = 0.01000 - classifier Evaluation Experiment 606 of 782\n",
      "Param = 0.01000 - classifier Evaluation Experiment 607 of 782\n",
      "Param = 0.01000 - classifier Evaluation Experiment 608 of 782\n",
      "Param = 0.01000 - classifier Evaluation Experiment 609 of 782\n",
      "Param = 0.01000 - classifier Evaluation Experiment 610 of 782\n",
      "Param = 0.01000 - classifier Evaluation Experiment 611 of 782\n",
      "Param = 0.01000 - classifier Evaluation Experiment 612 of 782\n",
      "Param = 0.01000 - classifier Evaluation Experiment 613 of 782\n",
      "Param = 0.01000 - classifier Evaluation Experiment 614 of 782\n",
      "Param = 0.01000 - classifier Evaluation Experiment 615 of 782\n",
      "Param = 0.01000 - classifier Evaluation Experiment 616 of 782\n",
      "Param = 0.01000 - classifier Evaluation Experiment 617 of 782\n",
      "Param = 0.01000 - classifier Evaluation Experiment 618 of 782\n",
      "Param = 0.01000 - classifier Evaluation Experiment 619 of 782\n",
      "Param = 0.01000 - classifier Evaluation Experiment 620 of 782\n",
      "Param = 0.01000 - classifier Evaluation Experiment 621 of 782\n",
      "Param = 0.01000 - classifier Evaluation Experiment 622 of 782\n",
      "Param = 0.01000 - classifier Evaluation Experiment 623 of 782\n",
      "Param = 0.01000 - classifier Evaluation Experiment 624 of 782\n",
      "Param = 0.01000 - classifier Evaluation Experiment 625 of 782\n",
      "Param = 0.01000 - classifier Evaluation Experiment 626 of 782\n",
      "Param = 0.01000 - classifier Evaluation Experiment 627 of 782\n",
      "Param = 0.01000 - classifier Evaluation Experiment 628 of 782\n",
      "Param = 0.01000 - classifier Evaluation Experiment 629 of 782\n",
      "Param = 0.01000 - classifier Evaluation Experiment 630 of 782\n",
      "Param = 0.01000 - classifier Evaluation Experiment 631 of 782\n",
      "Param = 0.01000 - classifier Evaluation Experiment 632 of 782\n",
      "Param = 0.01000 - classifier Evaluation Experiment 633 of 782\n",
      "Param = 0.01000 - classifier Evaluation Experiment 634 of 782\n",
      "Param = 0.01000 - classifier Evaluation Experiment 635 of 782\n",
      "Param = 0.01000 - classifier Evaluation Experiment 636 of 782\n",
      "Param = 0.01000 - classifier Evaluation Experiment 637 of 782\n",
      "Param = 0.01000 - classifier Evaluation Experiment 638 of 782\n",
      "Param = 0.01000 - classifier Evaluation Experiment 639 of 782\n",
      "Param = 0.01000 - classifier Evaluation Experiment 640 of 782\n",
      "Param = 0.01000 - classifier Evaluation Experiment 641 of 782\n",
      "Param = 0.01000 - classifier Evaluation Experiment 642 of 782\n",
      "Param = 0.01000 - classifier Evaluation Experiment 643 of 782\n",
      "Param = 0.01000 - classifier Evaluation Experiment 644 of 782\n",
      "Param = 0.01000 - classifier Evaluation Experiment 645 of 782\n",
      "Param = 0.01000 - classifier Evaluation Experiment 646 of 782\n",
      "Param = 0.01000 - classifier Evaluation Experiment 647 of 782\n",
      "Param = 0.01000 - classifier Evaluation Experiment 648 of 782\n",
      "Param = 0.01000 - classifier Evaluation Experiment 649 of 782\n",
      "Param = 0.01000 - classifier Evaluation Experiment 650 of 782\n",
      "Param = 0.01000 - classifier Evaluation Experiment 651 of 782\n",
      "Param = 0.01000 - classifier Evaluation Experiment 652 of 782\n",
      "Param = 0.01000 - classifier Evaluation Experiment 653 of 782\n",
      "Param = 0.01000 - classifier Evaluation Experiment 654 of 782\n",
      "Param = 0.01000 - classifier Evaluation Experiment 655 of 782\n",
      "Param = 0.01000 - classifier Evaluation Experiment 656 of 782\n",
      "Param = 0.01000 - classifier Evaluation Experiment 657 of 782\n",
      "Param = 0.01000 - classifier Evaluation Experiment 658 of 782\n",
      "Param = 0.01000 - classifier Evaluation Experiment 659 of 782\n",
      "Param = 0.01000 - classifier Evaluation Experiment 660 of 782\n",
      "Param = 0.01000 - classifier Evaluation Experiment 661 of 782\n",
      "Param = 0.01000 - classifier Evaluation Experiment 662 of 782\n",
      "Param = 0.01000 - classifier Evaluation Experiment 663 of 782\n",
      "Param = 0.01000 - classifier Evaluation Experiment 664 of 782\n",
      "Param = 0.01000 - classifier Evaluation Experiment 665 of 782\n",
      "Param = 0.01000 - classifier Evaluation Experiment 666 of 782\n",
      "Param = 0.01000 - classifier Evaluation Experiment 667 of 782\n",
      "Param = 0.01000 - classifier Evaluation Experiment 668 of 782\n",
      "Param = 0.01000 - classifier Evaluation Experiment 669 of 782\n",
      "Param = 0.01000 - classifier Evaluation Experiment 670 of 782\n",
      "Param = 0.01000 - classifier Evaluation Experiment 671 of 782\n",
      "Param = 0.01000 - classifier Evaluation Experiment 672 of 782\n",
      "Param = 0.01000 - classifier Evaluation Experiment 673 of 782\n",
      "Param = 0.01000 - classifier Evaluation Experiment 674 of 782\n",
      "Param = 0.01000 - classifier Evaluation Experiment 675 of 782\n",
      "Param = 0.01000 - classifier Evaluation Experiment 676 of 782\n",
      "Param = 0.01000 - classifier Evaluation Experiment 677 of 782\n",
      "Param = 0.01000 - classifier Evaluation Experiment 678 of 782\n",
      "Param = 0.01000 - classifier Evaluation Experiment 679 of 782\n",
      "Param = 0.01000 - classifier Evaluation Experiment 680 of 782\n",
      "Param = 0.01000 - classifier Evaluation Experiment 681 of 782\n",
      "Param = 0.01000 - classifier Evaluation Experiment 682 of 782\n",
      "Param = 0.01000 - classifier Evaluation Experiment 683 of 782\n",
      "Param = 0.01000 - classifier Evaluation Experiment 684 of 782\n",
      "Param = 0.01000 - classifier Evaluation Experiment 685 of 782\n",
      "Param = 0.01000 - classifier Evaluation Experiment 686 of 782\n",
      "Param = 0.01000 - classifier Evaluation Experiment 687 of 782\n",
      "Param = 0.01000 - classifier Evaluation Experiment 688 of 782\n",
      "Param = 0.01000 - classifier Evaluation Experiment 689 of 782\n",
      "Param = 0.01000 - classifier Evaluation Experiment 690 of 782\n",
      "Param = 0.01000 - classifier Evaluation Experiment 691 of 782\n",
      "Param = 0.01000 - classifier Evaluation Experiment 692 of 782\n",
      "Param = 0.01000 - classifier Evaluation Experiment 693 of 782\n",
      "Param = 0.01000 - classifier Evaluation Experiment 694 of 782\n",
      "Param = 0.01000 - classifier Evaluation Experiment 695 of 782\n",
      "Param = 0.01000 - classifier Evaluation Experiment 696 of 782\n",
      "Param = 0.01000 - classifier Evaluation Experiment 697 of 782\n",
      "Param = 0.01000 - classifier Evaluation Experiment 698 of 782\n",
      "Param = 0.01000 - classifier Evaluation Experiment 699 of 782\n",
      "Param = 0.01000 - classifier Evaluation Experiment 700 of 782\n",
      "Param = 0.01000 - classifier Evaluation Experiment 701 of 782\n",
      "Param = 0.01000 - classifier Evaluation Experiment 702 of 782\n",
      "Param = 0.01000 - classifier Evaluation Experiment 703 of 782\n",
      "Param = 0.01000 - classifier Evaluation Experiment 704 of 782\n",
      "Param = 0.01000 - classifier Evaluation Experiment 705 of 782\n",
      "Param = 0.01000 - classifier Evaluation Experiment 706 of 782\n",
      "Param = 0.01000 - classifier Evaluation Experiment 707 of 782\n",
      "Param = 0.01000 - classifier Evaluation Experiment 708 of 782\n",
      "Param = 0.01000 - classifier Evaluation Experiment 709 of 782\n",
      "Param = 0.01000 - classifier Evaluation Experiment 710 of 782\n",
      "Param = 0.01000 - classifier Evaluation Experiment 711 of 782\n",
      "Param = 0.01000 - classifier Evaluation Experiment 712 of 782\n",
      "Param = 0.01000 - classifier Evaluation Experiment 713 of 782\n",
      "Param = 0.01000 - classifier Evaluation Experiment 714 of 782\n",
      "Param = 0.01000 - classifier Evaluation Experiment 715 of 782\n",
      "Param = 0.01000 - classifier Evaluation Experiment 716 of 782\n",
      "Param = 0.01000 - classifier Evaluation Experiment 717 of 782\n",
      "Param = 0.01000 - classifier Evaluation Experiment 718 of 782\n",
      "Param = 0.01000 - classifier Evaluation Experiment 719 of 782\n",
      "Param = 0.01000 - classifier Evaluation Experiment 720 of 782\n",
      "Param = 0.01000 - classifier Evaluation Experiment 721 of 782\n",
      "Param = 0.01000 - classifier Evaluation Experiment 722 of 782\n",
      "Param = 0.01000 - classifier Evaluation Experiment 723 of 782\n",
      "Param = 0.01000 - classifier Evaluation Experiment 724 of 782\n",
      "Param = 0.01000 - classifier Evaluation Experiment 725 of 782\n",
      "Param = 0.01000 - classifier Evaluation Experiment 726 of 782\n",
      "Param = 0.01000 - classifier Evaluation Experiment 727 of 782\n",
      "Param = 0.01000 - classifier Evaluation Experiment 728 of 782\n",
      "Param = 0.01000 - classifier Evaluation Experiment 729 of 782\n",
      "Param = 0.01000 - classifier Evaluation Experiment 730 of 782\n",
      "Param = 0.01000 - classifier Evaluation Experiment 731 of 782\n",
      "Param = 0.01000 - classifier Evaluation Experiment 732 of 782\n",
      "Param = 0.01000 - classifier Evaluation Experiment 733 of 782\n",
      "Param = 0.01000 - classifier Evaluation Experiment 734 of 782\n",
      "Param = 0.01000 - classifier Evaluation Experiment 735 of 782\n",
      "Param = 0.01000 - classifier Evaluation Experiment 736 of 782\n",
      "Param = 0.01000 - classifier Evaluation Experiment 737 of 782\n",
      "Param = 0.01000 - classifier Evaluation Experiment 738 of 782\n",
      "Param = 0.01000 - classifier Evaluation Experiment 739 of 782\n",
      "Param = 0.01000 - classifier Evaluation Experiment 740 of 782\n",
      "Param = 0.01000 - classifier Evaluation Experiment 741 of 782\n",
      "Param = 0.01000 - classifier Evaluation Experiment 742 of 782\n",
      "Param = 0.01000 - classifier Evaluation Experiment 743 of 782\n",
      "Param = 0.01000 - classifier Evaluation Experiment 744 of 782\n",
      "Param = 0.01000 - classifier Evaluation Experiment 745 of 782\n",
      "Param = 0.01000 - classifier Evaluation Experiment 746 of 782\n",
      "Param = 0.01000 - classifier Evaluation Experiment 747 of 782\n",
      "Param = 0.01000 - classifier Evaluation Experiment 748 of 782\n",
      "Param = 0.01000 - classifier Evaluation Experiment 749 of 782\n",
      "Param = 0.01000 - classifier Evaluation Experiment 750 of 782\n",
      "Param = 0.01000 - classifier Evaluation Experiment 751 of 782\n",
      "Param = 0.01000 - classifier Evaluation Experiment 752 of 782\n",
      "Param = 0.01000 - classifier Evaluation Experiment 753 of 782\n",
      "Param = 0.01000 - classifier Evaluation Experiment 754 of 782\n",
      "Param = 0.01000 - classifier Evaluation Experiment 755 of 782\n",
      "Param = 0.01000 - classifier Evaluation Experiment 756 of 782\n",
      "Param = 0.01000 - classifier Evaluation Experiment 757 of 782\n",
      "Param = 0.01000 - classifier Evaluation Experiment 758 of 782\n",
      "Param = 0.01000 - classifier Evaluation Experiment 759 of 782\n",
      "Param = 0.01000 - classifier Evaluation Experiment 760 of 782\n",
      "Param = 0.01000 - classifier Evaluation Experiment 761 of 782\n",
      "Param = 0.01000 - classifier Evaluation Experiment 762 of 782\n",
      "Param = 0.01000 - classifier Evaluation Experiment 763 of 782\n",
      "Param = 0.01000 - classifier Evaluation Experiment 764 of 782\n",
      "Param = 0.01000 - classifier Evaluation Experiment 765 of 782\n",
      "Param = 0.01000 - classifier Evaluation Experiment 766 of 782\n",
      "Param = 0.01000 - classifier Evaluation Experiment 767 of 782\n",
      "Param = 0.01000 - classifier Evaluation Experiment 768 of 782\n",
      "Param = 0.01000 - classifier Evaluation Experiment 769 of 782\n",
      "Param = 0.01000 - classifier Evaluation Experiment 770 of 782\n",
      "Param = 0.01000 - classifier Evaluation Experiment 771 of 782\n",
      "Param = 0.01000 - classifier Evaluation Experiment 772 of 782\n",
      "Param = 0.01000 - classifier Evaluation Experiment 773 of 782\n",
      "Param = 0.01000 - classifier Evaluation Experiment 774 of 782\n",
      "Param = 0.01000 - classifier Evaluation Experiment 775 of 782\n",
      "Param = 0.01000 - classifier Evaluation Experiment 776 of 782\n",
      "Param = 0.01000 - classifier Evaluation Experiment 777 of 782\n",
      "Param = 0.01000 - classifier Evaluation Experiment 778 of 782\n",
      "Param = 0.01000 - classifier Evaluation Experiment 779 of 782\n",
      "Param = 0.01000 - classifier Evaluation Experiment 780 of 782\n",
      "Param = 0.01000 - classifier Evaluation Experiment 781 of 782\n",
      "Param = 0.01000 - classifier Evaluation Experiment 782 of 782\n",
      "Param = 0.50000 - classifier Evaluation Experiment 1 of 782\n",
      "Param = 0.50000 - classifier Evaluation Experiment 2 of 782\n",
      "Param = 0.50000 - classifier Evaluation Experiment 3 of 782\n",
      "Param = 0.50000 - classifier Evaluation Experiment 4 of 782\n",
      "Param = 0.50000 - classifier Evaluation Experiment 5 of 782\n",
      "Param = 0.50000 - classifier Evaluation Experiment 6 of 782\n",
      "Param = 0.50000 - classifier Evaluation Experiment 7 of 782\n",
      "Param = 0.50000 - classifier Evaluation Experiment 8 of 782\n",
      "Param = 0.50000 - classifier Evaluation Experiment 9 of 782\n",
      "Param = 0.50000 - classifier Evaluation Experiment 10 of 782\n",
      "Param = 0.50000 - classifier Evaluation Experiment 11 of 782\n",
      "Param = 0.50000 - classifier Evaluation Experiment 12 of 782\n",
      "Param = 0.50000 - classifier Evaluation Experiment 13 of 782\n",
      "Param = 0.50000 - classifier Evaluation Experiment 14 of 782\n",
      "Param = 0.50000 - classifier Evaluation Experiment 15 of 782\n",
      "Param = 0.50000 - classifier Evaluation Experiment 16 of 782\n",
      "Param = 0.50000 - classifier Evaluation Experiment 17 of 782\n",
      "Param = 0.50000 - classifier Evaluation Experiment 18 of 782\n",
      "Param = 0.50000 - classifier Evaluation Experiment 19 of 782\n",
      "Param = 0.50000 - classifier Evaluation Experiment 20 of 782\n",
      "Param = 0.50000 - classifier Evaluation Experiment 21 of 782\n",
      "Param = 0.50000 - classifier Evaluation Experiment 22 of 782\n",
      "Param = 0.50000 - classifier Evaluation Experiment 23 of 782\n",
      "Param = 0.50000 - classifier Evaluation Experiment 24 of 782\n",
      "Param = 0.50000 - classifier Evaluation Experiment 25 of 782\n",
      "Param = 0.50000 - classifier Evaluation Experiment 26 of 782\n",
      "Param = 0.50000 - classifier Evaluation Experiment 27 of 782\n",
      "Param = 0.50000 - classifier Evaluation Experiment 28 of 782\n",
      "Param = 0.50000 - classifier Evaluation Experiment 29 of 782\n",
      "Param = 0.50000 - classifier Evaluation Experiment 30 of 782\n",
      "Param = 0.50000 - classifier Evaluation Experiment 31 of 782\n",
      "Param = 0.50000 - classifier Evaluation Experiment 32 of 782\n",
      "Param = 0.50000 - classifier Evaluation Experiment 33 of 782\n",
      "Param = 0.50000 - classifier Evaluation Experiment 34 of 782\n",
      "Param = 0.50000 - classifier Evaluation Experiment 35 of 782\n",
      "Param = 0.50000 - classifier Evaluation Experiment 36 of 782\n",
      "Param = 0.50000 - classifier Evaluation Experiment 37 of 782\n",
      "Param = 0.50000 - classifier Evaluation Experiment 38 of 782\n",
      "Param = 0.50000 - classifier Evaluation Experiment 39 of 782\n",
      "Param = 0.50000 - classifier Evaluation Experiment 40 of 782\n",
      "Param = 0.50000 - classifier Evaluation Experiment 41 of 782\n",
      "Param = 0.50000 - classifier Evaluation Experiment 42 of 782\n",
      "Param = 0.50000 - classifier Evaluation Experiment 43 of 782\n",
      "Param = 0.50000 - classifier Evaluation Experiment 44 of 782\n",
      "Param = 0.50000 - classifier Evaluation Experiment 45 of 782\n",
      "Param = 0.50000 - classifier Evaluation Experiment 46 of 782\n",
      "Param = 0.50000 - classifier Evaluation Experiment 47 of 782\n",
      "Param = 0.50000 - classifier Evaluation Experiment 48 of 782\n",
      "Param = 0.50000 - classifier Evaluation Experiment 49 of 782\n",
      "Param = 0.50000 - classifier Evaluation Experiment 50 of 782\n",
      "Param = 0.50000 - classifier Evaluation Experiment 51 of 782\n",
      "Param = 0.50000 - classifier Evaluation Experiment 52 of 782\n",
      "Param = 0.50000 - classifier Evaluation Experiment 53 of 782\n",
      "Param = 0.50000 - classifier Evaluation Experiment 54 of 782\n",
      "Param = 0.50000 - classifier Evaluation Experiment 55 of 782\n",
      "Param = 0.50000 - classifier Evaluation Experiment 56 of 782\n",
      "Param = 0.50000 - classifier Evaluation Experiment 57 of 782\n",
      "Param = 0.50000 - classifier Evaluation Experiment 58 of 782\n",
      "Param = 0.50000 - classifier Evaluation Experiment 59 of 782\n",
      "Param = 0.50000 - classifier Evaluation Experiment 60 of 782\n",
      "Param = 0.50000 - classifier Evaluation Experiment 61 of 782\n",
      "Param = 0.50000 - classifier Evaluation Experiment 62 of 782\n",
      "Param = 0.50000 - classifier Evaluation Experiment 63 of 782\n",
      "Param = 0.50000 - classifier Evaluation Experiment 64 of 782\n",
      "Param = 0.50000 - classifier Evaluation Experiment 65 of 782\n",
      "Param = 0.50000 - classifier Evaluation Experiment 66 of 782\n",
      "Param = 0.50000 - classifier Evaluation Experiment 67 of 782\n",
      "Param = 0.50000 - classifier Evaluation Experiment 68 of 782\n",
      "Param = 0.50000 - classifier Evaluation Experiment 69 of 782\n",
      "Param = 0.50000 - classifier Evaluation Experiment 70 of 782\n",
      "Param = 0.50000 - classifier Evaluation Experiment 71 of 782\n",
      "Param = 0.50000 - classifier Evaluation Experiment 72 of 782\n",
      "Param = 0.50000 - classifier Evaluation Experiment 73 of 782\n",
      "Param = 0.50000 - classifier Evaluation Experiment 74 of 782\n",
      "Param = 0.50000 - classifier Evaluation Experiment 75 of 782\n",
      "Param = 0.50000 - classifier Evaluation Experiment 76 of 782\n",
      "Param = 0.50000 - classifier Evaluation Experiment 77 of 782\n",
      "Param = 0.50000 - classifier Evaluation Experiment 78 of 782\n",
      "Param = 0.50000 - classifier Evaluation Experiment 79 of 782\n",
      "Param = 0.50000 - classifier Evaluation Experiment 80 of 782\n",
      "Param = 0.50000 - classifier Evaluation Experiment 81 of 782\n",
      "Param = 0.50000 - classifier Evaluation Experiment 82 of 782\n",
      "Param = 0.50000 - classifier Evaluation Experiment 83 of 782\n",
      "Param = 0.50000 - classifier Evaluation Experiment 84 of 782\n",
      "Param = 0.50000 - classifier Evaluation Experiment 85 of 782\n",
      "Param = 0.50000 - classifier Evaluation Experiment 86 of 782\n",
      "Param = 0.50000 - classifier Evaluation Experiment 87 of 782\n",
      "Param = 0.50000 - classifier Evaluation Experiment 88 of 782\n",
      "Param = 0.50000 - classifier Evaluation Experiment 89 of 782\n",
      "Param = 0.50000 - classifier Evaluation Experiment 90 of 782\n",
      "Param = 0.50000 - classifier Evaluation Experiment 91 of 782\n",
      "Param = 0.50000 - classifier Evaluation Experiment 92 of 782\n",
      "Param = 0.50000 - classifier Evaluation Experiment 93 of 782\n",
      "Param = 0.50000 - classifier Evaluation Experiment 94 of 782\n",
      "Param = 0.50000 - classifier Evaluation Experiment 95 of 782\n",
      "Param = 0.50000 - classifier Evaluation Experiment 96 of 782\n",
      "Param = 0.50000 - classifier Evaluation Experiment 97 of 782\n",
      "Param = 0.50000 - classifier Evaluation Experiment 98 of 782\n",
      "Param = 0.50000 - classifier Evaluation Experiment 99 of 782\n",
      "Param = 0.50000 - classifier Evaluation Experiment 100 of 782\n",
      "Param = 0.50000 - classifier Evaluation Experiment 101 of 782\n",
      "Param = 0.50000 - classifier Evaluation Experiment 102 of 782\n",
      "Param = 0.50000 - classifier Evaluation Experiment 103 of 782\n",
      "Param = 0.50000 - classifier Evaluation Experiment 104 of 782\n",
      "Param = 0.50000 - classifier Evaluation Experiment 105 of 782\n",
      "Param = 0.50000 - classifier Evaluation Experiment 106 of 782\n",
      "Param = 0.50000 - classifier Evaluation Experiment 107 of 782\n",
      "Param = 0.50000 - classifier Evaluation Experiment 108 of 782\n",
      "Param = 0.50000 - classifier Evaluation Experiment 109 of 782\n",
      "Param = 0.50000 - classifier Evaluation Experiment 110 of 782\n",
      "Param = 0.50000 - classifier Evaluation Experiment 111 of 782\n",
      "Param = 0.50000 - classifier Evaluation Experiment 112 of 782\n",
      "Param = 0.50000 - classifier Evaluation Experiment 113 of 782\n",
      "Param = 0.50000 - classifier Evaluation Experiment 114 of 782\n",
      "Param = 0.50000 - classifier Evaluation Experiment 115 of 782\n",
      "Param = 0.50000 - classifier Evaluation Experiment 116 of 782\n",
      "Param = 0.50000 - classifier Evaluation Experiment 117 of 782\n",
      "Param = 0.50000 - classifier Evaluation Experiment 118 of 782\n",
      "Param = 0.50000 - classifier Evaluation Experiment 119 of 782\n",
      "Param = 0.50000 - classifier Evaluation Experiment 120 of 782\n",
      "Param = 0.50000 - classifier Evaluation Experiment 121 of 782\n",
      "Param = 0.50000 - classifier Evaluation Experiment 122 of 782\n",
      "Param = 0.50000 - classifier Evaluation Experiment 123 of 782\n",
      "Param = 0.50000 - classifier Evaluation Experiment 124 of 782\n",
      "Param = 0.50000 - classifier Evaluation Experiment 125 of 782\n",
      "Param = 0.50000 - classifier Evaluation Experiment 126 of 782\n",
      "Param = 0.50000 - classifier Evaluation Experiment 127 of 782\n",
      "Param = 0.50000 - classifier Evaluation Experiment 128 of 782\n",
      "Param = 0.50000 - classifier Evaluation Experiment 129 of 782\n",
      "Param = 0.50000 - classifier Evaluation Experiment 130 of 782\n",
      "Param = 0.50000 - classifier Evaluation Experiment 131 of 782\n",
      "Param = 0.50000 - classifier Evaluation Experiment 132 of 782\n",
      "Param = 0.50000 - classifier Evaluation Experiment 133 of 782\n",
      "Param = 0.50000 - classifier Evaluation Experiment 134 of 782\n",
      "Param = 0.50000 - classifier Evaluation Experiment 135 of 782\n",
      "Param = 0.50000 - classifier Evaluation Experiment 136 of 782\n",
      "Param = 0.50000 - classifier Evaluation Experiment 137 of 782\n",
      "Param = 0.50000 - classifier Evaluation Experiment 138 of 782\n",
      "Param = 0.50000 - classifier Evaluation Experiment 139 of 782\n",
      "Param = 0.50000 - classifier Evaluation Experiment 140 of 782\n",
      "Param = 0.50000 - classifier Evaluation Experiment 141 of 782\n",
      "Param = 0.50000 - classifier Evaluation Experiment 142 of 782\n",
      "Param = 0.50000 - classifier Evaluation Experiment 143 of 782\n",
      "Param = 0.50000 - classifier Evaluation Experiment 144 of 782\n",
      "Param = 0.50000 - classifier Evaluation Experiment 145 of 782\n",
      "Param = 0.50000 - classifier Evaluation Experiment 146 of 782\n",
      "Param = 0.50000 - classifier Evaluation Experiment 147 of 782\n",
      "Param = 0.50000 - classifier Evaluation Experiment 148 of 782\n",
      "Param = 0.50000 - classifier Evaluation Experiment 149 of 782\n",
      "Param = 0.50000 - classifier Evaluation Experiment 150 of 782\n",
      "Param = 0.50000 - classifier Evaluation Experiment 151 of 782\n",
      "Param = 0.50000 - classifier Evaluation Experiment 152 of 782\n",
      "Param = 0.50000 - classifier Evaluation Experiment 153 of 782\n",
      "Param = 0.50000 - classifier Evaluation Experiment 154 of 782\n",
      "Param = 0.50000 - classifier Evaluation Experiment 155 of 782\n",
      "Param = 0.50000 - classifier Evaluation Experiment 156 of 782\n",
      "Param = 0.50000 - classifier Evaluation Experiment 157 of 782\n",
      "Param = 0.50000 - classifier Evaluation Experiment 158 of 782\n",
      "Param = 0.50000 - classifier Evaluation Experiment 159 of 782\n",
      "Param = 0.50000 - classifier Evaluation Experiment 160 of 782\n",
      "Param = 0.50000 - classifier Evaluation Experiment 161 of 782\n",
      "Param = 0.50000 - classifier Evaluation Experiment 162 of 782\n",
      "Param = 0.50000 - classifier Evaluation Experiment 163 of 782\n",
      "Param = 0.50000 - classifier Evaluation Experiment 164 of 782\n",
      "Param = 0.50000 - classifier Evaluation Experiment 165 of 782\n",
      "Param = 0.50000 - classifier Evaluation Experiment 166 of 782\n",
      "Param = 0.50000 - classifier Evaluation Experiment 167 of 782\n",
      "Param = 0.50000 - classifier Evaluation Experiment 168 of 782\n",
      "Param = 0.50000 - classifier Evaluation Experiment 169 of 782\n",
      "Param = 0.50000 - classifier Evaluation Experiment 170 of 782\n",
      "Param = 0.50000 - classifier Evaluation Experiment 171 of 782\n",
      "Param = 0.50000 - classifier Evaluation Experiment 172 of 782\n",
      "Param = 0.50000 - classifier Evaluation Experiment 173 of 782\n",
      "Param = 0.50000 - classifier Evaluation Experiment 174 of 782\n",
      "Param = 0.50000 - classifier Evaluation Experiment 175 of 782\n",
      "Param = 0.50000 - classifier Evaluation Experiment 176 of 782\n",
      "Param = 0.50000 - classifier Evaluation Experiment 177 of 782\n",
      "Param = 0.50000 - classifier Evaluation Experiment 178 of 782\n",
      "Param = 0.50000 - classifier Evaluation Experiment 179 of 782\n",
      "Param = 0.50000 - classifier Evaluation Experiment 180 of 782\n",
      "Param = 0.50000 - classifier Evaluation Experiment 181 of 782\n",
      "Param = 0.50000 - classifier Evaluation Experiment 182 of 782\n",
      "Param = 0.50000 - classifier Evaluation Experiment 183 of 782\n",
      "Param = 0.50000 - classifier Evaluation Experiment 184 of 782\n",
      "Param = 0.50000 - classifier Evaluation Experiment 185 of 782\n",
      "Param = 0.50000 - classifier Evaluation Experiment 186 of 782\n",
      "Param = 0.50000 - classifier Evaluation Experiment 187 of 782\n",
      "Param = 0.50000 - classifier Evaluation Experiment 188 of 782\n",
      "Param = 0.50000 - classifier Evaluation Experiment 189 of 782\n",
      "Param = 0.50000 - classifier Evaluation Experiment 190 of 782\n",
      "Param = 0.50000 - classifier Evaluation Experiment 191 of 782\n",
      "Param = 0.50000 - classifier Evaluation Experiment 192 of 782\n",
      "Param = 0.50000 - classifier Evaluation Experiment 193 of 782\n",
      "Param = 0.50000 - classifier Evaluation Experiment 194 of 782\n",
      "Param = 0.50000 - classifier Evaluation Experiment 195 of 782\n",
      "Param = 0.50000 - classifier Evaluation Experiment 196 of 782\n",
      "Param = 0.50000 - classifier Evaluation Experiment 197 of 782\n",
      "Param = 0.50000 - classifier Evaluation Experiment 198 of 782\n",
      "Param = 0.50000 - classifier Evaluation Experiment 199 of 782\n",
      "Param = 0.50000 - classifier Evaluation Experiment 200 of 782\n",
      "Param = 0.50000 - classifier Evaluation Experiment 201 of 782\n",
      "Param = 0.50000 - classifier Evaluation Experiment 202 of 782\n",
      "Param = 0.50000 - classifier Evaluation Experiment 203 of 782\n",
      "Param = 0.50000 - classifier Evaluation Experiment 204 of 782\n",
      "Param = 0.50000 - classifier Evaluation Experiment 205 of 782\n",
      "Param = 0.50000 - classifier Evaluation Experiment 206 of 782\n",
      "Param = 0.50000 - classifier Evaluation Experiment 207 of 782\n",
      "Param = 0.50000 - classifier Evaluation Experiment 208 of 782\n",
      "Param = 0.50000 - classifier Evaluation Experiment 209 of 782\n",
      "Param = 0.50000 - classifier Evaluation Experiment 210 of 782\n",
      "Param = 0.50000 - classifier Evaluation Experiment 211 of 782\n",
      "Param = 0.50000 - classifier Evaluation Experiment 212 of 782\n",
      "Param = 0.50000 - classifier Evaluation Experiment 213 of 782\n",
      "Param = 0.50000 - classifier Evaluation Experiment 214 of 782\n",
      "Param = 0.50000 - classifier Evaluation Experiment 215 of 782\n",
      "Param = 0.50000 - classifier Evaluation Experiment 216 of 782\n",
      "Param = 0.50000 - classifier Evaluation Experiment 217 of 782\n",
      "Param = 0.50000 - classifier Evaluation Experiment 218 of 782\n",
      "Param = 0.50000 - classifier Evaluation Experiment 219 of 782\n",
      "Param = 0.50000 - classifier Evaluation Experiment 220 of 782\n",
      "Param = 0.50000 - classifier Evaluation Experiment 221 of 782\n",
      "Param = 0.50000 - classifier Evaluation Experiment 222 of 782\n",
      "Param = 0.50000 - classifier Evaluation Experiment 223 of 782\n",
      "Param = 0.50000 - classifier Evaluation Experiment 224 of 782\n",
      "Param = 0.50000 - classifier Evaluation Experiment 225 of 782\n",
      "Param = 0.50000 - classifier Evaluation Experiment 226 of 782\n",
      "Param = 0.50000 - classifier Evaluation Experiment 227 of 782\n",
      "Param = 0.50000 - classifier Evaluation Experiment 228 of 782\n",
      "Param = 0.50000 - classifier Evaluation Experiment 229 of 782\n",
      "Param = 0.50000 - classifier Evaluation Experiment 230 of 782\n",
      "Param = 0.50000 - classifier Evaluation Experiment 231 of 782\n",
      "Param = 0.50000 - classifier Evaluation Experiment 232 of 782\n",
      "Param = 0.50000 - classifier Evaluation Experiment 233 of 782\n",
      "Param = 0.50000 - classifier Evaluation Experiment 234 of 782\n",
      "Param = 0.50000 - classifier Evaluation Experiment 235 of 782\n",
      "Param = 0.50000 - classifier Evaluation Experiment 236 of 782\n",
      "Param = 0.50000 - classifier Evaluation Experiment 237 of 782\n",
      "Param = 0.50000 - classifier Evaluation Experiment 238 of 782\n",
      "Param = 0.50000 - classifier Evaluation Experiment 239 of 782\n",
      "Param = 0.50000 - classifier Evaluation Experiment 240 of 782\n",
      "Param = 0.50000 - classifier Evaluation Experiment 241 of 782\n",
      "Param = 0.50000 - classifier Evaluation Experiment 242 of 782\n",
      "Param = 0.50000 - classifier Evaluation Experiment 243 of 782\n",
      "Param = 0.50000 - classifier Evaluation Experiment 244 of 782\n",
      "Param = 0.50000 - classifier Evaluation Experiment 245 of 782\n",
      "Param = 0.50000 - classifier Evaluation Experiment 246 of 782\n",
      "Param = 0.50000 - classifier Evaluation Experiment 247 of 782\n",
      "Param = 0.50000 - classifier Evaluation Experiment 248 of 782\n",
      "Param = 0.50000 - classifier Evaluation Experiment 249 of 782\n",
      "Param = 0.50000 - classifier Evaluation Experiment 250 of 782\n",
      "Param = 0.50000 - classifier Evaluation Experiment 251 of 782\n",
      "Param = 0.50000 - classifier Evaluation Experiment 252 of 782\n",
      "Param = 0.50000 - classifier Evaluation Experiment 253 of 782\n",
      "Param = 0.50000 - classifier Evaluation Experiment 254 of 782\n",
      "Param = 0.50000 - classifier Evaluation Experiment 255 of 782\n",
      "Param = 0.50000 - classifier Evaluation Experiment 256 of 782\n",
      "Param = 0.50000 - classifier Evaluation Experiment 257 of 782\n",
      "Param = 0.50000 - classifier Evaluation Experiment 258 of 782\n",
      "Param = 0.50000 - classifier Evaluation Experiment 259 of 782\n",
      "Param = 0.50000 - classifier Evaluation Experiment 260 of 782\n",
      "Param = 0.50000 - classifier Evaluation Experiment 261 of 782\n",
      "Param = 0.50000 - classifier Evaluation Experiment 262 of 782\n",
      "Param = 0.50000 - classifier Evaluation Experiment 263 of 782\n",
      "Param = 0.50000 - classifier Evaluation Experiment 264 of 782\n",
      "Param = 0.50000 - classifier Evaluation Experiment 265 of 782\n",
      "Param = 0.50000 - classifier Evaluation Experiment 266 of 782\n",
      "Param = 0.50000 - classifier Evaluation Experiment 267 of 782\n",
      "Param = 0.50000 - classifier Evaluation Experiment 268 of 782\n",
      "Param = 0.50000 - classifier Evaluation Experiment 269 of 782\n",
      "Param = 0.50000 - classifier Evaluation Experiment 270 of 782\n",
      "Param = 0.50000 - classifier Evaluation Experiment 271 of 782\n",
      "Param = 0.50000 - classifier Evaluation Experiment 272 of 782\n",
      "Param = 0.50000 - classifier Evaluation Experiment 273 of 782\n",
      "Param = 0.50000 - classifier Evaluation Experiment 274 of 782\n",
      "Param = 0.50000 - classifier Evaluation Experiment 275 of 782\n",
      "Param = 0.50000 - classifier Evaluation Experiment 276 of 782\n",
      "Param = 0.50000 - classifier Evaluation Experiment 277 of 782\n",
      "Param = 0.50000 - classifier Evaluation Experiment 278 of 782\n",
      "Param = 0.50000 - classifier Evaluation Experiment 279 of 782\n",
      "Param = 0.50000 - classifier Evaluation Experiment 280 of 782\n",
      "Param = 0.50000 - classifier Evaluation Experiment 281 of 782\n",
      "Param = 0.50000 - classifier Evaluation Experiment 282 of 782\n",
      "Param = 0.50000 - classifier Evaluation Experiment 283 of 782\n",
      "Param = 0.50000 - classifier Evaluation Experiment 284 of 782\n",
      "Param = 0.50000 - classifier Evaluation Experiment 285 of 782\n",
      "Param = 0.50000 - classifier Evaluation Experiment 286 of 782\n",
      "Param = 0.50000 - classifier Evaluation Experiment 287 of 782\n",
      "Param = 0.50000 - classifier Evaluation Experiment 288 of 782\n",
      "Param = 0.50000 - classifier Evaluation Experiment 289 of 782\n",
      "Param = 0.50000 - classifier Evaluation Experiment 290 of 782\n",
      "Param = 0.50000 - classifier Evaluation Experiment 291 of 782\n",
      "Param = 0.50000 - classifier Evaluation Experiment 292 of 782\n",
      "Param = 0.50000 - classifier Evaluation Experiment 293 of 782\n",
      "Param = 0.50000 - classifier Evaluation Experiment 294 of 782\n",
      "Param = 0.50000 - classifier Evaluation Experiment 295 of 782\n",
      "Param = 0.50000 - classifier Evaluation Experiment 296 of 782\n",
      "Param = 0.50000 - classifier Evaluation Experiment 297 of 782\n",
      "Param = 0.50000 - classifier Evaluation Experiment 298 of 782\n",
      "Param = 0.50000 - classifier Evaluation Experiment 299 of 782\n",
      "Param = 0.50000 - classifier Evaluation Experiment 300 of 782\n",
      "Param = 0.50000 - classifier Evaluation Experiment 301 of 782\n",
      "Param = 0.50000 - classifier Evaluation Experiment 302 of 782\n",
      "Param = 0.50000 - classifier Evaluation Experiment 303 of 782\n",
      "Param = 0.50000 - classifier Evaluation Experiment 304 of 782\n",
      "Param = 0.50000 - classifier Evaluation Experiment 305 of 782\n",
      "Param = 0.50000 - classifier Evaluation Experiment 306 of 782\n",
      "Param = 0.50000 - classifier Evaluation Experiment 307 of 782\n",
      "Param = 0.50000 - classifier Evaluation Experiment 308 of 782\n",
      "Param = 0.50000 - classifier Evaluation Experiment 309 of 782\n",
      "Param = 0.50000 - classifier Evaluation Experiment 310 of 782\n",
      "Param = 0.50000 - classifier Evaluation Experiment 311 of 782\n",
      "Param = 0.50000 - classifier Evaluation Experiment 312 of 782\n",
      "Param = 0.50000 - classifier Evaluation Experiment 313 of 782\n",
      "Param = 0.50000 - classifier Evaluation Experiment 314 of 782\n",
      "Param = 0.50000 - classifier Evaluation Experiment 315 of 782\n",
      "Param = 0.50000 - classifier Evaluation Experiment 316 of 782\n",
      "Param = 0.50000 - classifier Evaluation Experiment 317 of 782\n",
      "Param = 0.50000 - classifier Evaluation Experiment 318 of 782\n",
      "Param = 0.50000 - classifier Evaluation Experiment 319 of 782\n",
      "Param = 0.50000 - classifier Evaluation Experiment 320 of 782\n",
      "Param = 0.50000 - classifier Evaluation Experiment 321 of 782\n",
      "Param = 0.50000 - classifier Evaluation Experiment 322 of 782\n",
      "Param = 0.50000 - classifier Evaluation Experiment 323 of 782\n",
      "Param = 0.50000 - classifier Evaluation Experiment 324 of 782\n",
      "Param = 0.50000 - classifier Evaluation Experiment 325 of 782\n",
      "Param = 0.50000 - classifier Evaluation Experiment 326 of 782\n",
      "Param = 0.50000 - classifier Evaluation Experiment 327 of 782\n",
      "Param = 0.50000 - classifier Evaluation Experiment 328 of 782\n",
      "Param = 0.50000 - classifier Evaluation Experiment 329 of 782\n",
      "Param = 0.50000 - classifier Evaluation Experiment 330 of 782\n",
      "Param = 0.50000 - classifier Evaluation Experiment 331 of 782\n",
      "Param = 0.50000 - classifier Evaluation Experiment 332 of 782\n",
      "Param = 0.50000 - classifier Evaluation Experiment 333 of 782\n",
      "Param = 0.50000 - classifier Evaluation Experiment 334 of 782\n",
      "Param = 0.50000 - classifier Evaluation Experiment 335 of 782\n",
      "Param = 0.50000 - classifier Evaluation Experiment 336 of 782\n",
      "Param = 0.50000 - classifier Evaluation Experiment 337 of 782\n",
      "Param = 0.50000 - classifier Evaluation Experiment 338 of 782\n",
      "Param = 0.50000 - classifier Evaluation Experiment 339 of 782\n",
      "Param = 0.50000 - classifier Evaluation Experiment 340 of 782\n",
      "Param = 0.50000 - classifier Evaluation Experiment 341 of 782\n",
      "Param = 0.50000 - classifier Evaluation Experiment 342 of 782\n",
      "Param = 0.50000 - classifier Evaluation Experiment 343 of 782\n",
      "Param = 0.50000 - classifier Evaluation Experiment 344 of 782\n",
      "Param = 0.50000 - classifier Evaluation Experiment 345 of 782\n",
      "Param = 0.50000 - classifier Evaluation Experiment 346 of 782\n",
      "Param = 0.50000 - classifier Evaluation Experiment 347 of 782\n",
      "Param = 0.50000 - classifier Evaluation Experiment 348 of 782\n",
      "Param = 0.50000 - classifier Evaluation Experiment 349 of 782\n",
      "Param = 0.50000 - classifier Evaluation Experiment 350 of 782\n",
      "Param = 0.50000 - classifier Evaluation Experiment 351 of 782\n",
      "Param = 0.50000 - classifier Evaluation Experiment 352 of 782\n",
      "Param = 0.50000 - classifier Evaluation Experiment 353 of 782\n",
      "Param = 0.50000 - classifier Evaluation Experiment 354 of 782\n",
      "Param = 0.50000 - classifier Evaluation Experiment 355 of 782\n",
      "Param = 0.50000 - classifier Evaluation Experiment 356 of 782\n",
      "Param = 0.50000 - classifier Evaluation Experiment 357 of 782\n",
      "Param = 0.50000 - classifier Evaluation Experiment 358 of 782\n",
      "Param = 0.50000 - classifier Evaluation Experiment 359 of 782\n",
      "Param = 0.50000 - classifier Evaluation Experiment 360 of 782\n",
      "Param = 0.50000 - classifier Evaluation Experiment 361 of 782\n",
      "Param = 0.50000 - classifier Evaluation Experiment 362 of 782\n",
      "Param = 0.50000 - classifier Evaluation Experiment 363 of 782\n",
      "Param = 0.50000 - classifier Evaluation Experiment 364 of 782\n",
      "Param = 0.50000 - classifier Evaluation Experiment 365 of 782\n",
      "Param = 0.50000 - classifier Evaluation Experiment 366 of 782\n",
      "Param = 0.50000 - classifier Evaluation Experiment 367 of 782\n",
      "Param = 0.50000 - classifier Evaluation Experiment 368 of 782\n",
      "Param = 0.50000 - classifier Evaluation Experiment 369 of 782\n",
      "Param = 0.50000 - classifier Evaluation Experiment 370 of 782\n",
      "Param = 0.50000 - classifier Evaluation Experiment 371 of 782\n",
      "Param = 0.50000 - classifier Evaluation Experiment 372 of 782\n",
      "Param = 0.50000 - classifier Evaluation Experiment 373 of 782\n",
      "Param = 0.50000 - classifier Evaluation Experiment 374 of 782\n",
      "Param = 0.50000 - classifier Evaluation Experiment 375 of 782\n",
      "Param = 0.50000 - classifier Evaluation Experiment 376 of 782\n",
      "Param = 0.50000 - classifier Evaluation Experiment 377 of 782\n",
      "Param = 0.50000 - classifier Evaluation Experiment 378 of 782\n",
      "Param = 0.50000 - classifier Evaluation Experiment 379 of 782\n",
      "Param = 0.50000 - classifier Evaluation Experiment 380 of 782\n",
      "Param = 0.50000 - classifier Evaluation Experiment 381 of 782\n",
      "Param = 0.50000 - classifier Evaluation Experiment 382 of 782\n",
      "Param = 0.50000 - classifier Evaluation Experiment 383 of 782\n",
      "Param = 0.50000 - classifier Evaluation Experiment 384 of 782\n",
      "Param = 0.50000 - classifier Evaluation Experiment 385 of 782\n",
      "Param = 0.50000 - classifier Evaluation Experiment 386 of 782\n",
      "Param = 0.50000 - classifier Evaluation Experiment 387 of 782\n",
      "Param = 0.50000 - classifier Evaluation Experiment 388 of 782\n",
      "Param = 0.50000 - classifier Evaluation Experiment 389 of 782\n",
      "Param = 0.50000 - classifier Evaluation Experiment 390 of 782\n",
      "Param = 0.50000 - classifier Evaluation Experiment 391 of 782\n",
      "Param = 0.50000 - classifier Evaluation Experiment 392 of 782\n",
      "Param = 0.50000 - classifier Evaluation Experiment 393 of 782\n",
      "Param = 0.50000 - classifier Evaluation Experiment 394 of 782\n",
      "Param = 0.50000 - classifier Evaluation Experiment 395 of 782\n",
      "Param = 0.50000 - classifier Evaluation Experiment 396 of 782\n",
      "Param = 0.50000 - classifier Evaluation Experiment 397 of 782\n",
      "Param = 0.50000 - classifier Evaluation Experiment 398 of 782\n",
      "Param = 0.50000 - classifier Evaluation Experiment 399 of 782\n",
      "Param = 0.50000 - classifier Evaluation Experiment 400 of 782\n",
      "Param = 0.50000 - classifier Evaluation Experiment 401 of 782\n",
      "Param = 0.50000 - classifier Evaluation Experiment 402 of 782\n",
      "Param = 0.50000 - classifier Evaluation Experiment 403 of 782\n",
      "Param = 0.50000 - classifier Evaluation Experiment 404 of 782\n",
      "Param = 0.50000 - classifier Evaluation Experiment 405 of 782\n",
      "Param = 0.50000 - classifier Evaluation Experiment 406 of 782\n",
      "Param = 0.50000 - classifier Evaluation Experiment 407 of 782\n",
      "Param = 0.50000 - classifier Evaluation Experiment 408 of 782\n",
      "Param = 0.50000 - classifier Evaluation Experiment 409 of 782\n",
      "Param = 0.50000 - classifier Evaluation Experiment 410 of 782\n",
      "Param = 0.50000 - classifier Evaluation Experiment 411 of 782\n",
      "Param = 0.50000 - classifier Evaluation Experiment 412 of 782\n",
      "Param = 0.50000 - classifier Evaluation Experiment 413 of 782\n",
      "Param = 0.50000 - classifier Evaluation Experiment 414 of 782\n",
      "Param = 0.50000 - classifier Evaluation Experiment 415 of 782\n",
      "Param = 0.50000 - classifier Evaluation Experiment 416 of 782\n",
      "Param = 0.50000 - classifier Evaluation Experiment 417 of 782\n",
      "Param = 0.50000 - classifier Evaluation Experiment 418 of 782\n",
      "Param = 0.50000 - classifier Evaluation Experiment 419 of 782\n",
      "Param = 0.50000 - classifier Evaluation Experiment 420 of 782\n",
      "Param = 0.50000 - classifier Evaluation Experiment 421 of 782\n",
      "Param = 0.50000 - classifier Evaluation Experiment 422 of 782\n",
      "Param = 0.50000 - classifier Evaluation Experiment 423 of 782\n",
      "Param = 0.50000 - classifier Evaluation Experiment 424 of 782\n",
      "Param = 0.50000 - classifier Evaluation Experiment 425 of 782\n",
      "Param = 0.50000 - classifier Evaluation Experiment 426 of 782\n",
      "Param = 0.50000 - classifier Evaluation Experiment 427 of 782\n",
      "Param = 0.50000 - classifier Evaluation Experiment 428 of 782\n",
      "Param = 0.50000 - classifier Evaluation Experiment 429 of 782\n",
      "Param = 0.50000 - classifier Evaluation Experiment 430 of 782\n",
      "Param = 0.50000 - classifier Evaluation Experiment 431 of 782\n",
      "Param = 0.50000 - classifier Evaluation Experiment 432 of 782\n",
      "Param = 0.50000 - classifier Evaluation Experiment 433 of 782\n",
      "Param = 0.50000 - classifier Evaluation Experiment 434 of 782\n",
      "Param = 0.50000 - classifier Evaluation Experiment 435 of 782\n",
      "Param = 0.50000 - classifier Evaluation Experiment 436 of 782\n",
      "Param = 0.50000 - classifier Evaluation Experiment 437 of 782\n",
      "Param = 0.50000 - classifier Evaluation Experiment 438 of 782\n",
      "Param = 0.50000 - classifier Evaluation Experiment 439 of 782\n",
      "Param = 0.50000 - classifier Evaluation Experiment 440 of 782\n",
      "Param = 0.50000 - classifier Evaluation Experiment 441 of 782\n",
      "Param = 0.50000 - classifier Evaluation Experiment 442 of 782\n",
      "Param = 0.50000 - classifier Evaluation Experiment 443 of 782\n",
      "Param = 0.50000 - classifier Evaluation Experiment 444 of 782\n",
      "Param = 0.50000 - classifier Evaluation Experiment 445 of 782\n",
      "Param = 0.50000 - classifier Evaluation Experiment 446 of 782\n",
      "Param = 0.50000 - classifier Evaluation Experiment 447 of 782\n",
      "Param = 0.50000 - classifier Evaluation Experiment 448 of 782\n",
      "Param = 0.50000 - classifier Evaluation Experiment 449 of 782\n",
      "Param = 0.50000 - classifier Evaluation Experiment 450 of 782\n",
      "Param = 0.50000 - classifier Evaluation Experiment 451 of 782\n",
      "Param = 0.50000 - classifier Evaluation Experiment 452 of 782\n",
      "Param = 0.50000 - classifier Evaluation Experiment 453 of 782\n",
      "Param = 0.50000 - classifier Evaluation Experiment 454 of 782\n",
      "Param = 0.50000 - classifier Evaluation Experiment 455 of 782\n",
      "Param = 0.50000 - classifier Evaluation Experiment 456 of 782\n",
      "Param = 0.50000 - classifier Evaluation Experiment 457 of 782\n",
      "Param = 0.50000 - classifier Evaluation Experiment 458 of 782\n",
      "Param = 0.50000 - classifier Evaluation Experiment 459 of 782\n",
      "Param = 0.50000 - classifier Evaluation Experiment 460 of 782\n",
      "Param = 0.50000 - classifier Evaluation Experiment 461 of 782\n",
      "Param = 0.50000 - classifier Evaluation Experiment 462 of 782\n",
      "Param = 0.50000 - classifier Evaluation Experiment 463 of 782\n",
      "Param = 0.50000 - classifier Evaluation Experiment 464 of 782\n",
      "Param = 0.50000 - classifier Evaluation Experiment 465 of 782\n",
      "Param = 0.50000 - classifier Evaluation Experiment 466 of 782\n",
      "Param = 0.50000 - classifier Evaluation Experiment 467 of 782\n",
      "Param = 0.50000 - classifier Evaluation Experiment 468 of 782\n",
      "Param = 0.50000 - classifier Evaluation Experiment 469 of 782\n",
      "Param = 0.50000 - classifier Evaluation Experiment 470 of 782\n",
      "Param = 0.50000 - classifier Evaluation Experiment 471 of 782\n",
      "Param = 0.50000 - classifier Evaluation Experiment 472 of 782\n",
      "Param = 0.50000 - classifier Evaluation Experiment 473 of 782\n",
      "Param = 0.50000 - classifier Evaluation Experiment 474 of 782\n",
      "Param = 0.50000 - classifier Evaluation Experiment 475 of 782\n",
      "Param = 0.50000 - classifier Evaluation Experiment 476 of 782\n",
      "Param = 0.50000 - classifier Evaluation Experiment 477 of 782\n",
      "Param = 0.50000 - classifier Evaluation Experiment 478 of 782\n",
      "Param = 0.50000 - classifier Evaluation Experiment 479 of 782\n",
      "Param = 0.50000 - classifier Evaluation Experiment 480 of 782\n",
      "Param = 0.50000 - classifier Evaluation Experiment 481 of 782\n",
      "Param = 0.50000 - classifier Evaluation Experiment 482 of 782\n",
      "Param = 0.50000 - classifier Evaluation Experiment 483 of 782\n",
      "Param = 0.50000 - classifier Evaluation Experiment 484 of 782\n",
      "Param = 0.50000 - classifier Evaluation Experiment 485 of 782\n",
      "Param = 0.50000 - classifier Evaluation Experiment 486 of 782\n",
      "Param = 0.50000 - classifier Evaluation Experiment 487 of 782\n",
      "Param = 0.50000 - classifier Evaluation Experiment 488 of 782\n",
      "Param = 0.50000 - classifier Evaluation Experiment 489 of 782\n",
      "Param = 0.50000 - classifier Evaluation Experiment 490 of 782\n",
      "Param = 0.50000 - classifier Evaluation Experiment 491 of 782\n",
      "Param = 0.50000 - classifier Evaluation Experiment 492 of 782\n",
      "Param = 0.50000 - classifier Evaluation Experiment 493 of 782\n",
      "Param = 0.50000 - classifier Evaluation Experiment 494 of 782\n",
      "Param = 0.50000 - classifier Evaluation Experiment 495 of 782\n",
      "Param = 0.50000 - classifier Evaluation Experiment 496 of 782\n",
      "Param = 0.50000 - classifier Evaluation Experiment 497 of 782\n",
      "Param = 0.50000 - classifier Evaluation Experiment 498 of 782\n",
      "Param = 0.50000 - classifier Evaluation Experiment 499 of 782\n",
      "Param = 0.50000 - classifier Evaluation Experiment 500 of 782\n",
      "Param = 0.50000 - classifier Evaluation Experiment 501 of 782\n",
      "Param = 0.50000 - classifier Evaluation Experiment 502 of 782\n",
      "Param = 0.50000 - classifier Evaluation Experiment 503 of 782\n",
      "Param = 0.50000 - classifier Evaluation Experiment 504 of 782\n",
      "Param = 0.50000 - classifier Evaluation Experiment 505 of 782\n",
      "Param = 0.50000 - classifier Evaluation Experiment 506 of 782\n",
      "Param = 0.50000 - classifier Evaluation Experiment 507 of 782\n",
      "Param = 0.50000 - classifier Evaluation Experiment 508 of 782\n",
      "Param = 0.50000 - classifier Evaluation Experiment 509 of 782\n",
      "Param = 0.50000 - classifier Evaluation Experiment 510 of 782\n",
      "Param = 0.50000 - classifier Evaluation Experiment 511 of 782\n",
      "Param = 0.50000 - classifier Evaluation Experiment 512 of 782\n",
      "Param = 0.50000 - classifier Evaluation Experiment 513 of 782\n",
      "Param = 0.50000 - classifier Evaluation Experiment 514 of 782\n",
      "Param = 0.50000 - classifier Evaluation Experiment 515 of 782\n",
      "Param = 0.50000 - classifier Evaluation Experiment 516 of 782\n",
      "Param = 0.50000 - classifier Evaluation Experiment 517 of 782\n",
      "Param = 0.50000 - classifier Evaluation Experiment 518 of 782\n",
      "Param = 0.50000 - classifier Evaluation Experiment 519 of 782\n",
      "Param = 0.50000 - classifier Evaluation Experiment 520 of 782\n",
      "Param = 0.50000 - classifier Evaluation Experiment 521 of 782\n",
      "Param = 0.50000 - classifier Evaluation Experiment 522 of 782\n",
      "Param = 0.50000 - classifier Evaluation Experiment 523 of 782\n",
      "Param = 0.50000 - classifier Evaluation Experiment 524 of 782\n",
      "Param = 0.50000 - classifier Evaluation Experiment 525 of 782\n",
      "Param = 0.50000 - classifier Evaluation Experiment 526 of 782\n",
      "Param = 0.50000 - classifier Evaluation Experiment 527 of 782\n",
      "Param = 0.50000 - classifier Evaluation Experiment 528 of 782\n",
      "Param = 0.50000 - classifier Evaluation Experiment 529 of 782\n",
      "Param = 0.50000 - classifier Evaluation Experiment 530 of 782\n",
      "Param = 0.50000 - classifier Evaluation Experiment 531 of 782\n",
      "Param = 0.50000 - classifier Evaluation Experiment 532 of 782\n",
      "Param = 0.50000 - classifier Evaluation Experiment 533 of 782\n",
      "Param = 0.50000 - classifier Evaluation Experiment 534 of 782\n",
      "Param = 0.50000 - classifier Evaluation Experiment 535 of 782\n",
      "Param = 0.50000 - classifier Evaluation Experiment 536 of 782\n",
      "Param = 0.50000 - classifier Evaluation Experiment 537 of 782\n",
      "Param = 0.50000 - classifier Evaluation Experiment 538 of 782\n",
      "Param = 0.50000 - classifier Evaluation Experiment 539 of 782\n",
      "Param = 0.50000 - classifier Evaluation Experiment 540 of 782\n",
      "Param = 0.50000 - classifier Evaluation Experiment 541 of 782\n",
      "Param = 0.50000 - classifier Evaluation Experiment 542 of 782\n",
      "Param = 0.50000 - classifier Evaluation Experiment 543 of 782\n",
      "Param = 0.50000 - classifier Evaluation Experiment 544 of 782\n",
      "Param = 0.50000 - classifier Evaluation Experiment 545 of 782\n",
      "Param = 0.50000 - classifier Evaluation Experiment 546 of 782\n",
      "Param = 0.50000 - classifier Evaluation Experiment 547 of 782\n",
      "Param = 0.50000 - classifier Evaluation Experiment 548 of 782\n",
      "Param = 0.50000 - classifier Evaluation Experiment 549 of 782\n",
      "Param = 0.50000 - classifier Evaluation Experiment 550 of 782\n",
      "Param = 0.50000 - classifier Evaluation Experiment 551 of 782\n",
      "Param = 0.50000 - classifier Evaluation Experiment 552 of 782\n",
      "Param = 0.50000 - classifier Evaluation Experiment 553 of 782\n",
      "Param = 0.50000 - classifier Evaluation Experiment 554 of 782\n",
      "Param = 0.50000 - classifier Evaluation Experiment 555 of 782\n",
      "Param = 0.50000 - classifier Evaluation Experiment 556 of 782\n",
      "Param = 0.50000 - classifier Evaluation Experiment 557 of 782\n",
      "Param = 0.50000 - classifier Evaluation Experiment 558 of 782\n",
      "Param = 0.50000 - classifier Evaluation Experiment 559 of 782\n",
      "Param = 0.50000 - classifier Evaluation Experiment 560 of 782\n",
      "Param = 0.50000 - classifier Evaluation Experiment 561 of 782\n",
      "Param = 0.50000 - classifier Evaluation Experiment 562 of 782\n",
      "Param = 0.50000 - classifier Evaluation Experiment 563 of 782\n",
      "Param = 0.50000 - classifier Evaluation Experiment 564 of 782\n",
      "Param = 0.50000 - classifier Evaluation Experiment 565 of 782\n",
      "Param = 0.50000 - classifier Evaluation Experiment 566 of 782\n",
      "Param = 0.50000 - classifier Evaluation Experiment 567 of 782\n",
      "Param = 0.50000 - classifier Evaluation Experiment 568 of 782\n",
      "Param = 0.50000 - classifier Evaluation Experiment 569 of 782\n",
      "Param = 0.50000 - classifier Evaluation Experiment 570 of 782\n",
      "Param = 0.50000 - classifier Evaluation Experiment 571 of 782\n",
      "Param = 0.50000 - classifier Evaluation Experiment 572 of 782\n",
      "Param = 0.50000 - classifier Evaluation Experiment 573 of 782\n",
      "Param = 0.50000 - classifier Evaluation Experiment 574 of 782\n",
      "Param = 0.50000 - classifier Evaluation Experiment 575 of 782\n",
      "Param = 0.50000 - classifier Evaluation Experiment 576 of 782\n",
      "Param = 0.50000 - classifier Evaluation Experiment 577 of 782\n",
      "Param = 0.50000 - classifier Evaluation Experiment 578 of 782\n",
      "Param = 0.50000 - classifier Evaluation Experiment 579 of 782\n",
      "Param = 0.50000 - classifier Evaluation Experiment 580 of 782\n",
      "Param = 0.50000 - classifier Evaluation Experiment 581 of 782\n",
      "Param = 0.50000 - classifier Evaluation Experiment 582 of 782\n",
      "Param = 0.50000 - classifier Evaluation Experiment 583 of 782\n",
      "Param = 0.50000 - classifier Evaluation Experiment 584 of 782\n",
      "Param = 0.50000 - classifier Evaluation Experiment 585 of 782\n",
      "Param = 0.50000 - classifier Evaluation Experiment 586 of 782\n",
      "Param = 0.50000 - classifier Evaluation Experiment 587 of 782\n",
      "Param = 0.50000 - classifier Evaluation Experiment 588 of 782\n",
      "Param = 0.50000 - classifier Evaluation Experiment 589 of 782\n",
      "Param = 0.50000 - classifier Evaluation Experiment 590 of 782\n",
      "Param = 0.50000 - classifier Evaluation Experiment 591 of 782\n",
      "Param = 0.50000 - classifier Evaluation Experiment 592 of 782\n",
      "Param = 0.50000 - classifier Evaluation Experiment 593 of 782\n",
      "Param = 0.50000 - classifier Evaluation Experiment 594 of 782\n",
      "Param = 0.50000 - classifier Evaluation Experiment 595 of 782\n",
      "Param = 0.50000 - classifier Evaluation Experiment 596 of 782\n",
      "Param = 0.50000 - classifier Evaluation Experiment 597 of 782\n",
      "Param = 0.50000 - classifier Evaluation Experiment 598 of 782\n",
      "Param = 0.50000 - classifier Evaluation Experiment 599 of 782\n",
      "Param = 0.50000 - classifier Evaluation Experiment 600 of 782\n",
      "Param = 0.50000 - classifier Evaluation Experiment 601 of 782\n",
      "Param = 0.50000 - classifier Evaluation Experiment 602 of 782\n",
      "Param = 0.50000 - classifier Evaluation Experiment 603 of 782\n",
      "Param = 0.50000 - classifier Evaluation Experiment 604 of 782\n",
      "Param = 0.50000 - classifier Evaluation Experiment 605 of 782\n",
      "Param = 0.50000 - classifier Evaluation Experiment 606 of 782\n",
      "Param = 0.50000 - classifier Evaluation Experiment 607 of 782\n",
      "Param = 0.50000 - classifier Evaluation Experiment 608 of 782\n",
      "Param = 0.50000 - classifier Evaluation Experiment 609 of 782\n",
      "Param = 0.50000 - classifier Evaluation Experiment 610 of 782\n",
      "Param = 0.50000 - classifier Evaluation Experiment 611 of 782\n",
      "Param = 0.50000 - classifier Evaluation Experiment 612 of 782\n",
      "Param = 0.50000 - classifier Evaluation Experiment 613 of 782\n",
      "Param = 0.50000 - classifier Evaluation Experiment 614 of 782\n",
      "Param = 0.50000 - classifier Evaluation Experiment 615 of 782\n",
      "Param = 0.50000 - classifier Evaluation Experiment 616 of 782\n",
      "Param = 0.50000 - classifier Evaluation Experiment 617 of 782\n",
      "Param = 0.50000 - classifier Evaluation Experiment 618 of 782\n",
      "Param = 0.50000 - classifier Evaluation Experiment 619 of 782\n",
      "Param = 0.50000 - classifier Evaluation Experiment 620 of 782\n",
      "Param = 0.50000 - classifier Evaluation Experiment 621 of 782\n",
      "Param = 0.50000 - classifier Evaluation Experiment 622 of 782\n",
      "Param = 0.50000 - classifier Evaluation Experiment 623 of 782\n",
      "Param = 0.50000 - classifier Evaluation Experiment 624 of 782\n",
      "Param = 0.50000 - classifier Evaluation Experiment 625 of 782\n",
      "Param = 0.50000 - classifier Evaluation Experiment 626 of 782\n",
      "Param = 0.50000 - classifier Evaluation Experiment 627 of 782\n",
      "Param = 0.50000 - classifier Evaluation Experiment 628 of 782\n",
      "Param = 0.50000 - classifier Evaluation Experiment 629 of 782\n",
      "Param = 0.50000 - classifier Evaluation Experiment 630 of 782\n",
      "Param = 0.50000 - classifier Evaluation Experiment 631 of 782\n",
      "Param = 0.50000 - classifier Evaluation Experiment 632 of 782\n",
      "Param = 0.50000 - classifier Evaluation Experiment 633 of 782\n",
      "Param = 0.50000 - classifier Evaluation Experiment 634 of 782\n",
      "Param = 0.50000 - classifier Evaluation Experiment 635 of 782\n",
      "Param = 0.50000 - classifier Evaluation Experiment 636 of 782\n",
      "Param = 0.50000 - classifier Evaluation Experiment 637 of 782\n",
      "Param = 0.50000 - classifier Evaluation Experiment 638 of 782\n",
      "Param = 0.50000 - classifier Evaluation Experiment 639 of 782\n",
      "Param = 0.50000 - classifier Evaluation Experiment 640 of 782\n",
      "Param = 0.50000 - classifier Evaluation Experiment 641 of 782\n",
      "Param = 0.50000 - classifier Evaluation Experiment 642 of 782\n",
      "Param = 0.50000 - classifier Evaluation Experiment 643 of 782\n",
      "Param = 0.50000 - classifier Evaluation Experiment 644 of 782\n",
      "Param = 0.50000 - classifier Evaluation Experiment 645 of 782\n",
      "Param = 0.50000 - classifier Evaluation Experiment 646 of 782\n",
      "Param = 0.50000 - classifier Evaluation Experiment 647 of 782\n",
      "Param = 0.50000 - classifier Evaluation Experiment 648 of 782\n",
      "Param = 0.50000 - classifier Evaluation Experiment 649 of 782\n",
      "Param = 0.50000 - classifier Evaluation Experiment 650 of 782\n",
      "Param = 0.50000 - classifier Evaluation Experiment 651 of 782\n",
      "Param = 0.50000 - classifier Evaluation Experiment 652 of 782\n",
      "Param = 0.50000 - classifier Evaluation Experiment 653 of 782\n",
      "Param = 0.50000 - classifier Evaluation Experiment 654 of 782\n",
      "Param = 0.50000 - classifier Evaluation Experiment 655 of 782\n",
      "Param = 0.50000 - classifier Evaluation Experiment 656 of 782\n",
      "Param = 0.50000 - classifier Evaluation Experiment 657 of 782\n",
      "Param = 0.50000 - classifier Evaluation Experiment 658 of 782\n",
      "Param = 0.50000 - classifier Evaluation Experiment 659 of 782\n",
      "Param = 0.50000 - classifier Evaluation Experiment 660 of 782\n",
      "Param = 0.50000 - classifier Evaluation Experiment 661 of 782\n",
      "Param = 0.50000 - classifier Evaluation Experiment 662 of 782\n",
      "Param = 0.50000 - classifier Evaluation Experiment 663 of 782\n",
      "Param = 0.50000 - classifier Evaluation Experiment 664 of 782\n",
      "Param = 0.50000 - classifier Evaluation Experiment 665 of 782\n",
      "Param = 0.50000 - classifier Evaluation Experiment 666 of 782\n",
      "Param = 0.50000 - classifier Evaluation Experiment 667 of 782\n",
      "Param = 0.50000 - classifier Evaluation Experiment 668 of 782\n",
      "Param = 0.50000 - classifier Evaluation Experiment 669 of 782\n",
      "Param = 0.50000 - classifier Evaluation Experiment 670 of 782\n",
      "Param = 0.50000 - classifier Evaluation Experiment 671 of 782\n",
      "Param = 0.50000 - classifier Evaluation Experiment 672 of 782\n",
      "Param = 0.50000 - classifier Evaluation Experiment 673 of 782\n",
      "Param = 0.50000 - classifier Evaluation Experiment 674 of 782\n",
      "Param = 0.50000 - classifier Evaluation Experiment 675 of 782\n",
      "Param = 0.50000 - classifier Evaluation Experiment 676 of 782\n",
      "Param = 0.50000 - classifier Evaluation Experiment 677 of 782\n",
      "Param = 0.50000 - classifier Evaluation Experiment 678 of 782\n",
      "Param = 0.50000 - classifier Evaluation Experiment 679 of 782\n",
      "Param = 0.50000 - classifier Evaluation Experiment 680 of 782\n",
      "Param = 0.50000 - classifier Evaluation Experiment 681 of 782\n",
      "Param = 0.50000 - classifier Evaluation Experiment 682 of 782\n",
      "Param = 0.50000 - classifier Evaluation Experiment 683 of 782\n",
      "Param = 0.50000 - classifier Evaluation Experiment 684 of 782\n",
      "Param = 0.50000 - classifier Evaluation Experiment 685 of 782\n",
      "Param = 0.50000 - classifier Evaluation Experiment 686 of 782\n",
      "Param = 0.50000 - classifier Evaluation Experiment 687 of 782\n",
      "Param = 0.50000 - classifier Evaluation Experiment 688 of 782\n",
      "Param = 0.50000 - classifier Evaluation Experiment 689 of 782\n",
      "Param = 0.50000 - classifier Evaluation Experiment 690 of 782\n",
      "Param = 0.50000 - classifier Evaluation Experiment 691 of 782\n",
      "Param = 0.50000 - classifier Evaluation Experiment 692 of 782\n",
      "Param = 0.50000 - classifier Evaluation Experiment 693 of 782\n",
      "Param = 0.50000 - classifier Evaluation Experiment 694 of 782\n",
      "Param = 0.50000 - classifier Evaluation Experiment 695 of 782\n",
      "Param = 0.50000 - classifier Evaluation Experiment 696 of 782\n",
      "Param = 0.50000 - classifier Evaluation Experiment 697 of 782\n",
      "Param = 0.50000 - classifier Evaluation Experiment 698 of 782\n",
      "Param = 0.50000 - classifier Evaluation Experiment 699 of 782\n",
      "Param = 0.50000 - classifier Evaluation Experiment 700 of 782\n",
      "Param = 0.50000 - classifier Evaluation Experiment 701 of 782\n",
      "Param = 0.50000 - classifier Evaluation Experiment 702 of 782\n",
      "Param = 0.50000 - classifier Evaluation Experiment 703 of 782\n",
      "Param = 0.50000 - classifier Evaluation Experiment 704 of 782\n",
      "Param = 0.50000 - classifier Evaluation Experiment 705 of 782\n",
      "Param = 0.50000 - classifier Evaluation Experiment 706 of 782\n",
      "Param = 0.50000 - classifier Evaluation Experiment 707 of 782\n",
      "Param = 0.50000 - classifier Evaluation Experiment 708 of 782\n",
      "Param = 0.50000 - classifier Evaluation Experiment 709 of 782\n",
      "Param = 0.50000 - classifier Evaluation Experiment 710 of 782\n",
      "Param = 0.50000 - classifier Evaluation Experiment 711 of 782\n",
      "Param = 0.50000 - classifier Evaluation Experiment 712 of 782\n",
      "Param = 0.50000 - classifier Evaluation Experiment 713 of 782\n",
      "Param = 0.50000 - classifier Evaluation Experiment 714 of 782\n",
      "Param = 0.50000 - classifier Evaluation Experiment 715 of 782\n",
      "Param = 0.50000 - classifier Evaluation Experiment 716 of 782\n",
      "Param = 0.50000 - classifier Evaluation Experiment 717 of 782\n",
      "Param = 0.50000 - classifier Evaluation Experiment 718 of 782\n",
      "Param = 0.50000 - classifier Evaluation Experiment 719 of 782\n",
      "Param = 0.50000 - classifier Evaluation Experiment 720 of 782\n",
      "Param = 0.50000 - classifier Evaluation Experiment 721 of 782\n",
      "Param = 0.50000 - classifier Evaluation Experiment 722 of 782\n",
      "Param = 0.50000 - classifier Evaluation Experiment 723 of 782\n",
      "Param = 0.50000 - classifier Evaluation Experiment 724 of 782\n",
      "Param = 0.50000 - classifier Evaluation Experiment 725 of 782\n",
      "Param = 0.50000 - classifier Evaluation Experiment 726 of 782\n",
      "Param = 0.50000 - classifier Evaluation Experiment 727 of 782\n",
      "Param = 0.50000 - classifier Evaluation Experiment 728 of 782\n",
      "Param = 0.50000 - classifier Evaluation Experiment 729 of 782\n",
      "Param = 0.50000 - classifier Evaluation Experiment 730 of 782\n",
      "Param = 0.50000 - classifier Evaluation Experiment 731 of 782\n",
      "Param = 0.50000 - classifier Evaluation Experiment 732 of 782\n",
      "Param = 0.50000 - classifier Evaluation Experiment 733 of 782\n",
      "Param = 0.50000 - classifier Evaluation Experiment 734 of 782\n",
      "Param = 0.50000 - classifier Evaluation Experiment 735 of 782\n",
      "Param = 0.50000 - classifier Evaluation Experiment 736 of 782\n",
      "Param = 0.50000 - classifier Evaluation Experiment 737 of 782\n",
      "Param = 0.50000 - classifier Evaluation Experiment 738 of 782\n",
      "Param = 0.50000 - classifier Evaluation Experiment 739 of 782\n",
      "Param = 0.50000 - classifier Evaluation Experiment 740 of 782\n",
      "Param = 0.50000 - classifier Evaluation Experiment 741 of 782\n",
      "Param = 0.50000 - classifier Evaluation Experiment 742 of 782\n",
      "Param = 0.50000 - classifier Evaluation Experiment 743 of 782\n",
      "Param = 0.50000 - classifier Evaluation Experiment 744 of 782\n",
      "Param = 0.50000 - classifier Evaluation Experiment 745 of 782\n",
      "Param = 0.50000 - classifier Evaluation Experiment 746 of 782\n",
      "Param = 0.50000 - classifier Evaluation Experiment 747 of 782\n",
      "Param = 0.50000 - classifier Evaluation Experiment 748 of 782\n",
      "Param = 0.50000 - classifier Evaluation Experiment 749 of 782\n",
      "Param = 0.50000 - classifier Evaluation Experiment 750 of 782\n",
      "Param = 0.50000 - classifier Evaluation Experiment 751 of 782\n",
      "Param = 0.50000 - classifier Evaluation Experiment 752 of 782\n",
      "Param = 0.50000 - classifier Evaluation Experiment 753 of 782\n",
      "Param = 0.50000 - classifier Evaluation Experiment 754 of 782\n",
      "Param = 0.50000 - classifier Evaluation Experiment 755 of 782\n",
      "Param = 0.50000 - classifier Evaluation Experiment 756 of 782\n",
      "Param = 0.50000 - classifier Evaluation Experiment 757 of 782\n",
      "Param = 0.50000 - classifier Evaluation Experiment 758 of 782\n",
      "Param = 0.50000 - classifier Evaluation Experiment 759 of 782\n",
      "Param = 0.50000 - classifier Evaluation Experiment 760 of 782\n",
      "Param = 0.50000 - classifier Evaluation Experiment 761 of 782\n",
      "Param = 0.50000 - classifier Evaluation Experiment 762 of 782\n",
      "Param = 0.50000 - classifier Evaluation Experiment 763 of 782\n",
      "Param = 0.50000 - classifier Evaluation Experiment 764 of 782\n",
      "Param = 0.50000 - classifier Evaluation Experiment 765 of 782\n",
      "Param = 0.50000 - classifier Evaluation Experiment 766 of 782\n",
      "Param = 0.50000 - classifier Evaluation Experiment 767 of 782\n",
      "Param = 0.50000 - classifier Evaluation Experiment 768 of 782\n",
      "Param = 0.50000 - classifier Evaluation Experiment 769 of 782\n",
      "Param = 0.50000 - classifier Evaluation Experiment 770 of 782\n",
      "Param = 0.50000 - classifier Evaluation Experiment 771 of 782\n",
      "Param = 0.50000 - classifier Evaluation Experiment 772 of 782\n",
      "Param = 0.50000 - classifier Evaluation Experiment 773 of 782\n",
      "Param = 0.50000 - classifier Evaluation Experiment 774 of 782\n",
      "Param = 0.50000 - classifier Evaluation Experiment 775 of 782\n",
      "Param = 0.50000 - classifier Evaluation Experiment 776 of 782\n",
      "Param = 0.50000 - classifier Evaluation Experiment 777 of 782\n",
      "Param = 0.50000 - classifier Evaluation Experiment 778 of 782\n",
      "Param = 0.50000 - classifier Evaluation Experiment 779 of 782\n",
      "Param = 0.50000 - classifier Evaluation Experiment 780 of 782\n",
      "Param = 0.50000 - classifier Evaluation Experiment 781 of 782\n",
      "Param = 0.50000 - classifier Evaluation Experiment 782 of 782\n",
      "Param = 1.00000 - classifier Evaluation Experiment 1 of 782\n",
      "Param = 1.00000 - classifier Evaluation Experiment 2 of 782\n",
      "Param = 1.00000 - classifier Evaluation Experiment 3 of 782\n",
      "Param = 1.00000 - classifier Evaluation Experiment 4 of 782\n",
      "Param = 1.00000 - classifier Evaluation Experiment 5 of 782\n",
      "Param = 1.00000 - classifier Evaluation Experiment 6 of 782\n",
      "Param = 1.00000 - classifier Evaluation Experiment 7 of 782\n",
      "Param = 1.00000 - classifier Evaluation Experiment 8 of 782\n",
      "Param = 1.00000 - classifier Evaluation Experiment 9 of 782\n",
      "Param = 1.00000 - classifier Evaluation Experiment 10 of 782\n",
      "Param = 1.00000 - classifier Evaluation Experiment 11 of 782\n",
      "Param = 1.00000 - classifier Evaluation Experiment 12 of 782\n",
      "Param = 1.00000 - classifier Evaluation Experiment 13 of 782\n",
      "Param = 1.00000 - classifier Evaluation Experiment 14 of 782\n",
      "Param = 1.00000 - classifier Evaluation Experiment 15 of 782\n",
      "Param = 1.00000 - classifier Evaluation Experiment 16 of 782\n",
      "Param = 1.00000 - classifier Evaluation Experiment 17 of 782\n",
      "Param = 1.00000 - classifier Evaluation Experiment 18 of 782\n",
      "Param = 1.00000 - classifier Evaluation Experiment 19 of 782\n",
      "Param = 1.00000 - classifier Evaluation Experiment 20 of 782\n",
      "Param = 1.00000 - classifier Evaluation Experiment 21 of 782\n",
      "Param = 1.00000 - classifier Evaluation Experiment 22 of 782\n",
      "Param = 1.00000 - classifier Evaluation Experiment 23 of 782\n",
      "Param = 1.00000 - classifier Evaluation Experiment 24 of 782\n",
      "Param = 1.00000 - classifier Evaluation Experiment 25 of 782\n",
      "Param = 1.00000 - classifier Evaluation Experiment 26 of 782\n",
      "Param = 1.00000 - classifier Evaluation Experiment 27 of 782\n",
      "Param = 1.00000 - classifier Evaluation Experiment 28 of 782\n",
      "Param = 1.00000 - classifier Evaluation Experiment 29 of 782\n",
      "Param = 1.00000 - classifier Evaluation Experiment 30 of 782\n",
      "Param = 1.00000 - classifier Evaluation Experiment 31 of 782\n",
      "Param = 1.00000 - classifier Evaluation Experiment 32 of 782\n",
      "Param = 1.00000 - classifier Evaluation Experiment 33 of 782\n",
      "Param = 1.00000 - classifier Evaluation Experiment 34 of 782\n",
      "Param = 1.00000 - classifier Evaluation Experiment 35 of 782\n",
      "Param = 1.00000 - classifier Evaluation Experiment 36 of 782\n",
      "Param = 1.00000 - classifier Evaluation Experiment 37 of 782\n",
      "Param = 1.00000 - classifier Evaluation Experiment 38 of 782\n",
      "Param = 1.00000 - classifier Evaluation Experiment 39 of 782\n",
      "Param = 1.00000 - classifier Evaluation Experiment 40 of 782\n",
      "Param = 1.00000 - classifier Evaluation Experiment 41 of 782\n",
      "Param = 1.00000 - classifier Evaluation Experiment 42 of 782\n",
      "Param = 1.00000 - classifier Evaluation Experiment 43 of 782\n",
      "Param = 1.00000 - classifier Evaluation Experiment 44 of 782\n",
      "Param = 1.00000 - classifier Evaluation Experiment 45 of 782\n",
      "Param = 1.00000 - classifier Evaluation Experiment 46 of 782\n",
      "Param = 1.00000 - classifier Evaluation Experiment 47 of 782\n",
      "Param = 1.00000 - classifier Evaluation Experiment 48 of 782\n",
      "Param = 1.00000 - classifier Evaluation Experiment 49 of 782\n",
      "Param = 1.00000 - classifier Evaluation Experiment 50 of 782\n",
      "Param = 1.00000 - classifier Evaluation Experiment 51 of 782\n",
      "Param = 1.00000 - classifier Evaluation Experiment 52 of 782\n",
      "Param = 1.00000 - classifier Evaluation Experiment 53 of 782\n",
      "Param = 1.00000 - classifier Evaluation Experiment 54 of 782\n",
      "Param = 1.00000 - classifier Evaluation Experiment 55 of 782\n",
      "Param = 1.00000 - classifier Evaluation Experiment 56 of 782\n",
      "Param = 1.00000 - classifier Evaluation Experiment 57 of 782\n",
      "Param = 1.00000 - classifier Evaluation Experiment 58 of 782\n",
      "Param = 1.00000 - classifier Evaluation Experiment 59 of 782\n",
      "Param = 1.00000 - classifier Evaluation Experiment 60 of 782\n",
      "Param = 1.00000 - classifier Evaluation Experiment 61 of 782\n",
      "Param = 1.00000 - classifier Evaluation Experiment 62 of 782\n",
      "Param = 1.00000 - classifier Evaluation Experiment 63 of 782\n",
      "Param = 1.00000 - classifier Evaluation Experiment 64 of 782\n",
      "Param = 1.00000 - classifier Evaluation Experiment 65 of 782\n",
      "Param = 1.00000 - classifier Evaluation Experiment 66 of 782\n",
      "Param = 1.00000 - classifier Evaluation Experiment 67 of 782\n",
      "Param = 1.00000 - classifier Evaluation Experiment 68 of 782\n",
      "Param = 1.00000 - classifier Evaluation Experiment 69 of 782\n",
      "Param = 1.00000 - classifier Evaluation Experiment 70 of 782\n",
      "Param = 1.00000 - classifier Evaluation Experiment 71 of 782\n",
      "Param = 1.00000 - classifier Evaluation Experiment 72 of 782\n",
      "Param = 1.00000 - classifier Evaluation Experiment 73 of 782\n",
      "Param = 1.00000 - classifier Evaluation Experiment 74 of 782\n",
      "Param = 1.00000 - classifier Evaluation Experiment 75 of 782\n",
      "Param = 1.00000 - classifier Evaluation Experiment 76 of 782\n",
      "Param = 1.00000 - classifier Evaluation Experiment 77 of 782\n",
      "Param = 1.00000 - classifier Evaluation Experiment 78 of 782\n",
      "Param = 1.00000 - classifier Evaluation Experiment 79 of 782\n",
      "Param = 1.00000 - classifier Evaluation Experiment 80 of 782\n",
      "Param = 1.00000 - classifier Evaluation Experiment 81 of 782\n",
      "Param = 1.00000 - classifier Evaluation Experiment 82 of 782\n",
      "Param = 1.00000 - classifier Evaluation Experiment 83 of 782\n",
      "Param = 1.00000 - classifier Evaluation Experiment 84 of 782\n",
      "Param = 1.00000 - classifier Evaluation Experiment 85 of 782\n",
      "Param = 1.00000 - classifier Evaluation Experiment 86 of 782\n",
      "Param = 1.00000 - classifier Evaluation Experiment 87 of 782\n",
      "Param = 1.00000 - classifier Evaluation Experiment 88 of 782\n",
      "Param = 1.00000 - classifier Evaluation Experiment 89 of 782\n",
      "Param = 1.00000 - classifier Evaluation Experiment 90 of 782\n",
      "Param = 1.00000 - classifier Evaluation Experiment 91 of 782\n",
      "Param = 1.00000 - classifier Evaluation Experiment 92 of 782\n",
      "Param = 1.00000 - classifier Evaluation Experiment 93 of 782\n",
      "Param = 1.00000 - classifier Evaluation Experiment 94 of 782\n",
      "Param = 1.00000 - classifier Evaluation Experiment 95 of 782\n",
      "Param = 1.00000 - classifier Evaluation Experiment 96 of 782\n",
      "Param = 1.00000 - classifier Evaluation Experiment 97 of 782\n",
      "Param = 1.00000 - classifier Evaluation Experiment 98 of 782\n",
      "Param = 1.00000 - classifier Evaluation Experiment 99 of 782\n",
      "Param = 1.00000 - classifier Evaluation Experiment 100 of 782\n",
      "Param = 1.00000 - classifier Evaluation Experiment 101 of 782\n",
      "Param = 1.00000 - classifier Evaluation Experiment 102 of 782\n",
      "Param = 1.00000 - classifier Evaluation Experiment 103 of 782\n",
      "Param = 1.00000 - classifier Evaluation Experiment 104 of 782\n",
      "Param = 1.00000 - classifier Evaluation Experiment 105 of 782\n",
      "Param = 1.00000 - classifier Evaluation Experiment 106 of 782\n",
      "Param = 1.00000 - classifier Evaluation Experiment 107 of 782\n",
      "Param = 1.00000 - classifier Evaluation Experiment 108 of 782\n",
      "Param = 1.00000 - classifier Evaluation Experiment 109 of 782\n",
      "Param = 1.00000 - classifier Evaluation Experiment 110 of 782\n",
      "Param = 1.00000 - classifier Evaluation Experiment 111 of 782\n",
      "Param = 1.00000 - classifier Evaluation Experiment 112 of 782\n",
      "Param = 1.00000 - classifier Evaluation Experiment 113 of 782\n",
      "Param = 1.00000 - classifier Evaluation Experiment 114 of 782\n",
      "Param = 1.00000 - classifier Evaluation Experiment 115 of 782\n",
      "Param = 1.00000 - classifier Evaluation Experiment 116 of 782\n",
      "Param = 1.00000 - classifier Evaluation Experiment 117 of 782\n",
      "Param = 1.00000 - classifier Evaluation Experiment 118 of 782\n",
      "Param = 1.00000 - classifier Evaluation Experiment 119 of 782\n",
      "Param = 1.00000 - classifier Evaluation Experiment 120 of 782\n",
      "Param = 1.00000 - classifier Evaluation Experiment 121 of 782\n",
      "Param = 1.00000 - classifier Evaluation Experiment 122 of 782\n",
      "Param = 1.00000 - classifier Evaluation Experiment 123 of 782\n",
      "Param = 1.00000 - classifier Evaluation Experiment 124 of 782\n",
      "Param = 1.00000 - classifier Evaluation Experiment 125 of 782\n",
      "Param = 1.00000 - classifier Evaluation Experiment 126 of 782\n",
      "Param = 1.00000 - classifier Evaluation Experiment 127 of 782\n",
      "Param = 1.00000 - classifier Evaluation Experiment 128 of 782\n",
      "Param = 1.00000 - classifier Evaluation Experiment 129 of 782\n",
      "Param = 1.00000 - classifier Evaluation Experiment 130 of 782\n",
      "Param = 1.00000 - classifier Evaluation Experiment 131 of 782\n",
      "Param = 1.00000 - classifier Evaluation Experiment 132 of 782\n",
      "Param = 1.00000 - classifier Evaluation Experiment 133 of 782\n",
      "Param = 1.00000 - classifier Evaluation Experiment 134 of 782\n",
      "Param = 1.00000 - classifier Evaluation Experiment 135 of 782\n",
      "Param = 1.00000 - classifier Evaluation Experiment 136 of 782\n",
      "Param = 1.00000 - classifier Evaluation Experiment 137 of 782\n",
      "Param = 1.00000 - classifier Evaluation Experiment 138 of 782\n",
      "Param = 1.00000 - classifier Evaluation Experiment 139 of 782\n",
      "Param = 1.00000 - classifier Evaluation Experiment 140 of 782\n",
      "Param = 1.00000 - classifier Evaluation Experiment 141 of 782\n",
      "Param = 1.00000 - classifier Evaluation Experiment 142 of 782\n",
      "Param = 1.00000 - classifier Evaluation Experiment 143 of 782\n",
      "Param = 1.00000 - classifier Evaluation Experiment 144 of 782\n",
      "Param = 1.00000 - classifier Evaluation Experiment 145 of 782\n",
      "Param = 1.00000 - classifier Evaluation Experiment 146 of 782\n",
      "Param = 1.00000 - classifier Evaluation Experiment 147 of 782\n",
      "Param = 1.00000 - classifier Evaluation Experiment 148 of 782\n",
      "Param = 1.00000 - classifier Evaluation Experiment 149 of 782\n",
      "Param = 1.00000 - classifier Evaluation Experiment 150 of 782\n",
      "Param = 1.00000 - classifier Evaluation Experiment 151 of 782\n",
      "Param = 1.00000 - classifier Evaluation Experiment 152 of 782\n",
      "Param = 1.00000 - classifier Evaluation Experiment 153 of 782\n",
      "Param = 1.00000 - classifier Evaluation Experiment 154 of 782\n",
      "Param = 1.00000 - classifier Evaluation Experiment 155 of 782\n",
      "Param = 1.00000 - classifier Evaluation Experiment 156 of 782\n",
      "Param = 1.00000 - classifier Evaluation Experiment 157 of 782\n",
      "Param = 1.00000 - classifier Evaluation Experiment 158 of 782\n",
      "Param = 1.00000 - classifier Evaluation Experiment 159 of 782\n",
      "Param = 1.00000 - classifier Evaluation Experiment 160 of 782\n",
      "Param = 1.00000 - classifier Evaluation Experiment 161 of 782\n",
      "Param = 1.00000 - classifier Evaluation Experiment 162 of 782\n",
      "Param = 1.00000 - classifier Evaluation Experiment 163 of 782\n",
      "Param = 1.00000 - classifier Evaluation Experiment 164 of 782\n",
      "Param = 1.00000 - classifier Evaluation Experiment 165 of 782\n",
      "Param = 1.00000 - classifier Evaluation Experiment 166 of 782\n",
      "Param = 1.00000 - classifier Evaluation Experiment 167 of 782\n",
      "Param = 1.00000 - classifier Evaluation Experiment 168 of 782\n",
      "Param = 1.00000 - classifier Evaluation Experiment 169 of 782\n",
      "Param = 1.00000 - classifier Evaluation Experiment 170 of 782\n",
      "Param = 1.00000 - classifier Evaluation Experiment 171 of 782\n",
      "Param = 1.00000 - classifier Evaluation Experiment 172 of 782\n",
      "Param = 1.00000 - classifier Evaluation Experiment 173 of 782\n",
      "Param = 1.00000 - classifier Evaluation Experiment 174 of 782\n",
      "Param = 1.00000 - classifier Evaluation Experiment 175 of 782\n",
      "Param = 1.00000 - classifier Evaluation Experiment 176 of 782\n",
      "Param = 1.00000 - classifier Evaluation Experiment 177 of 782\n",
      "Param = 1.00000 - classifier Evaluation Experiment 178 of 782\n",
      "Param = 1.00000 - classifier Evaluation Experiment 179 of 782\n",
      "Param = 1.00000 - classifier Evaluation Experiment 180 of 782\n",
      "Param = 1.00000 - classifier Evaluation Experiment 181 of 782\n",
      "Param = 1.00000 - classifier Evaluation Experiment 182 of 782\n",
      "Param = 1.00000 - classifier Evaluation Experiment 183 of 782\n",
      "Param = 1.00000 - classifier Evaluation Experiment 184 of 782\n",
      "Param = 1.00000 - classifier Evaluation Experiment 185 of 782\n",
      "Param = 1.00000 - classifier Evaluation Experiment 186 of 782\n",
      "Param = 1.00000 - classifier Evaluation Experiment 187 of 782\n",
      "Param = 1.00000 - classifier Evaluation Experiment 188 of 782\n",
      "Param = 1.00000 - classifier Evaluation Experiment 189 of 782\n",
      "Param = 1.00000 - classifier Evaluation Experiment 190 of 782\n",
      "Param = 1.00000 - classifier Evaluation Experiment 191 of 782\n",
      "Param = 1.00000 - classifier Evaluation Experiment 192 of 782\n",
      "Param = 1.00000 - classifier Evaluation Experiment 193 of 782\n",
      "Param = 1.00000 - classifier Evaluation Experiment 194 of 782\n",
      "Param = 1.00000 - classifier Evaluation Experiment 195 of 782\n",
      "Param = 1.00000 - classifier Evaluation Experiment 196 of 782\n",
      "Param = 1.00000 - classifier Evaluation Experiment 197 of 782\n",
      "Param = 1.00000 - classifier Evaluation Experiment 198 of 782\n",
      "Param = 1.00000 - classifier Evaluation Experiment 199 of 782\n",
      "Param = 1.00000 - classifier Evaluation Experiment 200 of 782\n",
      "Param = 1.00000 - classifier Evaluation Experiment 201 of 782\n",
      "Param = 1.00000 - classifier Evaluation Experiment 202 of 782\n",
      "Param = 1.00000 - classifier Evaluation Experiment 203 of 782\n",
      "Param = 1.00000 - classifier Evaluation Experiment 204 of 782\n",
      "Param = 1.00000 - classifier Evaluation Experiment 205 of 782\n",
      "Param = 1.00000 - classifier Evaluation Experiment 206 of 782\n",
      "Param = 1.00000 - classifier Evaluation Experiment 207 of 782\n",
      "Param = 1.00000 - classifier Evaluation Experiment 208 of 782\n",
      "Param = 1.00000 - classifier Evaluation Experiment 209 of 782\n",
      "Param = 1.00000 - classifier Evaluation Experiment 210 of 782\n",
      "Param = 1.00000 - classifier Evaluation Experiment 211 of 782\n",
      "Param = 1.00000 - classifier Evaluation Experiment 212 of 782\n",
      "Param = 1.00000 - classifier Evaluation Experiment 213 of 782\n",
      "Param = 1.00000 - classifier Evaluation Experiment 214 of 782\n",
      "Param = 1.00000 - classifier Evaluation Experiment 215 of 782\n",
      "Param = 1.00000 - classifier Evaluation Experiment 216 of 782\n",
      "Param = 1.00000 - classifier Evaluation Experiment 217 of 782\n",
      "Param = 1.00000 - classifier Evaluation Experiment 218 of 782\n",
      "Param = 1.00000 - classifier Evaluation Experiment 219 of 782\n",
      "Param = 1.00000 - classifier Evaluation Experiment 220 of 782\n",
      "Param = 1.00000 - classifier Evaluation Experiment 221 of 782\n",
      "Param = 1.00000 - classifier Evaluation Experiment 222 of 782\n",
      "Param = 1.00000 - classifier Evaluation Experiment 223 of 782\n",
      "Param = 1.00000 - classifier Evaluation Experiment 224 of 782\n",
      "Param = 1.00000 - classifier Evaluation Experiment 225 of 782\n",
      "Param = 1.00000 - classifier Evaluation Experiment 226 of 782\n",
      "Param = 1.00000 - classifier Evaluation Experiment 227 of 782\n",
      "Param = 1.00000 - classifier Evaluation Experiment 228 of 782\n",
      "Param = 1.00000 - classifier Evaluation Experiment 229 of 782\n",
      "Param = 1.00000 - classifier Evaluation Experiment 230 of 782\n",
      "Param = 1.00000 - classifier Evaluation Experiment 231 of 782\n",
      "Param = 1.00000 - classifier Evaluation Experiment 232 of 782\n",
      "Param = 1.00000 - classifier Evaluation Experiment 233 of 782\n",
      "Param = 1.00000 - classifier Evaluation Experiment 234 of 782\n",
      "Param = 1.00000 - classifier Evaluation Experiment 235 of 782\n",
      "Param = 1.00000 - classifier Evaluation Experiment 236 of 782\n",
      "Param = 1.00000 - classifier Evaluation Experiment 237 of 782\n",
      "Param = 1.00000 - classifier Evaluation Experiment 238 of 782\n",
      "Param = 1.00000 - classifier Evaluation Experiment 239 of 782\n",
      "Param = 1.00000 - classifier Evaluation Experiment 240 of 782\n",
      "Param = 1.00000 - classifier Evaluation Experiment 241 of 782\n",
      "Param = 1.00000 - classifier Evaluation Experiment 242 of 782\n",
      "Param = 1.00000 - classifier Evaluation Experiment 243 of 782\n",
      "Param = 1.00000 - classifier Evaluation Experiment 244 of 782\n",
      "Param = 1.00000 - classifier Evaluation Experiment 245 of 782\n",
      "Param = 1.00000 - classifier Evaluation Experiment 246 of 782\n",
      "Param = 1.00000 - classifier Evaluation Experiment 247 of 782\n",
      "Param = 1.00000 - classifier Evaluation Experiment 248 of 782\n",
      "Param = 1.00000 - classifier Evaluation Experiment 249 of 782\n",
      "Param = 1.00000 - classifier Evaluation Experiment 250 of 782\n",
      "Param = 1.00000 - classifier Evaluation Experiment 251 of 782\n",
      "Param = 1.00000 - classifier Evaluation Experiment 252 of 782\n",
      "Param = 1.00000 - classifier Evaluation Experiment 253 of 782\n",
      "Param = 1.00000 - classifier Evaluation Experiment 254 of 782\n",
      "Param = 1.00000 - classifier Evaluation Experiment 255 of 782\n",
      "Param = 1.00000 - classifier Evaluation Experiment 256 of 782\n",
      "Param = 1.00000 - classifier Evaluation Experiment 257 of 782\n",
      "Param = 1.00000 - classifier Evaluation Experiment 258 of 782\n",
      "Param = 1.00000 - classifier Evaluation Experiment 259 of 782\n",
      "Param = 1.00000 - classifier Evaluation Experiment 260 of 782\n",
      "Param = 1.00000 - classifier Evaluation Experiment 261 of 782\n",
      "Param = 1.00000 - classifier Evaluation Experiment 262 of 782\n",
      "Param = 1.00000 - classifier Evaluation Experiment 263 of 782\n",
      "Param = 1.00000 - classifier Evaluation Experiment 264 of 782\n",
      "Param = 1.00000 - classifier Evaluation Experiment 265 of 782\n",
      "Param = 1.00000 - classifier Evaluation Experiment 266 of 782\n",
      "Param = 1.00000 - classifier Evaluation Experiment 267 of 782\n",
      "Param = 1.00000 - classifier Evaluation Experiment 268 of 782\n",
      "Param = 1.00000 - classifier Evaluation Experiment 269 of 782\n",
      "Param = 1.00000 - classifier Evaluation Experiment 270 of 782\n",
      "Param = 1.00000 - classifier Evaluation Experiment 271 of 782\n",
      "Param = 1.00000 - classifier Evaluation Experiment 272 of 782\n",
      "Param = 1.00000 - classifier Evaluation Experiment 273 of 782\n",
      "Param = 1.00000 - classifier Evaluation Experiment 274 of 782\n",
      "Param = 1.00000 - classifier Evaluation Experiment 275 of 782\n",
      "Param = 1.00000 - classifier Evaluation Experiment 276 of 782\n",
      "Param = 1.00000 - classifier Evaluation Experiment 277 of 782\n",
      "Param = 1.00000 - classifier Evaluation Experiment 278 of 782\n",
      "Param = 1.00000 - classifier Evaluation Experiment 279 of 782\n",
      "Param = 1.00000 - classifier Evaluation Experiment 280 of 782\n",
      "Param = 1.00000 - classifier Evaluation Experiment 281 of 782\n",
      "Param = 1.00000 - classifier Evaluation Experiment 282 of 782\n",
      "Param = 1.00000 - classifier Evaluation Experiment 283 of 782\n",
      "Param = 1.00000 - classifier Evaluation Experiment 284 of 782\n",
      "Param = 1.00000 - classifier Evaluation Experiment 285 of 782\n",
      "Param = 1.00000 - classifier Evaluation Experiment 286 of 782\n",
      "Param = 1.00000 - classifier Evaluation Experiment 287 of 782\n",
      "Param = 1.00000 - classifier Evaluation Experiment 288 of 782\n",
      "Param = 1.00000 - classifier Evaluation Experiment 289 of 782\n",
      "Param = 1.00000 - classifier Evaluation Experiment 290 of 782\n",
      "Param = 1.00000 - classifier Evaluation Experiment 291 of 782\n",
      "Param = 1.00000 - classifier Evaluation Experiment 292 of 782\n",
      "Param = 1.00000 - classifier Evaluation Experiment 293 of 782\n",
      "Param = 1.00000 - classifier Evaluation Experiment 294 of 782\n",
      "Param = 1.00000 - classifier Evaluation Experiment 295 of 782\n",
      "Param = 1.00000 - classifier Evaluation Experiment 296 of 782\n",
      "Param = 1.00000 - classifier Evaluation Experiment 297 of 782\n",
      "Param = 1.00000 - classifier Evaluation Experiment 298 of 782\n",
      "Param = 1.00000 - classifier Evaluation Experiment 299 of 782\n",
      "Param = 1.00000 - classifier Evaluation Experiment 300 of 782\n",
      "Param = 1.00000 - classifier Evaluation Experiment 301 of 782\n",
      "Param = 1.00000 - classifier Evaluation Experiment 302 of 782\n",
      "Param = 1.00000 - classifier Evaluation Experiment 303 of 782\n",
      "Param = 1.00000 - classifier Evaluation Experiment 304 of 782\n",
      "Param = 1.00000 - classifier Evaluation Experiment 305 of 782\n",
      "Param = 1.00000 - classifier Evaluation Experiment 306 of 782\n",
      "Param = 1.00000 - classifier Evaluation Experiment 307 of 782\n",
      "Param = 1.00000 - classifier Evaluation Experiment 308 of 782\n",
      "Param = 1.00000 - classifier Evaluation Experiment 309 of 782\n",
      "Param = 1.00000 - classifier Evaluation Experiment 310 of 782\n",
      "Param = 1.00000 - classifier Evaluation Experiment 311 of 782\n",
      "Param = 1.00000 - classifier Evaluation Experiment 312 of 782\n",
      "Param = 1.00000 - classifier Evaluation Experiment 313 of 782\n",
      "Param = 1.00000 - classifier Evaluation Experiment 314 of 782\n",
      "Param = 1.00000 - classifier Evaluation Experiment 315 of 782\n",
      "Param = 1.00000 - classifier Evaluation Experiment 316 of 782\n",
      "Param = 1.00000 - classifier Evaluation Experiment 317 of 782\n",
      "Param = 1.00000 - classifier Evaluation Experiment 318 of 782\n",
      "Param = 1.00000 - classifier Evaluation Experiment 319 of 782\n",
      "Param = 1.00000 - classifier Evaluation Experiment 320 of 782\n",
      "Param = 1.00000 - classifier Evaluation Experiment 321 of 782\n",
      "Param = 1.00000 - classifier Evaluation Experiment 322 of 782\n",
      "Param = 1.00000 - classifier Evaluation Experiment 323 of 782\n",
      "Param = 1.00000 - classifier Evaluation Experiment 324 of 782\n",
      "Param = 1.00000 - classifier Evaluation Experiment 325 of 782\n",
      "Param = 1.00000 - classifier Evaluation Experiment 326 of 782\n",
      "Param = 1.00000 - classifier Evaluation Experiment 327 of 782\n",
      "Param = 1.00000 - classifier Evaluation Experiment 328 of 782\n",
      "Param = 1.00000 - classifier Evaluation Experiment 329 of 782\n",
      "Param = 1.00000 - classifier Evaluation Experiment 330 of 782\n",
      "Param = 1.00000 - classifier Evaluation Experiment 331 of 782\n",
      "Param = 1.00000 - classifier Evaluation Experiment 332 of 782\n",
      "Param = 1.00000 - classifier Evaluation Experiment 333 of 782\n",
      "Param = 1.00000 - classifier Evaluation Experiment 334 of 782\n",
      "Param = 1.00000 - classifier Evaluation Experiment 335 of 782\n",
      "Param = 1.00000 - classifier Evaluation Experiment 336 of 782\n",
      "Param = 1.00000 - classifier Evaluation Experiment 337 of 782\n",
      "Param = 1.00000 - classifier Evaluation Experiment 338 of 782\n",
      "Param = 1.00000 - classifier Evaluation Experiment 339 of 782\n",
      "Param = 1.00000 - classifier Evaluation Experiment 340 of 782\n",
      "Param = 1.00000 - classifier Evaluation Experiment 341 of 782\n",
      "Param = 1.00000 - classifier Evaluation Experiment 342 of 782\n",
      "Param = 1.00000 - classifier Evaluation Experiment 343 of 782\n",
      "Param = 1.00000 - classifier Evaluation Experiment 344 of 782\n",
      "Param = 1.00000 - classifier Evaluation Experiment 345 of 782\n",
      "Param = 1.00000 - classifier Evaluation Experiment 346 of 782\n",
      "Param = 1.00000 - classifier Evaluation Experiment 347 of 782\n",
      "Param = 1.00000 - classifier Evaluation Experiment 348 of 782\n",
      "Param = 1.00000 - classifier Evaluation Experiment 349 of 782\n",
      "Param = 1.00000 - classifier Evaluation Experiment 350 of 782\n",
      "Param = 1.00000 - classifier Evaluation Experiment 351 of 782\n",
      "Param = 1.00000 - classifier Evaluation Experiment 352 of 782\n",
      "Param = 1.00000 - classifier Evaluation Experiment 353 of 782\n",
      "Param = 1.00000 - classifier Evaluation Experiment 354 of 782\n",
      "Param = 1.00000 - classifier Evaluation Experiment 355 of 782\n",
      "Param = 1.00000 - classifier Evaluation Experiment 356 of 782\n",
      "Param = 1.00000 - classifier Evaluation Experiment 357 of 782\n",
      "Param = 1.00000 - classifier Evaluation Experiment 358 of 782\n",
      "Param = 1.00000 - classifier Evaluation Experiment 359 of 782\n",
      "Param = 1.00000 - classifier Evaluation Experiment 360 of 782\n",
      "Param = 1.00000 - classifier Evaluation Experiment 361 of 782\n",
      "Param = 1.00000 - classifier Evaluation Experiment 362 of 782\n",
      "Param = 1.00000 - classifier Evaluation Experiment 363 of 782\n",
      "Param = 1.00000 - classifier Evaluation Experiment 364 of 782\n",
      "Param = 1.00000 - classifier Evaluation Experiment 365 of 782\n",
      "Param = 1.00000 - classifier Evaluation Experiment 366 of 782\n",
      "Param = 1.00000 - classifier Evaluation Experiment 367 of 782\n",
      "Param = 1.00000 - classifier Evaluation Experiment 368 of 782\n",
      "Param = 1.00000 - classifier Evaluation Experiment 369 of 782\n",
      "Param = 1.00000 - classifier Evaluation Experiment 370 of 782\n",
      "Param = 1.00000 - classifier Evaluation Experiment 371 of 782\n",
      "Param = 1.00000 - classifier Evaluation Experiment 372 of 782\n",
      "Param = 1.00000 - classifier Evaluation Experiment 373 of 782\n",
      "Param = 1.00000 - classifier Evaluation Experiment 374 of 782\n",
      "Param = 1.00000 - classifier Evaluation Experiment 375 of 782\n",
      "Param = 1.00000 - classifier Evaluation Experiment 376 of 782\n",
      "Param = 1.00000 - classifier Evaluation Experiment 377 of 782\n",
      "Param = 1.00000 - classifier Evaluation Experiment 378 of 782\n",
      "Param = 1.00000 - classifier Evaluation Experiment 379 of 782\n",
      "Param = 1.00000 - classifier Evaluation Experiment 380 of 782\n",
      "Param = 1.00000 - classifier Evaluation Experiment 381 of 782\n",
      "Param = 1.00000 - classifier Evaluation Experiment 382 of 782\n",
      "Param = 1.00000 - classifier Evaluation Experiment 383 of 782\n",
      "Param = 1.00000 - classifier Evaluation Experiment 384 of 782\n",
      "Param = 1.00000 - classifier Evaluation Experiment 385 of 782\n",
      "Param = 1.00000 - classifier Evaluation Experiment 386 of 782\n",
      "Param = 1.00000 - classifier Evaluation Experiment 387 of 782\n",
      "Param = 1.00000 - classifier Evaluation Experiment 388 of 782\n",
      "Param = 1.00000 - classifier Evaluation Experiment 389 of 782\n",
      "Param = 1.00000 - classifier Evaluation Experiment 390 of 782\n",
      "Param = 1.00000 - classifier Evaluation Experiment 391 of 782\n",
      "Param = 1.00000 - classifier Evaluation Experiment 392 of 782\n",
      "Param = 1.00000 - classifier Evaluation Experiment 393 of 782\n",
      "Param = 1.00000 - classifier Evaluation Experiment 394 of 782\n",
      "Param = 1.00000 - classifier Evaluation Experiment 395 of 782\n",
      "Param = 1.00000 - classifier Evaluation Experiment 396 of 782\n",
      "Param = 1.00000 - classifier Evaluation Experiment 397 of 782\n",
      "Param = 1.00000 - classifier Evaluation Experiment 398 of 782\n",
      "Param = 1.00000 - classifier Evaluation Experiment 399 of 782\n",
      "Param = 1.00000 - classifier Evaluation Experiment 400 of 782\n",
      "Param = 1.00000 - classifier Evaluation Experiment 401 of 782\n",
      "Param = 1.00000 - classifier Evaluation Experiment 402 of 782\n",
      "Param = 1.00000 - classifier Evaluation Experiment 403 of 782\n",
      "Param = 1.00000 - classifier Evaluation Experiment 404 of 782\n",
      "Param = 1.00000 - classifier Evaluation Experiment 405 of 782\n",
      "Param = 1.00000 - classifier Evaluation Experiment 406 of 782\n",
      "Param = 1.00000 - classifier Evaluation Experiment 407 of 782\n",
      "Param = 1.00000 - classifier Evaluation Experiment 408 of 782\n",
      "Param = 1.00000 - classifier Evaluation Experiment 409 of 782\n",
      "Param = 1.00000 - classifier Evaluation Experiment 410 of 782\n",
      "Param = 1.00000 - classifier Evaluation Experiment 411 of 782\n",
      "Param = 1.00000 - classifier Evaluation Experiment 412 of 782\n",
      "Param = 1.00000 - classifier Evaluation Experiment 413 of 782\n",
      "Param = 1.00000 - classifier Evaluation Experiment 414 of 782\n",
      "Param = 1.00000 - classifier Evaluation Experiment 415 of 782\n",
      "Param = 1.00000 - classifier Evaluation Experiment 416 of 782\n",
      "Param = 1.00000 - classifier Evaluation Experiment 417 of 782\n",
      "Param = 1.00000 - classifier Evaluation Experiment 418 of 782\n",
      "Param = 1.00000 - classifier Evaluation Experiment 419 of 782\n",
      "Param = 1.00000 - classifier Evaluation Experiment 420 of 782\n",
      "Param = 1.00000 - classifier Evaluation Experiment 421 of 782\n",
      "Param = 1.00000 - classifier Evaluation Experiment 422 of 782\n",
      "Param = 1.00000 - classifier Evaluation Experiment 423 of 782\n",
      "Param = 1.00000 - classifier Evaluation Experiment 424 of 782\n",
      "Param = 1.00000 - classifier Evaluation Experiment 425 of 782\n",
      "Param = 1.00000 - classifier Evaluation Experiment 426 of 782\n",
      "Param = 1.00000 - classifier Evaluation Experiment 427 of 782\n",
      "Param = 1.00000 - classifier Evaluation Experiment 428 of 782\n",
      "Param = 1.00000 - classifier Evaluation Experiment 429 of 782\n",
      "Param = 1.00000 - classifier Evaluation Experiment 430 of 782\n",
      "Param = 1.00000 - classifier Evaluation Experiment 431 of 782\n",
      "Param = 1.00000 - classifier Evaluation Experiment 432 of 782\n",
      "Param = 1.00000 - classifier Evaluation Experiment 433 of 782\n",
      "Param = 1.00000 - classifier Evaluation Experiment 434 of 782\n",
      "Param = 1.00000 - classifier Evaluation Experiment 435 of 782\n",
      "Param = 1.00000 - classifier Evaluation Experiment 436 of 782\n",
      "Param = 1.00000 - classifier Evaluation Experiment 437 of 782\n",
      "Param = 1.00000 - classifier Evaluation Experiment 438 of 782\n",
      "Param = 1.00000 - classifier Evaluation Experiment 439 of 782\n",
      "Param = 1.00000 - classifier Evaluation Experiment 440 of 782\n",
      "Param = 1.00000 - classifier Evaluation Experiment 441 of 782\n",
      "Param = 1.00000 - classifier Evaluation Experiment 442 of 782\n",
      "Param = 1.00000 - classifier Evaluation Experiment 443 of 782\n",
      "Param = 1.00000 - classifier Evaluation Experiment 444 of 782\n",
      "Param = 1.00000 - classifier Evaluation Experiment 445 of 782\n",
      "Param = 1.00000 - classifier Evaluation Experiment 446 of 782\n",
      "Param = 1.00000 - classifier Evaluation Experiment 447 of 782\n",
      "Param = 1.00000 - classifier Evaluation Experiment 448 of 782\n",
      "Param = 1.00000 - classifier Evaluation Experiment 449 of 782\n",
      "Param = 1.00000 - classifier Evaluation Experiment 450 of 782\n",
      "Param = 1.00000 - classifier Evaluation Experiment 451 of 782\n",
      "Param = 1.00000 - classifier Evaluation Experiment 452 of 782\n",
      "Param = 1.00000 - classifier Evaluation Experiment 453 of 782\n",
      "Param = 1.00000 - classifier Evaluation Experiment 454 of 782\n",
      "Param = 1.00000 - classifier Evaluation Experiment 455 of 782\n",
      "Param = 1.00000 - classifier Evaluation Experiment 456 of 782\n",
      "Param = 1.00000 - classifier Evaluation Experiment 457 of 782\n",
      "Param = 1.00000 - classifier Evaluation Experiment 458 of 782\n",
      "Param = 1.00000 - classifier Evaluation Experiment 459 of 782\n",
      "Param = 1.00000 - classifier Evaluation Experiment 460 of 782\n",
      "Param = 1.00000 - classifier Evaluation Experiment 461 of 782\n",
      "Param = 1.00000 - classifier Evaluation Experiment 462 of 782\n",
      "Param = 1.00000 - classifier Evaluation Experiment 463 of 782\n",
      "Param = 1.00000 - classifier Evaluation Experiment 464 of 782\n",
      "Param = 1.00000 - classifier Evaluation Experiment 465 of 782\n",
      "Param = 1.00000 - classifier Evaluation Experiment 466 of 782\n",
      "Param = 1.00000 - classifier Evaluation Experiment 467 of 782\n",
      "Param = 1.00000 - classifier Evaluation Experiment 468 of 782\n",
      "Param = 1.00000 - classifier Evaluation Experiment 469 of 782\n",
      "Param = 1.00000 - classifier Evaluation Experiment 470 of 782\n",
      "Param = 1.00000 - classifier Evaluation Experiment 471 of 782\n",
      "Param = 1.00000 - classifier Evaluation Experiment 472 of 782\n",
      "Param = 1.00000 - classifier Evaluation Experiment 473 of 782\n",
      "Param = 1.00000 - classifier Evaluation Experiment 474 of 782\n",
      "Param = 1.00000 - classifier Evaluation Experiment 475 of 782\n",
      "Param = 1.00000 - classifier Evaluation Experiment 476 of 782\n",
      "Param = 1.00000 - classifier Evaluation Experiment 477 of 782\n",
      "Param = 1.00000 - classifier Evaluation Experiment 478 of 782\n",
      "Param = 1.00000 - classifier Evaluation Experiment 479 of 782\n",
      "Param = 1.00000 - classifier Evaluation Experiment 480 of 782\n",
      "Param = 1.00000 - classifier Evaluation Experiment 481 of 782\n",
      "Param = 1.00000 - classifier Evaluation Experiment 482 of 782\n",
      "Param = 1.00000 - classifier Evaluation Experiment 483 of 782\n",
      "Param = 1.00000 - classifier Evaluation Experiment 484 of 782\n",
      "Param = 1.00000 - classifier Evaluation Experiment 485 of 782\n",
      "Param = 1.00000 - classifier Evaluation Experiment 486 of 782\n",
      "Param = 1.00000 - classifier Evaluation Experiment 487 of 782\n",
      "Param = 1.00000 - classifier Evaluation Experiment 488 of 782\n",
      "Param = 1.00000 - classifier Evaluation Experiment 489 of 782\n",
      "Param = 1.00000 - classifier Evaluation Experiment 490 of 782\n",
      "Param = 1.00000 - classifier Evaluation Experiment 491 of 782\n",
      "Param = 1.00000 - classifier Evaluation Experiment 492 of 782\n",
      "Param = 1.00000 - classifier Evaluation Experiment 493 of 782\n",
      "Param = 1.00000 - classifier Evaluation Experiment 494 of 782\n",
      "Param = 1.00000 - classifier Evaluation Experiment 495 of 782\n",
      "Param = 1.00000 - classifier Evaluation Experiment 496 of 782\n",
      "Param = 1.00000 - classifier Evaluation Experiment 497 of 782\n",
      "Param = 1.00000 - classifier Evaluation Experiment 498 of 782\n",
      "Param = 1.00000 - classifier Evaluation Experiment 499 of 782\n",
      "Param = 1.00000 - classifier Evaluation Experiment 500 of 782\n",
      "Param = 1.00000 - classifier Evaluation Experiment 501 of 782\n",
      "Param = 1.00000 - classifier Evaluation Experiment 502 of 782\n",
      "Param = 1.00000 - classifier Evaluation Experiment 503 of 782\n",
      "Param = 1.00000 - classifier Evaluation Experiment 504 of 782\n",
      "Param = 1.00000 - classifier Evaluation Experiment 505 of 782\n",
      "Param = 1.00000 - classifier Evaluation Experiment 506 of 782\n",
      "Param = 1.00000 - classifier Evaluation Experiment 507 of 782\n",
      "Param = 1.00000 - classifier Evaluation Experiment 508 of 782\n",
      "Param = 1.00000 - classifier Evaluation Experiment 509 of 782\n",
      "Param = 1.00000 - classifier Evaluation Experiment 510 of 782\n",
      "Param = 1.00000 - classifier Evaluation Experiment 511 of 782\n",
      "Param = 1.00000 - classifier Evaluation Experiment 512 of 782\n",
      "Param = 1.00000 - classifier Evaluation Experiment 513 of 782\n",
      "Param = 1.00000 - classifier Evaluation Experiment 514 of 782\n",
      "Param = 1.00000 - classifier Evaluation Experiment 515 of 782\n",
      "Param = 1.00000 - classifier Evaluation Experiment 516 of 782\n",
      "Param = 1.00000 - classifier Evaluation Experiment 517 of 782\n",
      "Param = 1.00000 - classifier Evaluation Experiment 518 of 782\n",
      "Param = 1.00000 - classifier Evaluation Experiment 519 of 782\n",
      "Param = 1.00000 - classifier Evaluation Experiment 520 of 782\n",
      "Param = 1.00000 - classifier Evaluation Experiment 521 of 782\n",
      "Param = 1.00000 - classifier Evaluation Experiment 522 of 782\n",
      "Param = 1.00000 - classifier Evaluation Experiment 523 of 782\n",
      "Param = 1.00000 - classifier Evaluation Experiment 524 of 782\n",
      "Param = 1.00000 - classifier Evaluation Experiment 525 of 782\n",
      "Param = 1.00000 - classifier Evaluation Experiment 526 of 782\n",
      "Param = 1.00000 - classifier Evaluation Experiment 527 of 782\n",
      "Param = 1.00000 - classifier Evaluation Experiment 528 of 782\n",
      "Param = 1.00000 - classifier Evaluation Experiment 529 of 782\n",
      "Param = 1.00000 - classifier Evaluation Experiment 530 of 782\n",
      "Param = 1.00000 - classifier Evaluation Experiment 531 of 782\n",
      "Param = 1.00000 - classifier Evaluation Experiment 532 of 782\n",
      "Param = 1.00000 - classifier Evaluation Experiment 533 of 782\n",
      "Param = 1.00000 - classifier Evaluation Experiment 534 of 782\n",
      "Param = 1.00000 - classifier Evaluation Experiment 535 of 782\n",
      "Param = 1.00000 - classifier Evaluation Experiment 536 of 782\n",
      "Param = 1.00000 - classifier Evaluation Experiment 537 of 782\n",
      "Param = 1.00000 - classifier Evaluation Experiment 538 of 782\n",
      "Param = 1.00000 - classifier Evaluation Experiment 539 of 782\n",
      "Param = 1.00000 - classifier Evaluation Experiment 540 of 782\n",
      "Param = 1.00000 - classifier Evaluation Experiment 541 of 782\n",
      "Param = 1.00000 - classifier Evaluation Experiment 542 of 782\n",
      "Param = 1.00000 - classifier Evaluation Experiment 543 of 782\n",
      "Param = 1.00000 - classifier Evaluation Experiment 544 of 782\n",
      "Param = 1.00000 - classifier Evaluation Experiment 545 of 782\n",
      "Param = 1.00000 - classifier Evaluation Experiment 546 of 782\n",
      "Param = 1.00000 - classifier Evaluation Experiment 547 of 782\n",
      "Param = 1.00000 - classifier Evaluation Experiment 548 of 782\n",
      "Param = 1.00000 - classifier Evaluation Experiment 549 of 782\n",
      "Param = 1.00000 - classifier Evaluation Experiment 550 of 782\n",
      "Param = 1.00000 - classifier Evaluation Experiment 551 of 782\n",
      "Param = 1.00000 - classifier Evaluation Experiment 552 of 782\n",
      "Param = 1.00000 - classifier Evaluation Experiment 553 of 782\n",
      "Param = 1.00000 - classifier Evaluation Experiment 554 of 782\n",
      "Param = 1.00000 - classifier Evaluation Experiment 555 of 782\n",
      "Param = 1.00000 - classifier Evaluation Experiment 556 of 782\n",
      "Param = 1.00000 - classifier Evaluation Experiment 557 of 782\n",
      "Param = 1.00000 - classifier Evaluation Experiment 558 of 782\n",
      "Param = 1.00000 - classifier Evaluation Experiment 559 of 782\n",
      "Param = 1.00000 - classifier Evaluation Experiment 560 of 782\n",
      "Param = 1.00000 - classifier Evaluation Experiment 561 of 782\n",
      "Param = 1.00000 - classifier Evaluation Experiment 562 of 782\n",
      "Param = 1.00000 - classifier Evaluation Experiment 563 of 782\n",
      "Param = 1.00000 - classifier Evaluation Experiment 564 of 782\n",
      "Param = 1.00000 - classifier Evaluation Experiment 565 of 782\n",
      "Param = 1.00000 - classifier Evaluation Experiment 566 of 782\n",
      "Param = 1.00000 - classifier Evaluation Experiment 567 of 782\n",
      "Param = 1.00000 - classifier Evaluation Experiment 568 of 782\n",
      "Param = 1.00000 - classifier Evaluation Experiment 569 of 782\n",
      "Param = 1.00000 - classifier Evaluation Experiment 570 of 782\n",
      "Param = 1.00000 - classifier Evaluation Experiment 571 of 782\n",
      "Param = 1.00000 - classifier Evaluation Experiment 572 of 782\n",
      "Param = 1.00000 - classifier Evaluation Experiment 573 of 782\n",
      "Param = 1.00000 - classifier Evaluation Experiment 574 of 782\n",
      "Param = 1.00000 - classifier Evaluation Experiment 575 of 782\n",
      "Param = 1.00000 - classifier Evaluation Experiment 576 of 782\n",
      "Param = 1.00000 - classifier Evaluation Experiment 577 of 782\n",
      "Param = 1.00000 - classifier Evaluation Experiment 578 of 782\n",
      "Param = 1.00000 - classifier Evaluation Experiment 579 of 782\n",
      "Param = 1.00000 - classifier Evaluation Experiment 580 of 782\n",
      "Param = 1.00000 - classifier Evaluation Experiment 581 of 782\n",
      "Param = 1.00000 - classifier Evaluation Experiment 582 of 782\n",
      "Param = 1.00000 - classifier Evaluation Experiment 583 of 782\n",
      "Param = 1.00000 - classifier Evaluation Experiment 584 of 782\n",
      "Param = 1.00000 - classifier Evaluation Experiment 585 of 782\n",
      "Param = 1.00000 - classifier Evaluation Experiment 586 of 782\n",
      "Param = 1.00000 - classifier Evaluation Experiment 587 of 782\n",
      "Param = 1.00000 - classifier Evaluation Experiment 588 of 782\n",
      "Param = 1.00000 - classifier Evaluation Experiment 589 of 782\n",
      "Param = 1.00000 - classifier Evaluation Experiment 590 of 782\n",
      "Param = 1.00000 - classifier Evaluation Experiment 591 of 782\n",
      "Param = 1.00000 - classifier Evaluation Experiment 592 of 782\n",
      "Param = 1.00000 - classifier Evaluation Experiment 593 of 782\n",
      "Param = 1.00000 - classifier Evaluation Experiment 594 of 782\n",
      "Param = 1.00000 - classifier Evaluation Experiment 595 of 782\n",
      "Param = 1.00000 - classifier Evaluation Experiment 596 of 782\n",
      "Param = 1.00000 - classifier Evaluation Experiment 597 of 782\n",
      "Param = 1.00000 - classifier Evaluation Experiment 598 of 782\n",
      "Param = 1.00000 - classifier Evaluation Experiment 599 of 782\n",
      "Param = 1.00000 - classifier Evaluation Experiment 600 of 782\n",
      "Param = 1.00000 - classifier Evaluation Experiment 601 of 782\n",
      "Param = 1.00000 - classifier Evaluation Experiment 602 of 782\n",
      "Param = 1.00000 - classifier Evaluation Experiment 603 of 782\n",
      "Param = 1.00000 - classifier Evaluation Experiment 604 of 782\n",
      "Param = 1.00000 - classifier Evaluation Experiment 605 of 782\n",
      "Param = 1.00000 - classifier Evaluation Experiment 606 of 782\n",
      "Param = 1.00000 - classifier Evaluation Experiment 607 of 782\n",
      "Param = 1.00000 - classifier Evaluation Experiment 608 of 782\n",
      "Param = 1.00000 - classifier Evaluation Experiment 609 of 782\n",
      "Param = 1.00000 - classifier Evaluation Experiment 610 of 782\n",
      "Param = 1.00000 - classifier Evaluation Experiment 611 of 782\n",
      "Param = 1.00000 - classifier Evaluation Experiment 612 of 782\n",
      "Param = 1.00000 - classifier Evaluation Experiment 613 of 782\n",
      "Param = 1.00000 - classifier Evaluation Experiment 614 of 782\n",
      "Param = 1.00000 - classifier Evaluation Experiment 615 of 782\n",
      "Param = 1.00000 - classifier Evaluation Experiment 616 of 782\n",
      "Param = 1.00000 - classifier Evaluation Experiment 617 of 782\n",
      "Param = 1.00000 - classifier Evaluation Experiment 618 of 782\n",
      "Param = 1.00000 - classifier Evaluation Experiment 619 of 782\n",
      "Param = 1.00000 - classifier Evaluation Experiment 620 of 782\n",
      "Param = 1.00000 - classifier Evaluation Experiment 621 of 782\n",
      "Param = 1.00000 - classifier Evaluation Experiment 622 of 782\n",
      "Param = 1.00000 - classifier Evaluation Experiment 623 of 782\n",
      "Param = 1.00000 - classifier Evaluation Experiment 624 of 782\n",
      "Param = 1.00000 - classifier Evaluation Experiment 625 of 782\n",
      "Param = 1.00000 - classifier Evaluation Experiment 626 of 782\n",
      "Param = 1.00000 - classifier Evaluation Experiment 627 of 782\n",
      "Param = 1.00000 - classifier Evaluation Experiment 628 of 782\n",
      "Param = 1.00000 - classifier Evaluation Experiment 629 of 782\n",
      "Param = 1.00000 - classifier Evaluation Experiment 630 of 782\n",
      "Param = 1.00000 - classifier Evaluation Experiment 631 of 782\n",
      "Param = 1.00000 - classifier Evaluation Experiment 632 of 782\n",
      "Param = 1.00000 - classifier Evaluation Experiment 633 of 782\n",
      "Param = 1.00000 - classifier Evaluation Experiment 634 of 782\n",
      "Param = 1.00000 - classifier Evaluation Experiment 635 of 782\n",
      "Param = 1.00000 - classifier Evaluation Experiment 636 of 782\n",
      "Param = 1.00000 - classifier Evaluation Experiment 637 of 782\n",
      "Param = 1.00000 - classifier Evaluation Experiment 638 of 782\n",
      "Param = 1.00000 - classifier Evaluation Experiment 639 of 782\n",
      "Param = 1.00000 - classifier Evaluation Experiment 640 of 782\n",
      "Param = 1.00000 - classifier Evaluation Experiment 641 of 782\n",
      "Param = 1.00000 - classifier Evaluation Experiment 642 of 782\n",
      "Param = 1.00000 - classifier Evaluation Experiment 643 of 782\n",
      "Param = 1.00000 - classifier Evaluation Experiment 644 of 782\n",
      "Param = 1.00000 - classifier Evaluation Experiment 645 of 782\n",
      "Param = 1.00000 - classifier Evaluation Experiment 646 of 782\n",
      "Param = 1.00000 - classifier Evaluation Experiment 647 of 782\n",
      "Param = 1.00000 - classifier Evaluation Experiment 648 of 782\n",
      "Param = 1.00000 - classifier Evaluation Experiment 649 of 782\n",
      "Param = 1.00000 - classifier Evaluation Experiment 650 of 782\n",
      "Param = 1.00000 - classifier Evaluation Experiment 651 of 782\n",
      "Param = 1.00000 - classifier Evaluation Experiment 652 of 782\n",
      "Param = 1.00000 - classifier Evaluation Experiment 653 of 782\n",
      "Param = 1.00000 - classifier Evaluation Experiment 654 of 782\n",
      "Param = 1.00000 - classifier Evaluation Experiment 655 of 782\n",
      "Param = 1.00000 - classifier Evaluation Experiment 656 of 782\n",
      "Param = 1.00000 - classifier Evaluation Experiment 657 of 782\n",
      "Param = 1.00000 - classifier Evaluation Experiment 658 of 782\n",
      "Param = 1.00000 - classifier Evaluation Experiment 659 of 782\n",
      "Param = 1.00000 - classifier Evaluation Experiment 660 of 782\n",
      "Param = 1.00000 - classifier Evaluation Experiment 661 of 782\n",
      "Param = 1.00000 - classifier Evaluation Experiment 662 of 782\n",
      "Param = 1.00000 - classifier Evaluation Experiment 663 of 782\n",
      "Param = 1.00000 - classifier Evaluation Experiment 664 of 782\n",
      "Param = 1.00000 - classifier Evaluation Experiment 665 of 782\n",
      "Param = 1.00000 - classifier Evaluation Experiment 666 of 782\n",
      "Param = 1.00000 - classifier Evaluation Experiment 667 of 782\n",
      "Param = 1.00000 - classifier Evaluation Experiment 668 of 782\n",
      "Param = 1.00000 - classifier Evaluation Experiment 669 of 782\n",
      "Param = 1.00000 - classifier Evaluation Experiment 670 of 782\n",
      "Param = 1.00000 - classifier Evaluation Experiment 671 of 782\n",
      "Param = 1.00000 - classifier Evaluation Experiment 672 of 782\n",
      "Param = 1.00000 - classifier Evaluation Experiment 673 of 782\n",
      "Param = 1.00000 - classifier Evaluation Experiment 674 of 782\n",
      "Param = 1.00000 - classifier Evaluation Experiment 675 of 782\n",
      "Param = 1.00000 - classifier Evaluation Experiment 676 of 782\n",
      "Param = 1.00000 - classifier Evaluation Experiment 677 of 782\n",
      "Param = 1.00000 - classifier Evaluation Experiment 678 of 782\n",
      "Param = 1.00000 - classifier Evaluation Experiment 679 of 782\n",
      "Param = 1.00000 - classifier Evaluation Experiment 680 of 782\n",
      "Param = 1.00000 - classifier Evaluation Experiment 681 of 782\n",
      "Param = 1.00000 - classifier Evaluation Experiment 682 of 782\n",
      "Param = 1.00000 - classifier Evaluation Experiment 683 of 782\n",
      "Param = 1.00000 - classifier Evaluation Experiment 684 of 782\n",
      "Param = 1.00000 - classifier Evaluation Experiment 685 of 782\n",
      "Param = 1.00000 - classifier Evaluation Experiment 686 of 782\n",
      "Param = 1.00000 - classifier Evaluation Experiment 687 of 782\n",
      "Param = 1.00000 - classifier Evaluation Experiment 688 of 782\n",
      "Param = 1.00000 - classifier Evaluation Experiment 689 of 782\n",
      "Param = 1.00000 - classifier Evaluation Experiment 690 of 782\n",
      "Param = 1.00000 - classifier Evaluation Experiment 691 of 782\n",
      "Param = 1.00000 - classifier Evaluation Experiment 692 of 782\n",
      "Param = 1.00000 - classifier Evaluation Experiment 693 of 782\n",
      "Param = 1.00000 - classifier Evaluation Experiment 694 of 782\n",
      "Param = 1.00000 - classifier Evaluation Experiment 695 of 782\n",
      "Param = 1.00000 - classifier Evaluation Experiment 696 of 782\n",
      "Param = 1.00000 - classifier Evaluation Experiment 697 of 782\n",
      "Param = 1.00000 - classifier Evaluation Experiment 698 of 782\n",
      "Param = 1.00000 - classifier Evaluation Experiment 699 of 782\n",
      "Param = 1.00000 - classifier Evaluation Experiment 700 of 782\n",
      "Param = 1.00000 - classifier Evaluation Experiment 701 of 782\n",
      "Param = 1.00000 - classifier Evaluation Experiment 702 of 782\n",
      "Param = 1.00000 - classifier Evaluation Experiment 703 of 782\n",
      "Param = 1.00000 - classifier Evaluation Experiment 704 of 782\n",
      "Param = 1.00000 - classifier Evaluation Experiment 705 of 782\n",
      "Param = 1.00000 - classifier Evaluation Experiment 706 of 782\n",
      "Param = 1.00000 - classifier Evaluation Experiment 707 of 782\n",
      "Param = 1.00000 - classifier Evaluation Experiment 708 of 782\n",
      "Param = 1.00000 - classifier Evaluation Experiment 709 of 782\n",
      "Param = 1.00000 - classifier Evaluation Experiment 710 of 782\n",
      "Param = 1.00000 - classifier Evaluation Experiment 711 of 782\n",
      "Param = 1.00000 - classifier Evaluation Experiment 712 of 782\n",
      "Param = 1.00000 - classifier Evaluation Experiment 713 of 782\n",
      "Param = 1.00000 - classifier Evaluation Experiment 714 of 782\n",
      "Param = 1.00000 - classifier Evaluation Experiment 715 of 782\n",
      "Param = 1.00000 - classifier Evaluation Experiment 716 of 782\n",
      "Param = 1.00000 - classifier Evaluation Experiment 717 of 782\n",
      "Param = 1.00000 - classifier Evaluation Experiment 718 of 782\n",
      "Param = 1.00000 - classifier Evaluation Experiment 719 of 782\n",
      "Param = 1.00000 - classifier Evaluation Experiment 720 of 782\n",
      "Param = 1.00000 - classifier Evaluation Experiment 721 of 782\n",
      "Param = 1.00000 - classifier Evaluation Experiment 722 of 782\n",
      "Param = 1.00000 - classifier Evaluation Experiment 723 of 782\n",
      "Param = 1.00000 - classifier Evaluation Experiment 724 of 782\n",
      "Param = 1.00000 - classifier Evaluation Experiment 725 of 782\n",
      "Param = 1.00000 - classifier Evaluation Experiment 726 of 782\n",
      "Param = 1.00000 - classifier Evaluation Experiment 727 of 782\n",
      "Param = 1.00000 - classifier Evaluation Experiment 728 of 782\n",
      "Param = 1.00000 - classifier Evaluation Experiment 729 of 782\n",
      "Param = 1.00000 - classifier Evaluation Experiment 730 of 782\n",
      "Param = 1.00000 - classifier Evaluation Experiment 731 of 782\n",
      "Param = 1.00000 - classifier Evaluation Experiment 732 of 782\n",
      "Param = 1.00000 - classifier Evaluation Experiment 733 of 782\n",
      "Param = 1.00000 - classifier Evaluation Experiment 734 of 782\n",
      "Param = 1.00000 - classifier Evaluation Experiment 735 of 782\n",
      "Param = 1.00000 - classifier Evaluation Experiment 736 of 782\n",
      "Param = 1.00000 - classifier Evaluation Experiment 737 of 782\n",
      "Param = 1.00000 - classifier Evaluation Experiment 738 of 782\n",
      "Param = 1.00000 - classifier Evaluation Experiment 739 of 782\n",
      "Param = 1.00000 - classifier Evaluation Experiment 740 of 782\n",
      "Param = 1.00000 - classifier Evaluation Experiment 741 of 782\n",
      "Param = 1.00000 - classifier Evaluation Experiment 742 of 782\n",
      "Param = 1.00000 - classifier Evaluation Experiment 743 of 782\n",
      "Param = 1.00000 - classifier Evaluation Experiment 744 of 782\n",
      "Param = 1.00000 - classifier Evaluation Experiment 745 of 782\n",
      "Param = 1.00000 - classifier Evaluation Experiment 746 of 782\n",
      "Param = 1.00000 - classifier Evaluation Experiment 747 of 782\n",
      "Param = 1.00000 - classifier Evaluation Experiment 748 of 782\n",
      "Param = 1.00000 - classifier Evaluation Experiment 749 of 782\n",
      "Param = 1.00000 - classifier Evaluation Experiment 750 of 782\n",
      "Param = 1.00000 - classifier Evaluation Experiment 751 of 782\n",
      "Param = 1.00000 - classifier Evaluation Experiment 752 of 782\n",
      "Param = 1.00000 - classifier Evaluation Experiment 753 of 782\n",
      "Param = 1.00000 - classifier Evaluation Experiment 754 of 782\n",
      "Param = 1.00000 - classifier Evaluation Experiment 755 of 782\n",
      "Param = 1.00000 - classifier Evaluation Experiment 756 of 782\n",
      "Param = 1.00000 - classifier Evaluation Experiment 757 of 782\n",
      "Param = 1.00000 - classifier Evaluation Experiment 758 of 782\n",
      "Param = 1.00000 - classifier Evaluation Experiment 759 of 782\n",
      "Param = 1.00000 - classifier Evaluation Experiment 760 of 782\n",
      "Param = 1.00000 - classifier Evaluation Experiment 761 of 782\n",
      "Param = 1.00000 - classifier Evaluation Experiment 762 of 782\n",
      "Param = 1.00000 - classifier Evaluation Experiment 763 of 782\n",
      "Param = 1.00000 - classifier Evaluation Experiment 764 of 782\n",
      "Param = 1.00000 - classifier Evaluation Experiment 765 of 782\n",
      "Param = 1.00000 - classifier Evaluation Experiment 766 of 782\n",
      "Param = 1.00000 - classifier Evaluation Experiment 767 of 782\n",
      "Param = 1.00000 - classifier Evaluation Experiment 768 of 782\n",
      "Param = 1.00000 - classifier Evaluation Experiment 769 of 782\n",
      "Param = 1.00000 - classifier Evaluation Experiment 770 of 782\n",
      "Param = 1.00000 - classifier Evaluation Experiment 771 of 782\n",
      "Param = 1.00000 - classifier Evaluation Experiment 772 of 782\n",
      "Param = 1.00000 - classifier Evaluation Experiment 773 of 782\n",
      "Param = 1.00000 - classifier Evaluation Experiment 774 of 782\n",
      "Param = 1.00000 - classifier Evaluation Experiment 775 of 782\n",
      "Param = 1.00000 - classifier Evaluation Experiment 776 of 782\n",
      "Param = 1.00000 - classifier Evaluation Experiment 777 of 782\n",
      "Param = 1.00000 - classifier Evaluation Experiment 778 of 782\n",
      "Param = 1.00000 - classifier Evaluation Experiment 779 of 782\n",
      "Param = 1.00000 - classifier Evaluation Experiment 780 of 782\n",
      "Param = 1.00000 - classifier Evaluation Experiment 781 of 782\n",
      "Param = 1.00000 - classifier Evaluation Experiment 782 of 782\n",
      "Param = 5.00000 - classifier Evaluation Experiment 1 of 782\n",
      "Param = 5.00000 - classifier Evaluation Experiment 2 of 782\n",
      "Param = 5.00000 - classifier Evaluation Experiment 3 of 782\n",
      "Param = 5.00000 - classifier Evaluation Experiment 4 of 782\n",
      "Param = 5.00000 - classifier Evaluation Experiment 5 of 782\n",
      "Param = 5.00000 - classifier Evaluation Experiment 6 of 782\n",
      "Param = 5.00000 - classifier Evaluation Experiment 7 of 782\n",
      "Param = 5.00000 - classifier Evaluation Experiment 8 of 782\n",
      "Param = 5.00000 - classifier Evaluation Experiment 9 of 782\n",
      "Param = 5.00000 - classifier Evaluation Experiment 10 of 782\n",
      "Param = 5.00000 - classifier Evaluation Experiment 11 of 782\n",
      "Param = 5.00000 - classifier Evaluation Experiment 12 of 782\n",
      "Param = 5.00000 - classifier Evaluation Experiment 13 of 782\n",
      "Param = 5.00000 - classifier Evaluation Experiment 14 of 782\n",
      "Param = 5.00000 - classifier Evaluation Experiment 15 of 782\n",
      "Param = 5.00000 - classifier Evaluation Experiment 16 of 782\n",
      "Param = 5.00000 - classifier Evaluation Experiment 17 of 782\n",
      "Param = 5.00000 - classifier Evaluation Experiment 18 of 782\n",
      "Param = 5.00000 - classifier Evaluation Experiment 19 of 782\n",
      "Param = 5.00000 - classifier Evaluation Experiment 20 of 782\n",
      "Param = 5.00000 - classifier Evaluation Experiment 21 of 782\n",
      "Param = 5.00000 - classifier Evaluation Experiment 22 of 782\n",
      "Param = 5.00000 - classifier Evaluation Experiment 23 of 782\n",
      "Param = 5.00000 - classifier Evaluation Experiment 24 of 782\n",
      "Param = 5.00000 - classifier Evaluation Experiment 25 of 782\n",
      "Param = 5.00000 - classifier Evaluation Experiment 26 of 782\n",
      "Param = 5.00000 - classifier Evaluation Experiment 27 of 782\n",
      "Param = 5.00000 - classifier Evaluation Experiment 28 of 782\n",
      "Param = 5.00000 - classifier Evaluation Experiment 29 of 782\n",
      "Param = 5.00000 - classifier Evaluation Experiment 30 of 782\n",
      "Param = 5.00000 - classifier Evaluation Experiment 31 of 782\n",
      "Param = 5.00000 - classifier Evaluation Experiment 32 of 782\n",
      "Param = 5.00000 - classifier Evaluation Experiment 33 of 782\n",
      "Param = 5.00000 - classifier Evaluation Experiment 34 of 782\n",
      "Param = 5.00000 - classifier Evaluation Experiment 35 of 782\n",
      "Param = 5.00000 - classifier Evaluation Experiment 36 of 782\n",
      "Param = 5.00000 - classifier Evaluation Experiment 37 of 782\n",
      "Param = 5.00000 - classifier Evaluation Experiment 38 of 782\n",
      "Param = 5.00000 - classifier Evaluation Experiment 39 of 782\n",
      "Param = 5.00000 - classifier Evaluation Experiment 40 of 782\n",
      "Param = 5.00000 - classifier Evaluation Experiment 41 of 782\n",
      "Param = 5.00000 - classifier Evaluation Experiment 42 of 782\n",
      "Param = 5.00000 - classifier Evaluation Experiment 43 of 782\n",
      "Param = 5.00000 - classifier Evaluation Experiment 44 of 782\n",
      "Param = 5.00000 - classifier Evaluation Experiment 45 of 782\n",
      "Param = 5.00000 - classifier Evaluation Experiment 46 of 782\n",
      "Param = 5.00000 - classifier Evaluation Experiment 47 of 782\n",
      "Param = 5.00000 - classifier Evaluation Experiment 48 of 782\n",
      "Param = 5.00000 - classifier Evaluation Experiment 49 of 782\n",
      "Param = 5.00000 - classifier Evaluation Experiment 50 of 782\n",
      "Param = 5.00000 - classifier Evaluation Experiment 51 of 782\n",
      "Param = 5.00000 - classifier Evaluation Experiment 52 of 782\n",
      "Param = 5.00000 - classifier Evaluation Experiment 53 of 782\n",
      "Param = 5.00000 - classifier Evaluation Experiment 54 of 782\n",
      "Param = 5.00000 - classifier Evaluation Experiment 55 of 782\n",
      "Param = 5.00000 - classifier Evaluation Experiment 56 of 782\n",
      "Param = 5.00000 - classifier Evaluation Experiment 57 of 782\n",
      "Param = 5.00000 - classifier Evaluation Experiment 58 of 782\n",
      "Param = 5.00000 - classifier Evaluation Experiment 59 of 782\n",
      "Param = 5.00000 - classifier Evaluation Experiment 60 of 782\n",
      "Param = 5.00000 - classifier Evaluation Experiment 61 of 782\n",
      "Param = 5.00000 - classifier Evaluation Experiment 62 of 782\n",
      "Param = 5.00000 - classifier Evaluation Experiment 63 of 782\n",
      "Param = 5.00000 - classifier Evaluation Experiment 64 of 782\n",
      "Param = 5.00000 - classifier Evaluation Experiment 65 of 782\n",
      "Param = 5.00000 - classifier Evaluation Experiment 66 of 782\n",
      "Param = 5.00000 - classifier Evaluation Experiment 67 of 782\n",
      "Param = 5.00000 - classifier Evaluation Experiment 68 of 782\n",
      "Param = 5.00000 - classifier Evaluation Experiment 69 of 782\n",
      "Param = 5.00000 - classifier Evaluation Experiment 70 of 782\n",
      "Param = 5.00000 - classifier Evaluation Experiment 71 of 782\n",
      "Param = 5.00000 - classifier Evaluation Experiment 72 of 782\n",
      "Param = 5.00000 - classifier Evaluation Experiment 73 of 782\n",
      "Param = 5.00000 - classifier Evaluation Experiment 74 of 782\n",
      "Param = 5.00000 - classifier Evaluation Experiment 75 of 782\n",
      "Param = 5.00000 - classifier Evaluation Experiment 76 of 782\n",
      "Param = 5.00000 - classifier Evaluation Experiment 77 of 782\n",
      "Param = 5.00000 - classifier Evaluation Experiment 78 of 782\n",
      "Param = 5.00000 - classifier Evaluation Experiment 79 of 782\n",
      "Param = 5.00000 - classifier Evaluation Experiment 80 of 782\n",
      "Param = 5.00000 - classifier Evaluation Experiment 81 of 782\n",
      "Param = 5.00000 - classifier Evaluation Experiment 82 of 782\n",
      "Param = 5.00000 - classifier Evaluation Experiment 83 of 782\n",
      "Param = 5.00000 - classifier Evaluation Experiment 84 of 782\n",
      "Param = 5.00000 - classifier Evaluation Experiment 85 of 782\n",
      "Param = 5.00000 - classifier Evaluation Experiment 86 of 782\n",
      "Param = 5.00000 - classifier Evaluation Experiment 87 of 782\n",
      "Param = 5.00000 - classifier Evaluation Experiment 88 of 782\n",
      "Param = 5.00000 - classifier Evaluation Experiment 89 of 782\n",
      "Param = 5.00000 - classifier Evaluation Experiment 90 of 782\n",
      "Param = 5.00000 - classifier Evaluation Experiment 91 of 782\n",
      "Param = 5.00000 - classifier Evaluation Experiment 92 of 782\n",
      "Param = 5.00000 - classifier Evaluation Experiment 93 of 782\n",
      "Param = 5.00000 - classifier Evaluation Experiment 94 of 782\n",
      "Param = 5.00000 - classifier Evaluation Experiment 95 of 782\n",
      "Param = 5.00000 - classifier Evaluation Experiment 96 of 782\n",
      "Param = 5.00000 - classifier Evaluation Experiment 97 of 782\n",
      "Param = 5.00000 - classifier Evaluation Experiment 98 of 782\n",
      "Param = 5.00000 - classifier Evaluation Experiment 99 of 782\n",
      "Param = 5.00000 - classifier Evaluation Experiment 100 of 782\n",
      "Param = 5.00000 - classifier Evaluation Experiment 101 of 782\n",
      "Param = 5.00000 - classifier Evaluation Experiment 102 of 782\n",
      "Param = 5.00000 - classifier Evaluation Experiment 103 of 782\n",
      "Param = 5.00000 - classifier Evaluation Experiment 104 of 782\n",
      "Param = 5.00000 - classifier Evaluation Experiment 105 of 782\n",
      "Param = 5.00000 - classifier Evaluation Experiment 106 of 782\n",
      "Param = 5.00000 - classifier Evaluation Experiment 107 of 782\n",
      "Param = 5.00000 - classifier Evaluation Experiment 108 of 782\n",
      "Param = 5.00000 - classifier Evaluation Experiment 109 of 782\n",
      "Param = 5.00000 - classifier Evaluation Experiment 110 of 782\n",
      "Param = 5.00000 - classifier Evaluation Experiment 111 of 782\n",
      "Param = 5.00000 - classifier Evaluation Experiment 112 of 782\n",
      "Param = 5.00000 - classifier Evaluation Experiment 113 of 782\n",
      "Param = 5.00000 - classifier Evaluation Experiment 114 of 782\n",
      "Param = 5.00000 - classifier Evaluation Experiment 115 of 782\n",
      "Param = 5.00000 - classifier Evaluation Experiment 116 of 782\n",
      "Param = 5.00000 - classifier Evaluation Experiment 117 of 782\n",
      "Param = 5.00000 - classifier Evaluation Experiment 118 of 782\n",
      "Param = 5.00000 - classifier Evaluation Experiment 119 of 782\n",
      "Param = 5.00000 - classifier Evaluation Experiment 120 of 782\n",
      "Param = 5.00000 - classifier Evaluation Experiment 121 of 782\n",
      "Param = 5.00000 - classifier Evaluation Experiment 122 of 782\n",
      "Param = 5.00000 - classifier Evaluation Experiment 123 of 782\n",
      "Param = 5.00000 - classifier Evaluation Experiment 124 of 782\n",
      "Param = 5.00000 - classifier Evaluation Experiment 125 of 782\n",
      "Param = 5.00000 - classifier Evaluation Experiment 126 of 782\n",
      "Param = 5.00000 - classifier Evaluation Experiment 127 of 782\n",
      "Param = 5.00000 - classifier Evaluation Experiment 128 of 782\n",
      "Param = 5.00000 - classifier Evaluation Experiment 129 of 782\n",
      "Param = 5.00000 - classifier Evaluation Experiment 130 of 782\n",
      "Param = 5.00000 - classifier Evaluation Experiment 131 of 782\n",
      "Param = 5.00000 - classifier Evaluation Experiment 132 of 782\n",
      "Param = 5.00000 - classifier Evaluation Experiment 133 of 782\n",
      "Param = 5.00000 - classifier Evaluation Experiment 134 of 782\n",
      "Param = 5.00000 - classifier Evaluation Experiment 135 of 782\n",
      "Param = 5.00000 - classifier Evaluation Experiment 136 of 782\n",
      "Param = 5.00000 - classifier Evaluation Experiment 137 of 782\n",
      "Param = 5.00000 - classifier Evaluation Experiment 138 of 782\n",
      "Param = 5.00000 - classifier Evaluation Experiment 139 of 782\n",
      "Param = 5.00000 - classifier Evaluation Experiment 140 of 782\n",
      "Param = 5.00000 - classifier Evaluation Experiment 141 of 782\n",
      "Param = 5.00000 - classifier Evaluation Experiment 142 of 782\n",
      "Param = 5.00000 - classifier Evaluation Experiment 143 of 782\n",
      "Param = 5.00000 - classifier Evaluation Experiment 144 of 782\n",
      "Param = 5.00000 - classifier Evaluation Experiment 145 of 782\n",
      "Param = 5.00000 - classifier Evaluation Experiment 146 of 782\n",
      "Param = 5.00000 - classifier Evaluation Experiment 147 of 782\n",
      "Param = 5.00000 - classifier Evaluation Experiment 148 of 782\n",
      "Param = 5.00000 - classifier Evaluation Experiment 149 of 782\n",
      "Param = 5.00000 - classifier Evaluation Experiment 150 of 782\n",
      "Param = 5.00000 - classifier Evaluation Experiment 151 of 782\n",
      "Param = 5.00000 - classifier Evaluation Experiment 152 of 782\n",
      "Param = 5.00000 - classifier Evaluation Experiment 153 of 782\n",
      "Param = 5.00000 - classifier Evaluation Experiment 154 of 782\n",
      "Param = 5.00000 - classifier Evaluation Experiment 155 of 782\n",
      "Param = 5.00000 - classifier Evaluation Experiment 156 of 782\n",
      "Param = 5.00000 - classifier Evaluation Experiment 157 of 782\n",
      "Param = 5.00000 - classifier Evaluation Experiment 158 of 782\n",
      "Param = 5.00000 - classifier Evaluation Experiment 159 of 782\n",
      "Param = 5.00000 - classifier Evaluation Experiment 160 of 782\n",
      "Param = 5.00000 - classifier Evaluation Experiment 161 of 782\n",
      "Param = 5.00000 - classifier Evaluation Experiment 162 of 782\n",
      "Param = 5.00000 - classifier Evaluation Experiment 163 of 782\n",
      "Param = 5.00000 - classifier Evaluation Experiment 164 of 782\n",
      "Param = 5.00000 - classifier Evaluation Experiment 165 of 782\n",
      "Param = 5.00000 - classifier Evaluation Experiment 166 of 782\n",
      "Param = 5.00000 - classifier Evaluation Experiment 167 of 782\n",
      "Param = 5.00000 - classifier Evaluation Experiment 168 of 782\n",
      "Param = 5.00000 - classifier Evaluation Experiment 169 of 782\n",
      "Param = 5.00000 - classifier Evaluation Experiment 170 of 782\n",
      "Param = 5.00000 - classifier Evaluation Experiment 171 of 782\n",
      "Param = 5.00000 - classifier Evaluation Experiment 172 of 782\n",
      "Param = 5.00000 - classifier Evaluation Experiment 173 of 782\n",
      "Param = 5.00000 - classifier Evaluation Experiment 174 of 782\n",
      "Param = 5.00000 - classifier Evaluation Experiment 175 of 782\n",
      "Param = 5.00000 - classifier Evaluation Experiment 176 of 782\n",
      "Param = 5.00000 - classifier Evaluation Experiment 177 of 782\n",
      "Param = 5.00000 - classifier Evaluation Experiment 178 of 782\n",
      "Param = 5.00000 - classifier Evaluation Experiment 179 of 782\n",
      "Param = 5.00000 - classifier Evaluation Experiment 180 of 782\n",
      "Param = 5.00000 - classifier Evaluation Experiment 181 of 782\n",
      "Param = 5.00000 - classifier Evaluation Experiment 182 of 782\n",
      "Param = 5.00000 - classifier Evaluation Experiment 183 of 782\n",
      "Param = 5.00000 - classifier Evaluation Experiment 184 of 782\n",
      "Param = 5.00000 - classifier Evaluation Experiment 185 of 782\n",
      "Param = 5.00000 - classifier Evaluation Experiment 186 of 782\n",
      "Param = 5.00000 - classifier Evaluation Experiment 187 of 782\n",
      "Param = 5.00000 - classifier Evaluation Experiment 188 of 782\n",
      "Param = 5.00000 - classifier Evaluation Experiment 189 of 782\n",
      "Param = 5.00000 - classifier Evaluation Experiment 190 of 782\n",
      "Param = 5.00000 - classifier Evaluation Experiment 191 of 782\n",
      "Param = 5.00000 - classifier Evaluation Experiment 192 of 782\n",
      "Param = 5.00000 - classifier Evaluation Experiment 193 of 782\n",
      "Param = 5.00000 - classifier Evaluation Experiment 194 of 782\n",
      "Param = 5.00000 - classifier Evaluation Experiment 195 of 782\n",
      "Param = 5.00000 - classifier Evaluation Experiment 196 of 782\n",
      "Param = 5.00000 - classifier Evaluation Experiment 197 of 782\n",
      "Param = 5.00000 - classifier Evaluation Experiment 198 of 782\n",
      "Param = 5.00000 - classifier Evaluation Experiment 199 of 782\n",
      "Param = 5.00000 - classifier Evaluation Experiment 200 of 782\n",
      "Param = 5.00000 - classifier Evaluation Experiment 201 of 782\n",
      "Param = 5.00000 - classifier Evaluation Experiment 202 of 782\n",
      "Param = 5.00000 - classifier Evaluation Experiment 203 of 782\n",
      "Param = 5.00000 - classifier Evaluation Experiment 204 of 782\n",
      "Param = 5.00000 - classifier Evaluation Experiment 205 of 782\n",
      "Param = 5.00000 - classifier Evaluation Experiment 206 of 782\n",
      "Param = 5.00000 - classifier Evaluation Experiment 207 of 782\n",
      "Param = 5.00000 - classifier Evaluation Experiment 208 of 782\n",
      "Param = 5.00000 - classifier Evaluation Experiment 209 of 782\n",
      "Param = 5.00000 - classifier Evaluation Experiment 210 of 782\n",
      "Param = 5.00000 - classifier Evaluation Experiment 211 of 782\n",
      "Param = 5.00000 - classifier Evaluation Experiment 212 of 782\n",
      "Param = 5.00000 - classifier Evaluation Experiment 213 of 782\n",
      "Param = 5.00000 - classifier Evaluation Experiment 214 of 782\n",
      "Param = 5.00000 - classifier Evaluation Experiment 215 of 782\n",
      "Param = 5.00000 - classifier Evaluation Experiment 216 of 782\n",
      "Param = 5.00000 - classifier Evaluation Experiment 217 of 782\n",
      "Param = 5.00000 - classifier Evaluation Experiment 218 of 782\n",
      "Param = 5.00000 - classifier Evaluation Experiment 219 of 782\n",
      "Param = 5.00000 - classifier Evaluation Experiment 220 of 782\n",
      "Param = 5.00000 - classifier Evaluation Experiment 221 of 782\n",
      "Param = 5.00000 - classifier Evaluation Experiment 222 of 782\n",
      "Param = 5.00000 - classifier Evaluation Experiment 223 of 782\n",
      "Param = 5.00000 - classifier Evaluation Experiment 224 of 782\n",
      "Param = 5.00000 - classifier Evaluation Experiment 225 of 782\n",
      "Param = 5.00000 - classifier Evaluation Experiment 226 of 782\n",
      "Param = 5.00000 - classifier Evaluation Experiment 227 of 782\n",
      "Param = 5.00000 - classifier Evaluation Experiment 228 of 782\n",
      "Param = 5.00000 - classifier Evaluation Experiment 229 of 782\n",
      "Param = 5.00000 - classifier Evaluation Experiment 230 of 782\n",
      "Param = 5.00000 - classifier Evaluation Experiment 231 of 782\n",
      "Param = 5.00000 - classifier Evaluation Experiment 232 of 782\n",
      "Param = 5.00000 - classifier Evaluation Experiment 233 of 782\n",
      "Param = 5.00000 - classifier Evaluation Experiment 234 of 782\n",
      "Param = 5.00000 - classifier Evaluation Experiment 235 of 782\n",
      "Param = 5.00000 - classifier Evaluation Experiment 236 of 782\n",
      "Param = 5.00000 - classifier Evaluation Experiment 237 of 782\n",
      "Param = 5.00000 - classifier Evaluation Experiment 238 of 782\n",
      "Param = 5.00000 - classifier Evaluation Experiment 239 of 782\n",
      "Param = 5.00000 - classifier Evaluation Experiment 240 of 782\n",
      "Param = 5.00000 - classifier Evaluation Experiment 241 of 782\n",
      "Param = 5.00000 - classifier Evaluation Experiment 242 of 782\n",
      "Param = 5.00000 - classifier Evaluation Experiment 243 of 782\n",
      "Param = 5.00000 - classifier Evaluation Experiment 244 of 782\n",
      "Param = 5.00000 - classifier Evaluation Experiment 245 of 782\n",
      "Param = 5.00000 - classifier Evaluation Experiment 246 of 782\n",
      "Param = 5.00000 - classifier Evaluation Experiment 247 of 782\n",
      "Param = 5.00000 - classifier Evaluation Experiment 248 of 782\n",
      "Param = 5.00000 - classifier Evaluation Experiment 249 of 782\n",
      "Param = 5.00000 - classifier Evaluation Experiment 250 of 782\n",
      "Param = 5.00000 - classifier Evaluation Experiment 251 of 782\n",
      "Param = 5.00000 - classifier Evaluation Experiment 252 of 782\n",
      "Param = 5.00000 - classifier Evaluation Experiment 253 of 782\n",
      "Param = 5.00000 - classifier Evaluation Experiment 254 of 782\n",
      "Param = 5.00000 - classifier Evaluation Experiment 255 of 782\n",
      "Param = 5.00000 - classifier Evaluation Experiment 256 of 782\n",
      "Param = 5.00000 - classifier Evaluation Experiment 257 of 782\n",
      "Param = 5.00000 - classifier Evaluation Experiment 258 of 782\n",
      "Param = 5.00000 - classifier Evaluation Experiment 259 of 782\n",
      "Param = 5.00000 - classifier Evaluation Experiment 260 of 782\n",
      "Param = 5.00000 - classifier Evaluation Experiment 261 of 782\n",
      "Param = 5.00000 - classifier Evaluation Experiment 262 of 782\n",
      "Param = 5.00000 - classifier Evaluation Experiment 263 of 782\n",
      "Param = 5.00000 - classifier Evaluation Experiment 264 of 782\n",
      "Param = 5.00000 - classifier Evaluation Experiment 265 of 782\n",
      "Param = 5.00000 - classifier Evaluation Experiment 266 of 782\n",
      "Param = 5.00000 - classifier Evaluation Experiment 267 of 782\n",
      "Param = 5.00000 - classifier Evaluation Experiment 268 of 782\n",
      "Param = 5.00000 - classifier Evaluation Experiment 269 of 782\n",
      "Param = 5.00000 - classifier Evaluation Experiment 270 of 782\n",
      "Param = 5.00000 - classifier Evaluation Experiment 271 of 782\n",
      "Param = 5.00000 - classifier Evaluation Experiment 272 of 782\n",
      "Param = 5.00000 - classifier Evaluation Experiment 273 of 782\n",
      "Param = 5.00000 - classifier Evaluation Experiment 274 of 782\n",
      "Param = 5.00000 - classifier Evaluation Experiment 275 of 782\n",
      "Param = 5.00000 - classifier Evaluation Experiment 276 of 782\n",
      "Param = 5.00000 - classifier Evaluation Experiment 277 of 782\n",
      "Param = 5.00000 - classifier Evaluation Experiment 278 of 782\n",
      "Param = 5.00000 - classifier Evaluation Experiment 279 of 782\n",
      "Param = 5.00000 - classifier Evaluation Experiment 280 of 782\n",
      "Param = 5.00000 - classifier Evaluation Experiment 281 of 782\n",
      "Param = 5.00000 - classifier Evaluation Experiment 282 of 782\n",
      "Param = 5.00000 - classifier Evaluation Experiment 283 of 782\n",
      "Param = 5.00000 - classifier Evaluation Experiment 284 of 782\n",
      "Param = 5.00000 - classifier Evaluation Experiment 285 of 782\n",
      "Param = 5.00000 - classifier Evaluation Experiment 286 of 782\n",
      "Param = 5.00000 - classifier Evaluation Experiment 287 of 782\n",
      "Param = 5.00000 - classifier Evaluation Experiment 288 of 782\n",
      "Param = 5.00000 - classifier Evaluation Experiment 289 of 782\n",
      "Param = 5.00000 - classifier Evaluation Experiment 290 of 782\n",
      "Param = 5.00000 - classifier Evaluation Experiment 291 of 782\n",
      "Param = 5.00000 - classifier Evaluation Experiment 292 of 782\n",
      "Param = 5.00000 - classifier Evaluation Experiment 293 of 782\n",
      "Param = 5.00000 - classifier Evaluation Experiment 294 of 782\n",
      "Param = 5.00000 - classifier Evaluation Experiment 295 of 782\n",
      "Param = 5.00000 - classifier Evaluation Experiment 296 of 782\n",
      "Param = 5.00000 - classifier Evaluation Experiment 297 of 782\n",
      "Param = 5.00000 - classifier Evaluation Experiment 298 of 782\n",
      "Param = 5.00000 - classifier Evaluation Experiment 299 of 782\n",
      "Param = 5.00000 - classifier Evaluation Experiment 300 of 782\n",
      "Param = 5.00000 - classifier Evaluation Experiment 301 of 782\n",
      "Param = 5.00000 - classifier Evaluation Experiment 302 of 782\n",
      "Param = 5.00000 - classifier Evaluation Experiment 303 of 782\n",
      "Param = 5.00000 - classifier Evaluation Experiment 304 of 782\n",
      "Param = 5.00000 - classifier Evaluation Experiment 305 of 782\n",
      "Param = 5.00000 - classifier Evaluation Experiment 306 of 782\n",
      "Param = 5.00000 - classifier Evaluation Experiment 307 of 782\n",
      "Param = 5.00000 - classifier Evaluation Experiment 308 of 782\n",
      "Param = 5.00000 - classifier Evaluation Experiment 309 of 782\n",
      "Param = 5.00000 - classifier Evaluation Experiment 310 of 782\n",
      "Param = 5.00000 - classifier Evaluation Experiment 311 of 782\n",
      "Param = 5.00000 - classifier Evaluation Experiment 312 of 782\n",
      "Param = 5.00000 - classifier Evaluation Experiment 313 of 782\n",
      "Param = 5.00000 - classifier Evaluation Experiment 314 of 782\n",
      "Param = 5.00000 - classifier Evaluation Experiment 315 of 782\n",
      "Param = 5.00000 - classifier Evaluation Experiment 316 of 782\n",
      "Param = 5.00000 - classifier Evaluation Experiment 317 of 782\n",
      "Param = 5.00000 - classifier Evaluation Experiment 318 of 782\n",
      "Param = 5.00000 - classifier Evaluation Experiment 319 of 782\n",
      "Param = 5.00000 - classifier Evaluation Experiment 320 of 782\n",
      "Param = 5.00000 - classifier Evaluation Experiment 321 of 782\n",
      "Param = 5.00000 - classifier Evaluation Experiment 322 of 782\n",
      "Param = 5.00000 - classifier Evaluation Experiment 323 of 782\n",
      "Param = 5.00000 - classifier Evaluation Experiment 324 of 782\n",
      "Param = 5.00000 - classifier Evaluation Experiment 325 of 782\n",
      "Param = 5.00000 - classifier Evaluation Experiment 326 of 782\n",
      "Param = 5.00000 - classifier Evaluation Experiment 327 of 782\n",
      "Param = 5.00000 - classifier Evaluation Experiment 328 of 782\n",
      "Param = 5.00000 - classifier Evaluation Experiment 329 of 782\n",
      "Param = 5.00000 - classifier Evaluation Experiment 330 of 782\n",
      "Param = 5.00000 - classifier Evaluation Experiment 331 of 782\n",
      "Param = 5.00000 - classifier Evaluation Experiment 332 of 782\n",
      "Param = 5.00000 - classifier Evaluation Experiment 333 of 782\n",
      "Param = 5.00000 - classifier Evaluation Experiment 334 of 782\n",
      "Param = 5.00000 - classifier Evaluation Experiment 335 of 782\n",
      "Param = 5.00000 - classifier Evaluation Experiment 336 of 782\n",
      "Param = 5.00000 - classifier Evaluation Experiment 337 of 782\n",
      "Param = 5.00000 - classifier Evaluation Experiment 338 of 782\n",
      "Param = 5.00000 - classifier Evaluation Experiment 339 of 782\n",
      "Param = 5.00000 - classifier Evaluation Experiment 340 of 782\n",
      "Param = 5.00000 - classifier Evaluation Experiment 341 of 782\n",
      "Param = 5.00000 - classifier Evaluation Experiment 342 of 782\n",
      "Param = 5.00000 - classifier Evaluation Experiment 343 of 782\n",
      "Param = 5.00000 - classifier Evaluation Experiment 344 of 782\n",
      "Param = 5.00000 - classifier Evaluation Experiment 345 of 782\n",
      "Param = 5.00000 - classifier Evaluation Experiment 346 of 782\n",
      "Param = 5.00000 - classifier Evaluation Experiment 347 of 782\n",
      "Param = 5.00000 - classifier Evaluation Experiment 348 of 782\n",
      "Param = 5.00000 - classifier Evaluation Experiment 349 of 782\n",
      "Param = 5.00000 - classifier Evaluation Experiment 350 of 782\n",
      "Param = 5.00000 - classifier Evaluation Experiment 351 of 782\n",
      "Param = 5.00000 - classifier Evaluation Experiment 352 of 782\n",
      "Param = 5.00000 - classifier Evaluation Experiment 353 of 782\n",
      "Param = 5.00000 - classifier Evaluation Experiment 354 of 782\n",
      "Param = 5.00000 - classifier Evaluation Experiment 355 of 782\n",
      "Param = 5.00000 - classifier Evaluation Experiment 356 of 782\n",
      "Param = 5.00000 - classifier Evaluation Experiment 357 of 782\n",
      "Param = 5.00000 - classifier Evaluation Experiment 358 of 782\n",
      "Param = 5.00000 - classifier Evaluation Experiment 359 of 782\n",
      "Param = 5.00000 - classifier Evaluation Experiment 360 of 782\n",
      "Param = 5.00000 - classifier Evaluation Experiment 361 of 782\n",
      "Param = 5.00000 - classifier Evaluation Experiment 362 of 782\n",
      "Param = 5.00000 - classifier Evaluation Experiment 363 of 782\n",
      "Param = 5.00000 - classifier Evaluation Experiment 364 of 782\n",
      "Param = 5.00000 - classifier Evaluation Experiment 365 of 782\n",
      "Param = 5.00000 - classifier Evaluation Experiment 366 of 782\n",
      "Param = 5.00000 - classifier Evaluation Experiment 367 of 782\n",
      "Param = 5.00000 - classifier Evaluation Experiment 368 of 782\n",
      "Param = 5.00000 - classifier Evaluation Experiment 369 of 782\n",
      "Param = 5.00000 - classifier Evaluation Experiment 370 of 782\n",
      "Param = 5.00000 - classifier Evaluation Experiment 371 of 782\n",
      "Param = 5.00000 - classifier Evaluation Experiment 372 of 782\n",
      "Param = 5.00000 - classifier Evaluation Experiment 373 of 782\n",
      "Param = 5.00000 - classifier Evaluation Experiment 374 of 782\n",
      "Param = 5.00000 - classifier Evaluation Experiment 375 of 782\n",
      "Param = 5.00000 - classifier Evaluation Experiment 376 of 782\n",
      "Param = 5.00000 - classifier Evaluation Experiment 377 of 782\n",
      "Param = 5.00000 - classifier Evaluation Experiment 378 of 782\n",
      "Param = 5.00000 - classifier Evaluation Experiment 379 of 782\n",
      "Param = 5.00000 - classifier Evaluation Experiment 380 of 782\n",
      "Param = 5.00000 - classifier Evaluation Experiment 381 of 782\n",
      "Param = 5.00000 - classifier Evaluation Experiment 382 of 782\n",
      "Param = 5.00000 - classifier Evaluation Experiment 383 of 782\n",
      "Param = 5.00000 - classifier Evaluation Experiment 384 of 782\n",
      "Param = 5.00000 - classifier Evaluation Experiment 385 of 782\n",
      "Param = 5.00000 - classifier Evaluation Experiment 386 of 782\n",
      "Param = 5.00000 - classifier Evaluation Experiment 387 of 782\n",
      "Param = 5.00000 - classifier Evaluation Experiment 388 of 782\n",
      "Param = 5.00000 - classifier Evaluation Experiment 389 of 782\n",
      "Param = 5.00000 - classifier Evaluation Experiment 390 of 782\n",
      "Param = 5.00000 - classifier Evaluation Experiment 391 of 782\n",
      "Param = 5.00000 - classifier Evaluation Experiment 392 of 782\n",
      "Param = 5.00000 - classifier Evaluation Experiment 393 of 782\n",
      "Param = 5.00000 - classifier Evaluation Experiment 394 of 782\n",
      "Param = 5.00000 - classifier Evaluation Experiment 395 of 782\n",
      "Param = 5.00000 - classifier Evaluation Experiment 396 of 782\n",
      "Param = 5.00000 - classifier Evaluation Experiment 397 of 782\n",
      "Param = 5.00000 - classifier Evaluation Experiment 398 of 782\n",
      "Param = 5.00000 - classifier Evaluation Experiment 399 of 782\n",
      "Param = 5.00000 - classifier Evaluation Experiment 400 of 782\n",
      "Param = 5.00000 - classifier Evaluation Experiment 401 of 782\n",
      "Param = 5.00000 - classifier Evaluation Experiment 402 of 782\n",
      "Param = 5.00000 - classifier Evaluation Experiment 403 of 782\n",
      "Param = 5.00000 - classifier Evaluation Experiment 404 of 782\n",
      "Param = 5.00000 - classifier Evaluation Experiment 405 of 782\n",
      "Param = 5.00000 - classifier Evaluation Experiment 406 of 782\n",
      "Param = 5.00000 - classifier Evaluation Experiment 407 of 782\n",
      "Param = 5.00000 - classifier Evaluation Experiment 408 of 782\n",
      "Param = 5.00000 - classifier Evaluation Experiment 409 of 782\n",
      "Param = 5.00000 - classifier Evaluation Experiment 410 of 782\n",
      "Param = 5.00000 - classifier Evaluation Experiment 411 of 782\n",
      "Param = 5.00000 - classifier Evaluation Experiment 412 of 782\n",
      "Param = 5.00000 - classifier Evaluation Experiment 413 of 782\n",
      "Param = 5.00000 - classifier Evaluation Experiment 414 of 782\n",
      "Param = 5.00000 - classifier Evaluation Experiment 415 of 782\n",
      "Param = 5.00000 - classifier Evaluation Experiment 416 of 782\n",
      "Param = 5.00000 - classifier Evaluation Experiment 417 of 782\n",
      "Param = 5.00000 - classifier Evaluation Experiment 418 of 782\n",
      "Param = 5.00000 - classifier Evaluation Experiment 419 of 782\n",
      "Param = 5.00000 - classifier Evaluation Experiment 420 of 782\n",
      "Param = 5.00000 - classifier Evaluation Experiment 421 of 782\n",
      "Param = 5.00000 - classifier Evaluation Experiment 422 of 782\n",
      "Param = 5.00000 - classifier Evaluation Experiment 423 of 782\n",
      "Param = 5.00000 - classifier Evaluation Experiment 424 of 782\n",
      "Param = 5.00000 - classifier Evaluation Experiment 425 of 782\n",
      "Param = 5.00000 - classifier Evaluation Experiment 426 of 782\n",
      "Param = 5.00000 - classifier Evaluation Experiment 427 of 782\n",
      "Param = 5.00000 - classifier Evaluation Experiment 428 of 782\n",
      "Param = 5.00000 - classifier Evaluation Experiment 429 of 782\n",
      "Param = 5.00000 - classifier Evaluation Experiment 430 of 782\n",
      "Param = 5.00000 - classifier Evaluation Experiment 431 of 782\n",
      "Param = 5.00000 - classifier Evaluation Experiment 432 of 782\n",
      "Param = 5.00000 - classifier Evaluation Experiment 433 of 782\n",
      "Param = 5.00000 - classifier Evaluation Experiment 434 of 782\n",
      "Param = 5.00000 - classifier Evaluation Experiment 435 of 782\n",
      "Param = 5.00000 - classifier Evaluation Experiment 436 of 782\n",
      "Param = 5.00000 - classifier Evaluation Experiment 437 of 782\n",
      "Param = 5.00000 - classifier Evaluation Experiment 438 of 782\n",
      "Param = 5.00000 - classifier Evaluation Experiment 439 of 782\n",
      "Param = 5.00000 - classifier Evaluation Experiment 440 of 782\n",
      "Param = 5.00000 - classifier Evaluation Experiment 441 of 782\n",
      "Param = 5.00000 - classifier Evaluation Experiment 442 of 782\n",
      "Param = 5.00000 - classifier Evaluation Experiment 443 of 782\n",
      "Param = 5.00000 - classifier Evaluation Experiment 444 of 782\n",
      "Param = 5.00000 - classifier Evaluation Experiment 445 of 782\n",
      "Param = 5.00000 - classifier Evaluation Experiment 446 of 782\n",
      "Param = 5.00000 - classifier Evaluation Experiment 447 of 782\n",
      "Param = 5.00000 - classifier Evaluation Experiment 448 of 782\n",
      "Param = 5.00000 - classifier Evaluation Experiment 449 of 782\n",
      "Param = 5.00000 - classifier Evaluation Experiment 450 of 782\n",
      "Param = 5.00000 - classifier Evaluation Experiment 451 of 782\n",
      "Param = 5.00000 - classifier Evaluation Experiment 452 of 782\n",
      "Param = 5.00000 - classifier Evaluation Experiment 453 of 782\n",
      "Param = 5.00000 - classifier Evaluation Experiment 454 of 782\n",
      "Param = 5.00000 - classifier Evaluation Experiment 455 of 782\n",
      "Param = 5.00000 - classifier Evaluation Experiment 456 of 782\n",
      "Param = 5.00000 - classifier Evaluation Experiment 457 of 782\n",
      "Param = 5.00000 - classifier Evaluation Experiment 458 of 782\n",
      "Param = 5.00000 - classifier Evaluation Experiment 459 of 782\n",
      "Param = 5.00000 - classifier Evaluation Experiment 460 of 782\n",
      "Param = 5.00000 - classifier Evaluation Experiment 461 of 782\n",
      "Param = 5.00000 - classifier Evaluation Experiment 462 of 782\n",
      "Param = 5.00000 - classifier Evaluation Experiment 463 of 782\n",
      "Param = 5.00000 - classifier Evaluation Experiment 464 of 782\n",
      "Param = 5.00000 - classifier Evaluation Experiment 465 of 782\n",
      "Param = 5.00000 - classifier Evaluation Experiment 466 of 782\n",
      "Param = 5.00000 - classifier Evaluation Experiment 467 of 782\n",
      "Param = 5.00000 - classifier Evaluation Experiment 468 of 782\n",
      "Param = 5.00000 - classifier Evaluation Experiment 469 of 782\n",
      "Param = 5.00000 - classifier Evaluation Experiment 470 of 782\n",
      "Param = 5.00000 - classifier Evaluation Experiment 471 of 782\n",
      "Param = 5.00000 - classifier Evaluation Experiment 472 of 782\n",
      "Param = 5.00000 - classifier Evaluation Experiment 473 of 782\n",
      "Param = 5.00000 - classifier Evaluation Experiment 474 of 782\n",
      "Param = 5.00000 - classifier Evaluation Experiment 475 of 782\n",
      "Param = 5.00000 - classifier Evaluation Experiment 476 of 782\n",
      "Param = 5.00000 - classifier Evaluation Experiment 477 of 782\n",
      "Param = 5.00000 - classifier Evaluation Experiment 478 of 782\n",
      "Param = 5.00000 - classifier Evaluation Experiment 479 of 782\n",
      "Param = 5.00000 - classifier Evaluation Experiment 480 of 782\n",
      "Param = 5.00000 - classifier Evaluation Experiment 481 of 782\n",
      "Param = 5.00000 - classifier Evaluation Experiment 482 of 782\n",
      "Param = 5.00000 - classifier Evaluation Experiment 483 of 782\n",
      "Param = 5.00000 - classifier Evaluation Experiment 484 of 782\n",
      "Param = 5.00000 - classifier Evaluation Experiment 485 of 782\n",
      "Param = 5.00000 - classifier Evaluation Experiment 486 of 782\n",
      "Param = 5.00000 - classifier Evaluation Experiment 487 of 782\n",
      "Param = 5.00000 - classifier Evaluation Experiment 488 of 782\n",
      "Param = 5.00000 - classifier Evaluation Experiment 489 of 782\n",
      "Param = 5.00000 - classifier Evaluation Experiment 490 of 782\n",
      "Param = 5.00000 - classifier Evaluation Experiment 491 of 782\n",
      "Param = 5.00000 - classifier Evaluation Experiment 492 of 782\n",
      "Param = 5.00000 - classifier Evaluation Experiment 493 of 782\n",
      "Param = 5.00000 - classifier Evaluation Experiment 494 of 782\n",
      "Param = 5.00000 - classifier Evaluation Experiment 495 of 782\n",
      "Param = 5.00000 - classifier Evaluation Experiment 496 of 782\n",
      "Param = 5.00000 - classifier Evaluation Experiment 497 of 782\n",
      "Param = 5.00000 - classifier Evaluation Experiment 498 of 782\n",
      "Param = 5.00000 - classifier Evaluation Experiment 499 of 782\n",
      "Param = 5.00000 - classifier Evaluation Experiment 500 of 782\n",
      "Param = 5.00000 - classifier Evaluation Experiment 501 of 782\n",
      "Param = 5.00000 - classifier Evaluation Experiment 502 of 782\n",
      "Param = 5.00000 - classifier Evaluation Experiment 503 of 782\n",
      "Param = 5.00000 - classifier Evaluation Experiment 504 of 782\n",
      "Param = 5.00000 - classifier Evaluation Experiment 505 of 782\n",
      "Param = 5.00000 - classifier Evaluation Experiment 506 of 782\n",
      "Param = 5.00000 - classifier Evaluation Experiment 507 of 782\n",
      "Param = 5.00000 - classifier Evaluation Experiment 508 of 782\n",
      "Param = 5.00000 - classifier Evaluation Experiment 509 of 782\n",
      "Param = 5.00000 - classifier Evaluation Experiment 510 of 782\n",
      "Param = 5.00000 - classifier Evaluation Experiment 511 of 782\n",
      "Param = 5.00000 - classifier Evaluation Experiment 512 of 782\n",
      "Param = 5.00000 - classifier Evaluation Experiment 513 of 782\n",
      "Param = 5.00000 - classifier Evaluation Experiment 514 of 782\n",
      "Param = 5.00000 - classifier Evaluation Experiment 515 of 782\n",
      "Param = 5.00000 - classifier Evaluation Experiment 516 of 782\n",
      "Param = 5.00000 - classifier Evaluation Experiment 517 of 782\n",
      "Param = 5.00000 - classifier Evaluation Experiment 518 of 782\n",
      "Param = 5.00000 - classifier Evaluation Experiment 519 of 782\n",
      "Param = 5.00000 - classifier Evaluation Experiment 520 of 782\n",
      "Param = 5.00000 - classifier Evaluation Experiment 521 of 782\n",
      "Param = 5.00000 - classifier Evaluation Experiment 522 of 782\n",
      "Param = 5.00000 - classifier Evaluation Experiment 523 of 782\n",
      "Param = 5.00000 - classifier Evaluation Experiment 524 of 782\n",
      "Param = 5.00000 - classifier Evaluation Experiment 525 of 782\n",
      "Param = 5.00000 - classifier Evaluation Experiment 526 of 782\n",
      "Param = 5.00000 - classifier Evaluation Experiment 527 of 782\n",
      "Param = 5.00000 - classifier Evaluation Experiment 528 of 782\n",
      "Param = 5.00000 - classifier Evaluation Experiment 529 of 782\n",
      "Param = 5.00000 - classifier Evaluation Experiment 530 of 782\n",
      "Param = 5.00000 - classifier Evaluation Experiment 531 of 782\n",
      "Param = 5.00000 - classifier Evaluation Experiment 532 of 782\n",
      "Param = 5.00000 - classifier Evaluation Experiment 533 of 782\n",
      "Param = 5.00000 - classifier Evaluation Experiment 534 of 782\n",
      "Param = 5.00000 - classifier Evaluation Experiment 535 of 782\n",
      "Param = 5.00000 - classifier Evaluation Experiment 536 of 782\n",
      "Param = 5.00000 - classifier Evaluation Experiment 537 of 782\n",
      "Param = 5.00000 - classifier Evaluation Experiment 538 of 782\n",
      "Param = 5.00000 - classifier Evaluation Experiment 539 of 782\n",
      "Param = 5.00000 - classifier Evaluation Experiment 540 of 782\n",
      "Param = 5.00000 - classifier Evaluation Experiment 541 of 782\n",
      "Param = 5.00000 - classifier Evaluation Experiment 542 of 782\n",
      "Param = 5.00000 - classifier Evaluation Experiment 543 of 782\n",
      "Param = 5.00000 - classifier Evaluation Experiment 544 of 782\n",
      "Param = 5.00000 - classifier Evaluation Experiment 545 of 782\n",
      "Param = 5.00000 - classifier Evaluation Experiment 546 of 782\n",
      "Param = 5.00000 - classifier Evaluation Experiment 547 of 782\n",
      "Param = 5.00000 - classifier Evaluation Experiment 548 of 782\n",
      "Param = 5.00000 - classifier Evaluation Experiment 549 of 782\n",
      "Param = 5.00000 - classifier Evaluation Experiment 550 of 782\n",
      "Param = 5.00000 - classifier Evaluation Experiment 551 of 782\n",
      "Param = 5.00000 - classifier Evaluation Experiment 552 of 782\n",
      "Param = 5.00000 - classifier Evaluation Experiment 553 of 782\n",
      "Param = 5.00000 - classifier Evaluation Experiment 554 of 782\n",
      "Param = 5.00000 - classifier Evaluation Experiment 555 of 782\n",
      "Param = 5.00000 - classifier Evaluation Experiment 556 of 782\n",
      "Param = 5.00000 - classifier Evaluation Experiment 557 of 782\n",
      "Param = 5.00000 - classifier Evaluation Experiment 558 of 782\n",
      "Param = 5.00000 - classifier Evaluation Experiment 559 of 782\n",
      "Param = 5.00000 - classifier Evaluation Experiment 560 of 782\n",
      "Param = 5.00000 - classifier Evaluation Experiment 561 of 782\n",
      "Param = 5.00000 - classifier Evaluation Experiment 562 of 782\n",
      "Param = 5.00000 - classifier Evaluation Experiment 563 of 782\n",
      "Param = 5.00000 - classifier Evaluation Experiment 564 of 782\n",
      "Param = 5.00000 - classifier Evaluation Experiment 565 of 782\n",
      "Param = 5.00000 - classifier Evaluation Experiment 566 of 782\n",
      "Param = 5.00000 - classifier Evaluation Experiment 567 of 782\n",
      "Param = 5.00000 - classifier Evaluation Experiment 568 of 782\n",
      "Param = 5.00000 - classifier Evaluation Experiment 569 of 782\n",
      "Param = 5.00000 - classifier Evaluation Experiment 570 of 782\n",
      "Param = 5.00000 - classifier Evaluation Experiment 571 of 782\n",
      "Param = 5.00000 - classifier Evaluation Experiment 572 of 782\n",
      "Param = 5.00000 - classifier Evaluation Experiment 573 of 782\n",
      "Param = 5.00000 - classifier Evaluation Experiment 574 of 782\n",
      "Param = 5.00000 - classifier Evaluation Experiment 575 of 782\n",
      "Param = 5.00000 - classifier Evaluation Experiment 576 of 782\n",
      "Param = 5.00000 - classifier Evaluation Experiment 577 of 782\n",
      "Param = 5.00000 - classifier Evaluation Experiment 578 of 782\n",
      "Param = 5.00000 - classifier Evaluation Experiment 579 of 782\n",
      "Param = 5.00000 - classifier Evaluation Experiment 580 of 782\n",
      "Param = 5.00000 - classifier Evaluation Experiment 581 of 782\n",
      "Param = 5.00000 - classifier Evaluation Experiment 582 of 782\n",
      "Param = 5.00000 - classifier Evaluation Experiment 583 of 782\n",
      "Param = 5.00000 - classifier Evaluation Experiment 584 of 782\n",
      "Param = 5.00000 - classifier Evaluation Experiment 585 of 782\n",
      "Param = 5.00000 - classifier Evaluation Experiment 586 of 782\n",
      "Param = 5.00000 - classifier Evaluation Experiment 587 of 782\n",
      "Param = 5.00000 - classifier Evaluation Experiment 588 of 782\n",
      "Param = 5.00000 - classifier Evaluation Experiment 589 of 782\n",
      "Param = 5.00000 - classifier Evaluation Experiment 590 of 782\n",
      "Param = 5.00000 - classifier Evaluation Experiment 591 of 782\n",
      "Param = 5.00000 - classifier Evaluation Experiment 592 of 782\n",
      "Param = 5.00000 - classifier Evaluation Experiment 593 of 782\n",
      "Param = 5.00000 - classifier Evaluation Experiment 594 of 782\n",
      "Param = 5.00000 - classifier Evaluation Experiment 595 of 782\n",
      "Param = 5.00000 - classifier Evaluation Experiment 596 of 782\n",
      "Param = 5.00000 - classifier Evaluation Experiment 597 of 782\n",
      "Param = 5.00000 - classifier Evaluation Experiment 598 of 782\n",
      "Param = 5.00000 - classifier Evaluation Experiment 599 of 782\n",
      "Param = 5.00000 - classifier Evaluation Experiment 600 of 782\n",
      "Param = 5.00000 - classifier Evaluation Experiment 601 of 782\n",
      "Param = 5.00000 - classifier Evaluation Experiment 602 of 782\n",
      "Param = 5.00000 - classifier Evaluation Experiment 603 of 782\n",
      "Param = 5.00000 - classifier Evaluation Experiment 604 of 782\n",
      "Param = 5.00000 - classifier Evaluation Experiment 605 of 782\n",
      "Param = 5.00000 - classifier Evaluation Experiment 606 of 782\n",
      "Param = 5.00000 - classifier Evaluation Experiment 607 of 782\n",
      "Param = 5.00000 - classifier Evaluation Experiment 608 of 782\n",
      "Param = 5.00000 - classifier Evaluation Experiment 609 of 782\n",
      "Param = 5.00000 - classifier Evaluation Experiment 610 of 782\n",
      "Param = 5.00000 - classifier Evaluation Experiment 611 of 782\n",
      "Param = 5.00000 - classifier Evaluation Experiment 612 of 782\n",
      "Param = 5.00000 - classifier Evaluation Experiment 613 of 782\n",
      "Param = 5.00000 - classifier Evaluation Experiment 614 of 782\n",
      "Param = 5.00000 - classifier Evaluation Experiment 615 of 782\n",
      "Param = 5.00000 - classifier Evaluation Experiment 616 of 782\n",
      "Param = 5.00000 - classifier Evaluation Experiment 617 of 782\n",
      "Param = 5.00000 - classifier Evaluation Experiment 618 of 782\n",
      "Param = 5.00000 - classifier Evaluation Experiment 619 of 782\n",
      "Param = 5.00000 - classifier Evaluation Experiment 620 of 782\n",
      "Param = 5.00000 - classifier Evaluation Experiment 621 of 782\n",
      "Param = 5.00000 - classifier Evaluation Experiment 622 of 782\n",
      "Param = 5.00000 - classifier Evaluation Experiment 623 of 782\n",
      "Param = 5.00000 - classifier Evaluation Experiment 624 of 782\n",
      "Param = 5.00000 - classifier Evaluation Experiment 625 of 782\n",
      "Param = 5.00000 - classifier Evaluation Experiment 626 of 782\n",
      "Param = 5.00000 - classifier Evaluation Experiment 627 of 782\n",
      "Param = 5.00000 - classifier Evaluation Experiment 628 of 782\n",
      "Param = 5.00000 - classifier Evaluation Experiment 629 of 782\n",
      "Param = 5.00000 - classifier Evaluation Experiment 630 of 782\n",
      "Param = 5.00000 - classifier Evaluation Experiment 631 of 782\n",
      "Param = 5.00000 - classifier Evaluation Experiment 632 of 782\n",
      "Param = 5.00000 - classifier Evaluation Experiment 633 of 782\n",
      "Param = 5.00000 - classifier Evaluation Experiment 634 of 782\n",
      "Param = 5.00000 - classifier Evaluation Experiment 635 of 782\n",
      "Param = 5.00000 - classifier Evaluation Experiment 636 of 782\n",
      "Param = 5.00000 - classifier Evaluation Experiment 637 of 782\n",
      "Param = 5.00000 - classifier Evaluation Experiment 638 of 782\n",
      "Param = 5.00000 - classifier Evaluation Experiment 639 of 782\n",
      "Param = 5.00000 - classifier Evaluation Experiment 640 of 782\n",
      "Param = 5.00000 - classifier Evaluation Experiment 641 of 782\n",
      "Param = 5.00000 - classifier Evaluation Experiment 642 of 782\n",
      "Param = 5.00000 - classifier Evaluation Experiment 643 of 782\n",
      "Param = 5.00000 - classifier Evaluation Experiment 644 of 782\n",
      "Param = 5.00000 - classifier Evaluation Experiment 645 of 782\n",
      "Param = 5.00000 - classifier Evaluation Experiment 646 of 782\n",
      "Param = 5.00000 - classifier Evaluation Experiment 647 of 782\n",
      "Param = 5.00000 - classifier Evaluation Experiment 648 of 782\n",
      "Param = 5.00000 - classifier Evaluation Experiment 649 of 782\n",
      "Param = 5.00000 - classifier Evaluation Experiment 650 of 782\n",
      "Param = 5.00000 - classifier Evaluation Experiment 651 of 782\n",
      "Param = 5.00000 - classifier Evaluation Experiment 652 of 782\n",
      "Param = 5.00000 - classifier Evaluation Experiment 653 of 782\n",
      "Param = 5.00000 - classifier Evaluation Experiment 654 of 782\n",
      "Param = 5.00000 - classifier Evaluation Experiment 655 of 782\n",
      "Param = 5.00000 - classifier Evaluation Experiment 656 of 782\n",
      "Param = 5.00000 - classifier Evaluation Experiment 657 of 782\n",
      "Param = 5.00000 - classifier Evaluation Experiment 658 of 782\n",
      "Param = 5.00000 - classifier Evaluation Experiment 659 of 782\n",
      "Param = 5.00000 - classifier Evaluation Experiment 660 of 782\n",
      "Param = 5.00000 - classifier Evaluation Experiment 661 of 782\n",
      "Param = 5.00000 - classifier Evaluation Experiment 662 of 782\n",
      "Param = 5.00000 - classifier Evaluation Experiment 663 of 782\n",
      "Param = 5.00000 - classifier Evaluation Experiment 664 of 782\n",
      "Param = 5.00000 - classifier Evaluation Experiment 665 of 782\n",
      "Param = 5.00000 - classifier Evaluation Experiment 666 of 782\n",
      "Param = 5.00000 - classifier Evaluation Experiment 667 of 782\n",
      "Param = 5.00000 - classifier Evaluation Experiment 668 of 782\n",
      "Param = 5.00000 - classifier Evaluation Experiment 669 of 782\n",
      "Param = 5.00000 - classifier Evaluation Experiment 670 of 782\n",
      "Param = 5.00000 - classifier Evaluation Experiment 671 of 782\n",
      "Param = 5.00000 - classifier Evaluation Experiment 672 of 782\n",
      "Param = 5.00000 - classifier Evaluation Experiment 673 of 782\n",
      "Param = 5.00000 - classifier Evaluation Experiment 674 of 782\n",
      "Param = 5.00000 - classifier Evaluation Experiment 675 of 782\n",
      "Param = 5.00000 - classifier Evaluation Experiment 676 of 782\n",
      "Param = 5.00000 - classifier Evaluation Experiment 677 of 782\n",
      "Param = 5.00000 - classifier Evaluation Experiment 678 of 782\n",
      "Param = 5.00000 - classifier Evaluation Experiment 679 of 782\n",
      "Param = 5.00000 - classifier Evaluation Experiment 680 of 782\n",
      "Param = 5.00000 - classifier Evaluation Experiment 681 of 782\n",
      "Param = 5.00000 - classifier Evaluation Experiment 682 of 782\n",
      "Param = 5.00000 - classifier Evaluation Experiment 683 of 782\n",
      "Param = 5.00000 - classifier Evaluation Experiment 684 of 782\n",
      "Param = 5.00000 - classifier Evaluation Experiment 685 of 782\n",
      "Param = 5.00000 - classifier Evaluation Experiment 686 of 782\n",
      "Param = 5.00000 - classifier Evaluation Experiment 687 of 782\n",
      "Param = 5.00000 - classifier Evaluation Experiment 688 of 782\n",
      "Param = 5.00000 - classifier Evaluation Experiment 689 of 782\n",
      "Param = 5.00000 - classifier Evaluation Experiment 690 of 782\n",
      "Param = 5.00000 - classifier Evaluation Experiment 691 of 782\n",
      "Param = 5.00000 - classifier Evaluation Experiment 692 of 782\n",
      "Param = 5.00000 - classifier Evaluation Experiment 693 of 782\n",
      "Param = 5.00000 - classifier Evaluation Experiment 694 of 782\n",
      "Param = 5.00000 - classifier Evaluation Experiment 695 of 782\n",
      "Param = 5.00000 - classifier Evaluation Experiment 696 of 782\n",
      "Param = 5.00000 - classifier Evaluation Experiment 697 of 782\n",
      "Param = 5.00000 - classifier Evaluation Experiment 698 of 782\n",
      "Param = 5.00000 - classifier Evaluation Experiment 699 of 782\n",
      "Param = 5.00000 - classifier Evaluation Experiment 700 of 782\n",
      "Param = 5.00000 - classifier Evaluation Experiment 701 of 782\n",
      "Param = 5.00000 - classifier Evaluation Experiment 702 of 782\n",
      "Param = 5.00000 - classifier Evaluation Experiment 703 of 782\n",
      "Param = 5.00000 - classifier Evaluation Experiment 704 of 782\n",
      "Param = 5.00000 - classifier Evaluation Experiment 705 of 782\n",
      "Param = 5.00000 - classifier Evaluation Experiment 706 of 782\n",
      "Param = 5.00000 - classifier Evaluation Experiment 707 of 782\n",
      "Param = 5.00000 - classifier Evaluation Experiment 708 of 782\n",
      "Param = 5.00000 - classifier Evaluation Experiment 709 of 782\n",
      "Param = 5.00000 - classifier Evaluation Experiment 710 of 782\n",
      "Param = 5.00000 - classifier Evaluation Experiment 711 of 782\n",
      "Param = 5.00000 - classifier Evaluation Experiment 712 of 782\n",
      "Param = 5.00000 - classifier Evaluation Experiment 713 of 782\n",
      "Param = 5.00000 - classifier Evaluation Experiment 714 of 782\n",
      "Param = 5.00000 - classifier Evaluation Experiment 715 of 782\n",
      "Param = 5.00000 - classifier Evaluation Experiment 716 of 782\n",
      "Param = 5.00000 - classifier Evaluation Experiment 717 of 782\n",
      "Param = 5.00000 - classifier Evaluation Experiment 718 of 782\n",
      "Param = 5.00000 - classifier Evaluation Experiment 719 of 782\n",
      "Param = 5.00000 - classifier Evaluation Experiment 720 of 782\n",
      "Param = 5.00000 - classifier Evaluation Experiment 721 of 782\n",
      "Param = 5.00000 - classifier Evaluation Experiment 722 of 782\n",
      "Param = 5.00000 - classifier Evaluation Experiment 723 of 782\n",
      "Param = 5.00000 - classifier Evaluation Experiment 724 of 782\n",
      "Param = 5.00000 - classifier Evaluation Experiment 725 of 782\n",
      "Param = 5.00000 - classifier Evaluation Experiment 726 of 782\n",
      "Param = 5.00000 - classifier Evaluation Experiment 727 of 782\n",
      "Param = 5.00000 - classifier Evaluation Experiment 728 of 782\n",
      "Param = 5.00000 - classifier Evaluation Experiment 729 of 782\n",
      "Param = 5.00000 - classifier Evaluation Experiment 730 of 782\n",
      "Param = 5.00000 - classifier Evaluation Experiment 731 of 782\n",
      "Param = 5.00000 - classifier Evaluation Experiment 732 of 782\n",
      "Param = 5.00000 - classifier Evaluation Experiment 733 of 782\n",
      "Param = 5.00000 - classifier Evaluation Experiment 734 of 782\n",
      "Param = 5.00000 - classifier Evaluation Experiment 735 of 782\n",
      "Param = 5.00000 - classifier Evaluation Experiment 736 of 782\n",
      "Param = 5.00000 - classifier Evaluation Experiment 737 of 782\n",
      "Param = 5.00000 - classifier Evaluation Experiment 738 of 782\n",
      "Param = 5.00000 - classifier Evaluation Experiment 739 of 782\n",
      "Param = 5.00000 - classifier Evaluation Experiment 740 of 782\n",
      "Param = 5.00000 - classifier Evaluation Experiment 741 of 782\n",
      "Param = 5.00000 - classifier Evaluation Experiment 742 of 782\n",
      "Param = 5.00000 - classifier Evaluation Experiment 743 of 782\n",
      "Param = 5.00000 - classifier Evaluation Experiment 744 of 782\n",
      "Param = 5.00000 - classifier Evaluation Experiment 745 of 782\n",
      "Param = 5.00000 - classifier Evaluation Experiment 746 of 782\n",
      "Param = 5.00000 - classifier Evaluation Experiment 747 of 782\n",
      "Param = 5.00000 - classifier Evaluation Experiment 748 of 782\n",
      "Param = 5.00000 - classifier Evaluation Experiment 749 of 782\n",
      "Param = 5.00000 - classifier Evaluation Experiment 750 of 782\n",
      "Param = 5.00000 - classifier Evaluation Experiment 751 of 782\n",
      "Param = 5.00000 - classifier Evaluation Experiment 752 of 782\n",
      "Param = 5.00000 - classifier Evaluation Experiment 753 of 782\n",
      "Param = 5.00000 - classifier Evaluation Experiment 754 of 782\n",
      "Param = 5.00000 - classifier Evaluation Experiment 755 of 782\n",
      "Param = 5.00000 - classifier Evaluation Experiment 756 of 782\n",
      "Param = 5.00000 - classifier Evaluation Experiment 757 of 782\n",
      "Param = 5.00000 - classifier Evaluation Experiment 758 of 782\n",
      "Param = 5.00000 - classifier Evaluation Experiment 759 of 782\n",
      "Param = 5.00000 - classifier Evaluation Experiment 760 of 782\n",
      "Param = 5.00000 - classifier Evaluation Experiment 761 of 782\n",
      "Param = 5.00000 - classifier Evaluation Experiment 762 of 782\n",
      "Param = 5.00000 - classifier Evaluation Experiment 763 of 782\n",
      "Param = 5.00000 - classifier Evaluation Experiment 764 of 782\n",
      "Param = 5.00000 - classifier Evaluation Experiment 765 of 782\n",
      "Param = 5.00000 - classifier Evaluation Experiment 766 of 782\n",
      "Param = 5.00000 - classifier Evaluation Experiment 767 of 782\n",
      "Param = 5.00000 - classifier Evaluation Experiment 768 of 782\n",
      "Param = 5.00000 - classifier Evaluation Experiment 769 of 782\n",
      "Param = 5.00000 - classifier Evaluation Experiment 770 of 782\n",
      "Param = 5.00000 - classifier Evaluation Experiment 771 of 782\n",
      "Param = 5.00000 - classifier Evaluation Experiment 772 of 782\n",
      "Param = 5.00000 - classifier Evaluation Experiment 773 of 782\n",
      "Param = 5.00000 - classifier Evaluation Experiment 774 of 782\n",
      "Param = 5.00000 - classifier Evaluation Experiment 775 of 782\n",
      "Param = 5.00000 - classifier Evaluation Experiment 776 of 782\n",
      "Param = 5.00000 - classifier Evaluation Experiment 777 of 782\n",
      "Param = 5.00000 - classifier Evaluation Experiment 778 of 782\n",
      "Param = 5.00000 - classifier Evaluation Experiment 779 of 782\n",
      "Param = 5.00000 - classifier Evaluation Experiment 780 of 782\n",
      "Param = 5.00000 - classifier Evaluation Experiment 781 of 782\n",
      "Param = 5.00000 - classifier Evaluation Experiment 782 of 782\n",
      "Param = 10.00000 - classifier Evaluation Experiment 1 of 782\n",
      "Param = 10.00000 - classifier Evaluation Experiment 2 of 782\n",
      "Param = 10.00000 - classifier Evaluation Experiment 3 of 782\n",
      "Param = 10.00000 - classifier Evaluation Experiment 4 of 782\n",
      "Param = 10.00000 - classifier Evaluation Experiment 5 of 782\n",
      "Param = 10.00000 - classifier Evaluation Experiment 6 of 782\n",
      "Param = 10.00000 - classifier Evaluation Experiment 7 of 782\n",
      "Param = 10.00000 - classifier Evaluation Experiment 8 of 782\n",
      "Param = 10.00000 - classifier Evaluation Experiment 9 of 782\n",
      "Param = 10.00000 - classifier Evaluation Experiment 10 of 782\n",
      "Param = 10.00000 - classifier Evaluation Experiment 11 of 782\n",
      "Param = 10.00000 - classifier Evaluation Experiment 12 of 782\n",
      "Param = 10.00000 - classifier Evaluation Experiment 13 of 782\n",
      "Param = 10.00000 - classifier Evaluation Experiment 14 of 782\n",
      "Param = 10.00000 - classifier Evaluation Experiment 15 of 782\n",
      "Param = 10.00000 - classifier Evaluation Experiment 16 of 782\n",
      "Param = 10.00000 - classifier Evaluation Experiment 17 of 782\n",
      "Param = 10.00000 - classifier Evaluation Experiment 18 of 782\n",
      "Param = 10.00000 - classifier Evaluation Experiment 19 of 782\n",
      "Param = 10.00000 - classifier Evaluation Experiment 20 of 782\n",
      "Param = 10.00000 - classifier Evaluation Experiment 21 of 782\n",
      "Param = 10.00000 - classifier Evaluation Experiment 22 of 782\n",
      "Param = 10.00000 - classifier Evaluation Experiment 23 of 782\n",
      "Param = 10.00000 - classifier Evaluation Experiment 24 of 782\n",
      "Param = 10.00000 - classifier Evaluation Experiment 25 of 782\n",
      "Param = 10.00000 - classifier Evaluation Experiment 26 of 782\n",
      "Param = 10.00000 - classifier Evaluation Experiment 27 of 782\n",
      "Param = 10.00000 - classifier Evaluation Experiment 28 of 782\n",
      "Param = 10.00000 - classifier Evaluation Experiment 29 of 782\n",
      "Param = 10.00000 - classifier Evaluation Experiment 30 of 782\n",
      "Param = 10.00000 - classifier Evaluation Experiment 31 of 782\n",
      "Param = 10.00000 - classifier Evaluation Experiment 32 of 782\n",
      "Param = 10.00000 - classifier Evaluation Experiment 33 of 782\n",
      "Param = 10.00000 - classifier Evaluation Experiment 34 of 782\n",
      "Param = 10.00000 - classifier Evaluation Experiment 35 of 782\n",
      "Param = 10.00000 - classifier Evaluation Experiment 36 of 782\n",
      "Param = 10.00000 - classifier Evaluation Experiment 37 of 782\n",
      "Param = 10.00000 - classifier Evaluation Experiment 38 of 782\n",
      "Param = 10.00000 - classifier Evaluation Experiment 39 of 782\n",
      "Param = 10.00000 - classifier Evaluation Experiment 40 of 782\n",
      "Param = 10.00000 - classifier Evaluation Experiment 41 of 782\n",
      "Param = 10.00000 - classifier Evaluation Experiment 42 of 782\n",
      "Param = 10.00000 - classifier Evaluation Experiment 43 of 782\n",
      "Param = 10.00000 - classifier Evaluation Experiment 44 of 782\n",
      "Param = 10.00000 - classifier Evaluation Experiment 45 of 782\n",
      "Param = 10.00000 - classifier Evaluation Experiment 46 of 782\n",
      "Param = 10.00000 - classifier Evaluation Experiment 47 of 782\n",
      "Param = 10.00000 - classifier Evaluation Experiment 48 of 782\n",
      "Param = 10.00000 - classifier Evaluation Experiment 49 of 782\n",
      "Param = 10.00000 - classifier Evaluation Experiment 50 of 782\n",
      "Param = 10.00000 - classifier Evaluation Experiment 51 of 782\n",
      "Param = 10.00000 - classifier Evaluation Experiment 52 of 782\n",
      "Param = 10.00000 - classifier Evaluation Experiment 53 of 782\n",
      "Param = 10.00000 - classifier Evaluation Experiment 54 of 782\n",
      "Param = 10.00000 - classifier Evaluation Experiment 55 of 782\n",
      "Param = 10.00000 - classifier Evaluation Experiment 56 of 782\n",
      "Param = 10.00000 - classifier Evaluation Experiment 57 of 782\n",
      "Param = 10.00000 - classifier Evaluation Experiment 58 of 782\n",
      "Param = 10.00000 - classifier Evaluation Experiment 59 of 782\n",
      "Param = 10.00000 - classifier Evaluation Experiment 60 of 782\n",
      "Param = 10.00000 - classifier Evaluation Experiment 61 of 782\n",
      "Param = 10.00000 - classifier Evaluation Experiment 62 of 782\n",
      "Param = 10.00000 - classifier Evaluation Experiment 63 of 782\n",
      "Param = 10.00000 - classifier Evaluation Experiment 64 of 782\n",
      "Param = 10.00000 - classifier Evaluation Experiment 65 of 782\n",
      "Param = 10.00000 - classifier Evaluation Experiment 66 of 782\n",
      "Param = 10.00000 - classifier Evaluation Experiment 67 of 782\n",
      "Param = 10.00000 - classifier Evaluation Experiment 68 of 782\n",
      "Param = 10.00000 - classifier Evaluation Experiment 69 of 782\n",
      "Param = 10.00000 - classifier Evaluation Experiment 70 of 782\n",
      "Param = 10.00000 - classifier Evaluation Experiment 71 of 782\n",
      "Param = 10.00000 - classifier Evaluation Experiment 72 of 782\n",
      "Param = 10.00000 - classifier Evaluation Experiment 73 of 782\n",
      "Param = 10.00000 - classifier Evaluation Experiment 74 of 782\n",
      "Param = 10.00000 - classifier Evaluation Experiment 75 of 782\n",
      "Param = 10.00000 - classifier Evaluation Experiment 76 of 782\n",
      "Param = 10.00000 - classifier Evaluation Experiment 77 of 782\n",
      "Param = 10.00000 - classifier Evaluation Experiment 78 of 782\n",
      "Param = 10.00000 - classifier Evaluation Experiment 79 of 782\n",
      "Param = 10.00000 - classifier Evaluation Experiment 80 of 782\n",
      "Param = 10.00000 - classifier Evaluation Experiment 81 of 782\n",
      "Param = 10.00000 - classifier Evaluation Experiment 82 of 782\n",
      "Param = 10.00000 - classifier Evaluation Experiment 83 of 782\n",
      "Param = 10.00000 - classifier Evaluation Experiment 84 of 782\n",
      "Param = 10.00000 - classifier Evaluation Experiment 85 of 782\n",
      "Param = 10.00000 - classifier Evaluation Experiment 86 of 782\n",
      "Param = 10.00000 - classifier Evaluation Experiment 87 of 782\n",
      "Param = 10.00000 - classifier Evaluation Experiment 88 of 782\n",
      "Param = 10.00000 - classifier Evaluation Experiment 89 of 782\n",
      "Param = 10.00000 - classifier Evaluation Experiment 90 of 782\n",
      "Param = 10.00000 - classifier Evaluation Experiment 91 of 782\n",
      "Param = 10.00000 - classifier Evaluation Experiment 92 of 782\n",
      "Param = 10.00000 - classifier Evaluation Experiment 93 of 782\n",
      "Param = 10.00000 - classifier Evaluation Experiment 94 of 782\n",
      "Param = 10.00000 - classifier Evaluation Experiment 95 of 782\n",
      "Param = 10.00000 - classifier Evaluation Experiment 96 of 782\n",
      "Param = 10.00000 - classifier Evaluation Experiment 97 of 782\n",
      "Param = 10.00000 - classifier Evaluation Experiment 98 of 782\n",
      "Param = 10.00000 - classifier Evaluation Experiment 99 of 782\n",
      "Param = 10.00000 - classifier Evaluation Experiment 100 of 782\n",
      "Param = 10.00000 - classifier Evaluation Experiment 101 of 782\n",
      "Param = 10.00000 - classifier Evaluation Experiment 102 of 782\n",
      "Param = 10.00000 - classifier Evaluation Experiment 103 of 782\n",
      "Param = 10.00000 - classifier Evaluation Experiment 104 of 782\n",
      "Param = 10.00000 - classifier Evaluation Experiment 105 of 782\n",
      "Param = 10.00000 - classifier Evaluation Experiment 106 of 782\n",
      "Param = 10.00000 - classifier Evaluation Experiment 107 of 782\n",
      "Param = 10.00000 - classifier Evaluation Experiment 108 of 782\n",
      "Param = 10.00000 - classifier Evaluation Experiment 109 of 782\n",
      "Param = 10.00000 - classifier Evaluation Experiment 110 of 782\n",
      "Param = 10.00000 - classifier Evaluation Experiment 111 of 782\n",
      "Param = 10.00000 - classifier Evaluation Experiment 112 of 782\n",
      "Param = 10.00000 - classifier Evaluation Experiment 113 of 782\n",
      "Param = 10.00000 - classifier Evaluation Experiment 114 of 782\n",
      "Param = 10.00000 - classifier Evaluation Experiment 115 of 782\n",
      "Param = 10.00000 - classifier Evaluation Experiment 116 of 782\n",
      "Param = 10.00000 - classifier Evaluation Experiment 117 of 782\n",
      "Param = 10.00000 - classifier Evaluation Experiment 118 of 782\n",
      "Param = 10.00000 - classifier Evaluation Experiment 119 of 782\n",
      "Param = 10.00000 - classifier Evaluation Experiment 120 of 782\n",
      "Param = 10.00000 - classifier Evaluation Experiment 121 of 782\n",
      "Param = 10.00000 - classifier Evaluation Experiment 122 of 782\n",
      "Param = 10.00000 - classifier Evaluation Experiment 123 of 782\n",
      "Param = 10.00000 - classifier Evaluation Experiment 124 of 782\n",
      "Param = 10.00000 - classifier Evaluation Experiment 125 of 782\n",
      "Param = 10.00000 - classifier Evaluation Experiment 126 of 782\n",
      "Param = 10.00000 - classifier Evaluation Experiment 127 of 782\n",
      "Param = 10.00000 - classifier Evaluation Experiment 128 of 782\n",
      "Param = 10.00000 - classifier Evaluation Experiment 129 of 782\n",
      "Param = 10.00000 - classifier Evaluation Experiment 130 of 782\n",
      "Param = 10.00000 - classifier Evaluation Experiment 131 of 782\n",
      "Param = 10.00000 - classifier Evaluation Experiment 132 of 782\n",
      "Param = 10.00000 - classifier Evaluation Experiment 133 of 782\n",
      "Param = 10.00000 - classifier Evaluation Experiment 134 of 782\n",
      "Param = 10.00000 - classifier Evaluation Experiment 135 of 782\n",
      "Param = 10.00000 - classifier Evaluation Experiment 136 of 782\n",
      "Param = 10.00000 - classifier Evaluation Experiment 137 of 782\n",
      "Param = 10.00000 - classifier Evaluation Experiment 138 of 782\n",
      "Param = 10.00000 - classifier Evaluation Experiment 139 of 782\n",
      "Param = 10.00000 - classifier Evaluation Experiment 140 of 782\n",
      "Param = 10.00000 - classifier Evaluation Experiment 141 of 782\n",
      "Param = 10.00000 - classifier Evaluation Experiment 142 of 782\n",
      "Param = 10.00000 - classifier Evaluation Experiment 143 of 782\n",
      "Param = 10.00000 - classifier Evaluation Experiment 144 of 782\n",
      "Param = 10.00000 - classifier Evaluation Experiment 145 of 782\n",
      "Param = 10.00000 - classifier Evaluation Experiment 146 of 782\n",
      "Param = 10.00000 - classifier Evaluation Experiment 147 of 782\n",
      "Param = 10.00000 - classifier Evaluation Experiment 148 of 782\n",
      "Param = 10.00000 - classifier Evaluation Experiment 149 of 782\n",
      "Param = 10.00000 - classifier Evaluation Experiment 150 of 782\n",
      "Param = 10.00000 - classifier Evaluation Experiment 151 of 782\n",
      "Param = 10.00000 - classifier Evaluation Experiment 152 of 782\n",
      "Param = 10.00000 - classifier Evaluation Experiment 153 of 782\n",
      "Param = 10.00000 - classifier Evaluation Experiment 154 of 782\n",
      "Param = 10.00000 - classifier Evaluation Experiment 155 of 782\n",
      "Param = 10.00000 - classifier Evaluation Experiment 156 of 782\n",
      "Param = 10.00000 - classifier Evaluation Experiment 157 of 782\n",
      "Param = 10.00000 - classifier Evaluation Experiment 158 of 782\n",
      "Param = 10.00000 - classifier Evaluation Experiment 159 of 782\n",
      "Param = 10.00000 - classifier Evaluation Experiment 160 of 782\n",
      "Param = 10.00000 - classifier Evaluation Experiment 161 of 782\n",
      "Param = 10.00000 - classifier Evaluation Experiment 162 of 782\n",
      "Param = 10.00000 - classifier Evaluation Experiment 163 of 782\n",
      "Param = 10.00000 - classifier Evaluation Experiment 164 of 782\n",
      "Param = 10.00000 - classifier Evaluation Experiment 165 of 782\n",
      "Param = 10.00000 - classifier Evaluation Experiment 166 of 782\n",
      "Param = 10.00000 - classifier Evaluation Experiment 167 of 782\n",
      "Param = 10.00000 - classifier Evaluation Experiment 168 of 782\n",
      "Param = 10.00000 - classifier Evaluation Experiment 169 of 782\n",
      "Param = 10.00000 - classifier Evaluation Experiment 170 of 782\n",
      "Param = 10.00000 - classifier Evaluation Experiment 171 of 782\n",
      "Param = 10.00000 - classifier Evaluation Experiment 172 of 782\n",
      "Param = 10.00000 - classifier Evaluation Experiment 173 of 782\n",
      "Param = 10.00000 - classifier Evaluation Experiment 174 of 782\n",
      "Param = 10.00000 - classifier Evaluation Experiment 175 of 782\n",
      "Param = 10.00000 - classifier Evaluation Experiment 176 of 782\n",
      "Param = 10.00000 - classifier Evaluation Experiment 177 of 782\n",
      "Param = 10.00000 - classifier Evaluation Experiment 178 of 782\n",
      "Param = 10.00000 - classifier Evaluation Experiment 179 of 782\n",
      "Param = 10.00000 - classifier Evaluation Experiment 180 of 782\n",
      "Param = 10.00000 - classifier Evaluation Experiment 181 of 782\n",
      "Param = 10.00000 - classifier Evaluation Experiment 182 of 782\n",
      "Param = 10.00000 - classifier Evaluation Experiment 183 of 782\n",
      "Param = 10.00000 - classifier Evaluation Experiment 184 of 782\n",
      "Param = 10.00000 - classifier Evaluation Experiment 185 of 782\n",
      "Param = 10.00000 - classifier Evaluation Experiment 186 of 782\n",
      "Param = 10.00000 - classifier Evaluation Experiment 187 of 782\n",
      "Param = 10.00000 - classifier Evaluation Experiment 188 of 782\n",
      "Param = 10.00000 - classifier Evaluation Experiment 189 of 782\n",
      "Param = 10.00000 - classifier Evaluation Experiment 190 of 782\n",
      "Param = 10.00000 - classifier Evaluation Experiment 191 of 782\n",
      "Param = 10.00000 - classifier Evaluation Experiment 192 of 782\n",
      "Param = 10.00000 - classifier Evaluation Experiment 193 of 782\n",
      "Param = 10.00000 - classifier Evaluation Experiment 194 of 782\n",
      "Param = 10.00000 - classifier Evaluation Experiment 195 of 782\n",
      "Param = 10.00000 - classifier Evaluation Experiment 196 of 782\n",
      "Param = 10.00000 - classifier Evaluation Experiment 197 of 782\n",
      "Param = 10.00000 - classifier Evaluation Experiment 198 of 782\n",
      "Param = 10.00000 - classifier Evaluation Experiment 199 of 782\n",
      "Param = 10.00000 - classifier Evaluation Experiment 200 of 782\n",
      "Param = 10.00000 - classifier Evaluation Experiment 201 of 782\n",
      "Param = 10.00000 - classifier Evaluation Experiment 202 of 782\n",
      "Param = 10.00000 - classifier Evaluation Experiment 203 of 782\n",
      "Param = 10.00000 - classifier Evaluation Experiment 204 of 782\n",
      "Param = 10.00000 - classifier Evaluation Experiment 205 of 782\n",
      "Param = 10.00000 - classifier Evaluation Experiment 206 of 782\n",
      "Param = 10.00000 - classifier Evaluation Experiment 207 of 782\n",
      "Param = 10.00000 - classifier Evaluation Experiment 208 of 782\n",
      "Param = 10.00000 - classifier Evaluation Experiment 209 of 782\n",
      "Param = 10.00000 - classifier Evaluation Experiment 210 of 782\n",
      "Param = 10.00000 - classifier Evaluation Experiment 211 of 782\n",
      "Param = 10.00000 - classifier Evaluation Experiment 212 of 782\n",
      "Param = 10.00000 - classifier Evaluation Experiment 213 of 782\n",
      "Param = 10.00000 - classifier Evaluation Experiment 214 of 782\n",
      "Param = 10.00000 - classifier Evaluation Experiment 215 of 782\n",
      "Param = 10.00000 - classifier Evaluation Experiment 216 of 782\n",
      "Param = 10.00000 - classifier Evaluation Experiment 217 of 782\n",
      "Param = 10.00000 - classifier Evaluation Experiment 218 of 782\n",
      "Param = 10.00000 - classifier Evaluation Experiment 219 of 782\n",
      "Param = 10.00000 - classifier Evaluation Experiment 220 of 782\n",
      "Param = 10.00000 - classifier Evaluation Experiment 221 of 782\n",
      "Param = 10.00000 - classifier Evaluation Experiment 222 of 782\n",
      "Param = 10.00000 - classifier Evaluation Experiment 223 of 782\n",
      "Param = 10.00000 - classifier Evaluation Experiment 224 of 782\n",
      "Param = 10.00000 - classifier Evaluation Experiment 225 of 782\n",
      "Param = 10.00000 - classifier Evaluation Experiment 226 of 782\n",
      "Param = 10.00000 - classifier Evaluation Experiment 227 of 782\n",
      "Param = 10.00000 - classifier Evaluation Experiment 228 of 782\n",
      "Param = 10.00000 - classifier Evaluation Experiment 229 of 782\n",
      "Param = 10.00000 - classifier Evaluation Experiment 230 of 782\n",
      "Param = 10.00000 - classifier Evaluation Experiment 231 of 782\n",
      "Param = 10.00000 - classifier Evaluation Experiment 232 of 782\n",
      "Param = 10.00000 - classifier Evaluation Experiment 233 of 782\n",
      "Param = 10.00000 - classifier Evaluation Experiment 234 of 782\n",
      "Param = 10.00000 - classifier Evaluation Experiment 235 of 782\n",
      "Param = 10.00000 - classifier Evaluation Experiment 236 of 782\n",
      "Param = 10.00000 - classifier Evaluation Experiment 237 of 782\n",
      "Param = 10.00000 - classifier Evaluation Experiment 238 of 782\n",
      "Param = 10.00000 - classifier Evaluation Experiment 239 of 782\n",
      "Param = 10.00000 - classifier Evaluation Experiment 240 of 782\n",
      "Param = 10.00000 - classifier Evaluation Experiment 241 of 782\n",
      "Param = 10.00000 - classifier Evaluation Experiment 242 of 782\n",
      "Param = 10.00000 - classifier Evaluation Experiment 243 of 782\n",
      "Param = 10.00000 - classifier Evaluation Experiment 244 of 782\n",
      "Param = 10.00000 - classifier Evaluation Experiment 245 of 782\n",
      "Param = 10.00000 - classifier Evaluation Experiment 246 of 782\n",
      "Param = 10.00000 - classifier Evaluation Experiment 247 of 782\n",
      "Param = 10.00000 - classifier Evaluation Experiment 248 of 782\n",
      "Param = 10.00000 - classifier Evaluation Experiment 249 of 782\n",
      "Param = 10.00000 - classifier Evaluation Experiment 250 of 782\n",
      "Param = 10.00000 - classifier Evaluation Experiment 251 of 782\n",
      "Param = 10.00000 - classifier Evaluation Experiment 252 of 782\n",
      "Param = 10.00000 - classifier Evaluation Experiment 253 of 782\n",
      "Param = 10.00000 - classifier Evaluation Experiment 254 of 782\n",
      "Param = 10.00000 - classifier Evaluation Experiment 255 of 782\n",
      "Param = 10.00000 - classifier Evaluation Experiment 256 of 782\n",
      "Param = 10.00000 - classifier Evaluation Experiment 257 of 782\n",
      "Param = 10.00000 - classifier Evaluation Experiment 258 of 782\n",
      "Param = 10.00000 - classifier Evaluation Experiment 259 of 782\n",
      "Param = 10.00000 - classifier Evaluation Experiment 260 of 782\n",
      "Param = 10.00000 - classifier Evaluation Experiment 261 of 782\n",
      "Param = 10.00000 - classifier Evaluation Experiment 262 of 782\n",
      "Param = 10.00000 - classifier Evaluation Experiment 263 of 782\n",
      "Param = 10.00000 - classifier Evaluation Experiment 264 of 782\n",
      "Param = 10.00000 - classifier Evaluation Experiment 265 of 782\n",
      "Param = 10.00000 - classifier Evaluation Experiment 266 of 782\n",
      "Param = 10.00000 - classifier Evaluation Experiment 267 of 782\n",
      "Param = 10.00000 - classifier Evaluation Experiment 268 of 782\n",
      "Param = 10.00000 - classifier Evaluation Experiment 269 of 782\n",
      "Param = 10.00000 - classifier Evaluation Experiment 270 of 782\n",
      "Param = 10.00000 - classifier Evaluation Experiment 271 of 782\n",
      "Param = 10.00000 - classifier Evaluation Experiment 272 of 782\n",
      "Param = 10.00000 - classifier Evaluation Experiment 273 of 782\n",
      "Param = 10.00000 - classifier Evaluation Experiment 274 of 782\n",
      "Param = 10.00000 - classifier Evaluation Experiment 275 of 782\n",
      "Param = 10.00000 - classifier Evaluation Experiment 276 of 782\n",
      "Param = 10.00000 - classifier Evaluation Experiment 277 of 782\n",
      "Param = 10.00000 - classifier Evaluation Experiment 278 of 782\n",
      "Param = 10.00000 - classifier Evaluation Experiment 279 of 782\n",
      "Param = 10.00000 - classifier Evaluation Experiment 280 of 782\n",
      "Param = 10.00000 - classifier Evaluation Experiment 281 of 782\n",
      "Param = 10.00000 - classifier Evaluation Experiment 282 of 782\n",
      "Param = 10.00000 - classifier Evaluation Experiment 283 of 782\n",
      "Param = 10.00000 - classifier Evaluation Experiment 284 of 782\n",
      "Param = 10.00000 - classifier Evaluation Experiment 285 of 782\n",
      "Param = 10.00000 - classifier Evaluation Experiment 286 of 782\n",
      "Param = 10.00000 - classifier Evaluation Experiment 287 of 782\n",
      "Param = 10.00000 - classifier Evaluation Experiment 288 of 782\n",
      "Param = 10.00000 - classifier Evaluation Experiment 289 of 782\n",
      "Param = 10.00000 - classifier Evaluation Experiment 290 of 782\n",
      "Param = 10.00000 - classifier Evaluation Experiment 291 of 782\n",
      "Param = 10.00000 - classifier Evaluation Experiment 292 of 782\n",
      "Param = 10.00000 - classifier Evaluation Experiment 293 of 782\n",
      "Param = 10.00000 - classifier Evaluation Experiment 294 of 782\n",
      "Param = 10.00000 - classifier Evaluation Experiment 295 of 782\n",
      "Param = 10.00000 - classifier Evaluation Experiment 296 of 782\n",
      "Param = 10.00000 - classifier Evaluation Experiment 297 of 782\n",
      "Param = 10.00000 - classifier Evaluation Experiment 298 of 782\n",
      "Param = 10.00000 - classifier Evaluation Experiment 299 of 782\n",
      "Param = 10.00000 - classifier Evaluation Experiment 300 of 782\n",
      "Param = 10.00000 - classifier Evaluation Experiment 301 of 782\n",
      "Param = 10.00000 - classifier Evaluation Experiment 302 of 782\n",
      "Param = 10.00000 - classifier Evaluation Experiment 303 of 782\n",
      "Param = 10.00000 - classifier Evaluation Experiment 304 of 782\n",
      "Param = 10.00000 - classifier Evaluation Experiment 305 of 782\n",
      "Param = 10.00000 - classifier Evaluation Experiment 306 of 782\n",
      "Param = 10.00000 - classifier Evaluation Experiment 307 of 782\n",
      "Param = 10.00000 - classifier Evaluation Experiment 308 of 782\n",
      "Param = 10.00000 - classifier Evaluation Experiment 309 of 782\n",
      "Param = 10.00000 - classifier Evaluation Experiment 310 of 782\n",
      "Param = 10.00000 - classifier Evaluation Experiment 311 of 782\n",
      "Param = 10.00000 - classifier Evaluation Experiment 312 of 782\n",
      "Param = 10.00000 - classifier Evaluation Experiment 313 of 782\n",
      "Param = 10.00000 - classifier Evaluation Experiment 314 of 782\n",
      "Param = 10.00000 - classifier Evaluation Experiment 315 of 782\n",
      "Param = 10.00000 - classifier Evaluation Experiment 316 of 782\n",
      "Param = 10.00000 - classifier Evaluation Experiment 317 of 782\n",
      "Param = 10.00000 - classifier Evaluation Experiment 318 of 782\n",
      "Param = 10.00000 - classifier Evaluation Experiment 319 of 782\n",
      "Param = 10.00000 - classifier Evaluation Experiment 320 of 782\n",
      "Param = 10.00000 - classifier Evaluation Experiment 321 of 782\n",
      "Param = 10.00000 - classifier Evaluation Experiment 322 of 782\n",
      "Param = 10.00000 - classifier Evaluation Experiment 323 of 782\n",
      "Param = 10.00000 - classifier Evaluation Experiment 324 of 782\n",
      "Param = 10.00000 - classifier Evaluation Experiment 325 of 782\n",
      "Param = 10.00000 - classifier Evaluation Experiment 326 of 782\n",
      "Param = 10.00000 - classifier Evaluation Experiment 327 of 782\n",
      "Param = 10.00000 - classifier Evaluation Experiment 328 of 782\n",
      "Param = 10.00000 - classifier Evaluation Experiment 329 of 782\n",
      "Param = 10.00000 - classifier Evaluation Experiment 330 of 782\n",
      "Param = 10.00000 - classifier Evaluation Experiment 331 of 782\n",
      "Param = 10.00000 - classifier Evaluation Experiment 332 of 782\n",
      "Param = 10.00000 - classifier Evaluation Experiment 333 of 782\n",
      "Param = 10.00000 - classifier Evaluation Experiment 334 of 782\n",
      "Param = 10.00000 - classifier Evaluation Experiment 335 of 782\n",
      "Param = 10.00000 - classifier Evaluation Experiment 336 of 782\n",
      "Param = 10.00000 - classifier Evaluation Experiment 337 of 782\n",
      "Param = 10.00000 - classifier Evaluation Experiment 338 of 782\n",
      "Param = 10.00000 - classifier Evaluation Experiment 339 of 782\n",
      "Param = 10.00000 - classifier Evaluation Experiment 340 of 782\n",
      "Param = 10.00000 - classifier Evaluation Experiment 341 of 782\n",
      "Param = 10.00000 - classifier Evaluation Experiment 342 of 782\n",
      "Param = 10.00000 - classifier Evaluation Experiment 343 of 782\n",
      "Param = 10.00000 - classifier Evaluation Experiment 344 of 782\n",
      "Param = 10.00000 - classifier Evaluation Experiment 345 of 782\n",
      "Param = 10.00000 - classifier Evaluation Experiment 346 of 782\n",
      "Param = 10.00000 - classifier Evaluation Experiment 347 of 782\n",
      "Param = 10.00000 - classifier Evaluation Experiment 348 of 782\n",
      "Param = 10.00000 - classifier Evaluation Experiment 349 of 782\n",
      "Param = 10.00000 - classifier Evaluation Experiment 350 of 782\n",
      "Param = 10.00000 - classifier Evaluation Experiment 351 of 782\n",
      "Param = 10.00000 - classifier Evaluation Experiment 352 of 782\n",
      "Param = 10.00000 - classifier Evaluation Experiment 353 of 782\n",
      "Param = 10.00000 - classifier Evaluation Experiment 354 of 782\n",
      "Param = 10.00000 - classifier Evaluation Experiment 355 of 782\n",
      "Param = 10.00000 - classifier Evaluation Experiment 356 of 782\n",
      "Param = 10.00000 - classifier Evaluation Experiment 357 of 782\n",
      "Param = 10.00000 - classifier Evaluation Experiment 358 of 782\n",
      "Param = 10.00000 - classifier Evaluation Experiment 359 of 782\n",
      "Param = 10.00000 - classifier Evaluation Experiment 360 of 782\n",
      "Param = 10.00000 - classifier Evaluation Experiment 361 of 782\n",
      "Param = 10.00000 - classifier Evaluation Experiment 362 of 782\n",
      "Param = 10.00000 - classifier Evaluation Experiment 363 of 782\n",
      "Param = 10.00000 - classifier Evaluation Experiment 364 of 782\n",
      "Param = 10.00000 - classifier Evaluation Experiment 365 of 782\n",
      "Param = 10.00000 - classifier Evaluation Experiment 366 of 782\n",
      "Param = 10.00000 - classifier Evaluation Experiment 367 of 782\n",
      "Param = 10.00000 - classifier Evaluation Experiment 368 of 782\n",
      "Param = 10.00000 - classifier Evaluation Experiment 369 of 782\n",
      "Param = 10.00000 - classifier Evaluation Experiment 370 of 782\n",
      "Param = 10.00000 - classifier Evaluation Experiment 371 of 782\n",
      "Param = 10.00000 - classifier Evaluation Experiment 372 of 782\n",
      "Param = 10.00000 - classifier Evaluation Experiment 373 of 782\n",
      "Param = 10.00000 - classifier Evaluation Experiment 374 of 782\n",
      "Param = 10.00000 - classifier Evaluation Experiment 375 of 782\n",
      "Param = 10.00000 - classifier Evaluation Experiment 376 of 782\n",
      "Param = 10.00000 - classifier Evaluation Experiment 377 of 782\n",
      "Param = 10.00000 - classifier Evaluation Experiment 378 of 782\n",
      "Param = 10.00000 - classifier Evaluation Experiment 379 of 782\n",
      "Param = 10.00000 - classifier Evaluation Experiment 380 of 782\n",
      "Param = 10.00000 - classifier Evaluation Experiment 381 of 782\n",
      "Param = 10.00000 - classifier Evaluation Experiment 382 of 782\n",
      "Param = 10.00000 - classifier Evaluation Experiment 383 of 782\n",
      "Param = 10.00000 - classifier Evaluation Experiment 384 of 782\n",
      "Param = 10.00000 - classifier Evaluation Experiment 385 of 782\n",
      "Param = 10.00000 - classifier Evaluation Experiment 386 of 782\n",
      "Param = 10.00000 - classifier Evaluation Experiment 387 of 782\n",
      "Param = 10.00000 - classifier Evaluation Experiment 388 of 782\n",
      "Param = 10.00000 - classifier Evaluation Experiment 389 of 782\n",
      "Param = 10.00000 - classifier Evaluation Experiment 390 of 782\n",
      "Param = 10.00000 - classifier Evaluation Experiment 391 of 782\n",
      "Param = 10.00000 - classifier Evaluation Experiment 392 of 782\n",
      "Param = 10.00000 - classifier Evaluation Experiment 393 of 782\n",
      "Param = 10.00000 - classifier Evaluation Experiment 394 of 782\n",
      "Param = 10.00000 - classifier Evaluation Experiment 395 of 782\n",
      "Param = 10.00000 - classifier Evaluation Experiment 396 of 782\n",
      "Param = 10.00000 - classifier Evaluation Experiment 397 of 782\n",
      "Param = 10.00000 - classifier Evaluation Experiment 398 of 782\n",
      "Param = 10.00000 - classifier Evaluation Experiment 399 of 782\n",
      "Param = 10.00000 - classifier Evaluation Experiment 400 of 782\n",
      "Param = 10.00000 - classifier Evaluation Experiment 401 of 782\n",
      "Param = 10.00000 - classifier Evaluation Experiment 402 of 782\n",
      "Param = 10.00000 - classifier Evaluation Experiment 403 of 782\n",
      "Param = 10.00000 - classifier Evaluation Experiment 404 of 782\n",
      "Param = 10.00000 - classifier Evaluation Experiment 405 of 782\n",
      "Param = 10.00000 - classifier Evaluation Experiment 406 of 782\n",
      "Param = 10.00000 - classifier Evaluation Experiment 407 of 782\n",
      "Param = 10.00000 - classifier Evaluation Experiment 408 of 782\n",
      "Param = 10.00000 - classifier Evaluation Experiment 409 of 782\n",
      "Param = 10.00000 - classifier Evaluation Experiment 410 of 782\n",
      "Param = 10.00000 - classifier Evaluation Experiment 411 of 782\n",
      "Param = 10.00000 - classifier Evaluation Experiment 412 of 782\n",
      "Param = 10.00000 - classifier Evaluation Experiment 413 of 782\n",
      "Param = 10.00000 - classifier Evaluation Experiment 414 of 782\n",
      "Param = 10.00000 - classifier Evaluation Experiment 415 of 782\n",
      "Param = 10.00000 - classifier Evaluation Experiment 416 of 782\n",
      "Param = 10.00000 - classifier Evaluation Experiment 417 of 782\n",
      "Param = 10.00000 - classifier Evaluation Experiment 418 of 782\n",
      "Param = 10.00000 - classifier Evaluation Experiment 419 of 782\n",
      "Param = 10.00000 - classifier Evaluation Experiment 420 of 782\n",
      "Param = 10.00000 - classifier Evaluation Experiment 421 of 782\n",
      "Param = 10.00000 - classifier Evaluation Experiment 422 of 782\n",
      "Param = 10.00000 - classifier Evaluation Experiment 423 of 782\n",
      "Param = 10.00000 - classifier Evaluation Experiment 424 of 782\n",
      "Param = 10.00000 - classifier Evaluation Experiment 425 of 782\n",
      "Param = 10.00000 - classifier Evaluation Experiment 426 of 782\n",
      "Param = 10.00000 - classifier Evaluation Experiment 427 of 782\n",
      "Param = 10.00000 - classifier Evaluation Experiment 428 of 782\n",
      "Param = 10.00000 - classifier Evaluation Experiment 429 of 782\n",
      "Param = 10.00000 - classifier Evaluation Experiment 430 of 782\n",
      "Param = 10.00000 - classifier Evaluation Experiment 431 of 782\n",
      "Param = 10.00000 - classifier Evaluation Experiment 432 of 782\n",
      "Param = 10.00000 - classifier Evaluation Experiment 433 of 782\n",
      "Param = 10.00000 - classifier Evaluation Experiment 434 of 782\n",
      "Param = 10.00000 - classifier Evaluation Experiment 435 of 782\n",
      "Param = 10.00000 - classifier Evaluation Experiment 436 of 782\n",
      "Param = 10.00000 - classifier Evaluation Experiment 437 of 782\n",
      "Param = 10.00000 - classifier Evaluation Experiment 438 of 782\n",
      "Param = 10.00000 - classifier Evaluation Experiment 439 of 782\n",
      "Param = 10.00000 - classifier Evaluation Experiment 440 of 782\n",
      "Param = 10.00000 - classifier Evaluation Experiment 441 of 782\n",
      "Param = 10.00000 - classifier Evaluation Experiment 442 of 782\n",
      "Param = 10.00000 - classifier Evaluation Experiment 443 of 782\n",
      "Param = 10.00000 - classifier Evaluation Experiment 444 of 782\n",
      "Param = 10.00000 - classifier Evaluation Experiment 445 of 782\n",
      "Param = 10.00000 - classifier Evaluation Experiment 446 of 782\n",
      "Param = 10.00000 - classifier Evaluation Experiment 447 of 782\n",
      "Param = 10.00000 - classifier Evaluation Experiment 448 of 782\n",
      "Param = 10.00000 - classifier Evaluation Experiment 449 of 782\n",
      "Param = 10.00000 - classifier Evaluation Experiment 450 of 782\n",
      "Param = 10.00000 - classifier Evaluation Experiment 451 of 782\n",
      "Param = 10.00000 - classifier Evaluation Experiment 452 of 782\n",
      "Param = 10.00000 - classifier Evaluation Experiment 453 of 782\n",
      "Param = 10.00000 - classifier Evaluation Experiment 454 of 782\n",
      "Param = 10.00000 - classifier Evaluation Experiment 455 of 782\n",
      "Param = 10.00000 - classifier Evaluation Experiment 456 of 782\n",
      "Param = 10.00000 - classifier Evaluation Experiment 457 of 782\n",
      "Param = 10.00000 - classifier Evaluation Experiment 458 of 782\n",
      "Param = 10.00000 - classifier Evaluation Experiment 459 of 782\n",
      "Param = 10.00000 - classifier Evaluation Experiment 460 of 782\n",
      "Param = 10.00000 - classifier Evaluation Experiment 461 of 782\n",
      "Param = 10.00000 - classifier Evaluation Experiment 462 of 782\n",
      "Param = 10.00000 - classifier Evaluation Experiment 463 of 782\n",
      "Param = 10.00000 - classifier Evaluation Experiment 464 of 782\n",
      "Param = 10.00000 - classifier Evaluation Experiment 465 of 782\n",
      "Param = 10.00000 - classifier Evaluation Experiment 466 of 782\n",
      "Param = 10.00000 - classifier Evaluation Experiment 467 of 782\n",
      "Param = 10.00000 - classifier Evaluation Experiment 468 of 782\n",
      "Param = 10.00000 - classifier Evaluation Experiment 469 of 782\n",
      "Param = 10.00000 - classifier Evaluation Experiment 470 of 782\n",
      "Param = 10.00000 - classifier Evaluation Experiment 471 of 782\n",
      "Param = 10.00000 - classifier Evaluation Experiment 472 of 782\n",
      "Param = 10.00000 - classifier Evaluation Experiment 473 of 782\n",
      "Param = 10.00000 - classifier Evaluation Experiment 474 of 782\n",
      "Param = 10.00000 - classifier Evaluation Experiment 475 of 782\n",
      "Param = 10.00000 - classifier Evaluation Experiment 476 of 782\n",
      "Param = 10.00000 - classifier Evaluation Experiment 477 of 782\n",
      "Param = 10.00000 - classifier Evaluation Experiment 478 of 782\n",
      "Param = 10.00000 - classifier Evaluation Experiment 479 of 782\n",
      "Param = 10.00000 - classifier Evaluation Experiment 480 of 782\n",
      "Param = 10.00000 - classifier Evaluation Experiment 481 of 782\n",
      "Param = 10.00000 - classifier Evaluation Experiment 482 of 782\n",
      "Param = 10.00000 - classifier Evaluation Experiment 483 of 782\n",
      "Param = 10.00000 - classifier Evaluation Experiment 484 of 782\n",
      "Param = 10.00000 - classifier Evaluation Experiment 485 of 782\n",
      "Param = 10.00000 - classifier Evaluation Experiment 486 of 782\n",
      "Param = 10.00000 - classifier Evaluation Experiment 487 of 782\n",
      "Param = 10.00000 - classifier Evaluation Experiment 488 of 782\n",
      "Param = 10.00000 - classifier Evaluation Experiment 489 of 782\n",
      "Param = 10.00000 - classifier Evaluation Experiment 490 of 782\n",
      "Param = 10.00000 - classifier Evaluation Experiment 491 of 782\n",
      "Param = 10.00000 - classifier Evaluation Experiment 492 of 782\n",
      "Param = 10.00000 - classifier Evaluation Experiment 493 of 782\n",
      "Param = 10.00000 - classifier Evaluation Experiment 494 of 782\n",
      "Param = 10.00000 - classifier Evaluation Experiment 495 of 782\n",
      "Param = 10.00000 - classifier Evaluation Experiment 496 of 782\n",
      "Param = 10.00000 - classifier Evaluation Experiment 497 of 782\n",
      "Param = 10.00000 - classifier Evaluation Experiment 498 of 782\n",
      "Param = 10.00000 - classifier Evaluation Experiment 499 of 782\n",
      "Param = 10.00000 - classifier Evaluation Experiment 500 of 782\n",
      "Param = 10.00000 - classifier Evaluation Experiment 501 of 782\n",
      "Param = 10.00000 - classifier Evaluation Experiment 502 of 782\n",
      "Param = 10.00000 - classifier Evaluation Experiment 503 of 782\n",
      "Param = 10.00000 - classifier Evaluation Experiment 504 of 782\n",
      "Param = 10.00000 - classifier Evaluation Experiment 505 of 782\n",
      "Param = 10.00000 - classifier Evaluation Experiment 506 of 782\n",
      "Param = 10.00000 - classifier Evaluation Experiment 507 of 782\n",
      "Param = 10.00000 - classifier Evaluation Experiment 508 of 782\n",
      "Param = 10.00000 - classifier Evaluation Experiment 509 of 782\n",
      "Param = 10.00000 - classifier Evaluation Experiment 510 of 782\n",
      "Param = 10.00000 - classifier Evaluation Experiment 511 of 782\n",
      "Param = 10.00000 - classifier Evaluation Experiment 512 of 782\n",
      "Param = 10.00000 - classifier Evaluation Experiment 513 of 782\n",
      "Param = 10.00000 - classifier Evaluation Experiment 514 of 782\n",
      "Param = 10.00000 - classifier Evaluation Experiment 515 of 782\n",
      "Param = 10.00000 - classifier Evaluation Experiment 516 of 782\n",
      "Param = 10.00000 - classifier Evaluation Experiment 517 of 782\n",
      "Param = 10.00000 - classifier Evaluation Experiment 518 of 782\n",
      "Param = 10.00000 - classifier Evaluation Experiment 519 of 782\n",
      "Param = 10.00000 - classifier Evaluation Experiment 520 of 782\n",
      "Param = 10.00000 - classifier Evaluation Experiment 521 of 782\n",
      "Param = 10.00000 - classifier Evaluation Experiment 522 of 782\n",
      "Param = 10.00000 - classifier Evaluation Experiment 523 of 782\n",
      "Param = 10.00000 - classifier Evaluation Experiment 524 of 782\n",
      "Param = 10.00000 - classifier Evaluation Experiment 525 of 782\n",
      "Param = 10.00000 - classifier Evaluation Experiment 526 of 782\n",
      "Param = 10.00000 - classifier Evaluation Experiment 527 of 782\n",
      "Param = 10.00000 - classifier Evaluation Experiment 528 of 782\n",
      "Param = 10.00000 - classifier Evaluation Experiment 529 of 782\n",
      "Param = 10.00000 - classifier Evaluation Experiment 530 of 782\n",
      "Param = 10.00000 - classifier Evaluation Experiment 531 of 782\n",
      "Param = 10.00000 - classifier Evaluation Experiment 532 of 782\n",
      "Param = 10.00000 - classifier Evaluation Experiment 533 of 782\n",
      "Param = 10.00000 - classifier Evaluation Experiment 534 of 782\n",
      "Param = 10.00000 - classifier Evaluation Experiment 535 of 782\n",
      "Param = 10.00000 - classifier Evaluation Experiment 536 of 782\n",
      "Param = 10.00000 - classifier Evaluation Experiment 537 of 782\n",
      "Param = 10.00000 - classifier Evaluation Experiment 538 of 782\n",
      "Param = 10.00000 - classifier Evaluation Experiment 539 of 782\n",
      "Param = 10.00000 - classifier Evaluation Experiment 540 of 782\n",
      "Param = 10.00000 - classifier Evaluation Experiment 541 of 782\n",
      "Param = 10.00000 - classifier Evaluation Experiment 542 of 782\n",
      "Param = 10.00000 - classifier Evaluation Experiment 543 of 782\n",
      "Param = 10.00000 - classifier Evaluation Experiment 544 of 782\n",
      "Param = 10.00000 - classifier Evaluation Experiment 545 of 782\n",
      "Param = 10.00000 - classifier Evaluation Experiment 546 of 782\n",
      "Param = 10.00000 - classifier Evaluation Experiment 547 of 782\n",
      "Param = 10.00000 - classifier Evaluation Experiment 548 of 782\n",
      "Param = 10.00000 - classifier Evaluation Experiment 549 of 782\n",
      "Param = 10.00000 - classifier Evaluation Experiment 550 of 782\n",
      "Param = 10.00000 - classifier Evaluation Experiment 551 of 782\n",
      "Param = 10.00000 - classifier Evaluation Experiment 552 of 782\n",
      "Param = 10.00000 - classifier Evaluation Experiment 553 of 782\n",
      "Param = 10.00000 - classifier Evaluation Experiment 554 of 782\n",
      "Param = 10.00000 - classifier Evaluation Experiment 555 of 782\n",
      "Param = 10.00000 - classifier Evaluation Experiment 556 of 782\n",
      "Param = 10.00000 - classifier Evaluation Experiment 557 of 782\n",
      "Param = 10.00000 - classifier Evaluation Experiment 558 of 782\n",
      "Param = 10.00000 - classifier Evaluation Experiment 559 of 782\n",
      "Param = 10.00000 - classifier Evaluation Experiment 560 of 782\n",
      "Param = 10.00000 - classifier Evaluation Experiment 561 of 782\n",
      "Param = 10.00000 - classifier Evaluation Experiment 562 of 782\n",
      "Param = 10.00000 - classifier Evaluation Experiment 563 of 782\n",
      "Param = 10.00000 - classifier Evaluation Experiment 564 of 782\n",
      "Param = 10.00000 - classifier Evaluation Experiment 565 of 782\n",
      "Param = 10.00000 - classifier Evaluation Experiment 566 of 782\n",
      "Param = 10.00000 - classifier Evaluation Experiment 567 of 782\n",
      "Param = 10.00000 - classifier Evaluation Experiment 568 of 782\n",
      "Param = 10.00000 - classifier Evaluation Experiment 569 of 782\n",
      "Param = 10.00000 - classifier Evaluation Experiment 570 of 782\n",
      "Param = 10.00000 - classifier Evaluation Experiment 571 of 782\n",
      "Param = 10.00000 - classifier Evaluation Experiment 572 of 782\n",
      "Param = 10.00000 - classifier Evaluation Experiment 573 of 782\n",
      "Param = 10.00000 - classifier Evaluation Experiment 574 of 782\n",
      "Param = 10.00000 - classifier Evaluation Experiment 575 of 782\n",
      "Param = 10.00000 - classifier Evaluation Experiment 576 of 782\n",
      "Param = 10.00000 - classifier Evaluation Experiment 577 of 782\n",
      "Param = 10.00000 - classifier Evaluation Experiment 578 of 782\n",
      "Param = 10.00000 - classifier Evaluation Experiment 579 of 782\n",
      "Param = 10.00000 - classifier Evaluation Experiment 580 of 782\n",
      "Param = 10.00000 - classifier Evaluation Experiment 581 of 782\n",
      "Param = 10.00000 - classifier Evaluation Experiment 582 of 782\n",
      "Param = 10.00000 - classifier Evaluation Experiment 583 of 782\n",
      "Param = 10.00000 - classifier Evaluation Experiment 584 of 782\n",
      "Param = 10.00000 - classifier Evaluation Experiment 585 of 782\n",
      "Param = 10.00000 - classifier Evaluation Experiment 586 of 782\n",
      "Param = 10.00000 - classifier Evaluation Experiment 587 of 782\n",
      "Param = 10.00000 - classifier Evaluation Experiment 588 of 782\n",
      "Param = 10.00000 - classifier Evaluation Experiment 589 of 782\n",
      "Param = 10.00000 - classifier Evaluation Experiment 590 of 782\n",
      "Param = 10.00000 - classifier Evaluation Experiment 591 of 782\n",
      "Param = 10.00000 - classifier Evaluation Experiment 592 of 782\n",
      "Param = 10.00000 - classifier Evaluation Experiment 593 of 782\n",
      "Param = 10.00000 - classifier Evaluation Experiment 594 of 782\n",
      "Param = 10.00000 - classifier Evaluation Experiment 595 of 782\n",
      "Param = 10.00000 - classifier Evaluation Experiment 596 of 782\n",
      "Param = 10.00000 - classifier Evaluation Experiment 597 of 782\n",
      "Param = 10.00000 - classifier Evaluation Experiment 598 of 782\n",
      "Param = 10.00000 - classifier Evaluation Experiment 599 of 782\n",
      "Param = 10.00000 - classifier Evaluation Experiment 600 of 782\n",
      "Param = 10.00000 - classifier Evaluation Experiment 601 of 782\n",
      "Param = 10.00000 - classifier Evaluation Experiment 602 of 782\n",
      "Param = 10.00000 - classifier Evaluation Experiment 603 of 782\n",
      "Param = 10.00000 - classifier Evaluation Experiment 604 of 782\n",
      "Param = 10.00000 - classifier Evaluation Experiment 605 of 782\n",
      "Param = 10.00000 - classifier Evaluation Experiment 606 of 782\n",
      "Param = 10.00000 - classifier Evaluation Experiment 607 of 782\n",
      "Param = 10.00000 - classifier Evaluation Experiment 608 of 782\n",
      "Param = 10.00000 - classifier Evaluation Experiment 609 of 782\n",
      "Param = 10.00000 - classifier Evaluation Experiment 610 of 782\n",
      "Param = 10.00000 - classifier Evaluation Experiment 611 of 782\n",
      "Param = 10.00000 - classifier Evaluation Experiment 612 of 782\n",
      "Param = 10.00000 - classifier Evaluation Experiment 613 of 782\n",
      "Param = 10.00000 - classifier Evaluation Experiment 614 of 782\n",
      "Param = 10.00000 - classifier Evaluation Experiment 615 of 782\n",
      "Param = 10.00000 - classifier Evaluation Experiment 616 of 782\n",
      "Param = 10.00000 - classifier Evaluation Experiment 617 of 782\n",
      "Param = 10.00000 - classifier Evaluation Experiment 618 of 782\n",
      "Param = 10.00000 - classifier Evaluation Experiment 619 of 782\n",
      "Param = 10.00000 - classifier Evaluation Experiment 620 of 782\n",
      "Param = 10.00000 - classifier Evaluation Experiment 621 of 782\n",
      "Param = 10.00000 - classifier Evaluation Experiment 622 of 782\n",
      "Param = 10.00000 - classifier Evaluation Experiment 623 of 782\n",
      "Param = 10.00000 - classifier Evaluation Experiment 624 of 782\n",
      "Param = 10.00000 - classifier Evaluation Experiment 625 of 782\n",
      "Param = 10.00000 - classifier Evaluation Experiment 626 of 782\n",
      "Param = 10.00000 - classifier Evaluation Experiment 627 of 782\n",
      "Param = 10.00000 - classifier Evaluation Experiment 628 of 782\n",
      "Param = 10.00000 - classifier Evaluation Experiment 629 of 782\n",
      "Param = 10.00000 - classifier Evaluation Experiment 630 of 782\n",
      "Param = 10.00000 - classifier Evaluation Experiment 631 of 782\n",
      "Param = 10.00000 - classifier Evaluation Experiment 632 of 782\n",
      "Param = 10.00000 - classifier Evaluation Experiment 633 of 782\n",
      "Param = 10.00000 - classifier Evaluation Experiment 634 of 782\n",
      "Param = 10.00000 - classifier Evaluation Experiment 635 of 782\n",
      "Param = 10.00000 - classifier Evaluation Experiment 636 of 782\n",
      "Param = 10.00000 - classifier Evaluation Experiment 637 of 782\n",
      "Param = 10.00000 - classifier Evaluation Experiment 638 of 782\n",
      "Param = 10.00000 - classifier Evaluation Experiment 639 of 782\n",
      "Param = 10.00000 - classifier Evaluation Experiment 640 of 782\n",
      "Param = 10.00000 - classifier Evaluation Experiment 641 of 782\n",
      "Param = 10.00000 - classifier Evaluation Experiment 642 of 782\n",
      "Param = 10.00000 - classifier Evaluation Experiment 643 of 782\n",
      "Param = 10.00000 - classifier Evaluation Experiment 644 of 782\n",
      "Param = 10.00000 - classifier Evaluation Experiment 645 of 782\n",
      "Param = 10.00000 - classifier Evaluation Experiment 646 of 782\n",
      "Param = 10.00000 - classifier Evaluation Experiment 647 of 782\n",
      "Param = 10.00000 - classifier Evaluation Experiment 648 of 782\n",
      "Param = 10.00000 - classifier Evaluation Experiment 649 of 782\n",
      "Param = 10.00000 - classifier Evaluation Experiment 650 of 782\n",
      "Param = 10.00000 - classifier Evaluation Experiment 651 of 782\n",
      "Param = 10.00000 - classifier Evaluation Experiment 652 of 782\n",
      "Param = 10.00000 - classifier Evaluation Experiment 653 of 782\n",
      "Param = 10.00000 - classifier Evaluation Experiment 654 of 782\n",
      "Param = 10.00000 - classifier Evaluation Experiment 655 of 782\n",
      "Param = 10.00000 - classifier Evaluation Experiment 656 of 782\n",
      "Param = 10.00000 - classifier Evaluation Experiment 657 of 782\n",
      "Param = 10.00000 - classifier Evaluation Experiment 658 of 782\n",
      "Param = 10.00000 - classifier Evaluation Experiment 659 of 782\n",
      "Param = 10.00000 - classifier Evaluation Experiment 660 of 782\n",
      "Param = 10.00000 - classifier Evaluation Experiment 661 of 782\n",
      "Param = 10.00000 - classifier Evaluation Experiment 662 of 782\n",
      "Param = 10.00000 - classifier Evaluation Experiment 663 of 782\n",
      "Param = 10.00000 - classifier Evaluation Experiment 664 of 782\n",
      "Param = 10.00000 - classifier Evaluation Experiment 665 of 782\n",
      "Param = 10.00000 - classifier Evaluation Experiment 666 of 782\n",
      "Param = 10.00000 - classifier Evaluation Experiment 667 of 782\n",
      "Param = 10.00000 - classifier Evaluation Experiment 668 of 782\n",
      "Param = 10.00000 - classifier Evaluation Experiment 669 of 782\n",
      "Param = 10.00000 - classifier Evaluation Experiment 670 of 782\n",
      "Param = 10.00000 - classifier Evaluation Experiment 671 of 782\n",
      "Param = 10.00000 - classifier Evaluation Experiment 672 of 782\n",
      "Param = 10.00000 - classifier Evaluation Experiment 673 of 782\n",
      "Param = 10.00000 - classifier Evaluation Experiment 674 of 782\n",
      "Param = 10.00000 - classifier Evaluation Experiment 675 of 782\n",
      "Param = 10.00000 - classifier Evaluation Experiment 676 of 782\n",
      "Param = 10.00000 - classifier Evaluation Experiment 677 of 782\n",
      "Param = 10.00000 - classifier Evaluation Experiment 678 of 782\n",
      "Param = 10.00000 - classifier Evaluation Experiment 679 of 782\n",
      "Param = 10.00000 - classifier Evaluation Experiment 680 of 782\n",
      "Param = 10.00000 - classifier Evaluation Experiment 681 of 782\n",
      "Param = 10.00000 - classifier Evaluation Experiment 682 of 782\n",
      "Param = 10.00000 - classifier Evaluation Experiment 683 of 782\n",
      "Param = 10.00000 - classifier Evaluation Experiment 684 of 782\n",
      "Param = 10.00000 - classifier Evaluation Experiment 685 of 782\n",
      "Param = 10.00000 - classifier Evaluation Experiment 686 of 782\n",
      "Param = 10.00000 - classifier Evaluation Experiment 687 of 782\n",
      "Param = 10.00000 - classifier Evaluation Experiment 688 of 782\n",
      "Param = 10.00000 - classifier Evaluation Experiment 689 of 782\n",
      "Param = 10.00000 - classifier Evaluation Experiment 690 of 782\n",
      "Param = 10.00000 - classifier Evaluation Experiment 691 of 782\n",
      "Param = 10.00000 - classifier Evaluation Experiment 692 of 782\n",
      "Param = 10.00000 - classifier Evaluation Experiment 693 of 782\n",
      "Param = 10.00000 - classifier Evaluation Experiment 694 of 782\n",
      "Param = 10.00000 - classifier Evaluation Experiment 695 of 782\n",
      "Param = 10.00000 - classifier Evaluation Experiment 696 of 782\n",
      "Param = 10.00000 - classifier Evaluation Experiment 697 of 782\n",
      "Param = 10.00000 - classifier Evaluation Experiment 698 of 782\n",
      "Param = 10.00000 - classifier Evaluation Experiment 699 of 782\n",
      "Param = 10.00000 - classifier Evaluation Experiment 700 of 782\n",
      "Param = 10.00000 - classifier Evaluation Experiment 701 of 782\n",
      "Param = 10.00000 - classifier Evaluation Experiment 702 of 782\n",
      "Param = 10.00000 - classifier Evaluation Experiment 703 of 782\n",
      "Param = 10.00000 - classifier Evaluation Experiment 704 of 782\n",
      "Param = 10.00000 - classifier Evaluation Experiment 705 of 782\n",
      "Param = 10.00000 - classifier Evaluation Experiment 706 of 782\n",
      "Param = 10.00000 - classifier Evaluation Experiment 707 of 782\n",
      "Param = 10.00000 - classifier Evaluation Experiment 708 of 782\n",
      "Param = 10.00000 - classifier Evaluation Experiment 709 of 782\n",
      "Param = 10.00000 - classifier Evaluation Experiment 710 of 782\n",
      "Param = 10.00000 - classifier Evaluation Experiment 711 of 782\n",
      "Param = 10.00000 - classifier Evaluation Experiment 712 of 782\n",
      "Param = 10.00000 - classifier Evaluation Experiment 713 of 782\n",
      "Param = 10.00000 - classifier Evaluation Experiment 714 of 782\n",
      "Param = 10.00000 - classifier Evaluation Experiment 715 of 782\n",
      "Param = 10.00000 - classifier Evaluation Experiment 716 of 782\n",
      "Param = 10.00000 - classifier Evaluation Experiment 717 of 782\n",
      "Param = 10.00000 - classifier Evaluation Experiment 718 of 782\n",
      "Param = 10.00000 - classifier Evaluation Experiment 719 of 782\n",
      "Param = 10.00000 - classifier Evaluation Experiment 720 of 782\n",
      "Param = 10.00000 - classifier Evaluation Experiment 721 of 782\n",
      "Param = 10.00000 - classifier Evaluation Experiment 722 of 782\n",
      "Param = 10.00000 - classifier Evaluation Experiment 723 of 782\n",
      "Param = 10.00000 - classifier Evaluation Experiment 724 of 782\n",
      "Param = 10.00000 - classifier Evaluation Experiment 725 of 782\n",
      "Param = 10.00000 - classifier Evaluation Experiment 726 of 782\n",
      "Param = 10.00000 - classifier Evaluation Experiment 727 of 782\n",
      "Param = 10.00000 - classifier Evaluation Experiment 728 of 782\n",
      "Param = 10.00000 - classifier Evaluation Experiment 729 of 782\n",
      "Param = 10.00000 - classifier Evaluation Experiment 730 of 782\n",
      "Param = 10.00000 - classifier Evaluation Experiment 731 of 782\n",
      "Param = 10.00000 - classifier Evaluation Experiment 732 of 782\n",
      "Param = 10.00000 - classifier Evaluation Experiment 733 of 782\n",
      "Param = 10.00000 - classifier Evaluation Experiment 734 of 782\n",
      "Param = 10.00000 - classifier Evaluation Experiment 735 of 782\n",
      "Param = 10.00000 - classifier Evaluation Experiment 736 of 782\n",
      "Param = 10.00000 - classifier Evaluation Experiment 737 of 782\n",
      "Param = 10.00000 - classifier Evaluation Experiment 738 of 782\n",
      "Param = 10.00000 - classifier Evaluation Experiment 739 of 782\n",
      "Param = 10.00000 - classifier Evaluation Experiment 740 of 782\n",
      "Param = 10.00000 - classifier Evaluation Experiment 741 of 782\n",
      "Param = 10.00000 - classifier Evaluation Experiment 742 of 782\n",
      "Param = 10.00000 - classifier Evaluation Experiment 743 of 782\n",
      "Param = 10.00000 - classifier Evaluation Experiment 744 of 782\n",
      "Param = 10.00000 - classifier Evaluation Experiment 745 of 782\n",
      "Param = 10.00000 - classifier Evaluation Experiment 746 of 782\n",
      "Param = 10.00000 - classifier Evaluation Experiment 747 of 782\n",
      "Param = 10.00000 - classifier Evaluation Experiment 748 of 782\n",
      "Param = 10.00000 - classifier Evaluation Experiment 749 of 782\n",
      "Param = 10.00000 - classifier Evaluation Experiment 750 of 782\n",
      "Param = 10.00000 - classifier Evaluation Experiment 751 of 782\n",
      "Param = 10.00000 - classifier Evaluation Experiment 752 of 782\n",
      "Param = 10.00000 - classifier Evaluation Experiment 753 of 782\n",
      "Param = 10.00000 - classifier Evaluation Experiment 754 of 782\n",
      "Param = 10.00000 - classifier Evaluation Experiment 755 of 782\n",
      "Param = 10.00000 - classifier Evaluation Experiment 756 of 782\n",
      "Param = 10.00000 - classifier Evaluation Experiment 757 of 782\n",
      "Param = 10.00000 - classifier Evaluation Experiment 758 of 782\n",
      "Param = 10.00000 - classifier Evaluation Experiment 759 of 782\n",
      "Param = 10.00000 - classifier Evaluation Experiment 760 of 782\n",
      "Param = 10.00000 - classifier Evaluation Experiment 761 of 782\n",
      "Param = 10.00000 - classifier Evaluation Experiment 762 of 782\n",
      "Param = 10.00000 - classifier Evaluation Experiment 763 of 782\n",
      "Param = 10.00000 - classifier Evaluation Experiment 764 of 782\n",
      "Param = 10.00000 - classifier Evaluation Experiment 765 of 782\n",
      "Param = 10.00000 - classifier Evaluation Experiment 766 of 782\n",
      "Param = 10.00000 - classifier Evaluation Experiment 767 of 782\n",
      "Param = 10.00000 - classifier Evaluation Experiment 768 of 782\n",
      "Param = 10.00000 - classifier Evaluation Experiment 769 of 782\n",
      "Param = 10.00000 - classifier Evaluation Experiment 770 of 782\n",
      "Param = 10.00000 - classifier Evaluation Experiment 771 of 782\n",
      "Param = 10.00000 - classifier Evaluation Experiment 772 of 782\n",
      "Param = 10.00000 - classifier Evaluation Experiment 773 of 782\n",
      "Param = 10.00000 - classifier Evaluation Experiment 774 of 782\n",
      "Param = 10.00000 - classifier Evaluation Experiment 775 of 782\n",
      "Param = 10.00000 - classifier Evaluation Experiment 776 of 782\n",
      "Param = 10.00000 - classifier Evaluation Experiment 777 of 782\n",
      "Param = 10.00000 - classifier Evaluation Experiment 778 of 782\n",
      "Param = 10.00000 - classifier Evaluation Experiment 779 of 782\n",
      "Param = 10.00000 - classifier Evaluation Experiment 780 of 782\n",
      "Param = 10.00000 - classifier Evaluation Experiment 781 of 782\n",
      "Param = 10.00000 - classifier Evaluation Experiment 782 of 782\n",
      "Param = 20.00000 - classifier Evaluation Experiment 1 of 782\n",
      "Param = 20.00000 - classifier Evaluation Experiment 2 of 782\n",
      "Param = 20.00000 - classifier Evaluation Experiment 3 of 782\n",
      "Param = 20.00000 - classifier Evaluation Experiment 4 of 782\n",
      "Param = 20.00000 - classifier Evaluation Experiment 5 of 782\n",
      "Param = 20.00000 - classifier Evaluation Experiment 6 of 782\n",
      "Param = 20.00000 - classifier Evaluation Experiment 7 of 782\n",
      "Param = 20.00000 - classifier Evaluation Experiment 8 of 782\n",
      "Param = 20.00000 - classifier Evaluation Experiment 9 of 782\n",
      "Param = 20.00000 - classifier Evaluation Experiment 10 of 782\n",
      "Param = 20.00000 - classifier Evaluation Experiment 11 of 782\n",
      "Param = 20.00000 - classifier Evaluation Experiment 12 of 782\n",
      "Param = 20.00000 - classifier Evaluation Experiment 13 of 782\n",
      "Param = 20.00000 - classifier Evaluation Experiment 14 of 782\n",
      "Param = 20.00000 - classifier Evaluation Experiment 15 of 782\n",
      "Param = 20.00000 - classifier Evaluation Experiment 16 of 782\n",
      "Param = 20.00000 - classifier Evaluation Experiment 17 of 782\n",
      "Param = 20.00000 - classifier Evaluation Experiment 18 of 782\n",
      "Param = 20.00000 - classifier Evaluation Experiment 19 of 782\n",
      "Param = 20.00000 - classifier Evaluation Experiment 20 of 782\n",
      "Param = 20.00000 - classifier Evaluation Experiment 21 of 782\n",
      "Param = 20.00000 - classifier Evaluation Experiment 22 of 782\n",
      "Param = 20.00000 - classifier Evaluation Experiment 23 of 782\n",
      "Param = 20.00000 - classifier Evaluation Experiment 24 of 782\n",
      "Param = 20.00000 - classifier Evaluation Experiment 25 of 782\n",
      "Param = 20.00000 - classifier Evaluation Experiment 26 of 782\n",
      "Param = 20.00000 - classifier Evaluation Experiment 27 of 782\n",
      "Param = 20.00000 - classifier Evaluation Experiment 28 of 782\n",
      "Param = 20.00000 - classifier Evaluation Experiment 29 of 782\n",
      "Param = 20.00000 - classifier Evaluation Experiment 30 of 782\n",
      "Param = 20.00000 - classifier Evaluation Experiment 31 of 782\n",
      "Param = 20.00000 - classifier Evaluation Experiment 32 of 782\n",
      "Param = 20.00000 - classifier Evaluation Experiment 33 of 782\n",
      "Param = 20.00000 - classifier Evaluation Experiment 34 of 782\n",
      "Param = 20.00000 - classifier Evaluation Experiment 35 of 782\n",
      "Param = 20.00000 - classifier Evaluation Experiment 36 of 782\n",
      "Param = 20.00000 - classifier Evaluation Experiment 37 of 782\n",
      "Param = 20.00000 - classifier Evaluation Experiment 38 of 782\n",
      "Param = 20.00000 - classifier Evaluation Experiment 39 of 782\n",
      "Param = 20.00000 - classifier Evaluation Experiment 40 of 782\n",
      "Param = 20.00000 - classifier Evaluation Experiment 41 of 782\n",
      "Param = 20.00000 - classifier Evaluation Experiment 42 of 782\n",
      "Param = 20.00000 - classifier Evaluation Experiment 43 of 782\n",
      "Param = 20.00000 - classifier Evaluation Experiment 44 of 782\n",
      "Param = 20.00000 - classifier Evaluation Experiment 45 of 782\n",
      "Param = 20.00000 - classifier Evaluation Experiment 46 of 782\n",
      "Param = 20.00000 - classifier Evaluation Experiment 47 of 782\n",
      "Param = 20.00000 - classifier Evaluation Experiment 48 of 782\n",
      "Param = 20.00000 - classifier Evaluation Experiment 49 of 782\n",
      "Param = 20.00000 - classifier Evaluation Experiment 50 of 782\n",
      "Param = 20.00000 - classifier Evaluation Experiment 51 of 782\n",
      "Param = 20.00000 - classifier Evaluation Experiment 52 of 782\n",
      "Param = 20.00000 - classifier Evaluation Experiment 53 of 782\n",
      "Param = 20.00000 - classifier Evaluation Experiment 54 of 782\n",
      "Param = 20.00000 - classifier Evaluation Experiment 55 of 782\n",
      "Param = 20.00000 - classifier Evaluation Experiment 56 of 782\n",
      "Param = 20.00000 - classifier Evaluation Experiment 57 of 782\n",
      "Param = 20.00000 - classifier Evaluation Experiment 58 of 782\n",
      "Param = 20.00000 - classifier Evaluation Experiment 59 of 782\n",
      "Param = 20.00000 - classifier Evaluation Experiment 60 of 782\n",
      "Param = 20.00000 - classifier Evaluation Experiment 61 of 782\n",
      "Param = 20.00000 - classifier Evaluation Experiment 62 of 782\n",
      "Param = 20.00000 - classifier Evaluation Experiment 63 of 782\n",
      "Param = 20.00000 - classifier Evaluation Experiment 64 of 782\n",
      "Param = 20.00000 - classifier Evaluation Experiment 65 of 782\n",
      "Param = 20.00000 - classifier Evaluation Experiment 66 of 782\n",
      "Param = 20.00000 - classifier Evaluation Experiment 67 of 782\n",
      "Param = 20.00000 - classifier Evaluation Experiment 68 of 782\n",
      "Param = 20.00000 - classifier Evaluation Experiment 69 of 782\n",
      "Param = 20.00000 - classifier Evaluation Experiment 70 of 782\n",
      "Param = 20.00000 - classifier Evaluation Experiment 71 of 782\n",
      "Param = 20.00000 - classifier Evaluation Experiment 72 of 782\n",
      "Param = 20.00000 - classifier Evaluation Experiment 73 of 782\n",
      "Param = 20.00000 - classifier Evaluation Experiment 74 of 782\n",
      "Param = 20.00000 - classifier Evaluation Experiment 75 of 782\n",
      "Param = 20.00000 - classifier Evaluation Experiment 76 of 782\n",
      "Param = 20.00000 - classifier Evaluation Experiment 77 of 782\n",
      "Param = 20.00000 - classifier Evaluation Experiment 78 of 782\n",
      "Param = 20.00000 - classifier Evaluation Experiment 79 of 782\n",
      "Param = 20.00000 - classifier Evaluation Experiment 80 of 782\n",
      "Param = 20.00000 - classifier Evaluation Experiment 81 of 782\n",
      "Param = 20.00000 - classifier Evaluation Experiment 82 of 782\n",
      "Param = 20.00000 - classifier Evaluation Experiment 83 of 782\n",
      "Param = 20.00000 - classifier Evaluation Experiment 84 of 782\n",
      "Param = 20.00000 - classifier Evaluation Experiment 85 of 782\n",
      "Param = 20.00000 - classifier Evaluation Experiment 86 of 782\n",
      "Param = 20.00000 - classifier Evaluation Experiment 87 of 782\n",
      "Param = 20.00000 - classifier Evaluation Experiment 88 of 782\n",
      "Param = 20.00000 - classifier Evaluation Experiment 89 of 782\n",
      "Param = 20.00000 - classifier Evaluation Experiment 90 of 782\n",
      "Param = 20.00000 - classifier Evaluation Experiment 91 of 782\n",
      "Param = 20.00000 - classifier Evaluation Experiment 92 of 782\n",
      "Param = 20.00000 - classifier Evaluation Experiment 93 of 782\n",
      "Param = 20.00000 - classifier Evaluation Experiment 94 of 782\n",
      "Param = 20.00000 - classifier Evaluation Experiment 95 of 782\n",
      "Param = 20.00000 - classifier Evaluation Experiment 96 of 782\n",
      "Param = 20.00000 - classifier Evaluation Experiment 97 of 782\n",
      "Param = 20.00000 - classifier Evaluation Experiment 98 of 782\n",
      "Param = 20.00000 - classifier Evaluation Experiment 99 of 782\n",
      "Param = 20.00000 - classifier Evaluation Experiment 100 of 782\n",
      "Param = 20.00000 - classifier Evaluation Experiment 101 of 782\n",
      "Param = 20.00000 - classifier Evaluation Experiment 102 of 782\n",
      "Param = 20.00000 - classifier Evaluation Experiment 103 of 782\n",
      "Param = 20.00000 - classifier Evaluation Experiment 104 of 782\n",
      "Param = 20.00000 - classifier Evaluation Experiment 105 of 782\n",
      "Param = 20.00000 - classifier Evaluation Experiment 106 of 782\n",
      "Param = 20.00000 - classifier Evaluation Experiment 107 of 782\n",
      "Param = 20.00000 - classifier Evaluation Experiment 108 of 782\n",
      "Param = 20.00000 - classifier Evaluation Experiment 109 of 782\n",
      "Param = 20.00000 - classifier Evaluation Experiment 110 of 782\n",
      "Param = 20.00000 - classifier Evaluation Experiment 111 of 782\n",
      "Param = 20.00000 - classifier Evaluation Experiment 112 of 782\n",
      "Param = 20.00000 - classifier Evaluation Experiment 113 of 782\n",
      "Param = 20.00000 - classifier Evaluation Experiment 114 of 782\n",
      "Param = 20.00000 - classifier Evaluation Experiment 115 of 782\n",
      "Param = 20.00000 - classifier Evaluation Experiment 116 of 782\n",
      "Param = 20.00000 - classifier Evaluation Experiment 117 of 782\n",
      "Param = 20.00000 - classifier Evaluation Experiment 118 of 782\n",
      "Param = 20.00000 - classifier Evaluation Experiment 119 of 782\n",
      "Param = 20.00000 - classifier Evaluation Experiment 120 of 782\n",
      "Param = 20.00000 - classifier Evaluation Experiment 121 of 782\n",
      "Param = 20.00000 - classifier Evaluation Experiment 122 of 782\n",
      "Param = 20.00000 - classifier Evaluation Experiment 123 of 782\n",
      "Param = 20.00000 - classifier Evaluation Experiment 124 of 782\n",
      "Param = 20.00000 - classifier Evaluation Experiment 125 of 782\n",
      "Param = 20.00000 - classifier Evaluation Experiment 126 of 782\n",
      "Param = 20.00000 - classifier Evaluation Experiment 127 of 782\n",
      "Param = 20.00000 - classifier Evaluation Experiment 128 of 782\n",
      "Param = 20.00000 - classifier Evaluation Experiment 129 of 782\n",
      "Param = 20.00000 - classifier Evaluation Experiment 130 of 782\n",
      "Param = 20.00000 - classifier Evaluation Experiment 131 of 782\n",
      "Param = 20.00000 - classifier Evaluation Experiment 132 of 782\n",
      "Param = 20.00000 - classifier Evaluation Experiment 133 of 782\n",
      "Param = 20.00000 - classifier Evaluation Experiment 134 of 782\n",
      "Param = 20.00000 - classifier Evaluation Experiment 135 of 782\n",
      "Param = 20.00000 - classifier Evaluation Experiment 136 of 782\n",
      "Param = 20.00000 - classifier Evaluation Experiment 137 of 782\n",
      "Param = 20.00000 - classifier Evaluation Experiment 138 of 782\n",
      "Param = 20.00000 - classifier Evaluation Experiment 139 of 782\n",
      "Param = 20.00000 - classifier Evaluation Experiment 140 of 782\n",
      "Param = 20.00000 - classifier Evaluation Experiment 141 of 782\n",
      "Param = 20.00000 - classifier Evaluation Experiment 142 of 782\n",
      "Param = 20.00000 - classifier Evaluation Experiment 143 of 782\n",
      "Param = 20.00000 - classifier Evaluation Experiment 144 of 782\n",
      "Param = 20.00000 - classifier Evaluation Experiment 145 of 782\n",
      "Param = 20.00000 - classifier Evaluation Experiment 146 of 782\n",
      "Param = 20.00000 - classifier Evaluation Experiment 147 of 782\n",
      "Param = 20.00000 - classifier Evaluation Experiment 148 of 782\n",
      "Param = 20.00000 - classifier Evaluation Experiment 149 of 782\n",
      "Param = 20.00000 - classifier Evaluation Experiment 150 of 782\n",
      "Param = 20.00000 - classifier Evaluation Experiment 151 of 782\n",
      "Param = 20.00000 - classifier Evaluation Experiment 152 of 782\n",
      "Param = 20.00000 - classifier Evaluation Experiment 153 of 782\n",
      "Param = 20.00000 - classifier Evaluation Experiment 154 of 782\n",
      "Param = 20.00000 - classifier Evaluation Experiment 155 of 782\n",
      "Param = 20.00000 - classifier Evaluation Experiment 156 of 782\n",
      "Param = 20.00000 - classifier Evaluation Experiment 157 of 782\n",
      "Param = 20.00000 - classifier Evaluation Experiment 158 of 782\n",
      "Param = 20.00000 - classifier Evaluation Experiment 159 of 782\n",
      "Param = 20.00000 - classifier Evaluation Experiment 160 of 782\n",
      "Param = 20.00000 - classifier Evaluation Experiment 161 of 782\n",
      "Param = 20.00000 - classifier Evaluation Experiment 162 of 782\n",
      "Param = 20.00000 - classifier Evaluation Experiment 163 of 782\n",
      "Param = 20.00000 - classifier Evaluation Experiment 164 of 782\n",
      "Param = 20.00000 - classifier Evaluation Experiment 165 of 782\n",
      "Param = 20.00000 - classifier Evaluation Experiment 166 of 782\n",
      "Param = 20.00000 - classifier Evaluation Experiment 167 of 782\n",
      "Param = 20.00000 - classifier Evaluation Experiment 168 of 782\n",
      "Param = 20.00000 - classifier Evaluation Experiment 169 of 782\n",
      "Param = 20.00000 - classifier Evaluation Experiment 170 of 782\n",
      "Param = 20.00000 - classifier Evaluation Experiment 171 of 782\n",
      "Param = 20.00000 - classifier Evaluation Experiment 172 of 782\n",
      "Param = 20.00000 - classifier Evaluation Experiment 173 of 782\n",
      "Param = 20.00000 - classifier Evaluation Experiment 174 of 782\n",
      "Param = 20.00000 - classifier Evaluation Experiment 175 of 782\n",
      "Param = 20.00000 - classifier Evaluation Experiment 176 of 782\n",
      "Param = 20.00000 - classifier Evaluation Experiment 177 of 782\n",
      "Param = 20.00000 - classifier Evaluation Experiment 178 of 782\n",
      "Param = 20.00000 - classifier Evaluation Experiment 179 of 782\n",
      "Param = 20.00000 - classifier Evaluation Experiment 180 of 782\n",
      "Param = 20.00000 - classifier Evaluation Experiment 181 of 782\n",
      "Param = 20.00000 - classifier Evaluation Experiment 182 of 782\n",
      "Param = 20.00000 - classifier Evaluation Experiment 183 of 782\n",
      "Param = 20.00000 - classifier Evaluation Experiment 184 of 782\n",
      "Param = 20.00000 - classifier Evaluation Experiment 185 of 782\n",
      "Param = 20.00000 - classifier Evaluation Experiment 186 of 782\n",
      "Param = 20.00000 - classifier Evaluation Experiment 187 of 782\n",
      "Param = 20.00000 - classifier Evaluation Experiment 188 of 782\n",
      "Param = 20.00000 - classifier Evaluation Experiment 189 of 782\n",
      "Param = 20.00000 - classifier Evaluation Experiment 190 of 782\n",
      "Param = 20.00000 - classifier Evaluation Experiment 191 of 782\n",
      "Param = 20.00000 - classifier Evaluation Experiment 192 of 782\n",
      "Param = 20.00000 - classifier Evaluation Experiment 193 of 782\n",
      "Param = 20.00000 - classifier Evaluation Experiment 194 of 782\n",
      "Param = 20.00000 - classifier Evaluation Experiment 195 of 782\n",
      "Param = 20.00000 - classifier Evaluation Experiment 196 of 782\n",
      "Param = 20.00000 - classifier Evaluation Experiment 197 of 782\n",
      "Param = 20.00000 - classifier Evaluation Experiment 198 of 782\n",
      "Param = 20.00000 - classifier Evaluation Experiment 199 of 782\n",
      "Param = 20.00000 - classifier Evaluation Experiment 200 of 782\n",
      "Param = 20.00000 - classifier Evaluation Experiment 201 of 782\n",
      "Param = 20.00000 - classifier Evaluation Experiment 202 of 782\n",
      "Param = 20.00000 - classifier Evaluation Experiment 203 of 782\n",
      "Param = 20.00000 - classifier Evaluation Experiment 204 of 782\n",
      "Param = 20.00000 - classifier Evaluation Experiment 205 of 782\n",
      "Param = 20.00000 - classifier Evaluation Experiment 206 of 782\n",
      "Param = 20.00000 - classifier Evaluation Experiment 207 of 782\n",
      "Param = 20.00000 - classifier Evaluation Experiment 208 of 782\n",
      "Param = 20.00000 - classifier Evaluation Experiment 209 of 782\n",
      "Param = 20.00000 - classifier Evaluation Experiment 210 of 782\n",
      "Param = 20.00000 - classifier Evaluation Experiment 211 of 782\n",
      "Param = 20.00000 - classifier Evaluation Experiment 212 of 782\n",
      "Param = 20.00000 - classifier Evaluation Experiment 213 of 782\n",
      "Param = 20.00000 - classifier Evaluation Experiment 214 of 782\n",
      "Param = 20.00000 - classifier Evaluation Experiment 215 of 782\n",
      "Param = 20.00000 - classifier Evaluation Experiment 216 of 782\n",
      "Param = 20.00000 - classifier Evaluation Experiment 217 of 782\n",
      "Param = 20.00000 - classifier Evaluation Experiment 218 of 782\n",
      "Param = 20.00000 - classifier Evaluation Experiment 219 of 782\n",
      "Param = 20.00000 - classifier Evaluation Experiment 220 of 782\n",
      "Param = 20.00000 - classifier Evaluation Experiment 221 of 782\n",
      "Param = 20.00000 - classifier Evaluation Experiment 222 of 782\n",
      "Param = 20.00000 - classifier Evaluation Experiment 223 of 782\n",
      "Param = 20.00000 - classifier Evaluation Experiment 224 of 782\n",
      "Param = 20.00000 - classifier Evaluation Experiment 225 of 782\n",
      "Param = 20.00000 - classifier Evaluation Experiment 226 of 782\n",
      "Param = 20.00000 - classifier Evaluation Experiment 227 of 782\n",
      "Param = 20.00000 - classifier Evaluation Experiment 228 of 782\n",
      "Param = 20.00000 - classifier Evaluation Experiment 229 of 782\n",
      "Param = 20.00000 - classifier Evaluation Experiment 230 of 782\n",
      "Param = 20.00000 - classifier Evaluation Experiment 231 of 782\n",
      "Param = 20.00000 - classifier Evaluation Experiment 232 of 782\n",
      "Param = 20.00000 - classifier Evaluation Experiment 233 of 782\n",
      "Param = 20.00000 - classifier Evaluation Experiment 234 of 782\n",
      "Param = 20.00000 - classifier Evaluation Experiment 235 of 782\n",
      "Param = 20.00000 - classifier Evaluation Experiment 236 of 782\n",
      "Param = 20.00000 - classifier Evaluation Experiment 237 of 782\n",
      "Param = 20.00000 - classifier Evaluation Experiment 238 of 782\n",
      "Param = 20.00000 - classifier Evaluation Experiment 239 of 782\n",
      "Param = 20.00000 - classifier Evaluation Experiment 240 of 782\n",
      "Param = 20.00000 - classifier Evaluation Experiment 241 of 782\n",
      "Param = 20.00000 - classifier Evaluation Experiment 242 of 782\n",
      "Param = 20.00000 - classifier Evaluation Experiment 243 of 782\n",
      "Param = 20.00000 - classifier Evaluation Experiment 244 of 782\n",
      "Param = 20.00000 - classifier Evaluation Experiment 245 of 782\n",
      "Param = 20.00000 - classifier Evaluation Experiment 246 of 782\n",
      "Param = 20.00000 - classifier Evaluation Experiment 247 of 782\n",
      "Param = 20.00000 - classifier Evaluation Experiment 248 of 782\n",
      "Param = 20.00000 - classifier Evaluation Experiment 249 of 782\n",
      "Param = 20.00000 - classifier Evaluation Experiment 250 of 782\n",
      "Param = 20.00000 - classifier Evaluation Experiment 251 of 782\n",
      "Param = 20.00000 - classifier Evaluation Experiment 252 of 782\n",
      "Param = 20.00000 - classifier Evaluation Experiment 253 of 782\n",
      "Param = 20.00000 - classifier Evaluation Experiment 254 of 782\n",
      "Param = 20.00000 - classifier Evaluation Experiment 255 of 782\n",
      "Param = 20.00000 - classifier Evaluation Experiment 256 of 782\n",
      "Param = 20.00000 - classifier Evaluation Experiment 257 of 782\n",
      "Param = 20.00000 - classifier Evaluation Experiment 258 of 782\n",
      "Param = 20.00000 - classifier Evaluation Experiment 259 of 782\n",
      "Param = 20.00000 - classifier Evaluation Experiment 260 of 782\n",
      "Param = 20.00000 - classifier Evaluation Experiment 261 of 782\n",
      "Param = 20.00000 - classifier Evaluation Experiment 262 of 782\n",
      "Param = 20.00000 - classifier Evaluation Experiment 263 of 782\n",
      "Param = 20.00000 - classifier Evaluation Experiment 264 of 782\n",
      "Param = 20.00000 - classifier Evaluation Experiment 265 of 782\n",
      "Param = 20.00000 - classifier Evaluation Experiment 266 of 782\n",
      "Param = 20.00000 - classifier Evaluation Experiment 267 of 782\n",
      "Param = 20.00000 - classifier Evaluation Experiment 268 of 782\n",
      "Param = 20.00000 - classifier Evaluation Experiment 269 of 782\n",
      "Param = 20.00000 - classifier Evaluation Experiment 270 of 782\n",
      "Param = 20.00000 - classifier Evaluation Experiment 271 of 782\n",
      "Param = 20.00000 - classifier Evaluation Experiment 272 of 782\n",
      "Param = 20.00000 - classifier Evaluation Experiment 273 of 782\n",
      "Param = 20.00000 - classifier Evaluation Experiment 274 of 782\n",
      "Param = 20.00000 - classifier Evaluation Experiment 275 of 782\n",
      "Param = 20.00000 - classifier Evaluation Experiment 276 of 782\n",
      "Param = 20.00000 - classifier Evaluation Experiment 277 of 782\n",
      "Param = 20.00000 - classifier Evaluation Experiment 278 of 782\n",
      "Param = 20.00000 - classifier Evaluation Experiment 279 of 782\n",
      "Param = 20.00000 - classifier Evaluation Experiment 280 of 782\n",
      "Param = 20.00000 - classifier Evaluation Experiment 281 of 782\n",
      "Param = 20.00000 - classifier Evaluation Experiment 282 of 782\n",
      "Param = 20.00000 - classifier Evaluation Experiment 283 of 782\n",
      "Param = 20.00000 - classifier Evaluation Experiment 284 of 782\n",
      "Param = 20.00000 - classifier Evaluation Experiment 285 of 782\n",
      "Param = 20.00000 - classifier Evaluation Experiment 286 of 782\n",
      "Param = 20.00000 - classifier Evaluation Experiment 287 of 782\n",
      "Param = 20.00000 - classifier Evaluation Experiment 288 of 782\n",
      "Param = 20.00000 - classifier Evaluation Experiment 289 of 782\n",
      "Param = 20.00000 - classifier Evaluation Experiment 290 of 782\n",
      "Param = 20.00000 - classifier Evaluation Experiment 291 of 782\n",
      "Param = 20.00000 - classifier Evaluation Experiment 292 of 782\n",
      "Param = 20.00000 - classifier Evaluation Experiment 293 of 782\n",
      "Param = 20.00000 - classifier Evaluation Experiment 294 of 782\n",
      "Param = 20.00000 - classifier Evaluation Experiment 295 of 782\n",
      "Param = 20.00000 - classifier Evaluation Experiment 296 of 782\n",
      "Param = 20.00000 - classifier Evaluation Experiment 297 of 782\n",
      "Param = 20.00000 - classifier Evaluation Experiment 298 of 782\n",
      "Param = 20.00000 - classifier Evaluation Experiment 299 of 782\n",
      "Param = 20.00000 - classifier Evaluation Experiment 300 of 782\n",
      "Param = 20.00000 - classifier Evaluation Experiment 301 of 782\n",
      "Param = 20.00000 - classifier Evaluation Experiment 302 of 782\n",
      "Param = 20.00000 - classifier Evaluation Experiment 303 of 782\n",
      "Param = 20.00000 - classifier Evaluation Experiment 304 of 782\n",
      "Param = 20.00000 - classifier Evaluation Experiment 305 of 782\n",
      "Param = 20.00000 - classifier Evaluation Experiment 306 of 782\n",
      "Param = 20.00000 - classifier Evaluation Experiment 307 of 782\n",
      "Param = 20.00000 - classifier Evaluation Experiment 308 of 782\n",
      "Param = 20.00000 - classifier Evaluation Experiment 309 of 782\n",
      "Param = 20.00000 - classifier Evaluation Experiment 310 of 782\n",
      "Param = 20.00000 - classifier Evaluation Experiment 311 of 782\n",
      "Param = 20.00000 - classifier Evaluation Experiment 312 of 782\n",
      "Param = 20.00000 - classifier Evaluation Experiment 313 of 782\n",
      "Param = 20.00000 - classifier Evaluation Experiment 314 of 782\n",
      "Param = 20.00000 - classifier Evaluation Experiment 315 of 782\n",
      "Param = 20.00000 - classifier Evaluation Experiment 316 of 782\n",
      "Param = 20.00000 - classifier Evaluation Experiment 317 of 782\n",
      "Param = 20.00000 - classifier Evaluation Experiment 318 of 782\n",
      "Param = 20.00000 - classifier Evaluation Experiment 319 of 782\n",
      "Param = 20.00000 - classifier Evaluation Experiment 320 of 782\n",
      "Param = 20.00000 - classifier Evaluation Experiment 321 of 782\n",
      "Param = 20.00000 - classifier Evaluation Experiment 322 of 782\n",
      "Param = 20.00000 - classifier Evaluation Experiment 323 of 782\n",
      "Param = 20.00000 - classifier Evaluation Experiment 324 of 782\n",
      "Param = 20.00000 - classifier Evaluation Experiment 325 of 782\n",
      "Param = 20.00000 - classifier Evaluation Experiment 326 of 782\n",
      "Param = 20.00000 - classifier Evaluation Experiment 327 of 782\n",
      "Param = 20.00000 - classifier Evaluation Experiment 328 of 782\n",
      "Param = 20.00000 - classifier Evaluation Experiment 329 of 782\n",
      "Param = 20.00000 - classifier Evaluation Experiment 330 of 782\n",
      "Param = 20.00000 - classifier Evaluation Experiment 331 of 782\n",
      "Param = 20.00000 - classifier Evaluation Experiment 332 of 782\n",
      "Param = 20.00000 - classifier Evaluation Experiment 333 of 782\n",
      "Param = 20.00000 - classifier Evaluation Experiment 334 of 782\n",
      "Param = 20.00000 - classifier Evaluation Experiment 335 of 782\n",
      "Param = 20.00000 - classifier Evaluation Experiment 336 of 782\n",
      "Param = 20.00000 - classifier Evaluation Experiment 337 of 782\n",
      "Param = 20.00000 - classifier Evaluation Experiment 338 of 782\n",
      "Param = 20.00000 - classifier Evaluation Experiment 339 of 782\n",
      "Param = 20.00000 - classifier Evaluation Experiment 340 of 782\n",
      "Param = 20.00000 - classifier Evaluation Experiment 341 of 782\n",
      "Param = 20.00000 - classifier Evaluation Experiment 342 of 782\n",
      "Param = 20.00000 - classifier Evaluation Experiment 343 of 782\n",
      "Param = 20.00000 - classifier Evaluation Experiment 344 of 782\n",
      "Param = 20.00000 - classifier Evaluation Experiment 345 of 782\n",
      "Param = 20.00000 - classifier Evaluation Experiment 346 of 782\n",
      "Param = 20.00000 - classifier Evaluation Experiment 347 of 782\n",
      "Param = 20.00000 - classifier Evaluation Experiment 348 of 782\n",
      "Param = 20.00000 - classifier Evaluation Experiment 349 of 782\n",
      "Param = 20.00000 - classifier Evaluation Experiment 350 of 782\n",
      "Param = 20.00000 - classifier Evaluation Experiment 351 of 782\n",
      "Param = 20.00000 - classifier Evaluation Experiment 352 of 782\n",
      "Param = 20.00000 - classifier Evaluation Experiment 353 of 782\n",
      "Param = 20.00000 - classifier Evaluation Experiment 354 of 782\n",
      "Param = 20.00000 - classifier Evaluation Experiment 355 of 782\n",
      "Param = 20.00000 - classifier Evaluation Experiment 356 of 782\n",
      "Param = 20.00000 - classifier Evaluation Experiment 357 of 782\n",
      "Param = 20.00000 - classifier Evaluation Experiment 358 of 782\n",
      "Param = 20.00000 - classifier Evaluation Experiment 359 of 782\n",
      "Param = 20.00000 - classifier Evaluation Experiment 360 of 782\n",
      "Param = 20.00000 - classifier Evaluation Experiment 361 of 782\n",
      "Param = 20.00000 - classifier Evaluation Experiment 362 of 782\n",
      "Param = 20.00000 - classifier Evaluation Experiment 363 of 782\n",
      "Param = 20.00000 - classifier Evaluation Experiment 364 of 782\n",
      "Param = 20.00000 - classifier Evaluation Experiment 365 of 782\n",
      "Param = 20.00000 - classifier Evaluation Experiment 366 of 782\n",
      "Param = 20.00000 - classifier Evaluation Experiment 367 of 782\n",
      "Param = 20.00000 - classifier Evaluation Experiment 368 of 782\n",
      "Param = 20.00000 - classifier Evaluation Experiment 369 of 782\n",
      "Param = 20.00000 - classifier Evaluation Experiment 370 of 782\n",
      "Param = 20.00000 - classifier Evaluation Experiment 371 of 782\n",
      "Param = 20.00000 - classifier Evaluation Experiment 372 of 782\n",
      "Param = 20.00000 - classifier Evaluation Experiment 373 of 782\n",
      "Param = 20.00000 - classifier Evaluation Experiment 374 of 782\n",
      "Param = 20.00000 - classifier Evaluation Experiment 375 of 782\n",
      "Param = 20.00000 - classifier Evaluation Experiment 376 of 782\n",
      "Param = 20.00000 - classifier Evaluation Experiment 377 of 782\n",
      "Param = 20.00000 - classifier Evaluation Experiment 378 of 782\n",
      "Param = 20.00000 - classifier Evaluation Experiment 379 of 782\n",
      "Param = 20.00000 - classifier Evaluation Experiment 380 of 782\n",
      "Param = 20.00000 - classifier Evaluation Experiment 381 of 782\n",
      "Param = 20.00000 - classifier Evaluation Experiment 382 of 782\n",
      "Param = 20.00000 - classifier Evaluation Experiment 383 of 782\n",
      "Param = 20.00000 - classifier Evaluation Experiment 384 of 782\n",
      "Param = 20.00000 - classifier Evaluation Experiment 385 of 782\n",
      "Param = 20.00000 - classifier Evaluation Experiment 386 of 782\n",
      "Param = 20.00000 - classifier Evaluation Experiment 387 of 782\n",
      "Param = 20.00000 - classifier Evaluation Experiment 388 of 782\n",
      "Param = 20.00000 - classifier Evaluation Experiment 389 of 782\n",
      "Param = 20.00000 - classifier Evaluation Experiment 390 of 782\n",
      "Param = 20.00000 - classifier Evaluation Experiment 391 of 782\n",
      "Param = 20.00000 - classifier Evaluation Experiment 392 of 782\n",
      "Param = 20.00000 - classifier Evaluation Experiment 393 of 782\n",
      "Param = 20.00000 - classifier Evaluation Experiment 394 of 782\n",
      "Param = 20.00000 - classifier Evaluation Experiment 395 of 782\n",
      "Param = 20.00000 - classifier Evaluation Experiment 396 of 782\n",
      "Param = 20.00000 - classifier Evaluation Experiment 397 of 782\n",
      "Param = 20.00000 - classifier Evaluation Experiment 398 of 782\n",
      "Param = 20.00000 - classifier Evaluation Experiment 399 of 782\n",
      "Param = 20.00000 - classifier Evaluation Experiment 400 of 782\n",
      "Param = 20.00000 - classifier Evaluation Experiment 401 of 782\n",
      "Param = 20.00000 - classifier Evaluation Experiment 402 of 782\n",
      "Param = 20.00000 - classifier Evaluation Experiment 403 of 782\n",
      "Param = 20.00000 - classifier Evaluation Experiment 404 of 782\n",
      "Param = 20.00000 - classifier Evaluation Experiment 405 of 782\n",
      "Param = 20.00000 - classifier Evaluation Experiment 406 of 782\n",
      "Param = 20.00000 - classifier Evaluation Experiment 407 of 782\n",
      "Param = 20.00000 - classifier Evaluation Experiment 408 of 782\n",
      "Param = 20.00000 - classifier Evaluation Experiment 409 of 782\n",
      "Param = 20.00000 - classifier Evaluation Experiment 410 of 782\n",
      "Param = 20.00000 - classifier Evaluation Experiment 411 of 782\n",
      "Param = 20.00000 - classifier Evaluation Experiment 412 of 782\n",
      "Param = 20.00000 - classifier Evaluation Experiment 413 of 782\n",
      "Param = 20.00000 - classifier Evaluation Experiment 414 of 782\n",
      "Param = 20.00000 - classifier Evaluation Experiment 415 of 782\n",
      "Param = 20.00000 - classifier Evaluation Experiment 416 of 782\n",
      "Param = 20.00000 - classifier Evaluation Experiment 417 of 782\n",
      "Param = 20.00000 - classifier Evaluation Experiment 418 of 782\n",
      "Param = 20.00000 - classifier Evaluation Experiment 419 of 782\n",
      "Param = 20.00000 - classifier Evaluation Experiment 420 of 782\n",
      "Param = 20.00000 - classifier Evaluation Experiment 421 of 782\n",
      "Param = 20.00000 - classifier Evaluation Experiment 422 of 782\n",
      "Param = 20.00000 - classifier Evaluation Experiment 423 of 782\n",
      "Param = 20.00000 - classifier Evaluation Experiment 424 of 782\n",
      "Param = 20.00000 - classifier Evaluation Experiment 425 of 782\n",
      "Param = 20.00000 - classifier Evaluation Experiment 426 of 782\n",
      "Param = 20.00000 - classifier Evaluation Experiment 427 of 782\n",
      "Param = 20.00000 - classifier Evaluation Experiment 428 of 782\n",
      "Param = 20.00000 - classifier Evaluation Experiment 429 of 782\n",
      "Param = 20.00000 - classifier Evaluation Experiment 430 of 782\n",
      "Param = 20.00000 - classifier Evaluation Experiment 431 of 782\n",
      "Param = 20.00000 - classifier Evaluation Experiment 432 of 782\n",
      "Param = 20.00000 - classifier Evaluation Experiment 433 of 782\n",
      "Param = 20.00000 - classifier Evaluation Experiment 434 of 782\n",
      "Param = 20.00000 - classifier Evaluation Experiment 435 of 782\n",
      "Param = 20.00000 - classifier Evaluation Experiment 436 of 782\n",
      "Param = 20.00000 - classifier Evaluation Experiment 437 of 782\n",
      "Param = 20.00000 - classifier Evaluation Experiment 438 of 782\n",
      "Param = 20.00000 - classifier Evaluation Experiment 439 of 782\n",
      "Param = 20.00000 - classifier Evaluation Experiment 440 of 782\n",
      "Param = 20.00000 - classifier Evaluation Experiment 441 of 782\n",
      "Param = 20.00000 - classifier Evaluation Experiment 442 of 782\n",
      "Param = 20.00000 - classifier Evaluation Experiment 443 of 782\n",
      "Param = 20.00000 - classifier Evaluation Experiment 444 of 782\n",
      "Param = 20.00000 - classifier Evaluation Experiment 445 of 782\n",
      "Param = 20.00000 - classifier Evaluation Experiment 446 of 782\n",
      "Param = 20.00000 - classifier Evaluation Experiment 447 of 782\n",
      "Param = 20.00000 - classifier Evaluation Experiment 448 of 782\n",
      "Param = 20.00000 - classifier Evaluation Experiment 449 of 782\n",
      "Param = 20.00000 - classifier Evaluation Experiment 450 of 782\n",
      "Param = 20.00000 - classifier Evaluation Experiment 451 of 782\n",
      "Param = 20.00000 - classifier Evaluation Experiment 452 of 782\n",
      "Param = 20.00000 - classifier Evaluation Experiment 453 of 782\n",
      "Param = 20.00000 - classifier Evaluation Experiment 454 of 782\n",
      "Param = 20.00000 - classifier Evaluation Experiment 455 of 782\n",
      "Param = 20.00000 - classifier Evaluation Experiment 456 of 782\n",
      "Param = 20.00000 - classifier Evaluation Experiment 457 of 782\n",
      "Param = 20.00000 - classifier Evaluation Experiment 458 of 782\n",
      "Param = 20.00000 - classifier Evaluation Experiment 459 of 782\n",
      "Param = 20.00000 - classifier Evaluation Experiment 460 of 782\n",
      "Param = 20.00000 - classifier Evaluation Experiment 461 of 782\n",
      "Param = 20.00000 - classifier Evaluation Experiment 462 of 782\n",
      "Param = 20.00000 - classifier Evaluation Experiment 463 of 782\n",
      "Param = 20.00000 - classifier Evaluation Experiment 464 of 782\n",
      "Param = 20.00000 - classifier Evaluation Experiment 465 of 782\n",
      "Param = 20.00000 - classifier Evaluation Experiment 466 of 782\n",
      "Param = 20.00000 - classifier Evaluation Experiment 467 of 782\n",
      "Param = 20.00000 - classifier Evaluation Experiment 468 of 782\n",
      "Param = 20.00000 - classifier Evaluation Experiment 469 of 782\n",
      "Param = 20.00000 - classifier Evaluation Experiment 470 of 782\n",
      "Param = 20.00000 - classifier Evaluation Experiment 471 of 782\n",
      "Param = 20.00000 - classifier Evaluation Experiment 472 of 782\n",
      "Param = 20.00000 - classifier Evaluation Experiment 473 of 782\n",
      "Param = 20.00000 - classifier Evaluation Experiment 474 of 782\n",
      "Param = 20.00000 - classifier Evaluation Experiment 475 of 782\n",
      "Param = 20.00000 - classifier Evaluation Experiment 476 of 782\n",
      "Param = 20.00000 - classifier Evaluation Experiment 477 of 782\n",
      "Param = 20.00000 - classifier Evaluation Experiment 478 of 782\n",
      "Param = 20.00000 - classifier Evaluation Experiment 479 of 782\n",
      "Param = 20.00000 - classifier Evaluation Experiment 480 of 782\n",
      "Param = 20.00000 - classifier Evaluation Experiment 481 of 782\n",
      "Param = 20.00000 - classifier Evaluation Experiment 482 of 782\n",
      "Param = 20.00000 - classifier Evaluation Experiment 483 of 782\n",
      "Param = 20.00000 - classifier Evaluation Experiment 484 of 782\n",
      "Param = 20.00000 - classifier Evaluation Experiment 485 of 782\n",
      "Param = 20.00000 - classifier Evaluation Experiment 486 of 782\n",
      "Param = 20.00000 - classifier Evaluation Experiment 487 of 782\n",
      "Param = 20.00000 - classifier Evaluation Experiment 488 of 782\n",
      "Param = 20.00000 - classifier Evaluation Experiment 489 of 782\n",
      "Param = 20.00000 - classifier Evaluation Experiment 490 of 782\n",
      "Param = 20.00000 - classifier Evaluation Experiment 491 of 782\n",
      "Param = 20.00000 - classifier Evaluation Experiment 492 of 782\n",
      "Param = 20.00000 - classifier Evaluation Experiment 493 of 782\n",
      "Param = 20.00000 - classifier Evaluation Experiment 494 of 782\n",
      "Param = 20.00000 - classifier Evaluation Experiment 495 of 782\n",
      "Param = 20.00000 - classifier Evaluation Experiment 496 of 782\n",
      "Param = 20.00000 - classifier Evaluation Experiment 497 of 782\n",
      "Param = 20.00000 - classifier Evaluation Experiment 498 of 782\n",
      "Param = 20.00000 - classifier Evaluation Experiment 499 of 782\n",
      "Param = 20.00000 - classifier Evaluation Experiment 500 of 782\n",
      "Param = 20.00000 - classifier Evaluation Experiment 501 of 782\n",
      "Param = 20.00000 - classifier Evaluation Experiment 502 of 782\n",
      "Param = 20.00000 - classifier Evaluation Experiment 503 of 782\n",
      "Param = 20.00000 - classifier Evaluation Experiment 504 of 782\n",
      "Param = 20.00000 - classifier Evaluation Experiment 505 of 782\n",
      "Param = 20.00000 - classifier Evaluation Experiment 506 of 782\n",
      "Param = 20.00000 - classifier Evaluation Experiment 507 of 782\n",
      "Param = 20.00000 - classifier Evaluation Experiment 508 of 782\n",
      "Param = 20.00000 - classifier Evaluation Experiment 509 of 782\n",
      "Param = 20.00000 - classifier Evaluation Experiment 510 of 782\n",
      "Param = 20.00000 - classifier Evaluation Experiment 511 of 782\n",
      "Param = 20.00000 - classifier Evaluation Experiment 512 of 782\n",
      "Param = 20.00000 - classifier Evaluation Experiment 513 of 782\n",
      "Param = 20.00000 - classifier Evaluation Experiment 514 of 782\n",
      "Param = 20.00000 - classifier Evaluation Experiment 515 of 782\n",
      "Param = 20.00000 - classifier Evaluation Experiment 516 of 782\n",
      "Param = 20.00000 - classifier Evaluation Experiment 517 of 782\n",
      "Param = 20.00000 - classifier Evaluation Experiment 518 of 782\n",
      "Param = 20.00000 - classifier Evaluation Experiment 519 of 782\n",
      "Param = 20.00000 - classifier Evaluation Experiment 520 of 782\n",
      "Param = 20.00000 - classifier Evaluation Experiment 521 of 782\n",
      "Param = 20.00000 - classifier Evaluation Experiment 522 of 782\n",
      "Param = 20.00000 - classifier Evaluation Experiment 523 of 782\n",
      "Param = 20.00000 - classifier Evaluation Experiment 524 of 782\n",
      "Param = 20.00000 - classifier Evaluation Experiment 525 of 782\n",
      "Param = 20.00000 - classifier Evaluation Experiment 526 of 782\n",
      "Param = 20.00000 - classifier Evaluation Experiment 527 of 782\n",
      "Param = 20.00000 - classifier Evaluation Experiment 528 of 782\n",
      "Param = 20.00000 - classifier Evaluation Experiment 529 of 782\n",
      "Param = 20.00000 - classifier Evaluation Experiment 530 of 782\n",
      "Param = 20.00000 - classifier Evaluation Experiment 531 of 782\n",
      "Param = 20.00000 - classifier Evaluation Experiment 532 of 782\n",
      "Param = 20.00000 - classifier Evaluation Experiment 533 of 782\n",
      "Param = 20.00000 - classifier Evaluation Experiment 534 of 782\n",
      "Param = 20.00000 - classifier Evaluation Experiment 535 of 782\n",
      "Param = 20.00000 - classifier Evaluation Experiment 536 of 782\n",
      "Param = 20.00000 - classifier Evaluation Experiment 537 of 782\n",
      "Param = 20.00000 - classifier Evaluation Experiment 538 of 782\n",
      "Param = 20.00000 - classifier Evaluation Experiment 539 of 782\n",
      "Param = 20.00000 - classifier Evaluation Experiment 540 of 782\n",
      "Param = 20.00000 - classifier Evaluation Experiment 541 of 782\n",
      "Param = 20.00000 - classifier Evaluation Experiment 542 of 782\n",
      "Param = 20.00000 - classifier Evaluation Experiment 543 of 782\n",
      "Param = 20.00000 - classifier Evaluation Experiment 544 of 782\n",
      "Param = 20.00000 - classifier Evaluation Experiment 545 of 782\n",
      "Param = 20.00000 - classifier Evaluation Experiment 546 of 782\n",
      "Param = 20.00000 - classifier Evaluation Experiment 547 of 782\n",
      "Param = 20.00000 - classifier Evaluation Experiment 548 of 782\n",
      "Param = 20.00000 - classifier Evaluation Experiment 549 of 782\n",
      "Param = 20.00000 - classifier Evaluation Experiment 550 of 782\n",
      "Param = 20.00000 - classifier Evaluation Experiment 551 of 782\n",
      "Param = 20.00000 - classifier Evaluation Experiment 552 of 782\n",
      "Param = 20.00000 - classifier Evaluation Experiment 553 of 782\n",
      "Param = 20.00000 - classifier Evaluation Experiment 554 of 782\n",
      "Param = 20.00000 - classifier Evaluation Experiment 555 of 782\n",
      "Param = 20.00000 - classifier Evaluation Experiment 556 of 782\n",
      "Param = 20.00000 - classifier Evaluation Experiment 557 of 782\n",
      "Param = 20.00000 - classifier Evaluation Experiment 558 of 782\n",
      "Param = 20.00000 - classifier Evaluation Experiment 559 of 782\n",
      "Param = 20.00000 - classifier Evaluation Experiment 560 of 782\n",
      "Param = 20.00000 - classifier Evaluation Experiment 561 of 782\n",
      "Param = 20.00000 - classifier Evaluation Experiment 562 of 782\n",
      "Param = 20.00000 - classifier Evaluation Experiment 563 of 782\n",
      "Param = 20.00000 - classifier Evaluation Experiment 564 of 782\n",
      "Param = 20.00000 - classifier Evaluation Experiment 565 of 782\n",
      "Param = 20.00000 - classifier Evaluation Experiment 566 of 782\n",
      "Param = 20.00000 - classifier Evaluation Experiment 567 of 782\n",
      "Param = 20.00000 - classifier Evaluation Experiment 568 of 782\n",
      "Param = 20.00000 - classifier Evaluation Experiment 569 of 782\n",
      "Param = 20.00000 - classifier Evaluation Experiment 570 of 782\n",
      "Param = 20.00000 - classifier Evaluation Experiment 571 of 782\n",
      "Param = 20.00000 - classifier Evaluation Experiment 572 of 782\n",
      "Param = 20.00000 - classifier Evaluation Experiment 573 of 782\n",
      "Param = 20.00000 - classifier Evaluation Experiment 574 of 782\n",
      "Param = 20.00000 - classifier Evaluation Experiment 575 of 782\n",
      "Param = 20.00000 - classifier Evaluation Experiment 576 of 782\n",
      "Param = 20.00000 - classifier Evaluation Experiment 577 of 782\n",
      "Param = 20.00000 - classifier Evaluation Experiment 578 of 782\n",
      "Param = 20.00000 - classifier Evaluation Experiment 579 of 782\n",
      "Param = 20.00000 - classifier Evaluation Experiment 580 of 782\n",
      "Param = 20.00000 - classifier Evaluation Experiment 581 of 782\n",
      "Param = 20.00000 - classifier Evaluation Experiment 582 of 782\n",
      "Param = 20.00000 - classifier Evaluation Experiment 583 of 782\n",
      "Param = 20.00000 - classifier Evaluation Experiment 584 of 782\n",
      "Param = 20.00000 - classifier Evaluation Experiment 585 of 782\n",
      "Param = 20.00000 - classifier Evaluation Experiment 586 of 782\n",
      "Param = 20.00000 - classifier Evaluation Experiment 587 of 782\n",
      "Param = 20.00000 - classifier Evaluation Experiment 588 of 782\n",
      "Param = 20.00000 - classifier Evaluation Experiment 589 of 782\n",
      "Param = 20.00000 - classifier Evaluation Experiment 590 of 782\n",
      "Param = 20.00000 - classifier Evaluation Experiment 591 of 782\n",
      "Param = 20.00000 - classifier Evaluation Experiment 592 of 782\n",
      "Param = 20.00000 - classifier Evaluation Experiment 593 of 782\n",
      "Param = 20.00000 - classifier Evaluation Experiment 594 of 782\n",
      "Param = 20.00000 - classifier Evaluation Experiment 595 of 782\n",
      "Param = 20.00000 - classifier Evaluation Experiment 596 of 782\n",
      "Param = 20.00000 - classifier Evaluation Experiment 597 of 782\n",
      "Param = 20.00000 - classifier Evaluation Experiment 598 of 782\n",
      "Param = 20.00000 - classifier Evaluation Experiment 599 of 782\n",
      "Param = 20.00000 - classifier Evaluation Experiment 600 of 782\n",
      "Param = 20.00000 - classifier Evaluation Experiment 601 of 782\n",
      "Param = 20.00000 - classifier Evaluation Experiment 602 of 782\n",
      "Param = 20.00000 - classifier Evaluation Experiment 603 of 782\n",
      "Param = 20.00000 - classifier Evaluation Experiment 604 of 782\n",
      "Param = 20.00000 - classifier Evaluation Experiment 605 of 782\n",
      "Param = 20.00000 - classifier Evaluation Experiment 606 of 782\n",
      "Param = 20.00000 - classifier Evaluation Experiment 607 of 782\n",
      "Param = 20.00000 - classifier Evaluation Experiment 608 of 782\n",
      "Param = 20.00000 - classifier Evaluation Experiment 609 of 782\n",
      "Param = 20.00000 - classifier Evaluation Experiment 610 of 782\n",
      "Param = 20.00000 - classifier Evaluation Experiment 611 of 782\n",
      "Param = 20.00000 - classifier Evaluation Experiment 612 of 782\n",
      "Param = 20.00000 - classifier Evaluation Experiment 613 of 782\n",
      "Param = 20.00000 - classifier Evaluation Experiment 614 of 782\n",
      "Param = 20.00000 - classifier Evaluation Experiment 615 of 782\n",
      "Param = 20.00000 - classifier Evaluation Experiment 616 of 782\n",
      "Param = 20.00000 - classifier Evaluation Experiment 617 of 782\n",
      "Param = 20.00000 - classifier Evaluation Experiment 618 of 782\n",
      "Param = 20.00000 - classifier Evaluation Experiment 619 of 782\n",
      "Param = 20.00000 - classifier Evaluation Experiment 620 of 782\n",
      "Param = 20.00000 - classifier Evaluation Experiment 621 of 782\n",
      "Param = 20.00000 - classifier Evaluation Experiment 622 of 782\n",
      "Param = 20.00000 - classifier Evaluation Experiment 623 of 782\n",
      "Param = 20.00000 - classifier Evaluation Experiment 624 of 782\n",
      "Param = 20.00000 - classifier Evaluation Experiment 625 of 782\n",
      "Param = 20.00000 - classifier Evaluation Experiment 626 of 782\n",
      "Param = 20.00000 - classifier Evaluation Experiment 627 of 782\n",
      "Param = 20.00000 - classifier Evaluation Experiment 628 of 782\n",
      "Param = 20.00000 - classifier Evaluation Experiment 629 of 782\n",
      "Param = 20.00000 - classifier Evaluation Experiment 630 of 782\n",
      "Param = 20.00000 - classifier Evaluation Experiment 631 of 782\n",
      "Param = 20.00000 - classifier Evaluation Experiment 632 of 782\n",
      "Param = 20.00000 - classifier Evaluation Experiment 633 of 782\n",
      "Param = 20.00000 - classifier Evaluation Experiment 634 of 782\n",
      "Param = 20.00000 - classifier Evaluation Experiment 635 of 782\n",
      "Param = 20.00000 - classifier Evaluation Experiment 636 of 782\n",
      "Param = 20.00000 - classifier Evaluation Experiment 637 of 782\n",
      "Param = 20.00000 - classifier Evaluation Experiment 638 of 782\n",
      "Param = 20.00000 - classifier Evaluation Experiment 639 of 782\n",
      "Param = 20.00000 - classifier Evaluation Experiment 640 of 782\n",
      "Param = 20.00000 - classifier Evaluation Experiment 641 of 782\n",
      "Param = 20.00000 - classifier Evaluation Experiment 642 of 782\n",
      "Param = 20.00000 - classifier Evaluation Experiment 643 of 782\n",
      "Param = 20.00000 - classifier Evaluation Experiment 644 of 782\n",
      "Param = 20.00000 - classifier Evaluation Experiment 645 of 782\n",
      "Param = 20.00000 - classifier Evaluation Experiment 646 of 782\n",
      "Param = 20.00000 - classifier Evaluation Experiment 647 of 782\n",
      "Param = 20.00000 - classifier Evaluation Experiment 648 of 782\n",
      "Param = 20.00000 - classifier Evaluation Experiment 649 of 782\n",
      "Param = 20.00000 - classifier Evaluation Experiment 650 of 782\n",
      "Param = 20.00000 - classifier Evaluation Experiment 651 of 782\n",
      "Param = 20.00000 - classifier Evaluation Experiment 652 of 782\n",
      "Param = 20.00000 - classifier Evaluation Experiment 653 of 782\n",
      "Param = 20.00000 - classifier Evaluation Experiment 654 of 782\n",
      "Param = 20.00000 - classifier Evaluation Experiment 655 of 782\n",
      "Param = 20.00000 - classifier Evaluation Experiment 656 of 782\n",
      "Param = 20.00000 - classifier Evaluation Experiment 657 of 782\n",
      "Param = 20.00000 - classifier Evaluation Experiment 658 of 782\n",
      "Param = 20.00000 - classifier Evaluation Experiment 659 of 782\n",
      "Param = 20.00000 - classifier Evaluation Experiment 660 of 782\n",
      "Param = 20.00000 - classifier Evaluation Experiment 661 of 782\n",
      "Param = 20.00000 - classifier Evaluation Experiment 662 of 782\n",
      "Param = 20.00000 - classifier Evaluation Experiment 663 of 782\n",
      "Param = 20.00000 - classifier Evaluation Experiment 664 of 782\n",
      "Param = 20.00000 - classifier Evaluation Experiment 665 of 782\n",
      "Param = 20.00000 - classifier Evaluation Experiment 666 of 782\n",
      "Param = 20.00000 - classifier Evaluation Experiment 667 of 782\n",
      "Param = 20.00000 - classifier Evaluation Experiment 668 of 782\n",
      "Param = 20.00000 - classifier Evaluation Experiment 669 of 782\n",
      "Param = 20.00000 - classifier Evaluation Experiment 670 of 782\n",
      "Param = 20.00000 - classifier Evaluation Experiment 671 of 782\n",
      "Param = 20.00000 - classifier Evaluation Experiment 672 of 782\n",
      "Param = 20.00000 - classifier Evaluation Experiment 673 of 782\n",
      "Param = 20.00000 - classifier Evaluation Experiment 674 of 782\n",
      "Param = 20.00000 - classifier Evaluation Experiment 675 of 782\n",
      "Param = 20.00000 - classifier Evaluation Experiment 676 of 782\n",
      "Param = 20.00000 - classifier Evaluation Experiment 677 of 782\n",
      "Param = 20.00000 - classifier Evaluation Experiment 678 of 782\n",
      "Param = 20.00000 - classifier Evaluation Experiment 679 of 782\n",
      "Param = 20.00000 - classifier Evaluation Experiment 680 of 782\n",
      "Param = 20.00000 - classifier Evaluation Experiment 681 of 782\n",
      "Param = 20.00000 - classifier Evaluation Experiment 682 of 782\n",
      "Param = 20.00000 - classifier Evaluation Experiment 683 of 782\n",
      "Param = 20.00000 - classifier Evaluation Experiment 684 of 782\n",
      "Param = 20.00000 - classifier Evaluation Experiment 685 of 782\n",
      "Param = 20.00000 - classifier Evaluation Experiment 686 of 782\n",
      "Param = 20.00000 - classifier Evaluation Experiment 687 of 782\n",
      "Param = 20.00000 - classifier Evaluation Experiment 688 of 782\n",
      "Param = 20.00000 - classifier Evaluation Experiment 689 of 782\n",
      "Param = 20.00000 - classifier Evaluation Experiment 690 of 782\n",
      "Param = 20.00000 - classifier Evaluation Experiment 691 of 782\n",
      "Param = 20.00000 - classifier Evaluation Experiment 692 of 782\n",
      "Param = 20.00000 - classifier Evaluation Experiment 693 of 782\n",
      "Param = 20.00000 - classifier Evaluation Experiment 694 of 782\n",
      "Param = 20.00000 - classifier Evaluation Experiment 695 of 782\n",
      "Param = 20.00000 - classifier Evaluation Experiment 696 of 782\n",
      "Param = 20.00000 - classifier Evaluation Experiment 697 of 782\n",
      "Param = 20.00000 - classifier Evaluation Experiment 698 of 782\n",
      "Param = 20.00000 - classifier Evaluation Experiment 699 of 782\n",
      "Param = 20.00000 - classifier Evaluation Experiment 700 of 782\n",
      "Param = 20.00000 - classifier Evaluation Experiment 701 of 782\n",
      "Param = 20.00000 - classifier Evaluation Experiment 702 of 782\n",
      "Param = 20.00000 - classifier Evaluation Experiment 703 of 782\n",
      "Param = 20.00000 - classifier Evaluation Experiment 704 of 782\n",
      "Param = 20.00000 - classifier Evaluation Experiment 705 of 782\n",
      "Param = 20.00000 - classifier Evaluation Experiment 706 of 782\n",
      "Param = 20.00000 - classifier Evaluation Experiment 707 of 782\n",
      "Param = 20.00000 - classifier Evaluation Experiment 708 of 782\n",
      "Param = 20.00000 - classifier Evaluation Experiment 709 of 782\n",
      "Param = 20.00000 - classifier Evaluation Experiment 710 of 782\n",
      "Param = 20.00000 - classifier Evaluation Experiment 711 of 782\n",
      "Param = 20.00000 - classifier Evaluation Experiment 712 of 782\n",
      "Param = 20.00000 - classifier Evaluation Experiment 713 of 782\n",
      "Param = 20.00000 - classifier Evaluation Experiment 714 of 782\n",
      "Param = 20.00000 - classifier Evaluation Experiment 715 of 782\n",
      "Param = 20.00000 - classifier Evaluation Experiment 716 of 782\n",
      "Param = 20.00000 - classifier Evaluation Experiment 717 of 782\n",
      "Param = 20.00000 - classifier Evaluation Experiment 718 of 782\n",
      "Param = 20.00000 - classifier Evaluation Experiment 719 of 782\n",
      "Param = 20.00000 - classifier Evaluation Experiment 720 of 782\n",
      "Param = 20.00000 - classifier Evaluation Experiment 721 of 782\n",
      "Param = 20.00000 - classifier Evaluation Experiment 722 of 782\n",
      "Param = 20.00000 - classifier Evaluation Experiment 723 of 782\n",
      "Param = 20.00000 - classifier Evaluation Experiment 724 of 782\n",
      "Param = 20.00000 - classifier Evaluation Experiment 725 of 782\n",
      "Param = 20.00000 - classifier Evaluation Experiment 726 of 782\n",
      "Param = 20.00000 - classifier Evaluation Experiment 727 of 782\n",
      "Param = 20.00000 - classifier Evaluation Experiment 728 of 782\n",
      "Param = 20.00000 - classifier Evaluation Experiment 729 of 782\n",
      "Param = 20.00000 - classifier Evaluation Experiment 730 of 782\n",
      "Param = 20.00000 - classifier Evaluation Experiment 731 of 782\n",
      "Param = 20.00000 - classifier Evaluation Experiment 732 of 782\n",
      "Param = 20.00000 - classifier Evaluation Experiment 733 of 782\n",
      "Param = 20.00000 - classifier Evaluation Experiment 734 of 782\n",
      "Param = 20.00000 - classifier Evaluation Experiment 735 of 782\n",
      "Param = 20.00000 - classifier Evaluation Experiment 736 of 782\n",
      "Param = 20.00000 - classifier Evaluation Experiment 737 of 782\n",
      "Param = 20.00000 - classifier Evaluation Experiment 738 of 782\n",
      "Param = 20.00000 - classifier Evaluation Experiment 739 of 782\n",
      "Param = 20.00000 - classifier Evaluation Experiment 740 of 782\n",
      "Param = 20.00000 - classifier Evaluation Experiment 741 of 782\n",
      "Param = 20.00000 - classifier Evaluation Experiment 742 of 782\n",
      "Param = 20.00000 - classifier Evaluation Experiment 743 of 782\n",
      "Param = 20.00000 - classifier Evaluation Experiment 744 of 782\n",
      "Param = 20.00000 - classifier Evaluation Experiment 745 of 782\n",
      "Param = 20.00000 - classifier Evaluation Experiment 746 of 782\n",
      "Param = 20.00000 - classifier Evaluation Experiment 747 of 782\n",
      "Param = 20.00000 - classifier Evaluation Experiment 748 of 782\n",
      "Param = 20.00000 - classifier Evaluation Experiment 749 of 782\n",
      "Param = 20.00000 - classifier Evaluation Experiment 750 of 782\n",
      "Param = 20.00000 - classifier Evaluation Experiment 751 of 782\n",
      "Param = 20.00000 - classifier Evaluation Experiment 752 of 782\n",
      "Param = 20.00000 - classifier Evaluation Experiment 753 of 782\n",
      "Param = 20.00000 - classifier Evaluation Experiment 754 of 782\n",
      "Param = 20.00000 - classifier Evaluation Experiment 755 of 782\n",
      "Param = 20.00000 - classifier Evaluation Experiment 756 of 782\n",
      "Param = 20.00000 - classifier Evaluation Experiment 757 of 782\n",
      "Param = 20.00000 - classifier Evaluation Experiment 758 of 782\n",
      "Param = 20.00000 - classifier Evaluation Experiment 759 of 782\n",
      "Param = 20.00000 - classifier Evaluation Experiment 760 of 782\n",
      "Param = 20.00000 - classifier Evaluation Experiment 761 of 782\n",
      "Param = 20.00000 - classifier Evaluation Experiment 762 of 782\n",
      "Param = 20.00000 - classifier Evaluation Experiment 763 of 782\n",
      "Param = 20.00000 - classifier Evaluation Experiment 764 of 782\n",
      "Param = 20.00000 - classifier Evaluation Experiment 765 of 782\n",
      "Param = 20.00000 - classifier Evaluation Experiment 766 of 782\n",
      "Param = 20.00000 - classifier Evaluation Experiment 767 of 782\n",
      "Param = 20.00000 - classifier Evaluation Experiment 768 of 782\n",
      "Param = 20.00000 - classifier Evaluation Experiment 769 of 782\n",
      "Param = 20.00000 - classifier Evaluation Experiment 770 of 782\n",
      "Param = 20.00000 - classifier Evaluation Experiment 771 of 782\n",
      "Param = 20.00000 - classifier Evaluation Experiment 772 of 782\n",
      "Param = 20.00000 - classifier Evaluation Experiment 773 of 782\n",
      "Param = 20.00000 - classifier Evaluation Experiment 774 of 782\n",
      "Param = 20.00000 - classifier Evaluation Experiment 775 of 782\n",
      "Param = 20.00000 - classifier Evaluation Experiment 776 of 782\n",
      "Param = 20.00000 - classifier Evaluation Experiment 777 of 782\n",
      "Param = 20.00000 - classifier Evaluation Experiment 778 of 782\n",
      "Param = 20.00000 - classifier Evaluation Experiment 779 of 782\n",
      "Param = 20.00000 - classifier Evaluation Experiment 780 of 782\n",
      "Param = 20.00000 - classifier Evaluation Experiment 781 of 782\n",
      "Param = 20.00000 - classifier Evaluation Experiment 782 of 782\n",
      "\t\tRuminating_pure\t\t\tGulp_pure\t\t\tBreath\t\tOVERALL\n",
      "\tC\tPRE\tREC\tf1\tPRE\tREC\tf1\tPRE\tREC\tf1\tACC\tf1\n",
      "\t0.001\t40.6\t99.6\t57.7\t33.3\t0.0\t0.0\t0.0\t0.0\t0.0\t40.5\t19.2\n",
      "\t0.010\t40.3\t99.8\t57.4\t33.3\t0.0\t0.0\t0.0\t0.0\t0.0\t40.3\t19.1\n",
      "\t0.500\t83.1\t97.7\t89.8\t100.0\t85.5\t92.2\t94.2\t85.2\t89.5\t90.4\t90.5\n",
      "\t1.000\t83.2\t99.1\t90.4\t100.0\t86.7\t92.9\t96.6\t84.9\t90.4\t91.1\t91.2\n",
      "\t5.000\t84.5\t98.5\t91.0\t99.8\t89.0\t94.1\t97.0\t86.5\t91.5\t91.9\t92.2\n",
      "\t10.000\t84.2\t98.6\t90.8\t99.9\t89.0\t94.2\t97.6\t86.8\t91.9\t92.1\t92.3\t best f1\t best Acc\n",
      "\t20.000\t85.2\t98.2\t91.2\t99.7\t88.7\t93.9\t96.7\t86.7\t91.4\t92.0\t92.2\n",
      "Confusion Matrix:\n",
      "\tRum\tGul\tBre\n",
      "Rum\t38.42\t0.02\t0.51\n",
      "Gul\t2.98\t25.69\t0.18\n",
      "Bre\t4.26\t0.00\t27.95\n",
      "Best macro f1 92.3\n",
      "Best macro f1 std 13.4\n",
      "Selected params: 10.00000\n"
     ]
    }
   ],
   "source": [
    "from pyAudioAnalysis.audioTrainTest import extract_features_and_train\n",
    "import os\n",
    "mt, st = 0.5, 0.05\n",
    "dirs = [os.path.join('E:/Files','Acoustic Data', 'Ruminating_pure'), os.path.join('E:/Files','Acoustic Data', 'Gulp_pure'),os.path.join('E:/Files','Acoustic Data', 'Breath')] \n",
    "extract_features_and_train(dirs, mt, mt, st, st, \"svm_rbf\", \"svm_Ruminating_Gulp_Breath\")"
   ]
  },
  {
   "cell_type": "code",
   "execution_count": 68,
   "metadata": {},
   "outputs": [
    {
     "name": "stdout",
     "output_type": "stream",
     "text": [
      "E:/Files\\Acoustic Data\\Test\\part_audio_052\\Gulp_106s_106.9s.wav:\n",
      "P(Ruminating_pure=0.25965523021867554)\n",
      "P(Gulp_pure=0.65811636605586)\n",
      "\n",
      "E:/Files\\Acoustic Data\\Test\\part_audio_052\\Gulp_126s_132.2s.wav:\n",
      "P(Ruminating_pure=0.036636768653859154)\n",
      "P(Gulp_pure=0.9431377935899317)\n",
      "\n",
      "E:/Files\\Acoustic Data\\Test\\part_audio_052\\Gulp_15s_17.8s.wav:\n",
      "P(Ruminating_pure=0.047958813653438605)\n",
      "P(Gulp_pure=0.9376900319122882)\n",
      "\n",
      "E:/Files\\Acoustic Data\\Test\\part_audio_052\\Gulp_169s_170s.wav:\n",
      "P(Ruminating_pure=0.12430544028689815)\n",
      "P(Gulp_pure=0.8042406895599514)\n",
      "\n",
      "E:/Files\\Acoustic Data\\Test\\part_audio_052\\Gulp_41.5s_43s.wav:\n",
      "P(Ruminating_pure=0.09551052289668187)\n",
      "P(Gulp_pure=0.8527492398892689)\n",
      "\n",
      "E:/Files\\Acoustic Data\\Test\\part_audio_052\\Gulp_75s_78.7s.wav:\n",
      "P(Ruminating_pure=0.02537670841304623)\n",
      "P(Gulp_pure=0.9633800648380351)\n",
      "\n",
      "E:/Files\\Acoustic Data\\Test\\part_audio_052\\Rumination_0s_15s.wav:\n"
     ]
    },
    {
     "name": "stderr",
     "output_type": "stream",
     "text": [
      "e:\\Python\\Lib\\site-packages\\pyAudioAnalysis\\audioBasicIO.py:99: WavFileWarning:\n",
      "\n",
      "Chunk (non-data) not understood, skipping it.\n",
      "\n",
      "e:\\Python\\Lib\\site-packages\\pyAudioAnalysis\\audioBasicIO.py:99: WavFileWarning:\n",
      "\n",
      "Chunk (non-data) not understood, skipping it.\n",
      "\n",
      "e:\\Python\\Lib\\site-packages\\pyAudioAnalysis\\audioBasicIO.py:99: WavFileWarning:\n",
      "\n",
      "Chunk (non-data) not understood, skipping it.\n",
      "\n",
      "e:\\Python\\Lib\\site-packages\\pyAudioAnalysis\\audioBasicIO.py:99: WavFileWarning:\n",
      "\n",
      "Chunk (non-data) not understood, skipping it.\n",
      "\n",
      "e:\\Python\\Lib\\site-packages\\pyAudioAnalysis\\audioBasicIO.py:99: WavFileWarning:\n",
      "\n",
      "Chunk (non-data) not understood, skipping it.\n",
      "\n",
      "e:\\Python\\Lib\\site-packages\\pyAudioAnalysis\\audioBasicIO.py:99: WavFileWarning:\n",
      "\n",
      "Chunk (non-data) not understood, skipping it.\n",
      "\n",
      "e:\\Python\\Lib\\site-packages\\pyAudioAnalysis\\audioBasicIO.py:99: WavFileWarning:\n",
      "\n",
      "Chunk (non-data) not understood, skipping it.\n",
      "\n"
     ]
    },
    {
     "name": "stdout",
     "output_type": "stream",
     "text": [
      "P(Ruminating_pure=0.5635102529431801)\n",
      "P(Gulp_pure=0.40210647016743356)\n",
      "\n",
      "E:/Files\\Acoustic Data\\Test\\part_audio_052\\Rumination_106.9s_126s.wav:\n",
      "P(Ruminating_pure=0.6243565570078221)\n",
      "P(Gulp_pure=0.18823393924413)\n",
      "\n",
      "E:/Files\\Acoustic Data\\Test\\part_audio_052\\Rumination_132.2s_169s.wav:\n"
     ]
    },
    {
     "name": "stderr",
     "output_type": "stream",
     "text": [
      "e:\\Python\\Lib\\site-packages\\pyAudioAnalysis\\audioBasicIO.py:99: WavFileWarning:\n",
      "\n",
      "Chunk (non-data) not understood, skipping it.\n",
      "\n",
      "e:\\Python\\Lib\\site-packages\\pyAudioAnalysis\\audioBasicIO.py:99: WavFileWarning:\n",
      "\n",
      "Chunk (non-data) not understood, skipping it.\n",
      "\n"
     ]
    },
    {
     "name": "stdout",
     "output_type": "stream",
     "text": [
      "P(Ruminating_pure=0.40219050955028085)\n",
      "P(Gulp_pure=0.05758296682885153)\n",
      "\n",
      "E:/Files\\Acoustic Data\\Test\\part_audio_052\\Rumination_17.8s_41.5s.wav:\n",
      "P(Ruminating_pure=0.5082248025871349)\n",
      "P(Gulp_pure=0.09556000730298424)\n",
      "\n",
      "E:/Files\\Acoustic Data\\Test\\part_audio_052\\Rumination_170s_180s.wav:\n"
     ]
    },
    {
     "name": "stderr",
     "output_type": "stream",
     "text": [
      "e:\\Python\\Lib\\site-packages\\pyAudioAnalysis\\audioBasicIO.py:99: WavFileWarning:\n",
      "\n",
      "Chunk (non-data) not understood, skipping it.\n",
      "\n",
      "e:\\Python\\Lib\\site-packages\\pyAudioAnalysis\\audioBasicIO.py:99: WavFileWarning:\n",
      "\n",
      "Chunk (non-data) not understood, skipping it.\n",
      "\n"
     ]
    },
    {
     "name": "stdout",
     "output_type": "stream",
     "text": [
      "P(Ruminating_pure=0.7278011160658073)\n",
      "P(Gulp_pure=0.12700032046845292)\n",
      "\n",
      "E:/Files\\Acoustic Data\\Test\\part_audio_052\\Rumination_43s_75s.wav:\n"
     ]
    },
    {
     "name": "stderr",
     "output_type": "stream",
     "text": [
      "e:\\Python\\Lib\\site-packages\\pyAudioAnalysis\\audioBasicIO.py:99: WavFileWarning:\n",
      "\n",
      "Chunk (non-data) not understood, skipping it.\n",
      "\n"
     ]
    },
    {
     "name": "stdout",
     "output_type": "stream",
     "text": [
      "P(Ruminating_pure=0.5032565222320212)\n",
      "P(Gulp_pure=0.07906907342927515)\n",
      "\n",
      "E:/Files\\Acoustic Data\\Test\\part_audio_052\\Rumination_78.7s_106s.wav:\n"
     ]
    },
    {
     "name": "stderr",
     "output_type": "stream",
     "text": [
      "e:\\Python\\Lib\\site-packages\\pyAudioAnalysis\\audioBasicIO.py:99: WavFileWarning:\n",
      "\n",
      "Chunk (non-data) not understood, skipping it.\n",
      "\n"
     ]
    },
    {
     "name": "stdout",
     "output_type": "stream",
     "text": [
      "P(Ruminating_pure=0.4771525132327509)\n",
      "P(Gulp_pure=0.0735138822958662)\n",
      "\n"
     ]
    }
   ],
   "source": [
    "from pyAudioAnalysis import audioTrainTest as aT\n",
    "import os\n",
    "files_to_test_path = os.path.join('E:/Files','Acoustic Data', 'Test', 'part_audio_052')\n",
    "files_to_test = [os.path.join(files_to_test_path, file) for file in os.listdir(files_to_test_path) if file.endswith(\".wav\")]\n",
    "for f in files_to_test:\n",
    "    print(f'{f}:')\n",
    "    c, p, p_nam = aT.file_classification(f, \"svm_Ruminating_Gulp_Breath\",\"svm_rbf\")\n",
    "    print(f'P({p_nam[0]}={p[0]})')\n",
    "    print(f'P({p_nam[1]}={p[1]})')\n",
    "    print()"
   ]
  },
  {
   "cell_type": "code",
   "execution_count": 69,
   "metadata": {},
   "outputs": [
    {
     "name": "stdout",
     "output_type": "stream",
     "text": [
      "[0. 1.] 1.0\n",
      "[1.  3.5] 0.0\n",
      "[3.5 4. ] 1.0\n",
      "[4.  4.5] 0.0\n",
      "[4.5 5.5] 1.0\n",
      "[5.5 8. ] 0.0\n",
      "[8. 9.] 1.0\n",
      "[9.  9.5] 0.0\n",
      "[ 9.5 10. ] 2.0\n",
      "[10.  11.5] 0.0\n",
      "[11.5 12.5] 2.0\n",
      "[12.5 15.5] 0.0\n",
      "[15.5 17. ] 1.0\n",
      "[17.  17.5] 0.0\n",
      "[17.5 18.5] 1.0\n",
      "[18.5 19. ] 0.0\n",
      "[19.  19.5] 2.0\n",
      "[19.5 21. ] 0.0\n",
      "[21.  21.5] 1.0\n",
      "[21.5 22. ] 0.0\n",
      "[22. 23.] 2.0\n",
      "[23.  24.5] 0.0\n",
      "[24.5 25. ] 1.0\n",
      "[25.  25.5] 0.0\n",
      "[25.5 26.5] 2.0\n",
      "[26.5 27.5] 0.0\n",
      "[27.5 29. ] 2.0\n",
      "[29. 30.] 0.0\n",
      "[30.  31.5] 2.0\n",
      "[31.5 32. ] 1.0\n",
      "[32. 34.] 0.0\n",
      "[34.  34.5] 2.0\n",
      "[34.5 35.5] 0.0\n",
      "[35.5 36. ] 1.0\n",
      "[36. 37.] 2.0\n",
      "[37. 38.] 0.0\n",
      "[38.  39.5] 2.0\n",
      "[39.5 40.5] 0.0\n",
      "[40.5 41.5] 2.0\n",
      "[41.5 42.5] 0.0\n",
      "[42.5 43. ] 1.0\n",
      "[43.  46.5] 0.0\n",
      "[46.5 47. ] 2.0\n",
      "[47.  49.5] 0.0\n",
      "[49.5 50. ] 2.0\n",
      "[50.  51.5] 0.0\n",
      "[51.5 53. ] 2.0\n",
      "[53. 54.] 0.0\n",
      "[54.  55.5] 2.0\n",
      "[55.5 56. ] 0.0\n",
      "[56.  56.5] 1.0\n",
      "[56.5 57.5] 0.0\n",
      "[57.5 58.5] 2.0\n",
      "[58.5 59.5] 0.0\n",
      "[59.5 61. ] 2.0\n",
      "[61. 62.] 0.0\n",
      "[62.  63.5] 2.0\n",
      "[63.5 64.5] 0.0\n",
      "[64.5 66. ] 2.0\n",
      "[66. 67.] 0.0\n",
      "[67.  68.5] 2.0\n",
      "[68.5 69.5] 0.0\n",
      "[69.5 70.5] 2.0\n",
      "[70.5 71.5] 0.0\n",
      "[71.5 73. ] 2.0\n",
      "[73.  75.5] 0.0\n",
      "[75.5 77. ] 1.0\n",
      "[77.  77.5] 0.0\n",
      "[77.5 79. ] 1.0\n",
      "[79.  79.5] 0.0\n",
      "[79.5 80. ] 1.0\n",
      "[80. 81.] 0.0\n",
      "[81.  81.5] 1.0\n",
      "[81.5 82.5] 2.0\n",
      "[82.5 83.5] 0.0\n",
      "[83.5 84. ] 1.0\n",
      "[84. 85.] 2.0\n",
      "[85.  85.5] 1.0\n",
      "[85.5 86. ] 2.0\n",
      "[86.  86.5] 0.0\n",
      "[86.5 88. ] 2.0\n",
      "[88.  89.5] 0.0\n",
      "[89.5 90.5] 2.0\n",
      "[90.5 92. ] 0.0\n",
      "[92.  93.5] 2.0\n",
      "[93.5 95. ] 0.0\n",
      "[95. 96.] 2.0\n",
      "[96.  97.5] 0.0\n",
      "[97.5 99. ] 2.0\n",
      "[ 99. 100.] 0.0\n",
      "[100.  101.5] 2.0\n",
      "[101.5 102.5] 0.0\n",
      "[102.5 104. ] 2.0\n",
      "[104. 106.] 0.0\n",
      "[106.  106.5] 1.0\n",
      "[106.5 109.5] 0.0\n",
      "[109.5 110.5] 1.0\n",
      "[110.5 111.5] 2.0\n",
      "[111.5 112. ] 1.0\n",
      "[112. 114.] 0.0\n",
      "[114. 115.] 2.0\n",
      "[115. 117.] 0.0\n",
      "[117. 118.] 2.0\n",
      "[118.  119.5] 0.0\n",
      "[119.5 120.5] 2.0\n",
      "[120.5 122. ] 0.0\n",
      "[122. 123.] 2.0\n",
      "[123.  124.5] 0.0\n",
      "[124.5 125.5] 2.0\n",
      "[125.5 126. ] 0.0\n",
      "[126.  126.5] 1.0\n",
      "[126.5 127. ] 0.0\n",
      "[127.  127.5] 1.0\n",
      "[127.5 129.5] 0.0\n",
      "[129.5 130. ] 1.0\n",
      "[130.  130.5] 0.0\n",
      "[130.5 132.5] 1.0\n",
      "[132.5 133. ] 2.0\n",
      "[133. 134.] 0.0\n",
      "[134.  134.5] 1.0\n",
      "[134.5 135. ] 0.0\n",
      "[135. 136.] 2.0\n",
      "[136. 138.] 0.0\n",
      "[138. 139.] 2.0\n",
      "[139. 140.] 0.0\n",
      "[140.  140.5] 1.0\n",
      "[140.5 141.5] 0.0\n",
      "[141.5 142.5] 2.0\n",
      "[142.5 144. ] 0.0\n",
      "[144.  145.5] 2.0\n",
      "[145.5 147. ] 0.0\n",
      "[147. 148.] 2.0\n",
      "[148.  149.5] 0.0\n",
      "[149.5 151. ] 2.0\n",
      "[151.  152.5] 0.0\n",
      "[152.5 153.5] 2.0\n",
      "[153.5 155. ] 0.0\n",
      "[155. 156.] 2.0\n",
      "[156.  157.5] 0.0\n",
      "[157.5 158.5] 2.0\n",
      "[158.5 160. ] 0.0\n",
      "[160.  161.5] 2.0\n",
      "[161.5 163. ] 0.0\n",
      "[163. 164.] 2.0\n",
      "[164.  165.5] 0.0\n",
      "[165.5 167. ] 2.0\n",
      "[167. 169.] 0.0\n",
      "[169.  169.5] 1.0\n",
      "[169.5 171.5] 0.0\n",
      "[171.5 172. ] 1.0\n",
      "[172.  172.5] 0.0\n",
      "[172.5 173. ] 1.0\n",
      "[173. 174.] 2.0\n",
      "[174. 176.] 0.0\n",
      "[176.  176.5] 1.0\n",
      "[176.5 177. ] 0.0\n",
      "[177. 178.] 2.0\n",
      "[178.  179.5] 0.0\n",
      "\n",
      "Fix-sized segments:\n",
      "fix-sized segment 0: Gulp_pure\n",
      "fix-sized segment 1: Gulp_pure\n",
      "fix-sized segment 2: Ruminating_pure\n",
      "fix-sized segment 3: Ruminating_pure\n",
      "fix-sized segment 4: Ruminating_pure\n",
      "fix-sized segment 5: Ruminating_pure\n",
      "fix-sized segment 6: Ruminating_pure\n",
      "fix-sized segment 7: Gulp_pure\n",
      "fix-sized segment 8: Ruminating_pure\n",
      "fix-sized segment 9: Gulp_pure\n",
      "fix-sized segment 10: Gulp_pure\n",
      "fix-sized segment 11: Ruminating_pure\n",
      "fix-sized segment 12: Ruminating_pure\n",
      "fix-sized segment 13: Ruminating_pure\n",
      "fix-sized segment 14: Ruminating_pure\n",
      "fix-sized segment 15: Ruminating_pure\n",
      "fix-sized segment 16: Gulp_pure\n",
      "fix-sized segment 17: Gulp_pure\n",
      "fix-sized segment 18: Ruminating_pure\n",
      "fix-sized segment 19: Breath\n",
      "fix-sized segment 20: Ruminating_pure\n",
      "fix-sized segment 21: Ruminating_pure\n",
      "fix-sized segment 22: Ruminating_pure\n",
      "fix-sized segment 23: Breath\n",
      "fix-sized segment 24: Breath\n",
      "fix-sized segment 25: Ruminating_pure\n",
      "fix-sized segment 26: Ruminating_pure\n",
      "fix-sized segment 27: Ruminating_pure\n",
      "fix-sized segment 28: Ruminating_pure\n",
      "fix-sized segment 29: Ruminating_pure\n",
      "fix-sized segment 30: Ruminating_pure\n",
      "fix-sized segment 31: Gulp_pure\n",
      "fix-sized segment 32: Gulp_pure\n",
      "fix-sized segment 33: Gulp_pure\n",
      "fix-sized segment 34: Ruminating_pure\n",
      "fix-sized segment 35: Gulp_pure\n",
      "fix-sized segment 36: Gulp_pure\n",
      "fix-sized segment 37: Ruminating_pure\n",
      "fix-sized segment 38: Breath\n",
      "fix-sized segment 39: Ruminating_pure\n",
      "fix-sized segment 40: Ruminating_pure\n",
      "fix-sized segment 41: Ruminating_pure\n",
      "fix-sized segment 42: Gulp_pure\n",
      "fix-sized segment 43: Ruminating_pure\n",
      "fix-sized segment 44: Breath\n",
      "fix-sized segment 45: Breath\n",
      "fix-sized segment 46: Ruminating_pure\n",
      "fix-sized segment 47: Ruminating_pure\n",
      "fix-sized segment 48: Ruminating_pure\n",
      "fix-sized segment 49: Gulp_pure\n",
      "fix-sized segment 50: Ruminating_pure\n",
      "fix-sized segment 51: Breath\n",
      "fix-sized segment 52: Breath\n",
      "fix-sized segment 53: Ruminating_pure\n",
      "fix-sized segment 54: Ruminating_pure\n",
      "fix-sized segment 55: Breath\n",
      "fix-sized segment 56: Breath\n",
      "fix-sized segment 57: Breath\n",
      "fix-sized segment 58: Ruminating_pure\n",
      "fix-sized segment 59: Ruminating_pure\n",
      "fix-sized segment 60: Breath\n",
      "fix-sized segment 61: Breath\n",
      "fix-sized segment 62: Breath\n",
      "fix-sized segment 63: Gulp_pure\n",
      "fix-sized segment 64: Ruminating_pure\n",
      "fix-sized segment 65: Ruminating_pure\n",
      "fix-sized segment 66: Ruminating_pure\n",
      "fix-sized segment 67: Ruminating_pure\n",
      "fix-sized segment 68: Breath\n",
      "fix-sized segment 69: Ruminating_pure\n",
      "fix-sized segment 70: Ruminating_pure\n",
      "fix-sized segment 71: Gulp_pure\n",
      "fix-sized segment 72: Breath\n",
      "fix-sized segment 73: Breath\n",
      "fix-sized segment 74: Ruminating_pure\n",
      "fix-sized segment 75: Ruminating_pure\n",
      "fix-sized segment 76: Breath\n",
      "fix-sized segment 77: Breath\n",
      "fix-sized segment 78: Breath\n",
      "fix-sized segment 79: Ruminating_pure\n",
      "fix-sized segment 80: Ruminating_pure\n",
      "fix-sized segment 81: Breath\n",
      "fix-sized segment 82: Breath\n",
      "fix-sized segment 83: Ruminating_pure\n",
      "fix-sized segment 84: Ruminating_pure\n",
      "fix-sized segment 85: Gulp_pure\n",
      "fix-sized segment 86: Ruminating_pure\n",
      "fix-sized segment 87: Ruminating_pure\n",
      "fix-sized segment 88: Ruminating_pure\n",
      "fix-sized segment 89: Ruminating_pure\n",
      "fix-sized segment 90: Ruminating_pure\n",
      "fix-sized segment 91: Ruminating_pure\n",
      "fix-sized segment 92: Ruminating_pure\n",
      "fix-sized segment 93: Breath\n",
      "fix-sized segment 94: Ruminating_pure\n",
      "fix-sized segment 95: Ruminating_pure\n",
      "fix-sized segment 96: Ruminating_pure\n",
      "fix-sized segment 97: Ruminating_pure\n",
      "fix-sized segment 98: Ruminating_pure\n",
      "fix-sized segment 99: Breath\n",
      "fix-sized segment 100: Ruminating_pure\n",
      "fix-sized segment 101: Ruminating_pure\n",
      "fix-sized segment 102: Ruminating_pure\n",
      "fix-sized segment 103: Breath\n",
      "fix-sized segment 104: Breath\n",
      "fix-sized segment 105: Breath\n",
      "fix-sized segment 106: Ruminating_pure\n",
      "fix-sized segment 107: Ruminating_pure\n",
      "fix-sized segment 108: Breath\n",
      "fix-sized segment 109: Breath\n",
      "fix-sized segment 110: Breath\n",
      "fix-sized segment 111: Ruminating_pure\n",
      "fix-sized segment 112: Gulp_pure\n",
      "fix-sized segment 113: Ruminating_pure\n",
      "fix-sized segment 114: Ruminating_pure\n",
      "fix-sized segment 115: Breath\n",
      "fix-sized segment 116: Breath\n",
      "fix-sized segment 117: Ruminating_pure\n",
      "fix-sized segment 118: Ruminating_pure\n",
      "fix-sized segment 119: Breath\n",
      "fix-sized segment 120: Breath\n",
      "fix-sized segment 121: Breath\n",
      "fix-sized segment 122: Ruminating_pure\n",
      "fix-sized segment 123: Ruminating_pure\n",
      "fix-sized segment 124: Breath\n",
      "fix-sized segment 125: Breath\n",
      "fix-sized segment 126: Breath\n",
      "fix-sized segment 127: Ruminating_pure\n",
      "fix-sized segment 128: Ruminating_pure\n",
      "fix-sized segment 129: Breath\n",
      "fix-sized segment 130: Breath\n",
      "fix-sized segment 131: Breath\n",
      "fix-sized segment 132: Ruminating_pure\n",
      "fix-sized segment 133: Ruminating_pure\n",
      "fix-sized segment 134: Breath\n",
      "fix-sized segment 135: Breath\n",
      "fix-sized segment 136: Breath\n",
      "fix-sized segment 137: Ruminating_pure\n",
      "fix-sized segment 138: Ruminating_pure\n",
      "fix-sized segment 139: Breath\n",
      "fix-sized segment 140: Breath\n",
      "fix-sized segment 141: Ruminating_pure\n",
      "fix-sized segment 142: Ruminating_pure\n",
      "fix-sized segment 143: Breath\n",
      "fix-sized segment 144: Breath\n",
      "fix-sized segment 145: Breath\n",
      "fix-sized segment 146: Ruminating_pure\n",
      "fix-sized segment 147: Ruminating_pure\n",
      "fix-sized segment 148: Ruminating_pure\n",
      "fix-sized segment 149: Ruminating_pure\n",
      "fix-sized segment 150: Ruminating_pure\n",
      "fix-sized segment 151: Gulp_pure\n",
      "fix-sized segment 152: Gulp_pure\n",
      "fix-sized segment 153: Gulp_pure\n",
      "fix-sized segment 154: Ruminating_pure\n",
      "fix-sized segment 155: Gulp_pure\n",
      "fix-sized segment 156: Gulp_pure\n",
      "fix-sized segment 157: Gulp_pure\n",
      "fix-sized segment 158: Ruminating_pure\n",
      "fix-sized segment 159: Gulp_pure\n",
      "fix-sized segment 160: Ruminating_pure\n",
      "fix-sized segment 161: Ruminating_pure\n",
      "fix-sized segment 162: Gulp_pure\n",
      "fix-sized segment 163: Breath\n",
      "fix-sized segment 164: Breath\n",
      "fix-sized segment 165: Ruminating_pure\n",
      "fix-sized segment 166: Ruminating_pure\n",
      "fix-sized segment 167: Gulp_pure\n",
      "fix-sized segment 168: Breath\n",
      "fix-sized segment 169: Breath\n",
      "fix-sized segment 170: Gulp_pure\n",
      "fix-sized segment 171: Breath\n",
      "fix-sized segment 172: Ruminating_pure\n",
      "fix-sized segment 173: Breath\n",
      "fix-sized segment 174: Breath\n",
      "fix-sized segment 175: Breath\n",
      "fix-sized segment 176: Ruminating_pure\n",
      "fix-sized segment 177: Ruminating_pure\n",
      "fix-sized segment 178: Ruminating_pure\n",
      "fix-sized segment 179: Breath\n",
      "fix-sized segment 180: Breath\n",
      "fix-sized segment 181: Ruminating_pure\n",
      "fix-sized segment 182: Ruminating_pure\n",
      "fix-sized segment 183: Ruminating_pure\n",
      "fix-sized segment 184: Breath\n",
      "fix-sized segment 185: Breath\n",
      "fix-sized segment 186: Breath\n",
      "fix-sized segment 187: Ruminating_pure\n",
      "fix-sized segment 188: Ruminating_pure\n",
      "fix-sized segment 189: Ruminating_pure\n",
      "fix-sized segment 190: Breath\n",
      "fix-sized segment 191: Breath\n",
      "fix-sized segment 192: Ruminating_pure\n",
      "fix-sized segment 193: Ruminating_pure\n",
      "fix-sized segment 194: Ruminating_pure\n",
      "fix-sized segment 195: Breath\n",
      "fix-sized segment 196: Breath\n",
      "fix-sized segment 197: Breath\n",
      "fix-sized segment 198: Ruminating_pure\n",
      "fix-sized segment 199: Ruminating_pure\n",
      "fix-sized segment 200: Breath\n",
      "fix-sized segment 201: Breath\n",
      "fix-sized segment 202: Breath\n",
      "fix-sized segment 203: Ruminating_pure\n",
      "fix-sized segment 204: Ruminating_pure\n",
      "fix-sized segment 205: Breath\n",
      "fix-sized segment 206: Breath\n",
      "fix-sized segment 207: Breath\n",
      "fix-sized segment 208: Ruminating_pure\n",
      "fix-sized segment 209: Ruminating_pure\n",
      "fix-sized segment 210: Ruminating_pure\n",
      "fix-sized segment 211: Ruminating_pure\n",
      "fix-sized segment 212: Gulp_pure\n",
      "fix-sized segment 213: Ruminating_pure\n",
      "fix-sized segment 214: Ruminating_pure\n",
      "fix-sized segment 215: Ruminating_pure\n",
      "fix-sized segment 216: Ruminating_pure\n",
      "fix-sized segment 217: Ruminating_pure\n",
      "fix-sized segment 218: Ruminating_pure\n",
      "fix-sized segment 219: Gulp_pure\n",
      "fix-sized segment 220: Gulp_pure\n",
      "fix-sized segment 221: Breath\n",
      "fix-sized segment 222: Breath\n",
      "fix-sized segment 223: Gulp_pure\n",
      "fix-sized segment 224: Ruminating_pure\n",
      "fix-sized segment 225: Ruminating_pure\n",
      "fix-sized segment 226: Ruminating_pure\n",
      "fix-sized segment 227: Ruminating_pure\n",
      "fix-sized segment 228: Breath\n",
      "fix-sized segment 229: Breath\n",
      "fix-sized segment 230: Ruminating_pure\n",
      "fix-sized segment 231: Ruminating_pure\n",
      "fix-sized segment 232: Ruminating_pure\n",
      "fix-sized segment 233: Ruminating_pure\n",
      "fix-sized segment 234: Breath\n",
      "fix-sized segment 235: Breath\n",
      "fix-sized segment 236: Ruminating_pure\n",
      "fix-sized segment 237: Ruminating_pure\n",
      "fix-sized segment 238: Ruminating_pure\n",
      "fix-sized segment 239: Breath\n",
      "fix-sized segment 240: Breath\n",
      "fix-sized segment 241: Ruminating_pure\n",
      "fix-sized segment 242: Ruminating_pure\n",
      "fix-sized segment 243: Ruminating_pure\n",
      "fix-sized segment 244: Breath\n",
      "fix-sized segment 245: Breath\n",
      "fix-sized segment 246: Ruminating_pure\n",
      "fix-sized segment 247: Ruminating_pure\n",
      "fix-sized segment 248: Ruminating_pure\n",
      "fix-sized segment 249: Breath\n",
      "fix-sized segment 250: Breath\n",
      "fix-sized segment 251: Ruminating_pure\n",
      "fix-sized segment 252: Gulp_pure\n",
      "fix-sized segment 253: Ruminating_pure\n",
      "fix-sized segment 254: Gulp_pure\n",
      "fix-sized segment 255: Ruminating_pure\n",
      "fix-sized segment 256: Ruminating_pure\n",
      "fix-sized segment 257: Ruminating_pure\n",
      "fix-sized segment 258: Ruminating_pure\n",
      "fix-sized segment 259: Gulp_pure\n",
      "fix-sized segment 260: Ruminating_pure\n",
      "fix-sized segment 261: Gulp_pure\n",
      "fix-sized segment 262: Gulp_pure\n",
      "fix-sized segment 263: Gulp_pure\n",
      "fix-sized segment 264: Gulp_pure\n",
      "fix-sized segment 265: Breath\n",
      "fix-sized segment 266: Ruminating_pure\n",
      "fix-sized segment 267: Ruminating_pure\n",
      "fix-sized segment 268: Gulp_pure\n",
      "fix-sized segment 269: Ruminating_pure\n",
      "fix-sized segment 270: Breath\n",
      "fix-sized segment 271: Breath\n",
      "fix-sized segment 272: Ruminating_pure\n",
      "fix-sized segment 273: Ruminating_pure\n",
      "fix-sized segment 274: Ruminating_pure\n",
      "fix-sized segment 275: Ruminating_pure\n",
      "fix-sized segment 276: Breath\n",
      "fix-sized segment 277: Breath\n",
      "fix-sized segment 278: Ruminating_pure\n",
      "fix-sized segment 279: Ruminating_pure\n",
      "fix-sized segment 280: Gulp_pure\n",
      "fix-sized segment 281: Ruminating_pure\n",
      "fix-sized segment 282: Ruminating_pure\n",
      "fix-sized segment 283: Breath\n",
      "fix-sized segment 284: Breath\n",
      "fix-sized segment 285: Ruminating_pure\n",
      "fix-sized segment 286: Ruminating_pure\n",
      "fix-sized segment 287: Ruminating_pure\n",
      "fix-sized segment 288: Breath\n",
      "fix-sized segment 289: Breath\n",
      "fix-sized segment 290: Breath\n",
      "fix-sized segment 291: Ruminating_pure\n",
      "fix-sized segment 292: Ruminating_pure\n",
      "fix-sized segment 293: Ruminating_pure\n",
      "fix-sized segment 294: Breath\n",
      "fix-sized segment 295: Breath\n",
      "fix-sized segment 296: Ruminating_pure\n",
      "fix-sized segment 297: Ruminating_pure\n",
      "fix-sized segment 298: Ruminating_pure\n",
      "fix-sized segment 299: Breath\n",
      "fix-sized segment 300: Breath\n",
      "fix-sized segment 301: Breath\n",
      "fix-sized segment 302: Ruminating_pure\n",
      "fix-sized segment 303: Ruminating_pure\n",
      "fix-sized segment 304: Ruminating_pure\n",
      "fix-sized segment 305: Breath\n",
      "fix-sized segment 306: Breath\n",
      "fix-sized segment 307: Ruminating_pure\n",
      "fix-sized segment 308: Ruminating_pure\n",
      "fix-sized segment 309: Ruminating_pure\n",
      "fix-sized segment 310: Breath\n",
      "fix-sized segment 311: Breath\n",
      "fix-sized segment 312: Ruminating_pure\n",
      "fix-sized segment 313: Ruminating_pure\n",
      "fix-sized segment 314: Ruminating_pure\n",
      "fix-sized segment 315: Breath\n",
      "fix-sized segment 316: Breath\n",
      "fix-sized segment 317: Ruminating_pure\n",
      "fix-sized segment 318: Ruminating_pure\n",
      "fix-sized segment 319: Ruminating_pure\n",
      "fix-sized segment 320: Breath\n",
      "fix-sized segment 321: Breath\n",
      "fix-sized segment 322: Breath\n",
      "fix-sized segment 323: Ruminating_pure\n",
      "fix-sized segment 324: Ruminating_pure\n",
      "fix-sized segment 325: Ruminating_pure\n",
      "fix-sized segment 326: Breath\n",
      "fix-sized segment 327: Breath\n",
      "fix-sized segment 328: Ruminating_pure\n",
      "fix-sized segment 329: Ruminating_pure\n",
      "fix-sized segment 330: Ruminating_pure\n",
      "fix-sized segment 331: Breath\n",
      "fix-sized segment 332: Breath\n",
      "fix-sized segment 333: Breath\n",
      "fix-sized segment 334: Ruminating_pure\n",
      "fix-sized segment 335: Ruminating_pure\n",
      "fix-sized segment 336: Ruminating_pure\n",
      "fix-sized segment 337: Ruminating_pure\n",
      "fix-sized segment 338: Gulp_pure\n",
      "fix-sized segment 339: Ruminating_pure\n",
      "fix-sized segment 340: Ruminating_pure\n",
      "fix-sized segment 341: Ruminating_pure\n",
      "fix-sized segment 342: Ruminating_pure\n",
      "fix-sized segment 343: Gulp_pure\n",
      "fix-sized segment 344: Ruminating_pure\n",
      "fix-sized segment 345: Gulp_pure\n",
      "fix-sized segment 346: Breath\n",
      "fix-sized segment 347: Breath\n",
      "fix-sized segment 348: Ruminating_pure\n",
      "fix-sized segment 349: Ruminating_pure\n",
      "fix-sized segment 350: Ruminating_pure\n",
      "fix-sized segment 351: Ruminating_pure\n",
      "fix-sized segment 352: Gulp_pure\n",
      "fix-sized segment 353: Ruminating_pure\n",
      "fix-sized segment 354: Breath\n",
      "fix-sized segment 355: Breath\n",
      "fix-sized segment 356: Ruminating_pure\n",
      "fix-sized segment 357: Ruminating_pure\n",
      "fix-sized segment 358: Ruminating_pure\n",
      "fix-sized segment 359: Ruminating_pure\n",
      "\n",
      "Segments:\n",
      "segment 0 0.0 sec - 1.0 sec: Gulp_pure\n",
      "segment 1 1.0 sec - 3.5 sec: Ruminating_pure\n",
      "segment 2 3.5 sec - 4.0 sec: Gulp_pure\n",
      "segment 3 4.0 sec - 4.5 sec: Ruminating_pure\n",
      "segment 4 4.5 sec - 5.5 sec: Gulp_pure\n",
      "segment 5 5.5 sec - 8.0 sec: Ruminating_pure\n",
      "segment 6 8.0 sec - 9.0 sec: Gulp_pure\n",
      "segment 7 9.0 sec - 9.5 sec: Ruminating_pure\n",
      "segment 8 9.5 sec - 10.0 sec: Breath\n",
      "segment 9 10.0 sec - 11.5 sec: Ruminating_pure\n",
      "segment 10 11.5 sec - 12.5 sec: Breath\n",
      "segment 11 12.5 sec - 15.5 sec: Ruminating_pure\n",
      "segment 12 15.5 sec - 17.0 sec: Gulp_pure\n",
      "segment 13 17.0 sec - 17.5 sec: Ruminating_pure\n",
      "segment 14 17.5 sec - 18.5 sec: Gulp_pure\n",
      "segment 15 18.5 sec - 19.0 sec: Ruminating_pure\n",
      "segment 16 19.0 sec - 19.5 sec: Breath\n",
      "segment 17 19.5 sec - 21.0 sec: Ruminating_pure\n",
      "segment 18 21.0 sec - 21.5 sec: Gulp_pure\n",
      "segment 19 21.5 sec - 22.0 sec: Ruminating_pure\n",
      "segment 20 22.0 sec - 23.0 sec: Breath\n",
      "segment 21 23.0 sec - 24.5 sec: Ruminating_pure\n",
      "segment 22 24.5 sec - 25.0 sec: Gulp_pure\n",
      "segment 23 25.0 sec - 25.5 sec: Ruminating_pure\n",
      "segment 24 25.5 sec - 26.5 sec: Breath\n",
      "segment 25 26.5 sec - 27.5 sec: Ruminating_pure\n",
      "segment 26 27.5 sec - 29.0 sec: Breath\n",
      "segment 27 29.0 sec - 30.0 sec: Ruminating_pure\n",
      "segment 28 30.0 sec - 31.5 sec: Breath\n",
      "segment 29 31.5 sec - 32.0 sec: Gulp_pure\n",
      "segment 30 32.0 sec - 34.0 sec: Ruminating_pure\n",
      "segment 31 34.0 sec - 34.5 sec: Breath\n",
      "segment 32 34.5 sec - 35.5 sec: Ruminating_pure\n",
      "segment 33 35.5 sec - 36.0 sec: Gulp_pure\n",
      "segment 34 36.0 sec - 37.0 sec: Breath\n",
      "segment 35 37.0 sec - 38.0 sec: Ruminating_pure\n",
      "segment 36 38.0 sec - 39.5 sec: Breath\n",
      "segment 37 39.5 sec - 40.5 sec: Ruminating_pure\n",
      "segment 38 40.5 sec - 41.5 sec: Breath\n",
      "segment 39 41.5 sec - 42.5 sec: Ruminating_pure\n",
      "segment 40 42.5 sec - 43.0 sec: Gulp_pure\n",
      "segment 41 43.0 sec - 46.5 sec: Ruminating_pure\n",
      "segment 42 46.5 sec - 47.0 sec: Breath\n",
      "segment 43 47.0 sec - 49.5 sec: Ruminating_pure\n",
      "segment 44 49.5 sec - 50.0 sec: Breath\n",
      "segment 45 50.0 sec - 51.5 sec: Ruminating_pure\n",
      "segment 46 51.5 sec - 53.0 sec: Breath\n",
      "segment 47 53.0 sec - 54.0 sec: Ruminating_pure\n",
      "segment 48 54.0 sec - 55.5 sec: Breath\n",
      "segment 49 55.5 sec - 56.0 sec: Ruminating_pure\n",
      "segment 50 56.0 sec - 56.5 sec: Gulp_pure\n",
      "segment 51 56.5 sec - 57.5 sec: Ruminating_pure\n",
      "segment 52 57.5 sec - 58.5 sec: Breath\n",
      "segment 53 58.5 sec - 59.5 sec: Ruminating_pure\n",
      "segment 54 59.5 sec - 61.0 sec: Breath\n",
      "segment 55 61.0 sec - 62.0 sec: Ruminating_pure\n",
      "segment 56 62.0 sec - 63.5 sec: Breath\n",
      "segment 57 63.5 sec - 64.5 sec: Ruminating_pure\n",
      "segment 58 64.5 sec - 66.0 sec: Breath\n",
      "segment 59 66.0 sec - 67.0 sec: Ruminating_pure\n",
      "segment 60 67.0 sec - 68.5 sec: Breath\n",
      "segment 61 68.5 sec - 69.5 sec: Ruminating_pure\n",
      "segment 62 69.5 sec - 70.5 sec: Breath\n",
      "segment 63 70.5 sec - 71.5 sec: Ruminating_pure\n",
      "segment 64 71.5 sec - 73.0 sec: Breath\n",
      "segment 65 73.0 sec - 75.5 sec: Ruminating_pure\n",
      "segment 66 75.5 sec - 77.0 sec: Gulp_pure\n",
      "segment 67 77.0 sec - 77.5 sec: Ruminating_pure\n",
      "segment 68 77.5 sec - 79.0 sec: Gulp_pure\n",
      "segment 69 79.0 sec - 79.5 sec: Ruminating_pure\n",
      "segment 70 79.5 sec - 80.0 sec: Gulp_pure\n",
      "segment 71 80.0 sec - 81.0 sec: Ruminating_pure\n",
      "segment 72 81.0 sec - 81.5 sec: Gulp_pure\n",
      "segment 73 81.5 sec - 82.5 sec: Breath\n",
      "segment 74 82.5 sec - 83.5 sec: Ruminating_pure\n",
      "segment 75 83.5 sec - 84.0 sec: Gulp_pure\n",
      "segment 76 84.0 sec - 85.0 sec: Breath\n",
      "segment 77 85.0 sec - 85.5 sec: Gulp_pure\n",
      "segment 78 85.5 sec - 86.0 sec: Breath\n",
      "segment 79 86.0 sec - 86.5 sec: Ruminating_pure\n",
      "segment 80 86.5 sec - 88.0 sec: Breath\n",
      "segment 81 88.0 sec - 89.5 sec: Ruminating_pure\n",
      "segment 82 89.5 sec - 90.5 sec: Breath\n",
      "segment 83 90.5 sec - 92.0 sec: Ruminating_pure\n",
      "segment 84 92.0 sec - 93.5 sec: Breath\n",
      "segment 85 93.5 sec - 95.0 sec: Ruminating_pure\n",
      "segment 86 95.0 sec - 96.0 sec: Breath\n",
      "segment 87 96.0 sec - 97.5 sec: Ruminating_pure\n",
      "segment 88 97.5 sec - 99.0 sec: Breath\n",
      "segment 89 99.0 sec - 100.0 sec: Ruminating_pure\n",
      "segment 90 100.0 sec - 101.5 sec: Breath\n",
      "segment 91 101.5 sec - 102.5 sec: Ruminating_pure\n",
      "segment 92 102.5 sec - 104.0 sec: Breath\n",
      "segment 93 104.0 sec - 106.0 sec: Ruminating_pure\n",
      "segment 94 106.0 sec - 106.5 sec: Gulp_pure\n",
      "segment 95 106.5 sec - 109.5 sec: Ruminating_pure\n",
      "segment 96 109.5 sec - 110.5 sec: Gulp_pure\n",
      "segment 97 110.5 sec - 111.5 sec: Breath\n",
      "segment 98 111.5 sec - 112.0 sec: Gulp_pure\n",
      "segment 99 112.0 sec - 114.0 sec: Ruminating_pure\n",
      "segment 100 114.0 sec - 115.0 sec: Breath\n",
      "segment 101 115.0 sec - 117.0 sec: Ruminating_pure\n",
      "segment 102 117.0 sec - 118.0 sec: Breath\n",
      "segment 103 118.0 sec - 119.5 sec: Ruminating_pure\n",
      "segment 104 119.5 sec - 120.5 sec: Breath\n",
      "segment 105 120.5 sec - 122.0 sec: Ruminating_pure\n",
      "segment 106 122.0 sec - 123.0 sec: Breath\n",
      "segment 107 123.0 sec - 124.5 sec: Ruminating_pure\n",
      "segment 108 124.5 sec - 125.5 sec: Breath\n",
      "segment 109 125.5 sec - 126.0 sec: Ruminating_pure\n",
      "segment 110 126.0 sec - 126.5 sec: Gulp_pure\n",
      "segment 111 126.5 sec - 127.0 sec: Ruminating_pure\n",
      "segment 112 127.0 sec - 127.5 sec: Gulp_pure\n",
      "segment 113 127.5 sec - 129.5 sec: Ruminating_pure\n",
      "segment 114 129.5 sec - 130.0 sec: Gulp_pure\n",
      "segment 115 130.0 sec - 130.5 sec: Ruminating_pure\n",
      "segment 116 130.5 sec - 132.5 sec: Gulp_pure\n",
      "segment 117 132.5 sec - 133.0 sec: Breath\n",
      "segment 118 133.0 sec - 134.0 sec: Ruminating_pure\n",
      "segment 119 134.0 sec - 134.5 sec: Gulp_pure\n",
      "segment 120 134.5 sec - 135.0 sec: Ruminating_pure\n",
      "segment 121 135.0 sec - 136.0 sec: Breath\n",
      "segment 122 136.0 sec - 138.0 sec: Ruminating_pure\n",
      "segment 123 138.0 sec - 139.0 sec: Breath\n",
      "segment 124 139.0 sec - 140.0 sec: Ruminating_pure\n",
      "segment 125 140.0 sec - 140.5 sec: Gulp_pure\n",
      "segment 126 140.5 sec - 141.5 sec: Ruminating_pure\n",
      "segment 127 141.5 sec - 142.5 sec: Breath\n",
      "segment 128 142.5 sec - 144.0 sec: Ruminating_pure\n",
      "segment 129 144.0 sec - 145.5 sec: Breath\n",
      "segment 130 145.5 sec - 147.0 sec: Ruminating_pure\n",
      "segment 131 147.0 sec - 148.0 sec: Breath\n",
      "segment 132 148.0 sec - 149.5 sec: Ruminating_pure\n",
      "segment 133 149.5 sec - 151.0 sec: Breath\n",
      "segment 134 151.0 sec - 152.5 sec: Ruminating_pure\n",
      "segment 135 152.5 sec - 153.5 sec: Breath\n",
      "segment 136 153.5 sec - 155.0 sec: Ruminating_pure\n",
      "segment 137 155.0 sec - 156.0 sec: Breath\n",
      "segment 138 156.0 sec - 157.5 sec: Ruminating_pure\n",
      "segment 139 157.5 sec - 158.5 sec: Breath\n",
      "segment 140 158.5 sec - 160.0 sec: Ruminating_pure\n",
      "segment 141 160.0 sec - 161.5 sec: Breath\n",
      "segment 142 161.5 sec - 163.0 sec: Ruminating_pure\n",
      "segment 143 163.0 sec - 164.0 sec: Breath\n",
      "segment 144 164.0 sec - 165.5 sec: Ruminating_pure\n",
      "segment 145 165.5 sec - 167.0 sec: Breath\n",
      "segment 146 167.0 sec - 169.0 sec: Ruminating_pure\n",
      "segment 147 169.0 sec - 169.5 sec: Gulp_pure\n",
      "segment 148 169.5 sec - 171.5 sec: Ruminating_pure\n",
      "segment 149 171.5 sec - 172.0 sec: Gulp_pure\n",
      "segment 150 172.0 sec - 172.5 sec: Ruminating_pure\n",
      "segment 151 172.5 sec - 173.0 sec: Gulp_pure\n",
      "segment 152 173.0 sec - 174.0 sec: Breath\n",
      "segment 153 174.0 sec - 176.0 sec: Ruminating_pure\n",
      "segment 154 176.0 sec - 176.5 sec: Gulp_pure\n",
      "segment 155 176.5 sec - 177.0 sec: Ruminating_pure\n",
      "segment 156 177.0 sec - 178.0 sec: Breath\n",
      "segment 157 178.0 sec - 179.5 sec: Ruminating_pure\n"
     ]
    }
   ],
   "source": [
    "from pyAudioAnalysis.audioSegmentation import mid_term_file_classification, labels_to_segments\n",
    "from pyAudioAnalysis.audioTrainTest import load_model\n",
    "import os\n",
    "labels, class_names, _, _ = mid_term_file_classification(os.path.join('E:/Files','Acoustic Data', 'Test','part_audio_052.wav'), \n",
    "                                                         \"svm_Ruminating_Gulp_Breath\", \"svm_rbf\",  True, \n",
    "                                                        os.path.join('E:/Files','Acoustic Data', 'Test','part_audio_052','Ruminating_Gulp_mix.segments'))\n",
    "print(\"\\nFix-sized segments:\")\n",
    "for il, l in enumerate(labels):\n",
    "    print(f'fix-sized segment {il}: {class_names[int(l)]}')\n",
    "\n",
    "# load the parameters of the model (actually we just want the mt_step here):    \n",
    "cl, m, s, m_classes, mt_win, mt_step, s_win, s_step, c_beat = load_model(\"svm_Ruminating_Gulp_Breath\")\n",
    "\n",
    "# print \"merged\" segments (use labels_to_segments())\n",
    "print(\"\\nSegments:\")\n",
    "segs, c = labels_to_segments(labels, mt_step)\n",
    "for iS, seg in enumerate(segs):\n",
    "    print(f'segment {iS} {seg[0]} sec - {seg[1]} sec: {class_names[int(c[iS])]}')"
   ]
  },
  {
   "cell_type": "code",
   "execution_count": null,
   "metadata": {},
   "outputs": [],
   "source": [
    "\"\"\"\n",
    "segment 104 119.5 sec - 120.5 sec: Breath\n",
    "segment 105 120.5 sec - 122.0 sec: Ruminating_pure\n",
    "segment 106 122.0 sec - 123.0 sec: Breath\n",
    "segment 107 123.0 sec - 124.5 sec: Ruminating_pure\n",
    "segment 108 124.5 sec - 125.5 sec: Breath\n",
    "segment 109 125.5 sec - 126.0 sec: Ruminating_pure\n",
    "segment 110 126.0 sec - 126.5 sec: Gulp_pure\n",
    "segment 111 126.5 sec - 127.0 sec: Ruminating_pure\n",
    "segment 112 127.0 sec - 127.5 sec: Gulp_pure\n",
    "segment 113 127.5 sec - 129.5 sec: Ruminating_pure\n",
    "segment 114 129.5 sec - 130.0 sec: Gulp_pure\n",
    "segment 115 130.0 sec - 130.5 sec: Ruminating_pure\n",
    "segment 116 130.5 sec - 132.5 sec: Gulp_pure\n",
    "segment 117 132.5 sec - 133.0 sec: Breath\n",
    "segment 118 133.0 sec - 134.0 sec: Ruminating_pure\n",
    "segment 119 134.0 sec - 134.5 sec: Gulp_pure\n",
    "segment 120 134.5 sec - 135.0 sec: Ruminating_pure\n",
    "segment 121 135.0 sec - 136.0 sec: Breath\n",
    "segment 122 136.0 sec - 138.0 sec: Ruminating_pure\n",
    "segment 123 138.0 sec - 139.0 sec: Breath\n",
    "segment 124 139.0 sec - 140.0 sec: Ruminating_pure\n",
    "segment 125 140.0 sec - 140.5 sec: Gulp_pure\n",
    "segment 126 140.5 sec - 141.5 sec: Ruminating_pure\n",
    "segment 127 141.5 sec - 142.5 sec: Breath\n",
    "segment 128 142.5 sec - 144.0 sec: Ruminating_pure\n",
    "segment 129 144.0 sec - 145.5 sec: Breath\n",
    "segment 130 145.5 sec - 147.0 sec: Ruminating_pure\n",
    "segment 131 147.0 sec - 148.0 sec: Breath\n",
    "segment 132 148.0 sec - 149.5 sec: Ruminating_pure\n",
    "segment 133 149.5 sec - 151.0 sec: Breath\n",
    "segment 134 151.0 sec - 152.5 sec: Ruminating_pure\n",
    "segment 135 152.5 sec - 153.5 sec: Breath\n",
    "segment 136 153.5 sec - 155.0 sec: Ruminating_pure\n",
    "segment 137 155.0 sec - 156.0 sec: Breath\n",
    "segment 138 156.0 sec - 157.5 sec: Ruminating_pure\n",
    "segment 139 157.5 sec - 158.5 sec: Breath\n",
    "segment 140 158.5 sec - 160.0 sec: Ruminating_pure\n",
    "segment 141 160.0 sec - 161.5 sec: Breath\n",
    "segment 142 161.5 sec - 163.0 sec: Ruminating_pure\n",
    "segment 143 163.0 sec - 164.0 sec: Breath\n",
    "segment 144 164.0 sec - 165.5 sec: Ruminating_pure\n",
    "segment 145 165.5 sec - 167.0 sec: Breath\n",
    "segment 146 167.0 sec - 169.0 sec: Ruminating_pure\n",
    "segment 147 169.0 sec - 169.5 sec: Gulp_pure\n",
    "segment 148 169.5 sec - 171.5 sec: Ruminating_pure\n",
    "segment 149 171.5 sec - 172.0 sec: Gulp_pure\n",
    "segment 150 172.0 sec - 172.5 sec: Ruminating_pure\n",
    "segment 151 172.5 sec - 173.0 sec: Gulp_pure\n",
    "segment 152 173.0 sec - 174.0 sec: Breath\n",
    "segment 153 174.0 sec - 176.0 sec: Ruminating_pure\n",
    "segment 154 176.0 sec - 176.5 sec: Gulp_pure\n",
    "segment 155 176.5 sec - 177.0 sec: Ruminating_pure\n",
    "segment 156 177.0 sec - 178.0 sec: Breath\n",
    "segment 157 178.0 sec - 179.5 sec: Ruminating_pure\n",
    "\"\"\""
   ]
  }
 ],
 "metadata": {
  "kernelspec": {
   "display_name": "Python 3",
   "language": "python",
   "name": "python3"
  },
  "language_info": {
   "codemirror_mode": {
    "name": "ipython",
    "version": 3
   },
   "file_extension": ".py",
   "mimetype": "text/x-python",
   "name": "python",
   "nbconvert_exporter": "python",
   "pygments_lexer": "ipython3",
   "version": "3.11.5"
  },
  "orig_nbformat": 4
 },
 "nbformat": 4,
 "nbformat_minor": 2
}
