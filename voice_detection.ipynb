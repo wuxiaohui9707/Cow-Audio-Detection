{
 "cells": [
  {
   "cell_type": "code",
   "execution_count": 1,
   "metadata": {},
   "outputs": [
    {
     "ename": "ValueError",
     "evalue": "Could not find any protocol for \"AMI\" database. Please refer to pyannote.database documentation to learn how to define them: https://github.com/pyannote/pyannote-database",
     "output_type": "error",
     "traceback": [
      "\u001b[0;31m---------------------------------------------------------------------------\u001b[0m",
      "\u001b[0;31mKeyError\u001b[0m                                  Traceback (most recent call last)",
      "File \u001b[0;32m~/miniconda3/envs/myenv/lib/python3.8/site-packages/pyannote/database/registry.py:284\u001b[0m, in \u001b[0;36mRegistry.get_database\u001b[0;34m(self, database_name, **kwargs)\u001b[0m\n\u001b[1;32m    283\u001b[0m \u001b[39mtry\u001b[39;00m:\n\u001b[0;32m--> 284\u001b[0m     database \u001b[39m=\u001b[39m \u001b[39mself\u001b[39;49m\u001b[39m.\u001b[39;49mdatabases[database_name]\n\u001b[1;32m    286\u001b[0m \u001b[39mexcept\u001b[39;00m \u001b[39mKeyError\u001b[39;00m:\n",
      "\u001b[0;31mKeyError\u001b[0m: 'AMI'",
      "\nDuring handling of the above exception, another exception occurred:\n",
      "\u001b[0;31mValueError\u001b[0m                                Traceback (most recent call last)",
      "\u001b[1;32m/mnt/e/Files/Github/Cow-Audio-Detection/voice_detection.ipynb 单元格 1\u001b[0m line \u001b[0;36m9\n\u001b[1;32m      <a href='vscode-notebook-cell://wsl%2Bubuntu-20.04/mnt/e/Files/Github/Cow-Audio-Detection/voice_detection.ipynb#W0sdnNjb2RlLXJlbW90ZQ%3D%3D?line=6'>7</a>\u001b[0m \u001b[39m# initialize 'only_words' experimental protocol\u001b[39;00m\n\u001b[1;32m      <a href='vscode-notebook-cell://wsl%2Bubuntu-20.04/mnt/e/Files/Github/Cow-Audio-Detection/voice_detection.ipynb#W0sdnNjb2RlLXJlbW90ZQ%3D%3D?line=7'>8</a>\u001b[0m \u001b[39mfrom\u001b[39;00m \u001b[39mpyannote\u001b[39;00m\u001b[39m.\u001b[39;00m\u001b[39mdatabase\u001b[39;00m \u001b[39mimport\u001b[39;00m get_protocol\n\u001b[0;32m----> <a href='vscode-notebook-cell://wsl%2Bubuntu-20.04/mnt/e/Files/Github/Cow-Audio-Detection/voice_detection.ipynb#W0sdnNjb2RlLXJlbW90ZQ%3D%3D?line=8'>9</a>\u001b[0m only_words \u001b[39m=\u001b[39m get_protocol(\u001b[39m'\u001b[39;49m\u001b[39mAMI.SpeakerDiarization.only_words\u001b[39;49m\u001b[39m'\u001b[39;49m, preprocessors\u001b[39m=\u001b[39;49mpreprocessors)\n\u001b[1;32m     <a href='vscode-notebook-cell://wsl%2Bubuntu-20.04/mnt/e/Files/Github/Cow-Audio-Detection/voice_detection.ipynb#W0sdnNjb2RlLXJlbW90ZQ%3D%3D?line=10'>11</a>\u001b[0m \u001b[39m# iterate over the training set\u001b[39;00m\n\u001b[1;32m     <a href='vscode-notebook-cell://wsl%2Bubuntu-20.04/mnt/e/Files/Github/Cow-Audio-Detection/voice_detection.ipynb#W0sdnNjb2RlLXJlbW90ZQ%3D%3D?line=11'>12</a>\u001b[0m \u001b[39mfor\u001b[39;00m file \u001b[39min\u001b[39;00m only_words\u001b[39m.\u001b[39mtrain():\n",
      "File \u001b[0;32m~/miniconda3/envs/myenv/lib/python3.8/site-packages/pyannote/database/__init__.py:76\u001b[0m, in \u001b[0;36mget_protocol\u001b[0;34m(name, preprocessors)\u001b[0m\n\u001b[1;32m     58\u001b[0m \u001b[39m\u001b[39m\u001b[39m\"\"\"Get protocol by full name\u001b[39;00m\n\u001b[1;32m     59\u001b[0m \n\u001b[1;32m     60\u001b[0m \u001b[39mname : str\u001b[39;00m\n\u001b[0;32m   (...)\u001b[0m\n\u001b[1;32m     71\u001b[0m \u001b[39m    Protocol instance\u001b[39;00m\n\u001b[1;32m     72\u001b[0m \u001b[39m\"\"\"\u001b[39;00m\n\u001b[1;32m     73\u001b[0m warnings\u001b[39m.\u001b[39mwarn(\n\u001b[1;32m     74\u001b[0m     \u001b[39m\"\u001b[39m\u001b[39m`get_protocol` has been deprecated in favor of `pyannote.database.registry.get_protocol`.\u001b[39m\u001b[39m\"\u001b[39m, \n\u001b[1;32m     75\u001b[0m     \u001b[39mDeprecationWarning\u001b[39;00m)\n\u001b[0;32m---> 76\u001b[0m \u001b[39mreturn\u001b[39;00m registry\u001b[39m.\u001b[39;49mget_protocol(name, preprocessors\u001b[39m=\u001b[39;49mpreprocessors)\n",
      "File \u001b[0;32m~/miniconda3/envs/myenv/lib/python3.8/site-packages/pyannote/database/registry.py:325\u001b[0m, in \u001b[0;36mRegistry.get_protocol\u001b[0;34m(self, name, preprocessors)\u001b[0m\n\u001b[1;32m    306\u001b[0m \u001b[39m\u001b[39m\u001b[39m\"\"\"Get protocol by full name\u001b[39;00m\n\u001b[1;32m    307\u001b[0m \n\u001b[1;32m    308\u001b[0m \u001b[39mParameters\u001b[39;00m\n\u001b[0;32m   (...)\u001b[0m\n\u001b[1;32m    321\u001b[0m \u001b[39m    Protocol instance\u001b[39;00m\n\u001b[1;32m    322\u001b[0m \u001b[39m\"\"\"\u001b[39;00m\n\u001b[1;32m    324\u001b[0m database_name, task_name, protocol_name \u001b[39m=\u001b[39m name\u001b[39m.\u001b[39msplit(\u001b[39m\"\u001b[39m\u001b[39m.\u001b[39m\u001b[39m\"\u001b[39m)\n\u001b[0;32m--> 325\u001b[0m database \u001b[39m=\u001b[39m \u001b[39mself\u001b[39;49m\u001b[39m.\u001b[39;49mget_database(database_name)\n\u001b[1;32m    326\u001b[0m protocol \u001b[39m=\u001b[39m database\u001b[39m.\u001b[39mget_protocol(\n\u001b[1;32m    327\u001b[0m     task_name, protocol_name, preprocessors\u001b[39m=\u001b[39mpreprocessors\n\u001b[1;32m    328\u001b[0m )\n\u001b[1;32m    329\u001b[0m protocol\u001b[39m.\u001b[39mname \u001b[39m=\u001b[39m name\n",
      "File \u001b[0;32m~/miniconda3/envs/myenv/lib/python3.8/site-packages/pyannote/database/registry.py:301\u001b[0m, in \u001b[0;36mRegistry.get_database\u001b[0;34m(self, database_name, **kwargs)\u001b[0m\n\u001b[1;32m    295\u001b[0m         msg \u001b[39m=\u001b[39m (\n\u001b[1;32m    296\u001b[0m             \u001b[39m'\u001b[39m\u001b[39mCould not find any protocol for \u001b[39m\u001b[39m\"\u001b[39m\u001b[39m{name}\u001b[39;00m\u001b[39m\"\u001b[39m\u001b[39m database. Please \u001b[39m\u001b[39m'\u001b[39m\n\u001b[1;32m    297\u001b[0m             \u001b[39m\"\u001b[39m\u001b[39mrefer to pyannote.database documentation to learn how to \u001b[39m\u001b[39m\"\u001b[39m\n\u001b[1;32m    298\u001b[0m             \u001b[39m\"\u001b[39m\u001b[39mdefine them: https://github.com/pyannote/pyannote-database\u001b[39m\u001b[39m\"\u001b[39m\n\u001b[1;32m    299\u001b[0m         )\n\u001b[1;32m    300\u001b[0m         msg \u001b[39m=\u001b[39m msg\u001b[39m.\u001b[39mformat(name\u001b[39m=\u001b[39mdatabase_name)\n\u001b[0;32m--> 301\u001b[0m     \u001b[39mraise\u001b[39;00m \u001b[39mValueError\u001b[39;00m(msg)\n\u001b[1;32m    303\u001b[0m \u001b[39mreturn\u001b[39;00m database(\u001b[39m*\u001b[39m\u001b[39m*\u001b[39mkwargs)\n",
      "\u001b[0;31mValueError\u001b[0m: Could not find any protocol for \"AMI\" database. Please refer to pyannote.database documentation to learn how to define them: https://github.com/pyannote/pyannote-database"
     ]
    }
   ],
   "source": [
    "import os\n",
    "os.environ[\"PYANNOTE_DATABASE_CONFIG\"] = os.path.join('mnt', 'e', 'Files', 'Github', 'AMI-diarization-setup', 'pyannote', 'database.yml')\n",
    "# used to automatically find paths to wav files\n",
    "from pyannote.database import FileFinder\n",
    "preprocessors = {'audio': FileFinder()}\n",
    "\n",
    "# initialize 'only_words' experimental protocol\n",
    "from pyannote.database import get_protocol\n",
    "only_words = get_protocol('AMI.SpeakerDiarization.only_words', preprocessors=preprocessors)\n",
    "\n",
    "# iterate over the training set\n",
    "for file in only_words.train():\n",
    "    meeting = file['uri']\n",
    "    reference = file['annotation']\n",
    "    path = file['audio']\n",
    "\n",
    "# iterate over the development set\n",
    "for file in only_words.development():\n",
    "    pass\n",
    "\n",
    "# iterate over the test set\n",
    "for file in only_words.test():\n",
    "    pass\n",
    "\n",
    "# initialize 'word_and_vocalsounds' experimental protocol\n",
    "word_and_vocalsounds = get_protocol('AMI.SpeakerDiarization.word_and_vocalsounds')"
   ]
  },
  {
   "cell_type": "code",
   "execution_count": null,
   "metadata": {},
   "outputs": [],
   "source": [
    "from pyannote.database import get_protocol, FileFinder\n",
    "preprocessors = {\"audio\": FileFinder()}\n",
    "ami = get_protocol('AMI.SpeakerDiarization.only_words', \n",
    "                   preprocessors=preprocessors)"
   ]
  },
  {
   "cell_type": "code",
   "execution_count": null,
   "metadata": {},
   "outputs": [],
   "source": [
    "first_training_file = next(ami.train())\n",
    "reference = first_training_file[\"annotation\"]"
   ]
  },
  {
   "cell_type": "code",
   "execution_count": null,
   "metadata": {},
   "outputs": [],
   "source": []
  }
 ],
 "metadata": {
  "kernelspec": {
   "display_name": "myenv",
   "language": "python",
   "name": "python3"
  },
  "language_info": {
   "codemirror_mode": {
    "name": "ipython",
    "version": 3
   },
   "file_extension": ".py",
   "mimetype": "text/x-python",
   "name": "python",
   "nbconvert_exporter": "python",
   "pygments_lexer": "ipython3",
   "version": "3.8.18"
  }
 },
 "nbformat": 4,
 "nbformat_minor": 2
}
