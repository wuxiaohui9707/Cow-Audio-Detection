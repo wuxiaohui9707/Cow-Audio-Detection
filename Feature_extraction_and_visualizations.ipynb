{
 "cells": [
  {
   "cell_type": "code",
   "execution_count": 8,
   "metadata": {},
   "outputs": [
    {
     "name": "stdout",
     "output_type": "stream",
     "text": [
      "Analyzing file 1 of 30: E:/Files\\Acoustic_Data\\Ruminating\\Ruminating_1.wav\n",
      "Analyzing file 2 of 30: E:/Files\\Acoustic_Data\\Ruminating\\Ruminating_10.wav\n",
      "Analyzing file 3 of 30: E:/Files\\Acoustic_Data\\Ruminating\\Ruminating_11.wav\n",
      "Analyzing file 4 of 30: E:/Files\\Acoustic_Data\\Ruminating\\Ruminating_12.wav\n",
      "Analyzing file 5 of 30: E:/Files\\Acoustic_Data\\Ruminating\\Ruminating_13.wav\n",
      "Analyzing file 6 of 30: E:/Files\\Acoustic_Data\\Ruminating\\Ruminating_14.wav\n",
      "Analyzing file 7 of 30: E:/Files\\Acoustic_Data\\Ruminating\\Ruminating_15.wav\n",
      "Analyzing file 8 of 30: E:/Files\\Acoustic_Data\\Ruminating\\Ruminating_16.wav\n",
      "Analyzing file 9 of 30: E:/Files\\Acoustic_Data\\Ruminating\\Ruminating_17.wav\n",
      "Analyzing file 10 of 30: E:/Files\\Acoustic_Data\\Ruminating\\Ruminating_18.wav\n",
      "Analyzing file 11 of 30: E:/Files\\Acoustic_Data\\Ruminating\\Ruminating_19.wav\n",
      "Analyzing file 12 of 30: E:/Files\\Acoustic_Data\\Ruminating\\Ruminating_2.wav\n",
      "Analyzing file 13 of 30: E:/Files\\Acoustic_Data\\Ruminating\\Ruminating_20.wav\n",
      "Analyzing file 14 of 30: E:/Files\\Acoustic_Data\\Ruminating\\Ruminating_21.wav\n",
      "Analyzing file 15 of 30: E:/Files\\Acoustic_Data\\Ruminating\\Ruminating_22.wav\n",
      "Analyzing file 16 of 30: E:/Files\\Acoustic_Data\\Ruminating\\Ruminating_23.wav\n",
      "Analyzing file 17 of 30: E:/Files\\Acoustic_Data\\Ruminating\\Ruminating_24.wav\n",
      "Analyzing file 18 of 30: E:/Files\\Acoustic_Data\\Ruminating\\Ruminating_25.wav\n",
      "Analyzing file 19 of 30: E:/Files\\Acoustic_Data\\Ruminating\\Ruminating_26.wav\n",
      "Analyzing file 20 of 30: E:/Files\\Acoustic_Data\\Ruminating\\Ruminating_27.wav\n",
      "Analyzing file 21 of 30: E:/Files\\Acoustic_Data\\Ruminating\\Ruminating_28.wav\n",
      "Analyzing file 22 of 30: E:/Files\\Acoustic_Data\\Ruminating\\Ruminating_29.wav\n",
      "Analyzing file 23 of 30: E:/Files\\Acoustic_Data\\Ruminating\\Ruminating_3.wav\n",
      "Analyzing file 24 of 30: E:/Files\\Acoustic_Data\\Ruminating\\Ruminating_30.wav\n",
      "Analyzing file 25 of 30: E:/Files\\Acoustic_Data\\Ruminating\\Ruminating_4.wav\n",
      "Analyzing file 26 of 30: E:/Files\\Acoustic_Data\\Ruminating\\Ruminating_5.wav\n",
      "Analyzing file 27 of 30: E:/Files\\Acoustic_Data\\Ruminating\\Ruminating_6.wav\n",
      "Analyzing file 28 of 30: E:/Files\\Acoustic_Data\\Ruminating\\Ruminating_7.wav\n",
      "Analyzing file 29 of 30: E:/Files\\Acoustic_Data\\Ruminating\\Ruminating_8.wav\n",
      "Analyzing file 30 of 30: E:/Files\\Acoustic_Data\\Ruminating\\Ruminating_9.wav\n",
      "Feature extraction complexity ratio: 73.4 x realtime\n",
      "Analyzing file 1 of 18: E:/Files\\Acoustic_Data\\Gulp\\Gulp_1.wav\n",
      "Analyzing file 2 of 18: E:/Files\\Acoustic_Data\\Gulp\\Gulp_10.wav\n",
      "Analyzing file 3 of 18: E:/Files\\Acoustic_Data\\Gulp\\Gulp_11.wav\n",
      "Analyzing file 4 of 18: E:/Files\\Acoustic_Data\\Gulp\\Gulp_12.wav\n",
      "Analyzing file 5 of 18: E:/Files\\Acoustic_Data\\Gulp\\Gulp_13.wav\n",
      "Analyzing file 6 of 18: E:/Files\\Acoustic_Data\\Gulp\\Gulp_14.wav\n",
      "Analyzing file 7 of 18: E:/Files\\Acoustic_Data\\Gulp\\Gulp_15.wav\n",
      "Analyzing file 8 of 18: E:/Files\\Acoustic_Data\\Gulp\\Gulp_16.wav\n",
      "Analyzing file 9 of 18: E:/Files\\Acoustic_Data\\Gulp\\Gulp_17.wav\n",
      "Analyzing file 10 of 18: E:/Files\\Acoustic_Data\\Gulp\\Gulp_18.wav\n",
      "Analyzing file 11 of 18: E:/Files\\Acoustic_Data\\Gulp\\Gulp_2.wav\n",
      "Analyzing file 12 of 18: E:/Files\\Acoustic_Data\\Gulp\\Gulp_3.wav\n",
      "Analyzing file 13 of 18: E:/Files\\Acoustic_Data\\Gulp\\Gulp_4.wav\n",
      "Analyzing file 14 of 18: E:/Files\\Acoustic_Data\\Gulp\\Gulp_5.wav\n",
      "Analyzing file 15 of 18: E:/Files\\Acoustic_Data\\Gulp\\Gulp_6.wav\n",
      "Analyzing file 16 of 18: E:/Files\\Acoustic_Data\\Gulp\\Gulp_7.wav\n",
      "Analyzing file 17 of 18: E:/Files\\Acoustic_Data\\Gulp\\Gulp_8.wav\n",
      "Analyzing file 18 of 18: E:/Files\\Acoustic_Data\\Gulp\\Gulp_9.wav\n",
      "Feature extraction complexity ratio: 82.0 x realtime\n",
      "Analyzing file 1 of 30: E:/Files\\Acoustic_Data\\Breath\\Breath_1.wav\n",
      "Analyzing file 2 of 30: E:/Files\\Acoustic_Data\\Breath\\Breath_10.wav\n",
      "Analyzing file 3 of 30: E:/Files\\Acoustic_Data\\Breath\\Breath_11.wav\n",
      "Analyzing file 4 of 30: E:/Files\\Acoustic_Data\\Breath\\Breath_12.wav\n",
      "Analyzing file 5 of 30: E:/Files\\Acoustic_Data\\Breath\\Breath_13.wav\n",
      "Analyzing file 6 of 30: E:/Files\\Acoustic_Data\\Breath\\Breath_14.wav\n",
      "Analyzing file 7 of 30: E:/Files\\Acoustic_Data\\Breath\\Breath_15.wav\n",
      "Analyzing file 8 of 30: E:/Files\\Acoustic_Data\\Breath\\Breath_16.wav\n",
      "Analyzing file 9 of 30: E:/Files\\Acoustic_Data\\Breath\\Breath_17.wav\n",
      "Analyzing file 10 of 30: E:/Files\\Acoustic_Data\\Breath\\Breath_18.wav\n",
      "Analyzing file 11 of 30: E:/Files\\Acoustic_Data\\Breath\\Breath_19.wav\n",
      "Analyzing file 12 of 30: E:/Files\\Acoustic_Data\\Breath\\Breath_2.wav\n",
      "Analyzing file 13 of 30: E:/Files\\Acoustic_Data\\Breath\\Breath_20.wav\n",
      "Analyzing file 14 of 30: E:/Files\\Acoustic_Data\\Breath\\Breath_21.wav\n",
      "Analyzing file 15 of 30: E:/Files\\Acoustic_Data\\Breath\\Breath_22.wav\n",
      "Analyzing file 16 of 30: E:/Files\\Acoustic_Data\\Breath\\Breath_23.wav\n",
      "Analyzing file 17 of 30: E:/Files\\Acoustic_Data\\Breath\\Breath_24.wav\n",
      "Analyzing file 18 of 30: E:/Files\\Acoustic_Data\\Breath\\Breath_25.wav\n",
      "Analyzing file 19 of 30: E:/Files\\Acoustic_Data\\Breath\\Breath_26.wav\n",
      "Analyzing file 20 of 30: E:/Files\\Acoustic_Data\\Breath\\Breath_27.wav\n",
      "Analyzing file 21 of 30: E:/Files\\Acoustic_Data\\Breath\\Breath_28.wav\n",
      "Analyzing file 22 of 30: E:/Files\\Acoustic_Data\\Breath\\Breath_29.wav\n",
      "Analyzing file 23 of 30: E:/Files\\Acoustic_Data\\Breath\\Breath_3.wav\n",
      "Analyzing file 24 of 30: E:/Files\\Acoustic_Data\\Breath\\Breath_30.wav\n",
      "Analyzing file 25 of 30: E:/Files\\Acoustic_Data\\Breath\\Breath_4.wav\n",
      "Analyzing file 26 of 30: E:/Files\\Acoustic_Data\\Breath\\Breath_5.wav\n",
      "Analyzing file 27 of 30: E:/Files\\Acoustic_Data\\Breath\\Breath_6.wav\n",
      "Analyzing file 28 of 30: E:/Files\\Acoustic_Data\\Breath\\Breath_7.wav\n",
      "Analyzing file 29 of 30: E:/Files\\Acoustic_Data\\Breath\\Breath_8.wav\n",
      "Analyzing file 30 of 30: E:/Files\\Acoustic_Data\\Breath\\Breath_9.wav\n",
      "Feature extraction complexity ratio: 68.7 x realtime\n",
      "Analyzing file 1 of 9: E:/Files\\Acoustic_Data\\Burp\\Burp_1.wav\n",
      "Analyzing file 2 of 9: E:/Files\\Acoustic_Data\\Burp\\Burp_2.wav\n",
      "Analyzing file 3 of 9: E:/Files\\Acoustic_Data\\Burp\\Burp_3.wav\n",
      "Analyzing file 4 of 9: E:/Files\\Acoustic_Data\\Burp\\Burp_4.wav\n",
      "Analyzing file 5 of 9: E:/Files\\Acoustic_Data\\Burp\\Burp_5.wav\n",
      "Analyzing file 6 of 9: E:/Files\\Acoustic_Data\\Burp\\Burp_6.wav\n",
      "Analyzing file 7 of 9: E:/Files\\Acoustic_Data\\Burp\\Burp_7.wav\n",
      "Analyzing file 8 of 9: E:/Files\\Acoustic_Data\\Burp\\Burp_8.wav\n",
      "Analyzing file 9 of 9: E:/Files\\Acoustic_Data\\Burp\\Burp_9.wav\n",
      "Feature extraction complexity ratio: 49.4 x realtime\n",
      "Feature shapes: [(30, 138), (18, 138), (30, 138), (9, 138)]\n"
     ]
    },
    {
     "data": {
      "application/vnd.plotly.v1+json": {
       "config": {
        "linkText": "Export to plot.ly",
        "plotlyServerURL": "https://plot.ly",
        "showLink": false
       },
       "data": [
        {
         "mode": "markers",
         "name": "Ruminating",
         "type": "scatter",
         "x": [
          0.24969305529816155,
          0.23863770404300938,
          0.22976680613819303,
          0.2157445925500302,
          0.2227232804875021,
          0.2056544254821466,
          0.2447164959348699,
          0.2389623494733636,
          0.25200405987646834,
          0.2118301888079891,
          0.23298667987948132,
          0.22296953117282095,
          0.24063034864927035,
          0.23554443526661864,
          0.23816117047889382,
          0.23549870873134202,
          0.24912116475442792,
          0.2390135582453444,
          0.24017310856635884,
          0.20543853498754616,
          0.19903773286222012,
          0.19030519437325286,
          0.23999689874093288,
          0.1974383230849427,
          0.27617970254522417,
          0.24324423534085943,
          0.22950477438557534,
          0.24918625162592964,
          0.22200662252281067,
          0.25349260805768586
         ],
         "y": [
          3.0971476880114555,
          3.0210545503287793,
          3.0253883518969276,
          2.908604186670193,
          3.067690669824152,
          2.96962354319305,
          3.062118277031603,
          3.1719732857229714,
          2.9827093309728796,
          2.794843551398289,
          2.9963846503966924,
          2.7733089009145573,
          2.6545125876862663,
          2.8841919604013135,
          2.8187226601085866,
          2.914731433870502,
          3.0522163487017213,
          2.9484343698731714,
          3.034690437836264,
          2.754935940215484,
          2.932722389125133,
          2.6559651258417034,
          3.111526590493886,
          2.853469744910899,
          3.0187254584977143,
          3.0405057544066665,
          2.9301067218924746,
          3.094434005173633,
          3.063672728534393,
          3.1057043879710857
         ]
        },
        {
         "mode": "markers",
         "name": "Gulp",
         "type": "scatter",
         "x": [
          0.27069902174198246,
          0.23452494823923442,
          0.22034541644482597,
          0.24885744661756448,
          0.2532998760693125,
          0.258576023714966,
          0.22405017269556796,
          0.23557970582586796,
          0.2697260895613493,
          0.26212936505299556,
          0.20408266204079067,
          0.23821739259581545,
          0.2770239524177665,
          0.27034077485392444,
          0.21290468369508625,
          0.2705823737566091,
          0.2693485581599962,
          0.24504495759877798
         ],
         "y": [
          2.9277889895532865,
          2.654902652915079,
          2.6785159327604715,
          2.8124493546280114,
          2.7576178446029136,
          3.035321248469313,
          2.6414884276243074,
          2.8644023662813787,
          2.8844773669345667,
          2.854632885723018,
          2.3921993227514116,
          2.697489539265109,
          2.9851562295888714,
          2.7170102638736964,
          2.1893433387533343,
          2.8736445721896695,
          2.9689790708149744,
          2.705134061742911
         ]
        },
        {
         "mode": "markers",
         "name": "Breath",
         "type": "scatter",
         "x": [
          0.17436042489552034,
          0.16722762461788265,
          0.13112328034982343,
          0.14859312854344658,
          0.18396151457751678,
          0.1458375585571955,
          0.1491923583866852,
          0.1514838152005034,
          0.16535702198032037,
          0.15912251924679177,
          0.15324136098109253,
          0.2199695895964996,
          0.22986761713591466,
          0.14735099212260877,
          0.19534027965328052,
          0.20694905826897803,
          0.25269644375547096,
          0.18356383350772182,
          0.149566983087839,
          0.18293619362294672,
          0.1682423315272417,
          0.19245523657172717,
          0.2480089524967845,
          0.16668715083365965,
          0.14958730140852147,
          0.15435128161619183,
          0.1556314655158888,
          0.15293328860273464,
          0.14772877480957014,
          0.1649719131994131
         ],
         "y": [
          3.0796148411938615,
          3.1340240236475188,
          2.9113576458584864,
          3.1415313493705828,
          3.0259175553185322,
          3.037971518885756,
          3.042942390483719,
          3.058979286042308,
          3.0859190048943512,
          3.0854677244343085,
          3.1405745871228516,
          3.161838051378795,
          2.5846651677243493,
          3.1548244482548,
          2.9935736608438908,
          3.011168311686342,
          2.7019968361969156,
          2.8781049809659423,
          3.161854362908656,
          2.7928846415824116,
          3.1123810287887856,
          3.0938545152363552,
          3.1240155957026357,
          3.081635577414248,
          3.1330942174811645,
          3.032003203081875,
          3.1777714014188665,
          3.1434897928081718,
          3.1282719743016374,
          3.138543515290705
         ]
        },
        {
         "mode": "markers",
         "name": "Burp",
         "type": "scatter",
         "x": [
          0.05608609687247386,
          0.07707908247833799,
          0.06444437981494297,
          0.07884018765477559,
          0.10207863915539953,
          0.1067623363741861,
          0.060940931219553754,
          0.1041051333494985,
          0.1020477572221605
         ],
         "y": [
          2.6775656976007065,
          2.70807001293561,
          2.5310174600964297,
          2.7973162048706754,
          2.7763177116553868,
          2.8284290276845256,
          2.7534837998394415,
          2.573045272331103,
          2.506008946132571
         ]
        }
       ],
       "layout": {
        "template": {
         "data": {
          "bar": [
           {
            "error_x": {
             "color": "#2a3f5f"
            },
            "error_y": {
             "color": "#2a3f5f"
            },
            "marker": {
             "line": {
              "color": "#E5ECF6",
              "width": 0.5
             },
             "pattern": {
              "fillmode": "overlay",
              "size": 10,
              "solidity": 0.2
             }
            },
            "type": "bar"
           }
          ],
          "barpolar": [
           {
            "marker": {
             "line": {
              "color": "#E5ECF6",
              "width": 0.5
             },
             "pattern": {
              "fillmode": "overlay",
              "size": 10,
              "solidity": 0.2
             }
            },
            "type": "barpolar"
           }
          ],
          "carpet": [
           {
            "aaxis": {
             "endlinecolor": "#2a3f5f",
             "gridcolor": "white",
             "linecolor": "white",
             "minorgridcolor": "white",
             "startlinecolor": "#2a3f5f"
            },
            "baxis": {
             "endlinecolor": "#2a3f5f",
             "gridcolor": "white",
             "linecolor": "white",
             "minorgridcolor": "white",
             "startlinecolor": "#2a3f5f"
            },
            "type": "carpet"
           }
          ],
          "choropleth": [
           {
            "colorbar": {
             "outlinewidth": 0,
             "ticks": ""
            },
            "type": "choropleth"
           }
          ],
          "contour": [
           {
            "colorbar": {
             "outlinewidth": 0,
             "ticks": ""
            },
            "colorscale": [
             [
              0,
              "#0d0887"
             ],
             [
              0.1111111111111111,
              "#46039f"
             ],
             [
              0.2222222222222222,
              "#7201a8"
             ],
             [
              0.3333333333333333,
              "#9c179e"
             ],
             [
              0.4444444444444444,
              "#bd3786"
             ],
             [
              0.5555555555555556,
              "#d8576b"
             ],
             [
              0.6666666666666666,
              "#ed7953"
             ],
             [
              0.7777777777777778,
              "#fb9f3a"
             ],
             [
              0.8888888888888888,
              "#fdca26"
             ],
             [
              1,
              "#f0f921"
             ]
            ],
            "type": "contour"
           }
          ],
          "contourcarpet": [
           {
            "colorbar": {
             "outlinewidth": 0,
             "ticks": ""
            },
            "type": "contourcarpet"
           }
          ],
          "heatmap": [
           {
            "colorbar": {
             "outlinewidth": 0,
             "ticks": ""
            },
            "colorscale": [
             [
              0,
              "#0d0887"
             ],
             [
              0.1111111111111111,
              "#46039f"
             ],
             [
              0.2222222222222222,
              "#7201a8"
             ],
             [
              0.3333333333333333,
              "#9c179e"
             ],
             [
              0.4444444444444444,
              "#bd3786"
             ],
             [
              0.5555555555555556,
              "#d8576b"
             ],
             [
              0.6666666666666666,
              "#ed7953"
             ],
             [
              0.7777777777777778,
              "#fb9f3a"
             ],
             [
              0.8888888888888888,
              "#fdca26"
             ],
             [
              1,
              "#f0f921"
             ]
            ],
            "type": "heatmap"
           }
          ],
          "heatmapgl": [
           {
            "colorbar": {
             "outlinewidth": 0,
             "ticks": ""
            },
            "colorscale": [
             [
              0,
              "#0d0887"
             ],
             [
              0.1111111111111111,
              "#46039f"
             ],
             [
              0.2222222222222222,
              "#7201a8"
             ],
             [
              0.3333333333333333,
              "#9c179e"
             ],
             [
              0.4444444444444444,
              "#bd3786"
             ],
             [
              0.5555555555555556,
              "#d8576b"
             ],
             [
              0.6666666666666666,
              "#ed7953"
             ],
             [
              0.7777777777777778,
              "#fb9f3a"
             ],
             [
              0.8888888888888888,
              "#fdca26"
             ],
             [
              1,
              "#f0f921"
             ]
            ],
            "type": "heatmapgl"
           }
          ],
          "histogram": [
           {
            "marker": {
             "pattern": {
              "fillmode": "overlay",
              "size": 10,
              "solidity": 0.2
             }
            },
            "type": "histogram"
           }
          ],
          "histogram2d": [
           {
            "colorbar": {
             "outlinewidth": 0,
             "ticks": ""
            },
            "colorscale": [
             [
              0,
              "#0d0887"
             ],
             [
              0.1111111111111111,
              "#46039f"
             ],
             [
              0.2222222222222222,
              "#7201a8"
             ],
             [
              0.3333333333333333,
              "#9c179e"
             ],
             [
              0.4444444444444444,
              "#bd3786"
             ],
             [
              0.5555555555555556,
              "#d8576b"
             ],
             [
              0.6666666666666666,
              "#ed7953"
             ],
             [
              0.7777777777777778,
              "#fb9f3a"
             ],
             [
              0.8888888888888888,
              "#fdca26"
             ],
             [
              1,
              "#f0f921"
             ]
            ],
            "type": "histogram2d"
           }
          ],
          "histogram2dcontour": [
           {
            "colorbar": {
             "outlinewidth": 0,
             "ticks": ""
            },
            "colorscale": [
             [
              0,
              "#0d0887"
             ],
             [
              0.1111111111111111,
              "#46039f"
             ],
             [
              0.2222222222222222,
              "#7201a8"
             ],
             [
              0.3333333333333333,
              "#9c179e"
             ],
             [
              0.4444444444444444,
              "#bd3786"
             ],
             [
              0.5555555555555556,
              "#d8576b"
             ],
             [
              0.6666666666666666,
              "#ed7953"
             ],
             [
              0.7777777777777778,
              "#fb9f3a"
             ],
             [
              0.8888888888888888,
              "#fdca26"
             ],
             [
              1,
              "#f0f921"
             ]
            ],
            "type": "histogram2dcontour"
           }
          ],
          "mesh3d": [
           {
            "colorbar": {
             "outlinewidth": 0,
             "ticks": ""
            },
            "type": "mesh3d"
           }
          ],
          "parcoords": [
           {
            "line": {
             "colorbar": {
              "outlinewidth": 0,
              "ticks": ""
             }
            },
            "type": "parcoords"
           }
          ],
          "pie": [
           {
            "automargin": true,
            "type": "pie"
           }
          ],
          "scatter": [
           {
            "fillpattern": {
             "fillmode": "overlay",
             "size": 10,
             "solidity": 0.2
            },
            "type": "scatter"
           }
          ],
          "scatter3d": [
           {
            "line": {
             "colorbar": {
              "outlinewidth": 0,
              "ticks": ""
             }
            },
            "marker": {
             "colorbar": {
              "outlinewidth": 0,
              "ticks": ""
             }
            },
            "type": "scatter3d"
           }
          ],
          "scattercarpet": [
           {
            "marker": {
             "colorbar": {
              "outlinewidth": 0,
              "ticks": ""
             }
            },
            "type": "scattercarpet"
           }
          ],
          "scattergeo": [
           {
            "marker": {
             "colorbar": {
              "outlinewidth": 0,
              "ticks": ""
             }
            },
            "type": "scattergeo"
           }
          ],
          "scattergl": [
           {
            "marker": {
             "colorbar": {
              "outlinewidth": 0,
              "ticks": ""
             }
            },
            "type": "scattergl"
           }
          ],
          "scattermapbox": [
           {
            "marker": {
             "colorbar": {
              "outlinewidth": 0,
              "ticks": ""
             }
            },
            "type": "scattermapbox"
           }
          ],
          "scatterpolar": [
           {
            "marker": {
             "colorbar": {
              "outlinewidth": 0,
              "ticks": ""
             }
            },
            "type": "scatterpolar"
           }
          ],
          "scatterpolargl": [
           {
            "marker": {
             "colorbar": {
              "outlinewidth": 0,
              "ticks": ""
             }
            },
            "type": "scatterpolargl"
           }
          ],
          "scatterternary": [
           {
            "marker": {
             "colorbar": {
              "outlinewidth": 0,
              "ticks": ""
             }
            },
            "type": "scatterternary"
           }
          ],
          "surface": [
           {
            "colorbar": {
             "outlinewidth": 0,
             "ticks": ""
            },
            "colorscale": [
             [
              0,
              "#0d0887"
             ],
             [
              0.1111111111111111,
              "#46039f"
             ],
             [
              0.2222222222222222,
              "#7201a8"
             ],
             [
              0.3333333333333333,
              "#9c179e"
             ],
             [
              0.4444444444444444,
              "#bd3786"
             ],
             [
              0.5555555555555556,
              "#d8576b"
             ],
             [
              0.6666666666666666,
              "#ed7953"
             ],
             [
              0.7777777777777778,
              "#fb9f3a"
             ],
             [
              0.8888888888888888,
              "#fdca26"
             ],
             [
              1,
              "#f0f921"
             ]
            ],
            "type": "surface"
           }
          ],
          "table": [
           {
            "cells": {
             "fill": {
              "color": "#EBF0F8"
             },
             "line": {
              "color": "white"
             }
            },
            "header": {
             "fill": {
              "color": "#C8D4E3"
             },
             "line": {
              "color": "white"
             }
            },
            "type": "table"
           }
          ]
         },
         "layout": {
          "annotationdefaults": {
           "arrowcolor": "#2a3f5f",
           "arrowhead": 0,
           "arrowwidth": 1
          },
          "autotypenumbers": "strict",
          "coloraxis": {
           "colorbar": {
            "outlinewidth": 0,
            "ticks": ""
           }
          },
          "colorscale": {
           "diverging": [
            [
             0,
             "#8e0152"
            ],
            [
             0.1,
             "#c51b7d"
            ],
            [
             0.2,
             "#de77ae"
            ],
            [
             0.3,
             "#f1b6da"
            ],
            [
             0.4,
             "#fde0ef"
            ],
            [
             0.5,
             "#f7f7f7"
            ],
            [
             0.6,
             "#e6f5d0"
            ],
            [
             0.7,
             "#b8e186"
            ],
            [
             0.8,
             "#7fbc41"
            ],
            [
             0.9,
             "#4d9221"
            ],
            [
             1,
             "#276419"
            ]
           ],
           "sequential": [
            [
             0,
             "#0d0887"
            ],
            [
             0.1111111111111111,
             "#46039f"
            ],
            [
             0.2222222222222222,
             "#7201a8"
            ],
            [
             0.3333333333333333,
             "#9c179e"
            ],
            [
             0.4444444444444444,
             "#bd3786"
            ],
            [
             0.5555555555555556,
             "#d8576b"
            ],
            [
             0.6666666666666666,
             "#ed7953"
            ],
            [
             0.7777777777777778,
             "#fb9f3a"
            ],
            [
             0.8888888888888888,
             "#fdca26"
            ],
            [
             1,
             "#f0f921"
            ]
           ],
           "sequentialminus": [
            [
             0,
             "#0d0887"
            ],
            [
             0.1111111111111111,
             "#46039f"
            ],
            [
             0.2222222222222222,
             "#7201a8"
            ],
            [
             0.3333333333333333,
             "#9c179e"
            ],
            [
             0.4444444444444444,
             "#bd3786"
            ],
            [
             0.5555555555555556,
             "#d8576b"
            ],
            [
             0.6666666666666666,
             "#ed7953"
            ],
            [
             0.7777777777777778,
             "#fb9f3a"
            ],
            [
             0.8888888888888888,
             "#fdca26"
            ],
            [
             1,
             "#f0f921"
            ]
           ]
          },
          "colorway": [
           "#636efa",
           "#EF553B",
           "#00cc96",
           "#ab63fa",
           "#FFA15A",
           "#19d3f3",
           "#FF6692",
           "#B6E880",
           "#FF97FF",
           "#FECB52"
          ],
          "font": {
           "color": "#2a3f5f"
          },
          "geo": {
           "bgcolor": "white",
           "lakecolor": "white",
           "landcolor": "#E5ECF6",
           "showlakes": true,
           "showland": true,
           "subunitcolor": "white"
          },
          "hoverlabel": {
           "align": "left"
          },
          "hovermode": "closest",
          "mapbox": {
           "style": "light"
          },
          "paper_bgcolor": "white",
          "plot_bgcolor": "#E5ECF6",
          "polar": {
           "angularaxis": {
            "gridcolor": "white",
            "linecolor": "white",
            "ticks": ""
           },
           "bgcolor": "#E5ECF6",
           "radialaxis": {
            "gridcolor": "white",
            "linecolor": "white",
            "ticks": ""
           }
          },
          "scene": {
           "xaxis": {
            "backgroundcolor": "#E5ECF6",
            "gridcolor": "white",
            "gridwidth": 2,
            "linecolor": "white",
            "showbackground": true,
            "ticks": "",
            "zerolinecolor": "white"
           },
           "yaxis": {
            "backgroundcolor": "#E5ECF6",
            "gridcolor": "white",
            "gridwidth": 2,
            "linecolor": "white",
            "showbackground": true,
            "ticks": "",
            "zerolinecolor": "white"
           },
           "zaxis": {
            "backgroundcolor": "#E5ECF6",
            "gridcolor": "white",
            "gridwidth": 2,
            "linecolor": "white",
            "showbackground": true,
            "ticks": "",
            "zerolinecolor": "white"
           }
          },
          "shapedefaults": {
           "line": {
            "color": "#2a3f5f"
           }
          },
          "ternary": {
           "aaxis": {
            "gridcolor": "white",
            "linecolor": "white",
            "ticks": ""
           },
           "baxis": {
            "gridcolor": "white",
            "linecolor": "white",
            "ticks": ""
           },
           "bgcolor": "#E5ECF6",
           "caxis": {
            "gridcolor": "white",
            "linecolor": "white",
            "ticks": ""
           }
          },
          "title": {
           "x": 0.05
          },
          "xaxis": {
           "automargin": true,
           "gridcolor": "white",
           "linecolor": "white",
           "ticks": "",
           "title": {
            "standoff": 15
           },
           "zerolinecolor": "white",
           "zerolinewidth": 2
          },
          "yaxis": {
           "automargin": true,
           "gridcolor": "white",
           "linecolor": "white",
           "ticks": "",
           "title": {
            "standoff": 15
           },
           "zerolinecolor": "white",
           "zerolinewidth": 2
          }
         }
        },
        "xaxis": {
         "title": {
          "text": "spectral_centroid_mean"
         }
        },
        "yaxis": {
         "title": {
          "text": "energy_entropy_mean"
         }
        }
       }
      }
     },
     "metadata": {},
     "output_type": "display_data"
    },
    {
     "data": {
      "text/plain": [
       "'\\nclass_names = [os.path.basename(d) for d in audio_files] \\nfeatures = [] \\nm_win, m_step, s_win, s_step = 1.0, 0.5, 0.1, 0.05\\nfor d in audio_files: \\n    f, _, fn = aF.directory_feature_extraction(d, m_win, m_step, s_win, s_step) \\n    features.append(f)\\n\\nprint(\"Feature shapes:\", [f.shape for f in features])\\n'"
      ]
     },
     "execution_count": 8,
     "metadata": {},
     "output_type": "execute_result"
    }
   ],
   "source": [
    "import os \n",
    "from pyAudioAnalysis import MidTermFeatures as aF\n",
    "import numpy as np\n",
    "import plotly.graph_objs as go \n",
    "import plotly\n",
    "from utils import Plot_Audio_Features as PAF\n",
    "\n",
    "audio_files = [os.path.join('E:/Files','Acoustic_Data', 'Ruminating'), \n",
    "               os.path.join('E:/Files','Acoustic_Data', 'Gulp'),\n",
    "               os.path.join('E:/Files','Acoustic_Data', 'Breath'),\n",
    "               os.path.join('E:/Files','Acoustic_Data', 'Burp')]\n",
    "feature_names = ['spectral_centroid_mean','energy_entropy_mean']\n",
    "\n",
    "PAF.plot_audio_features(audio_files,feature_names)\n",
    "\"\"\"\n",
    "class_names = [os.path.basename(d) for d in audio_files] \n",
    "features = [] \n",
    "m_win, m_step, s_win, s_step = 1.0, 0.5, 0.1, 0.05\n",
    "for d in audio_files: \n",
    "    f, _, fn = aF.directory_feature_extraction(d, m_win, m_step, s_win, s_step) \n",
    "    features.append(f)\n",
    "\n",
    "print(\"Feature shapes:\", [f.shape for f in features])\n",
    "\"\"\""
   ]
  },
  {
   "cell_type": "code",
   "execution_count": 6,
   "metadata": {},
   "outputs": [
    {
     "name": "stdout",
     "output_type": "stream",
     "text": [
      "Analyzing file 1 of 30: E:/Files\\Acoustic_Data\\Ruminating\\Ruminating_1.wav\n",
      "Analyzing file 2 of 30: E:/Files\\Acoustic_Data\\Ruminating\\Ruminating_10.wav\n",
      "Analyzing file 3 of 30: E:/Files\\Acoustic_Data\\Ruminating\\Ruminating_11.wav\n",
      "Analyzing file 4 of 30: E:/Files\\Acoustic_Data\\Ruminating\\Ruminating_12.wav\n",
      "Analyzing file 5 of 30: E:/Files\\Acoustic_Data\\Ruminating\\Ruminating_13.wav\n",
      "Analyzing file 6 of 30: E:/Files\\Acoustic_Data\\Ruminating\\Ruminating_14.wav\n",
      "Analyzing file 7 of 30: E:/Files\\Acoustic_Data\\Ruminating\\Ruminating_15.wav\n",
      "Analyzing file 8 of 30: E:/Files\\Acoustic_Data\\Ruminating\\Ruminating_16.wav\n",
      "Analyzing file 9 of 30: E:/Files\\Acoustic_Data\\Ruminating\\Ruminating_17.wav\n",
      "Analyzing file 10 of 30: E:/Files\\Acoustic_Data\\Ruminating\\Ruminating_18.wav\n",
      "Analyzing file 11 of 30: E:/Files\\Acoustic_Data\\Ruminating\\Ruminating_19.wav\n",
      "Analyzing file 12 of 30: E:/Files\\Acoustic_Data\\Ruminating\\Ruminating_2.wav\n",
      "Analyzing file 13 of 30: E:/Files\\Acoustic_Data\\Ruminating\\Ruminating_20.wav\n",
      "Analyzing file 14 of 30: E:/Files\\Acoustic_Data\\Ruminating\\Ruminating_21.wav\n",
      "Analyzing file 15 of 30: E:/Files\\Acoustic_Data\\Ruminating\\Ruminating_22.wav\n",
      "Analyzing file 16 of 30: E:/Files\\Acoustic_Data\\Ruminating\\Ruminating_23.wav\n"
     ]
    },
    {
     "name": "stderr",
     "output_type": "stream",
     "text": [
      "e:\\Python\\Lib\\site-packages\\pyAudioAnalysis\\audioBasicIO.py:99: WavFileWarning: Chunk (non-data) not understood, skipping it.\n",
      "  sampling_rate, signal = wavfile.read(input_file) # from scipy.io\n"
     ]
    },
    {
     "name": "stdout",
     "output_type": "stream",
     "text": [
      "Analyzing file 17 of 30: E:/Files\\Acoustic_Data\\Ruminating\\Ruminating_24.wav\n",
      "Analyzing file 18 of 30: E:/Files\\Acoustic_Data\\Ruminating\\Ruminating_25.wav\n",
      "Analyzing file 19 of 30: E:/Files\\Acoustic_Data\\Ruminating\\Ruminating_26.wav\n",
      "Analyzing file 20 of 30: E:/Files\\Acoustic_Data\\Ruminating\\Ruminating_27.wav\n",
      "Analyzing file 21 of 30: E:/Files\\Acoustic_Data\\Ruminating\\Ruminating_28.wav\n",
      "Analyzing file 22 of 30: E:/Files\\Acoustic_Data\\Ruminating\\Ruminating_29.wav\n",
      "Analyzing file 23 of 30: E:/Files\\Acoustic_Data\\Ruminating\\Ruminating_3.wav\n",
      "Analyzing file 24 of 30: E:/Files\\Acoustic_Data\\Ruminating\\Ruminating_30.wav\n",
      "Analyzing file 25 of 30: E:/Files\\Acoustic_Data\\Ruminating\\Ruminating_4.wav\n",
      "Analyzing file 26 of 30: E:/Files\\Acoustic_Data\\Ruminating\\Ruminating_5.wav\n",
      "Analyzing file 27 of 30: E:/Files\\Acoustic_Data\\Ruminating\\Ruminating_6.wav\n",
      "Analyzing file 28 of 30: E:/Files\\Acoustic_Data\\Ruminating\\Ruminating_7.wav\n",
      "Analyzing file 29 of 30: E:/Files\\Acoustic_Data\\Ruminating\\Ruminating_8.wav\n",
      "Analyzing file 30 of 30: E:/Files\\Acoustic_Data\\Ruminating\\Ruminating_9.wav\n",
      "Feature extraction complexity ratio: 74.1 x realtime\n",
      "Analyzing file 1 of 18: E:/Files\\Acoustic_Data\\Gulp\\Gulp_1.wav\n",
      "Analyzing file 2 of 18: E:/Files\\Acoustic_Data\\Gulp\\Gulp_10.wav\n",
      "Analyzing file 3 of 18: E:/Files\\Acoustic_Data\\Gulp\\Gulp_11.wav\n",
      "Analyzing file 4 of 18: E:/Files\\Acoustic_Data\\Gulp\\Gulp_12.wav\n",
      "Analyzing file 5 of 18: E:/Files\\Acoustic_Data\\Gulp\\Gulp_13.wav\n",
      "Analyzing file 6 of 18: E:/Files\\Acoustic_Data\\Gulp\\Gulp_14.wav\n",
      "Analyzing file 7 of 18: E:/Files\\Acoustic_Data\\Gulp\\Gulp_15.wav\n",
      "Analyzing file 8 of 18: E:/Files\\Acoustic_Data\\Gulp\\Gulp_16.wav\n",
      "Analyzing file 9 of 18: E:/Files\\Acoustic_Data\\Gulp\\Gulp_17.wav\n",
      "Analyzing file 10 of 18: E:/Files\\Acoustic_Data\\Gulp\\Gulp_18.wav\n",
      "Analyzing file 11 of 18: E:/Files\\Acoustic_Data\\Gulp\\Gulp_2.wav\n",
      "Analyzing file 12 of 18: E:/Files\\Acoustic_Data\\Gulp\\Gulp_3.wav\n",
      "Analyzing file 13 of 18: E:/Files\\Acoustic_Data\\Gulp\\Gulp_4.wav\n",
      "Analyzing file 14 of 18: E:/Files\\Acoustic_Data\\Gulp\\Gulp_5.wav\n",
      "Analyzing file 15 of 18: E:/Files\\Acoustic_Data\\Gulp\\Gulp_6.wav\n",
      "Analyzing file 16 of 18: E:/Files\\Acoustic_Data\\Gulp\\Gulp_7.wav\n",
      "Analyzing file 17 of 18: E:/Files\\Acoustic_Data\\Gulp\\Gulp_8.wav\n",
      "Analyzing file 18 of 18: E:/Files\\Acoustic_Data\\Gulp\\Gulp_9.wav\n",
      "Feature extraction complexity ratio: 80.8 x realtime\n",
      "Analyzing file 1 of 30: E:/Files\\Acoustic_Data\\Breath\\Breath_1.wav\n",
      "Analyzing file 2 of 30: E:/Files\\Acoustic_Data\\Breath\\Breath_10.wav\n",
      "Analyzing file 3 of 30: E:/Files\\Acoustic_Data\\Breath\\Breath_11.wav\n",
      "Analyzing file 4 of 30: E:/Files\\Acoustic_Data\\Breath\\Breath_12.wav\n",
      "Analyzing file 5 of 30: E:/Files\\Acoustic_Data\\Breath\\Breath_13.wav\n",
      "Analyzing file 6 of 30: E:/Files\\Acoustic_Data\\Breath\\Breath_14.wav\n",
      "Analyzing file 7 of 30: E:/Files\\Acoustic_Data\\Breath\\Breath_15.wav\n",
      "Analyzing file 8 of 30: E:/Files\\Acoustic_Data\\Breath\\Breath_16.wav\n",
      "Analyzing file 9 of 30: E:/Files\\Acoustic_Data\\Breath\\Breath_17.wav\n",
      "Analyzing file 10 of 30: E:/Files\\Acoustic_Data\\Breath\\Breath_18.wav\n",
      "Analyzing file 11 of 30: E:/Files\\Acoustic_Data\\Breath\\Breath_19.wav\n",
      "Analyzing file 12 of 30: E:/Files\\Acoustic_Data\\Breath\\Breath_2.wav\n",
      "Analyzing file 13 of 30: E:/Files\\Acoustic_Data\\Breath\\Breath_20.wav\n",
      "Analyzing file 14 of 30: E:/Files\\Acoustic_Data\\Breath\\Breath_21.wav\n",
      "Analyzing file 15 of 30: E:/Files\\Acoustic_Data\\Breath\\Breath_22.wav\n",
      "Analyzing file 16 of 30: E:/Files\\Acoustic_Data\\Breath\\Breath_23.wav\n",
      "Analyzing file 17 of 30: E:/Files\\Acoustic_Data\\Breath\\Breath_24.wav\n",
      "Analyzing file 18 of 30: E:/Files\\Acoustic_Data\\Breath\\Breath_25.wav\n",
      "Analyzing file 19 of 30: E:/Files\\Acoustic_Data\\Breath\\Breath_26.wav\n",
      "Analyzing file 20 of 30: E:/Files\\Acoustic_Data\\Breath\\Breath_27.wav\n",
      "Analyzing file 21 of 30: E:/Files\\Acoustic_Data\\Breath\\Breath_28.wav\n",
      "Analyzing file 22 of 30: E:/Files\\Acoustic_Data\\Breath\\Breath_29.wav\n",
      "Analyzing file 23 of 30: E:/Files\\Acoustic_Data\\Breath\\Breath_3.wav\n",
      "Analyzing file 24 of 30: E:/Files\\Acoustic_Data\\Breath\\Breath_30.wav\n",
      "Analyzing file 25 of 30: E:/Files\\Acoustic_Data\\Breath\\Breath_4.wav\n",
      "Analyzing file 26 of 30: E:/Files\\Acoustic_Data\\Breath\\Breath_5.wav\n",
      "Analyzing file 27 of 30: E:/Files\\Acoustic_Data\\Breath\\Breath_6.wav\n",
      "Analyzing file 28 of 30: E:/Files\\Acoustic_Data\\Breath\\Breath_7.wav\n",
      "Analyzing file 29 of 30: E:/Files\\Acoustic_Data\\Breath\\Breath_8.wav\n",
      "Analyzing file 30 of 30: E:/Files\\Acoustic_Data\\Breath\\Breath_9.wav\n",
      "Feature extraction complexity ratio: 80.5 x realtime\n",
      "(30, 138) (18, 138)\n"
     ]
    },
    {
     "data": {
      "application/vnd.plotly.v1+json": {
       "config": {
        "linkText": "Export to plot.ly",
        "plotlyServerURL": "https://plot.ly",
        "showLink": false
       },
       "data": [
        {
         "mode": "markers",
         "name": "Ruminating",
         "type": "scatter",
         "x": [
          0.24969305529816155,
          0.23863770404300938,
          0.22976680613819303,
          0.2157445925500302,
          0.2227232804875021,
          0.2056544254821466,
          0.2447164959348699,
          0.2389623494733636,
          0.25200405987646834,
          0.2118301888079891,
          0.23298667987948132,
          0.22296953117282095,
          0.24063034864927035,
          0.23554443526661864,
          0.23816117047889382,
          0.23549870873134202,
          0.24912116475442792,
          0.2390135582453444,
          0.24017310856635884,
          0.20543853498754616,
          0.19903773286222012,
          0.19030519437325286,
          0.23999689874093288,
          0.1974383230849427,
          0.27617970254522417,
          0.24324423534085943,
          0.22950477438557534,
          0.24918625162592964,
          0.22200662252281067,
          0.25349260805768586
         ],
         "y": [
          3.0971476880114555,
          3.0210545503287793,
          3.0253883518969276,
          2.908604186670193,
          3.067690669824152,
          2.96962354319305,
          3.062118277031603,
          3.1719732857229714,
          2.9827093309728796,
          2.794843551398289,
          2.9963846503966924,
          2.7733089009145573,
          2.6545125876862663,
          2.8841919604013135,
          2.8187226601085866,
          2.914731433870502,
          3.0522163487017213,
          2.9484343698731714,
          3.034690437836264,
          2.754935940215484,
          2.932722389125133,
          2.6559651258417034,
          3.111526590493886,
          2.853469744910899,
          3.0187254584977143,
          3.0405057544066665,
          2.9301067218924746,
          3.094434005173633,
          3.063672728534393,
          3.1057043879710857
         ]
        },
        {
         "mode": "markers",
         "name": "Gulp",
         "type": "scatter",
         "x": [
          0.27069902174198246,
          0.23452494823923442,
          0.22034541644482597,
          0.24885744661756448,
          0.2532998760693125,
          0.258576023714966,
          0.22405017269556796,
          0.23557970582586796,
          0.2697260895613493,
          0.26212936505299556,
          0.20408266204079067,
          0.23821739259581545,
          0.2770239524177665,
          0.27034077485392444,
          0.21290468369508625,
          0.2705823737566091,
          0.2693485581599962,
          0.24504495759877798
         ],
         "y": [
          2.9277889895532865,
          2.654902652915079,
          2.6785159327604715,
          2.8124493546280114,
          2.7576178446029136,
          3.035321248469313,
          2.6414884276243074,
          2.8644023662813787,
          2.8844773669345667,
          2.854632885723018,
          2.3921993227514116,
          2.697489539265109,
          2.9851562295888714,
          2.7170102638736964,
          2.1893433387533343,
          2.8736445721896695,
          2.9689790708149744,
          2.705134061742911
         ]
        },
        {
         "mode": "markers",
         "name": "Gulp",
         "type": "scatter",
         "x": [
          0.17436042489552034,
          0.16722762461788265,
          0.13112328034982343,
          0.14859312854344658,
          0.18396151457751678,
          0.1458375585571955,
          0.1491923583866852,
          0.1514838152005034,
          0.16535702198032037,
          0.15912251924679177,
          0.15324136098109253,
          0.2199695895964996,
          0.22986761713591466,
          0.14735099212260877,
          0.19534027965328052,
          0.20694905826897803,
          0.25269644375547096,
          0.18356383350772182,
          0.149566983087839,
          0.18293619362294672,
          0.1682423315272417,
          0.19245523657172717,
          0.2480089524967845,
          0.16668715083365965,
          0.14958730140852147,
          0.15435128161619183,
          0.1556314655158888,
          0.15293328860273464,
          0.14772877480957014,
          0.1649719131994131
         ],
         "y": [
          3.0796148411938615,
          3.1340240236475188,
          2.9113576458584864,
          3.1415313493705828,
          3.0259175553185322,
          3.037971518885756,
          3.042942390483719,
          3.058979286042308,
          3.0859190048943512,
          3.0854677244343085,
          3.1405745871228516,
          3.161838051378795,
          2.5846651677243493,
          3.1548244482548,
          2.9935736608438908,
          3.011168311686342,
          2.7019968361969156,
          2.8781049809659423,
          3.161854362908656,
          2.7928846415824116,
          3.1123810287887856,
          3.0938545152363552,
          3.1240155957026357,
          3.081635577414248,
          3.1330942174811645,
          3.032003203081875,
          3.1777714014188665,
          3.1434897928081718,
          3.1282719743016374,
          3.138543515290705
         ]
        }
       ],
       "layout": {
        "template": {
         "data": {
          "bar": [
           {
            "error_x": {
             "color": "#2a3f5f"
            },
            "error_y": {
             "color": "#2a3f5f"
            },
            "marker": {
             "line": {
              "color": "#E5ECF6",
              "width": 0.5
             },
             "pattern": {
              "fillmode": "overlay",
              "size": 10,
              "solidity": 0.2
             }
            },
            "type": "bar"
           }
          ],
          "barpolar": [
           {
            "marker": {
             "line": {
              "color": "#E5ECF6",
              "width": 0.5
             },
             "pattern": {
              "fillmode": "overlay",
              "size": 10,
              "solidity": 0.2
             }
            },
            "type": "barpolar"
           }
          ],
          "carpet": [
           {
            "aaxis": {
             "endlinecolor": "#2a3f5f",
             "gridcolor": "white",
             "linecolor": "white",
             "minorgridcolor": "white",
             "startlinecolor": "#2a3f5f"
            },
            "baxis": {
             "endlinecolor": "#2a3f5f",
             "gridcolor": "white",
             "linecolor": "white",
             "minorgridcolor": "white",
             "startlinecolor": "#2a3f5f"
            },
            "type": "carpet"
           }
          ],
          "choropleth": [
           {
            "colorbar": {
             "outlinewidth": 0,
             "ticks": ""
            },
            "type": "choropleth"
           }
          ],
          "contour": [
           {
            "colorbar": {
             "outlinewidth": 0,
             "ticks": ""
            },
            "colorscale": [
             [
              0,
              "#0d0887"
             ],
             [
              0.1111111111111111,
              "#46039f"
             ],
             [
              0.2222222222222222,
              "#7201a8"
             ],
             [
              0.3333333333333333,
              "#9c179e"
             ],
             [
              0.4444444444444444,
              "#bd3786"
             ],
             [
              0.5555555555555556,
              "#d8576b"
             ],
             [
              0.6666666666666666,
              "#ed7953"
             ],
             [
              0.7777777777777778,
              "#fb9f3a"
             ],
             [
              0.8888888888888888,
              "#fdca26"
             ],
             [
              1,
              "#f0f921"
             ]
            ],
            "type": "contour"
           }
          ],
          "contourcarpet": [
           {
            "colorbar": {
             "outlinewidth": 0,
             "ticks": ""
            },
            "type": "contourcarpet"
           }
          ],
          "heatmap": [
           {
            "colorbar": {
             "outlinewidth": 0,
             "ticks": ""
            },
            "colorscale": [
             [
              0,
              "#0d0887"
             ],
             [
              0.1111111111111111,
              "#46039f"
             ],
             [
              0.2222222222222222,
              "#7201a8"
             ],
             [
              0.3333333333333333,
              "#9c179e"
             ],
             [
              0.4444444444444444,
              "#bd3786"
             ],
             [
              0.5555555555555556,
              "#d8576b"
             ],
             [
              0.6666666666666666,
              "#ed7953"
             ],
             [
              0.7777777777777778,
              "#fb9f3a"
             ],
             [
              0.8888888888888888,
              "#fdca26"
             ],
             [
              1,
              "#f0f921"
             ]
            ],
            "type": "heatmap"
           }
          ],
          "heatmapgl": [
           {
            "colorbar": {
             "outlinewidth": 0,
             "ticks": ""
            },
            "colorscale": [
             [
              0,
              "#0d0887"
             ],
             [
              0.1111111111111111,
              "#46039f"
             ],
             [
              0.2222222222222222,
              "#7201a8"
             ],
             [
              0.3333333333333333,
              "#9c179e"
             ],
             [
              0.4444444444444444,
              "#bd3786"
             ],
             [
              0.5555555555555556,
              "#d8576b"
             ],
             [
              0.6666666666666666,
              "#ed7953"
             ],
             [
              0.7777777777777778,
              "#fb9f3a"
             ],
             [
              0.8888888888888888,
              "#fdca26"
             ],
             [
              1,
              "#f0f921"
             ]
            ],
            "type": "heatmapgl"
           }
          ],
          "histogram": [
           {
            "marker": {
             "pattern": {
              "fillmode": "overlay",
              "size": 10,
              "solidity": 0.2
             }
            },
            "type": "histogram"
           }
          ],
          "histogram2d": [
           {
            "colorbar": {
             "outlinewidth": 0,
             "ticks": ""
            },
            "colorscale": [
             [
              0,
              "#0d0887"
             ],
             [
              0.1111111111111111,
              "#46039f"
             ],
             [
              0.2222222222222222,
              "#7201a8"
             ],
             [
              0.3333333333333333,
              "#9c179e"
             ],
             [
              0.4444444444444444,
              "#bd3786"
             ],
             [
              0.5555555555555556,
              "#d8576b"
             ],
             [
              0.6666666666666666,
              "#ed7953"
             ],
             [
              0.7777777777777778,
              "#fb9f3a"
             ],
             [
              0.8888888888888888,
              "#fdca26"
             ],
             [
              1,
              "#f0f921"
             ]
            ],
            "type": "histogram2d"
           }
          ],
          "histogram2dcontour": [
           {
            "colorbar": {
             "outlinewidth": 0,
             "ticks": ""
            },
            "colorscale": [
             [
              0,
              "#0d0887"
             ],
             [
              0.1111111111111111,
              "#46039f"
             ],
             [
              0.2222222222222222,
              "#7201a8"
             ],
             [
              0.3333333333333333,
              "#9c179e"
             ],
             [
              0.4444444444444444,
              "#bd3786"
             ],
             [
              0.5555555555555556,
              "#d8576b"
             ],
             [
              0.6666666666666666,
              "#ed7953"
             ],
             [
              0.7777777777777778,
              "#fb9f3a"
             ],
             [
              0.8888888888888888,
              "#fdca26"
             ],
             [
              1,
              "#f0f921"
             ]
            ],
            "type": "histogram2dcontour"
           }
          ],
          "mesh3d": [
           {
            "colorbar": {
             "outlinewidth": 0,
             "ticks": ""
            },
            "type": "mesh3d"
           }
          ],
          "parcoords": [
           {
            "line": {
             "colorbar": {
              "outlinewidth": 0,
              "ticks": ""
             }
            },
            "type": "parcoords"
           }
          ],
          "pie": [
           {
            "automargin": true,
            "type": "pie"
           }
          ],
          "scatter": [
           {
            "fillpattern": {
             "fillmode": "overlay",
             "size": 10,
             "solidity": 0.2
            },
            "type": "scatter"
           }
          ],
          "scatter3d": [
           {
            "line": {
             "colorbar": {
              "outlinewidth": 0,
              "ticks": ""
             }
            },
            "marker": {
             "colorbar": {
              "outlinewidth": 0,
              "ticks": ""
             }
            },
            "type": "scatter3d"
           }
          ],
          "scattercarpet": [
           {
            "marker": {
             "colorbar": {
              "outlinewidth": 0,
              "ticks": ""
             }
            },
            "type": "scattercarpet"
           }
          ],
          "scattergeo": [
           {
            "marker": {
             "colorbar": {
              "outlinewidth": 0,
              "ticks": ""
             }
            },
            "type": "scattergeo"
           }
          ],
          "scattergl": [
           {
            "marker": {
             "colorbar": {
              "outlinewidth": 0,
              "ticks": ""
             }
            },
            "type": "scattergl"
           }
          ],
          "scattermapbox": [
           {
            "marker": {
             "colorbar": {
              "outlinewidth": 0,
              "ticks": ""
             }
            },
            "type": "scattermapbox"
           }
          ],
          "scatterpolar": [
           {
            "marker": {
             "colorbar": {
              "outlinewidth": 0,
              "ticks": ""
             }
            },
            "type": "scatterpolar"
           }
          ],
          "scatterpolargl": [
           {
            "marker": {
             "colorbar": {
              "outlinewidth": 0,
              "ticks": ""
             }
            },
            "type": "scatterpolargl"
           }
          ],
          "scatterternary": [
           {
            "marker": {
             "colorbar": {
              "outlinewidth": 0,
              "ticks": ""
             }
            },
            "type": "scatterternary"
           }
          ],
          "surface": [
           {
            "colorbar": {
             "outlinewidth": 0,
             "ticks": ""
            },
            "colorscale": [
             [
              0,
              "#0d0887"
             ],
             [
              0.1111111111111111,
              "#46039f"
             ],
             [
              0.2222222222222222,
              "#7201a8"
             ],
             [
              0.3333333333333333,
              "#9c179e"
             ],
             [
              0.4444444444444444,
              "#bd3786"
             ],
             [
              0.5555555555555556,
              "#d8576b"
             ],
             [
              0.6666666666666666,
              "#ed7953"
             ],
             [
              0.7777777777777778,
              "#fb9f3a"
             ],
             [
              0.8888888888888888,
              "#fdca26"
             ],
             [
              1,
              "#f0f921"
             ]
            ],
            "type": "surface"
           }
          ],
          "table": [
           {
            "cells": {
             "fill": {
              "color": "#EBF0F8"
             },
             "line": {
              "color": "white"
             }
            },
            "header": {
             "fill": {
              "color": "#C8D4E3"
             },
             "line": {
              "color": "white"
             }
            },
            "type": "table"
           }
          ]
         },
         "layout": {
          "annotationdefaults": {
           "arrowcolor": "#2a3f5f",
           "arrowhead": 0,
           "arrowwidth": 1
          },
          "autotypenumbers": "strict",
          "coloraxis": {
           "colorbar": {
            "outlinewidth": 0,
            "ticks": ""
           }
          },
          "colorscale": {
           "diverging": [
            [
             0,
             "#8e0152"
            ],
            [
             0.1,
             "#c51b7d"
            ],
            [
             0.2,
             "#de77ae"
            ],
            [
             0.3,
             "#f1b6da"
            ],
            [
             0.4,
             "#fde0ef"
            ],
            [
             0.5,
             "#f7f7f7"
            ],
            [
             0.6,
             "#e6f5d0"
            ],
            [
             0.7,
             "#b8e186"
            ],
            [
             0.8,
             "#7fbc41"
            ],
            [
             0.9,
             "#4d9221"
            ],
            [
             1,
             "#276419"
            ]
           ],
           "sequential": [
            [
             0,
             "#0d0887"
            ],
            [
             0.1111111111111111,
             "#46039f"
            ],
            [
             0.2222222222222222,
             "#7201a8"
            ],
            [
             0.3333333333333333,
             "#9c179e"
            ],
            [
             0.4444444444444444,
             "#bd3786"
            ],
            [
             0.5555555555555556,
             "#d8576b"
            ],
            [
             0.6666666666666666,
             "#ed7953"
            ],
            [
             0.7777777777777778,
             "#fb9f3a"
            ],
            [
             0.8888888888888888,
             "#fdca26"
            ],
            [
             1,
             "#f0f921"
            ]
           ],
           "sequentialminus": [
            [
             0,
             "#0d0887"
            ],
            [
             0.1111111111111111,
             "#46039f"
            ],
            [
             0.2222222222222222,
             "#7201a8"
            ],
            [
             0.3333333333333333,
             "#9c179e"
            ],
            [
             0.4444444444444444,
             "#bd3786"
            ],
            [
             0.5555555555555556,
             "#d8576b"
            ],
            [
             0.6666666666666666,
             "#ed7953"
            ],
            [
             0.7777777777777778,
             "#fb9f3a"
            ],
            [
             0.8888888888888888,
             "#fdca26"
            ],
            [
             1,
             "#f0f921"
            ]
           ]
          },
          "colorway": [
           "#636efa",
           "#EF553B",
           "#00cc96",
           "#ab63fa",
           "#FFA15A",
           "#19d3f3",
           "#FF6692",
           "#B6E880",
           "#FF97FF",
           "#FECB52"
          ],
          "font": {
           "color": "#2a3f5f"
          },
          "geo": {
           "bgcolor": "white",
           "lakecolor": "white",
           "landcolor": "#E5ECF6",
           "showlakes": true,
           "showland": true,
           "subunitcolor": "white"
          },
          "hoverlabel": {
           "align": "left"
          },
          "hovermode": "closest",
          "mapbox": {
           "style": "light"
          },
          "paper_bgcolor": "white",
          "plot_bgcolor": "#E5ECF6",
          "polar": {
           "angularaxis": {
            "gridcolor": "white",
            "linecolor": "white",
            "ticks": ""
           },
           "bgcolor": "#E5ECF6",
           "radialaxis": {
            "gridcolor": "white",
            "linecolor": "white",
            "ticks": ""
           }
          },
          "scene": {
           "xaxis": {
            "backgroundcolor": "#E5ECF6",
            "gridcolor": "white",
            "gridwidth": 2,
            "linecolor": "white",
            "showbackground": true,
            "ticks": "",
            "zerolinecolor": "white"
           },
           "yaxis": {
            "backgroundcolor": "#E5ECF6",
            "gridcolor": "white",
            "gridwidth": 2,
            "linecolor": "white",
            "showbackground": true,
            "ticks": "",
            "zerolinecolor": "white"
           },
           "zaxis": {
            "backgroundcolor": "#E5ECF6",
            "gridcolor": "white",
            "gridwidth": 2,
            "linecolor": "white",
            "showbackground": true,
            "ticks": "",
            "zerolinecolor": "white"
           }
          },
          "shapedefaults": {
           "line": {
            "color": "#2a3f5f"
           }
          },
          "ternary": {
           "aaxis": {
            "gridcolor": "white",
            "linecolor": "white",
            "ticks": ""
           },
           "baxis": {
            "gridcolor": "white",
            "linecolor": "white",
            "ticks": ""
           },
           "bgcolor": "#E5ECF6",
           "caxis": {
            "gridcolor": "white",
            "linecolor": "white",
            "ticks": ""
           }
          },
          "title": {
           "x": 0.05
          },
          "xaxis": {
           "automargin": true,
           "gridcolor": "white",
           "linecolor": "white",
           "ticks": "",
           "title": {
            "standoff": 15
           },
           "zerolinecolor": "white",
           "zerolinewidth": 2
          },
          "yaxis": {
           "automargin": true,
           "gridcolor": "white",
           "linecolor": "white",
           "ticks": "",
           "title": {
            "standoff": 15
           },
           "zerolinecolor": "white",
           "zerolinewidth": 2
          }
         }
        },
        "xaxis": {
         "title": {
          "text": "spectral_centroid_mean"
         }
        },
        "yaxis": {
         "title": {
          "text": "energy_entropy_mean"
         }
        }
       }
      }
     },
     "metadata": {},
     "output_type": "display_data"
    }
   ],
   "source": [
    "from pyAudioAnalysis import MidTermFeatures as aF\n",
    "import os\n",
    "import numpy as np\n",
    "import plotly.graph_objs as go \n",
    "import plotly\n",
    "\n",
    "dirs = [os.path.join('E:/Files','Acoustic_Data', 'Ruminating'), \n",
    "               os.path.join('E:/Files','Acoustic_Data', 'Gulp'),\n",
    "               os.path.join('E:/Files','Acoustic_Data', 'Breath')]\n",
    "class_names = [os.path.basename(d) for d in dirs] \n",
    "m_win, m_step, s_win, s_step = 1, 0.5, 0.1, 0.05 \n",
    "\n",
    "# segment-level feature extraction:\n",
    "features = [] \n",
    "for d in dirs: # get feature matrix for each directory (class) \n",
    "    f, files, fn = aF.directory_feature_extraction(d, m_win, m_step, \n",
    "                                                   s_win, s_step) \n",
    "    features.append(f)\n",
    "# (each element of the features list contains a \n",
    "# (samples x segment features) = (10 x 138) feature matrix)\n",
    "print(features[0].shape, features[1].shape)\n",
    "    \n",
    "# select 2 features and create feature matrices for the two classes:\n",
    "f1 = np.array([features[0][:, fn.index('spectral_centroid_mean')],\n",
    "               features[0][:, fn.index('energy_entropy_mean')]])\n",
    "f2 = np.array([features[1][:, fn.index('spectral_centroid_mean')],\n",
    "               features[1][:, fn.index('energy_entropy_mean')]])\n",
    "f3 = np.array([features[2][:, fn.index('spectral_centroid_mean')],\n",
    "               features[2][:, fn.index('energy_entropy_mean')]])\n",
    "\n",
    "# plot 2D features\n",
    "plots = [go.Scatter(x=f1[0, :],  y=f1[1, :], \n",
    "                    name=class_names[0], mode='markers'),\n",
    "        go.Scatter(x=f2[0, :], y=f2[1, :], \n",
    "                    name=class_names[1], mode='markers'),\n",
    "        go.Scatter(x=f3[0, :], y=f3[1, :], \n",
    "                    name=class_names[1], mode='markers'),]\n",
    "mylayout = go.Layout(xaxis=dict(title=\"spectral_centroid_mean\"),\n",
    "                     yaxis=dict(title=\"energy_entropy_mean\"))\n",
    "plotly.offline.iplot(go.Figure(data=plots, layout=mylayout))"
   ]
  }
 ],
 "metadata": {
  "kernelspec": {
   "display_name": "myenv",
   "language": "python",
   "name": "python3"
  },
  "language_info": {
   "codemirror_mode": {
    "name": "ipython",
    "version": 3
   },
   "file_extension": ".py",
   "mimetype": "text/x-python",
   "name": "python",
   "nbconvert_exporter": "python",
   "pygments_lexer": "ipython3",
   "version": "3.11.5"
  }
 },
 "nbformat": 4,
 "nbformat_minor": 2
}
