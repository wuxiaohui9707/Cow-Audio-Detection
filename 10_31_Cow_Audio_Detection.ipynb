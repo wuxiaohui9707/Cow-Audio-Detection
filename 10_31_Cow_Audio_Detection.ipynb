{
 "cells": [
  {
   "cell_type": "code",
   "execution_count": 1,
   "metadata": {},
   "outputs": [
    {
     "name": "stderr",
     "output_type": "stream",
     "text": [
      "/home/wuxiaohui9707/miniconda3/envs/myenv/lib/python3.8/site-packages/pyannote/audio/core/io.py:43: UserWarning: torchaudio._backend.set_audio_backend has been deprecated. With dispatcher enabled, this function is no-op. You can remove the function call.\n",
      "  torchaudio.set_audio_backend(\"soundfile\")\n",
      "/home/wuxiaohui9707/miniconda3/envs/myenv/lib/python3.8/site-packages/torch_audiomentations/utils/io.py:27: UserWarning: torchaudio._backend.set_audio_backend has been deprecated. With dispatcher enabled, this function is no-op. You can remove the function call.\n",
      "  torchaudio.set_audio_backend(\"soundfile\")\n",
      "torchvision is not available - cannot save figures\n"
     ]
    }
   ],
   "source": [
    "from pyannote.core import Annotation\n",
    "from pyannote.pipeline import Optimizer\n",
    "from pyannote.metrics.detection import DetectionErrorRate\n",
    "from pyannote.database import registry, get_protocol, FileFinder\n",
    "from pyannote.audio.tasks import VoiceActivityDetection\n",
    "from pyannote.audio.models.segmentation import PyanNet\n",
    "from pyannote.audio import Inference\n",
    "from pyannote.audio.pipelines import VoiceActivityDetection as VoiceActivityDetectionPipeline\n",
    "from utils import Get_RTTM\n",
    "import pytorch_lightning as pl\n",
    "import os"
   ]
  },
  {
   "cell_type": "markdown",
   "metadata": {},
   "source": [
    "Load Database (The label attempts to separate the different events, but does not indicate the specific event)"
   ]
  },
  {
   "cell_type": "code",
   "execution_count": 7,
   "metadata": {},
   "outputs": [
    {
     "name": "stdout",
     "output_type": "stream",
     "text": [
      "'My_datasets.SpeakerDiarization.Detection' found in /mnt/e/Files/Acoustic_Data/Datasets/yaml/My_Databases.yml does not define the 'scope' of speaker labels (file, database, or global). Setting it to 'file'.\n"
     ]
    }
   ],
   "source": [
    "# Load database and set environment variable\n",
    "registry.load_database(\n",
    "    os.path.join('/mnt/', 'e', 'Files', 'Acoustic_Data', 'Datasets', 'yaml','My_Databases.yml')\n",
    ")\n",
    "os.environ[\"PYANNOTE_DATABASE_CONFIG\"] = os.path.join('/mnt/', 'e', 'Files', 'Acoustic_Data', 'Datasets','yaml', 'My_Databases.yml')"
   ]
  },
  {
   "cell_type": "markdown",
   "metadata": {},
   "source": [
    "Get Protocol"
   ]
  },
  {
   "cell_type": "code",
   "execution_count": 8,
   "metadata": {},
   "outputs": [],
   "source": [
    "# Get protocol and initial training file\n",
    "preprocessors = {\"audio\": FileFinder()}\n",
    "cow_audio = get_protocol('My_datasets.SpeakerDiarization.Detection', preprocessors=preprocessors)"
   ]
  },
  {
   "cell_type": "code",
   "execution_count": 9,
   "metadata": {},
   "outputs": [
    {
     "name": "stderr",
     "output_type": "stream",
     "text": [
      "GPU available: True (cuda), used: True\n",
      "TPU available: False, using: 0 TPU cores\n",
      "IPU available: False, using: 0 IPUs\n",
      "HPU available: False, using: 0 HPUs\n"
     ]
    },
    {
     "name": "stdout",
     "output_type": "stream",
     "text": [
      "Protocol My_datasets.SpeakerDiarization.Detection does not precompute the output of torchaudio.info(): adding a 'torchaudio.info' preprocessor for you to speed up dataloaders. See pyannote.database documentation on how to do that yourself.\n"
     ]
    },
    {
     "name": "stderr",
     "output_type": "stream",
     "text": [
      "LOCAL_RANK: 0 - CUDA_VISIBLE_DEVICES: [0]\n",
      "\n",
      "  | Name              | Type             | Params | In sizes      | Out sizes                                 \n",
      "--------------------------------------------------------------------------------------------------------------------\n",
      "0 | sincnet           | SincNet          | 42.6 K | [1, 1, 24000] | [1, 60, 86]                               \n",
      "1 | lstm              | LSTM             | 589 K  | [1, 86, 60]   | [[1, 86, 256], [[4, 1, 128], [4, 1, 128]]]\n",
      "2 | linear            | ModuleList       | 49.4 K | ?             | ?                                         \n",
      "3 | classifier        | Linear           | 129    | [1, 86, 128]  | [1, 86, 1]                                \n",
      "4 | activation        | Sigmoid          | 0      | [1, 86, 1]    | [1, 86, 1]                                \n",
      "5 | validation_metric | MetricCollection | 0      | ?             | ?                                         \n",
      "--------------------------------------------------------------------------------------------------------------------\n",
      "681 K     Trainable params\n",
      "0         Non-trainable params\n",
      "681 K     Total params\n",
      "2.728     Total estimated model params size (MB)\n"
     ]
    },
    {
     "data": {
      "application/vnd.jupyter.widget-view+json": {
       "model_id": "84410d6449bf47daa6c2cc618b292507",
       "version_major": 2,
       "version_minor": 0
      },
      "text/plain": [
       "Sanity Checking: |          | 0/? [00:00<?, ?it/s]"
      ]
     },
     "metadata": {},
     "output_type": "display_data"
    },
    {
     "data": {
      "application/vnd.jupyter.widget-view+json": {
       "model_id": "d43e96fa0101402482bab58b3dff9c5a",
       "version_major": 2,
       "version_minor": 0
      },
      "text/plain": [
       "Training: |          | 0/? [00:00<?, ?it/s]"
      ]
     },
     "metadata": {},
     "output_type": "display_data"
    },
    {
     "data": {
      "application/vnd.jupyter.widget-view+json": {
       "model_id": "5f81b06329e94b2fa048b377a97dc5ed",
       "version_major": 2,
       "version_minor": 0
      },
      "text/plain": [
       "Validation: |          | 0/? [00:00<?, ?it/s]"
      ]
     },
     "metadata": {},
     "output_type": "display_data"
    },
    {
     "data": {
      "application/vnd.jupyter.widget-view+json": {
       "model_id": "0f386cb43d9c40e8bbe3d6081564c0b6",
       "version_major": 2,
       "version_minor": 0
      },
      "text/plain": [
       "Validation: |          | 0/? [00:00<?, ?it/s]"
      ]
     },
     "metadata": {},
     "output_type": "display_data"
    },
    {
     "data": {
      "application/vnd.jupyter.widget-view+json": {
       "model_id": "be5a28991c0242168a4342cfbaf17b6f",
       "version_major": 2,
       "version_minor": 0
      },
      "text/plain": [
       "Validation: |          | 0/? [00:00<?, ?it/s]"
      ]
     },
     "metadata": {},
     "output_type": "display_data"
    },
    {
     "data": {
      "application/vnd.jupyter.widget-view+json": {
       "model_id": "67d89d8f39b74986968ef0bf7b2a9265",
       "version_major": 2,
       "version_minor": 0
      },
      "text/plain": [
       "Validation: |          | 0/? [00:00<?, ?it/s]"
      ]
     },
     "metadata": {},
     "output_type": "display_data"
    },
    {
     "data": {
      "application/vnd.jupyter.widget-view+json": {
       "model_id": "d06100d7fa194a2ba155a04676055a78",
       "version_major": 2,
       "version_minor": 0
      },
      "text/plain": [
       "Validation: |          | 0/? [00:00<?, ?it/s]"
      ]
     },
     "metadata": {},
     "output_type": "display_data"
    },
    {
     "data": {
      "application/vnd.jupyter.widget-view+json": {
       "model_id": "a4e62550dbf0456890ed2faf8728cbac",
       "version_major": 2,
       "version_minor": 0
      },
      "text/plain": [
       "Validation: |          | 0/? [00:00<?, ?it/s]"
      ]
     },
     "metadata": {},
     "output_type": "display_data"
    },
    {
     "data": {
      "application/vnd.jupyter.widget-view+json": {
       "model_id": "2982f3c6fca540f98bb7e2bfcc05abb4",
       "version_major": 2,
       "version_minor": 0
      },
      "text/plain": [
       "Validation: |          | 0/? [00:00<?, ?it/s]"
      ]
     },
     "metadata": {},
     "output_type": "display_data"
    },
    {
     "data": {
      "application/vnd.jupyter.widget-view+json": {
       "model_id": "75261ad6226d42b7afaf32cbb85efae4",
       "version_major": 2,
       "version_minor": 0
      },
      "text/plain": [
       "Validation: |          | 0/? [00:00<?, ?it/s]"
      ]
     },
     "metadata": {},
     "output_type": "display_data"
    },
    {
     "data": {
      "application/vnd.jupyter.widget-view+json": {
       "model_id": "e49259cc48774293b63981f4e611d91b",
       "version_major": 2,
       "version_minor": 0
      },
      "text/plain": [
       "Validation: |          | 0/? [00:00<?, ?it/s]"
      ]
     },
     "metadata": {},
     "output_type": "display_data"
    },
    {
     "data": {
      "application/vnd.jupyter.widget-view+json": {
       "model_id": "23cf7b9a3c674fa3bbff41c8481d7ba3",
       "version_major": 2,
       "version_minor": 0
      },
      "text/plain": [
       "Validation: |          | 0/? [00:00<?, ?it/s]"
      ]
     },
     "metadata": {},
     "output_type": "display_data"
    },
    {
     "name": "stderr",
     "output_type": "stream",
     "text": [
      "`Trainer.fit` stopped: `max_epochs=10` reached.\n"
     ]
    }
   ],
   "source": [
    "# Train the VAD model\n",
    "vad = VoiceActivityDetection(cow_audio, duration=1.5, batch_size=16)\n",
    "model = PyanNet(sincnet={'stride': 10}, task=vad)\n",
    "model.to(\"cuda\")\n",
    "output_directory = os.path.join('/mnt/', 'e', 'Files', 'Acoustic_Data', 'Datasets')\n",
    "trainer = pl.Trainer(devices=1, accelerator=\"gpu\", max_epochs=10, default_root_dir=output_directory)\n",
    "trainer.fit(model)"
   ]
  },
  {
   "cell_type": "code",
   "execution_count": 10,
   "metadata": {},
   "outputs": [
    {
     "data": {
      "image/png": "[encoded data removed]",
      "text/plain": [
       "<Timeline(uri=Test_1, segments=[<Segment(0, 2.4)>, <Segment(2.51, 3.06)>, <Segment(3.12, 3.59)>, <Segment(3.65, 4.33)>, <Segment(4.47, 4.86)>, <Segment(4.94, 5.49)>, <Segment(5.74, 7.21)>, <Segment(7.46, 8.04)>, <Segment(8.13, 8.6)>, <Segment(8.65, 9.25)>, <Segment(9.29, 9.39)>, <Segment(9.55, 10.17)>, <Segment(10.21, 10.69)>, <Segment(10.74, 11.13)>, <Segment(11.17, 11.84)>, <Segment(11.86, 12.17)>, <Segment(12.47, 12.84)>, <Segment(12.85, 12.96)>, <Segment(12.99, 13.32)>, <Segment(13.38, 13.64)>, <Segment(14.09, 14.87)>, <Segment(15, 15.6)>, <Segment(15.75, 16.24)>, <Segment(16.37, 16.95)>, <Segment(16.98, 17.25)>, <Segment(17.76, 18.08)>, <Segment(18.16, 18.65)>, <Segment(18.69, 18.78)>, <Segment(18.83, 19.3)>, <Segment(19.35, 19.48)>, <Segment(19.53, 20.18)>, <Segment(20.26, 20.73)>, <Segment(20.96, 21.64)>, <Segment(22.17, 22.79)>, <Segment(22.9, 23.33)>, <Segment(23.52, 25.53)>, <Segment(25.55, 25.66)>, <Segment(25.97, 26.28)>, <Segment(26.62, 27.29)>, <Segment(27.39, 27.57)>, <Segment(27.61, 27.77)>, <Segment(28.58, 28.91)>, <Segment(29.05, 29.76)>, <Segment(29.82, 30.1)>, <Segment(30.38, 30.79)>, <Segment(30.87, 31.02)>, <Segment(31.46, 32.05)>, <Segment(32.07, 32.69)>, <Segment(32.76, 33.3)>, <Segment(33.4, 33.61)>, <Segment(33.69, 33.95)>, <Segment(34, 34.4)>, <Segment(34.66, 35.11)>, <Segment(35.28, 36.05)>, <Segment(36.27, 36.65)>, <Segment(36.67, 36.86)>, <Segment(36.88, 37.6)>, <Segment(37.88, 38.36)>, <Segment(38.4, 38.99)>, <Segment(39.02, 39.29)>, <Segment(39.35, 39.67)>, <Segment(39.89, 41.2)>, <Segment(41.42, 41.8)>, <Segment(42.02, 42.51)>, <Segment(42.71, 43.13)>, <Segment(43.21, 43.72)>, <Segment(43.77, 44.03)>, <Segment(44.41, 44.77)>, <Segment(44.79, 45.38)>, <Segment(45.42, 46.2)>, <Segment(46.46, 46.7)>, <Segment(46.75, 47.48)>, <Segment(47.68, 48.16)>, <Segment(48.21, 48.59)>, <Segment(48.7, 48.95)>, <Segment(49.09, 49.32)>, <Segment(49.55, 49.7)>, <Segment(49.78, 49.95)>, <Segment(50.53, 50.86)>, <Segment(51.28, 51.51)>, <Segment(51.62, 52.44)>, <Segment(53.33, 54.05)>, <Segment(54.69, 55.18)>, <Segment(55.24, 55.73)>, <Segment(55.75, 56.37)>, <Segment(56.52, 56.95)>, <Segment(57.09, 57.65)>, <Segment(57.76, 58.84)>, <Segment(58.99, 59.44)>, <Segment(59.53, 60)>])>"
      ]
     },
     "execution_count": 10,
     "metadata": {},
     "output_type": "execute_result"
    }
   ],
   "source": [
    "# Use the trained model for inference\n",
    "test_files = list(cow_audio.test())\n",
    "test_file = test_files[0] \n",
    "inference = Inference(model)\n",
    "vad_probability = inference(test_file)\n",
    "#vad_probability\n",
    "expected_output = test_file[\"annotation\"].get_timeline().support()\n",
    "expected_output"
   ]
  },
  {
   "cell_type": "code",
   "execution_count": 11,
   "metadata": {},
   "outputs": [
    {
     "data": {
      "image/png": "[encoded data removed]",
      "text/plain": [
       "<Timeline(uri=Test_1, segments=[<Segment(0.00872093, 2.38081)>, <Segment(2.53779, 3.06105)>, <Segment(3.13081, 3.60174)>, <Segment(3.77616, 4.89244)>, <Segment(5.03198, 5.53779)>, <Segment(5.92151, 6.35756)>, <Segment(6.63663, 7.24709)>, <Segment(7.4564, 8.01453)>, <Segment(8.32849, 9.44477)>, <Segment(9.54942, 9.95058)>, <Segment(10.0029, 10.1948)>, <Segment(10.2994, 10.6831)>, <Segment(10.8401, 12.2703)>, <Segment(12.4797, 13.6308)>, <Segment(14.0843, 14.8692)>, <Segment(15.2878, 15.6192)>, <Segment(15.7587, 16.282)>, <Segment(16.4738, 17.2936)>, <Segment(17.6076, 18.1134)>, <Segment(18.1657, 18.6192)>, <Segment(18.7064, 20.1366)>, <Segment(20.5378, 20.782)>, <Segment(20.939, 21.689)>, <Segment(22.1773, 22.7355)>, <Segment(22.8576, 23.3808)>, <Segment(23.5378, 24.2703)>, <Segment(24.3924, 24.9331)>, <Segment(25.0727, 25.7006)>, <Segment(25.8401, 26.311)>, <Segment(26.5901, 27.8983)>, <Segment(28.282, 28.4041)>, <Segment(28.5785, 28.9448)>, <Segment(29.0494, 30.1308)>, <Segment(30.4622, 30.7936)>, <Segment(30.8634, 31.0203)>, <Segment(31.1948, 32.7122)>, <Segment(32.8343, 33.6192)>, <Segment(33.8634, 34.439)>, <Segment(34.8052, 35.1715)>, <Segment(35.2762, 35.9564)>, <Segment(36.2878, 36.532)>, <Segment(36.6541, 37.4913)>, <Segment(37.8227, 39.218)>, <Segment(39.375, 39.6715)>, <Segment(39.8983, 41.0494)>, <Segment(41.4506, 41.8169)>, <Segment(42.061, 42.4797)>, <Segment(42.6715, 44.0669)>, <Segment(44.7994, 45.532)>, <Segment(45.7762, 46.2122)>, <Segment(46.4913, 47.5029)>, <Segment(47.7122, 48.6017)>, <Segment(49.0378, 49.4041)>, <Segment(49.5262, 49.7355)>, <Segment(49.7703, 49.9622)>, <Segment(50.4855, 50.9215)>, <Segment(51.2006, 51.532)>, <Segment(51.6192, 52.4041)>, <Segment(53.311, 54.0959)>, <Segment(54.689, 55.1599)>, <Segment(55.2471, 56.3808)>, <Segment(56.5378, 56.9738)>, <Segment(57.0785, 58.1424)>, <Segment(58.4041, 58.8576)>, <Segment(58.9971, 60.0436)>])>"
      ]
     },
     "execution_count": 11,
     "metadata": {},
     "output_type": "execute_result"
    }
   ],
   "source": [
    "# Convert output to timeline and then to RTTM format\n",
    "pipeline = VoiceActivityDetectionPipeline(segmentation=model)\n",
    "initial_params = {\"onset\": 0.6, \"offset\": 0.5, \"min_duration_on\": 0.0, \"min_duration_off\": 0.0}\n",
    "pipeline.instantiate(initial_params)\n",
    "timeline = pipeline(test_file).get_timeline()\n",
    "pipeline(test_file).get_timeline()"
   ]
  },
  {
   "cell_type": "code",
   "execution_count": 12,
   "metadata": {},
   "outputs": [
    {
     "name": "stdout",
     "output_type": "stream",
     "text": [
      "Detection error rate = 22.6%\n"
     ]
    }
   ],
   "source": [
    "metric = DetectionErrorRate()\n",
    "\n",
    "for file in cow_audio.test():\n",
    "    \n",
    "    # apply the voice activity detection pipeline\n",
    "    speech = pipeline(file)\n",
    "\n",
    "    # evaluate its output\n",
    "    _ = metric(\n",
    "        file['annotation'],     # this is the reference annotation\n",
    "        speech,                 # this is the hypothesized annotation\n",
    "        uem=file['annotated'])  # this is the part of the file that should be evaluated\n",
    "    \n",
    "# aggregate the performance over the whole test set\n",
    "detection_error_rate = abs(metric)\n",
    "print(f'Detection error rate = {detection_error_rate * 100:.1f}%')"
   ]
  },
  {
   "cell_type": "code",
   "execution_count": 14,
   "metadata": {},
   "outputs": [
    {
     "name": "stdout",
     "output_type": "stream",
     "text": [
      "{'onset': 0.6, 'offset': 0.5, 'min_duration_on': 0.0, 'min_duration_off': 0.0}\n"
     ]
    },
    {
     "data": {
      "image/png": "[encoded data removed]",
      "text/plain": [
       "<Timeline(uri=Test_1, segments=[<Segment(0.00872093, 2.38081)>, <Segment(2.53779, 3.06105)>, <Segment(3.13081, 3.60174)>, <Segment(3.77616, 4.89244)>, <Segment(5.03198, 5.53779)>, <Segment(5.92151, 6.35756)>, <Segment(6.63663, 7.24709)>, <Segment(7.4564, 8.01453)>, <Segment(8.32849, 9.44477)>, <Segment(9.54942, 9.95058)>, <Segment(10.0029, 10.1948)>, <Segment(10.2994, 10.6831)>, <Segment(10.8401, 12.2703)>, <Segment(12.4797, 13.6308)>, <Segment(14.0843, 14.8692)>, <Segment(15.2878, 15.6192)>, <Segment(15.7587, 16.282)>, <Segment(16.4738, 17.2936)>, <Segment(17.6076, 18.1134)>, <Segment(18.1657, 18.6192)>, <Segment(18.7064, 20.1366)>, <Segment(20.5378, 20.782)>, <Segment(20.939, 21.689)>, <Segment(22.1773, 22.7355)>, <Segment(22.8576, 23.3808)>, <Segment(23.5378, 24.2703)>, <Segment(24.3924, 24.9331)>, <Segment(25.0727, 25.7006)>, <Segment(25.8401, 26.311)>, <Segment(26.5901, 27.8983)>, <Segment(28.282, 28.4041)>, <Segment(28.5785, 28.9448)>, <Segment(29.0494, 30.1308)>, <Segment(30.4622, 30.7936)>, <Segment(30.8634, 31.0203)>, <Segment(31.1948, 32.7122)>, <Segment(32.8343, 33.6192)>, <Segment(33.8634, 34.439)>, <Segment(34.8052, 35.1715)>, <Segment(35.2762, 35.9564)>, <Segment(36.2878, 36.532)>, <Segment(36.6541, 37.4913)>, <Segment(37.8227, 39.218)>, <Segment(39.375, 39.6715)>, <Segment(39.8983, 41.0494)>, <Segment(41.4506, 41.8169)>, <Segment(42.061, 42.4797)>, <Segment(42.6715, 44.0669)>, <Segment(44.7994, 45.532)>, <Segment(45.7762, 46.2122)>, <Segment(46.4913, 47.5029)>, <Segment(47.7122, 48.6017)>, <Segment(49.0378, 49.4041)>, <Segment(49.5262, 49.7355)>, <Segment(49.7703, 49.9622)>, <Segment(50.4855, 50.9215)>, <Segment(51.2006, 51.532)>, <Segment(51.6192, 52.4041)>, <Segment(53.311, 54.0959)>, <Segment(54.689, 55.1599)>, <Segment(55.2471, 56.3808)>, <Segment(56.5378, 56.9738)>, <Segment(57.0785, 58.1424)>, <Segment(58.4041, 58.8576)>, <Segment(58.9971, 60.0436)>])>"
      ]
     },
     "execution_count": 14,
     "metadata": {},
     "output_type": "execute_result"
    }
   ],
   "source": [
    "# Optimize parameters\n",
    "optimizer = Optimizer(pipeline)\n",
    "optimizer.tune(list(cow_audio.development()), \n",
    "               warm_start=initial_params, \n",
    "               n_iterations=20, \n",
    "               show_progress=False)\n",
    "optimized_params = optimizer.best_params\n",
    "print(optimized_params)\n",
    "\n",
    "pipeline.instantiate(optimized_params)\n",
    "optimized_pipeline = pipeline.instantiate(optimized_params)\n",
    "pipeline(test_file).get_timeline()"
   ]
  },
  {
   "cell_type": "code",
   "execution_count": 15,
   "metadata": {},
   "outputs": [
    {
     "name": "stdout",
     "output_type": "stream",
     "text": [
      "Detection error rate = 22.6%\n"
     ]
    }
   ],
   "source": [
    "metric = DetectionErrorRate()\n",
    "\n",
    "for file in cow_audio.test():\n",
    "    speech = optimized_pipeline(file)\n",
    "    _ = metric(file['annotation'], speech, uem=file['annotated'])\n",
    "    \n",
    "detection_error_rate = abs(metric)\n",
    "print(f'Detection error rate = {detection_error_rate * 100:.1f}%')"
   ]
  }
 ],
 "metadata": {
  "kernelspec": {
   "display_name": "myenv",
   "language": "python",
   "name": "python3"
  },
  "language_info": {
   "codemirror_mode": {
    "name": "ipython",
    "version": 3
   },
   "file_extension": ".py",
   "mimetype": "text/x-python",
   "name": "python",
   "nbconvert_exporter": "python",
   "pygments_lexer": "ipython3",
   "version": "3.8.18"
  }
 },
 "nbformat": 4,
 "nbformat_minor": 2
}
